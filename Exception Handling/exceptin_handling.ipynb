{
 "cells": [
  {
   "cell_type": "code",
   "execution_count": 1,
   "id": "d152f956",
   "metadata": {},
   "outputs": [
    {
     "name": "stdout",
     "output_type": "stream",
     "text": [
      "Hello\n"
     ]
    }
   ],
   "source": [
    "try:\n",
    "    print(\"Hello\")\n",
    "    \n",
    "except Exception as e:\n",
    "    print(e)"
   ]
  },
  {
   "cell_type": "code",
   "execution_count": null,
   "id": "26ccfd68",
   "metadata": {},
   "outputs": [
    {
     "name": "stdout",
     "output_type": "stream",
     "text": [
      "division by zero\n"
     ]
    }
   ],
   "source": [
    "try:\n",
    "    result=10/0\n",
    "    \n",
    "except ZeroDivisionError as e:\n",
    "    print(e)"
   ]
  },
  {
   "cell_type": "markdown",
   "id": "3a987ad5",
   "metadata": {},
   "source": [
    "**Multiple Except blocks**"
   ]
  },
  {
   "cell_type": "code",
   "execution_count": 3,
   "id": "90ceb0f5",
   "metadata": {},
   "outputs": [
    {
     "name": "stdout",
     "output_type": "stream",
     "text": [
      "invalid literal for int() with base 10: 'abc'\n"
     ]
    }
   ],
   "source": [
    "try:\n",
    "    value=int(\"abc\")\n",
    "except ValueError as e:\n",
    "    print(e)\n",
    "except ZeroDivisionError as z:\n",
    "    print(z)    "
   ]
  },
  {
   "cell_type": "markdown",
   "id": "dbfbb3c4",
   "metadata": {},
   "source": [
    "**Combined exceptions**"
   ]
  },
  {
   "cell_type": "code",
   "execution_count": 4,
   "id": "3568709f",
   "metadata": {},
   "outputs": [
    {
     "name": "stdout",
     "output_type": "stream",
     "text": [
      "invalid literal for int() with base 10: 'abhi'\n"
     ]
    }
   ],
   "source": [
    "try:\n",
    "    value=int(\"abhi\")\n",
    "    \n",
    "except (ValueError, ZeroDivisionError, TypeError) as e:\n",
    "    print(e)"
   ]
  },
  {
   "cell_type": "markdown",
   "id": "edb19a28",
   "metadata": {},
   "source": [
    "**finaly clause**"
   ]
  },
  {
   "cell_type": "code",
   "execution_count": 5,
   "id": "45e70d0f",
   "metadata": {},
   "outputs": [
    {
     "name": "stdout",
     "output_type": "stream",
     "text": [
      "[Errno 2] No such file or directory: 'example.txt'\n",
      "Closing The File\n"
     ]
    }
   ],
   "source": [
    "try:\n",
    "    file=open(\"example.txt\", \"r\")\n",
    "    content= file.read()\n",
    "\n",
    "except FileNotFoundError as e:\n",
    "    print(e)\n",
    "    \n",
    "finally:\n",
    "    print(\"Closing The File\")\n",
    "    if 'file' in locals() and not file.closed:\n",
    "        file.close()"
   ]
  },
  {
   "cell_type": "markdown",
   "id": "f47f4002",
   "metadata": {},
   "source": [
    "**else clause**"
   ]
  },
  {
   "cell_type": "code",
   "execution_count": 6,
   "id": "27b9f4d6",
   "metadata": {},
   "outputs": [
    {
     "name": "stdout",
     "output_type": "stream",
     "text": [
      "Result: 5.0\n",
      "Operation complete.\n"
     ]
    }
   ],
   "source": [
    "try:\n",
    "    result = 10 / 2\n",
    "except ZeroDivisionError:\n",
    "    print(\"Error: Division by zero.\")\n",
    "else:\n",
    "    print(f\"Result: {result}\")\n",
    "finally:\n",
    "    print(\"Operation complete.\")"
   ]
  },
  {
   "cell_type": "markdown",
   "id": "f7c2bff4",
   "metadata": {},
   "source": [
    "**creating custom exception**"
   ]
  },
  {
   "cell_type": "code",
   "execution_count": 7,
   "id": "170e903d",
   "metadata": {},
   "outputs": [
    {
     "name": "stdout",
     "output_type": "stream",
     "text": [
      "Custom exception caught: Something went wrong!\n"
     ]
    }
   ],
   "source": [
    "class CustomError(Exception):\n",
    "    def __init__(self, message):\n",
    "        super().__init__(message)\n",
    "\n",
    "try:\n",
    "    raise CustomError(\"Something went wrong!\")\n",
    "except CustomError as e:\n",
    "    print(f\"Custom exception caught: {e}\")"
   ]
  },
  {
   "cell_type": "markdown",
   "id": "1fe2bec6",
   "metadata": {},
   "source": [
    "**raising an error**"
   ]
  },
  {
   "cell_type": "code",
   "execution_count": 8,
   "id": "5dadb3b1",
   "metadata": {},
   "outputs": [
    {
     "name": "stdout",
     "output_type": "stream",
     "text": [
      "Error: Age must be at least 18.\n"
     ]
    }
   ],
   "source": [
    "def validate_age(age):\n",
    "    if age < 18:\n",
    "        raise ValueError(\"Age must be at least 18.\")\n",
    "    print(\"Age is valid.\")\n",
    "\n",
    "try:\n",
    "    validate_age(15)\n",
    "except ValueError as e:\n",
    "    print(f\"Error: {e}\")"
   ]
  },
  {
   "cell_type": "code",
   "execution_count": null,
   "id": "e49ceeff",
   "metadata": {},
   "outputs": [],
   "source": []
  }
 ],
 "metadata": {
  "kernelspec": {
   "display_name": "base",
   "language": "python",
   "name": "python3"
  },
  "language_info": {
   "codemirror_mode": {
    "name": "ipython",
    "version": 3
   },
   "file_extension": ".py",
   "mimetype": "text/x-python",
   "name": "python",
   "nbconvert_exporter": "python",
   "pygments_lexer": "ipython3",
   "version": "3.12.7"
  }
 },
 "nbformat": 4,
 "nbformat_minor": 5
}
