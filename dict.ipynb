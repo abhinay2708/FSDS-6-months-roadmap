{
 "cells": [
  {
   "cell_type": "code",
   "execution_count": 1,
   "id": "8cd76235",
   "metadata": {},
   "outputs": [
    {
     "data": {
      "text/plain": [
       "{}"
      ]
     },
     "execution_count": 1,
     "metadata": {},
     "output_type": "execute_result"
    }
   ],
   "source": [
    "d={}\n",
    "d"
   ]
  },
  {
   "cell_type": "code",
   "execution_count": 2,
   "id": "eb7c619b",
   "metadata": {},
   "outputs": [
    {
     "data": {
      "text/plain": [
       "dict"
      ]
     },
     "execution_count": 2,
     "metadata": {},
     "output_type": "execute_result"
    }
   ],
   "source": [
    "type(d)"
   ]
  },
  {
   "cell_type": "code",
   "execution_count": 1,
   "id": "e7f9798d",
   "metadata": {},
   "outputs": [
    {
     "data": {
      "text/plain": [
       "{1: 'one', 2: 'two', 3: 'three'}"
      ]
     },
     "execution_count": 1,
     "metadata": {},
     "output_type": "execute_result"
    }
   ],
   "source": [
    "mydict={1:'one',2:'two',3:'three'}\n",
    "mydict"
   ]
  },
  {
   "cell_type": "code",
   "execution_count": 2,
   "id": "d86cd6fb",
   "metadata": {},
   "outputs": [
    {
     "data": {
      "text/plain": [
       "dict"
      ]
     },
     "execution_count": 2,
     "metadata": {},
     "output_type": "execute_result"
    }
   ],
   "source": [
    "type(mydict)"
   ]
  },
  {
   "cell_type": "code",
   "execution_count": 3,
   "id": "5d8461f2",
   "metadata": {},
   "outputs": [
    {
     "data": {
      "text/plain": [
       "{1: 1, 2: 2, 3: 3}"
      ]
     },
     "execution_count": 3,
     "metadata": {},
     "output_type": "execute_result"
    }
   ],
   "source": [
    "mydict1=dict({1:1,2:2,3:3})\n",
    "mydict1"
   ]
  },
  {
   "cell_type": "code",
   "execution_count": 4,
   "id": "94882822",
   "metadata": {},
   "outputs": [
    {
     "data": {
      "text/plain": [
       "{'a': 1, 'b': 2, 'c': 3}"
      ]
     },
     "execution_count": 4,
     "metadata": {},
     "output_type": "execute_result"
    }
   ],
   "source": [
    "mydict2={'a':1,'b':2,'c':3}\n",
    "mydict2"
   ]
  },
  {
   "cell_type": "code",
   "execution_count": 5,
   "id": "3c48deb3",
   "metadata": {},
   "outputs": [
    {
     "data": {
      "text/plain": [
       "{1: 'a', 'b': 2, 3: 'c'}"
      ]
     },
     "execution_count": 5,
     "metadata": {},
     "output_type": "execute_result"
    }
   ],
   "source": [
    "mydict3={1:'a','b':2,3:'c'}\n",
    "mydict3"
   ]
  },
  {
   "cell_type": "code",
   "execution_count": 6,
   "id": "565dcb0d",
   "metadata": {},
   "outputs": [
    {
     "data": {
      "text/plain": [
       "dict_keys([1, 'b', 3])"
      ]
     },
     "execution_count": 6,
     "metadata": {},
     "output_type": "execute_result"
    }
   ],
   "source": [
    "mydict3.keys()"
   ]
  },
  {
   "cell_type": "code",
   "execution_count": 7,
   "id": "f078a19e",
   "metadata": {},
   "outputs": [
    {
     "data": {
      "text/plain": [
       "dict_values(['a', 2, 'c'])"
      ]
     },
     "execution_count": 7,
     "metadata": {},
     "output_type": "execute_result"
    }
   ],
   "source": [
    "mydict3.values()"
   ]
  },
  {
   "cell_type": "code",
   "execution_count": 8,
   "id": "b90cca55",
   "metadata": {},
   "outputs": [
    {
     "data": {
      "text/plain": [
       "dict_items([(1, 'a'), ('b', 2), (3, 'c')])"
      ]
     },
     "execution_count": 8,
     "metadata": {},
     "output_type": "execute_result"
    }
   ],
   "source": [
    "mydict3.items()"
   ]
  },
  {
   "cell_type": "code",
   "execution_count": 9,
   "id": "6ca5a35f",
   "metadata": {},
   "outputs": [
    {
     "data": {
      "text/plain": [
       "{1: 'one',\n",
       " 2: 'two',\n",
       " 'A': ['abhinay', 'mahato'],\n",
       " 'B': ('Bat', 'Cat', 'Dog'),\n",
       " 'C': {'Name': 'Abhinay', 'Age': 24}}"
      ]
     },
     "execution_count": 9,
     "metadata": {},
     "output_type": "execute_result"
    }
   ],
   "source": [
    "mydict4={1:'one',2:'two','A':['abhinay','mahato'],'B':('Bat','Cat','Dog'),'C':{'Name':'Abhinay','Age':24}}\n",
    "mydict4"
   ]
  },
  {
   "cell_type": "code",
   "execution_count": 10,
   "id": "eb7f4e89",
   "metadata": {},
   "outputs": [
    {
     "data": {
      "text/plain": [
       "{'b': None, 'a': None, 'c': None, 'd': None}"
      ]
     },
     "execution_count": 10,
     "metadata": {},
     "output_type": "execute_result"
    }
   ],
   "source": [
    "keys={'a','b','c','d'}\n",
    "mydict5=dict.fromkeys(keys)\n",
    "mydict5"
   ]
  },
  {
   "cell_type": "code",
   "execution_count": 11,
   "id": "7c1655f2",
   "metadata": {},
   "outputs": [
    {
     "data": {
      "text/plain": [
       "{'b': 10, 'a': 10, 'c': 10, 'd': 10}"
      ]
     },
     "execution_count": 11,
     "metadata": {},
     "output_type": "execute_result"
    }
   ],
   "source": [
    "keys={'a','b','c','d'}\n",
    "value=10\n",
    "mydict5=dict.fromkeys(keys,value)\n",
    "mydict5"
   ]
  },
  {
   "cell_type": "code",
   "execution_count": 16,
   "id": "2143b93d",
   "metadata": {},
   "outputs": [
    {
     "data": {
      "text/plain": [
       "{'b': {10, 20, 30}, 'a': {10, 20, 30}, 'c': {10, 20, 30}, 'd': {10, 20, 30}}"
      ]
     },
     "execution_count": 16,
     "metadata": {},
     "output_type": "execute_result"
    }
   ],
   "source": [
    "keys={'a','b','c','d'}\n",
    "value={10,20,30}\n",
    "mydict5=dict.fromkeys(keys,value)\n",
    "mydict5"
   ]
  },
  {
   "cell_type": "code",
   "execution_count": 18,
   "id": "d83345b0",
   "metadata": {},
   "outputs": [
    {
     "data": {
      "text/plain": [
       "{'b': {10, 20, 30, 40},\n",
       " 'a': {10, 20, 30, 40},\n",
       " 'c': {10, 20, 30, 40},\n",
       " 'd': {10, 20, 30, 40}}"
      ]
     },
     "execution_count": 18,
     "metadata": {},
     "output_type": "execute_result"
    }
   ],
   "source": [
    "value.add(40)\n",
    "mydict5"
   ]
  },
  {
   "cell_type": "code",
   "execution_count": 19,
   "id": "0d80fbff",
   "metadata": {},
   "outputs": [
    {
     "data": {
      "text/plain": [
       "{1: 'one', 2: 'two', 3: 'three'}"
      ]
     },
     "execution_count": 19,
     "metadata": {},
     "output_type": "execute_result"
    }
   ],
   "source": [
    "mydict"
   ]
  },
  {
   "cell_type": "code",
   "execution_count": 20,
   "id": "6ddf07c8",
   "metadata": {},
   "outputs": [
    {
     "data": {
      "text/plain": [
       "'one'"
      ]
     },
     "execution_count": 20,
     "metadata": {},
     "output_type": "execute_result"
    }
   ],
   "source": [
    "mydict[1]"
   ]
  },
  {
   "cell_type": "code",
   "execution_count": 21,
   "id": "c10d6f7d",
   "metadata": {},
   "outputs": [
    {
     "data": {
      "text/plain": [
       "'one'"
      ]
     },
     "execution_count": 21,
     "metadata": {},
     "output_type": "execute_result"
    }
   ],
   "source": [
    "mydict.get(1)"
   ]
  },
  {
   "cell_type": "code",
   "execution_count": 24,
   "id": "41352abd",
   "metadata": {},
   "outputs": [
    {
     "data": {
      "text/plain": [
       "{1: 'one',\n",
       " 2: 'two',\n",
       " 'A': ['abhinay', 'mahato'],\n",
       " 'B': ('Bat', 'Cat', 'Dog'),\n",
       " 'C': {'Name': 'Abhinay', 'Age': 24}}"
      ]
     },
     "execution_count": 24,
     "metadata": {},
     "output_type": "execute_result"
    }
   ],
   "source": [
    "mydict4"
   ]
  },
  {
   "cell_type": "code",
   "execution_count": 25,
   "id": "00b52e12",
   "metadata": {},
   "outputs": [
    {
     "data": {
      "text/plain": [
       "['abhinay', 'mahato']"
      ]
     },
     "execution_count": 25,
     "metadata": {},
     "output_type": "execute_result"
    }
   ],
   "source": [
    "mydict4['A']"
   ]
  },
  {
   "cell_type": "code",
   "execution_count": 29,
   "id": "c80f2a2f",
   "metadata": {},
   "outputs": [
    {
     "data": {
      "text/plain": [
       "'Abhinay'"
      ]
     },
     "execution_count": 29,
     "metadata": {},
     "output_type": "execute_result"
    }
   ],
   "source": [
    "mydict4['C']['Name']"
   ]
  },
  {
   "cell_type": "code",
   "execution_count": 30,
   "id": "5dc46c57",
   "metadata": {},
   "outputs": [],
   "source": [
    "mydict4['A']=['Abhinay','Mahato']"
   ]
  },
  {
   "cell_type": "code",
   "execution_count": 31,
   "id": "4b786782",
   "metadata": {},
   "outputs": [
    {
     "data": {
      "text/plain": [
       "{1: 'one',\n",
       " 2: 'two',\n",
       " 'A': ['Abhinay', 'Mahato'],\n",
       " 'B': ('Bat', 'Cat', 'Dog'),\n",
       " 'C': {'Name': 'Abhinay', 'Age': 24}}"
      ]
     },
     "execution_count": 31,
     "metadata": {},
     "output_type": "execute_result"
    }
   ],
   "source": [
    "mydict4"
   ]
  },
  {
   "cell_type": "code",
   "execution_count": 32,
   "id": "27ef0932",
   "metadata": {},
   "outputs": [
    {
     "data": {
      "text/plain": [
       "{1: 'one',\n",
       " 2: 'two',\n",
       " 'A': ['Abhinay', 'Mahato'],\n",
       " 'B': ('Bat', 'Cat', 'Dog'),\n",
       " 'C': {'Name': 'Abhinay', 'Age': 24},\n",
       " 'DOB': 2001}"
      ]
     },
     "execution_count": 32,
     "metadata": {},
     "output_type": "execute_result"
    }
   ],
   "source": [
    "dict1={'DOB':2001}\n",
    "mydict4.update(dict1)\n",
    "mydict4"
   ]
  },
  {
   "cell_type": "code",
   "execution_count": 33,
   "id": "3796f6af",
   "metadata": {},
   "outputs": [
    {
     "data": {
      "text/plain": [
       "2001"
      ]
     },
     "execution_count": 33,
     "metadata": {},
     "output_type": "execute_result"
    }
   ],
   "source": [
    "mydict4.pop('DOB')"
   ]
  },
  {
   "cell_type": "code",
   "execution_count": 34,
   "id": "c407a76b",
   "metadata": {},
   "outputs": [
    {
     "data": {
      "text/plain": [
       "{1: 'one',\n",
       " 2: 'two',\n",
       " 'A': ['Abhinay', 'Mahato'],\n",
       " 'B': ('Bat', 'Cat', 'Dog'),\n",
       " 'C': {'Name': 'Abhinay', 'Age': 24}}"
      ]
     },
     "execution_count": 34,
     "metadata": {},
     "output_type": "execute_result"
    }
   ],
   "source": [
    "mydict4"
   ]
  },
  {
   "cell_type": "code",
   "execution_count": 36,
   "id": "38f865d3",
   "metadata": {},
   "outputs": [
    {
     "data": {
      "text/plain": [
       "('C', {'Name': 'Abhinay', 'Age': 24})"
      ]
     },
     "execution_count": 36,
     "metadata": {},
     "output_type": "execute_result"
    }
   ],
   "source": [
    "mydict4.popitem()"
   ]
  },
  {
   "cell_type": "code",
   "execution_count": 37,
   "id": "b81546fb",
   "metadata": {},
   "outputs": [
    {
     "data": {
      "text/plain": [
       "{1: 'one', 2: 'two', 'A': ['Abhinay', 'Mahato'], 'B': ('Bat', 'Cat', 'Dog')}"
      ]
     },
     "execution_count": 37,
     "metadata": {},
     "output_type": "execute_result"
    }
   ],
   "source": [
    "mydict4"
   ]
  },
  {
   "cell_type": "code",
   "execution_count": 38,
   "id": "c5000b8b",
   "metadata": {},
   "outputs": [],
   "source": [
    "del[mydict4[1]]"
   ]
  },
  {
   "cell_type": "code",
   "execution_count": 39,
   "id": "4a209c1c",
   "metadata": {},
   "outputs": [
    {
     "data": {
      "text/plain": [
       "{2: 'two', 'A': ['Abhinay', 'Mahato'], 'B': ('Bat', 'Cat', 'Dog')}"
      ]
     },
     "execution_count": 39,
     "metadata": {},
     "output_type": "execute_result"
    }
   ],
   "source": [
    "mydict4"
   ]
  },
  {
   "cell_type": "code",
   "execution_count": 40,
   "id": "77484610",
   "metadata": {},
   "outputs": [],
   "source": [
    "mydict4.clear()"
   ]
  },
  {
   "cell_type": "code",
   "execution_count": 41,
   "id": "32f383d3",
   "metadata": {},
   "outputs": [
    {
     "data": {
      "text/plain": [
       "{}"
      ]
     },
     "execution_count": 41,
     "metadata": {},
     "output_type": "execute_result"
    }
   ],
   "source": [
    "mydict4"
   ]
  },
  {
   "cell_type": "code",
   "execution_count": 42,
   "id": "eae4d3ff",
   "metadata": {},
   "outputs": [
    {
     "data": {
      "text/plain": [
       "{1: 'one', 2: 'two', 3: 'three'}"
      ]
     },
     "execution_count": 42,
     "metadata": {},
     "output_type": "execute_result"
    }
   ],
   "source": [
    "mydict"
   ]
  },
  {
   "cell_type": "code",
   "execution_count": 43,
   "id": "74958901",
   "metadata": {},
   "outputs": [],
   "source": [
    "mydict4=mydict"
   ]
  },
  {
   "cell_type": "code",
   "execution_count": 44,
   "id": "87c47ba7",
   "metadata": {},
   "outputs": [
    {
     "data": {
      "text/plain": [
       "{1: 'one', 2: 'two', 3: 'three'}"
      ]
     },
     "execution_count": 44,
     "metadata": {},
     "output_type": "execute_result"
    }
   ],
   "source": [
    "mydict4"
   ]
  },
  {
   "cell_type": "code",
   "execution_count": 45,
   "id": "16621792",
   "metadata": {},
   "outputs": [
    {
     "data": {
      "text/plain": [
       "(1548746169088, 1548746169088)"
      ]
     },
     "execution_count": 45,
     "metadata": {},
     "output_type": "execute_result"
    }
   ],
   "source": [
    "id(mydict),id(mydict4)"
   ]
  },
  {
   "cell_type": "code",
   "execution_count": 46,
   "id": "78dd8537",
   "metadata": {},
   "outputs": [],
   "source": [
    "mydict6=mydict.copy()"
   ]
  },
  {
   "cell_type": "code",
   "execution_count": 47,
   "id": "c4730057",
   "metadata": {},
   "outputs": [
    {
     "data": {
      "text/plain": [
       "{1: 'one', 2: 'two', 3: 'three'}"
      ]
     },
     "execution_count": 47,
     "metadata": {},
     "output_type": "execute_result"
    }
   ],
   "source": [
    "mydict6"
   ]
  },
  {
   "cell_type": "code",
   "execution_count": 48,
   "id": "dfb27ae1",
   "metadata": {},
   "outputs": [
    {
     "data": {
      "text/plain": [
       "1548761053056"
      ]
     },
     "execution_count": 48,
     "metadata": {},
     "output_type": "execute_result"
    }
   ],
   "source": [
    "id(mydict6)"
   ]
  },
  {
   "cell_type": "code",
   "execution_count": 49,
   "id": "aff27b07",
   "metadata": {},
   "outputs": [],
   "source": [
    "mydict['A']='Abhinay'"
   ]
  },
  {
   "cell_type": "code",
   "execution_count": 50,
   "id": "a735217c",
   "metadata": {},
   "outputs": [
    {
     "data": {
      "text/plain": [
       "{1: 'one', 2: 'two', 3: 'three', 'A': 'Abhinay'}"
      ]
     },
     "execution_count": 50,
     "metadata": {},
     "output_type": "execute_result"
    }
   ],
   "source": [
    "mydict"
   ]
  },
  {
   "cell_type": "code",
   "execution_count": 51,
   "id": "18c4f421",
   "metadata": {},
   "outputs": [
    {
     "data": {
      "text/plain": [
       "{1: 'one', 2: 'two', 3: 'three', 'A': 'Abhinay'}"
      ]
     },
     "execution_count": 51,
     "metadata": {},
     "output_type": "execute_result"
    }
   ],
   "source": [
    "mydict4"
   ]
  },
  {
   "cell_type": "code",
   "execution_count": 52,
   "id": "ab138339",
   "metadata": {},
   "outputs": [
    {
     "data": {
      "text/plain": [
       "{1: 'one', 2: 'two', 3: 'three'}"
      ]
     },
     "execution_count": 52,
     "metadata": {},
     "output_type": "execute_result"
    }
   ],
   "source": [
    "mydict6"
   ]
  },
  {
   "cell_type": "code",
   "execution_count": 53,
   "id": "450bf3a2",
   "metadata": {},
   "outputs": [
    {
     "data": {
      "text/plain": [
       "{'b': {10, 20, 30, 40},\n",
       " 'a': {10, 20, 30, 40},\n",
       " 'c': {10, 20, 30, 40},\n",
       " 'd': {10, 20, 30, 40}}"
      ]
     },
     "execution_count": 53,
     "metadata": {},
     "output_type": "execute_result"
    }
   ],
   "source": [
    "mydict5"
   ]
  },
  {
   "cell_type": "code",
   "execution_count": 56,
   "id": "c41ee858",
   "metadata": {},
   "outputs": [
    {
     "name": "stdout",
     "output_type": "stream",
     "text": [
      "b : {40, 10, 20, 30}\n",
      "a : {40, 10, 20, 30}\n",
      "c : {40, 10, 20, 30}\n",
      "d : {40, 10, 20, 30}\n"
     ]
    }
   ],
   "source": [
    "for i in mydict5:\n",
    "    print(i, ':',mydict5[i])"
   ]
  },
  {
   "cell_type": "code",
   "execution_count": 58,
   "id": "a57566a9",
   "metadata": {},
   "outputs": [
    {
     "name": "stdout",
     "output_type": "stream",
     "text": [
      "{40, 10, 20, 30}\n",
      "{40, 10, 20, 30}\n",
      "{40, 10, 20, 30}\n",
      "{40, 10, 20, 30}\n"
     ]
    }
   ],
   "source": [
    "for i in mydict5:\n",
    "    print(mydict5[i])"
   ]
  },
  {
   "cell_type": "code",
   "execution_count": 59,
   "id": "77f4f86e",
   "metadata": {},
   "outputs": [
    {
     "data": {
      "text/plain": [
       "{1: 'a', 'b': 2, 3: 'c'}"
      ]
     },
     "execution_count": 59,
     "metadata": {},
     "output_type": "execute_result"
    }
   ],
   "source": [
    "mydict3"
   ]
  },
  {
   "cell_type": "code",
   "execution_count": 60,
   "id": "dcfd3be8",
   "metadata": {},
   "outputs": [
    {
     "data": {
      "text/plain": [
       "True"
      ]
     },
     "execution_count": 60,
     "metadata": {},
     "output_type": "execute_result"
    }
   ],
   "source": [
    "1 in mydict3"
   ]
  },
  {
   "cell_type": "code",
   "execution_count": 61,
   "id": "bec53f3c",
   "metadata": {},
   "outputs": [
    {
     "data": {
      "text/plain": [
       "False"
      ]
     },
     "execution_count": 61,
     "metadata": {},
     "output_type": "execute_result"
    }
   ],
   "source": [
    "'a' in mydict3"
   ]
  },
  {
   "cell_type": "code",
   "execution_count": 62,
   "id": "ccc89c40",
   "metadata": {},
   "outputs": [
    {
     "data": {
      "text/plain": [
       "True"
      ]
     },
     "execution_count": 62,
     "metadata": {},
     "output_type": "execute_result"
    }
   ],
   "source": [
    "3 in mydict3"
   ]
  },
  {
   "cell_type": "code",
   "execution_count": 63,
   "id": "27a92efe",
   "metadata": {},
   "outputs": [
    {
     "data": {
      "text/plain": [
       "True"
      ]
     },
     "execution_count": 63,
     "metadata": {},
     "output_type": "execute_result"
    }
   ],
   "source": [
    "all(mydict3)"
   ]
  },
  {
   "cell_type": "code",
   "execution_count": 64,
   "id": "a61f385e",
   "metadata": {},
   "outputs": [
    {
     "data": {
      "text/plain": [
       "True"
      ]
     },
     "execution_count": 64,
     "metadata": {},
     "output_type": "execute_result"
    }
   ],
   "source": [
    "any(mydict3)"
   ]
  },
  {
   "cell_type": "code",
   "execution_count": null,
   "id": "43a32cb0",
   "metadata": {},
   "outputs": [],
   "source": []
  }
 ],
 "metadata": {
  "kernelspec": {
   "display_name": "base",
   "language": "python",
   "name": "python3"
  },
  "language_info": {
   "codemirror_mode": {
    "name": "ipython",
    "version": 3
   },
   "file_extension": ".py",
   "mimetype": "text/x-python",
   "name": "python",
   "nbconvert_exporter": "python",
   "pygments_lexer": "ipython3",
   "version": "3.12.7"
  }
 },
 "nbformat": 4,
 "nbformat_minor": 5
}
