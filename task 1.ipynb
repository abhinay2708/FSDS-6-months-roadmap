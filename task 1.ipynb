{
 "cells": [
  {
   "cell_type": "markdown",
   "id": "e874e71e-7d02-40e0-a450-283ff1c9a62d",
   "metadata": {},
   "source": [
    "#Arithmetic operators"
   ]
  },
  {
   "cell_type": "code",
   "execution_count": 7,
   "id": "a1a08a49-74c4-4365-996d-07cba312cf99",
   "metadata": {},
   "outputs": [
    {
     "name": "stdin",
     "output_type": "stream",
     "text": [
      "Enter the first number: 5\n",
      "Enter the second number: 2\n"
     ]
    },
    {
     "name": "stdout",
     "output_type": "stream",
     "text": [
      "Sum of the two numbers= 7\n",
      "Subtraction of the two number= 3\n",
      "Multiplication of the numbers= 10\n",
      "Divison of two numbers= 2.5\n",
      "Floor divison of te two number= 2\n",
      "Modulus of two number= 1\n",
      "Exponential = 25\n"
     ]
    }
   ],
   "source": [
    "a=int(input(\"Enter the first number:\"))\n",
    "b=int(input(\"Enter the second number:\"))\n",
    "print(\"Sum of the two numbers=\",(a+b))\n",
    "print(\"Subtraction of the two number=\",(a-b))\n",
    "print(\"Multiplication of the numbers=\",(a*b))\n",
    "print(\"Divison of two numbers=\",(a/b))\n",
    "print(\"Floor divison of the two number=\",(a//b))\n",
    "print(\"Modulus of two number=\",(a%b))\n",
    "print(\"Exponential =\",(a**b))"
   ]
  },
  {
   "cell_type": "markdown",
   "id": "b89da1f1-5255-48db-a8d1-143312129a3c",
   "metadata": {},
   "source": [
    "#Checking Data Types"
   ]
  },
  {
   "cell_type": "code",
   "execution_count": 11,
   "id": "26f2c89e-78e4-4540-8710-d1b9ab671888",
   "metadata": {},
   "outputs": [
    {
     "name": "stdout",
     "output_type": "stream",
     "text": [
      "<class 'int'>\n",
      "<class 'str'>\n",
      "<class 'float'>\n",
      "<class 'complex'>\n",
      "<class 'list'>\n",
      "<class 'set'>\n",
      "<class 'tuple'>\n",
      "<class 'bool'>\n",
      "<class 'bool'>\n",
      "<class 'dict'>\n"
     ]
    }
   ],
   "source": [
    "print(type(10))\n",
    "print(type('Abhinay'))\n",
    "print(type(19.5))\n",
    "print(type(2+3j))\n",
    "print(type([1,2,3,4]))\n",
    "print(type({1,2,3,4}))\n",
    "print(type((1,2,3,4)))\n",
    "print(type(3==3))\n",
    "print(type(3>=3))\n",
    "print(type({'name':'Abhinay'}))"
   ]
  },
  {
   "cell_type": "code",
   "execution_count": 21,
   "id": "b2598d7f-3a55-4b27-a77d-22866b9245a5",
   "metadata": {},
   "outputs": [
    {
     "name": "stdout",
     "output_type": "stream",
     "text": [
      "3\n",
      "25\n",
      "1\n",
      "0\n"
     ]
    }
   ],
   "source": [
    "print(int(3.2))\n",
    "print(int('25'))\n",
    "print(int(True))\n",
    "print(int(False))"
   ]
  },
  {
   "cell_type": "code",
   "execution_count": 1,
   "id": "dc196473-8927-4a1d-8a57-d9759a0515d3",
   "metadata": {},
   "outputs": [
    {
     "name": "stdout",
     "output_type": "stream",
     "text": [
      "32.0\n",
      "55.0\n",
      "1.0\n",
      "0.0\n"
     ]
    }
   ],
   "source": [
    "print(float(32))\n",
    "print(float('55'))\n",
    "print(float(True))\n",
    "print(float(False))"
   ]
  },
  {
   "cell_type": "code",
   "execution_count": 3,
   "id": "df3c8ade-c4a8-4978-8c4d-e0a80490954b",
   "metadata": {},
   "outputs": [
    {
     "name": "stdout",
     "output_type": "stream",
     "text": [
      "22\n",
      "32.32\n",
      "True\n",
      "False\n"
     ]
    }
   ],
   "source": [
    "print(str(22))\n",
    "print(str(32.32))\n",
    "print(str(True))\n",
    "print(str(False))"
   ]
  },
  {
   "cell_type": "code",
   "execution_count": 5,
   "id": "cae05711-1130-4e11-a15e-981920f8132d",
   "metadata": {},
   "outputs": [
    {
     "name": "stdout",
     "output_type": "stream",
     "text": [
      "(2+0j)\n",
      "(12+0j)\n",
      "(1+0j)\n",
      "0j\n"
     ]
    }
   ],
   "source": [
    "print(complex(2))\n",
    "print(complex('12'))\n",
    "print(complex(True))\n",
    "print(complex(False))"
   ]
  },
  {
   "cell_type": "code",
   "execution_count": null,
   "id": "0074ee48-6880-43c3-9ccf-dce97e754ee1",
   "metadata": {},
   "outputs": [],
   "source": []
  }
 ],
 "metadata": {
  "kernelspec": {
   "display_name": "Python [conda env:base] *",
   "language": "python",
   "name": "conda-base-py"
  },
  "language_info": {
   "codemirror_mode": {
    "name": "ipython",
    "version": 3
   },
   "file_extension": ".py",
   "mimetype": "text/x-python",
   "name": "python",
   "nbconvert_exporter": "python",
   "pygments_lexer": "ipython3",
   "version": "3.12.7"
  }
 },
 "nbformat": 4,
 "nbformat_minor": 5
}
