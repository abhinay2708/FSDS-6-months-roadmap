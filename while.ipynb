{
 "cells": [
  {
   "cell_type": "code",
   "execution_count": 1,
   "id": "0a5ece95",
   "metadata": {},
   "outputs": [
    {
     "name": "stdout",
     "output_type": "stream",
     "text": [
      "Abhinay\n",
      "Abhinay\n",
      "Abhinay\n",
      "Abhinay\n",
      "Abhinay\n"
     ]
    }
   ],
   "source": [
    "i=1\n",
    "while i<=5:\n",
    "    print(\"Abhinay\")\n",
    "    i=i+1"
   ]
  },
  {
   "cell_type": "code",
   "execution_count": 2,
   "id": "d3534125",
   "metadata": {},
   "outputs": [
    {
     "name": "stdout",
     "output_type": "stream",
     "text": [
      "Abhinay\n",
      "Abhinay\n",
      "Abhinay\n",
      "Abhinay\n",
      "Abhinay\n"
     ]
    }
   ],
   "source": [
    "i=5\n",
    "while i>=1:\n",
    "    print(\"Abhinay\")\n",
    "    i-=1"
   ]
  },
  {
   "cell_type": "code",
   "execution_count": 3,
   "id": "403c1089",
   "metadata": {},
   "outputs": [
    {
     "name": "stdout",
     "output_type": "stream",
     "text": [
      "Abhinay 1\n",
      "Abhinay 2\n",
      "Abhinay 3\n",
      "Abhinay 4\n",
      "Abhinay 5\n"
     ]
    }
   ],
   "source": [
    "i=1\n",
    "while i<=5:\n",
    "    print(\"Abhinay\",i)\n",
    "    i=i+1"
   ]
  },
  {
   "cell_type": "code",
   "execution_count": 4,
   "id": "ece80faf",
   "metadata": {},
   "outputs": [
    {
     "name": "stdout",
     "output_type": "stream",
     "text": [
      "Abhinay 5\n",
      "Abhinay 4\n",
      "Abhinay 3\n",
      "Abhinay 2\n",
      "Abhinay 1\n"
     ]
    }
   ],
   "source": [
    "i=5\n",
    "while i>=1:\n",
    "    print(\"Abhinay\",i)\n",
    "    i-=1"
   ]
  },
  {
   "cell_type": "code",
   "execution_count": 5,
   "id": "3398e8a0",
   "metadata": {},
   "outputs": [
    {
     "name": "stdout",
     "output_type": "stream",
     "text": [
      "0\n",
      "1\n",
      "2\n",
      "3\n",
      "0\n",
      "2\n",
      "4\n",
      "6\n",
      "0\n",
      "3\n",
      "6\n",
      "9\n",
      "0\n",
      "4\n",
      "8\n",
      "12\n",
      "0\n",
      "5\n",
      "10\n",
      "15\n"
     ]
    }
   ],
   "source": [
    "i=1\n",
    "while i<=5:\n",
    "    j=0\n",
    "    while j<=3:\n",
    "        print(i*j)\n",
    "        j+=1\n",
    "    i+=1"
   ]
  },
  {
   "cell_type": "code",
   "execution_count": 15,
   "id": "2715cb46",
   "metadata": {},
   "outputs": [
    {
     "name": "stdout",
     "output_type": "stream",
     "text": [
      "0 1 2 3 \n",
      "0 2 4 6 \n",
      "0 3 6 9 \n",
      "0 4 8 12 \n",
      "0 5 10 15 \n"
     ]
    }
   ],
   "source": [
    "i=1\n",
    "while i<=5:\n",
    "    j=0\n",
    "    while j<=3:\n",
    "        print(i*j,end=\" \")\n",
    "        j+=1\n",
    "    print()\n",
    "    i+=1"
   ]
  },
  {
   "cell_type": "code",
   "execution_count": 19,
   "id": "27f5d53c",
   "metadata": {},
   "outputs": [
    {
     "name": "stdout",
     "output_type": "stream",
     "text": [
      "8  7  6  \n",
      "7  6  5  \n",
      "6  5  4  \n",
      "5  4  3  \n",
      "4  3  2  \n"
     ]
    }
   ],
   "source": [
    "i=5\n",
    "while i>=1:\n",
    "    j=3\n",
    "    while j>=1:\n",
    "        print(i+j,end='  ')\n",
    "        j-=1\n",
    "    print()\n",
    "    i-=1"
   ]
  },
  {
   "cell_type": "code",
   "execution_count": null,
   "id": "42a01207",
   "metadata": {},
   "outputs": [
    {
     "name": "stdout",
     "output_type": "stream",
     "text": [
      "2 * 1 = 2\n",
      "2 * 2 = 4\n",
      "2 * 3 = 6\n",
      "2 * 4 = 8\n",
      "2 * 5 = 10\n",
      "2 * 6 = 12\n",
      "2 * 7 = 14\n",
      "2 * 8 = 16\n",
      "2 * 9 = 18\n",
      "2 * 10 = 20\n"
     ]
    }
   ],
   "source": [
    "i=2 # table of 2\n",
    "j=1\n",
    "while j<=10:\n",
    "    print(i,\"*\",j,\"=\",i*j)\n",
    "    j+=1"
   ]
  },
  {
   "cell_type": "code",
   "execution_count": 22,
   "id": "923354d2",
   "metadata": {},
   "outputs": [
    {
     "name": "stdout",
     "output_type": "stream",
     "text": [
      "2 ^ 1 = 2\n",
      "2 ^ 2 = 4\n",
      "2 ^ 3 = 8\n",
      "2 ^ 4 = 16\n",
      "2 ^ 5 = 32\n",
      "2 ^ 6 = 64\n",
      "2 ^ 7 = 128\n",
      "2 ^ 8 = 256\n",
      "2 ^ 9 = 512\n",
      "2 ^ 10 = 1024\n"
     ]
    }
   ],
   "source": [
    "i=2 # squares of 2 till 10\n",
    "j=1\n",
    "while j<=10:\n",
    "    print(i,\"^\",j,\"=\",i**j)\n",
    "    j+=1"
   ]
  },
  {
   "cell_type": "code",
   "execution_count": null,
   "id": "e19c8696",
   "metadata": {},
   "outputs": [
    {
     "name": "stdout",
     "output_type": "stream",
     "text": [
      "1 ^ 3 = 1\n",
      "2 ^ 3 = 8\n",
      "3 ^ 3 = 27\n",
      "4 ^ 3 = 64\n",
      "5 ^ 3 = 125\n",
      "6 ^ 3 = 216\n",
      "7 ^ 3 = 343\n",
      "8 ^ 3 = 512\n",
      "9 ^ 3 = 729\n",
      "10 ^ 3 = 1000\n"
     ]
    }
   ],
   "source": [
    "i=3 # cubes\n",
    "j=1\n",
    "while j<=10:\n",
    "    print(j,\"^\",i,\"=\",j**3)\n",
    "    j+=1"
   ]
  },
  {
   "cell_type": "code",
   "execution_count": 34,
   "id": "fe25645a",
   "metadata": {},
   "outputs": [
    {
     "name": "stdout",
     "output_type": "stream",
     "text": [
      "2\n",
      "4\n",
      "6\n",
      "8\n",
      "10\n",
      "12\n",
      "14\n",
      "16\n",
      "18\n",
      "20\n"
     ]
    }
   ],
   "source": [
    "i=2 # first 10 even numbers\n",
    "while i<=20:\n",
    "    print(i)\n",
    "    i=i+2"
   ]
  },
  {
   "cell_type": "code",
   "execution_count": 35,
   "id": "b17b2552",
   "metadata": {},
   "outputs": [
    {
     "name": "stdout",
     "output_type": "stream",
     "text": [
      "1\n",
      "3\n",
      "5\n",
      "7\n",
      "9\n",
      "11\n",
      "13\n",
      "15\n",
      "17\n",
      "19\n"
     ]
    }
   ],
   "source": [
    "i=1\n",
    "while i<=20:\n",
    "    print(i)\n",
    "    i+=2"
   ]
  },
  {
   "cell_type": "code",
   "execution_count": null,
   "id": "1d69c7c5",
   "metadata": {},
   "outputs": [
    {
     "name": "stdout",
     "output_type": "stream",
     "text": [
      "Sum of first 10 Natural no.  55\n"
     ]
    }
   ],
   "source": [
    "#Sum of 1st 10 natural no's\n",
    "i=1\n",
    "j=0\n",
    "while i<=10:\n",
    "    j=j+i\n",
    "    i+=1\n",
    "print(\"Sum of first 10 Natural no. \",j)"
   ]
  },
  {
   "cell_type": "code",
   "execution_count": 39,
   "id": "299b0d8c",
   "metadata": {},
   "outputs": [
    {
     "name": "stdout",
     "output_type": "stream",
     "text": [
      "Sum of first 10 even no. 110\n"
     ]
    }
   ],
   "source": [
    "#Sum of first 10 even no.\n",
    "i=2\n",
    "j=0\n",
    "while i<=20:\n",
    "    j=j+i\n",
    "    i+=2\n",
    "print(\"Sum of first 10 even no.\",j)"
   ]
  },
  {
   "cell_type": "code",
   "execution_count": 43,
   "id": "47306a1c",
   "metadata": {},
   "outputs": [
    {
     "name": "stdout",
     "output_type": "stream",
     "text": [
      "78 * 1 = 78\n",
      "78 * 2 = 156\n",
      "78 * 3 = 234\n",
      "78 * 4 = 312\n",
      "78 * 5 = 390\n",
      "78 * 6 = 468\n",
      "78 * 7 = 546\n",
      "78 * 8 = 624\n",
      "78 * 9 = 702\n",
      "78 * 10 = 780\n"
     ]
    }
   ],
   "source": [
    "#WAP to print table of a number entered from the user.\n",
    "i=int(input(\"Enter a number\"))\n",
    "j=1\n",
    "while j<=10:\n",
    "    print(i,\"*\",j,\"=\",i*j)\n",
    "    j+=1"
   ]
  },
  {
   "cell_type": "code",
   "execution_count": 46,
   "id": "1aa4c63d",
   "metadata": {},
   "outputs": [
    {
     "name": "stdout",
     "output_type": "stream",
     "text": [
      "All even numbers between 30 and 50 :-\n",
      "30\n",
      "32\n",
      "34\n",
      "36\n",
      "38\n",
      "40\n",
      "42\n",
      "44\n",
      "46\n",
      "48\n",
      "50\n"
     ]
    }
   ],
   "source": [
    "#WAP to print all even numbers that falls between two numbers(exclusive both numbers)entered from the user.\n",
    "i=int(input(\"Enter the first number:\"))\n",
    "j=int(input(\"Enter the second number:\"))\n",
    "print(\"All even numbers between\",i,\"and\",j,\":-\")\n",
    "while i<=j:\n",
    "    print(i)\n",
    "    i+=2"
   ]
  },
  {
   "cell_type": "code",
   "execution_count": null,
   "id": "7ae3c39a",
   "metadata": {},
   "outputs": [],
   "source": []
  }
 ],
 "metadata": {
  "kernelspec": {
   "display_name": "base",
   "language": "python",
   "name": "python3"
  },
  "language_info": {
   "codemirror_mode": {
    "name": "ipython",
    "version": 3
   },
   "file_extension": ".py",
   "mimetype": "text/x-python",
   "name": "python",
   "nbconvert_exporter": "python",
   "pygments_lexer": "ipython3",
   "version": "3.12.7"
  }
 },
 "nbformat": 4,
 "nbformat_minor": 5
}
