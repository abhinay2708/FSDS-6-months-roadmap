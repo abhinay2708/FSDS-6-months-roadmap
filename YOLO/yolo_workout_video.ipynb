{
 "cells": [
  {
   "cell_type": "code",
   "execution_count": 2,
   "id": "c342cb9c",
   "metadata": {},
   "outputs": [
    {
     "name": "stdout",
     "output_type": "stream",
     "text": [
      "Ultralytics 8.3.196  Python-3.10.0 torch-2.2.2+cpu CPU (AMD Ryzen 5 7430U with Radeon Graphics)\n",
      "Setup complete  (12 CPUs, 15.4 GB RAM, 161.8/475.7 GB disk)\n"
     ]
    }
   ],
   "source": [
    "import cv2\n",
    "import ultralytics\n",
    "from ultralytics import solutions\n",
    "from ultralytics.utils.downloads import safe_download\n",
    "\n",
    "!apt-get install -y ffmpeg  # for video writing properly\n",
    "ultralytics.checks()"
   ]
  },
  {
   "cell_type": "code",
   "execution_count": 2,
   "id": "6b7928a6",
   "metadata": {},
   "outputs": [
    {
     "name": "stdout",
     "output_type": "stream",
     "text": [
      "Downloading https://ultralytics.com/assets/Legextension.demo.video.mp4 to 'Legextension.demo.video.mp4'...\n"
     ]
    },
    {
     "name": "stderr",
     "output_type": "stream",
     "text": [
      "100%|██████████| 5.89M/5.89M [00:10<00:00, 594kB/s] "
     ]
    },
    {
     "name": "stdout",
     "output_type": "stream",
     "text": [
      "Downloading https://ultralytics.com/assets/Legpress.demo.video.mp4 to 'Legpress.demo.video.mp4'...\n"
     ]
    },
    {
     "name": "stderr",
     "output_type": "stream",
     "text": [
      "\n",
      "100%|██████████| 7.90M/7.90M [00:12<00:00, 663kB/s] "
     ]
    },
    {
     "name": "stdout",
     "output_type": "stream",
     "text": [
      "Downloading https://ultralytics.com/assets/Squats.demo.video.mp4 to 'Squats.demo.video.mp4'...\n"
     ]
    },
    {
     "name": "stderr",
     "output_type": "stream",
     "text": [
      "\n",
      "100%|██████████| 3.36M/3.36M [00:14<00:00, 244kB/s] "
     ]
    },
    {
     "name": "stdout",
     "output_type": "stream",
     "text": [
      "Downloading https://ultralytics.com/assets/Pushups.demo.video.mp4 to 'Pushups.demo.video.mp4'...\n"
     ]
    },
    {
     "name": "stderr",
     "output_type": "stream",
     "text": [
      "\n",
      "100%|██████████| 3.98M/3.98M [00:12<00:00, 335kB/s]\n"
     ]
    }
   ],
   "source": [
    "exercises_list = [\"Legextension\", \"Legpress\", \"Squats\", \"Pushups\"]\n",
    "\n",
    "for exercise in exercises_list:\n",
    "    safe_download(f\"https://github.com/ultralytics/assets/releases/download/v0.0.0/{exercise}.demo.video.mp4\")"
   ]
  },
  {
   "cell_type": "code",
   "execution_count": null,
   "id": "673c5bbb",
   "metadata": {},
   "outputs": [
    {
     "name": "stdout",
     "output_type": "stream",
     "text": [
      "Ultralytics Solutions:  {'source': None, 'model': 'yolov8n-pose.pt', 'classes': None, 'show_conf': True, 'show_labels': True, 'region': None, 'colormap': 21, 'show_in': True, 'show_out': True, 'up_angle': 145.0, 'down_angle': 90, 'kpts': [5, 7, 9], 'analytics_type': 'line', 'figsize': (12.8, 7.2), 'blur_ratio': 0.5, 'vision_point': (20, 20), 'crop_dir': 'cropped-detections', 'json_file': None, 'line_width': 4, 'records': 5, 'fps': 30.0, 'max_hist': 5, 'meter_per_pixel': 0.05, 'max_speed': 120, 'show': True, 'iou': 0.7, 'conf': 0.25, 'device': None, 'max_det': 300, 'half': False, 'tracker': 'botsort.yaml', 'verbose': False, 'data': 'images'}\n",
      "WARNING no tracks found!\n",
      "Video frame is empty or video processing has been successfully completed.\n"
     ]
    },
    {
     "ename": "",
     "evalue": "",
     "output_type": "error",
     "traceback": [
      "\u001b[1;31mThe Kernel crashed while executing code in the current cell or a previous cell. \n",
      "\u001b[1;31mPlease review the code in the cell(s) to identify a possible cause of the failure. \n",
      "\u001b[1;31mClick <a href='https://aka.ms/vscodeJupyterKernelCrash'>here</a> for more info. \n",
      "\u001b[1;31mView Jupyter <a href='command:jupyter.viewOutput'>log</a> for further details."
     ]
    }
   ],
   "source": [
    "cap = cv2.VideoCapture(r\"C:\\Users\\abhin\\FSDS\\Deep_Learning\\yolo\\Pushups.demo.video.mp4\")\n",
    "assert cap.isOpened(), \"Error reading video file\"\n",
    "\n",
    "# Video writer\n",
    "w, h, fps = (int(cap.get(x)) for x in (cv2.CAP_PROP_FRAME_WIDTH, cv2.CAP_PROP_FRAME_HEIGHT, cv2.CAP_PROP_FPS))\n",
    "video_writer = cv2.VideoWriter(\"Pushups.demo.video.output.avi\", cv2.VideoWriter_fourcc(*\"mp4v\"), fps, (w, h))\n",
    "\n",
    "# Init AIGym\n",
    "gym = solutions.AIGym(\n",
    "    show=True,  # Display the frame\n",
    "    kpts=[5, 7, 9],  # keypoints index of person for monitoring specific exercise, by default it's for pushup\n",
    "    model=\"yolov8n-pose.pt\",  # Path to the YOLO11 pose estimation model file\n",
    "    line_width=4,  # Adjust the line width for bounding boxes and text display\n",
    "    verbose=False\n",
    ")\n",
    "\n",
    "# Process video\n",
    "while cap.isOpened():\n",
    "    success, im0 = cap.read()\n",
    "    if not success:\n",
    "        print(\"Video frame is empty or video processing has been successfully completed.\")\n",
    "        break\n",
    "    results = gym(im0)  # monitor workouts on each frame\n",
    "    video_writer.write(results.plot_im)  # write the output frame in file.\n",
    "\n",
    "video_writer.release()"
   ]
  },
  {
   "cell_type": "code",
   "execution_count": 4,
   "id": "9a03efb4",
   "metadata": {},
   "outputs": [
    {
     "name": "stdout",
     "output_type": "stream",
     "text": [
      "Ultralytics Solutions:  {'source': None, 'model': 'yolo11m-pose.pt', 'classes': None, 'show_conf': True, 'show_labels': True, 'region': None, 'colormap': 21, 'show_in': True, 'show_out': True, 'up_angle': 145.0, 'down_angle': 90, 'kpts': [5, 11, 13], 'analytics_type': 'line', 'figsize': (12.8, 7.2), 'blur_ratio': 0.5, 'vision_point': (20, 20), 'crop_dir': 'cropped-detections', 'json_file': None, 'line_width': 4, 'records': 5, 'fps': 30.0, 'max_hist': 5, 'meter_per_pixel': 0.05, 'max_speed': 120, 'show': True, 'iou': 0.7, 'conf': 0.25, 'device': None, 'max_det': 300, 'half': False, 'tracker': 'botsort.yaml', 'verbose': False, 'data': 'images'}\n",
      "\u001b[KDownloading https://github.com/ultralytics/assets/releases/download/v8.3.0/yolo11m-pose.pt to 'yolo11m-pose.pt': 100% ━━━━━━━━━━━━ 40.5MB 557.2KB/s 1:14 1:14<0.0sss\n",
      "Video frame is empty or video processing has been successfully completed.\n"
     ]
    }
   ],
   "source": [
    "cap = cv2.VideoCapture(r\"C:\\Users\\abhin\\FSDS\\Deep_Learning\\yolo\\Squats.demo.video.mp4\")\n",
    "assert cap.isOpened(), \"Error reading video file\"\n",
    "\n",
    "# Video writer\n",
    "w, h, fps = (int(cap.get(x)) for x in (cv2.CAP_PROP_FRAME_WIDTH, cv2.CAP_PROP_FRAME_HEIGHT, cv2.CAP_PROP_FPS))\n",
    "video_writer = cv2.VideoWriter(\"Squats.demo.video.output.avi\", cv2.VideoWriter_fourcc(*\"mp4v\"), fps, (w, h))\n",
    "\n",
    "# Init AIGym\n",
    "gym = solutions.AIGym(\n",
    "    show=True,  # Display the frame\n",
    "    kpts=[5, 11, 13],  # keypoints index of person for monitoring specific exercise, by default it's for pushup\n",
    "    model=\"yolo11m-pose.pt\",  # Path to the YOLO11 pose estimation model file\n",
    "    line_width=4,  # Adjust the line width for bounding boxes and text display\n",
    "    verbose=False,\n",
    ")\n",
    "\n",
    "# Process video\n",
    "while cap.isOpened():\n",
    "    success, im0 = cap.read()\n",
    "    if not success:\n",
    "        print(\"Video frame is empty or video processing has been successfully completed.\")\n",
    "        break\n",
    "    results = gym(im0)  # monitor workouts on each frame\n",
    "    video_writer.write(results.plot_im)  # write the output frame in file.\n",
    "\n",
    "video_writer.release()"
   ]
  },
  {
   "cell_type": "code",
   "execution_count": null,
   "id": "84556771",
   "metadata": {},
   "outputs": [],
   "source": []
  }
 ],
 "metadata": {
  "kernelspec": {
   "display_name": "dlenv",
   "language": "python",
   "name": "python3"
  },
  "language_info": {
   "codemirror_mode": {
    "name": "ipython",
    "version": 3
   },
   "file_extension": ".py",
   "mimetype": "text/x-python",
   "name": "python",
   "nbconvert_exporter": "python",
   "pygments_lexer": "ipython3",
   "version": "3.10.0"
  }
 },
 "nbformat": 4,
 "nbformat_minor": 5
}
