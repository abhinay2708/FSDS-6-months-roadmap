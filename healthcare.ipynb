{
 "cells": [
  {
   "cell_type": "code",
   "execution_count": 1,
   "id": "aac8e42c",
   "metadata": {},
   "outputs": [],
   "source": [
    "import numpy as np\n",
    "import pandas as pd"
   ]
  },
  {
   "cell_type": "code",
   "execution_count": 2,
   "id": "b1e089f9",
   "metadata": {},
   "outputs": [
    {
     "data": {
      "application/vnd.microsoft.datawrangler.viewer.v0+json": {
       "columns": [
        {
         "name": "index",
         "rawType": "int64",
         "type": "integer"
        },
        {
         "name": "Patient_ID",
         "rawType": "object",
         "type": "string"
        },
        {
         "name": "Age",
         "rawType": "object",
         "type": "unknown"
        },
        {
         "name": "Gender",
         "rawType": "object",
         "type": "unknown"
        },
        {
         "name": "Blood_Pressure",
         "rawType": "object",
         "type": "unknown"
        },
        {
         "name": "Heart_Rate",
         "rawType": "float64",
         "type": "float"
        },
        {
         "name": "Diabetes",
         "rawType": "object",
         "type": "unknown"
        },
        {
         "name": "Cholesterol_Level",
         "rawType": "object",
         "type": "unknown"
        },
        {
         "name": "Smoker",
         "rawType": "object",
         "type": "unknown"
        },
        {
         "name": "Weight_kg",
         "rawType": "object",
         "type": "unknown"
        },
        {
         "name": "Height_cm",
         "rawType": "object",
         "type": "unknown"
        },
        {
         "name": "Visit_Date",
         "rawType": "object",
         "type": "unknown"
        },
        {
         "name": "Diagnosis",
         "rawType": "object",
         "type": "unknown"
        },
        {
         "name": "Medication",
         "rawType": "object",
         "type": "unknown"
        }
       ],
       "ref": "89cb7acf-e620-4bff-83cd-88e7c3b3451c",
       "rows": [
        [
         "0",
         "ID1000",
         "Thirty",
         "F",
         null,
         null,
         "No",
         null,
         null,
         "Seventy",
         "160",
         "3/22/2022 0:00",
         "C0vid",
         null
        ],
        [
         "1",
         "ID1001",
         "51",
         "Other",
         "High",
         "90.0",
         "0",
         "250",
         "Yes",
         "80",
         "160",
         "4/3/2022 0:00",
         "Diabetes",
         null
        ],
        [
         "2",
         "ID1002",
         "92",
         "Other",
         null,
         "60.0",
         null,
         "180",
         "N",
         "60",
         null,
         "4/4/2022 0:00",
         "Diabetes",
         "DrugA"
        ],
        [
         "3",
         "ID1003",
         "14",
         "Female",
         null,
         "110.0",
         "1",
         "180",
         "Y",
         "70",
         "170",
         "3/12/2022 0:00",
         "Flu",
         null
        ],
        [
         "4",
         "ID1004",
         "71",
         null,
         null,
         "80.0",
         "N",
         "200",
         "Occasional",
         "80",
         null,
         "4/7/2022 0:00",
         "Hypertension",
         null
        ],
        [
         "5",
         "ID1005",
         "60",
         "M",
         "120",
         "100.0",
         null,
         "Two Hundred",
         "Y",
         "80",
         "180",
         "3/12/2022 0:00",
         null,
         "DrugA"
        ],
        [
         "6",
         "ID1006",
         "20",
         "Male",
         "130",
         "80.0",
         "Yes",
         null,
         "Yes",
         "60",
         "150",
         "1/24/2022 0:00",
         "C0vid",
         "DrugB"
        ],
        [
         "7",
         "ID1007",
         "Thirty",
         null,
         "High",
         "60.0",
         "N",
         "220",
         null,
         "90",
         "170",
         "1/11/2022 0:00",
         null,
         null
        ],
        [
         "8",
         "ID1008",
         "82",
         "F",
         "130",
         "80.0",
         null,
         "Two Hundred",
         "N",
         "90",
         "190",
         "3/14/2022 0:00",
         "Covid-19",
         "DrugC"
        ],
        [
         "9",
         "ID1009",
         "86",
         "Other",
         "110",
         "110.0",
         "Y",
         "220",
         "Y",
         null,
         "Tall",
         "1/12/2022 0:00",
         "Flu",
         "DrugA"
        ],
        [
         "10",
         "ID1010",
         "74",
         null,
         "110",
         "110.0",
         "N",
         "200",
         "No",
         "80",
         "180",
         "2/4/2022 0:00",
         "C0vid",
         null
        ],
        [
         "11",
         "ID1011",
         "74",
         "M",
         "110",
         "60.0",
         "N",
         "200",
         "Occasional",
         "60",
         "170",
         "3/4/2022 0:00",
         "Covid-19",
         "No_Meds"
        ],
        [
         "12",
         "ID1012",
         "87",
         "F",
         "Low",
         "90.0",
         "No",
         "250",
         "Y",
         "Seventy",
         "Tall",
         "3/9/2022 0:00",
         null,
         null
        ],
        [
         "13",
         "ID1013",
         "99",
         "Male",
         null,
         "80.0",
         "Y",
         "200",
         "Occasional",
         "90",
         "Tall",
         "4/10/2022 0:00",
         "C0vid",
         "DrugC"
        ],
        [
         "14",
         "ID1014",
         "23",
         "Male",
         "Low",
         "90.0",
         "Yes",
         "200",
         "N",
         "Seventy",
         "150",
         "4/2/2022 0:00",
         "Diabetes",
         "DrugC"
        ],
        [
         "15",
         "ID1015",
         "2",
         "M",
         "120",
         "90.0",
         "1",
         "220",
         "No",
         "60",
         "160",
         "2/26/2022 0:00",
         "Covid-19",
         null
        ],
        [
         "16",
         "ID1016",
         "21",
         "M",
         "110",
         null,
         "0",
         "250",
         null,
         "60",
         "190",
         "1/13/2022 0:00",
         "Hypertension",
         "No_Meds"
        ],
        [
         "17",
         "ID1017",
         "52",
         "Other",
         "High",
         "70.0",
         null,
         "200",
         null,
         "80",
         null,
         "1/23/2022 0:00",
         "Healthy",
         "DrugA"
        ],
        [
         "18",
         "ID1017",
         "52",
         "Other",
         "High",
         "70.0",
         null,
         "200",
         null,
         "80",
         null,
         "1/23/2022 0:00",
         "Healthy",
         "DrugA"
        ],
        [
         "19",
         "ID1018",
         "1",
         "Male",
         "130",
         "60.0",
         "No",
         "Two Hundred",
         "No",
         "Seventy",
         "150",
         "3/24/2022 0:00",
         null,
         null
        ],
        [
         "20",
         "ID1018",
         "1",
         "Male",
         "130",
         "60.0",
         "No",
         "Two Hundred",
         "No",
         "Seventy",
         "150",
         "3/24/2022 0:00",
         null,
         null
        ],
        [
         "21",
         "ID1019",
         "87",
         "F",
         null,
         "100.0",
         null,
         "200",
         "Occasional",
         null,
         "180",
         null,
         null,
         "DrugC"
        ],
        [
         "22",
         "ID1020",
         "29",
         null,
         "140",
         "110.0",
         "Yes",
         "250",
         "N",
         "80",
         "Tall",
         "2/8/2022 0:00",
         "Hypertension",
         "DrugC"
        ],
        [
         "23",
         "ID1021",
         "37",
         "F",
         "High",
         "110.0",
         "Yes",
         null,
         "Y",
         "50",
         "180",
         "3/29/2022 0:00",
         "C0vid",
         "DrugC"
        ],
        [
         "24",
         "ID1022",
         "1",
         "Female",
         null,
         "60.0",
         "N",
         "250",
         "No",
         "Seventy",
         "Tall",
         "3/21/2022 0:00",
         "C0vid",
         "No_Meds"
        ],
        [
         "25",
         "ID1023",
         "63",
         "Female",
         "Low",
         null,
         "0",
         "220",
         "Yes",
         "90",
         "160",
         "4/7/2022 0:00",
         "C0vid",
         "DrugB"
        ],
        [
         "26",
         "ID1024",
         "59",
         "M",
         "Low",
         null,
         "Yes",
         null,
         "Occasional",
         "90",
         "160",
         "1/12/2022 0:00",
         "Covid-19",
         "No_Meds"
        ],
        [
         "27",
         "ID1025",
         "20",
         "Other",
         "High",
         null,
         null,
         "Two Hundred",
         null,
         "90",
         "190",
         "2/3/2022 0:00",
         "Flu",
         "DrugA"
        ],
        [
         "28",
         "ID1026",
         "32",
         "Female",
         "Low",
         null,
         "Y",
         "180",
         "No",
         "70",
         null,
         "3/12/2022 0:00",
         "Diabetes",
         "DrugA"
        ],
        [
         "29",
         "ID1027",
         "75",
         "Male",
         "110",
         null,
         "Y",
         "250",
         null,
         "60",
         "190",
         "3/16/2022 0:00",
         "Healthy",
         "DrugA"
        ],
        [
         "30",
         "ID1027",
         "75",
         "Male",
         "110",
         null,
         "Y",
         "250",
         null,
         "60",
         "190",
         "3/16/2022 0:00",
         "Healthy",
         "DrugA"
        ],
        [
         "31",
         "ID1028",
         "57",
         "F",
         "120",
         "100.0",
         "N",
         "220",
         "Occasional",
         "80",
         "160",
         "1/31/2022 0:00",
         "Flu",
         "DrugA"
        ],
        [
         "32",
         "ID1029",
         "21",
         "F",
         "130",
         "110.0",
         "1",
         "Two Hundred",
         null,
         "90",
         "160",
         "4/3/2022 0:00",
         "Flu",
         "DrugA"
        ],
        [
         "33",
         "ID1030",
         "88",
         "M",
         "120",
         "60.0",
         null,
         null,
         "No",
         "50",
         "180",
         "3/3/2022 0:00",
         "Hypertension",
         null
        ],
        [
         "34",
         "ID1031",
         "48",
         null,
         null,
         null,
         null,
         "Two Hundred",
         "Occasional",
         "90",
         "160",
         "1/13/2022 0:00",
         "Covid-19",
         "DrugC"
        ],
        [
         "35",
         "ID1032",
         "90",
         "M",
         "130",
         "110.0",
         "Yes",
         "250",
         "Yes",
         null,
         "170",
         "1/31/2022 0:00",
         null,
         "No_Meds"
        ],
        [
         "36",
         "ID1033",
         "58",
         null,
         "130",
         "90.0",
         "0",
         "200",
         "No",
         "60",
         "Tall",
         "1/2/2022 0:00",
         null,
         null
        ],
        [
         "37",
         "ID1034",
         "41",
         "M",
         "120",
         "80.0",
         null,
         "250",
         "Y",
         "Seventy",
         "150",
         "1/15/2022 0:00",
         "Hypertension",
         "No_Meds"
        ],
        [
         "38",
         "ID1035",
         "91",
         "M",
         "High",
         "80.0",
         "No",
         "180",
         "N",
         "60",
         "160",
         "2/26/2022 0:00",
         "Covid-19",
         "DrugB"
        ],
        [
         "39",
         "ID1036",
         "59",
         "M",
         "130",
         null,
         "1",
         "250",
         "No",
         "Seventy",
         "190",
         "3/16/2022 0:00",
         "Hypertension",
         null
        ],
        [
         "40",
         "ID1037",
         "79",
         null,
         "120",
         "110.0",
         "Yes",
         null,
         "Occasional",
         "Seventy",
         null,
         "2/3/2022 0:00",
         null,
         "DrugC"
        ],
        [
         "41",
         "ID1038",
         "14",
         null,
         "130",
         "70.0",
         "No",
         null,
         "N",
         "80",
         "Tall",
         "3/9/2022 0:00",
         "Flu",
         "DrugB"
        ],
        [
         "42",
         "ID1039",
         "61",
         "M",
         "140",
         "100.0",
         "N",
         "250",
         "No",
         "70",
         "Tall",
         "3/16/2022 0:00",
         "Diabetes",
         null
        ],
        [
         "43",
         "ID1040",
         "61",
         "Female",
         "High",
         null,
         "Y",
         null,
         "Yes",
         "Seventy",
         null,
         "1/29/2022 0:00",
         "C0vid",
         null
        ],
        [
         "44",
         "ID1040",
         "61",
         "Female",
         "High",
         null,
         "Y",
         null,
         "Yes",
         "Seventy",
         null,
         "1/29/2022 0:00",
         "C0vid",
         null
        ],
        [
         "45",
         "ID1041",
         "46",
         "Other",
         "110",
         "100.0",
         "N",
         "200",
         "Yes",
         "Seventy",
         null,
         "3/7/2022 0:00",
         "Covid-19",
         "DrugB"
        ],
        [
         "46",
         "ID1042",
         "61",
         "Other",
         "130",
         "100.0",
         "Y",
         "Two Hundred",
         "Y",
         "80",
         "Tall",
         "1/16/2022 0:00",
         "Healthy",
         "No_Meds"
        ],
        [
         "47",
         "ID1043",
         "50",
         "Other",
         "140",
         null,
         "N",
         "250",
         null,
         "90",
         "170",
         "2/8/2022 0:00",
         "Healthy",
         null
        ],
        [
         "48",
         "ID1044",
         "54",
         null,
         "110",
         "90.0",
         null,
         "200",
         "N",
         null,
         "190",
         "3/18/2022 0:00",
         "Flu",
         "No_Meds"
        ],
        [
         "49",
         "ID1045",
         "63",
         null,
         "110",
         "100.0",
         "No",
         "Two Hundred",
         "Occasional",
         "50",
         "170",
         "2/6/2022 0:00",
         "Hypertension",
         "DrugB"
        ]
       ],
       "shape": {
        "columns": 13,
        "rows": 1300
       }
      },
      "text/html": [
       "<div>\n",
       "<style scoped>\n",
       "    .dataframe tbody tr th:only-of-type {\n",
       "        vertical-align: middle;\n",
       "    }\n",
       "\n",
       "    .dataframe tbody tr th {\n",
       "        vertical-align: top;\n",
       "    }\n",
       "\n",
       "    .dataframe thead th {\n",
       "        text-align: right;\n",
       "    }\n",
       "</style>\n",
       "<table border=\"1\" class=\"dataframe\">\n",
       "  <thead>\n",
       "    <tr style=\"text-align: right;\">\n",
       "      <th></th>\n",
       "      <th>Patient_ID</th>\n",
       "      <th>Age</th>\n",
       "      <th>Gender</th>\n",
       "      <th>Blood_Pressure</th>\n",
       "      <th>Heart_Rate</th>\n",
       "      <th>Diabetes</th>\n",
       "      <th>Cholesterol_Level</th>\n",
       "      <th>Smoker</th>\n",
       "      <th>Weight_kg</th>\n",
       "      <th>Height_cm</th>\n",
       "      <th>Visit_Date</th>\n",
       "      <th>Diagnosis</th>\n",
       "      <th>Medication</th>\n",
       "    </tr>\n",
       "  </thead>\n",
       "  <tbody>\n",
       "    <tr>\n",
       "      <th>0</th>\n",
       "      <td>ID1000</td>\n",
       "      <td>Thirty</td>\n",
       "      <td>F</td>\n",
       "      <td>NaN</td>\n",
       "      <td>NaN</td>\n",
       "      <td>No</td>\n",
       "      <td>NaN</td>\n",
       "      <td>NaN</td>\n",
       "      <td>Seventy</td>\n",
       "      <td>160</td>\n",
       "      <td>3/22/2022 0:00</td>\n",
       "      <td>C0vid</td>\n",
       "      <td>NaN</td>\n",
       "    </tr>\n",
       "    <tr>\n",
       "      <th>1</th>\n",
       "      <td>ID1001</td>\n",
       "      <td>51</td>\n",
       "      <td>Other</td>\n",
       "      <td>High</td>\n",
       "      <td>90.0</td>\n",
       "      <td>0</td>\n",
       "      <td>250</td>\n",
       "      <td>Yes</td>\n",
       "      <td>80</td>\n",
       "      <td>160</td>\n",
       "      <td>4/3/2022 0:00</td>\n",
       "      <td>Diabetes</td>\n",
       "      <td>NaN</td>\n",
       "    </tr>\n",
       "    <tr>\n",
       "      <th>2</th>\n",
       "      <td>ID1002</td>\n",
       "      <td>92</td>\n",
       "      <td>Other</td>\n",
       "      <td>NaN</td>\n",
       "      <td>60.0</td>\n",
       "      <td>NaN</td>\n",
       "      <td>180</td>\n",
       "      <td>N</td>\n",
       "      <td>60</td>\n",
       "      <td>NaN</td>\n",
       "      <td>4/4/2022 0:00</td>\n",
       "      <td>Diabetes</td>\n",
       "      <td>DrugA</td>\n",
       "    </tr>\n",
       "    <tr>\n",
       "      <th>3</th>\n",
       "      <td>ID1003</td>\n",
       "      <td>14</td>\n",
       "      <td>Female</td>\n",
       "      <td>NaN</td>\n",
       "      <td>110.0</td>\n",
       "      <td>1</td>\n",
       "      <td>180</td>\n",
       "      <td>Y</td>\n",
       "      <td>70</td>\n",
       "      <td>170</td>\n",
       "      <td>3/12/2022 0:00</td>\n",
       "      <td>Flu</td>\n",
       "      <td>NaN</td>\n",
       "    </tr>\n",
       "    <tr>\n",
       "      <th>4</th>\n",
       "      <td>ID1004</td>\n",
       "      <td>71</td>\n",
       "      <td>NaN</td>\n",
       "      <td>NaN</td>\n",
       "      <td>80.0</td>\n",
       "      <td>N</td>\n",
       "      <td>200</td>\n",
       "      <td>Occasional</td>\n",
       "      <td>80</td>\n",
       "      <td>NaN</td>\n",
       "      <td>4/7/2022 0:00</td>\n",
       "      <td>Hypertension</td>\n",
       "      <td>NaN</td>\n",
       "    </tr>\n",
       "    <tr>\n",
       "      <th>...</th>\n",
       "      <td>...</td>\n",
       "      <td>...</td>\n",
       "      <td>...</td>\n",
       "      <td>...</td>\n",
       "      <td>...</td>\n",
       "      <td>...</td>\n",
       "      <td>...</td>\n",
       "      <td>...</td>\n",
       "      <td>...</td>\n",
       "      <td>...</td>\n",
       "      <td>...</td>\n",
       "      <td>...</td>\n",
       "      <td>...</td>\n",
       "    </tr>\n",
       "    <tr>\n",
       "      <th>1295</th>\n",
       "      <td>ID2196</td>\n",
       "      <td>50</td>\n",
       "      <td>F</td>\n",
       "      <td>120</td>\n",
       "      <td>NaN</td>\n",
       "      <td>1</td>\n",
       "      <td>NaN</td>\n",
       "      <td>No</td>\n",
       "      <td>50</td>\n",
       "      <td>180</td>\n",
       "      <td>4/3/2022 0:00</td>\n",
       "      <td>C0vid</td>\n",
       "      <td>DrugC</td>\n",
       "    </tr>\n",
       "    <tr>\n",
       "      <th>1296</th>\n",
       "      <td>ID2197</td>\n",
       "      <td>38</td>\n",
       "      <td>Other</td>\n",
       "      <td>Low</td>\n",
       "      <td>70.0</td>\n",
       "      <td>Y</td>\n",
       "      <td>250</td>\n",
       "      <td>NaN</td>\n",
       "      <td>90</td>\n",
       "      <td>Tall</td>\n",
       "      <td>1/10/2022 0:00</td>\n",
       "      <td>Diabetes</td>\n",
       "      <td>DrugA</td>\n",
       "    </tr>\n",
       "    <tr>\n",
       "      <th>1297</th>\n",
       "      <td>ID2198</td>\n",
       "      <td>50</td>\n",
       "      <td>NaN</td>\n",
       "      <td>120</td>\n",
       "      <td>90.0</td>\n",
       "      <td>Y</td>\n",
       "      <td>Two Hundred</td>\n",
       "      <td>No</td>\n",
       "      <td>NaN</td>\n",
       "      <td>150</td>\n",
       "      <td>3/14/2022 0:00</td>\n",
       "      <td>C0vid</td>\n",
       "      <td>NaN</td>\n",
       "    </tr>\n",
       "    <tr>\n",
       "      <th>1298</th>\n",
       "      <td>ID2199</td>\n",
       "      <td>69</td>\n",
       "      <td>Female</td>\n",
       "      <td>120</td>\n",
       "      <td>NaN</td>\n",
       "      <td>0</td>\n",
       "      <td>Two Hundred</td>\n",
       "      <td>No</td>\n",
       "      <td>50</td>\n",
       "      <td>Tall</td>\n",
       "      <td>2/28/2022 0:00</td>\n",
       "      <td>NaN</td>\n",
       "      <td>DrugA</td>\n",
       "    </tr>\n",
       "    <tr>\n",
       "      <th>1299</th>\n",
       "      <td>ID2199</td>\n",
       "      <td>69</td>\n",
       "      <td>Female</td>\n",
       "      <td>120</td>\n",
       "      <td>NaN</td>\n",
       "      <td>0</td>\n",
       "      <td>Two Hundred</td>\n",
       "      <td>No</td>\n",
       "      <td>50</td>\n",
       "      <td>Tall</td>\n",
       "      <td>2/28/2022 0:00</td>\n",
       "      <td>NaN</td>\n",
       "      <td>DrugA</td>\n",
       "    </tr>\n",
       "  </tbody>\n",
       "</table>\n",
       "<p>1300 rows × 13 columns</p>\n",
       "</div>"
      ],
      "text/plain": [
       "     Patient_ID     Age  Gender Blood_Pressure  Heart_Rate Diabetes  \\\n",
       "0        ID1000  Thirty       F            NaN         NaN       No   \n",
       "1        ID1001      51   Other           High        90.0        0   \n",
       "2        ID1002      92   Other            NaN        60.0      NaN   \n",
       "3        ID1003      14  Female            NaN       110.0        1   \n",
       "4        ID1004      71     NaN            NaN        80.0        N   \n",
       "...         ...     ...     ...            ...         ...      ...   \n",
       "1295     ID2196      50       F            120         NaN        1   \n",
       "1296     ID2197      38   Other            Low        70.0        Y   \n",
       "1297     ID2198      50     NaN            120        90.0        Y   \n",
       "1298     ID2199      69  Female            120         NaN        0   \n",
       "1299     ID2199      69  Female            120         NaN        0   \n",
       "\n",
       "     Cholesterol_Level      Smoker Weight_kg Height_cm      Visit_Date  \\\n",
       "0                  NaN         NaN   Seventy       160  3/22/2022 0:00   \n",
       "1                  250         Yes        80       160   4/3/2022 0:00   \n",
       "2                  180           N        60       NaN   4/4/2022 0:00   \n",
       "3                  180           Y        70       170  3/12/2022 0:00   \n",
       "4                  200  Occasional        80       NaN   4/7/2022 0:00   \n",
       "...                ...         ...       ...       ...             ...   \n",
       "1295               NaN          No        50       180   4/3/2022 0:00   \n",
       "1296               250         NaN        90      Tall  1/10/2022 0:00   \n",
       "1297       Two Hundred          No       NaN       150  3/14/2022 0:00   \n",
       "1298       Two Hundred          No        50      Tall  2/28/2022 0:00   \n",
       "1299       Two Hundred          No        50      Tall  2/28/2022 0:00   \n",
       "\n",
       "         Diagnosis Medication  \n",
       "0            C0vid        NaN  \n",
       "1         Diabetes        NaN  \n",
       "2         Diabetes      DrugA  \n",
       "3              Flu        NaN  \n",
       "4     Hypertension        NaN  \n",
       "...            ...        ...  \n",
       "1295         C0vid      DrugC  \n",
       "1296      Diabetes      DrugA  \n",
       "1297         C0vid        NaN  \n",
       "1298           NaN      DrugA  \n",
       "1299           NaN      DrugA  \n",
       "\n",
       "[1300 rows x 13 columns]"
      ]
     },
     "execution_count": 2,
     "metadata": {},
     "output_type": "execute_result"
    }
   ],
   "source": [
    "df=pd.read_csv(r\"C:\\Users\\abhin\\Downloads\\healthcare_raw_data.csv\")\n",
    "df"
   ]
  },
  {
   "cell_type": "code",
   "execution_count": 3,
   "id": "361dc119",
   "metadata": {},
   "outputs": [
    {
     "data": {
      "text/plain": [
       "Index(['Patient_ID', 'Age', 'Gender', 'Blood_Pressure', 'Heart_Rate',\n",
       "       'Diabetes', 'Cholesterol_Level', 'Smoker', 'Weight_kg', 'Height_cm',\n",
       "       'Visit_Date', 'Diagnosis', 'Medication'],\n",
       "      dtype='object')"
      ]
     },
     "execution_count": 3,
     "metadata": {},
     "output_type": "execute_result"
    }
   ],
   "source": [
    "df.columns"
   ]
  },
  {
   "cell_type": "code",
   "execution_count": 5,
   "id": "a20c6f22",
   "metadata": {},
   "outputs": [
    {
     "data": {
      "application/vnd.microsoft.datawrangler.viewer.v0+json": {
       "columns": [
        {
         "name": "index",
         "rawType": "object",
         "type": "string"
        },
        {
         "name": "0",
         "rawType": "int64",
         "type": "integer"
        }
       ],
       "ref": "eb726f51-ea95-445d-8221-6f635c4d18c4",
       "rows": [
        [
         "Patient_ID",
         "0"
        ],
        [
         "Age",
         "22"
        ],
        [
         "Gender",
         "206"
        ],
        [
         "Blood_Pressure",
         "178"
        ],
        [
         "Heart_Rate",
         "296"
        ],
        [
         "Diabetes",
         "211"
        ],
        [
         "Cholesterol_Level",
         "213"
        ],
        [
         "Smoker",
         "213"
        ],
        [
         "Weight_kg",
         "171"
        ],
        [
         "Height_cm",
         "193"
        ],
        [
         "Visit_Date",
         "11"
        ],
        [
         "Diagnosis",
         "170"
        ],
        [
         "Medication",
         "447"
        ]
       ],
       "shape": {
        "columns": 1,
        "rows": 13
       }
      },
      "text/plain": [
       "Patient_ID             0\n",
       "Age                   22\n",
       "Gender               206\n",
       "Blood_Pressure       178\n",
       "Heart_Rate           296\n",
       "Diabetes             211\n",
       "Cholesterol_Level    213\n",
       "Smoker               213\n",
       "Weight_kg            171\n",
       "Height_cm            193\n",
       "Visit_Date            11\n",
       "Diagnosis            170\n",
       "Medication           447\n",
       "dtype: int64"
      ]
     },
     "execution_count": 5,
     "metadata": {},
     "output_type": "execute_result"
    }
   ],
   "source": [
    "df.isnull().sum()"
   ]
  },
  {
   "cell_type": "code",
   "execution_count": 6,
   "id": "5c1e7102",
   "metadata": {},
   "outputs": [
    {
     "data": {
      "application/vnd.microsoft.datawrangler.viewer.v0+json": {
       "columns": [
        {
         "name": "index",
         "rawType": "int64",
         "type": "integer"
        },
        {
         "name": "Patient_ID",
         "rawType": "object",
         "type": "string"
        }
       ],
       "ref": "bf5318e3-30f5-413f-bbe7-6da2b0c763cb",
       "rows": [
        [
         "0",
         "ID1000"
        ],
        [
         "1",
         "ID1001"
        ],
        [
         "2",
         "ID1002"
        ],
        [
         "3",
         "ID1003"
        ],
        [
         "4",
         "ID1004"
        ],
        [
         "5",
         "ID1005"
        ],
        [
         "6",
         "ID1006"
        ],
        [
         "7",
         "ID1007"
        ],
        [
         "8",
         "ID1008"
        ],
        [
         "9",
         "ID1009"
        ],
        [
         "10",
         "ID1010"
        ],
        [
         "11",
         "ID1011"
        ],
        [
         "12",
         "ID1012"
        ],
        [
         "13",
         "ID1013"
        ],
        [
         "14",
         "ID1014"
        ],
        [
         "15",
         "ID1015"
        ],
        [
         "16",
         "ID1016"
        ],
        [
         "17",
         "ID1017"
        ],
        [
         "18",
         "ID1017"
        ],
        [
         "19",
         "ID1018"
        ],
        [
         "20",
         "ID1018"
        ],
        [
         "21",
         "ID1019"
        ],
        [
         "22",
         "ID1020"
        ],
        [
         "23",
         "ID1021"
        ],
        [
         "24",
         "ID1022"
        ],
        [
         "25",
         "ID1023"
        ],
        [
         "26",
         "ID1024"
        ],
        [
         "27",
         "ID1025"
        ],
        [
         "28",
         "ID1026"
        ],
        [
         "29",
         "ID1027"
        ],
        [
         "30",
         "ID1027"
        ],
        [
         "31",
         "ID1028"
        ],
        [
         "32",
         "ID1029"
        ],
        [
         "33",
         "ID1030"
        ],
        [
         "34",
         "ID1031"
        ],
        [
         "35",
         "ID1032"
        ],
        [
         "36",
         "ID1033"
        ],
        [
         "37",
         "ID1034"
        ],
        [
         "38",
         "ID1035"
        ],
        [
         "39",
         "ID1036"
        ],
        [
         "40",
         "ID1037"
        ],
        [
         "41",
         "ID1038"
        ],
        [
         "42",
         "ID1039"
        ],
        [
         "43",
         "ID1040"
        ],
        [
         "44",
         "ID1040"
        ],
        [
         "45",
         "ID1041"
        ],
        [
         "46",
         "ID1042"
        ],
        [
         "47",
         "ID1043"
        ],
        [
         "48",
         "ID1044"
        ],
        [
         "49",
         "ID1045"
        ]
       ],
       "shape": {
        "columns": 1,
        "rows": 1300
       }
      },
      "text/plain": [
       "0       ID1000\n",
       "1       ID1001\n",
       "2       ID1002\n",
       "3       ID1003\n",
       "4       ID1004\n",
       "         ...  \n",
       "1295    ID2196\n",
       "1296    ID2197\n",
       "1297    ID2198\n",
       "1298    ID2199\n",
       "1299    ID2199\n",
       "Name: Patient_ID, Length: 1300, dtype: object"
      ]
     },
     "execution_count": 6,
     "metadata": {},
     "output_type": "execute_result"
    }
   ],
   "source": [
    "df['Patient_ID']"
   ]
  },
  {
   "cell_type": "code",
   "execution_count": 7,
   "id": "6678f5b4",
   "metadata": {},
   "outputs": [
    {
     "data": {
      "text/plain": [
       "0"
      ]
     },
     "execution_count": 7,
     "metadata": {},
     "output_type": "execute_result"
    }
   ],
   "source": [
    "df['Patient_ID'].isnull().sum()"
   ]
  },
  {
   "cell_type": "code",
   "execution_count": 8,
   "id": "bcd03f58",
   "metadata": {},
   "outputs": [
    {
     "data": {
      "text/plain": [
       "100"
      ]
     },
     "execution_count": 8,
     "metadata": {},
     "output_type": "execute_result"
    }
   ],
   "source": [
    "df.duplicated().sum()"
   ]
  },
  {
   "cell_type": "code",
   "execution_count": 9,
   "id": "97b436aa",
   "metadata": {},
   "outputs": [],
   "source": [
    "df=df.drop_duplicates(df)"
   ]
  },
  {
   "cell_type": "code",
   "execution_count": 10,
   "id": "70e4003e",
   "metadata": {},
   "outputs": [
    {
     "data": {
      "application/vnd.microsoft.datawrangler.viewer.v0+json": {
       "columns": [
        {
         "name": "index",
         "rawType": "int64",
         "type": "integer"
        },
        {
         "name": "Patient_ID",
         "rawType": "object",
         "type": "string"
        },
        {
         "name": "Age",
         "rawType": "object",
         "type": "unknown"
        },
        {
         "name": "Gender",
         "rawType": "object",
         "type": "unknown"
        },
        {
         "name": "Blood_Pressure",
         "rawType": "object",
         "type": "unknown"
        },
        {
         "name": "Heart_Rate",
         "rawType": "float64",
         "type": "float"
        },
        {
         "name": "Diabetes",
         "rawType": "object",
         "type": "unknown"
        },
        {
         "name": "Cholesterol_Level",
         "rawType": "object",
         "type": "unknown"
        },
        {
         "name": "Smoker",
         "rawType": "object",
         "type": "unknown"
        },
        {
         "name": "Weight_kg",
         "rawType": "object",
         "type": "unknown"
        },
        {
         "name": "Height_cm",
         "rawType": "object",
         "type": "unknown"
        },
        {
         "name": "Visit_Date",
         "rawType": "object",
         "type": "unknown"
        },
        {
         "name": "Diagnosis",
         "rawType": "object",
         "type": "unknown"
        },
        {
         "name": "Medication",
         "rawType": "object",
         "type": "unknown"
        }
       ],
       "ref": "7526ebfc-be6a-4633-b5a8-209c28ac56a2",
       "rows": [
        [
         "0",
         "ID1000",
         "Thirty",
         "F",
         null,
         null,
         "No",
         null,
         null,
         "Seventy",
         "160",
         "3/22/2022 0:00",
         "C0vid",
         null
        ],
        [
         "1",
         "ID1001",
         "51",
         "Other",
         "High",
         "90.0",
         "0",
         "250",
         "Yes",
         "80",
         "160",
         "4/3/2022 0:00",
         "Diabetes",
         null
        ],
        [
         "2",
         "ID1002",
         "92",
         "Other",
         null,
         "60.0",
         null,
         "180",
         "N",
         "60",
         null,
         "4/4/2022 0:00",
         "Diabetes",
         "DrugA"
        ],
        [
         "3",
         "ID1003",
         "14",
         "Female",
         null,
         "110.0",
         "1",
         "180",
         "Y",
         "70",
         "170",
         "3/12/2022 0:00",
         "Flu",
         null
        ],
        [
         "4",
         "ID1004",
         "71",
         null,
         null,
         "80.0",
         "N",
         "200",
         "Occasional",
         "80",
         null,
         "4/7/2022 0:00",
         "Hypertension",
         null
        ],
        [
         "5",
         "ID1005",
         "60",
         "M",
         "120",
         "100.0",
         null,
         "Two Hundred",
         "Y",
         "80",
         "180",
         "3/12/2022 0:00",
         null,
         "DrugA"
        ],
        [
         "6",
         "ID1006",
         "20",
         "Male",
         "130",
         "80.0",
         "Yes",
         null,
         "Yes",
         "60",
         "150",
         "1/24/2022 0:00",
         "C0vid",
         "DrugB"
        ],
        [
         "7",
         "ID1007",
         "Thirty",
         null,
         "High",
         "60.0",
         "N",
         "220",
         null,
         "90",
         "170",
         "1/11/2022 0:00",
         null,
         null
        ],
        [
         "8",
         "ID1008",
         "82",
         "F",
         "130",
         "80.0",
         null,
         "Two Hundred",
         "N",
         "90",
         "190",
         "3/14/2022 0:00",
         "Covid-19",
         "DrugC"
        ],
        [
         "9",
         "ID1009",
         "86",
         "Other",
         "110",
         "110.0",
         "Y",
         "220",
         "Y",
         null,
         "Tall",
         "1/12/2022 0:00",
         "Flu",
         "DrugA"
        ],
        [
         "10",
         "ID1010",
         "74",
         null,
         "110",
         "110.0",
         "N",
         "200",
         "No",
         "80",
         "180",
         "2/4/2022 0:00",
         "C0vid",
         null
        ],
        [
         "11",
         "ID1011",
         "74",
         "M",
         "110",
         "60.0",
         "N",
         "200",
         "Occasional",
         "60",
         "170",
         "3/4/2022 0:00",
         "Covid-19",
         "No_Meds"
        ],
        [
         "12",
         "ID1012",
         "87",
         "F",
         "Low",
         "90.0",
         "No",
         "250",
         "Y",
         "Seventy",
         "Tall",
         "3/9/2022 0:00",
         null,
         null
        ],
        [
         "13",
         "ID1013",
         "99",
         "Male",
         null,
         "80.0",
         "Y",
         "200",
         "Occasional",
         "90",
         "Tall",
         "4/10/2022 0:00",
         "C0vid",
         "DrugC"
        ],
        [
         "14",
         "ID1014",
         "23",
         "Male",
         "Low",
         "90.0",
         "Yes",
         "200",
         "N",
         "Seventy",
         "150",
         "4/2/2022 0:00",
         "Diabetes",
         "DrugC"
        ],
        [
         "15",
         "ID1015",
         "2",
         "M",
         "120",
         "90.0",
         "1",
         "220",
         "No",
         "60",
         "160",
         "2/26/2022 0:00",
         "Covid-19",
         null
        ],
        [
         "16",
         "ID1016",
         "21",
         "M",
         "110",
         null,
         "0",
         "250",
         null,
         "60",
         "190",
         "1/13/2022 0:00",
         "Hypertension",
         "No_Meds"
        ],
        [
         "17",
         "ID1017",
         "52",
         "Other",
         "High",
         "70.0",
         null,
         "200",
         null,
         "80",
         null,
         "1/23/2022 0:00",
         "Healthy",
         "DrugA"
        ],
        [
         "19",
         "ID1018",
         "1",
         "Male",
         "130",
         "60.0",
         "No",
         "Two Hundred",
         "No",
         "Seventy",
         "150",
         "3/24/2022 0:00",
         null,
         null
        ],
        [
         "21",
         "ID1019",
         "87",
         "F",
         null,
         "100.0",
         null,
         "200",
         "Occasional",
         null,
         "180",
         null,
         null,
         "DrugC"
        ],
        [
         "22",
         "ID1020",
         "29",
         null,
         "140",
         "110.0",
         "Yes",
         "250",
         "N",
         "80",
         "Tall",
         "2/8/2022 0:00",
         "Hypertension",
         "DrugC"
        ],
        [
         "23",
         "ID1021",
         "37",
         "F",
         "High",
         "110.0",
         "Yes",
         null,
         "Y",
         "50",
         "180",
         "3/29/2022 0:00",
         "C0vid",
         "DrugC"
        ],
        [
         "24",
         "ID1022",
         "1",
         "Female",
         null,
         "60.0",
         "N",
         "250",
         "No",
         "Seventy",
         "Tall",
         "3/21/2022 0:00",
         "C0vid",
         "No_Meds"
        ],
        [
         "25",
         "ID1023",
         "63",
         "Female",
         "Low",
         null,
         "0",
         "220",
         "Yes",
         "90",
         "160",
         "4/7/2022 0:00",
         "C0vid",
         "DrugB"
        ],
        [
         "26",
         "ID1024",
         "59",
         "M",
         "Low",
         null,
         "Yes",
         null,
         "Occasional",
         "90",
         "160",
         "1/12/2022 0:00",
         "Covid-19",
         "No_Meds"
        ],
        [
         "27",
         "ID1025",
         "20",
         "Other",
         "High",
         null,
         null,
         "Two Hundred",
         null,
         "90",
         "190",
         "2/3/2022 0:00",
         "Flu",
         "DrugA"
        ],
        [
         "28",
         "ID1026",
         "32",
         "Female",
         "Low",
         null,
         "Y",
         "180",
         "No",
         "70",
         null,
         "3/12/2022 0:00",
         "Diabetes",
         "DrugA"
        ],
        [
         "29",
         "ID1027",
         "75",
         "Male",
         "110",
         null,
         "Y",
         "250",
         null,
         "60",
         "190",
         "3/16/2022 0:00",
         "Healthy",
         "DrugA"
        ],
        [
         "31",
         "ID1028",
         "57",
         "F",
         "120",
         "100.0",
         "N",
         "220",
         "Occasional",
         "80",
         "160",
         "1/31/2022 0:00",
         "Flu",
         "DrugA"
        ],
        [
         "32",
         "ID1029",
         "21",
         "F",
         "130",
         "110.0",
         "1",
         "Two Hundred",
         null,
         "90",
         "160",
         "4/3/2022 0:00",
         "Flu",
         "DrugA"
        ],
        [
         "33",
         "ID1030",
         "88",
         "M",
         "120",
         "60.0",
         null,
         null,
         "No",
         "50",
         "180",
         "3/3/2022 0:00",
         "Hypertension",
         null
        ],
        [
         "34",
         "ID1031",
         "48",
         null,
         null,
         null,
         null,
         "Two Hundred",
         "Occasional",
         "90",
         "160",
         "1/13/2022 0:00",
         "Covid-19",
         "DrugC"
        ],
        [
         "35",
         "ID1032",
         "90",
         "M",
         "130",
         "110.0",
         "Yes",
         "250",
         "Yes",
         null,
         "170",
         "1/31/2022 0:00",
         null,
         "No_Meds"
        ],
        [
         "36",
         "ID1033",
         "58",
         null,
         "130",
         "90.0",
         "0",
         "200",
         "No",
         "60",
         "Tall",
         "1/2/2022 0:00",
         null,
         null
        ],
        [
         "37",
         "ID1034",
         "41",
         "M",
         "120",
         "80.0",
         null,
         "250",
         "Y",
         "Seventy",
         "150",
         "1/15/2022 0:00",
         "Hypertension",
         "No_Meds"
        ],
        [
         "38",
         "ID1035",
         "91",
         "M",
         "High",
         "80.0",
         "No",
         "180",
         "N",
         "60",
         "160",
         "2/26/2022 0:00",
         "Covid-19",
         "DrugB"
        ],
        [
         "39",
         "ID1036",
         "59",
         "M",
         "130",
         null,
         "1",
         "250",
         "No",
         "Seventy",
         "190",
         "3/16/2022 0:00",
         "Hypertension",
         null
        ],
        [
         "40",
         "ID1037",
         "79",
         null,
         "120",
         "110.0",
         "Yes",
         null,
         "Occasional",
         "Seventy",
         null,
         "2/3/2022 0:00",
         null,
         "DrugC"
        ],
        [
         "41",
         "ID1038",
         "14",
         null,
         "130",
         "70.0",
         "No",
         null,
         "N",
         "80",
         "Tall",
         "3/9/2022 0:00",
         "Flu",
         "DrugB"
        ],
        [
         "42",
         "ID1039",
         "61",
         "M",
         "140",
         "100.0",
         "N",
         "250",
         "No",
         "70",
         "Tall",
         "3/16/2022 0:00",
         "Diabetes",
         null
        ],
        [
         "43",
         "ID1040",
         "61",
         "Female",
         "High",
         null,
         "Y",
         null,
         "Yes",
         "Seventy",
         null,
         "1/29/2022 0:00",
         "C0vid",
         null
        ],
        [
         "45",
         "ID1041",
         "46",
         "Other",
         "110",
         "100.0",
         "N",
         "200",
         "Yes",
         "Seventy",
         null,
         "3/7/2022 0:00",
         "Covid-19",
         "DrugB"
        ],
        [
         "46",
         "ID1042",
         "61",
         "Other",
         "130",
         "100.0",
         "Y",
         "Two Hundred",
         "Y",
         "80",
         "Tall",
         "1/16/2022 0:00",
         "Healthy",
         "No_Meds"
        ],
        [
         "47",
         "ID1043",
         "50",
         "Other",
         "140",
         null,
         "N",
         "250",
         null,
         "90",
         "170",
         "2/8/2022 0:00",
         "Healthy",
         null
        ],
        [
         "48",
         "ID1044",
         "54",
         null,
         "110",
         "90.0",
         null,
         "200",
         "N",
         null,
         "190",
         "3/18/2022 0:00",
         "Flu",
         "No_Meds"
        ],
        [
         "49",
         "ID1045",
         "63",
         null,
         "110",
         "100.0",
         "No",
         "Two Hundred",
         "Occasional",
         "50",
         "170",
         "2/6/2022 0:00",
         "Hypertension",
         "DrugB"
        ],
        [
         "50",
         "ID1046",
         "2",
         "Female",
         null,
         "80.0",
         "Y",
         "Two Hundred",
         "Occasional",
         "80",
         "160",
         "3/22/2022 0:00",
         "Hypertension",
         null
        ],
        [
         "51",
         "ID1047",
         null,
         "Other",
         "130",
         "90.0",
         "Yes",
         "200",
         null,
         "70",
         "150",
         "1/21/2022 0:00",
         null,
         "No_Meds"
        ],
        [
         "52",
         "ID1048",
         "50",
         "Other",
         "120",
         "60.0",
         "No",
         "220",
         "Yes",
         "80",
         null,
         "2/13/2022 0:00",
         "Flu",
         null
        ],
        [
         "53",
         "ID1049",
         "6",
         "M",
         "130",
         "100.0",
         "Yes",
         "250",
         "Yes",
         "60",
         "190",
         "1/19/2022 0:00",
         null,
         "DrugB"
        ]
       ],
       "shape": {
        "columns": 13,
        "rows": 1200
       }
      },
      "text/html": [
       "<div>\n",
       "<style scoped>\n",
       "    .dataframe tbody tr th:only-of-type {\n",
       "        vertical-align: middle;\n",
       "    }\n",
       "\n",
       "    .dataframe tbody tr th {\n",
       "        vertical-align: top;\n",
       "    }\n",
       "\n",
       "    .dataframe thead th {\n",
       "        text-align: right;\n",
       "    }\n",
       "</style>\n",
       "<table border=\"1\" class=\"dataframe\">\n",
       "  <thead>\n",
       "    <tr style=\"text-align: right;\">\n",
       "      <th></th>\n",
       "      <th>Patient_ID</th>\n",
       "      <th>Age</th>\n",
       "      <th>Gender</th>\n",
       "      <th>Blood_Pressure</th>\n",
       "      <th>Heart_Rate</th>\n",
       "      <th>Diabetes</th>\n",
       "      <th>Cholesterol_Level</th>\n",
       "      <th>Smoker</th>\n",
       "      <th>Weight_kg</th>\n",
       "      <th>Height_cm</th>\n",
       "      <th>Visit_Date</th>\n",
       "      <th>Diagnosis</th>\n",
       "      <th>Medication</th>\n",
       "    </tr>\n",
       "  </thead>\n",
       "  <tbody>\n",
       "    <tr>\n",
       "      <th>0</th>\n",
       "      <td>ID1000</td>\n",
       "      <td>Thirty</td>\n",
       "      <td>F</td>\n",
       "      <td>NaN</td>\n",
       "      <td>NaN</td>\n",
       "      <td>No</td>\n",
       "      <td>NaN</td>\n",
       "      <td>NaN</td>\n",
       "      <td>Seventy</td>\n",
       "      <td>160</td>\n",
       "      <td>3/22/2022 0:00</td>\n",
       "      <td>C0vid</td>\n",
       "      <td>NaN</td>\n",
       "    </tr>\n",
       "    <tr>\n",
       "      <th>1</th>\n",
       "      <td>ID1001</td>\n",
       "      <td>51</td>\n",
       "      <td>Other</td>\n",
       "      <td>High</td>\n",
       "      <td>90.0</td>\n",
       "      <td>0</td>\n",
       "      <td>250</td>\n",
       "      <td>Yes</td>\n",
       "      <td>80</td>\n",
       "      <td>160</td>\n",
       "      <td>4/3/2022 0:00</td>\n",
       "      <td>Diabetes</td>\n",
       "      <td>NaN</td>\n",
       "    </tr>\n",
       "    <tr>\n",
       "      <th>2</th>\n",
       "      <td>ID1002</td>\n",
       "      <td>92</td>\n",
       "      <td>Other</td>\n",
       "      <td>NaN</td>\n",
       "      <td>60.0</td>\n",
       "      <td>NaN</td>\n",
       "      <td>180</td>\n",
       "      <td>N</td>\n",
       "      <td>60</td>\n",
       "      <td>NaN</td>\n",
       "      <td>4/4/2022 0:00</td>\n",
       "      <td>Diabetes</td>\n",
       "      <td>DrugA</td>\n",
       "    </tr>\n",
       "    <tr>\n",
       "      <th>3</th>\n",
       "      <td>ID1003</td>\n",
       "      <td>14</td>\n",
       "      <td>Female</td>\n",
       "      <td>NaN</td>\n",
       "      <td>110.0</td>\n",
       "      <td>1</td>\n",
       "      <td>180</td>\n",
       "      <td>Y</td>\n",
       "      <td>70</td>\n",
       "      <td>170</td>\n",
       "      <td>3/12/2022 0:00</td>\n",
       "      <td>Flu</td>\n",
       "      <td>NaN</td>\n",
       "    </tr>\n",
       "    <tr>\n",
       "      <th>4</th>\n",
       "      <td>ID1004</td>\n",
       "      <td>71</td>\n",
       "      <td>NaN</td>\n",
       "      <td>NaN</td>\n",
       "      <td>80.0</td>\n",
       "      <td>N</td>\n",
       "      <td>200</td>\n",
       "      <td>Occasional</td>\n",
       "      <td>80</td>\n",
       "      <td>NaN</td>\n",
       "      <td>4/7/2022 0:00</td>\n",
       "      <td>Hypertension</td>\n",
       "      <td>NaN</td>\n",
       "    </tr>\n",
       "    <tr>\n",
       "      <th>...</th>\n",
       "      <td>...</td>\n",
       "      <td>...</td>\n",
       "      <td>...</td>\n",
       "      <td>...</td>\n",
       "      <td>...</td>\n",
       "      <td>...</td>\n",
       "      <td>...</td>\n",
       "      <td>...</td>\n",
       "      <td>...</td>\n",
       "      <td>...</td>\n",
       "      <td>...</td>\n",
       "      <td>...</td>\n",
       "      <td>...</td>\n",
       "    </tr>\n",
       "    <tr>\n",
       "      <th>1294</th>\n",
       "      <td>ID2195</td>\n",
       "      <td>52</td>\n",
       "      <td>Male</td>\n",
       "      <td>110</td>\n",
       "      <td>100.0</td>\n",
       "      <td>1</td>\n",
       "      <td>200</td>\n",
       "      <td>NaN</td>\n",
       "      <td>60</td>\n",
       "      <td>190</td>\n",
       "      <td>2/2/2022 0:00</td>\n",
       "      <td>Flu</td>\n",
       "      <td>NaN</td>\n",
       "    </tr>\n",
       "    <tr>\n",
       "      <th>1295</th>\n",
       "      <td>ID2196</td>\n",
       "      <td>50</td>\n",
       "      <td>F</td>\n",
       "      <td>120</td>\n",
       "      <td>NaN</td>\n",
       "      <td>1</td>\n",
       "      <td>NaN</td>\n",
       "      <td>No</td>\n",
       "      <td>50</td>\n",
       "      <td>180</td>\n",
       "      <td>4/3/2022 0:00</td>\n",
       "      <td>C0vid</td>\n",
       "      <td>DrugC</td>\n",
       "    </tr>\n",
       "    <tr>\n",
       "      <th>1296</th>\n",
       "      <td>ID2197</td>\n",
       "      <td>38</td>\n",
       "      <td>Other</td>\n",
       "      <td>Low</td>\n",
       "      <td>70.0</td>\n",
       "      <td>Y</td>\n",
       "      <td>250</td>\n",
       "      <td>NaN</td>\n",
       "      <td>90</td>\n",
       "      <td>Tall</td>\n",
       "      <td>1/10/2022 0:00</td>\n",
       "      <td>Diabetes</td>\n",
       "      <td>DrugA</td>\n",
       "    </tr>\n",
       "    <tr>\n",
       "      <th>1297</th>\n",
       "      <td>ID2198</td>\n",
       "      <td>50</td>\n",
       "      <td>NaN</td>\n",
       "      <td>120</td>\n",
       "      <td>90.0</td>\n",
       "      <td>Y</td>\n",
       "      <td>Two Hundred</td>\n",
       "      <td>No</td>\n",
       "      <td>NaN</td>\n",
       "      <td>150</td>\n",
       "      <td>3/14/2022 0:00</td>\n",
       "      <td>C0vid</td>\n",
       "      <td>NaN</td>\n",
       "    </tr>\n",
       "    <tr>\n",
       "      <th>1298</th>\n",
       "      <td>ID2199</td>\n",
       "      <td>69</td>\n",
       "      <td>Female</td>\n",
       "      <td>120</td>\n",
       "      <td>NaN</td>\n",
       "      <td>0</td>\n",
       "      <td>Two Hundred</td>\n",
       "      <td>No</td>\n",
       "      <td>50</td>\n",
       "      <td>Tall</td>\n",
       "      <td>2/28/2022 0:00</td>\n",
       "      <td>NaN</td>\n",
       "      <td>DrugA</td>\n",
       "    </tr>\n",
       "  </tbody>\n",
       "</table>\n",
       "<p>1200 rows × 13 columns</p>\n",
       "</div>"
      ],
      "text/plain": [
       "     Patient_ID     Age  Gender Blood_Pressure  Heart_Rate Diabetes  \\\n",
       "0        ID1000  Thirty       F            NaN         NaN       No   \n",
       "1        ID1001      51   Other           High        90.0        0   \n",
       "2        ID1002      92   Other            NaN        60.0      NaN   \n",
       "3        ID1003      14  Female            NaN       110.0        1   \n",
       "4        ID1004      71     NaN            NaN        80.0        N   \n",
       "...         ...     ...     ...            ...         ...      ...   \n",
       "1294     ID2195      52    Male            110       100.0        1   \n",
       "1295     ID2196      50       F            120         NaN        1   \n",
       "1296     ID2197      38   Other            Low        70.0        Y   \n",
       "1297     ID2198      50     NaN            120        90.0        Y   \n",
       "1298     ID2199      69  Female            120         NaN        0   \n",
       "\n",
       "     Cholesterol_Level      Smoker Weight_kg Height_cm      Visit_Date  \\\n",
       "0                  NaN         NaN   Seventy       160  3/22/2022 0:00   \n",
       "1                  250         Yes        80       160   4/3/2022 0:00   \n",
       "2                  180           N        60       NaN   4/4/2022 0:00   \n",
       "3                  180           Y        70       170  3/12/2022 0:00   \n",
       "4                  200  Occasional        80       NaN   4/7/2022 0:00   \n",
       "...                ...         ...       ...       ...             ...   \n",
       "1294               200         NaN        60       190   2/2/2022 0:00   \n",
       "1295               NaN          No        50       180   4/3/2022 0:00   \n",
       "1296               250         NaN        90      Tall  1/10/2022 0:00   \n",
       "1297       Two Hundred          No       NaN       150  3/14/2022 0:00   \n",
       "1298       Two Hundred          No        50      Tall  2/28/2022 0:00   \n",
       "\n",
       "         Diagnosis Medication  \n",
       "0            C0vid        NaN  \n",
       "1         Diabetes        NaN  \n",
       "2         Diabetes      DrugA  \n",
       "3              Flu        NaN  \n",
       "4     Hypertension        NaN  \n",
       "...            ...        ...  \n",
       "1294           Flu        NaN  \n",
       "1295         C0vid      DrugC  \n",
       "1296      Diabetes      DrugA  \n",
       "1297         C0vid        NaN  \n",
       "1298           NaN      DrugA  \n",
       "\n",
       "[1200 rows x 13 columns]"
      ]
     },
     "execution_count": 10,
     "metadata": {},
     "output_type": "execute_result"
    }
   ],
   "source": [
    "df"
   ]
  },
  {
   "cell_type": "code",
   "execution_count": 12,
   "id": "b9a05373",
   "metadata": {},
   "outputs": [
    {
     "data": {
      "text/plain": [
       "0"
      ]
     },
     "execution_count": 12,
     "metadata": {},
     "output_type": "execute_result"
    }
   ],
   "source": [
    "df.duplicated().sum()"
   ]
  },
  {
   "cell_type": "code",
   "execution_count": null,
   "id": "9b450970",
   "metadata": {},
   "outputs": [
    {
     "data": {
      "text/plain": [
       "0"
      ]
     },
     "execution_count": 13,
     "metadata": {},
     "output_type": "execute_result"
    }
   ],
   "source": [
    "df['Patient_ID'].isnull().sum()"
   ]
  },
  {
   "cell_type": "code",
   "execution_count": 14,
   "id": "c21b8c0b",
   "metadata": {},
   "outputs": [
    {
     "data": {
      "text/plain": [
       "21"
      ]
     },
     "execution_count": 14,
     "metadata": {},
     "output_type": "execute_result"
    }
   ],
   "source": [
    "df['Age'].isnull().sum()"
   ]
  },
  {
   "cell_type": "code",
   "execution_count": 15,
   "id": "0c53912a",
   "metadata": {},
   "outputs": [
    {
     "name": "stderr",
     "output_type": "stream",
     "text": [
      "<>:1: SyntaxWarning: invalid escape sequence '\\d'\n",
      "<>:1: SyntaxWarning: invalid escape sequence '\\d'\n",
      "C:\\Users\\abhin\\AppData\\Local\\Temp\\ipykernel_18672\\1395928742.py:1: SyntaxWarning: invalid escape sequence '\\d'\n",
      "  df['Age']=df['Age'].str.extract('(\\d+)')\n",
      "C:\\Users\\abhin\\AppData\\Local\\Temp\\ipykernel_18672\\1395928742.py:1: SettingWithCopyWarning: \n",
      "A value is trying to be set on a copy of a slice from a DataFrame.\n",
      "Try using .loc[row_indexer,col_indexer] = value instead\n",
      "\n",
      "See the caveats in the documentation: https://pandas.pydata.org/pandas-docs/stable/user_guide/indexing.html#returning-a-view-versus-a-copy\n",
      "  df['Age']=df['Age'].str.extract('(\\d+)')\n"
     ]
    }
   ],
   "source": [
    "df['Age']=df['Age'].str.extract('(\\d+)')"
   ]
  },
  {
   "cell_type": "code",
   "execution_count": 31,
   "id": "b59802f7",
   "metadata": {},
   "outputs": [
    {
     "name": "stderr",
     "output_type": "stream",
     "text": [
      "C:\\Users\\abhin\\AppData\\Local\\Temp\\ipykernel_18672\\316246894.py:1: SettingWithCopyWarning: \n",
      "A value is trying to be set on a copy of a slice from a DataFrame.\n",
      "Try using .loc[row_indexer,col_indexer] = value instead\n",
      "\n",
      "See the caveats in the documentation: https://pandas.pydata.org/pandas-docs/stable/user_guide/indexing.html#returning-a-view-versus-a-copy\n",
      "  df['Age']=df['Age'].replace(0,np.nan)\n"
     ]
    }
   ],
   "source": [
    "df['Age']=df['Age'].replace(0,np.nan)"
   ]
  },
  {
   "cell_type": "code",
   "execution_count": 32,
   "id": "508dc93d",
   "metadata": {},
   "outputs": [
    {
     "data": {
      "application/vnd.microsoft.datawrangler.viewer.v0+json": {
       "columns": [
        {
         "name": "index",
         "rawType": "int64",
         "type": "integer"
        },
        {
         "name": "Age",
         "rawType": "float64",
         "type": "float"
        }
       ],
       "ref": "b3c4d9ad-9738-4f51-b28f-87c313d7f94f",
       "rows": [
        [
         "0",
         "48.0"
        ],
        [
         "1",
         "51.0"
        ],
        [
         "2",
         "92.0"
        ],
        [
         "3",
         "14.0"
        ],
        [
         "4",
         "71.0"
        ],
        [
         "5",
         "60.0"
        ],
        [
         "6",
         "20.0"
        ],
        [
         "7",
         "48.0"
        ],
        [
         "8",
         "82.0"
        ],
        [
         "9",
         "86.0"
        ],
        [
         "10",
         "74.0"
        ],
        [
         "11",
         "74.0"
        ],
        [
         "12",
         "87.0"
        ],
        [
         "13",
         "99.0"
        ],
        [
         "14",
         "23.0"
        ],
        [
         "15",
         "2.0"
        ],
        [
         "16",
         "21.0"
        ],
        [
         "17",
         "52.0"
        ],
        [
         "19",
         "1.0"
        ],
        [
         "21",
         "87.0"
        ],
        [
         "22",
         "29.0"
        ],
        [
         "23",
         "37.0"
        ],
        [
         "24",
         "1.0"
        ],
        [
         "25",
         "63.0"
        ],
        [
         "26",
         "59.0"
        ],
        [
         "27",
         "20.0"
        ],
        [
         "28",
         "32.0"
        ],
        [
         "29",
         "75.0"
        ],
        [
         "31",
         "57.0"
        ],
        [
         "32",
         "21.0"
        ],
        [
         "33",
         "88.0"
        ],
        [
         "34",
         "48.0"
        ],
        [
         "35",
         "90.0"
        ],
        [
         "36",
         "58.0"
        ],
        [
         "37",
         "41.0"
        ],
        [
         "38",
         "91.0"
        ],
        [
         "39",
         "59.0"
        ],
        [
         "40",
         "79.0"
        ],
        [
         "41",
         "14.0"
        ],
        [
         "42",
         "61.0"
        ],
        [
         "43",
         "61.0"
        ],
        [
         "45",
         "46.0"
        ],
        [
         "46",
         "61.0"
        ],
        [
         "47",
         "50.0"
        ],
        [
         "48",
         "54.0"
        ],
        [
         "49",
         "63.0"
        ],
        [
         "50",
         "2.0"
        ],
        [
         "51",
         "48.0"
        ],
        [
         "52",
         "50.0"
        ],
        [
         "53",
         "6.0"
        ]
       ],
       "shape": {
        "columns": 1,
        "rows": 1200
       }
      },
      "text/plain": [
       "0       48.0\n",
       "1       51.0\n",
       "2       92.0\n",
       "3       14.0\n",
       "4       71.0\n",
       "        ... \n",
       "1294    52.0\n",
       "1295    50.0\n",
       "1296    38.0\n",
       "1297    50.0\n",
       "1298    69.0\n",
       "Name: Age, Length: 1200, dtype: float64"
      ]
     },
     "execution_count": 32,
     "metadata": {},
     "output_type": "execute_result"
    }
   ],
   "source": [
    "df['Age']"
   ]
  },
  {
   "cell_type": "code",
   "execution_count": 33,
   "id": "cf3455ab",
   "metadata": {},
   "outputs": [
    {
     "data": {
      "text/plain": [
       "18"
      ]
     },
     "execution_count": 33,
     "metadata": {},
     "output_type": "execute_result"
    }
   ],
   "source": [
    "df['Age'].isnull().sum()"
   ]
  },
  {
   "cell_type": "code",
   "execution_count": 34,
   "id": "a5aca2e2",
   "metadata": {},
   "outputs": [
    {
     "data": {
      "text/plain": [
       "0"
      ]
     },
     "execution_count": 34,
     "metadata": {},
     "output_type": "execute_result"
    }
   ],
   "source": [
    "df.duplicated().sum()"
   ]
  },
  {
   "cell_type": "code",
   "execution_count": 35,
   "id": "ea390892",
   "metadata": {},
   "outputs": [
    {
     "name": "stderr",
     "output_type": "stream",
     "text": [
      "C:\\Users\\abhin\\AppData\\Local\\Temp\\ipykernel_18672\\317193096.py:1: SettingWithCopyWarning: \n",
      "A value is trying to be set on a copy of a slice from a DataFrame.\n",
      "Try using .loc[row_indexer,col_indexer] = value instead\n",
      "\n",
      "See the caveats in the documentation: https://pandas.pydata.org/pandas-docs/stable/user_guide/indexing.html#returning-a-view-versus-a-copy\n",
      "  df['Age']=df['Age'].fillna(np.mean(pd.to_numeric(df['Age']))).astype('int')\n"
     ]
    }
   ],
   "source": [
    "df['Age']=df['Age'].fillna(np.mean(pd.to_numeric(df['Age']))).astype('int')"
   ]
  },
  {
   "cell_type": "code",
   "execution_count": 37,
   "id": "6a19a7cc",
   "metadata": {},
   "outputs": [
    {
     "data": {
      "application/vnd.microsoft.datawrangler.viewer.v0+json": {
       "columns": [
        {
         "name": "index",
         "rawType": "int64",
         "type": "integer"
        },
        {
         "name": "Age",
         "rawType": "int32",
         "type": "integer"
        }
       ],
       "ref": "6d385f34-12a5-493a-a171-6e29d7a00400",
       "rows": [
        [
         "0",
         "48"
        ],
        [
         "1",
         "51"
        ],
        [
         "2",
         "92"
        ],
        [
         "3",
         "14"
        ],
        [
         "4",
         "71"
        ],
        [
         "5",
         "60"
        ],
        [
         "6",
         "20"
        ],
        [
         "7",
         "48"
        ],
        [
         "8",
         "82"
        ],
        [
         "9",
         "86"
        ],
        [
         "10",
         "74"
        ],
        [
         "11",
         "74"
        ],
        [
         "12",
         "87"
        ],
        [
         "13",
         "99"
        ],
        [
         "14",
         "23"
        ],
        [
         "15",
         "2"
        ],
        [
         "16",
         "21"
        ],
        [
         "17",
         "52"
        ],
        [
         "19",
         "1"
        ],
        [
         "21",
         "87"
        ],
        [
         "22",
         "29"
        ],
        [
         "23",
         "37"
        ],
        [
         "24",
         "1"
        ],
        [
         "25",
         "63"
        ],
        [
         "26",
         "59"
        ],
        [
         "27",
         "20"
        ],
        [
         "28",
         "32"
        ],
        [
         "29",
         "75"
        ],
        [
         "31",
         "57"
        ],
        [
         "32",
         "21"
        ],
        [
         "33",
         "88"
        ],
        [
         "34",
         "48"
        ],
        [
         "35",
         "90"
        ],
        [
         "36",
         "58"
        ],
        [
         "37",
         "41"
        ],
        [
         "38",
         "91"
        ],
        [
         "39",
         "59"
        ],
        [
         "40",
         "79"
        ],
        [
         "41",
         "14"
        ],
        [
         "42",
         "61"
        ],
        [
         "43",
         "61"
        ],
        [
         "45",
         "46"
        ],
        [
         "46",
         "61"
        ],
        [
         "47",
         "50"
        ],
        [
         "48",
         "54"
        ],
        [
         "49",
         "63"
        ],
        [
         "50",
         "2"
        ],
        [
         "51",
         "48"
        ],
        [
         "52",
         "50"
        ],
        [
         "53",
         "6"
        ]
       ],
       "shape": {
        "columns": 1,
        "rows": 1200
       }
      },
      "text/plain": [
       "0       48\n",
       "1       51\n",
       "2       92\n",
       "3       14\n",
       "4       71\n",
       "        ..\n",
       "1294    52\n",
       "1295    50\n",
       "1296    38\n",
       "1297    50\n",
       "1298    69\n",
       "Name: Age, Length: 1200, dtype: int32"
      ]
     },
     "execution_count": 37,
     "metadata": {},
     "output_type": "execute_result"
    }
   ],
   "source": [
    "df['Age']"
   ]
  },
  {
   "cell_type": "code",
   "execution_count": 38,
   "id": "0805a22c",
   "metadata": {},
   "outputs": [
    {
     "data": {
      "text/plain": [
       "Index(['Patient_ID', 'Age', 'Gender', 'Blood_Pressure', 'Heart_Rate',\n",
       "       'Diabetes', 'Cholesterol_Level', 'Smoker', 'Weight_kg', 'Height_cm',\n",
       "       'Visit_Date', 'Diagnosis', 'Medication'],\n",
       "      dtype='object')"
      ]
     },
     "execution_count": 38,
     "metadata": {},
     "output_type": "execute_result"
    }
   ],
   "source": [
    "df.columns"
   ]
  },
  {
   "cell_type": "code",
   "execution_count": 39,
   "id": "989b5462",
   "metadata": {},
   "outputs": [
    {
     "data": {
      "application/vnd.microsoft.datawrangler.viewer.v0+json": {
       "columns": [
        {
         "name": "index",
         "rawType": "int64",
         "type": "integer"
        },
        {
         "name": "Gender",
         "rawType": "object",
         "type": "unknown"
        }
       ],
       "ref": "181146db-6246-44e0-b15e-62ef8106eb65",
       "rows": [
        [
         "0",
         "F"
        ],
        [
         "1",
         "Other"
        ],
        [
         "2",
         "Other"
        ],
        [
         "3",
         "Female"
        ],
        [
         "4",
         null
        ],
        [
         "5",
         "M"
        ],
        [
         "6",
         "Male"
        ],
        [
         "7",
         null
        ],
        [
         "8",
         "F"
        ],
        [
         "9",
         "Other"
        ],
        [
         "10",
         null
        ],
        [
         "11",
         "M"
        ],
        [
         "12",
         "F"
        ],
        [
         "13",
         "Male"
        ],
        [
         "14",
         "Male"
        ],
        [
         "15",
         "M"
        ],
        [
         "16",
         "M"
        ],
        [
         "17",
         "Other"
        ],
        [
         "19",
         "Male"
        ],
        [
         "21",
         "F"
        ],
        [
         "22",
         null
        ],
        [
         "23",
         "F"
        ],
        [
         "24",
         "Female"
        ],
        [
         "25",
         "Female"
        ],
        [
         "26",
         "M"
        ],
        [
         "27",
         "Other"
        ],
        [
         "28",
         "Female"
        ],
        [
         "29",
         "Male"
        ],
        [
         "31",
         "F"
        ],
        [
         "32",
         "F"
        ],
        [
         "33",
         "M"
        ],
        [
         "34",
         null
        ],
        [
         "35",
         "M"
        ],
        [
         "36",
         null
        ],
        [
         "37",
         "M"
        ],
        [
         "38",
         "M"
        ],
        [
         "39",
         "M"
        ],
        [
         "40",
         null
        ],
        [
         "41",
         null
        ],
        [
         "42",
         "M"
        ],
        [
         "43",
         "Female"
        ],
        [
         "45",
         "Other"
        ],
        [
         "46",
         "Other"
        ],
        [
         "47",
         "Other"
        ],
        [
         "48",
         null
        ],
        [
         "49",
         null
        ],
        [
         "50",
         "Female"
        ],
        [
         "51",
         "Other"
        ],
        [
         "52",
         "Other"
        ],
        [
         "53",
         "M"
        ]
       ],
       "shape": {
        "columns": 1,
        "rows": 1200
       }
      },
      "text/plain": [
       "0            F\n",
       "1        Other\n",
       "2        Other\n",
       "3       Female\n",
       "4          NaN\n",
       "         ...  \n",
       "1294      Male\n",
       "1295         F\n",
       "1296     Other\n",
       "1297       NaN\n",
       "1298    Female\n",
       "Name: Gender, Length: 1200, dtype: object"
      ]
     },
     "execution_count": 39,
     "metadata": {},
     "output_type": "execute_result"
    }
   ],
   "source": [
    "df['Gender']"
   ]
  },
  {
   "cell_type": "code",
   "execution_count": 40,
   "id": "ab12e87c",
   "metadata": {},
   "outputs": [
    {
     "data": {
      "text/plain": [
       "193"
      ]
     },
     "execution_count": 40,
     "metadata": {},
     "output_type": "execute_result"
    }
   ],
   "source": [
    "df['Gender'].isnull().sum()"
   ]
  },
  {
   "cell_type": "code",
   "execution_count": 41,
   "id": "d68e7db2",
   "metadata": {},
   "outputs": [
    {
     "name": "stderr",
     "output_type": "stream",
     "text": [
      "C:\\Users\\abhin\\AppData\\Local\\Temp\\ipykernel_18672\\3221419951.py:1: SettingWithCopyWarning: \n",
      "A value is trying to be set on a copy of a slice from a DataFrame.\n",
      "Try using .loc[row_indexer,col_indexer] = value instead\n",
      "\n",
      "See the caveats in the documentation: https://pandas.pydata.org/pandas-docs/stable/user_guide/indexing.html#returning-a-view-versus-a-copy\n",
      "  df['Gender']=df['Gender'].replace({'M':'Male','F':'Female'})\n"
     ]
    }
   ],
   "source": [
    "df['Gender']=df['Gender'].replace({'M':'Male','F':'Female'})"
   ]
  },
  {
   "cell_type": "code",
   "execution_count": 42,
   "id": "c965def4",
   "metadata": {},
   "outputs": [
    {
     "data": {
      "application/vnd.microsoft.datawrangler.viewer.v0+json": {
       "columns": [
        {
         "name": "index",
         "rawType": "int64",
         "type": "integer"
        },
        {
         "name": "Gender",
         "rawType": "object",
         "type": "unknown"
        }
       ],
       "ref": "7b2e978c-8828-42bd-8bbb-dede54d3b1dc",
       "rows": [
        [
         "0",
         "Female"
        ],
        [
         "1",
         "Other"
        ],
        [
         "2",
         "Other"
        ],
        [
         "3",
         "Female"
        ],
        [
         "4",
         null
        ],
        [
         "5",
         "Male"
        ],
        [
         "6",
         "Male"
        ],
        [
         "7",
         null
        ],
        [
         "8",
         "Female"
        ],
        [
         "9",
         "Other"
        ],
        [
         "10",
         null
        ],
        [
         "11",
         "Male"
        ],
        [
         "12",
         "Female"
        ],
        [
         "13",
         "Male"
        ],
        [
         "14",
         "Male"
        ],
        [
         "15",
         "Male"
        ],
        [
         "16",
         "Male"
        ],
        [
         "17",
         "Other"
        ],
        [
         "19",
         "Male"
        ],
        [
         "21",
         "Female"
        ],
        [
         "22",
         null
        ],
        [
         "23",
         "Female"
        ],
        [
         "24",
         "Female"
        ],
        [
         "25",
         "Female"
        ],
        [
         "26",
         "Male"
        ],
        [
         "27",
         "Other"
        ],
        [
         "28",
         "Female"
        ],
        [
         "29",
         "Male"
        ],
        [
         "31",
         "Female"
        ],
        [
         "32",
         "Female"
        ],
        [
         "33",
         "Male"
        ],
        [
         "34",
         null
        ],
        [
         "35",
         "Male"
        ],
        [
         "36",
         null
        ],
        [
         "37",
         "Male"
        ],
        [
         "38",
         "Male"
        ],
        [
         "39",
         "Male"
        ],
        [
         "40",
         null
        ],
        [
         "41",
         null
        ],
        [
         "42",
         "Male"
        ],
        [
         "43",
         "Female"
        ],
        [
         "45",
         "Other"
        ],
        [
         "46",
         "Other"
        ],
        [
         "47",
         "Other"
        ],
        [
         "48",
         null
        ],
        [
         "49",
         null
        ],
        [
         "50",
         "Female"
        ],
        [
         "51",
         "Other"
        ],
        [
         "52",
         "Other"
        ],
        [
         "53",
         "Male"
        ]
       ],
       "shape": {
        "columns": 1,
        "rows": 1200
       }
      },
      "text/plain": [
       "0       Female\n",
       "1        Other\n",
       "2        Other\n",
       "3       Female\n",
       "4          NaN\n",
       "         ...  \n",
       "1294      Male\n",
       "1295    Female\n",
       "1296     Other\n",
       "1297       NaN\n",
       "1298    Female\n",
       "Name: Gender, Length: 1200, dtype: object"
      ]
     },
     "execution_count": 42,
     "metadata": {},
     "output_type": "execute_result"
    }
   ],
   "source": [
    "df['Gender']"
   ]
  },
  {
   "cell_type": "code",
   "execution_count": 43,
   "id": "e1757d19",
   "metadata": {},
   "outputs": [
    {
     "data": {
      "text/plain": [
       "193"
      ]
     },
     "execution_count": 43,
     "metadata": {},
     "output_type": "execute_result"
    }
   ],
   "source": [
    "df['Gender'].isnull().sum()"
   ]
  },
  {
   "cell_type": "code",
   "execution_count": 44,
   "id": "9cb4d53e",
   "metadata": {},
   "outputs": [
    {
     "name": "stderr",
     "output_type": "stream",
     "text": [
      "C:\\Users\\abhin\\AppData\\Local\\Temp\\ipykernel_18672\\3565574032.py:1: SettingWithCopyWarning: \n",
      "A value is trying to be set on a copy of a slice from a DataFrame.\n",
      "Try using .loc[row_indexer,col_indexer] = value instead\n",
      "\n",
      "See the caveats in the documentation: https://pandas.pydata.org/pandas-docs/stable/user_guide/indexing.html#returning-a-view-versus-a-copy\n",
      "  df['Gender']=df['Gender'].fillna(df['Gender'].mode()[0])\n"
     ]
    }
   ],
   "source": [
    "df['Gender']=df['Gender'].fillna(df['Gender'].mode()[0])"
   ]
  },
  {
   "cell_type": "code",
   "execution_count": 45,
   "id": "ea005f7f",
   "metadata": {},
   "outputs": [
    {
     "data": {
      "application/vnd.microsoft.datawrangler.viewer.v0+json": {
       "columns": [
        {
         "name": "index",
         "rawType": "int64",
         "type": "integer"
        },
        {
         "name": "Gender",
         "rawType": "object",
         "type": "string"
        }
       ],
       "ref": "77f8c83b-8630-48e3-bf35-6c2e8d5565fe",
       "rows": [
        [
         "0",
         "Female"
        ],
        [
         "1",
         "Other"
        ],
        [
         "2",
         "Other"
        ],
        [
         "3",
         "Female"
        ],
        [
         "4",
         "Male"
        ],
        [
         "5",
         "Male"
        ],
        [
         "6",
         "Male"
        ],
        [
         "7",
         "Male"
        ],
        [
         "8",
         "Female"
        ],
        [
         "9",
         "Other"
        ],
        [
         "10",
         "Male"
        ],
        [
         "11",
         "Male"
        ],
        [
         "12",
         "Female"
        ],
        [
         "13",
         "Male"
        ],
        [
         "14",
         "Male"
        ],
        [
         "15",
         "Male"
        ],
        [
         "16",
         "Male"
        ],
        [
         "17",
         "Other"
        ],
        [
         "19",
         "Male"
        ],
        [
         "21",
         "Female"
        ],
        [
         "22",
         "Male"
        ],
        [
         "23",
         "Female"
        ],
        [
         "24",
         "Female"
        ],
        [
         "25",
         "Female"
        ],
        [
         "26",
         "Male"
        ],
        [
         "27",
         "Other"
        ],
        [
         "28",
         "Female"
        ],
        [
         "29",
         "Male"
        ],
        [
         "31",
         "Female"
        ],
        [
         "32",
         "Female"
        ],
        [
         "33",
         "Male"
        ],
        [
         "34",
         "Male"
        ],
        [
         "35",
         "Male"
        ],
        [
         "36",
         "Male"
        ],
        [
         "37",
         "Male"
        ],
        [
         "38",
         "Male"
        ],
        [
         "39",
         "Male"
        ],
        [
         "40",
         "Male"
        ],
        [
         "41",
         "Male"
        ],
        [
         "42",
         "Male"
        ],
        [
         "43",
         "Female"
        ],
        [
         "45",
         "Other"
        ],
        [
         "46",
         "Other"
        ],
        [
         "47",
         "Other"
        ],
        [
         "48",
         "Male"
        ],
        [
         "49",
         "Male"
        ],
        [
         "50",
         "Female"
        ],
        [
         "51",
         "Other"
        ],
        [
         "52",
         "Other"
        ],
        [
         "53",
         "Male"
        ]
       ],
       "shape": {
        "columns": 1,
        "rows": 1200
       }
      },
      "text/plain": [
       "0       Female\n",
       "1        Other\n",
       "2        Other\n",
       "3       Female\n",
       "4         Male\n",
       "         ...  \n",
       "1294      Male\n",
       "1295    Female\n",
       "1296     Other\n",
       "1297      Male\n",
       "1298    Female\n",
       "Name: Gender, Length: 1200, dtype: object"
      ]
     },
     "execution_count": 45,
     "metadata": {},
     "output_type": "execute_result"
    }
   ],
   "source": [
    "df['Gender']"
   ]
  },
  {
   "cell_type": "code",
   "execution_count": 46,
   "id": "a3403698",
   "metadata": {},
   "outputs": [
    {
     "data": {
      "text/plain": [
       "0"
      ]
     },
     "execution_count": 46,
     "metadata": {},
     "output_type": "execute_result"
    }
   ],
   "source": [
    "df['Gender'].isnull().sum()"
   ]
  },
  {
   "cell_type": "code",
   "execution_count": 47,
   "id": "6dbf32f1",
   "metadata": {},
   "outputs": [
    {
     "data": {
      "text/plain": [
       "Index(['Patient_ID', 'Age', 'Gender', 'Blood_Pressure', 'Heart_Rate',\n",
       "       'Diabetes', 'Cholesterol_Level', 'Smoker', 'Weight_kg', 'Height_cm',\n",
       "       'Visit_Date', 'Diagnosis', 'Medication'],\n",
       "      dtype='object')"
      ]
     },
     "execution_count": 47,
     "metadata": {},
     "output_type": "execute_result"
    }
   ],
   "source": [
    "df.columns"
   ]
  },
  {
   "cell_type": "code",
   "execution_count": 48,
   "id": "1bc3142c",
   "metadata": {},
   "outputs": [
    {
     "data": {
      "application/vnd.microsoft.datawrangler.viewer.v0+json": {
       "columns": [
        {
         "name": "index",
         "rawType": "int64",
         "type": "integer"
        },
        {
         "name": "Patient_ID",
         "rawType": "object",
         "type": "string"
        },
        {
         "name": "Age",
         "rawType": "int32",
         "type": "integer"
        },
        {
         "name": "Gender",
         "rawType": "object",
         "type": "string"
        },
        {
         "name": "Blood_Pressure",
         "rawType": "object",
         "type": "unknown"
        },
        {
         "name": "Heart_Rate",
         "rawType": "float64",
         "type": "float"
        },
        {
         "name": "Diabetes",
         "rawType": "object",
         "type": "unknown"
        },
        {
         "name": "Cholesterol_Level",
         "rawType": "object",
         "type": "unknown"
        },
        {
         "name": "Smoker",
         "rawType": "object",
         "type": "unknown"
        },
        {
         "name": "Weight_kg",
         "rawType": "object",
         "type": "unknown"
        },
        {
         "name": "Height_cm",
         "rawType": "object",
         "type": "unknown"
        },
        {
         "name": "Visit_Date",
         "rawType": "object",
         "type": "unknown"
        },
        {
         "name": "Diagnosis",
         "rawType": "object",
         "type": "unknown"
        },
        {
         "name": "Medication",
         "rawType": "object",
         "type": "unknown"
        }
       ],
       "ref": "fb040739-e75e-42bd-ba54-8f82fa2aa8cc",
       "rows": [
        [
         "0",
         "ID1000",
         "48",
         "Female",
         null,
         null,
         "No",
         null,
         null,
         "Seventy",
         "160",
         "3/22/2022 0:00",
         "C0vid",
         null
        ],
        [
         "1",
         "ID1001",
         "51",
         "Other",
         "High",
         "90.0",
         "0",
         "250",
         "Yes",
         "80",
         "160",
         "4/3/2022 0:00",
         "Diabetes",
         null
        ],
        [
         "2",
         "ID1002",
         "92",
         "Other",
         null,
         "60.0",
         null,
         "180",
         "N",
         "60",
         null,
         "4/4/2022 0:00",
         "Diabetes",
         "DrugA"
        ],
        [
         "3",
         "ID1003",
         "14",
         "Female",
         null,
         "110.0",
         "1",
         "180",
         "Y",
         "70",
         "170",
         "3/12/2022 0:00",
         "Flu",
         null
        ],
        [
         "4",
         "ID1004",
         "71",
         "Male",
         null,
         "80.0",
         "N",
         "200",
         "Occasional",
         "80",
         null,
         "4/7/2022 0:00",
         "Hypertension",
         null
        ],
        [
         "5",
         "ID1005",
         "60",
         "Male",
         "120",
         "100.0",
         null,
         "Two Hundred",
         "Y",
         "80",
         "180",
         "3/12/2022 0:00",
         null,
         "DrugA"
        ],
        [
         "6",
         "ID1006",
         "20",
         "Male",
         "130",
         "80.0",
         "Yes",
         null,
         "Yes",
         "60",
         "150",
         "1/24/2022 0:00",
         "C0vid",
         "DrugB"
        ],
        [
         "7",
         "ID1007",
         "48",
         "Male",
         "High",
         "60.0",
         "N",
         "220",
         null,
         "90",
         "170",
         "1/11/2022 0:00",
         null,
         null
        ],
        [
         "8",
         "ID1008",
         "82",
         "Female",
         "130",
         "80.0",
         null,
         "Two Hundred",
         "N",
         "90",
         "190",
         "3/14/2022 0:00",
         "Covid-19",
         "DrugC"
        ],
        [
         "9",
         "ID1009",
         "86",
         "Other",
         "110",
         "110.0",
         "Y",
         "220",
         "Y",
         null,
         "Tall",
         "1/12/2022 0:00",
         "Flu",
         "DrugA"
        ],
        [
         "10",
         "ID1010",
         "74",
         "Male",
         "110",
         "110.0",
         "N",
         "200",
         "No",
         "80",
         "180",
         "2/4/2022 0:00",
         "C0vid",
         null
        ],
        [
         "11",
         "ID1011",
         "74",
         "Male",
         "110",
         "60.0",
         "N",
         "200",
         "Occasional",
         "60",
         "170",
         "3/4/2022 0:00",
         "Covid-19",
         "No_Meds"
        ],
        [
         "12",
         "ID1012",
         "87",
         "Female",
         "Low",
         "90.0",
         "No",
         "250",
         "Y",
         "Seventy",
         "Tall",
         "3/9/2022 0:00",
         null,
         null
        ],
        [
         "13",
         "ID1013",
         "99",
         "Male",
         null,
         "80.0",
         "Y",
         "200",
         "Occasional",
         "90",
         "Tall",
         "4/10/2022 0:00",
         "C0vid",
         "DrugC"
        ],
        [
         "14",
         "ID1014",
         "23",
         "Male",
         "Low",
         "90.0",
         "Yes",
         "200",
         "N",
         "Seventy",
         "150",
         "4/2/2022 0:00",
         "Diabetes",
         "DrugC"
        ],
        [
         "15",
         "ID1015",
         "2",
         "Male",
         "120",
         "90.0",
         "1",
         "220",
         "No",
         "60",
         "160",
         "2/26/2022 0:00",
         "Covid-19",
         null
        ],
        [
         "16",
         "ID1016",
         "21",
         "Male",
         "110",
         null,
         "0",
         "250",
         null,
         "60",
         "190",
         "1/13/2022 0:00",
         "Hypertension",
         "No_Meds"
        ],
        [
         "17",
         "ID1017",
         "52",
         "Other",
         "High",
         "70.0",
         null,
         "200",
         null,
         "80",
         null,
         "1/23/2022 0:00",
         "Healthy",
         "DrugA"
        ],
        [
         "19",
         "ID1018",
         "1",
         "Male",
         "130",
         "60.0",
         "No",
         "Two Hundred",
         "No",
         "Seventy",
         "150",
         "3/24/2022 0:00",
         null,
         null
        ],
        [
         "21",
         "ID1019",
         "87",
         "Female",
         null,
         "100.0",
         null,
         "200",
         "Occasional",
         null,
         "180",
         null,
         null,
         "DrugC"
        ],
        [
         "22",
         "ID1020",
         "29",
         "Male",
         "140",
         "110.0",
         "Yes",
         "250",
         "N",
         "80",
         "Tall",
         "2/8/2022 0:00",
         "Hypertension",
         "DrugC"
        ],
        [
         "23",
         "ID1021",
         "37",
         "Female",
         "High",
         "110.0",
         "Yes",
         null,
         "Y",
         "50",
         "180",
         "3/29/2022 0:00",
         "C0vid",
         "DrugC"
        ],
        [
         "24",
         "ID1022",
         "1",
         "Female",
         null,
         "60.0",
         "N",
         "250",
         "No",
         "Seventy",
         "Tall",
         "3/21/2022 0:00",
         "C0vid",
         "No_Meds"
        ],
        [
         "25",
         "ID1023",
         "63",
         "Female",
         "Low",
         null,
         "0",
         "220",
         "Yes",
         "90",
         "160",
         "4/7/2022 0:00",
         "C0vid",
         "DrugB"
        ],
        [
         "26",
         "ID1024",
         "59",
         "Male",
         "Low",
         null,
         "Yes",
         null,
         "Occasional",
         "90",
         "160",
         "1/12/2022 0:00",
         "Covid-19",
         "No_Meds"
        ],
        [
         "27",
         "ID1025",
         "20",
         "Other",
         "High",
         null,
         null,
         "Two Hundred",
         null,
         "90",
         "190",
         "2/3/2022 0:00",
         "Flu",
         "DrugA"
        ],
        [
         "28",
         "ID1026",
         "32",
         "Female",
         "Low",
         null,
         "Y",
         "180",
         "No",
         "70",
         null,
         "3/12/2022 0:00",
         "Diabetes",
         "DrugA"
        ],
        [
         "29",
         "ID1027",
         "75",
         "Male",
         "110",
         null,
         "Y",
         "250",
         null,
         "60",
         "190",
         "3/16/2022 0:00",
         "Healthy",
         "DrugA"
        ],
        [
         "31",
         "ID1028",
         "57",
         "Female",
         "120",
         "100.0",
         "N",
         "220",
         "Occasional",
         "80",
         "160",
         "1/31/2022 0:00",
         "Flu",
         "DrugA"
        ],
        [
         "32",
         "ID1029",
         "21",
         "Female",
         "130",
         "110.0",
         "1",
         "Two Hundred",
         null,
         "90",
         "160",
         "4/3/2022 0:00",
         "Flu",
         "DrugA"
        ],
        [
         "33",
         "ID1030",
         "88",
         "Male",
         "120",
         "60.0",
         null,
         null,
         "No",
         "50",
         "180",
         "3/3/2022 0:00",
         "Hypertension",
         null
        ],
        [
         "34",
         "ID1031",
         "48",
         "Male",
         null,
         null,
         null,
         "Two Hundred",
         "Occasional",
         "90",
         "160",
         "1/13/2022 0:00",
         "Covid-19",
         "DrugC"
        ],
        [
         "35",
         "ID1032",
         "90",
         "Male",
         "130",
         "110.0",
         "Yes",
         "250",
         "Yes",
         null,
         "170",
         "1/31/2022 0:00",
         null,
         "No_Meds"
        ],
        [
         "36",
         "ID1033",
         "58",
         "Male",
         "130",
         "90.0",
         "0",
         "200",
         "No",
         "60",
         "Tall",
         "1/2/2022 0:00",
         null,
         null
        ],
        [
         "37",
         "ID1034",
         "41",
         "Male",
         "120",
         "80.0",
         null,
         "250",
         "Y",
         "Seventy",
         "150",
         "1/15/2022 0:00",
         "Hypertension",
         "No_Meds"
        ],
        [
         "38",
         "ID1035",
         "91",
         "Male",
         "High",
         "80.0",
         "No",
         "180",
         "N",
         "60",
         "160",
         "2/26/2022 0:00",
         "Covid-19",
         "DrugB"
        ],
        [
         "39",
         "ID1036",
         "59",
         "Male",
         "130",
         null,
         "1",
         "250",
         "No",
         "Seventy",
         "190",
         "3/16/2022 0:00",
         "Hypertension",
         null
        ],
        [
         "40",
         "ID1037",
         "79",
         "Male",
         "120",
         "110.0",
         "Yes",
         null,
         "Occasional",
         "Seventy",
         null,
         "2/3/2022 0:00",
         null,
         "DrugC"
        ],
        [
         "41",
         "ID1038",
         "14",
         "Male",
         "130",
         "70.0",
         "No",
         null,
         "N",
         "80",
         "Tall",
         "3/9/2022 0:00",
         "Flu",
         "DrugB"
        ],
        [
         "42",
         "ID1039",
         "61",
         "Male",
         "140",
         "100.0",
         "N",
         "250",
         "No",
         "70",
         "Tall",
         "3/16/2022 0:00",
         "Diabetes",
         null
        ],
        [
         "43",
         "ID1040",
         "61",
         "Female",
         "High",
         null,
         "Y",
         null,
         "Yes",
         "Seventy",
         null,
         "1/29/2022 0:00",
         "C0vid",
         null
        ],
        [
         "45",
         "ID1041",
         "46",
         "Other",
         "110",
         "100.0",
         "N",
         "200",
         "Yes",
         "Seventy",
         null,
         "3/7/2022 0:00",
         "Covid-19",
         "DrugB"
        ],
        [
         "46",
         "ID1042",
         "61",
         "Other",
         "130",
         "100.0",
         "Y",
         "Two Hundred",
         "Y",
         "80",
         "Tall",
         "1/16/2022 0:00",
         "Healthy",
         "No_Meds"
        ],
        [
         "47",
         "ID1043",
         "50",
         "Other",
         "140",
         null,
         "N",
         "250",
         null,
         "90",
         "170",
         "2/8/2022 0:00",
         "Healthy",
         null
        ],
        [
         "48",
         "ID1044",
         "54",
         "Male",
         "110",
         "90.0",
         null,
         "200",
         "N",
         null,
         "190",
         "3/18/2022 0:00",
         "Flu",
         "No_Meds"
        ],
        [
         "49",
         "ID1045",
         "63",
         "Male",
         "110",
         "100.0",
         "No",
         "Two Hundred",
         "Occasional",
         "50",
         "170",
         "2/6/2022 0:00",
         "Hypertension",
         "DrugB"
        ],
        [
         "50",
         "ID1046",
         "2",
         "Female",
         null,
         "80.0",
         "Y",
         "Two Hundred",
         "Occasional",
         "80",
         "160",
         "3/22/2022 0:00",
         "Hypertension",
         null
        ],
        [
         "51",
         "ID1047",
         "48",
         "Other",
         "130",
         "90.0",
         "Yes",
         "200",
         null,
         "70",
         "150",
         "1/21/2022 0:00",
         null,
         "No_Meds"
        ],
        [
         "52",
         "ID1048",
         "50",
         "Other",
         "120",
         "60.0",
         "No",
         "220",
         "Yes",
         "80",
         null,
         "2/13/2022 0:00",
         "Flu",
         null
        ],
        [
         "53",
         "ID1049",
         "6",
         "Male",
         "130",
         "100.0",
         "Yes",
         "250",
         "Yes",
         "60",
         "190",
         "1/19/2022 0:00",
         null,
         "DrugB"
        ]
       ],
       "shape": {
        "columns": 13,
        "rows": 1200
       }
      },
      "text/html": [
       "<div>\n",
       "<style scoped>\n",
       "    .dataframe tbody tr th:only-of-type {\n",
       "        vertical-align: middle;\n",
       "    }\n",
       "\n",
       "    .dataframe tbody tr th {\n",
       "        vertical-align: top;\n",
       "    }\n",
       "\n",
       "    .dataframe thead th {\n",
       "        text-align: right;\n",
       "    }\n",
       "</style>\n",
       "<table border=\"1\" class=\"dataframe\">\n",
       "  <thead>\n",
       "    <tr style=\"text-align: right;\">\n",
       "      <th></th>\n",
       "      <th>Patient_ID</th>\n",
       "      <th>Age</th>\n",
       "      <th>Gender</th>\n",
       "      <th>Blood_Pressure</th>\n",
       "      <th>Heart_Rate</th>\n",
       "      <th>Diabetes</th>\n",
       "      <th>Cholesterol_Level</th>\n",
       "      <th>Smoker</th>\n",
       "      <th>Weight_kg</th>\n",
       "      <th>Height_cm</th>\n",
       "      <th>Visit_Date</th>\n",
       "      <th>Diagnosis</th>\n",
       "      <th>Medication</th>\n",
       "    </tr>\n",
       "  </thead>\n",
       "  <tbody>\n",
       "    <tr>\n",
       "      <th>0</th>\n",
       "      <td>ID1000</td>\n",
       "      <td>48</td>\n",
       "      <td>Female</td>\n",
       "      <td>NaN</td>\n",
       "      <td>NaN</td>\n",
       "      <td>No</td>\n",
       "      <td>NaN</td>\n",
       "      <td>NaN</td>\n",
       "      <td>Seventy</td>\n",
       "      <td>160</td>\n",
       "      <td>3/22/2022 0:00</td>\n",
       "      <td>C0vid</td>\n",
       "      <td>NaN</td>\n",
       "    </tr>\n",
       "    <tr>\n",
       "      <th>1</th>\n",
       "      <td>ID1001</td>\n",
       "      <td>51</td>\n",
       "      <td>Other</td>\n",
       "      <td>High</td>\n",
       "      <td>90.0</td>\n",
       "      <td>0</td>\n",
       "      <td>250</td>\n",
       "      <td>Yes</td>\n",
       "      <td>80</td>\n",
       "      <td>160</td>\n",
       "      <td>4/3/2022 0:00</td>\n",
       "      <td>Diabetes</td>\n",
       "      <td>NaN</td>\n",
       "    </tr>\n",
       "    <tr>\n",
       "      <th>2</th>\n",
       "      <td>ID1002</td>\n",
       "      <td>92</td>\n",
       "      <td>Other</td>\n",
       "      <td>NaN</td>\n",
       "      <td>60.0</td>\n",
       "      <td>NaN</td>\n",
       "      <td>180</td>\n",
       "      <td>N</td>\n",
       "      <td>60</td>\n",
       "      <td>NaN</td>\n",
       "      <td>4/4/2022 0:00</td>\n",
       "      <td>Diabetes</td>\n",
       "      <td>DrugA</td>\n",
       "    </tr>\n",
       "    <tr>\n",
       "      <th>3</th>\n",
       "      <td>ID1003</td>\n",
       "      <td>14</td>\n",
       "      <td>Female</td>\n",
       "      <td>NaN</td>\n",
       "      <td>110.0</td>\n",
       "      <td>1</td>\n",
       "      <td>180</td>\n",
       "      <td>Y</td>\n",
       "      <td>70</td>\n",
       "      <td>170</td>\n",
       "      <td>3/12/2022 0:00</td>\n",
       "      <td>Flu</td>\n",
       "      <td>NaN</td>\n",
       "    </tr>\n",
       "    <tr>\n",
       "      <th>4</th>\n",
       "      <td>ID1004</td>\n",
       "      <td>71</td>\n",
       "      <td>Male</td>\n",
       "      <td>NaN</td>\n",
       "      <td>80.0</td>\n",
       "      <td>N</td>\n",
       "      <td>200</td>\n",
       "      <td>Occasional</td>\n",
       "      <td>80</td>\n",
       "      <td>NaN</td>\n",
       "      <td>4/7/2022 0:00</td>\n",
       "      <td>Hypertension</td>\n",
       "      <td>NaN</td>\n",
       "    </tr>\n",
       "    <tr>\n",
       "      <th>...</th>\n",
       "      <td>...</td>\n",
       "      <td>...</td>\n",
       "      <td>...</td>\n",
       "      <td>...</td>\n",
       "      <td>...</td>\n",
       "      <td>...</td>\n",
       "      <td>...</td>\n",
       "      <td>...</td>\n",
       "      <td>...</td>\n",
       "      <td>...</td>\n",
       "      <td>...</td>\n",
       "      <td>...</td>\n",
       "      <td>...</td>\n",
       "    </tr>\n",
       "    <tr>\n",
       "      <th>1294</th>\n",
       "      <td>ID2195</td>\n",
       "      <td>52</td>\n",
       "      <td>Male</td>\n",
       "      <td>110</td>\n",
       "      <td>100.0</td>\n",
       "      <td>1</td>\n",
       "      <td>200</td>\n",
       "      <td>NaN</td>\n",
       "      <td>60</td>\n",
       "      <td>190</td>\n",
       "      <td>2/2/2022 0:00</td>\n",
       "      <td>Flu</td>\n",
       "      <td>NaN</td>\n",
       "    </tr>\n",
       "    <tr>\n",
       "      <th>1295</th>\n",
       "      <td>ID2196</td>\n",
       "      <td>50</td>\n",
       "      <td>Female</td>\n",
       "      <td>120</td>\n",
       "      <td>NaN</td>\n",
       "      <td>1</td>\n",
       "      <td>NaN</td>\n",
       "      <td>No</td>\n",
       "      <td>50</td>\n",
       "      <td>180</td>\n",
       "      <td>4/3/2022 0:00</td>\n",
       "      <td>C0vid</td>\n",
       "      <td>DrugC</td>\n",
       "    </tr>\n",
       "    <tr>\n",
       "      <th>1296</th>\n",
       "      <td>ID2197</td>\n",
       "      <td>38</td>\n",
       "      <td>Other</td>\n",
       "      <td>Low</td>\n",
       "      <td>70.0</td>\n",
       "      <td>Y</td>\n",
       "      <td>250</td>\n",
       "      <td>NaN</td>\n",
       "      <td>90</td>\n",
       "      <td>Tall</td>\n",
       "      <td>1/10/2022 0:00</td>\n",
       "      <td>Diabetes</td>\n",
       "      <td>DrugA</td>\n",
       "    </tr>\n",
       "    <tr>\n",
       "      <th>1297</th>\n",
       "      <td>ID2198</td>\n",
       "      <td>50</td>\n",
       "      <td>Male</td>\n",
       "      <td>120</td>\n",
       "      <td>90.0</td>\n",
       "      <td>Y</td>\n",
       "      <td>Two Hundred</td>\n",
       "      <td>No</td>\n",
       "      <td>NaN</td>\n",
       "      <td>150</td>\n",
       "      <td>3/14/2022 0:00</td>\n",
       "      <td>C0vid</td>\n",
       "      <td>NaN</td>\n",
       "    </tr>\n",
       "    <tr>\n",
       "      <th>1298</th>\n",
       "      <td>ID2199</td>\n",
       "      <td>69</td>\n",
       "      <td>Female</td>\n",
       "      <td>120</td>\n",
       "      <td>NaN</td>\n",
       "      <td>0</td>\n",
       "      <td>Two Hundred</td>\n",
       "      <td>No</td>\n",
       "      <td>50</td>\n",
       "      <td>Tall</td>\n",
       "      <td>2/28/2022 0:00</td>\n",
       "      <td>NaN</td>\n",
       "      <td>DrugA</td>\n",
       "    </tr>\n",
       "  </tbody>\n",
       "</table>\n",
       "<p>1200 rows × 13 columns</p>\n",
       "</div>"
      ],
      "text/plain": [
       "     Patient_ID  Age  Gender Blood_Pressure  Heart_Rate Diabetes  \\\n",
       "0        ID1000   48  Female            NaN         NaN       No   \n",
       "1        ID1001   51   Other           High        90.0        0   \n",
       "2        ID1002   92   Other            NaN        60.0      NaN   \n",
       "3        ID1003   14  Female            NaN       110.0        1   \n",
       "4        ID1004   71    Male            NaN        80.0        N   \n",
       "...         ...  ...     ...            ...         ...      ...   \n",
       "1294     ID2195   52    Male            110       100.0        1   \n",
       "1295     ID2196   50  Female            120         NaN        1   \n",
       "1296     ID2197   38   Other            Low        70.0        Y   \n",
       "1297     ID2198   50    Male            120        90.0        Y   \n",
       "1298     ID2199   69  Female            120         NaN        0   \n",
       "\n",
       "     Cholesterol_Level      Smoker Weight_kg Height_cm      Visit_Date  \\\n",
       "0                  NaN         NaN   Seventy       160  3/22/2022 0:00   \n",
       "1                  250         Yes        80       160   4/3/2022 0:00   \n",
       "2                  180           N        60       NaN   4/4/2022 0:00   \n",
       "3                  180           Y        70       170  3/12/2022 0:00   \n",
       "4                  200  Occasional        80       NaN   4/7/2022 0:00   \n",
       "...                ...         ...       ...       ...             ...   \n",
       "1294               200         NaN        60       190   2/2/2022 0:00   \n",
       "1295               NaN          No        50       180   4/3/2022 0:00   \n",
       "1296               250         NaN        90      Tall  1/10/2022 0:00   \n",
       "1297       Two Hundred          No       NaN       150  3/14/2022 0:00   \n",
       "1298       Two Hundred          No        50      Tall  2/28/2022 0:00   \n",
       "\n",
       "         Diagnosis Medication  \n",
       "0            C0vid        NaN  \n",
       "1         Diabetes        NaN  \n",
       "2         Diabetes      DrugA  \n",
       "3              Flu        NaN  \n",
       "4     Hypertension        NaN  \n",
       "...            ...        ...  \n",
       "1294           Flu        NaN  \n",
       "1295         C0vid      DrugC  \n",
       "1296      Diabetes      DrugA  \n",
       "1297         C0vid        NaN  \n",
       "1298           NaN      DrugA  \n",
       "\n",
       "[1200 rows x 13 columns]"
      ]
     },
     "execution_count": 48,
     "metadata": {},
     "output_type": "execute_result"
    }
   ],
   "source": [
    "df"
   ]
  },
  {
   "cell_type": "code",
   "execution_count": 49,
   "id": "efa9e186",
   "metadata": {},
   "outputs": [
    {
     "data": {
      "text/plain": [
       "163"
      ]
     },
     "execution_count": 49,
     "metadata": {},
     "output_type": "execute_result"
    }
   ],
   "source": [
    "df['Blood_Pressure'].isnull().sum()"
   ]
  },
  {
   "cell_type": "code",
   "execution_count": 50,
   "id": "04a91675",
   "metadata": {},
   "outputs": [
    {
     "name": "stderr",
     "output_type": "stream",
     "text": [
      "C:\\Users\\abhin\\AppData\\Local\\Temp\\ipykernel_18672\\1665325441.py:1: SettingWithCopyWarning: \n",
      "A value is trying to be set on a copy of a slice from a DataFrame.\n",
      "Try using .loc[row_indexer,col_indexer] = value instead\n",
      "\n",
      "See the caveats in the documentation: https://pandas.pydata.org/pandas-docs/stable/user_guide/indexing.html#returning-a-view-versus-a-copy\n",
      "  df['Blood_Pressure']=df['Blood_Pressure'].replace({'High':140,'Low':90})\n"
     ]
    }
   ],
   "source": [
    "df['Blood_Pressure']=df['Blood_Pressure'].replace({'High':140,'Low':90})"
   ]
  },
  {
   "cell_type": "code",
   "execution_count": 51,
   "id": "3afeaf4b",
   "metadata": {},
   "outputs": [
    {
     "data": {
      "application/vnd.microsoft.datawrangler.viewer.v0+json": {
       "columns": [
        {
         "name": "index",
         "rawType": "int64",
         "type": "integer"
        },
        {
         "name": "Blood_Pressure",
         "rawType": "object",
         "type": "unknown"
        }
       ],
       "ref": "6214b6ca-6760-4aef-adce-009af63cf375",
       "rows": [
        [
         "0",
         null
        ],
        [
         "1",
         "140"
        ],
        [
         "2",
         null
        ],
        [
         "3",
         null
        ],
        [
         "4",
         null
        ],
        [
         "5",
         "120"
        ],
        [
         "6",
         "130"
        ],
        [
         "7",
         "140"
        ],
        [
         "8",
         "130"
        ],
        [
         "9",
         "110"
        ],
        [
         "10",
         "110"
        ],
        [
         "11",
         "110"
        ],
        [
         "12",
         "90"
        ],
        [
         "13",
         null
        ],
        [
         "14",
         "90"
        ],
        [
         "15",
         "120"
        ],
        [
         "16",
         "110"
        ],
        [
         "17",
         "140"
        ],
        [
         "19",
         "130"
        ],
        [
         "21",
         null
        ],
        [
         "22",
         "140"
        ],
        [
         "23",
         "140"
        ],
        [
         "24",
         null
        ],
        [
         "25",
         "90"
        ],
        [
         "26",
         "90"
        ],
        [
         "27",
         "140"
        ],
        [
         "28",
         "90"
        ],
        [
         "29",
         "110"
        ],
        [
         "31",
         "120"
        ],
        [
         "32",
         "130"
        ],
        [
         "33",
         "120"
        ],
        [
         "34",
         null
        ],
        [
         "35",
         "130"
        ],
        [
         "36",
         "130"
        ],
        [
         "37",
         "120"
        ],
        [
         "38",
         "140"
        ],
        [
         "39",
         "130"
        ],
        [
         "40",
         "120"
        ],
        [
         "41",
         "130"
        ],
        [
         "42",
         "140"
        ],
        [
         "43",
         "140"
        ],
        [
         "45",
         "110"
        ],
        [
         "46",
         "130"
        ],
        [
         "47",
         "140"
        ],
        [
         "48",
         "110"
        ],
        [
         "49",
         "110"
        ],
        [
         "50",
         null
        ],
        [
         "51",
         "130"
        ],
        [
         "52",
         "120"
        ],
        [
         "53",
         "130"
        ]
       ],
       "shape": {
        "columns": 1,
        "rows": 1200
       }
      },
      "text/plain": [
       "0       NaN\n",
       "1       140\n",
       "2       NaN\n",
       "3       NaN\n",
       "4       NaN\n",
       "       ... \n",
       "1294    110\n",
       "1295    120\n",
       "1296     90\n",
       "1297    120\n",
       "1298    120\n",
       "Name: Blood_Pressure, Length: 1200, dtype: object"
      ]
     },
     "execution_count": 51,
     "metadata": {},
     "output_type": "execute_result"
    }
   ],
   "source": [
    "df['Blood_Pressure']"
   ]
  },
  {
   "cell_type": "code",
   "execution_count": 52,
   "id": "975194eb",
   "metadata": {},
   "outputs": [
    {
     "data": {
      "text/plain": [
       "163"
      ]
     },
     "execution_count": 52,
     "metadata": {},
     "output_type": "execute_result"
    }
   ],
   "source": [
    "df['Blood_Pressure'].isnull().sum()"
   ]
  },
  {
   "cell_type": "code",
   "execution_count": 53,
   "id": "15513b5f",
   "metadata": {},
   "outputs": [
    {
     "name": "stderr",
     "output_type": "stream",
     "text": [
      "C:\\Users\\abhin\\AppData\\Local\\Temp\\ipykernel_18672\\2051850223.py:1: SettingWithCopyWarning: \n",
      "A value is trying to be set on a copy of a slice from a DataFrame.\n",
      "Try using .loc[row_indexer,col_indexer] = value instead\n",
      "\n",
      "See the caveats in the documentation: https://pandas.pydata.org/pandas-docs/stable/user_guide/indexing.html#returning-a-view-versus-a-copy\n",
      "  df['Blood_Pressure']=df['Blood_Pressure'].fillna(np.mean(pd.to_numeric(df['Blood_Pressure'])))\n"
     ]
    }
   ],
   "source": [
    "df['Blood_Pressure']=df['Blood_Pressure'].fillna(np.mean(pd.to_numeric(df['Blood_Pressure'])))"
   ]
  },
  {
   "cell_type": "code",
   "execution_count": 54,
   "id": "a2d82d32",
   "metadata": {},
   "outputs": [
    {
     "data": {
      "application/vnd.microsoft.datawrangler.viewer.v0+json": {
       "columns": [
        {
         "name": "index",
         "rawType": "int64",
         "type": "integer"
        },
        {
         "name": "Blood_Pressure",
         "rawType": "object",
         "type": "unknown"
        }
       ],
       "ref": "6eb984a6-a31b-46f2-b539-7f9a67ed1027",
       "rows": [
        [
         "0",
         "120.81002892960463"
        ],
        [
         "1",
         "140"
        ],
        [
         "2",
         "120.81002892960463"
        ],
        [
         "3",
         "120.81002892960463"
        ],
        [
         "4",
         "120.81002892960463"
        ],
        [
         "5",
         "120"
        ],
        [
         "6",
         "130"
        ],
        [
         "7",
         "140"
        ],
        [
         "8",
         "130"
        ],
        [
         "9",
         "110"
        ],
        [
         "10",
         "110"
        ],
        [
         "11",
         "110"
        ],
        [
         "12",
         "90"
        ],
        [
         "13",
         "120.81002892960463"
        ],
        [
         "14",
         "90"
        ],
        [
         "15",
         "120"
        ],
        [
         "16",
         "110"
        ],
        [
         "17",
         "140"
        ],
        [
         "19",
         "130"
        ],
        [
         "21",
         "120.81002892960463"
        ],
        [
         "22",
         "140"
        ],
        [
         "23",
         "140"
        ],
        [
         "24",
         "120.81002892960463"
        ],
        [
         "25",
         "90"
        ],
        [
         "26",
         "90"
        ],
        [
         "27",
         "140"
        ],
        [
         "28",
         "90"
        ],
        [
         "29",
         "110"
        ],
        [
         "31",
         "120"
        ],
        [
         "32",
         "130"
        ],
        [
         "33",
         "120"
        ],
        [
         "34",
         "120.81002892960463"
        ],
        [
         "35",
         "130"
        ],
        [
         "36",
         "130"
        ],
        [
         "37",
         "120"
        ],
        [
         "38",
         "140"
        ],
        [
         "39",
         "130"
        ],
        [
         "40",
         "120"
        ],
        [
         "41",
         "130"
        ],
        [
         "42",
         "140"
        ],
        [
         "43",
         "140"
        ],
        [
         "45",
         "110"
        ],
        [
         "46",
         "130"
        ],
        [
         "47",
         "140"
        ],
        [
         "48",
         "110"
        ],
        [
         "49",
         "110"
        ],
        [
         "50",
         "120.81002892960463"
        ],
        [
         "51",
         "130"
        ],
        [
         "52",
         "120"
        ],
        [
         "53",
         "130"
        ]
       ],
       "shape": {
        "columns": 1,
        "rows": 1200
       }
      },
      "text/plain": [
       "0       120.810029\n",
       "1              140\n",
       "2       120.810029\n",
       "3       120.810029\n",
       "4       120.810029\n",
       "           ...    \n",
       "1294           110\n",
       "1295           120\n",
       "1296            90\n",
       "1297           120\n",
       "1298           120\n",
       "Name: Blood_Pressure, Length: 1200, dtype: object"
      ]
     },
     "execution_count": 54,
     "metadata": {},
     "output_type": "execute_result"
    }
   ],
   "source": [
    "df['Blood_Pressure']"
   ]
  },
  {
   "cell_type": "code",
   "execution_count": 55,
   "id": "7b7dc0c2",
   "metadata": {},
   "outputs": [
    {
     "name": "stderr",
     "output_type": "stream",
     "text": [
      "C:\\Users\\abhin\\AppData\\Local\\Temp\\ipykernel_18672\\2788574788.py:1: SettingWithCopyWarning: \n",
      "A value is trying to be set on a copy of a slice from a DataFrame.\n",
      "Try using .loc[row_indexer,col_indexer] = value instead\n",
      "\n",
      "See the caveats in the documentation: https://pandas.pydata.org/pandas-docs/stable/user_guide/indexing.html#returning-a-view-versus-a-copy\n",
      "  df['Blood_Pressure']=df['Blood_Pressure'].astype('int')\n"
     ]
    }
   ],
   "source": [
    "df['Blood_Pressure']=df['Blood_Pressure'].astype('int')"
   ]
  },
  {
   "cell_type": "code",
   "execution_count": 56,
   "id": "a2a9081e",
   "metadata": {},
   "outputs": [
    {
     "data": {
      "application/vnd.microsoft.datawrangler.viewer.v0+json": {
       "columns": [
        {
         "name": "index",
         "rawType": "int64",
         "type": "integer"
        },
        {
         "name": "Blood_Pressure",
         "rawType": "int32",
         "type": "integer"
        }
       ],
       "ref": "1e27890a-ff0b-4fc6-a033-3310631154b4",
       "rows": [
        [
         "0",
         "120"
        ],
        [
         "1",
         "140"
        ],
        [
         "2",
         "120"
        ],
        [
         "3",
         "120"
        ],
        [
         "4",
         "120"
        ],
        [
         "5",
         "120"
        ],
        [
         "6",
         "130"
        ],
        [
         "7",
         "140"
        ],
        [
         "8",
         "130"
        ],
        [
         "9",
         "110"
        ],
        [
         "10",
         "110"
        ],
        [
         "11",
         "110"
        ],
        [
         "12",
         "90"
        ],
        [
         "13",
         "120"
        ],
        [
         "14",
         "90"
        ],
        [
         "15",
         "120"
        ],
        [
         "16",
         "110"
        ],
        [
         "17",
         "140"
        ],
        [
         "19",
         "130"
        ],
        [
         "21",
         "120"
        ],
        [
         "22",
         "140"
        ],
        [
         "23",
         "140"
        ],
        [
         "24",
         "120"
        ],
        [
         "25",
         "90"
        ],
        [
         "26",
         "90"
        ],
        [
         "27",
         "140"
        ],
        [
         "28",
         "90"
        ],
        [
         "29",
         "110"
        ],
        [
         "31",
         "120"
        ],
        [
         "32",
         "130"
        ],
        [
         "33",
         "120"
        ],
        [
         "34",
         "120"
        ],
        [
         "35",
         "130"
        ],
        [
         "36",
         "130"
        ],
        [
         "37",
         "120"
        ],
        [
         "38",
         "140"
        ],
        [
         "39",
         "130"
        ],
        [
         "40",
         "120"
        ],
        [
         "41",
         "130"
        ],
        [
         "42",
         "140"
        ],
        [
         "43",
         "140"
        ],
        [
         "45",
         "110"
        ],
        [
         "46",
         "130"
        ],
        [
         "47",
         "140"
        ],
        [
         "48",
         "110"
        ],
        [
         "49",
         "110"
        ],
        [
         "50",
         "120"
        ],
        [
         "51",
         "130"
        ],
        [
         "52",
         "120"
        ],
        [
         "53",
         "130"
        ]
       ],
       "shape": {
        "columns": 1,
        "rows": 1200
       }
      },
      "text/plain": [
       "0       120\n",
       "1       140\n",
       "2       120\n",
       "3       120\n",
       "4       120\n",
       "       ... \n",
       "1294    110\n",
       "1295    120\n",
       "1296     90\n",
       "1297    120\n",
       "1298    120\n",
       "Name: Blood_Pressure, Length: 1200, dtype: int32"
      ]
     },
     "execution_count": 56,
     "metadata": {},
     "output_type": "execute_result"
    }
   ],
   "source": [
    "df['Blood_Pressure']"
   ]
  },
  {
   "cell_type": "code",
   "execution_count": 57,
   "id": "4c93bd44",
   "metadata": {},
   "outputs": [
    {
     "data": {
      "text/plain": [
       "0"
      ]
     },
     "execution_count": 57,
     "metadata": {},
     "output_type": "execute_result"
    }
   ],
   "source": [
    "df['Blood_Pressure'].isnull().sum()"
   ]
  },
  {
   "cell_type": "code",
   "execution_count": 58,
   "id": "b534d085",
   "metadata": {},
   "outputs": [
    {
     "data": {
      "text/plain": [
       "Index(['Patient_ID', 'Age', 'Gender', 'Blood_Pressure', 'Heart_Rate',\n",
       "       'Diabetes', 'Cholesterol_Level', 'Smoker', 'Weight_kg', 'Height_cm',\n",
       "       'Visit_Date', 'Diagnosis', 'Medication'],\n",
       "      dtype='object')"
      ]
     },
     "execution_count": 58,
     "metadata": {},
     "output_type": "execute_result"
    }
   ],
   "source": [
    "df.columns"
   ]
  },
  {
   "cell_type": "code",
   "execution_count": 59,
   "id": "5615377a",
   "metadata": {},
   "outputs": [
    {
     "data": {
      "application/vnd.microsoft.datawrangler.viewer.v0+json": {
       "columns": [
        {
         "name": "index",
         "rawType": "int64",
         "type": "integer"
        },
        {
         "name": "Heart_Rate",
         "rawType": "float64",
         "type": "float"
        }
       ],
       "ref": "a5e4f3b4-98ef-4f62-86f8-2e88ffce3724",
       "rows": [
        [
         "0",
         null
        ],
        [
         "1",
         "90.0"
        ],
        [
         "2",
         "60.0"
        ],
        [
         "3",
         "110.0"
        ],
        [
         "4",
         "80.0"
        ],
        [
         "5",
         "100.0"
        ],
        [
         "6",
         "80.0"
        ],
        [
         "7",
         "60.0"
        ],
        [
         "8",
         "80.0"
        ],
        [
         "9",
         "110.0"
        ],
        [
         "10",
         "110.0"
        ],
        [
         "11",
         "60.0"
        ],
        [
         "12",
         "90.0"
        ],
        [
         "13",
         "80.0"
        ],
        [
         "14",
         "90.0"
        ],
        [
         "15",
         "90.0"
        ],
        [
         "16",
         null
        ],
        [
         "17",
         "70.0"
        ],
        [
         "19",
         "60.0"
        ],
        [
         "21",
         "100.0"
        ],
        [
         "22",
         "110.0"
        ],
        [
         "23",
         "110.0"
        ],
        [
         "24",
         "60.0"
        ],
        [
         "25",
         null
        ],
        [
         "26",
         null
        ],
        [
         "27",
         null
        ],
        [
         "28",
         null
        ],
        [
         "29",
         null
        ],
        [
         "31",
         "100.0"
        ],
        [
         "32",
         "110.0"
        ],
        [
         "33",
         "60.0"
        ],
        [
         "34",
         null
        ],
        [
         "35",
         "110.0"
        ],
        [
         "36",
         "90.0"
        ],
        [
         "37",
         "80.0"
        ],
        [
         "38",
         "80.0"
        ],
        [
         "39",
         null
        ],
        [
         "40",
         "110.0"
        ],
        [
         "41",
         "70.0"
        ],
        [
         "42",
         "100.0"
        ],
        [
         "43",
         null
        ],
        [
         "45",
         "100.0"
        ],
        [
         "46",
         "100.0"
        ],
        [
         "47",
         null
        ],
        [
         "48",
         "90.0"
        ],
        [
         "49",
         "100.0"
        ],
        [
         "50",
         "80.0"
        ],
        [
         "51",
         "90.0"
        ],
        [
         "52",
         "60.0"
        ],
        [
         "53",
         "100.0"
        ]
       ],
       "shape": {
        "columns": 1,
        "rows": 1200
       }
      },
      "text/plain": [
       "0         NaN\n",
       "1        90.0\n",
       "2        60.0\n",
       "3       110.0\n",
       "4        80.0\n",
       "        ...  \n",
       "1294    100.0\n",
       "1295      NaN\n",
       "1296     70.0\n",
       "1297     90.0\n",
       "1298      NaN\n",
       "Name: Heart_Rate, Length: 1200, dtype: float64"
      ]
     },
     "execution_count": 59,
     "metadata": {},
     "output_type": "execute_result"
    }
   ],
   "source": [
    "df['Heart_Rate']"
   ]
  },
  {
   "cell_type": "code",
   "execution_count": 60,
   "id": "c5d3e37c",
   "metadata": {},
   "outputs": [
    {
     "data": {
      "text/plain": [
       "281"
      ]
     },
     "execution_count": 60,
     "metadata": {},
     "output_type": "execute_result"
    }
   ],
   "source": [
    "df['Heart_Rate'].isnull().sum()"
   ]
  },
  {
   "cell_type": "code",
   "execution_count": 61,
   "id": "5438041d",
   "metadata": {},
   "outputs": [
    {
     "name": "stderr",
     "output_type": "stream",
     "text": [
      "C:\\Users\\abhin\\AppData\\Local\\Temp\\ipykernel_18672\\3811743101.py:1: SettingWithCopyWarning: \n",
      "A value is trying to be set on a copy of a slice from a DataFrame.\n",
      "Try using .loc[row_indexer,col_indexer] = value instead\n",
      "\n",
      "See the caveats in the documentation: https://pandas.pydata.org/pandas-docs/stable/user_guide/indexing.html#returning-a-view-versus-a-copy\n",
      "  df['Heart_Rate']=df['Heart_Rate'].fillna(np.mean(pd.to_numeric(df['Heart_Rate']))).astype('int')\n"
     ]
    }
   ],
   "source": [
    "df['Heart_Rate']=df['Heart_Rate'].fillna(np.mean(pd.to_numeric(df['Heart_Rate']))).astype('int')"
   ]
  },
  {
   "cell_type": "code",
   "execution_count": 62,
   "id": "ecc02812",
   "metadata": {},
   "outputs": [
    {
     "data": {
      "application/vnd.microsoft.datawrangler.viewer.v0+json": {
       "columns": [
        {
         "name": "index",
         "rawType": "int64",
         "type": "integer"
        },
        {
         "name": "Heart_Rate",
         "rawType": "int32",
         "type": "integer"
        }
       ],
       "ref": "3fdf2a42-74d5-479e-a4c7-59c9352577c3",
       "rows": [
        [
         "0",
         "85"
        ],
        [
         "1",
         "90"
        ],
        [
         "2",
         "60"
        ],
        [
         "3",
         "110"
        ],
        [
         "4",
         "80"
        ],
        [
         "5",
         "100"
        ],
        [
         "6",
         "80"
        ],
        [
         "7",
         "60"
        ],
        [
         "8",
         "80"
        ],
        [
         "9",
         "110"
        ],
        [
         "10",
         "110"
        ],
        [
         "11",
         "60"
        ],
        [
         "12",
         "90"
        ],
        [
         "13",
         "80"
        ],
        [
         "14",
         "90"
        ],
        [
         "15",
         "90"
        ],
        [
         "16",
         "85"
        ],
        [
         "17",
         "70"
        ],
        [
         "19",
         "60"
        ],
        [
         "21",
         "100"
        ],
        [
         "22",
         "110"
        ],
        [
         "23",
         "110"
        ],
        [
         "24",
         "60"
        ],
        [
         "25",
         "85"
        ],
        [
         "26",
         "85"
        ],
        [
         "27",
         "85"
        ],
        [
         "28",
         "85"
        ],
        [
         "29",
         "85"
        ],
        [
         "31",
         "100"
        ],
        [
         "32",
         "110"
        ],
        [
         "33",
         "60"
        ],
        [
         "34",
         "85"
        ],
        [
         "35",
         "110"
        ],
        [
         "36",
         "90"
        ],
        [
         "37",
         "80"
        ],
        [
         "38",
         "80"
        ],
        [
         "39",
         "85"
        ],
        [
         "40",
         "110"
        ],
        [
         "41",
         "70"
        ],
        [
         "42",
         "100"
        ],
        [
         "43",
         "85"
        ],
        [
         "45",
         "100"
        ],
        [
         "46",
         "100"
        ],
        [
         "47",
         "85"
        ],
        [
         "48",
         "90"
        ],
        [
         "49",
         "100"
        ],
        [
         "50",
         "80"
        ],
        [
         "51",
         "90"
        ],
        [
         "52",
         "60"
        ],
        [
         "53",
         "100"
        ]
       ],
       "shape": {
        "columns": 1,
        "rows": 1200
       }
      },
      "text/plain": [
       "0        85\n",
       "1        90\n",
       "2        60\n",
       "3       110\n",
       "4        80\n",
       "       ... \n",
       "1294    100\n",
       "1295     85\n",
       "1296     70\n",
       "1297     90\n",
       "1298     85\n",
       "Name: Heart_Rate, Length: 1200, dtype: int32"
      ]
     },
     "execution_count": 62,
     "metadata": {},
     "output_type": "execute_result"
    }
   ],
   "source": [
    "df['Heart_Rate']"
   ]
  },
  {
   "cell_type": "code",
   "execution_count": 63,
   "id": "f2aec9f2",
   "metadata": {},
   "outputs": [
    {
     "data": {
      "text/plain": [
       "0"
      ]
     },
     "execution_count": 63,
     "metadata": {},
     "output_type": "execute_result"
    }
   ],
   "source": [
    "df['Heart_Rate'].isnull().sum()"
   ]
  },
  {
   "cell_type": "code",
   "execution_count": 64,
   "id": "390fdb28",
   "metadata": {},
   "outputs": [
    {
     "data": {
      "text/plain": [
       "Index(['Patient_ID', 'Age', 'Gender', 'Blood_Pressure', 'Heart_Rate',\n",
       "       'Diabetes', 'Cholesterol_Level', 'Smoker', 'Weight_kg', 'Height_cm',\n",
       "       'Visit_Date', 'Diagnosis', 'Medication'],\n",
       "      dtype='object')"
      ]
     },
     "execution_count": 64,
     "metadata": {},
     "output_type": "execute_result"
    }
   ],
   "source": [
    "df.columns"
   ]
  },
  {
   "cell_type": "code",
   "execution_count": 65,
   "id": "6a39d4da",
   "metadata": {},
   "outputs": [
    {
     "data": {
      "text/plain": [
       "193"
      ]
     },
     "execution_count": 65,
     "metadata": {},
     "output_type": "execute_result"
    }
   ],
   "source": [
    "df['Diabetes'].isnull().sum()"
   ]
  },
  {
   "cell_type": "code",
   "execution_count": 66,
   "id": "b5f37463",
   "metadata": {},
   "outputs": [
    {
     "data": {
      "application/vnd.microsoft.datawrangler.viewer.v0+json": {
       "columns": [
        {
         "name": "index",
         "rawType": "int64",
         "type": "integer"
        },
        {
         "name": "Diabetes",
         "rawType": "object",
         "type": "unknown"
        }
       ],
       "ref": "1c8b347f-4dce-425e-8e5b-de9ee77ed062",
       "rows": [
        [
         "0",
         "No"
        ],
        [
         "1",
         "0"
        ],
        [
         "2",
         null
        ],
        [
         "3",
         "1"
        ],
        [
         "4",
         "N"
        ],
        [
         "5",
         null
        ],
        [
         "6",
         "Yes"
        ],
        [
         "7",
         "N"
        ],
        [
         "8",
         null
        ],
        [
         "9",
         "Y"
        ],
        [
         "10",
         "N"
        ],
        [
         "11",
         "N"
        ],
        [
         "12",
         "No"
        ],
        [
         "13",
         "Y"
        ],
        [
         "14",
         "Yes"
        ],
        [
         "15",
         "1"
        ],
        [
         "16",
         "0"
        ],
        [
         "17",
         null
        ],
        [
         "19",
         "No"
        ],
        [
         "21",
         null
        ],
        [
         "22",
         "Yes"
        ],
        [
         "23",
         "Yes"
        ],
        [
         "24",
         "N"
        ],
        [
         "25",
         "0"
        ],
        [
         "26",
         "Yes"
        ],
        [
         "27",
         null
        ],
        [
         "28",
         "Y"
        ],
        [
         "29",
         "Y"
        ],
        [
         "31",
         "N"
        ],
        [
         "32",
         "1"
        ],
        [
         "33",
         null
        ],
        [
         "34",
         null
        ],
        [
         "35",
         "Yes"
        ],
        [
         "36",
         "0"
        ],
        [
         "37",
         null
        ],
        [
         "38",
         "No"
        ],
        [
         "39",
         "1"
        ],
        [
         "40",
         "Yes"
        ],
        [
         "41",
         "No"
        ],
        [
         "42",
         "N"
        ],
        [
         "43",
         "Y"
        ],
        [
         "45",
         "N"
        ],
        [
         "46",
         "Y"
        ],
        [
         "47",
         "N"
        ],
        [
         "48",
         null
        ],
        [
         "49",
         "No"
        ],
        [
         "50",
         "Y"
        ],
        [
         "51",
         "Yes"
        ],
        [
         "52",
         "No"
        ],
        [
         "53",
         "Yes"
        ]
       ],
       "shape": {
        "columns": 1,
        "rows": 1200
       }
      },
      "text/plain": [
       "0        No\n",
       "1         0\n",
       "2       NaN\n",
       "3         1\n",
       "4         N\n",
       "       ... \n",
       "1294      1\n",
       "1295      1\n",
       "1296      Y\n",
       "1297      Y\n",
       "1298      0\n",
       "Name: Diabetes, Length: 1200, dtype: object"
      ]
     },
     "execution_count": 66,
     "metadata": {},
     "output_type": "execute_result"
    }
   ],
   "source": [
    "df['Diabetes']"
   ]
  },
  {
   "cell_type": "code",
   "execution_count": 67,
   "id": "238ddd9f",
   "metadata": {},
   "outputs": [
    {
     "name": "stderr",
     "output_type": "stream",
     "text": [
      "C:\\Users\\abhin\\AppData\\Local\\Temp\\ipykernel_18672\\2691200841.py:1: FutureWarning: Downcasting behavior in `replace` is deprecated and will be removed in a future version. To retain the old behavior, explicitly call `result.infer_objects(copy=False)`. To opt-in to the future behavior, set `pd.set_option('future.no_silent_downcasting', True)`\n",
      "  df['Diabetes']=df['Diabetes'].replace({'Yes':1,'No':0,'Y':1,'N':0,'1':1,'0':0})\n",
      "C:\\Users\\abhin\\AppData\\Local\\Temp\\ipykernel_18672\\2691200841.py:1: SettingWithCopyWarning: \n",
      "A value is trying to be set on a copy of a slice from a DataFrame.\n",
      "Try using .loc[row_indexer,col_indexer] = value instead\n",
      "\n",
      "See the caveats in the documentation: https://pandas.pydata.org/pandas-docs/stable/user_guide/indexing.html#returning-a-view-versus-a-copy\n",
      "  df['Diabetes']=df['Diabetes'].replace({'Yes':1,'No':0,'Y':1,'N':0,'1':1,'0':0})\n"
     ]
    }
   ],
   "source": [
    "df['Diabetes']=df['Diabetes'].replace({'Yes':1,'No':0,'Y':1,'N':0,'1':1,'0':0})"
   ]
  },
  {
   "cell_type": "code",
   "execution_count": 68,
   "id": "dd426bd2",
   "metadata": {},
   "outputs": [
    {
     "data": {
      "application/vnd.microsoft.datawrangler.viewer.v0+json": {
       "columns": [
        {
         "name": "index",
         "rawType": "int64",
         "type": "integer"
        },
        {
         "name": "Diabetes",
         "rawType": "float64",
         "type": "float"
        }
       ],
       "ref": "927a076b-1981-464f-b8bf-1e154933a51a",
       "rows": [
        [
         "0",
         "0.0"
        ],
        [
         "1",
         "0.0"
        ],
        [
         "2",
         null
        ],
        [
         "3",
         "1.0"
        ],
        [
         "4",
         "0.0"
        ],
        [
         "5",
         null
        ],
        [
         "6",
         "1.0"
        ],
        [
         "7",
         "0.0"
        ],
        [
         "8",
         null
        ],
        [
         "9",
         "1.0"
        ],
        [
         "10",
         "0.0"
        ],
        [
         "11",
         "0.0"
        ],
        [
         "12",
         "0.0"
        ],
        [
         "13",
         "1.0"
        ],
        [
         "14",
         "1.0"
        ],
        [
         "15",
         "1.0"
        ],
        [
         "16",
         "0.0"
        ],
        [
         "17",
         null
        ],
        [
         "19",
         "0.0"
        ],
        [
         "21",
         null
        ],
        [
         "22",
         "1.0"
        ],
        [
         "23",
         "1.0"
        ],
        [
         "24",
         "0.0"
        ],
        [
         "25",
         "0.0"
        ],
        [
         "26",
         "1.0"
        ],
        [
         "27",
         null
        ],
        [
         "28",
         "1.0"
        ],
        [
         "29",
         "1.0"
        ],
        [
         "31",
         "0.0"
        ],
        [
         "32",
         "1.0"
        ],
        [
         "33",
         null
        ],
        [
         "34",
         null
        ],
        [
         "35",
         "1.0"
        ],
        [
         "36",
         "0.0"
        ],
        [
         "37",
         null
        ],
        [
         "38",
         "0.0"
        ],
        [
         "39",
         "1.0"
        ],
        [
         "40",
         "1.0"
        ],
        [
         "41",
         "0.0"
        ],
        [
         "42",
         "0.0"
        ],
        [
         "43",
         "1.0"
        ],
        [
         "45",
         "0.0"
        ],
        [
         "46",
         "1.0"
        ],
        [
         "47",
         "0.0"
        ],
        [
         "48",
         null
        ],
        [
         "49",
         "0.0"
        ],
        [
         "50",
         "1.0"
        ],
        [
         "51",
         "1.0"
        ],
        [
         "52",
         "0.0"
        ],
        [
         "53",
         "1.0"
        ]
       ],
       "shape": {
        "columns": 1,
        "rows": 1200
       }
      },
      "text/plain": [
       "0       0.0\n",
       "1       0.0\n",
       "2       NaN\n",
       "3       1.0\n",
       "4       0.0\n",
       "       ... \n",
       "1294    1.0\n",
       "1295    1.0\n",
       "1296    1.0\n",
       "1297    1.0\n",
       "1298    0.0\n",
       "Name: Diabetes, Length: 1200, dtype: float64"
      ]
     },
     "execution_count": 68,
     "metadata": {},
     "output_type": "execute_result"
    }
   ],
   "source": [
    "df['Diabetes']"
   ]
  },
  {
   "cell_type": "code",
   "execution_count": 69,
   "id": "723a50b4",
   "metadata": {},
   "outputs": [
    {
     "name": "stderr",
     "output_type": "stream",
     "text": [
      "C:\\Users\\abhin\\AppData\\Local\\Temp\\ipykernel_18672\\2150511.py:1: SettingWithCopyWarning: \n",
      "A value is trying to be set on a copy of a slice from a DataFrame.\n",
      "Try using .loc[row_indexer,col_indexer] = value instead\n",
      "\n",
      "See the caveats in the documentation: https://pandas.pydata.org/pandas-docs/stable/user_guide/indexing.html#returning-a-view-versus-a-copy\n",
      "  df['Diabetes']=df['Diabetes'].fillna(0).astype('int')\n"
     ]
    }
   ],
   "source": [
    "df['Diabetes']=df['Diabetes'].fillna(0).astype('int')"
   ]
  },
  {
   "cell_type": "code",
   "execution_count": 70,
   "id": "954a878d",
   "metadata": {},
   "outputs": [
    {
     "data": {
      "application/vnd.microsoft.datawrangler.viewer.v0+json": {
       "columns": [
        {
         "name": "index",
         "rawType": "int64",
         "type": "integer"
        },
        {
         "name": "Diabetes",
         "rawType": "int32",
         "type": "integer"
        }
       ],
       "ref": "5f3acffd-2620-4c6d-acc6-d51cef9620c2",
       "rows": [
        [
         "0",
         "0"
        ],
        [
         "1",
         "0"
        ],
        [
         "2",
         "0"
        ],
        [
         "3",
         "1"
        ],
        [
         "4",
         "0"
        ],
        [
         "5",
         "0"
        ],
        [
         "6",
         "1"
        ],
        [
         "7",
         "0"
        ],
        [
         "8",
         "0"
        ],
        [
         "9",
         "1"
        ],
        [
         "10",
         "0"
        ],
        [
         "11",
         "0"
        ],
        [
         "12",
         "0"
        ],
        [
         "13",
         "1"
        ],
        [
         "14",
         "1"
        ],
        [
         "15",
         "1"
        ],
        [
         "16",
         "0"
        ],
        [
         "17",
         "0"
        ],
        [
         "19",
         "0"
        ],
        [
         "21",
         "0"
        ],
        [
         "22",
         "1"
        ],
        [
         "23",
         "1"
        ],
        [
         "24",
         "0"
        ],
        [
         "25",
         "0"
        ],
        [
         "26",
         "1"
        ],
        [
         "27",
         "0"
        ],
        [
         "28",
         "1"
        ],
        [
         "29",
         "1"
        ],
        [
         "31",
         "0"
        ],
        [
         "32",
         "1"
        ],
        [
         "33",
         "0"
        ],
        [
         "34",
         "0"
        ],
        [
         "35",
         "1"
        ],
        [
         "36",
         "0"
        ],
        [
         "37",
         "0"
        ],
        [
         "38",
         "0"
        ],
        [
         "39",
         "1"
        ],
        [
         "40",
         "1"
        ],
        [
         "41",
         "0"
        ],
        [
         "42",
         "0"
        ],
        [
         "43",
         "1"
        ],
        [
         "45",
         "0"
        ],
        [
         "46",
         "1"
        ],
        [
         "47",
         "0"
        ],
        [
         "48",
         "0"
        ],
        [
         "49",
         "0"
        ],
        [
         "50",
         "1"
        ],
        [
         "51",
         "1"
        ],
        [
         "52",
         "0"
        ],
        [
         "53",
         "1"
        ]
       ],
       "shape": {
        "columns": 1,
        "rows": 1200
       }
      },
      "text/plain": [
       "0       0\n",
       "1       0\n",
       "2       0\n",
       "3       1\n",
       "4       0\n",
       "       ..\n",
       "1294    1\n",
       "1295    1\n",
       "1296    1\n",
       "1297    1\n",
       "1298    0\n",
       "Name: Diabetes, Length: 1200, dtype: int32"
      ]
     },
     "execution_count": 70,
     "metadata": {},
     "output_type": "execute_result"
    }
   ],
   "source": [
    "df['Diabetes']"
   ]
  },
  {
   "cell_type": "code",
   "execution_count": 71,
   "id": "64b78186",
   "metadata": {},
   "outputs": [
    {
     "data": {
      "text/plain": [
       "Index(['Patient_ID', 'Age', 'Gender', 'Blood_Pressure', 'Heart_Rate',\n",
       "       'Diabetes', 'Cholesterol_Level', 'Smoker', 'Weight_kg', 'Height_cm',\n",
       "       'Visit_Date', 'Diagnosis', 'Medication'],\n",
       "      dtype='object')"
      ]
     },
     "execution_count": 71,
     "metadata": {},
     "output_type": "execute_result"
    }
   ],
   "source": [
    "df.columns"
   ]
  },
  {
   "cell_type": "code",
   "execution_count": 72,
   "id": "b7c4ffe0",
   "metadata": {},
   "outputs": [
    {
     "data": {
      "application/vnd.microsoft.datawrangler.viewer.v0+json": {
       "columns": [
        {
         "name": "index",
         "rawType": "int64",
         "type": "integer"
        },
        {
         "name": "Cholesterol_Level",
         "rawType": "object",
         "type": "unknown"
        }
       ],
       "ref": "baa81063-a598-4e24-830a-e373de9e7968",
       "rows": [
        [
         "0",
         null
        ],
        [
         "1",
         "250"
        ],
        [
         "2",
         "180"
        ],
        [
         "3",
         "180"
        ],
        [
         "4",
         "200"
        ],
        [
         "5",
         "Two Hundred"
        ],
        [
         "6",
         null
        ],
        [
         "7",
         "220"
        ],
        [
         "8",
         "Two Hundred"
        ],
        [
         "9",
         "220"
        ],
        [
         "10",
         "200"
        ],
        [
         "11",
         "200"
        ],
        [
         "12",
         "250"
        ],
        [
         "13",
         "200"
        ],
        [
         "14",
         "200"
        ],
        [
         "15",
         "220"
        ],
        [
         "16",
         "250"
        ],
        [
         "17",
         "200"
        ],
        [
         "19",
         "Two Hundred"
        ],
        [
         "21",
         "200"
        ],
        [
         "22",
         "250"
        ],
        [
         "23",
         null
        ],
        [
         "24",
         "250"
        ],
        [
         "25",
         "220"
        ],
        [
         "26",
         null
        ],
        [
         "27",
         "Two Hundred"
        ],
        [
         "28",
         "180"
        ],
        [
         "29",
         "250"
        ],
        [
         "31",
         "220"
        ],
        [
         "32",
         "Two Hundred"
        ],
        [
         "33",
         null
        ],
        [
         "34",
         "Two Hundred"
        ],
        [
         "35",
         "250"
        ],
        [
         "36",
         "200"
        ],
        [
         "37",
         "250"
        ],
        [
         "38",
         "180"
        ],
        [
         "39",
         "250"
        ],
        [
         "40",
         null
        ],
        [
         "41",
         null
        ],
        [
         "42",
         "250"
        ],
        [
         "43",
         null
        ],
        [
         "45",
         "200"
        ],
        [
         "46",
         "Two Hundred"
        ],
        [
         "47",
         "250"
        ],
        [
         "48",
         "200"
        ],
        [
         "49",
         "Two Hundred"
        ],
        [
         "50",
         "Two Hundred"
        ],
        [
         "51",
         "200"
        ],
        [
         "52",
         "220"
        ],
        [
         "53",
         "250"
        ]
       ],
       "shape": {
        "columns": 1,
        "rows": 1200
       }
      },
      "text/plain": [
       "0               NaN\n",
       "1               250\n",
       "2               180\n",
       "3               180\n",
       "4               200\n",
       "           ...     \n",
       "1294            200\n",
       "1295            NaN\n",
       "1296            250\n",
       "1297    Two Hundred\n",
       "1298    Two Hundred\n",
       "Name: Cholesterol_Level, Length: 1200, dtype: object"
      ]
     },
     "execution_count": 72,
     "metadata": {},
     "output_type": "execute_result"
    }
   ],
   "source": [
    "df['Cholesterol_Level']"
   ]
  },
  {
   "cell_type": "code",
   "execution_count": 73,
   "id": "e471c243",
   "metadata": {},
   "outputs": [
    {
     "name": "stderr",
     "output_type": "stream",
     "text": [
      "C:\\Users\\abhin\\AppData\\Local\\Temp\\ipykernel_18672\\2276830714.py:1: SettingWithCopyWarning: \n",
      "A value is trying to be set on a copy of a slice from a DataFrame.\n",
      "Try using .loc[row_indexer,col_indexer] = value instead\n",
      "\n",
      "See the caveats in the documentation: https://pandas.pydata.org/pandas-docs/stable/user_guide/indexing.html#returning-a-view-versus-a-copy\n",
      "  df['Cholesterol_Level']=df['Cholesterol_Level'].replace({'Two Hundred':200})\n"
     ]
    }
   ],
   "source": [
    "df['Cholesterol_Level']=df['Cholesterol_Level'].replace({'Two Hundred':200})"
   ]
  },
  {
   "cell_type": "code",
   "execution_count": 74,
   "id": "42ef4b45",
   "metadata": {},
   "outputs": [
    {
     "data": {
      "application/vnd.microsoft.datawrangler.viewer.v0+json": {
       "columns": [
        {
         "name": "index",
         "rawType": "int64",
         "type": "integer"
        },
        {
         "name": "Cholesterol_Level",
         "rawType": "object",
         "type": "unknown"
        }
       ],
       "ref": "bf0cceb1-2285-496e-a3ee-b9fbbb491323",
       "rows": [
        [
         "0",
         null
        ],
        [
         "1",
         "250"
        ],
        [
         "2",
         "180"
        ],
        [
         "3",
         "180"
        ],
        [
         "4",
         "200"
        ],
        [
         "5",
         "200"
        ],
        [
         "6",
         null
        ],
        [
         "7",
         "220"
        ],
        [
         "8",
         "200"
        ],
        [
         "9",
         "220"
        ],
        [
         "10",
         "200"
        ],
        [
         "11",
         "200"
        ],
        [
         "12",
         "250"
        ],
        [
         "13",
         "200"
        ],
        [
         "14",
         "200"
        ],
        [
         "15",
         "220"
        ],
        [
         "16",
         "250"
        ],
        [
         "17",
         "200"
        ],
        [
         "19",
         "200"
        ],
        [
         "21",
         "200"
        ],
        [
         "22",
         "250"
        ],
        [
         "23",
         null
        ],
        [
         "24",
         "250"
        ],
        [
         "25",
         "220"
        ],
        [
         "26",
         null
        ],
        [
         "27",
         "200"
        ],
        [
         "28",
         "180"
        ],
        [
         "29",
         "250"
        ],
        [
         "31",
         "220"
        ],
        [
         "32",
         "200"
        ],
        [
         "33",
         null
        ],
        [
         "34",
         "200"
        ],
        [
         "35",
         "250"
        ],
        [
         "36",
         "200"
        ],
        [
         "37",
         "250"
        ],
        [
         "38",
         "180"
        ],
        [
         "39",
         "250"
        ],
        [
         "40",
         null
        ],
        [
         "41",
         null
        ],
        [
         "42",
         "250"
        ],
        [
         "43",
         null
        ],
        [
         "45",
         "200"
        ],
        [
         "46",
         "200"
        ],
        [
         "47",
         "250"
        ],
        [
         "48",
         "200"
        ],
        [
         "49",
         "200"
        ],
        [
         "50",
         "200"
        ],
        [
         "51",
         "200"
        ],
        [
         "52",
         "220"
        ],
        [
         "53",
         "250"
        ]
       ],
       "shape": {
        "columns": 1,
        "rows": 1200
       }
      },
      "text/plain": [
       "0       NaN\n",
       "1       250\n",
       "2       180\n",
       "3       180\n",
       "4       200\n",
       "       ... \n",
       "1294    200\n",
       "1295    NaN\n",
       "1296    250\n",
       "1297    200\n",
       "1298    200\n",
       "Name: Cholesterol_Level, Length: 1200, dtype: object"
      ]
     },
     "execution_count": 74,
     "metadata": {},
     "output_type": "execute_result"
    }
   ],
   "source": [
    "df['Cholesterol_Level']"
   ]
  },
  {
   "cell_type": "code",
   "execution_count": 80,
   "id": "2291a6d7",
   "metadata": {},
   "outputs": [
    {
     "name": "stderr",
     "output_type": "stream",
     "text": [
      "C:\\Users\\abhin\\AppData\\Local\\Temp\\ipykernel_18672\\1607225512.py:1: SettingWithCopyWarning: \n",
      "A value is trying to be set on a copy of a slice from a DataFrame.\n",
      "Try using .loc[row_indexer,col_indexer] = value instead\n",
      "\n",
      "See the caveats in the documentation: https://pandas.pydata.org/pandas-docs/stable/user_guide/indexing.html#returning-a-view-versus-a-copy\n",
      "  df['Cholesterol_Level']=df['Cholesterol_Level'].fillna(np.mean(pd.to_numeric(df['Cholesterol_Level']))).astype('int')\n"
     ]
    }
   ],
   "source": [
    "df['Cholesterol_Level']=df['Cholesterol_Level'].fillna(np.mean(pd.to_numeric(df['Cholesterol_Level']))).astype('int')"
   ]
  },
  {
   "cell_type": "code",
   "execution_count": 81,
   "id": "33a9d412",
   "metadata": {},
   "outputs": [
    {
     "data": {
      "application/vnd.microsoft.datawrangler.viewer.v0+json": {
       "columns": [
        {
         "name": "index",
         "rawType": "int64",
         "type": "integer"
        },
        {
         "name": "Cholesterol_Level",
         "rawType": "int32",
         "type": "integer"
        }
       ],
       "ref": "4cf0267a-78d6-43d5-ba0d-db5e92d27134",
       "rows": [
        [
         "0",
         "211"
        ],
        [
         "1",
         "250"
        ],
        [
         "2",
         "180"
        ],
        [
         "3",
         "180"
        ],
        [
         "4",
         "200"
        ],
        [
         "5",
         "200"
        ],
        [
         "6",
         "211"
        ],
        [
         "7",
         "220"
        ],
        [
         "8",
         "200"
        ],
        [
         "9",
         "220"
        ],
        [
         "10",
         "200"
        ],
        [
         "11",
         "200"
        ],
        [
         "12",
         "250"
        ],
        [
         "13",
         "200"
        ],
        [
         "14",
         "200"
        ],
        [
         "15",
         "220"
        ],
        [
         "16",
         "250"
        ],
        [
         "17",
         "200"
        ],
        [
         "19",
         "200"
        ],
        [
         "21",
         "200"
        ],
        [
         "22",
         "250"
        ],
        [
         "23",
         "211"
        ],
        [
         "24",
         "250"
        ],
        [
         "25",
         "220"
        ],
        [
         "26",
         "211"
        ],
        [
         "27",
         "200"
        ],
        [
         "28",
         "180"
        ],
        [
         "29",
         "250"
        ],
        [
         "31",
         "220"
        ],
        [
         "32",
         "200"
        ],
        [
         "33",
         "211"
        ],
        [
         "34",
         "200"
        ],
        [
         "35",
         "250"
        ],
        [
         "36",
         "200"
        ],
        [
         "37",
         "250"
        ],
        [
         "38",
         "180"
        ],
        [
         "39",
         "250"
        ],
        [
         "40",
         "211"
        ],
        [
         "41",
         "211"
        ],
        [
         "42",
         "250"
        ],
        [
         "43",
         "211"
        ],
        [
         "45",
         "200"
        ],
        [
         "46",
         "200"
        ],
        [
         "47",
         "250"
        ],
        [
         "48",
         "200"
        ],
        [
         "49",
         "200"
        ],
        [
         "50",
         "200"
        ],
        [
         "51",
         "200"
        ],
        [
         "52",
         "220"
        ],
        [
         "53",
         "250"
        ]
       ],
       "shape": {
        "columns": 1,
        "rows": 1200
       }
      },
      "text/plain": [
       "0       211\n",
       "1       250\n",
       "2       180\n",
       "3       180\n",
       "4       200\n",
       "       ... \n",
       "1294    200\n",
       "1295    211\n",
       "1296    250\n",
       "1297    200\n",
       "1298    200\n",
       "Name: Cholesterol_Level, Length: 1200, dtype: int32"
      ]
     },
     "execution_count": 81,
     "metadata": {},
     "output_type": "execute_result"
    }
   ],
   "source": [
    "df['Cholesterol_Level']"
   ]
  },
  {
   "cell_type": "code",
   "execution_count": 82,
   "id": "07d5569c",
   "metadata": {},
   "outputs": [
    {
     "data": {
      "text/plain": [
       "0"
      ]
     },
     "execution_count": 82,
     "metadata": {},
     "output_type": "execute_result"
    }
   ],
   "source": [
    "df['Cholesterol_Level'].isnull().sum()"
   ]
  },
  {
   "cell_type": "code",
   "execution_count": 83,
   "id": "2fc66bcd",
   "metadata": {},
   "outputs": [
    {
     "data": {
      "text/plain": [
       "Index(['Patient_ID', 'Age', 'Gender', 'Blood_Pressure', 'Heart_Rate',\n",
       "       'Diabetes', 'Cholesterol_Level', 'Smoker', 'Weight_kg', 'Height_cm',\n",
       "       'Visit_Date', 'Diagnosis', 'Medication'],\n",
       "      dtype='object')"
      ]
     },
     "execution_count": 83,
     "metadata": {},
     "output_type": "execute_result"
    }
   ],
   "source": [
    "df.columns"
   ]
  },
  {
   "cell_type": "code",
   "execution_count": 84,
   "id": "d6be672d",
   "metadata": {},
   "outputs": [
    {
     "data": {
      "application/vnd.microsoft.datawrangler.viewer.v0+json": {
       "columns": [
        {
         "name": "index",
         "rawType": "int64",
         "type": "integer"
        },
        {
         "name": "Smoker",
         "rawType": "object",
         "type": "unknown"
        }
       ],
       "ref": "655a489a-9c8b-4eda-8726-7d9bd4fb6bba",
       "rows": [
        [
         "0",
         null
        ],
        [
         "1",
         "Yes"
        ],
        [
         "2",
         "N"
        ],
        [
         "3",
         "Y"
        ],
        [
         "4",
         "Occasional"
        ],
        [
         "5",
         "Y"
        ],
        [
         "6",
         "Yes"
        ],
        [
         "7",
         null
        ],
        [
         "8",
         "N"
        ],
        [
         "9",
         "Y"
        ],
        [
         "10",
         "No"
        ],
        [
         "11",
         "Occasional"
        ],
        [
         "12",
         "Y"
        ],
        [
         "13",
         "Occasional"
        ],
        [
         "14",
         "N"
        ],
        [
         "15",
         "No"
        ],
        [
         "16",
         null
        ],
        [
         "17",
         null
        ],
        [
         "19",
         "No"
        ],
        [
         "21",
         "Occasional"
        ],
        [
         "22",
         "N"
        ],
        [
         "23",
         "Y"
        ],
        [
         "24",
         "No"
        ],
        [
         "25",
         "Yes"
        ],
        [
         "26",
         "Occasional"
        ],
        [
         "27",
         null
        ],
        [
         "28",
         "No"
        ],
        [
         "29",
         null
        ],
        [
         "31",
         "Occasional"
        ],
        [
         "32",
         null
        ],
        [
         "33",
         "No"
        ],
        [
         "34",
         "Occasional"
        ],
        [
         "35",
         "Yes"
        ],
        [
         "36",
         "No"
        ],
        [
         "37",
         "Y"
        ],
        [
         "38",
         "N"
        ],
        [
         "39",
         "No"
        ],
        [
         "40",
         "Occasional"
        ],
        [
         "41",
         "N"
        ],
        [
         "42",
         "No"
        ],
        [
         "43",
         "Yes"
        ],
        [
         "45",
         "Yes"
        ],
        [
         "46",
         "Y"
        ],
        [
         "47",
         null
        ],
        [
         "48",
         "N"
        ],
        [
         "49",
         "Occasional"
        ],
        [
         "50",
         "Occasional"
        ],
        [
         "51",
         null
        ],
        [
         "52",
         "Yes"
        ],
        [
         "53",
         "Yes"
        ]
       ],
       "shape": {
        "columns": 1,
        "rows": 1200
       }
      },
      "text/plain": [
       "0              NaN\n",
       "1              Yes\n",
       "2                N\n",
       "3                Y\n",
       "4       Occasional\n",
       "           ...    \n",
       "1294           NaN\n",
       "1295            No\n",
       "1296           NaN\n",
       "1297            No\n",
       "1298            No\n",
       "Name: Smoker, Length: 1200, dtype: object"
      ]
     },
     "execution_count": 84,
     "metadata": {},
     "output_type": "execute_result"
    }
   ],
   "source": [
    "df['Smoker']"
   ]
  },
  {
   "cell_type": "code",
   "execution_count": 85,
   "id": "021276a1",
   "metadata": {},
   "outputs": [
    {
     "name": "stderr",
     "output_type": "stream",
     "text": [
      "C:\\Users\\abhin\\AppData\\Local\\Temp\\ipykernel_18672\\2430799243.py:1: FutureWarning: Downcasting behavior in `replace` is deprecated and will be removed in a future version. To retain the old behavior, explicitly call `result.infer_objects(copy=False)`. To opt-in to the future behavior, set `pd.set_option('future.no_silent_downcasting', True)`\n",
      "  df['Smoker']=df['Smoker'].replace({'Yes':1,'Y':1,'No':0,'N':0,'Occasional':1})\n",
      "C:\\Users\\abhin\\AppData\\Local\\Temp\\ipykernel_18672\\2430799243.py:1: SettingWithCopyWarning: \n",
      "A value is trying to be set on a copy of a slice from a DataFrame.\n",
      "Try using .loc[row_indexer,col_indexer] = value instead\n",
      "\n",
      "See the caveats in the documentation: https://pandas.pydata.org/pandas-docs/stable/user_guide/indexing.html#returning-a-view-versus-a-copy\n",
      "  df['Smoker']=df['Smoker'].replace({'Yes':1,'Y':1,'No':0,'N':0,'Occasional':1})\n"
     ]
    }
   ],
   "source": [
    "df['Smoker']=df['Smoker'].replace({'Yes':1,'Y':1,'No':0,'N':0,'Occasional':1})"
   ]
  },
  {
   "cell_type": "code",
   "execution_count": 86,
   "id": "cadd62b4",
   "metadata": {},
   "outputs": [
    {
     "data": {
      "application/vnd.microsoft.datawrangler.viewer.v0+json": {
       "columns": [
        {
         "name": "index",
         "rawType": "int64",
         "type": "integer"
        },
        {
         "name": "Smoker",
         "rawType": "float64",
         "type": "float"
        }
       ],
       "ref": "1f50c4ac-cae2-42d6-a578-afe4022bad2d",
       "rows": [
        [
         "0",
         null
        ],
        [
         "1",
         "1.0"
        ],
        [
         "2",
         "0.0"
        ],
        [
         "3",
         "1.0"
        ],
        [
         "4",
         "1.0"
        ],
        [
         "5",
         "1.0"
        ],
        [
         "6",
         "1.0"
        ],
        [
         "7",
         null
        ],
        [
         "8",
         "0.0"
        ],
        [
         "9",
         "1.0"
        ],
        [
         "10",
         "0.0"
        ],
        [
         "11",
         "1.0"
        ],
        [
         "12",
         "1.0"
        ],
        [
         "13",
         "1.0"
        ],
        [
         "14",
         "0.0"
        ],
        [
         "15",
         "0.0"
        ],
        [
         "16",
         null
        ],
        [
         "17",
         null
        ],
        [
         "19",
         "0.0"
        ],
        [
         "21",
         "1.0"
        ],
        [
         "22",
         "0.0"
        ],
        [
         "23",
         "1.0"
        ],
        [
         "24",
         "0.0"
        ],
        [
         "25",
         "1.0"
        ],
        [
         "26",
         "1.0"
        ],
        [
         "27",
         null
        ],
        [
         "28",
         "0.0"
        ],
        [
         "29",
         null
        ],
        [
         "31",
         "1.0"
        ],
        [
         "32",
         null
        ],
        [
         "33",
         "0.0"
        ],
        [
         "34",
         "1.0"
        ],
        [
         "35",
         "1.0"
        ],
        [
         "36",
         "0.0"
        ],
        [
         "37",
         "1.0"
        ],
        [
         "38",
         "0.0"
        ],
        [
         "39",
         "0.0"
        ],
        [
         "40",
         "1.0"
        ],
        [
         "41",
         "0.0"
        ],
        [
         "42",
         "0.0"
        ],
        [
         "43",
         "1.0"
        ],
        [
         "45",
         "1.0"
        ],
        [
         "46",
         "1.0"
        ],
        [
         "47",
         null
        ],
        [
         "48",
         "0.0"
        ],
        [
         "49",
         "1.0"
        ],
        [
         "50",
         "1.0"
        ],
        [
         "51",
         null
        ],
        [
         "52",
         "1.0"
        ],
        [
         "53",
         "1.0"
        ]
       ],
       "shape": {
        "columns": 1,
        "rows": 1200
       }
      },
      "text/plain": [
       "0       NaN\n",
       "1       1.0\n",
       "2       0.0\n",
       "3       1.0\n",
       "4       1.0\n",
       "       ... \n",
       "1294    NaN\n",
       "1295    0.0\n",
       "1296    NaN\n",
       "1297    0.0\n",
       "1298    0.0\n",
       "Name: Smoker, Length: 1200, dtype: float64"
      ]
     },
     "execution_count": 86,
     "metadata": {},
     "output_type": "execute_result"
    }
   ],
   "source": [
    "df['Smoker']"
   ]
  },
  {
   "cell_type": "code",
   "execution_count": 87,
   "id": "bf474c8f",
   "metadata": {},
   "outputs": [
    {
     "name": "stderr",
     "output_type": "stream",
     "text": [
      "C:\\Users\\abhin\\AppData\\Local\\Temp\\ipykernel_18672\\2510799660.py:1: SettingWithCopyWarning: \n",
      "A value is trying to be set on a copy of a slice from a DataFrame.\n",
      "Try using .loc[row_indexer,col_indexer] = value instead\n",
      "\n",
      "See the caveats in the documentation: https://pandas.pydata.org/pandas-docs/stable/user_guide/indexing.html#returning-a-view-versus-a-copy\n",
      "  df['Smoker']=df['Smoker'].fillna(0)\n"
     ]
    }
   ],
   "source": [
    "df['Smoker']=df['Smoker'].fillna(0)"
   ]
  },
  {
   "cell_type": "code",
   "execution_count": 88,
   "id": "12ebc058",
   "metadata": {},
   "outputs": [
    {
     "data": {
      "application/vnd.microsoft.datawrangler.viewer.v0+json": {
       "columns": [
        {
         "name": "index",
         "rawType": "int64",
         "type": "integer"
        },
        {
         "name": "Smoker",
         "rawType": "float64",
         "type": "float"
        }
       ],
       "ref": "f55b93b6-ba83-4799-9bd9-d816aefde2d9",
       "rows": [
        [
         "0",
         "0.0"
        ],
        [
         "1",
         "1.0"
        ],
        [
         "2",
         "0.0"
        ],
        [
         "3",
         "1.0"
        ],
        [
         "4",
         "1.0"
        ],
        [
         "5",
         "1.0"
        ],
        [
         "6",
         "1.0"
        ],
        [
         "7",
         "0.0"
        ],
        [
         "8",
         "0.0"
        ],
        [
         "9",
         "1.0"
        ],
        [
         "10",
         "0.0"
        ],
        [
         "11",
         "1.0"
        ],
        [
         "12",
         "1.0"
        ],
        [
         "13",
         "1.0"
        ],
        [
         "14",
         "0.0"
        ],
        [
         "15",
         "0.0"
        ],
        [
         "16",
         "0.0"
        ],
        [
         "17",
         "0.0"
        ],
        [
         "19",
         "0.0"
        ],
        [
         "21",
         "1.0"
        ],
        [
         "22",
         "0.0"
        ],
        [
         "23",
         "1.0"
        ],
        [
         "24",
         "0.0"
        ],
        [
         "25",
         "1.0"
        ],
        [
         "26",
         "1.0"
        ],
        [
         "27",
         "0.0"
        ],
        [
         "28",
         "0.0"
        ],
        [
         "29",
         "0.0"
        ],
        [
         "31",
         "1.0"
        ],
        [
         "32",
         "0.0"
        ],
        [
         "33",
         "0.0"
        ],
        [
         "34",
         "1.0"
        ],
        [
         "35",
         "1.0"
        ],
        [
         "36",
         "0.0"
        ],
        [
         "37",
         "1.0"
        ],
        [
         "38",
         "0.0"
        ],
        [
         "39",
         "0.0"
        ],
        [
         "40",
         "1.0"
        ],
        [
         "41",
         "0.0"
        ],
        [
         "42",
         "0.0"
        ],
        [
         "43",
         "1.0"
        ],
        [
         "45",
         "1.0"
        ],
        [
         "46",
         "1.0"
        ],
        [
         "47",
         "0.0"
        ],
        [
         "48",
         "0.0"
        ],
        [
         "49",
         "1.0"
        ],
        [
         "50",
         "1.0"
        ],
        [
         "51",
         "0.0"
        ],
        [
         "52",
         "1.0"
        ],
        [
         "53",
         "1.0"
        ]
       ],
       "shape": {
        "columns": 1,
        "rows": 1200
       }
      },
      "text/plain": [
       "0       0.0\n",
       "1       1.0\n",
       "2       0.0\n",
       "3       1.0\n",
       "4       1.0\n",
       "       ... \n",
       "1294    0.0\n",
       "1295    0.0\n",
       "1296    0.0\n",
       "1297    0.0\n",
       "1298    0.0\n",
       "Name: Smoker, Length: 1200, dtype: float64"
      ]
     },
     "execution_count": 88,
     "metadata": {},
     "output_type": "execute_result"
    }
   ],
   "source": [
    "df['Smoker']"
   ]
  },
  {
   "cell_type": "code",
   "execution_count": 89,
   "id": "038e5760",
   "metadata": {},
   "outputs": [
    {
     "name": "stderr",
     "output_type": "stream",
     "text": [
      "C:\\Users\\abhin\\AppData\\Local\\Temp\\ipykernel_18672\\1887105017.py:1: SettingWithCopyWarning: \n",
      "A value is trying to be set on a copy of a slice from a DataFrame.\n",
      "Try using .loc[row_indexer,col_indexer] = value instead\n",
      "\n",
      "See the caveats in the documentation: https://pandas.pydata.org/pandas-docs/stable/user_guide/indexing.html#returning-a-view-versus-a-copy\n",
      "  df['Smoker']=df['Smoker'].astype('int')\n"
     ]
    }
   ],
   "source": [
    "df['Smoker']=df['Smoker'].astype('int')"
   ]
  },
  {
   "cell_type": "code",
   "execution_count": 90,
   "id": "8e38cf70",
   "metadata": {},
   "outputs": [
    {
     "data": {
      "application/vnd.microsoft.datawrangler.viewer.v0+json": {
       "columns": [
        {
         "name": "index",
         "rawType": "int64",
         "type": "integer"
        },
        {
         "name": "Smoker",
         "rawType": "int32",
         "type": "integer"
        }
       ],
       "ref": "18974908-cbcd-40a3-af24-87815353d745",
       "rows": [
        [
         "0",
         "0"
        ],
        [
         "1",
         "1"
        ],
        [
         "2",
         "0"
        ],
        [
         "3",
         "1"
        ],
        [
         "4",
         "1"
        ],
        [
         "5",
         "1"
        ],
        [
         "6",
         "1"
        ],
        [
         "7",
         "0"
        ],
        [
         "8",
         "0"
        ],
        [
         "9",
         "1"
        ],
        [
         "10",
         "0"
        ],
        [
         "11",
         "1"
        ],
        [
         "12",
         "1"
        ],
        [
         "13",
         "1"
        ],
        [
         "14",
         "0"
        ],
        [
         "15",
         "0"
        ],
        [
         "16",
         "0"
        ],
        [
         "17",
         "0"
        ],
        [
         "19",
         "0"
        ],
        [
         "21",
         "1"
        ],
        [
         "22",
         "0"
        ],
        [
         "23",
         "1"
        ],
        [
         "24",
         "0"
        ],
        [
         "25",
         "1"
        ],
        [
         "26",
         "1"
        ],
        [
         "27",
         "0"
        ],
        [
         "28",
         "0"
        ],
        [
         "29",
         "0"
        ],
        [
         "31",
         "1"
        ],
        [
         "32",
         "0"
        ],
        [
         "33",
         "0"
        ],
        [
         "34",
         "1"
        ],
        [
         "35",
         "1"
        ],
        [
         "36",
         "0"
        ],
        [
         "37",
         "1"
        ],
        [
         "38",
         "0"
        ],
        [
         "39",
         "0"
        ],
        [
         "40",
         "1"
        ],
        [
         "41",
         "0"
        ],
        [
         "42",
         "0"
        ],
        [
         "43",
         "1"
        ],
        [
         "45",
         "1"
        ],
        [
         "46",
         "1"
        ],
        [
         "47",
         "0"
        ],
        [
         "48",
         "0"
        ],
        [
         "49",
         "1"
        ],
        [
         "50",
         "1"
        ],
        [
         "51",
         "0"
        ],
        [
         "52",
         "1"
        ],
        [
         "53",
         "1"
        ]
       ],
       "shape": {
        "columns": 1,
        "rows": 1200
       }
      },
      "text/plain": [
       "0       0\n",
       "1       1\n",
       "2       0\n",
       "3       1\n",
       "4       1\n",
       "       ..\n",
       "1294    0\n",
       "1295    0\n",
       "1296    0\n",
       "1297    0\n",
       "1298    0\n",
       "Name: Smoker, Length: 1200, dtype: int32"
      ]
     },
     "execution_count": 90,
     "metadata": {},
     "output_type": "execute_result"
    }
   ],
   "source": [
    "df['Smoker']"
   ]
  },
  {
   "cell_type": "code",
   "execution_count": 91,
   "id": "0b786a78",
   "metadata": {},
   "outputs": [
    {
     "data": {
      "text/plain": [
       "0"
      ]
     },
     "execution_count": 91,
     "metadata": {},
     "output_type": "execute_result"
    }
   ],
   "source": [
    "df['Smoker'].isnull().sum()"
   ]
  },
  {
   "cell_type": "code",
   "execution_count": 92,
   "id": "4ec7a23b",
   "metadata": {},
   "outputs": [
    {
     "data": {
      "text/plain": [
       "Index(['Patient_ID', 'Age', 'Gender', 'Blood_Pressure', 'Heart_Rate',\n",
       "       'Diabetes', 'Cholesterol_Level', 'Smoker', 'Weight_kg', 'Height_cm',\n",
       "       'Visit_Date', 'Diagnosis', 'Medication'],\n",
       "      dtype='object')"
      ]
     },
     "execution_count": 92,
     "metadata": {},
     "output_type": "execute_result"
    }
   ],
   "source": [
    "df.columns"
   ]
  },
  {
   "cell_type": "code",
   "execution_count": 93,
   "id": "bb6e6e7e",
   "metadata": {},
   "outputs": [
    {
     "data": {
      "application/vnd.microsoft.datawrangler.viewer.v0+json": {
       "columns": [
        {
         "name": "index",
         "rawType": "int64",
         "type": "integer"
        },
        {
         "name": "Weight_kg",
         "rawType": "object",
         "type": "unknown"
        }
       ],
       "ref": "7fbe9b73-cccb-43aa-aa7d-5ed4ec0618a5",
       "rows": [
        [
         "0",
         "Seventy"
        ],
        [
         "1",
         "80"
        ],
        [
         "2",
         "60"
        ],
        [
         "3",
         "70"
        ],
        [
         "4",
         "80"
        ],
        [
         "5",
         "80"
        ],
        [
         "6",
         "60"
        ],
        [
         "7",
         "90"
        ],
        [
         "8",
         "90"
        ],
        [
         "9",
         null
        ],
        [
         "10",
         "80"
        ],
        [
         "11",
         "60"
        ],
        [
         "12",
         "Seventy"
        ],
        [
         "13",
         "90"
        ],
        [
         "14",
         "Seventy"
        ],
        [
         "15",
         "60"
        ],
        [
         "16",
         "60"
        ],
        [
         "17",
         "80"
        ],
        [
         "19",
         "Seventy"
        ],
        [
         "21",
         null
        ],
        [
         "22",
         "80"
        ],
        [
         "23",
         "50"
        ],
        [
         "24",
         "Seventy"
        ],
        [
         "25",
         "90"
        ],
        [
         "26",
         "90"
        ],
        [
         "27",
         "90"
        ],
        [
         "28",
         "70"
        ],
        [
         "29",
         "60"
        ],
        [
         "31",
         "80"
        ],
        [
         "32",
         "90"
        ],
        [
         "33",
         "50"
        ],
        [
         "34",
         "90"
        ],
        [
         "35",
         null
        ],
        [
         "36",
         "60"
        ],
        [
         "37",
         "Seventy"
        ],
        [
         "38",
         "60"
        ],
        [
         "39",
         "Seventy"
        ],
        [
         "40",
         "Seventy"
        ],
        [
         "41",
         "80"
        ],
        [
         "42",
         "70"
        ],
        [
         "43",
         "Seventy"
        ],
        [
         "45",
         "Seventy"
        ],
        [
         "46",
         "80"
        ],
        [
         "47",
         "90"
        ],
        [
         "48",
         null
        ],
        [
         "49",
         "50"
        ],
        [
         "50",
         "80"
        ],
        [
         "51",
         "70"
        ],
        [
         "52",
         "80"
        ],
        [
         "53",
         "60"
        ]
       ],
       "shape": {
        "columns": 1,
        "rows": 1200
       }
      },
      "text/plain": [
       "0       Seventy\n",
       "1            80\n",
       "2            60\n",
       "3            70\n",
       "4            80\n",
       "         ...   \n",
       "1294         60\n",
       "1295         50\n",
       "1296         90\n",
       "1297        NaN\n",
       "1298         50\n",
       "Name: Weight_kg, Length: 1200, dtype: object"
      ]
     },
     "execution_count": 93,
     "metadata": {},
     "output_type": "execute_result"
    }
   ],
   "source": [
    "df['Weight_kg']"
   ]
  },
  {
   "cell_type": "code",
   "execution_count": 94,
   "id": "9be5b8a9",
   "metadata": {},
   "outputs": [
    {
     "name": "stderr",
     "output_type": "stream",
     "text": [
      "C:\\Users\\abhin\\AppData\\Local\\Temp\\ipykernel_18672\\4108085476.py:1: SettingWithCopyWarning: \n",
      "A value is trying to be set on a copy of a slice from a DataFrame.\n",
      "Try using .loc[row_indexer,col_indexer] = value instead\n",
      "\n",
      "See the caveats in the documentation: https://pandas.pydata.org/pandas-docs/stable/user_guide/indexing.html#returning-a-view-versus-a-copy\n",
      "  df['Weight_kg']=df['Weight_kg'].replace('Seventy',70)\n"
     ]
    }
   ],
   "source": [
    "df['Weight_kg']=df['Weight_kg'].replace('Seventy',70)"
   ]
  },
  {
   "cell_type": "code",
   "execution_count": 95,
   "id": "a4d4de0b",
   "metadata": {},
   "outputs": [
    {
     "data": {
      "application/vnd.microsoft.datawrangler.viewer.v0+json": {
       "columns": [
        {
         "name": "index",
         "rawType": "int64",
         "type": "integer"
        },
        {
         "name": "Weight_kg",
         "rawType": "object",
         "type": "unknown"
        }
       ],
       "ref": "e379cfaa-28ee-4ec0-a55e-7690ade0b214",
       "rows": [
        [
         "0",
         "70"
        ],
        [
         "1",
         "80"
        ],
        [
         "2",
         "60"
        ],
        [
         "3",
         "70"
        ],
        [
         "4",
         "80"
        ],
        [
         "5",
         "80"
        ],
        [
         "6",
         "60"
        ],
        [
         "7",
         "90"
        ],
        [
         "8",
         "90"
        ],
        [
         "9",
         null
        ],
        [
         "10",
         "80"
        ],
        [
         "11",
         "60"
        ],
        [
         "12",
         "70"
        ],
        [
         "13",
         "90"
        ],
        [
         "14",
         "70"
        ],
        [
         "15",
         "60"
        ],
        [
         "16",
         "60"
        ],
        [
         "17",
         "80"
        ],
        [
         "19",
         "70"
        ],
        [
         "21",
         null
        ],
        [
         "22",
         "80"
        ],
        [
         "23",
         "50"
        ],
        [
         "24",
         "70"
        ],
        [
         "25",
         "90"
        ],
        [
         "26",
         "90"
        ],
        [
         "27",
         "90"
        ],
        [
         "28",
         "70"
        ],
        [
         "29",
         "60"
        ],
        [
         "31",
         "80"
        ],
        [
         "32",
         "90"
        ],
        [
         "33",
         "50"
        ],
        [
         "34",
         "90"
        ],
        [
         "35",
         null
        ],
        [
         "36",
         "60"
        ],
        [
         "37",
         "70"
        ],
        [
         "38",
         "60"
        ],
        [
         "39",
         "70"
        ],
        [
         "40",
         "70"
        ],
        [
         "41",
         "80"
        ],
        [
         "42",
         "70"
        ],
        [
         "43",
         "70"
        ],
        [
         "45",
         "70"
        ],
        [
         "46",
         "80"
        ],
        [
         "47",
         "90"
        ],
        [
         "48",
         null
        ],
        [
         "49",
         "50"
        ],
        [
         "50",
         "80"
        ],
        [
         "51",
         "70"
        ],
        [
         "52",
         "80"
        ],
        [
         "53",
         "60"
        ]
       ],
       "shape": {
        "columns": 1,
        "rows": 1200
       }
      },
      "text/plain": [
       "0        70\n",
       "1        80\n",
       "2        60\n",
       "3        70\n",
       "4        80\n",
       "       ... \n",
       "1294     60\n",
       "1295     50\n",
       "1296     90\n",
       "1297    NaN\n",
       "1298     50\n",
       "Name: Weight_kg, Length: 1200, dtype: object"
      ]
     },
     "execution_count": 95,
     "metadata": {},
     "output_type": "execute_result"
    }
   ],
   "source": [
    "df['Weight_kg']"
   ]
  },
  {
   "cell_type": "code",
   "execution_count": 96,
   "id": "68e1d75e",
   "metadata": {},
   "outputs": [
    {
     "name": "stderr",
     "output_type": "stream",
     "text": [
      "C:\\Users\\abhin\\AppData\\Local\\Temp\\ipykernel_18672\\2575398602.py:1: SettingWithCopyWarning: \n",
      "A value is trying to be set on a copy of a slice from a DataFrame.\n",
      "Try using .loc[row_indexer,col_indexer] = value instead\n",
      "\n",
      "See the caveats in the documentation: https://pandas.pydata.org/pandas-docs/stable/user_guide/indexing.html#returning-a-view-versus-a-copy\n",
      "  df['Weight_kg']=df['Weight_kg'].fillna(np.mean(pd.to_numeric(df['Weight_kg'])))\n"
     ]
    }
   ],
   "source": [
    "df['Weight_kg']=df['Weight_kg'].fillna(np.mean(pd.to_numeric(df['Weight_kg'])))"
   ]
  },
  {
   "cell_type": "code",
   "execution_count": 97,
   "id": "ba7c69c2",
   "metadata": {},
   "outputs": [
    {
     "data": {
      "application/vnd.microsoft.datawrangler.viewer.v0+json": {
       "columns": [
        {
         "name": "index",
         "rawType": "int64",
         "type": "integer"
        },
        {
         "name": "Weight_kg",
         "rawType": "object",
         "type": "unknown"
        }
       ],
       "ref": "5383ba99-dc1e-4aa0-bc83-b75174ac6889",
       "rows": [
        [
         "0",
         "70"
        ],
        [
         "1",
         "80"
        ],
        [
         "2",
         "60"
        ],
        [
         "3",
         "70"
        ],
        [
         "4",
         "80"
        ],
        [
         "5",
         "80"
        ],
        [
         "6",
         "60"
        ],
        [
         "7",
         "90"
        ],
        [
         "8",
         "90"
        ],
        [
         "9",
         "70.41148325358851"
        ],
        [
         "10",
         "80"
        ],
        [
         "11",
         "60"
        ],
        [
         "12",
         "70"
        ],
        [
         "13",
         "90"
        ],
        [
         "14",
         "70"
        ],
        [
         "15",
         "60"
        ],
        [
         "16",
         "60"
        ],
        [
         "17",
         "80"
        ],
        [
         "19",
         "70"
        ],
        [
         "21",
         "70.41148325358851"
        ],
        [
         "22",
         "80"
        ],
        [
         "23",
         "50"
        ],
        [
         "24",
         "70"
        ],
        [
         "25",
         "90"
        ],
        [
         "26",
         "90"
        ],
        [
         "27",
         "90"
        ],
        [
         "28",
         "70"
        ],
        [
         "29",
         "60"
        ],
        [
         "31",
         "80"
        ],
        [
         "32",
         "90"
        ],
        [
         "33",
         "50"
        ],
        [
         "34",
         "90"
        ],
        [
         "35",
         "70.41148325358851"
        ],
        [
         "36",
         "60"
        ],
        [
         "37",
         "70"
        ],
        [
         "38",
         "60"
        ],
        [
         "39",
         "70"
        ],
        [
         "40",
         "70"
        ],
        [
         "41",
         "80"
        ],
        [
         "42",
         "70"
        ],
        [
         "43",
         "70"
        ],
        [
         "45",
         "70"
        ],
        [
         "46",
         "80"
        ],
        [
         "47",
         "90"
        ],
        [
         "48",
         "70.41148325358851"
        ],
        [
         "49",
         "50"
        ],
        [
         "50",
         "80"
        ],
        [
         "51",
         "70"
        ],
        [
         "52",
         "80"
        ],
        [
         "53",
         "60"
        ]
       ],
       "shape": {
        "columns": 1,
        "rows": 1200
       }
      },
      "text/plain": [
       "0              70\n",
       "1              80\n",
       "2              60\n",
       "3              70\n",
       "4              80\n",
       "          ...    \n",
       "1294           60\n",
       "1295           50\n",
       "1296           90\n",
       "1297    70.411483\n",
       "1298           50\n",
       "Name: Weight_kg, Length: 1200, dtype: object"
      ]
     },
     "execution_count": 97,
     "metadata": {},
     "output_type": "execute_result"
    }
   ],
   "source": [
    "df['Weight_kg']"
   ]
  },
  {
   "cell_type": "code",
   "execution_count": 98,
   "id": "cfa69175",
   "metadata": {},
   "outputs": [
    {
     "name": "stderr",
     "output_type": "stream",
     "text": [
      "C:\\Users\\abhin\\AppData\\Local\\Temp\\ipykernel_18672\\1315783941.py:1: SettingWithCopyWarning: \n",
      "A value is trying to be set on a copy of a slice from a DataFrame.\n",
      "Try using .loc[row_indexer,col_indexer] = value instead\n",
      "\n",
      "See the caveats in the documentation: https://pandas.pydata.org/pandas-docs/stable/user_guide/indexing.html#returning-a-view-versus-a-copy\n",
      "  df['Weight_kg']=df['Weight_kg'].astype('int')\n"
     ]
    }
   ],
   "source": [
    "df['Weight_kg']=df['Weight_kg'].astype('int')"
   ]
  },
  {
   "cell_type": "code",
   "execution_count": 100,
   "id": "ca08b2ff",
   "metadata": {},
   "outputs": [
    {
     "data": {
      "application/vnd.microsoft.datawrangler.viewer.v0+json": {
       "columns": [
        {
         "name": "index",
         "rawType": "int64",
         "type": "integer"
        },
        {
         "name": "Weight_kg",
         "rawType": "int32",
         "type": "integer"
        }
       ],
       "ref": "2413ab97-d759-4701-b097-43c68a9a5fcc",
       "rows": [
        [
         "0",
         "70"
        ],
        [
         "1",
         "80"
        ],
        [
         "2",
         "60"
        ],
        [
         "3",
         "70"
        ],
        [
         "4",
         "80"
        ],
        [
         "5",
         "80"
        ],
        [
         "6",
         "60"
        ],
        [
         "7",
         "90"
        ],
        [
         "8",
         "90"
        ],
        [
         "9",
         "70"
        ],
        [
         "10",
         "80"
        ],
        [
         "11",
         "60"
        ],
        [
         "12",
         "70"
        ],
        [
         "13",
         "90"
        ],
        [
         "14",
         "70"
        ],
        [
         "15",
         "60"
        ],
        [
         "16",
         "60"
        ],
        [
         "17",
         "80"
        ],
        [
         "19",
         "70"
        ],
        [
         "21",
         "70"
        ],
        [
         "22",
         "80"
        ],
        [
         "23",
         "50"
        ],
        [
         "24",
         "70"
        ],
        [
         "25",
         "90"
        ],
        [
         "26",
         "90"
        ],
        [
         "27",
         "90"
        ],
        [
         "28",
         "70"
        ],
        [
         "29",
         "60"
        ],
        [
         "31",
         "80"
        ],
        [
         "32",
         "90"
        ],
        [
         "33",
         "50"
        ],
        [
         "34",
         "90"
        ],
        [
         "35",
         "70"
        ],
        [
         "36",
         "60"
        ],
        [
         "37",
         "70"
        ],
        [
         "38",
         "60"
        ],
        [
         "39",
         "70"
        ],
        [
         "40",
         "70"
        ],
        [
         "41",
         "80"
        ],
        [
         "42",
         "70"
        ],
        [
         "43",
         "70"
        ],
        [
         "45",
         "70"
        ],
        [
         "46",
         "80"
        ],
        [
         "47",
         "90"
        ],
        [
         "48",
         "70"
        ],
        [
         "49",
         "50"
        ],
        [
         "50",
         "80"
        ],
        [
         "51",
         "70"
        ],
        [
         "52",
         "80"
        ],
        [
         "53",
         "60"
        ]
       ],
       "shape": {
        "columns": 1,
        "rows": 1200
       }
      },
      "text/plain": [
       "0       70\n",
       "1       80\n",
       "2       60\n",
       "3       70\n",
       "4       80\n",
       "        ..\n",
       "1294    60\n",
       "1295    50\n",
       "1296    90\n",
       "1297    70\n",
       "1298    50\n",
       "Name: Weight_kg, Length: 1200, dtype: int32"
      ]
     },
     "execution_count": 100,
     "metadata": {},
     "output_type": "execute_result"
    }
   ],
   "source": [
    "df['Weight_kg']"
   ]
  },
  {
   "cell_type": "code",
   "execution_count": 101,
   "id": "672be281",
   "metadata": {},
   "outputs": [
    {
     "data": {
      "text/plain": [
       "0"
      ]
     },
     "execution_count": 101,
     "metadata": {},
     "output_type": "execute_result"
    }
   ],
   "source": [
    "df['Weight_kg'].isnull().sum()"
   ]
  },
  {
   "cell_type": "code",
   "execution_count": 102,
   "id": "ffce780e",
   "metadata": {},
   "outputs": [
    {
     "data": {
      "text/plain": [
       "Index(['Patient_ID', 'Age', 'Gender', 'Blood_Pressure', 'Heart_Rate',\n",
       "       'Diabetes', 'Cholesterol_Level', 'Smoker', 'Weight_kg', 'Height_cm',\n",
       "       'Visit_Date', 'Diagnosis', 'Medication'],\n",
       "      dtype='object')"
      ]
     },
     "execution_count": 102,
     "metadata": {},
     "output_type": "execute_result"
    }
   ],
   "source": [
    "df.columns"
   ]
  },
  {
   "cell_type": "code",
   "execution_count": 103,
   "id": "5fd5b92b",
   "metadata": {},
   "outputs": [
    {
     "data": {
      "application/vnd.microsoft.datawrangler.viewer.v0+json": {
       "columns": [
        {
         "name": "index",
         "rawType": "int64",
         "type": "integer"
        },
        {
         "name": "Height_cm",
         "rawType": "object",
         "type": "unknown"
        }
       ],
       "ref": "484c822b-8a63-441d-b7b5-5b2b9427365b",
       "rows": [
        [
         "0",
         "160"
        ],
        [
         "1",
         "160"
        ],
        [
         "2",
         null
        ],
        [
         "3",
         "170"
        ],
        [
         "4",
         null
        ],
        [
         "5",
         "180"
        ],
        [
         "6",
         "150"
        ],
        [
         "7",
         "170"
        ],
        [
         "8",
         "190"
        ],
        [
         "9",
         "Tall"
        ],
        [
         "10",
         "180"
        ],
        [
         "11",
         "170"
        ],
        [
         "12",
         "Tall"
        ],
        [
         "13",
         "Tall"
        ],
        [
         "14",
         "150"
        ],
        [
         "15",
         "160"
        ],
        [
         "16",
         "190"
        ],
        [
         "17",
         null
        ],
        [
         "19",
         "150"
        ],
        [
         "21",
         "180"
        ],
        [
         "22",
         "Tall"
        ],
        [
         "23",
         "180"
        ],
        [
         "24",
         "Tall"
        ],
        [
         "25",
         "160"
        ],
        [
         "26",
         "160"
        ],
        [
         "27",
         "190"
        ],
        [
         "28",
         null
        ],
        [
         "29",
         "190"
        ],
        [
         "31",
         "160"
        ],
        [
         "32",
         "160"
        ],
        [
         "33",
         "180"
        ],
        [
         "34",
         "160"
        ],
        [
         "35",
         "170"
        ],
        [
         "36",
         "Tall"
        ],
        [
         "37",
         "150"
        ],
        [
         "38",
         "160"
        ],
        [
         "39",
         "190"
        ],
        [
         "40",
         null
        ],
        [
         "41",
         "Tall"
        ],
        [
         "42",
         "Tall"
        ],
        [
         "43",
         null
        ],
        [
         "45",
         null
        ],
        [
         "46",
         "Tall"
        ],
        [
         "47",
         "170"
        ],
        [
         "48",
         "190"
        ],
        [
         "49",
         "170"
        ],
        [
         "50",
         "160"
        ],
        [
         "51",
         "150"
        ],
        [
         "52",
         null
        ],
        [
         "53",
         "190"
        ]
       ],
       "shape": {
        "columns": 1,
        "rows": 1200
       }
      },
      "text/plain": [
       "0        160\n",
       "1        160\n",
       "2        NaN\n",
       "3        170\n",
       "4        NaN\n",
       "        ... \n",
       "1294     190\n",
       "1295     180\n",
       "1296    Tall\n",
       "1297     150\n",
       "1298    Tall\n",
       "Name: Height_cm, Length: 1200, dtype: object"
      ]
     },
     "execution_count": 103,
     "metadata": {},
     "output_type": "execute_result"
    }
   ],
   "source": [
    "df['Height_cm']"
   ]
  },
  {
   "cell_type": "code",
   "execution_count": 104,
   "id": "67ba5025",
   "metadata": {},
   "outputs": [
    {
     "name": "stderr",
     "output_type": "stream",
     "text": [
      "C:\\Users\\abhin\\AppData\\Local\\Temp\\ipykernel_18672\\3461681740.py:1: SettingWithCopyWarning: \n",
      "A value is trying to be set on a copy of a slice from a DataFrame.\n",
      "Try using .loc[row_indexer,col_indexer] = value instead\n",
      "\n",
      "See the caveats in the documentation: https://pandas.pydata.org/pandas-docs/stable/user_guide/indexing.html#returning-a-view-versus-a-copy\n",
      "  df['Height_cm']=df['Height_cm'].replace(\"Tall\",200)\n"
     ]
    }
   ],
   "source": [
    "df['Height_cm']=df['Height_cm'].replace(\"Tall\",200)"
   ]
  },
  {
   "cell_type": "code",
   "execution_count": 107,
   "id": "699d8436",
   "metadata": {},
   "outputs": [
    {
     "name": "stderr",
     "output_type": "stream",
     "text": [
      "C:\\Users\\abhin\\AppData\\Local\\Temp\\ipykernel_18672\\2051191446.py:1: SettingWithCopyWarning: \n",
      "A value is trying to be set on a copy of a slice from a DataFrame.\n",
      "Try using .loc[row_indexer,col_indexer] = value instead\n",
      "\n",
      "See the caveats in the documentation: https://pandas.pydata.org/pandas-docs/stable/user_guide/indexing.html#returning-a-view-versus-a-copy\n",
      "  df['Height_cm']=df['Height_cm'].fillna(np.mean(pd.to_numeric(df['Height_cm']))).astype('int')\n"
     ]
    }
   ],
   "source": [
    "df['Height_cm']=df['Height_cm'].fillna(np.mean(pd.to_numeric(df['Height_cm']))).astype('int')"
   ]
  },
  {
   "cell_type": "code",
   "execution_count": 108,
   "id": "ec666ff8",
   "metadata": {},
   "outputs": [
    {
     "data": {
      "application/vnd.microsoft.datawrangler.viewer.v0+json": {
       "columns": [
        {
         "name": "index",
         "rawType": "int64",
         "type": "integer"
        },
        {
         "name": "Height_cm",
         "rawType": "int32",
         "type": "integer"
        }
       ],
       "ref": "cfaae09d-cfe4-4177-8091-9e48e10c5114",
       "rows": [
        [
         "0",
         "160"
        ],
        [
         "1",
         "160"
        ],
        [
         "2",
         "174"
        ],
        [
         "3",
         "170"
        ],
        [
         "4",
         "174"
        ],
        [
         "5",
         "180"
        ],
        [
         "6",
         "150"
        ],
        [
         "7",
         "170"
        ],
        [
         "8",
         "190"
        ],
        [
         "9",
         "200"
        ],
        [
         "10",
         "180"
        ],
        [
         "11",
         "170"
        ],
        [
         "12",
         "200"
        ],
        [
         "13",
         "200"
        ],
        [
         "14",
         "150"
        ],
        [
         "15",
         "160"
        ],
        [
         "16",
         "190"
        ],
        [
         "17",
         "174"
        ],
        [
         "19",
         "150"
        ],
        [
         "21",
         "180"
        ],
        [
         "22",
         "200"
        ],
        [
         "23",
         "180"
        ],
        [
         "24",
         "200"
        ],
        [
         "25",
         "160"
        ],
        [
         "26",
         "160"
        ],
        [
         "27",
         "190"
        ],
        [
         "28",
         "174"
        ],
        [
         "29",
         "190"
        ],
        [
         "31",
         "160"
        ],
        [
         "32",
         "160"
        ],
        [
         "33",
         "180"
        ],
        [
         "34",
         "160"
        ],
        [
         "35",
         "170"
        ],
        [
         "36",
         "200"
        ],
        [
         "37",
         "150"
        ],
        [
         "38",
         "160"
        ],
        [
         "39",
         "190"
        ],
        [
         "40",
         "174"
        ],
        [
         "41",
         "200"
        ],
        [
         "42",
         "200"
        ],
        [
         "43",
         "174"
        ],
        [
         "45",
         "174"
        ],
        [
         "46",
         "200"
        ],
        [
         "47",
         "170"
        ],
        [
         "48",
         "190"
        ],
        [
         "49",
         "170"
        ],
        [
         "50",
         "160"
        ],
        [
         "51",
         "150"
        ],
        [
         "52",
         "174"
        ],
        [
         "53",
         "190"
        ]
       ],
       "shape": {
        "columns": 1,
        "rows": 1200
       }
      },
      "text/plain": [
       "0       160\n",
       "1       160\n",
       "2       174\n",
       "3       170\n",
       "4       174\n",
       "       ... \n",
       "1294    190\n",
       "1295    180\n",
       "1296    200\n",
       "1297    150\n",
       "1298    200\n",
       "Name: Height_cm, Length: 1200, dtype: int32"
      ]
     },
     "execution_count": 108,
     "metadata": {},
     "output_type": "execute_result"
    }
   ],
   "source": [
    "df['Height_cm']"
   ]
  },
  {
   "cell_type": "code",
   "execution_count": 109,
   "id": "84e88952",
   "metadata": {},
   "outputs": [
    {
     "data": {
      "text/plain": [
       "0"
      ]
     },
     "execution_count": 109,
     "metadata": {},
     "output_type": "execute_result"
    }
   ],
   "source": [
    "df['Height_cm'].isnull().sum()"
   ]
  },
  {
   "cell_type": "code",
   "execution_count": 110,
   "id": "a3081055",
   "metadata": {},
   "outputs": [
    {
     "data": {
      "text/plain": [
       "Index(['Patient_ID', 'Age', 'Gender', 'Blood_Pressure', 'Heart_Rate',\n",
       "       'Diabetes', 'Cholesterol_Level', 'Smoker', 'Weight_kg', 'Height_cm',\n",
       "       'Visit_Date', 'Diagnosis', 'Medication'],\n",
       "      dtype='object')"
      ]
     },
     "execution_count": 110,
     "metadata": {},
     "output_type": "execute_result"
    }
   ],
   "source": [
    "df.columns"
   ]
  },
  {
   "cell_type": "code",
   "execution_count": 111,
   "id": "cf2b306d",
   "metadata": {},
   "outputs": [
    {
     "data": {
      "application/vnd.microsoft.datawrangler.viewer.v0+json": {
       "columns": [
        {
         "name": "index",
         "rawType": "int64",
         "type": "integer"
        },
        {
         "name": "Visit_Date",
         "rawType": "object",
         "type": "unknown"
        }
       ],
       "ref": "3b812f75-6821-4d6d-9b27-ac91a17a4001",
       "rows": [
        [
         "0",
         "3/22/2022 0:00"
        ],
        [
         "1",
         "4/3/2022 0:00"
        ],
        [
         "2",
         "4/4/2022 0:00"
        ],
        [
         "3",
         "3/12/2022 0:00"
        ],
        [
         "4",
         "4/7/2022 0:00"
        ],
        [
         "5",
         "3/12/2022 0:00"
        ],
        [
         "6",
         "1/24/2022 0:00"
        ],
        [
         "7",
         "1/11/2022 0:00"
        ],
        [
         "8",
         "3/14/2022 0:00"
        ],
        [
         "9",
         "1/12/2022 0:00"
        ],
        [
         "10",
         "2/4/2022 0:00"
        ],
        [
         "11",
         "3/4/2022 0:00"
        ],
        [
         "12",
         "3/9/2022 0:00"
        ],
        [
         "13",
         "4/10/2022 0:00"
        ],
        [
         "14",
         "4/2/2022 0:00"
        ],
        [
         "15",
         "2/26/2022 0:00"
        ],
        [
         "16",
         "1/13/2022 0:00"
        ],
        [
         "17",
         "1/23/2022 0:00"
        ],
        [
         "19",
         "3/24/2022 0:00"
        ],
        [
         "21",
         null
        ],
        [
         "22",
         "2/8/2022 0:00"
        ],
        [
         "23",
         "3/29/2022 0:00"
        ],
        [
         "24",
         "3/21/2022 0:00"
        ],
        [
         "25",
         "4/7/2022 0:00"
        ],
        [
         "26",
         "1/12/2022 0:00"
        ],
        [
         "27",
         "2/3/2022 0:00"
        ],
        [
         "28",
         "3/12/2022 0:00"
        ],
        [
         "29",
         "3/16/2022 0:00"
        ],
        [
         "31",
         "1/31/2022 0:00"
        ],
        [
         "32",
         "4/3/2022 0:00"
        ],
        [
         "33",
         "3/3/2022 0:00"
        ],
        [
         "34",
         "1/13/2022 0:00"
        ],
        [
         "35",
         "1/31/2022 0:00"
        ],
        [
         "36",
         "1/2/2022 0:00"
        ],
        [
         "37",
         "1/15/2022 0:00"
        ],
        [
         "38",
         "2/26/2022 0:00"
        ],
        [
         "39",
         "3/16/2022 0:00"
        ],
        [
         "40",
         "2/3/2022 0:00"
        ],
        [
         "41",
         "3/9/2022 0:00"
        ],
        [
         "42",
         "3/16/2022 0:00"
        ],
        [
         "43",
         "1/29/2022 0:00"
        ],
        [
         "45",
         "3/7/2022 0:00"
        ],
        [
         "46",
         "1/16/2022 0:00"
        ],
        [
         "47",
         "2/8/2022 0:00"
        ],
        [
         "48",
         "3/18/2022 0:00"
        ],
        [
         "49",
         "2/6/2022 0:00"
        ],
        [
         "50",
         "3/22/2022 0:00"
        ],
        [
         "51",
         "1/21/2022 0:00"
        ],
        [
         "52",
         "2/13/2022 0:00"
        ],
        [
         "53",
         "1/19/2022 0:00"
        ]
       ],
       "shape": {
        "columns": 1,
        "rows": 1200
       }
      },
      "text/plain": [
       "0       3/22/2022 0:00\n",
       "1        4/3/2022 0:00\n",
       "2        4/4/2022 0:00\n",
       "3       3/12/2022 0:00\n",
       "4        4/7/2022 0:00\n",
       "             ...      \n",
       "1294     2/2/2022 0:00\n",
       "1295     4/3/2022 0:00\n",
       "1296    1/10/2022 0:00\n",
       "1297    3/14/2022 0:00\n",
       "1298    2/28/2022 0:00\n",
       "Name: Visit_Date, Length: 1200, dtype: object"
      ]
     },
     "execution_count": 111,
     "metadata": {},
     "output_type": "execute_result"
    }
   ],
   "source": [
    "df['Visit_Date']"
   ]
  },
  {
   "cell_type": "code",
   "execution_count": 112,
   "id": "2c78132f",
   "metadata": {},
   "outputs": [
    {
     "data": {
      "text/plain": [
       "11"
      ]
     },
     "execution_count": 112,
     "metadata": {},
     "output_type": "execute_result"
    }
   ],
   "source": [
    "df['Visit_Date'].isnull().sum()"
   ]
  },
  {
   "cell_type": "code",
   "execution_count": 113,
   "id": "f3c26e0a",
   "metadata": {},
   "outputs": [
    {
     "name": "stderr",
     "output_type": "stream",
     "text": [
      "C:\\Users\\abhin\\AppData\\Local\\Temp\\ipykernel_18672\\3897304121.py:1: SettingWithCopyWarning: \n",
      "A value is trying to be set on a copy of a slice from a DataFrame.\n",
      "Try using .loc[row_indexer,col_indexer] = value instead\n",
      "\n",
      "See the caveats in the documentation: https://pandas.pydata.org/pandas-docs/stable/user_guide/indexing.html#returning-a-view-versus-a-copy\n",
      "  df['Visit_Date']=df['Visit_Date'].replace('unknown',np.nan)\n"
     ]
    }
   ],
   "source": [
    "df['Visit_Date']=df['Visit_Date'].replace('unknown',np.nan)"
   ]
  },
  {
   "cell_type": "code",
   "execution_count": 114,
   "id": "71caf524",
   "metadata": {},
   "outputs": [
    {
     "data": {
      "text/plain": [
       "21"
      ]
     },
     "execution_count": 114,
     "metadata": {},
     "output_type": "execute_result"
    }
   ],
   "source": [
    "df['Visit_Date'].isnull().sum()"
   ]
  },
  {
   "cell_type": "code",
   "execution_count": 118,
   "id": "97398d5d",
   "metadata": {},
   "outputs": [
    {
     "name": "stderr",
     "output_type": "stream",
     "text": [
      "C:\\Users\\abhin\\AppData\\Local\\Temp\\ipykernel_18672\\3956936263.py:1: SettingWithCopyWarning: \n",
      "A value is trying to be set on a copy of a slice from a DataFrame.\n",
      "Try using .loc[row_indexer,col_indexer] = value instead\n",
      "\n",
      "See the caveats in the documentation: https://pandas.pydata.org/pandas-docs/stable/user_guide/indexing.html#returning-a-view-versus-a-copy\n",
      "  df['Visit_Date']=df['Visit_Date'].fillna(pd.Timestamp.today())\n"
     ]
    }
   ],
   "source": [
    "df['Visit_Date']=df['Visit_Date'].fillna(pd.Timestamp.today())"
   ]
  },
  {
   "cell_type": "code",
   "execution_count": 121,
   "id": "4cffc865",
   "metadata": {},
   "outputs": [
    {
     "name": "stderr",
     "output_type": "stream",
     "text": [
      "C:\\Users\\abhin\\AppData\\Local\\Temp\\ipykernel_18672\\3500999945.py:1: SettingWithCopyWarning: \n",
      "A value is trying to be set on a copy of a slice from a DataFrame.\n",
      "Try using .loc[row_indexer,col_indexer] = value instead\n",
      "\n",
      "See the caveats in the documentation: https://pandas.pydata.org/pandas-docs/stable/user_guide/indexing.html#returning-a-view-versus-a-copy\n",
      "  df['Visit_Date']=df['Visit_Date'].round(2)\n"
     ]
    }
   ],
   "source": [
    "df['Visit_Date']=df['Visit_Date'].round(2)"
   ]
  },
  {
   "cell_type": "code",
   "execution_count": 122,
   "id": "010fec2f",
   "metadata": {},
   "outputs": [
    {
     "data": {
      "application/vnd.microsoft.datawrangler.viewer.v0+json": {
       "columns": [
        {
         "name": "index",
         "rawType": "int64",
         "type": "integer"
        },
        {
         "name": "Visit_Date",
         "rawType": "object",
         "type": "unknown"
        }
       ],
       "ref": "38542d1f-f989-4321-883e-cd2eceee2937",
       "rows": [
        [
         "0",
         "3/22/2022 0:00"
        ],
        [
         "1",
         "4/3/2022 0:00"
        ],
        [
         "2",
         "4/4/2022 0:00"
        ],
        [
         "3",
         "3/12/2022 0:00"
        ],
        [
         "4",
         "4/7/2022 0:00"
        ],
        [
         "5",
         "3/12/2022 0:00"
        ],
        [
         "6",
         "1/24/2022 0:00"
        ],
        [
         "7",
         "1/11/2022 0:00"
        ],
        [
         "8",
         "3/14/2022 0:00"
        ],
        [
         "9",
         "1/12/2022 0:00"
        ],
        [
         "10",
         "2/4/2022 0:00"
        ],
        [
         "11",
         "3/4/2022 0:00"
        ],
        [
         "12",
         "3/9/2022 0:00"
        ],
        [
         "13",
         "4/10/2022 0:00"
        ],
        [
         "14",
         "4/2/2022 0:00"
        ],
        [
         "15",
         "2/26/2022 0:00"
        ],
        [
         "16",
         "1/13/2022 0:00"
        ],
        [
         "17",
         "1/23/2022 0:00"
        ],
        [
         "19",
         "3/24/2022 0:00"
        ],
        [
         "21",
         "2025-06-19 12:24:18.219716"
        ],
        [
         "22",
         "2/8/2022 0:00"
        ],
        [
         "23",
         "3/29/2022 0:00"
        ],
        [
         "24",
         "3/21/2022 0:00"
        ],
        [
         "25",
         "4/7/2022 0:00"
        ],
        [
         "26",
         "1/12/2022 0:00"
        ],
        [
         "27",
         "2/3/2022 0:00"
        ],
        [
         "28",
         "3/12/2022 0:00"
        ],
        [
         "29",
         "3/16/2022 0:00"
        ],
        [
         "31",
         "1/31/2022 0:00"
        ],
        [
         "32",
         "4/3/2022 0:00"
        ],
        [
         "33",
         "3/3/2022 0:00"
        ],
        [
         "34",
         "1/13/2022 0:00"
        ],
        [
         "35",
         "1/31/2022 0:00"
        ],
        [
         "36",
         "1/2/2022 0:00"
        ],
        [
         "37",
         "1/15/2022 0:00"
        ],
        [
         "38",
         "2/26/2022 0:00"
        ],
        [
         "39",
         "3/16/2022 0:00"
        ],
        [
         "40",
         "2/3/2022 0:00"
        ],
        [
         "41",
         "3/9/2022 0:00"
        ],
        [
         "42",
         "3/16/2022 0:00"
        ],
        [
         "43",
         "1/29/2022 0:00"
        ],
        [
         "45",
         "3/7/2022 0:00"
        ],
        [
         "46",
         "1/16/2022 0:00"
        ],
        [
         "47",
         "2/8/2022 0:00"
        ],
        [
         "48",
         "3/18/2022 0:00"
        ],
        [
         "49",
         "2/6/2022 0:00"
        ],
        [
         "50",
         "3/22/2022 0:00"
        ],
        [
         "51",
         "1/21/2022 0:00"
        ],
        [
         "52",
         "2/13/2022 0:00"
        ],
        [
         "53",
         "1/19/2022 0:00"
        ]
       ],
       "shape": {
        "columns": 1,
        "rows": 1200
       }
      },
      "text/plain": [
       "0       3/22/2022 0:00\n",
       "1        4/3/2022 0:00\n",
       "2        4/4/2022 0:00\n",
       "3       3/12/2022 0:00\n",
       "4        4/7/2022 0:00\n",
       "             ...      \n",
       "1294     2/2/2022 0:00\n",
       "1295     4/3/2022 0:00\n",
       "1296    1/10/2022 0:00\n",
       "1297    3/14/2022 0:00\n",
       "1298    2/28/2022 0:00\n",
       "Name: Visit_Date, Length: 1200, dtype: object"
      ]
     },
     "execution_count": 122,
     "metadata": {},
     "output_type": "execute_result"
    }
   ],
   "source": [
    "df['Visit_Date']"
   ]
  },
  {
   "cell_type": "code",
   "execution_count": 123,
   "id": "37a746aa",
   "metadata": {},
   "outputs": [
    {
     "data": {
      "text/plain": [
       "0"
      ]
     },
     "execution_count": 123,
     "metadata": {},
     "output_type": "execute_result"
    }
   ],
   "source": [
    "df['Visit_Date'].isnull().sum()"
   ]
  },
  {
   "cell_type": "code",
   "execution_count": 124,
   "id": "ed6cab86",
   "metadata": {},
   "outputs": [
    {
     "data": {
      "text/plain": [
       "Index(['Patient_ID', 'Age', 'Gender', 'Blood_Pressure', 'Heart_Rate',\n",
       "       'Diabetes', 'Cholesterol_Level', 'Smoker', 'Weight_kg', 'Height_cm',\n",
       "       'Visit_Date', 'Diagnosis', 'Medication'],\n",
       "      dtype='object')"
      ]
     },
     "execution_count": 124,
     "metadata": {},
     "output_type": "execute_result"
    }
   ],
   "source": [
    "df.columns"
   ]
  },
  {
   "cell_type": "code",
   "execution_count": 125,
   "id": "f39c548e",
   "metadata": {},
   "outputs": [
    {
     "data": {
      "application/vnd.microsoft.datawrangler.viewer.v0+json": {
       "columns": [
        {
         "name": "index",
         "rawType": "int64",
         "type": "integer"
        },
        {
         "name": "Diagnosis",
         "rawType": "object",
         "type": "unknown"
        }
       ],
       "ref": "6eae6865-a516-491c-a2bb-521e41d6eb10",
       "rows": [
        [
         "0",
         "C0vid"
        ],
        [
         "1",
         "Diabetes"
        ],
        [
         "2",
         "Diabetes"
        ],
        [
         "3",
         "Flu"
        ],
        [
         "4",
         "Hypertension"
        ],
        [
         "5",
         null
        ],
        [
         "6",
         "C0vid"
        ],
        [
         "7",
         null
        ],
        [
         "8",
         "Covid-19"
        ],
        [
         "9",
         "Flu"
        ],
        [
         "10",
         "C0vid"
        ],
        [
         "11",
         "Covid-19"
        ],
        [
         "12",
         null
        ],
        [
         "13",
         "C0vid"
        ],
        [
         "14",
         "Diabetes"
        ],
        [
         "15",
         "Covid-19"
        ],
        [
         "16",
         "Hypertension"
        ],
        [
         "17",
         "Healthy"
        ],
        [
         "19",
         null
        ],
        [
         "21",
         null
        ],
        [
         "22",
         "Hypertension"
        ],
        [
         "23",
         "C0vid"
        ],
        [
         "24",
         "C0vid"
        ],
        [
         "25",
         "C0vid"
        ],
        [
         "26",
         "Covid-19"
        ],
        [
         "27",
         "Flu"
        ],
        [
         "28",
         "Diabetes"
        ],
        [
         "29",
         "Healthy"
        ],
        [
         "31",
         "Flu"
        ],
        [
         "32",
         "Flu"
        ],
        [
         "33",
         "Hypertension"
        ],
        [
         "34",
         "Covid-19"
        ],
        [
         "35",
         null
        ],
        [
         "36",
         null
        ],
        [
         "37",
         "Hypertension"
        ],
        [
         "38",
         "Covid-19"
        ],
        [
         "39",
         "Hypertension"
        ],
        [
         "40",
         null
        ],
        [
         "41",
         "Flu"
        ],
        [
         "42",
         "Diabetes"
        ],
        [
         "43",
         "C0vid"
        ],
        [
         "45",
         "Covid-19"
        ],
        [
         "46",
         "Healthy"
        ],
        [
         "47",
         "Healthy"
        ],
        [
         "48",
         "Flu"
        ],
        [
         "49",
         "Hypertension"
        ],
        [
         "50",
         "Hypertension"
        ],
        [
         "51",
         null
        ],
        [
         "52",
         "Flu"
        ],
        [
         "53",
         null
        ]
       ],
       "shape": {
        "columns": 1,
        "rows": 1200
       }
      },
      "text/plain": [
       "0              C0vid\n",
       "1           Diabetes\n",
       "2           Diabetes\n",
       "3                Flu\n",
       "4       Hypertension\n",
       "            ...     \n",
       "1294             Flu\n",
       "1295           C0vid\n",
       "1296        Diabetes\n",
       "1297           C0vid\n",
       "1298             NaN\n",
       "Name: Diagnosis, Length: 1200, dtype: object"
      ]
     },
     "execution_count": 125,
     "metadata": {},
     "output_type": "execute_result"
    }
   ],
   "source": [
    "df['Diagnosis']"
   ]
  },
  {
   "cell_type": "code",
   "execution_count": 126,
   "id": "3b337934",
   "metadata": {},
   "outputs": [
    {
     "name": "stderr",
     "output_type": "stream",
     "text": [
      "C:\\Users\\abhin\\AppData\\Local\\Temp\\ipykernel_18672\\295974747.py:1: SettingWithCopyWarning: \n",
      "A value is trying to be set on a copy of a slice from a DataFrame.\n",
      "Try using .loc[row_indexer,col_indexer] = value instead\n",
      "\n",
      "See the caveats in the documentation: https://pandas.pydata.org/pandas-docs/stable/user_guide/indexing.html#returning-a-view-versus-a-copy\n",
      "  df['Diagnosis']=df['Diagnosis'].replace('C0vid','Covid-19')\n"
     ]
    }
   ],
   "source": [
    "df['Diagnosis']=df['Diagnosis'].replace('C0vid','Covid-19')"
   ]
  },
  {
   "cell_type": "code",
   "execution_count": 127,
   "id": "e359692c",
   "metadata": {},
   "outputs": [
    {
     "data": {
      "application/vnd.microsoft.datawrangler.viewer.v0+json": {
       "columns": [
        {
         "name": "index",
         "rawType": "int64",
         "type": "integer"
        },
        {
         "name": "Diagnosis",
         "rawType": "object",
         "type": "unknown"
        }
       ],
       "ref": "b0853ac8-576b-4442-8864-a43e3843fd23",
       "rows": [
        [
         "0",
         "Covid-19"
        ],
        [
         "1",
         "Diabetes"
        ],
        [
         "2",
         "Diabetes"
        ],
        [
         "3",
         "Flu"
        ],
        [
         "4",
         "Hypertension"
        ],
        [
         "5",
         null
        ],
        [
         "6",
         "Covid-19"
        ],
        [
         "7",
         null
        ],
        [
         "8",
         "Covid-19"
        ],
        [
         "9",
         "Flu"
        ],
        [
         "10",
         "Covid-19"
        ],
        [
         "11",
         "Covid-19"
        ],
        [
         "12",
         null
        ],
        [
         "13",
         "Covid-19"
        ],
        [
         "14",
         "Diabetes"
        ],
        [
         "15",
         "Covid-19"
        ],
        [
         "16",
         "Hypertension"
        ],
        [
         "17",
         "Healthy"
        ],
        [
         "19",
         null
        ],
        [
         "21",
         null
        ],
        [
         "22",
         "Hypertension"
        ],
        [
         "23",
         "Covid-19"
        ],
        [
         "24",
         "Covid-19"
        ],
        [
         "25",
         "Covid-19"
        ],
        [
         "26",
         "Covid-19"
        ],
        [
         "27",
         "Flu"
        ],
        [
         "28",
         "Diabetes"
        ],
        [
         "29",
         "Healthy"
        ],
        [
         "31",
         "Flu"
        ],
        [
         "32",
         "Flu"
        ],
        [
         "33",
         "Hypertension"
        ],
        [
         "34",
         "Covid-19"
        ],
        [
         "35",
         null
        ],
        [
         "36",
         null
        ],
        [
         "37",
         "Hypertension"
        ],
        [
         "38",
         "Covid-19"
        ],
        [
         "39",
         "Hypertension"
        ],
        [
         "40",
         null
        ],
        [
         "41",
         "Flu"
        ],
        [
         "42",
         "Diabetes"
        ],
        [
         "43",
         "Covid-19"
        ],
        [
         "45",
         "Covid-19"
        ],
        [
         "46",
         "Healthy"
        ],
        [
         "47",
         "Healthy"
        ],
        [
         "48",
         "Flu"
        ],
        [
         "49",
         "Hypertension"
        ],
        [
         "50",
         "Hypertension"
        ],
        [
         "51",
         null
        ],
        [
         "52",
         "Flu"
        ],
        [
         "53",
         null
        ]
       ],
       "shape": {
        "columns": 1,
        "rows": 1200
       }
      },
      "text/plain": [
       "0           Covid-19\n",
       "1           Diabetes\n",
       "2           Diabetes\n",
       "3                Flu\n",
       "4       Hypertension\n",
       "            ...     \n",
       "1294             Flu\n",
       "1295        Covid-19\n",
       "1296        Diabetes\n",
       "1297        Covid-19\n",
       "1298             NaN\n",
       "Name: Diagnosis, Length: 1200, dtype: object"
      ]
     },
     "execution_count": 127,
     "metadata": {},
     "output_type": "execute_result"
    }
   ],
   "source": [
    "df['Diagnosis']"
   ]
  },
  {
   "cell_type": "code",
   "execution_count": 128,
   "id": "eebb6569",
   "metadata": {},
   "outputs": [
    {
     "name": "stderr",
     "output_type": "stream",
     "text": [
      "C:\\Users\\abhin\\AppData\\Local\\Temp\\ipykernel_18672\\2628324673.py:1: SettingWithCopyWarning: \n",
      "A value is trying to be set on a copy of a slice from a DataFrame.\n",
      "Try using .loc[row_indexer,col_indexer] = value instead\n",
      "\n",
      "See the caveats in the documentation: https://pandas.pydata.org/pandas-docs/stable/user_guide/indexing.html#returning-a-view-versus-a-copy\n",
      "  df['Diagnosis']=df['Diagnosis'].fillna(df['Diagnosis'].mode()[0])\n"
     ]
    }
   ],
   "source": [
    "df['Diagnosis']=df['Diagnosis'].fillna(df['Diagnosis'].mode()[0])"
   ]
  },
  {
   "cell_type": "code",
   "execution_count": 129,
   "id": "afa6ade4",
   "metadata": {},
   "outputs": [
    {
     "data": {
      "application/vnd.microsoft.datawrangler.viewer.v0+json": {
       "columns": [
        {
         "name": "index",
         "rawType": "int64",
         "type": "integer"
        },
        {
         "name": "Diagnosis",
         "rawType": "object",
         "type": "string"
        }
       ],
       "ref": "476beb17-c6d4-443b-92f4-d245ca66cabb",
       "rows": [
        [
         "0",
         "Covid-19"
        ],
        [
         "1",
         "Diabetes"
        ],
        [
         "2",
         "Diabetes"
        ],
        [
         "3",
         "Flu"
        ],
        [
         "4",
         "Hypertension"
        ],
        [
         "5",
         "Covid-19"
        ],
        [
         "6",
         "Covid-19"
        ],
        [
         "7",
         "Covid-19"
        ],
        [
         "8",
         "Covid-19"
        ],
        [
         "9",
         "Flu"
        ],
        [
         "10",
         "Covid-19"
        ],
        [
         "11",
         "Covid-19"
        ],
        [
         "12",
         "Covid-19"
        ],
        [
         "13",
         "Covid-19"
        ],
        [
         "14",
         "Diabetes"
        ],
        [
         "15",
         "Covid-19"
        ],
        [
         "16",
         "Hypertension"
        ],
        [
         "17",
         "Healthy"
        ],
        [
         "19",
         "Covid-19"
        ],
        [
         "21",
         "Covid-19"
        ],
        [
         "22",
         "Hypertension"
        ],
        [
         "23",
         "Covid-19"
        ],
        [
         "24",
         "Covid-19"
        ],
        [
         "25",
         "Covid-19"
        ],
        [
         "26",
         "Covid-19"
        ],
        [
         "27",
         "Flu"
        ],
        [
         "28",
         "Diabetes"
        ],
        [
         "29",
         "Healthy"
        ],
        [
         "31",
         "Flu"
        ],
        [
         "32",
         "Flu"
        ],
        [
         "33",
         "Hypertension"
        ],
        [
         "34",
         "Covid-19"
        ],
        [
         "35",
         "Covid-19"
        ],
        [
         "36",
         "Covid-19"
        ],
        [
         "37",
         "Hypertension"
        ],
        [
         "38",
         "Covid-19"
        ],
        [
         "39",
         "Hypertension"
        ],
        [
         "40",
         "Covid-19"
        ],
        [
         "41",
         "Flu"
        ],
        [
         "42",
         "Diabetes"
        ],
        [
         "43",
         "Covid-19"
        ],
        [
         "45",
         "Covid-19"
        ],
        [
         "46",
         "Healthy"
        ],
        [
         "47",
         "Healthy"
        ],
        [
         "48",
         "Flu"
        ],
        [
         "49",
         "Hypertension"
        ],
        [
         "50",
         "Hypertension"
        ],
        [
         "51",
         "Covid-19"
        ],
        [
         "52",
         "Flu"
        ],
        [
         "53",
         "Covid-19"
        ]
       ],
       "shape": {
        "columns": 1,
        "rows": 1200
       }
      },
      "text/plain": [
       "0           Covid-19\n",
       "1           Diabetes\n",
       "2           Diabetes\n",
       "3                Flu\n",
       "4       Hypertension\n",
       "            ...     \n",
       "1294             Flu\n",
       "1295        Covid-19\n",
       "1296        Diabetes\n",
       "1297        Covid-19\n",
       "1298        Covid-19\n",
       "Name: Diagnosis, Length: 1200, dtype: object"
      ]
     },
     "execution_count": 129,
     "metadata": {},
     "output_type": "execute_result"
    }
   ],
   "source": [
    "df['Diagnosis']"
   ]
  },
  {
   "cell_type": "code",
   "execution_count": 130,
   "id": "24d66c59",
   "metadata": {},
   "outputs": [
    {
     "data": {
      "text/plain": [
       "0"
      ]
     },
     "execution_count": 130,
     "metadata": {},
     "output_type": "execute_result"
    }
   ],
   "source": [
    "df['Diagnosis'].isnull().sum()"
   ]
  },
  {
   "cell_type": "code",
   "execution_count": 131,
   "id": "937c0d6b",
   "metadata": {},
   "outputs": [
    {
     "data": {
      "text/plain": [
       "Index(['Patient_ID', 'Age', 'Gender', 'Blood_Pressure', 'Heart_Rate',\n",
       "       'Diabetes', 'Cholesterol_Level', 'Smoker', 'Weight_kg', 'Height_cm',\n",
       "       'Visit_Date', 'Diagnosis', 'Medication'],\n",
       "      dtype='object')"
      ]
     },
     "execution_count": 131,
     "metadata": {},
     "output_type": "execute_result"
    }
   ],
   "source": [
    "df.columns"
   ]
  },
  {
   "cell_type": "code",
   "execution_count": 132,
   "id": "37276aca",
   "metadata": {},
   "outputs": [
    {
     "data": {
      "application/vnd.microsoft.datawrangler.viewer.v0+json": {
       "columns": [
        {
         "name": "index",
         "rawType": "int64",
         "type": "integer"
        },
        {
         "name": "Medication",
         "rawType": "object",
         "type": "unknown"
        }
       ],
       "ref": "4451d85b-ea7c-4e12-b04d-f36a94f9784a",
       "rows": [
        [
         "0",
         null
        ],
        [
         "1",
         null
        ],
        [
         "2",
         "DrugA"
        ],
        [
         "3",
         null
        ],
        [
         "4",
         null
        ],
        [
         "5",
         "DrugA"
        ],
        [
         "6",
         "DrugB"
        ],
        [
         "7",
         null
        ],
        [
         "8",
         "DrugC"
        ],
        [
         "9",
         "DrugA"
        ],
        [
         "10",
         null
        ],
        [
         "11",
         "No_Meds"
        ],
        [
         "12",
         null
        ],
        [
         "13",
         "DrugC"
        ],
        [
         "14",
         "DrugC"
        ],
        [
         "15",
         null
        ],
        [
         "16",
         "No_Meds"
        ],
        [
         "17",
         "DrugA"
        ],
        [
         "19",
         null
        ],
        [
         "21",
         "DrugC"
        ],
        [
         "22",
         "DrugC"
        ],
        [
         "23",
         "DrugC"
        ],
        [
         "24",
         "No_Meds"
        ],
        [
         "25",
         "DrugB"
        ],
        [
         "26",
         "No_Meds"
        ],
        [
         "27",
         "DrugA"
        ],
        [
         "28",
         "DrugA"
        ],
        [
         "29",
         "DrugA"
        ],
        [
         "31",
         "DrugA"
        ],
        [
         "32",
         "DrugA"
        ],
        [
         "33",
         null
        ],
        [
         "34",
         "DrugC"
        ],
        [
         "35",
         "No_Meds"
        ],
        [
         "36",
         null
        ],
        [
         "37",
         "No_Meds"
        ],
        [
         "38",
         "DrugB"
        ],
        [
         "39",
         null
        ],
        [
         "40",
         "DrugC"
        ],
        [
         "41",
         "DrugB"
        ],
        [
         "42",
         null
        ],
        [
         "43",
         null
        ],
        [
         "45",
         "DrugB"
        ],
        [
         "46",
         "No_Meds"
        ],
        [
         "47",
         null
        ],
        [
         "48",
         "No_Meds"
        ],
        [
         "49",
         "DrugB"
        ],
        [
         "50",
         null
        ],
        [
         "51",
         "No_Meds"
        ],
        [
         "52",
         null
        ],
        [
         "53",
         "DrugB"
        ]
       ],
       "shape": {
        "columns": 1,
        "rows": 1200
       }
      },
      "text/plain": [
       "0         NaN\n",
       "1         NaN\n",
       "2       DrugA\n",
       "3         NaN\n",
       "4         NaN\n",
       "        ...  \n",
       "1294      NaN\n",
       "1295    DrugC\n",
       "1296    DrugA\n",
       "1297      NaN\n",
       "1298    DrugA\n",
       "Name: Medication, Length: 1200, dtype: object"
      ]
     },
     "execution_count": 132,
     "metadata": {},
     "output_type": "execute_result"
    }
   ],
   "source": [
    "df['Medication']"
   ]
  },
  {
   "cell_type": "code",
   "execution_count": 134,
   "id": "d2e10921",
   "metadata": {},
   "outputs": [
    {
     "data": {
      "text/plain": [
       "418"
      ]
     },
     "execution_count": 134,
     "metadata": {},
     "output_type": "execute_result"
    }
   ],
   "source": [
    "df['Medication'].isnull().sum()"
   ]
  },
  {
   "cell_type": "code",
   "execution_count": 135,
   "id": "41a31138",
   "metadata": {},
   "outputs": [
    {
     "name": "stderr",
     "output_type": "stream",
     "text": [
      "C:\\Users\\abhin\\AppData\\Local\\Temp\\ipykernel_18672\\3067147198.py:1: SettingWithCopyWarning: \n",
      "A value is trying to be set on a copy of a slice from a DataFrame.\n",
      "Try using .loc[row_indexer,col_indexer] = value instead\n",
      "\n",
      "See the caveats in the documentation: https://pandas.pydata.org/pandas-docs/stable/user_guide/indexing.html#returning-a-view-versus-a-copy\n",
      "  df['Medication']=df['Medication'].fillna(df['Medication'].mode()[0])\n"
     ]
    }
   ],
   "source": [
    "df['Medication']=df['Medication'].fillna(df['Medication'].mode()[0])"
   ]
  },
  {
   "cell_type": "code",
   "execution_count": 136,
   "id": "fd4b61e0",
   "metadata": {},
   "outputs": [
    {
     "data": {
      "application/vnd.microsoft.datawrangler.viewer.v0+json": {
       "columns": [
        {
         "name": "index",
         "rawType": "int64",
         "type": "integer"
        },
        {
         "name": "Medication",
         "rawType": "object",
         "type": "string"
        }
       ],
       "ref": "eab0a018-6d02-4c4a-a958-938e2697b99a",
       "rows": [
        [
         "0",
         "DrugC"
        ],
        [
         "1",
         "DrugC"
        ],
        [
         "2",
         "DrugA"
        ],
        [
         "3",
         "DrugC"
        ],
        [
         "4",
         "DrugC"
        ],
        [
         "5",
         "DrugA"
        ],
        [
         "6",
         "DrugB"
        ],
        [
         "7",
         "DrugC"
        ],
        [
         "8",
         "DrugC"
        ],
        [
         "9",
         "DrugA"
        ],
        [
         "10",
         "DrugC"
        ],
        [
         "11",
         "No_Meds"
        ],
        [
         "12",
         "DrugC"
        ],
        [
         "13",
         "DrugC"
        ],
        [
         "14",
         "DrugC"
        ],
        [
         "15",
         "DrugC"
        ],
        [
         "16",
         "No_Meds"
        ],
        [
         "17",
         "DrugA"
        ],
        [
         "19",
         "DrugC"
        ],
        [
         "21",
         "DrugC"
        ],
        [
         "22",
         "DrugC"
        ],
        [
         "23",
         "DrugC"
        ],
        [
         "24",
         "No_Meds"
        ],
        [
         "25",
         "DrugB"
        ],
        [
         "26",
         "No_Meds"
        ],
        [
         "27",
         "DrugA"
        ],
        [
         "28",
         "DrugA"
        ],
        [
         "29",
         "DrugA"
        ],
        [
         "31",
         "DrugA"
        ],
        [
         "32",
         "DrugA"
        ],
        [
         "33",
         "DrugC"
        ],
        [
         "34",
         "DrugC"
        ],
        [
         "35",
         "No_Meds"
        ],
        [
         "36",
         "DrugC"
        ],
        [
         "37",
         "No_Meds"
        ],
        [
         "38",
         "DrugB"
        ],
        [
         "39",
         "DrugC"
        ],
        [
         "40",
         "DrugC"
        ],
        [
         "41",
         "DrugB"
        ],
        [
         "42",
         "DrugC"
        ],
        [
         "43",
         "DrugC"
        ],
        [
         "45",
         "DrugB"
        ],
        [
         "46",
         "No_Meds"
        ],
        [
         "47",
         "DrugC"
        ],
        [
         "48",
         "No_Meds"
        ],
        [
         "49",
         "DrugB"
        ],
        [
         "50",
         "DrugC"
        ],
        [
         "51",
         "No_Meds"
        ],
        [
         "52",
         "DrugC"
        ],
        [
         "53",
         "DrugB"
        ]
       ],
       "shape": {
        "columns": 1,
        "rows": 1200
       }
      },
      "text/plain": [
       "0       DrugC\n",
       "1       DrugC\n",
       "2       DrugA\n",
       "3       DrugC\n",
       "4       DrugC\n",
       "        ...  \n",
       "1294    DrugC\n",
       "1295    DrugC\n",
       "1296    DrugA\n",
       "1297    DrugC\n",
       "1298    DrugA\n",
       "Name: Medication, Length: 1200, dtype: object"
      ]
     },
     "execution_count": 136,
     "metadata": {},
     "output_type": "execute_result"
    }
   ],
   "source": [
    "df['Medication']"
   ]
  },
  {
   "cell_type": "code",
   "execution_count": 137,
   "id": "b79326ee",
   "metadata": {},
   "outputs": [
    {
     "data": {
      "text/plain": [
       "0"
      ]
     },
     "execution_count": 137,
     "metadata": {},
     "output_type": "execute_result"
    }
   ],
   "source": [
    "df['Medication'].isnull().sum()"
   ]
  },
  {
   "cell_type": "code",
   "execution_count": 138,
   "id": "68daeadd",
   "metadata": {},
   "outputs": [
    {
     "data": {
      "application/vnd.microsoft.datawrangler.viewer.v0+json": {
       "columns": [
        {
         "name": "index",
         "rawType": "object",
         "type": "string"
        },
        {
         "name": "0",
         "rawType": "int64",
         "type": "integer"
        }
       ],
       "ref": "44f6916f-da4d-43b3-a1d5-4b42fa8c546e",
       "rows": [
        [
         "Patient_ID",
         "0"
        ],
        [
         "Age",
         "0"
        ],
        [
         "Gender",
         "0"
        ],
        [
         "Blood_Pressure",
         "0"
        ],
        [
         "Heart_Rate",
         "0"
        ],
        [
         "Diabetes",
         "0"
        ],
        [
         "Cholesterol_Level",
         "0"
        ],
        [
         "Smoker",
         "0"
        ],
        [
         "Weight_kg",
         "0"
        ],
        [
         "Height_cm",
         "0"
        ],
        [
         "Visit_Date",
         "0"
        ],
        [
         "Diagnosis",
         "0"
        ],
        [
         "Medication",
         "0"
        ]
       ],
       "shape": {
        "columns": 1,
        "rows": 13
       }
      },
      "text/plain": [
       "Patient_ID           0\n",
       "Age                  0\n",
       "Gender               0\n",
       "Blood_Pressure       0\n",
       "Heart_Rate           0\n",
       "Diabetes             0\n",
       "Cholesterol_Level    0\n",
       "Smoker               0\n",
       "Weight_kg            0\n",
       "Height_cm            0\n",
       "Visit_Date           0\n",
       "Diagnosis            0\n",
       "Medication           0\n",
       "dtype: int64"
      ]
     },
     "execution_count": 138,
     "metadata": {},
     "output_type": "execute_result"
    }
   ],
   "source": [
    "df.isnull().sum()"
   ]
  },
  {
   "cell_type": "code",
   "execution_count": 139,
   "id": "8aaf3c47",
   "metadata": {},
   "outputs": [
    {
     "name": "stdout",
     "output_type": "stream",
     "text": [
      "<class 'pandas.core.frame.DataFrame'>\n",
      "Index: 1200 entries, 0 to 1298\n",
      "Data columns (total 13 columns):\n",
      " #   Column             Non-Null Count  Dtype \n",
      "---  ------             --------------  ----- \n",
      " 0   Patient_ID         1200 non-null   object\n",
      " 1   Age                1200 non-null   int32 \n",
      " 2   Gender             1200 non-null   object\n",
      " 3   Blood_Pressure     1200 non-null   int32 \n",
      " 4   Heart_Rate         1200 non-null   int32 \n",
      " 5   Diabetes           1200 non-null   int32 \n",
      " 6   Cholesterol_Level  1200 non-null   int32 \n",
      " 7   Smoker             1200 non-null   int32 \n",
      " 8   Weight_kg          1200 non-null   int32 \n",
      " 9   Height_cm          1200 non-null   int32 \n",
      " 10  Visit_Date         1200 non-null   object\n",
      " 11  Diagnosis          1200 non-null   object\n",
      " 12  Medication         1200 non-null   object\n",
      "dtypes: int32(8), object(5)\n",
      "memory usage: 93.8+ KB\n"
     ]
    }
   ],
   "source": [
    "df.info()"
   ]
  },
  {
   "cell_type": "code",
   "execution_count": 140,
   "id": "8c4d2967",
   "metadata": {},
   "outputs": [
    {
     "name": "stderr",
     "output_type": "stream",
     "text": [
      "C:\\Users\\abhin\\AppData\\Local\\Temp\\ipykernel_18672\\3630386536.py:1: SettingWithCopyWarning: \n",
      "A value is trying to be set on a copy of a slice from a DataFrame.\n",
      "Try using .loc[row_indexer,col_indexer] = value instead\n",
      "\n",
      "See the caveats in the documentation: https://pandas.pydata.org/pandas-docs/stable/user_guide/indexing.html#returning-a-view-versus-a-copy\n",
      "  df['Patient_ID']=df['Patient_ID'].astype('category')\n"
     ]
    }
   ],
   "source": [
    "df['Patient_ID']=df['Patient_ID'].astype('category')"
   ]
  },
  {
   "cell_type": "code",
   "execution_count": 141,
   "id": "74379ff7",
   "metadata": {},
   "outputs": [
    {
     "name": "stderr",
     "output_type": "stream",
     "text": [
      "C:\\Users\\abhin\\AppData\\Local\\Temp\\ipykernel_18672\\951813934.py:1: SettingWithCopyWarning: \n",
      "A value is trying to be set on a copy of a slice from a DataFrame.\n",
      "Try using .loc[row_indexer,col_indexer] = value instead\n",
      "\n",
      "See the caveats in the documentation: https://pandas.pydata.org/pandas-docs/stable/user_guide/indexing.html#returning-a-view-versus-a-copy\n",
      "  df['Gender']=df['Gender'].astype('category')\n"
     ]
    }
   ],
   "source": [
    "df['Gender']=df['Gender'].astype('category')"
   ]
  },
  {
   "cell_type": "code",
   "execution_count": 145,
   "id": "514488ae",
   "metadata": {},
   "outputs": [
    {
     "name": "stderr",
     "output_type": "stream",
     "text": [
      "C:\\Users\\abhin\\AppData\\Local\\Temp\\ipykernel_18672\\1794384902.py:1: SettingWithCopyWarning: \n",
      "A value is trying to be set on a copy of a slice from a DataFrame.\n",
      "Try using .loc[row_indexer,col_indexer] = value instead\n",
      "\n",
      "See the caveats in the documentation: https://pandas.pydata.org/pandas-docs/stable/user_guide/indexing.html#returning-a-view-versus-a-copy\n",
      "  df['Visit_Date']=df['Visit_Date'].astype('datetime64[ms]')\n"
     ]
    }
   ],
   "source": [
    "df['Visit_Date']=df['Visit_Date'].astype('datetime64[ms]')"
   ]
  },
  {
   "cell_type": "code",
   "execution_count": 146,
   "id": "baaa7df5",
   "metadata": {},
   "outputs": [
    {
     "name": "stderr",
     "output_type": "stream",
     "text": [
      "C:\\Users\\abhin\\AppData\\Local\\Temp\\ipykernel_18672\\3930797874.py:1: SettingWithCopyWarning: \n",
      "A value is trying to be set on a copy of a slice from a DataFrame.\n",
      "Try using .loc[row_indexer,col_indexer] = value instead\n",
      "\n",
      "See the caveats in the documentation: https://pandas.pydata.org/pandas-docs/stable/user_guide/indexing.html#returning-a-view-versus-a-copy\n",
      "  df['Diagnosis']=df['Diagnosis'].astype('category')\n"
     ]
    }
   ],
   "source": [
    "df['Diagnosis']=df['Diagnosis'].astype('category')"
   ]
  },
  {
   "cell_type": "code",
   "execution_count": 147,
   "id": "ea680caf",
   "metadata": {},
   "outputs": [
    {
     "name": "stderr",
     "output_type": "stream",
     "text": [
      "C:\\Users\\abhin\\AppData\\Local\\Temp\\ipykernel_18672\\868927391.py:1: SettingWithCopyWarning: \n",
      "A value is trying to be set on a copy of a slice from a DataFrame.\n",
      "Try using .loc[row_indexer,col_indexer] = value instead\n",
      "\n",
      "See the caveats in the documentation: https://pandas.pydata.org/pandas-docs/stable/user_guide/indexing.html#returning-a-view-versus-a-copy\n",
      "  df['Medication']=df['Medication'].astype('category')\n"
     ]
    }
   ],
   "source": [
    "df['Medication']=df['Medication'].astype('category')"
   ]
  },
  {
   "cell_type": "code",
   "execution_count": 148,
   "id": "ed781435",
   "metadata": {},
   "outputs": [
    {
     "name": "stdout",
     "output_type": "stream",
     "text": [
      "<class 'pandas.core.frame.DataFrame'>\n",
      "Index: 1200 entries, 0 to 1298\n",
      "Data columns (total 13 columns):\n",
      " #   Column             Non-Null Count  Dtype         \n",
      "---  ------             --------------  -----         \n",
      " 0   Patient_ID         1200 non-null   category      \n",
      " 1   Age                1200 non-null   int32         \n",
      " 2   Gender             1200 non-null   category      \n",
      " 3   Blood_Pressure     1200 non-null   int32         \n",
      " 4   Heart_Rate         1200 non-null   int32         \n",
      " 5   Diabetes           1200 non-null   int32         \n",
      " 6   Cholesterol_Level  1200 non-null   int32         \n",
      " 7   Smoker             1200 non-null   int32         \n",
      " 8   Weight_kg          1200 non-null   int32         \n",
      " 9   Height_cm          1200 non-null   int32         \n",
      " 10  Visit_Date         1200 non-null   datetime64[ms]\n",
      " 11  Diagnosis          1200 non-null   category      \n",
      " 12  Medication         1200 non-null   category      \n",
      "dtypes: category(4), datetime64[ms](1), int32(8)\n",
      "memory usage: 104.3 KB\n"
     ]
    }
   ],
   "source": [
    "df.info()"
   ]
  },
  {
   "cell_type": "code",
   "execution_count": 149,
   "id": "1d0b6ae3",
   "metadata": {},
   "outputs": [
    {
     "data": {
      "application/vnd.microsoft.datawrangler.viewer.v0+json": {
       "columns": [
        {
         "name": "index",
         "rawType": "int64",
         "type": "integer"
        },
        {
         "name": "Patient_ID",
         "rawType": "category",
         "type": "unknown"
        },
        {
         "name": "Age",
         "rawType": "int32",
         "type": "integer"
        },
        {
         "name": "Gender",
         "rawType": "category",
         "type": "unknown"
        },
        {
         "name": "Blood_Pressure",
         "rawType": "int32",
         "type": "integer"
        },
        {
         "name": "Heart_Rate",
         "rawType": "int32",
         "type": "integer"
        },
        {
         "name": "Diabetes",
         "rawType": "int32",
         "type": "integer"
        },
        {
         "name": "Cholesterol_Level",
         "rawType": "int32",
         "type": "integer"
        },
        {
         "name": "Smoker",
         "rawType": "int32",
         "type": "integer"
        },
        {
         "name": "Weight_kg",
         "rawType": "int32",
         "type": "integer"
        },
        {
         "name": "Height_cm",
         "rawType": "int32",
         "type": "integer"
        },
        {
         "name": "Visit_Date",
         "rawType": "datetime64[ms]",
         "type": "unknown"
        },
        {
         "name": "Diagnosis",
         "rawType": "category",
         "type": "unknown"
        },
        {
         "name": "Medication",
         "rawType": "category",
         "type": "unknown"
        }
       ],
       "ref": "c1bae0a4-4bc9-4b22-a87e-1a6de0980df5",
       "rows": [
        [
         "0",
         "ID1000",
         "48",
         "Female",
         "120",
         "85",
         "0",
         "211",
         "0",
         "70",
         "160",
         "2022-03-22 00:00:00",
         "Covid-19",
         "DrugC"
        ],
        [
         "1",
         "ID1001",
         "51",
         "Other",
         "140",
         "90",
         "0",
         "250",
         "1",
         "80",
         "160",
         "2022-04-03 00:00:00",
         "Diabetes",
         "DrugC"
        ],
        [
         "2",
         "ID1002",
         "92",
         "Other",
         "120",
         "60",
         "0",
         "180",
         "0",
         "60",
         "174",
         "2022-04-04 00:00:00",
         "Diabetes",
         "DrugA"
        ],
        [
         "3",
         "ID1003",
         "14",
         "Female",
         "120",
         "110",
         "1",
         "180",
         "1",
         "70",
         "170",
         "2022-03-12 00:00:00",
         "Flu",
         "DrugC"
        ],
        [
         "4",
         "ID1004",
         "71",
         "Male",
         "120",
         "80",
         "0",
         "200",
         "1",
         "80",
         "174",
         "2022-04-07 00:00:00",
         "Hypertension",
         "DrugC"
        ],
        [
         "5",
         "ID1005",
         "60",
         "Male",
         "120",
         "100",
         "0",
         "200",
         "1",
         "80",
         "180",
         "2022-03-12 00:00:00",
         "Covid-19",
         "DrugA"
        ],
        [
         "6",
         "ID1006",
         "20",
         "Male",
         "130",
         "80",
         "1",
         "211",
         "1",
         "60",
         "150",
         "2022-01-24 00:00:00",
         "Covid-19",
         "DrugB"
        ],
        [
         "7",
         "ID1007",
         "48",
         "Male",
         "140",
         "60",
         "0",
         "220",
         "0",
         "90",
         "170",
         "2022-01-11 00:00:00",
         "Covid-19",
         "DrugC"
        ],
        [
         "8",
         "ID1008",
         "82",
         "Female",
         "130",
         "80",
         "0",
         "200",
         "0",
         "90",
         "190",
         "2022-03-14 00:00:00",
         "Covid-19",
         "DrugC"
        ],
        [
         "9",
         "ID1009",
         "86",
         "Other",
         "110",
         "110",
         "1",
         "220",
         "1",
         "70",
         "200",
         "2022-01-12 00:00:00",
         "Flu",
         "DrugA"
        ],
        [
         "10",
         "ID1010",
         "74",
         "Male",
         "110",
         "110",
         "0",
         "200",
         "0",
         "80",
         "180",
         "2022-02-04 00:00:00",
         "Covid-19",
         "DrugC"
        ],
        [
         "11",
         "ID1011",
         "74",
         "Male",
         "110",
         "60",
         "0",
         "200",
         "1",
         "60",
         "170",
         "2022-03-04 00:00:00",
         "Covid-19",
         "No_Meds"
        ],
        [
         "12",
         "ID1012",
         "87",
         "Female",
         "90",
         "90",
         "0",
         "250",
         "1",
         "70",
         "200",
         "2022-03-09 00:00:00",
         "Covid-19",
         "DrugC"
        ],
        [
         "13",
         "ID1013",
         "99",
         "Male",
         "120",
         "80",
         "1",
         "200",
         "1",
         "90",
         "200",
         "2022-04-10 00:00:00",
         "Covid-19",
         "DrugC"
        ],
        [
         "14",
         "ID1014",
         "23",
         "Male",
         "90",
         "90",
         "1",
         "200",
         "0",
         "70",
         "150",
         "2022-04-02 00:00:00",
         "Diabetes",
         "DrugC"
        ],
        [
         "15",
         "ID1015",
         "2",
         "Male",
         "120",
         "90",
         "1",
         "220",
         "0",
         "60",
         "160",
         "2022-02-26 00:00:00",
         "Covid-19",
         "DrugC"
        ],
        [
         "16",
         "ID1016",
         "21",
         "Male",
         "110",
         "85",
         "0",
         "250",
         "0",
         "60",
         "190",
         "2022-01-13 00:00:00",
         "Hypertension",
         "No_Meds"
        ],
        [
         "17",
         "ID1017",
         "52",
         "Other",
         "140",
         "70",
         "0",
         "200",
         "0",
         "80",
         "174",
         "2022-01-23 00:00:00",
         "Healthy",
         "DrugA"
        ],
        [
         "19",
         "ID1018",
         "1",
         "Male",
         "130",
         "60",
         "0",
         "200",
         "0",
         "70",
         "150",
         "2022-03-24 00:00:00",
         "Covid-19",
         "DrugC"
        ],
        [
         "21",
         "ID1019",
         "87",
         "Female",
         "120",
         "100",
         "0",
         "200",
         "1",
         "70",
         "180",
         "2025-06-19 12:24:18.219000",
         "Covid-19",
         "DrugC"
        ],
        [
         "22",
         "ID1020",
         "29",
         "Male",
         "140",
         "110",
         "1",
         "250",
         "0",
         "80",
         "200",
         "2022-02-08 00:00:00",
         "Hypertension",
         "DrugC"
        ],
        [
         "23",
         "ID1021",
         "37",
         "Female",
         "140",
         "110",
         "1",
         "211",
         "1",
         "50",
         "180",
         "2022-03-29 00:00:00",
         "Covid-19",
         "DrugC"
        ],
        [
         "24",
         "ID1022",
         "1",
         "Female",
         "120",
         "60",
         "0",
         "250",
         "0",
         "70",
         "200",
         "2022-03-21 00:00:00",
         "Covid-19",
         "No_Meds"
        ],
        [
         "25",
         "ID1023",
         "63",
         "Female",
         "90",
         "85",
         "0",
         "220",
         "1",
         "90",
         "160",
         "2022-04-07 00:00:00",
         "Covid-19",
         "DrugB"
        ],
        [
         "26",
         "ID1024",
         "59",
         "Male",
         "90",
         "85",
         "1",
         "211",
         "1",
         "90",
         "160",
         "2022-01-12 00:00:00",
         "Covid-19",
         "No_Meds"
        ],
        [
         "27",
         "ID1025",
         "20",
         "Other",
         "140",
         "85",
         "0",
         "200",
         "0",
         "90",
         "190",
         "2022-02-03 00:00:00",
         "Flu",
         "DrugA"
        ],
        [
         "28",
         "ID1026",
         "32",
         "Female",
         "90",
         "85",
         "1",
         "180",
         "0",
         "70",
         "174",
         "2022-03-12 00:00:00",
         "Diabetes",
         "DrugA"
        ],
        [
         "29",
         "ID1027",
         "75",
         "Male",
         "110",
         "85",
         "1",
         "250",
         "0",
         "60",
         "190",
         "2022-03-16 00:00:00",
         "Healthy",
         "DrugA"
        ],
        [
         "31",
         "ID1028",
         "57",
         "Female",
         "120",
         "100",
         "0",
         "220",
         "1",
         "80",
         "160",
         "2022-01-31 00:00:00",
         "Flu",
         "DrugA"
        ],
        [
         "32",
         "ID1029",
         "21",
         "Female",
         "130",
         "110",
         "1",
         "200",
         "0",
         "90",
         "160",
         "2022-04-03 00:00:00",
         "Flu",
         "DrugA"
        ],
        [
         "33",
         "ID1030",
         "88",
         "Male",
         "120",
         "60",
         "0",
         "211",
         "0",
         "50",
         "180",
         "2022-03-03 00:00:00",
         "Hypertension",
         "DrugC"
        ],
        [
         "34",
         "ID1031",
         "48",
         "Male",
         "120",
         "85",
         "0",
         "200",
         "1",
         "90",
         "160",
         "2022-01-13 00:00:00",
         "Covid-19",
         "DrugC"
        ],
        [
         "35",
         "ID1032",
         "90",
         "Male",
         "130",
         "110",
         "1",
         "250",
         "1",
         "70",
         "170",
         "2022-01-31 00:00:00",
         "Covid-19",
         "No_Meds"
        ],
        [
         "36",
         "ID1033",
         "58",
         "Male",
         "130",
         "90",
         "0",
         "200",
         "0",
         "60",
         "200",
         "2022-01-02 00:00:00",
         "Covid-19",
         "DrugC"
        ],
        [
         "37",
         "ID1034",
         "41",
         "Male",
         "120",
         "80",
         "0",
         "250",
         "1",
         "70",
         "150",
         "2022-01-15 00:00:00",
         "Hypertension",
         "No_Meds"
        ],
        [
         "38",
         "ID1035",
         "91",
         "Male",
         "140",
         "80",
         "0",
         "180",
         "0",
         "60",
         "160",
         "2022-02-26 00:00:00",
         "Covid-19",
         "DrugB"
        ],
        [
         "39",
         "ID1036",
         "59",
         "Male",
         "130",
         "85",
         "1",
         "250",
         "0",
         "70",
         "190",
         "2022-03-16 00:00:00",
         "Hypertension",
         "DrugC"
        ],
        [
         "40",
         "ID1037",
         "79",
         "Male",
         "120",
         "110",
         "1",
         "211",
         "1",
         "70",
         "174",
         "2022-02-03 00:00:00",
         "Covid-19",
         "DrugC"
        ],
        [
         "41",
         "ID1038",
         "14",
         "Male",
         "130",
         "70",
         "0",
         "211",
         "0",
         "80",
         "200",
         "2022-03-09 00:00:00",
         "Flu",
         "DrugB"
        ],
        [
         "42",
         "ID1039",
         "61",
         "Male",
         "140",
         "100",
         "0",
         "250",
         "0",
         "70",
         "200",
         "2022-03-16 00:00:00",
         "Diabetes",
         "DrugC"
        ],
        [
         "43",
         "ID1040",
         "61",
         "Female",
         "140",
         "85",
         "1",
         "211",
         "1",
         "70",
         "174",
         "2022-01-29 00:00:00",
         "Covid-19",
         "DrugC"
        ],
        [
         "45",
         "ID1041",
         "46",
         "Other",
         "110",
         "100",
         "0",
         "200",
         "1",
         "70",
         "174",
         "2022-03-07 00:00:00",
         "Covid-19",
         "DrugB"
        ],
        [
         "46",
         "ID1042",
         "61",
         "Other",
         "130",
         "100",
         "1",
         "200",
         "1",
         "80",
         "200",
         "2022-01-16 00:00:00",
         "Healthy",
         "No_Meds"
        ],
        [
         "47",
         "ID1043",
         "50",
         "Other",
         "140",
         "85",
         "0",
         "250",
         "0",
         "90",
         "170",
         "2022-02-08 00:00:00",
         "Healthy",
         "DrugC"
        ],
        [
         "48",
         "ID1044",
         "54",
         "Male",
         "110",
         "90",
         "0",
         "200",
         "0",
         "70",
         "190",
         "2022-03-18 00:00:00",
         "Flu",
         "No_Meds"
        ],
        [
         "49",
         "ID1045",
         "63",
         "Male",
         "110",
         "100",
         "0",
         "200",
         "1",
         "50",
         "170",
         "2022-02-06 00:00:00",
         "Hypertension",
         "DrugB"
        ],
        [
         "50",
         "ID1046",
         "2",
         "Female",
         "120",
         "80",
         "1",
         "200",
         "1",
         "80",
         "160",
         "2022-03-22 00:00:00",
         "Hypertension",
         "DrugC"
        ],
        [
         "51",
         "ID1047",
         "48",
         "Other",
         "130",
         "90",
         "1",
         "200",
         "0",
         "70",
         "150",
         "2022-01-21 00:00:00",
         "Covid-19",
         "No_Meds"
        ],
        [
         "52",
         "ID1048",
         "50",
         "Other",
         "120",
         "60",
         "0",
         "220",
         "1",
         "80",
         "174",
         "2022-02-13 00:00:00",
         "Flu",
         "DrugC"
        ],
        [
         "53",
         "ID1049",
         "6",
         "Male",
         "130",
         "100",
         "1",
         "250",
         "1",
         "60",
         "190",
         "2022-01-19 00:00:00",
         "Covid-19",
         "DrugB"
        ]
       ],
       "shape": {
        "columns": 13,
        "rows": 1200
       }
      },
      "text/html": [
       "<div>\n",
       "<style scoped>\n",
       "    .dataframe tbody tr th:only-of-type {\n",
       "        vertical-align: middle;\n",
       "    }\n",
       "\n",
       "    .dataframe tbody tr th {\n",
       "        vertical-align: top;\n",
       "    }\n",
       "\n",
       "    .dataframe thead th {\n",
       "        text-align: right;\n",
       "    }\n",
       "</style>\n",
       "<table border=\"1\" class=\"dataframe\">\n",
       "  <thead>\n",
       "    <tr style=\"text-align: right;\">\n",
       "      <th></th>\n",
       "      <th>Patient_ID</th>\n",
       "      <th>Age</th>\n",
       "      <th>Gender</th>\n",
       "      <th>Blood_Pressure</th>\n",
       "      <th>Heart_Rate</th>\n",
       "      <th>Diabetes</th>\n",
       "      <th>Cholesterol_Level</th>\n",
       "      <th>Smoker</th>\n",
       "      <th>Weight_kg</th>\n",
       "      <th>Height_cm</th>\n",
       "      <th>Visit_Date</th>\n",
       "      <th>Diagnosis</th>\n",
       "      <th>Medication</th>\n",
       "    </tr>\n",
       "  </thead>\n",
       "  <tbody>\n",
       "    <tr>\n",
       "      <th>0</th>\n",
       "      <td>ID1000</td>\n",
       "      <td>48</td>\n",
       "      <td>Female</td>\n",
       "      <td>120</td>\n",
       "      <td>85</td>\n",
       "      <td>0</td>\n",
       "      <td>211</td>\n",
       "      <td>0</td>\n",
       "      <td>70</td>\n",
       "      <td>160</td>\n",
       "      <td>2022-03-22</td>\n",
       "      <td>Covid-19</td>\n",
       "      <td>DrugC</td>\n",
       "    </tr>\n",
       "    <tr>\n",
       "      <th>1</th>\n",
       "      <td>ID1001</td>\n",
       "      <td>51</td>\n",
       "      <td>Other</td>\n",
       "      <td>140</td>\n",
       "      <td>90</td>\n",
       "      <td>0</td>\n",
       "      <td>250</td>\n",
       "      <td>1</td>\n",
       "      <td>80</td>\n",
       "      <td>160</td>\n",
       "      <td>2022-04-03</td>\n",
       "      <td>Diabetes</td>\n",
       "      <td>DrugC</td>\n",
       "    </tr>\n",
       "    <tr>\n",
       "      <th>2</th>\n",
       "      <td>ID1002</td>\n",
       "      <td>92</td>\n",
       "      <td>Other</td>\n",
       "      <td>120</td>\n",
       "      <td>60</td>\n",
       "      <td>0</td>\n",
       "      <td>180</td>\n",
       "      <td>0</td>\n",
       "      <td>60</td>\n",
       "      <td>174</td>\n",
       "      <td>2022-04-04</td>\n",
       "      <td>Diabetes</td>\n",
       "      <td>DrugA</td>\n",
       "    </tr>\n",
       "    <tr>\n",
       "      <th>3</th>\n",
       "      <td>ID1003</td>\n",
       "      <td>14</td>\n",
       "      <td>Female</td>\n",
       "      <td>120</td>\n",
       "      <td>110</td>\n",
       "      <td>1</td>\n",
       "      <td>180</td>\n",
       "      <td>1</td>\n",
       "      <td>70</td>\n",
       "      <td>170</td>\n",
       "      <td>2022-03-12</td>\n",
       "      <td>Flu</td>\n",
       "      <td>DrugC</td>\n",
       "    </tr>\n",
       "    <tr>\n",
       "      <th>4</th>\n",
       "      <td>ID1004</td>\n",
       "      <td>71</td>\n",
       "      <td>Male</td>\n",
       "      <td>120</td>\n",
       "      <td>80</td>\n",
       "      <td>0</td>\n",
       "      <td>200</td>\n",
       "      <td>1</td>\n",
       "      <td>80</td>\n",
       "      <td>174</td>\n",
       "      <td>2022-04-07</td>\n",
       "      <td>Hypertension</td>\n",
       "      <td>DrugC</td>\n",
       "    </tr>\n",
       "    <tr>\n",
       "      <th>...</th>\n",
       "      <td>...</td>\n",
       "      <td>...</td>\n",
       "      <td>...</td>\n",
       "      <td>...</td>\n",
       "      <td>...</td>\n",
       "      <td>...</td>\n",
       "      <td>...</td>\n",
       "      <td>...</td>\n",
       "      <td>...</td>\n",
       "      <td>...</td>\n",
       "      <td>...</td>\n",
       "      <td>...</td>\n",
       "      <td>...</td>\n",
       "    </tr>\n",
       "    <tr>\n",
       "      <th>1294</th>\n",
       "      <td>ID2195</td>\n",
       "      <td>52</td>\n",
       "      <td>Male</td>\n",
       "      <td>110</td>\n",
       "      <td>100</td>\n",
       "      <td>1</td>\n",
       "      <td>200</td>\n",
       "      <td>0</td>\n",
       "      <td>60</td>\n",
       "      <td>190</td>\n",
       "      <td>2022-02-02</td>\n",
       "      <td>Flu</td>\n",
       "      <td>DrugC</td>\n",
       "    </tr>\n",
       "    <tr>\n",
       "      <th>1295</th>\n",
       "      <td>ID2196</td>\n",
       "      <td>50</td>\n",
       "      <td>Female</td>\n",
       "      <td>120</td>\n",
       "      <td>85</td>\n",
       "      <td>1</td>\n",
       "      <td>211</td>\n",
       "      <td>0</td>\n",
       "      <td>50</td>\n",
       "      <td>180</td>\n",
       "      <td>2022-04-03</td>\n",
       "      <td>Covid-19</td>\n",
       "      <td>DrugC</td>\n",
       "    </tr>\n",
       "    <tr>\n",
       "      <th>1296</th>\n",
       "      <td>ID2197</td>\n",
       "      <td>38</td>\n",
       "      <td>Other</td>\n",
       "      <td>90</td>\n",
       "      <td>70</td>\n",
       "      <td>1</td>\n",
       "      <td>250</td>\n",
       "      <td>0</td>\n",
       "      <td>90</td>\n",
       "      <td>200</td>\n",
       "      <td>2022-01-10</td>\n",
       "      <td>Diabetes</td>\n",
       "      <td>DrugA</td>\n",
       "    </tr>\n",
       "    <tr>\n",
       "      <th>1297</th>\n",
       "      <td>ID2198</td>\n",
       "      <td>50</td>\n",
       "      <td>Male</td>\n",
       "      <td>120</td>\n",
       "      <td>90</td>\n",
       "      <td>1</td>\n",
       "      <td>200</td>\n",
       "      <td>0</td>\n",
       "      <td>70</td>\n",
       "      <td>150</td>\n",
       "      <td>2022-03-14</td>\n",
       "      <td>Covid-19</td>\n",
       "      <td>DrugC</td>\n",
       "    </tr>\n",
       "    <tr>\n",
       "      <th>1298</th>\n",
       "      <td>ID2199</td>\n",
       "      <td>69</td>\n",
       "      <td>Female</td>\n",
       "      <td>120</td>\n",
       "      <td>85</td>\n",
       "      <td>0</td>\n",
       "      <td>200</td>\n",
       "      <td>0</td>\n",
       "      <td>50</td>\n",
       "      <td>200</td>\n",
       "      <td>2022-02-28</td>\n",
       "      <td>Covid-19</td>\n",
       "      <td>DrugA</td>\n",
       "    </tr>\n",
       "  </tbody>\n",
       "</table>\n",
       "<p>1200 rows × 13 columns</p>\n",
       "</div>"
      ],
      "text/plain": [
       "     Patient_ID  Age  Gender  Blood_Pressure  Heart_Rate  Diabetes  \\\n",
       "0        ID1000   48  Female             120          85         0   \n",
       "1        ID1001   51   Other             140          90         0   \n",
       "2        ID1002   92   Other             120          60         0   \n",
       "3        ID1003   14  Female             120         110         1   \n",
       "4        ID1004   71    Male             120          80         0   \n",
       "...         ...  ...     ...             ...         ...       ...   \n",
       "1294     ID2195   52    Male             110         100         1   \n",
       "1295     ID2196   50  Female             120          85         1   \n",
       "1296     ID2197   38   Other              90          70         1   \n",
       "1297     ID2198   50    Male             120          90         1   \n",
       "1298     ID2199   69  Female             120          85         0   \n",
       "\n",
       "      Cholesterol_Level  Smoker  Weight_kg  Height_cm Visit_Date  \\\n",
       "0                   211       0         70        160 2022-03-22   \n",
       "1                   250       1         80        160 2022-04-03   \n",
       "2                   180       0         60        174 2022-04-04   \n",
       "3                   180       1         70        170 2022-03-12   \n",
       "4                   200       1         80        174 2022-04-07   \n",
       "...                 ...     ...        ...        ...        ...   \n",
       "1294                200       0         60        190 2022-02-02   \n",
       "1295                211       0         50        180 2022-04-03   \n",
       "1296                250       0         90        200 2022-01-10   \n",
       "1297                200       0         70        150 2022-03-14   \n",
       "1298                200       0         50        200 2022-02-28   \n",
       "\n",
       "         Diagnosis Medication  \n",
       "0         Covid-19      DrugC  \n",
       "1         Diabetes      DrugC  \n",
       "2         Diabetes      DrugA  \n",
       "3              Flu      DrugC  \n",
       "4     Hypertension      DrugC  \n",
       "...            ...        ...  \n",
       "1294           Flu      DrugC  \n",
       "1295      Covid-19      DrugC  \n",
       "1296      Diabetes      DrugA  \n",
       "1297      Covid-19      DrugC  \n",
       "1298      Covid-19      DrugA  \n",
       "\n",
       "[1200 rows x 13 columns]"
      ]
     },
     "execution_count": 149,
     "metadata": {},
     "output_type": "execute_result"
    }
   ],
   "source": [
    "df"
   ]
  },
  {
   "cell_type": "code",
   "execution_count": 150,
   "id": "024de65d",
   "metadata": {},
   "outputs": [
    {
     "data": {
      "application/vnd.microsoft.datawrangler.viewer.v0+json": {
       "columns": [
        {
         "name": "index",
         "rawType": "object",
         "type": "string"
        },
        {
         "name": "0",
         "rawType": "int64",
         "type": "integer"
        }
       ],
       "ref": "13acecc6-0312-4366-b09a-ffdc6ab1bfcb",
       "rows": [
        [
         "Patient_ID",
         "0"
        ],
        [
         "Age",
         "0"
        ],
        [
         "Gender",
         "0"
        ],
        [
         "Blood_Pressure",
         "0"
        ],
        [
         "Heart_Rate",
         "0"
        ],
        [
         "Diabetes",
         "0"
        ],
        [
         "Cholesterol_Level",
         "0"
        ],
        [
         "Smoker",
         "0"
        ],
        [
         "Weight_kg",
         "0"
        ],
        [
         "Height_cm",
         "0"
        ],
        [
         "Visit_Date",
         "0"
        ],
        [
         "Diagnosis",
         "0"
        ],
        [
         "Medication",
         "0"
        ]
       ],
       "shape": {
        "columns": 1,
        "rows": 13
       }
      },
      "text/plain": [
       "Patient_ID           0\n",
       "Age                  0\n",
       "Gender               0\n",
       "Blood_Pressure       0\n",
       "Heart_Rate           0\n",
       "Diabetes             0\n",
       "Cholesterol_Level    0\n",
       "Smoker               0\n",
       "Weight_kg            0\n",
       "Height_cm            0\n",
       "Visit_Date           0\n",
       "Diagnosis            0\n",
       "Medication           0\n",
       "dtype: int64"
      ]
     },
     "execution_count": 150,
     "metadata": {},
     "output_type": "execute_result"
    }
   ],
   "source": [
    "df.isnull().sum()"
   ]
  },
  {
   "cell_type": "code",
   "execution_count": 151,
   "id": "e4089dbc",
   "metadata": {},
   "outputs": [],
   "source": [
    "new_healthdata=df.copy()"
   ]
  },
  {
   "cell_type": "code",
   "execution_count": 152,
   "id": "b3a59332",
   "metadata": {},
   "outputs": [
    {
     "data": {
      "application/vnd.microsoft.datawrangler.viewer.v0+json": {
       "columns": [
        {
         "name": "index",
         "rawType": "int64",
         "type": "integer"
        },
        {
         "name": "Patient_ID",
         "rawType": "category",
         "type": "unknown"
        },
        {
         "name": "Age",
         "rawType": "int32",
         "type": "integer"
        },
        {
         "name": "Gender",
         "rawType": "category",
         "type": "unknown"
        },
        {
         "name": "Blood_Pressure",
         "rawType": "int32",
         "type": "integer"
        },
        {
         "name": "Heart_Rate",
         "rawType": "int32",
         "type": "integer"
        },
        {
         "name": "Diabetes",
         "rawType": "int32",
         "type": "integer"
        },
        {
         "name": "Cholesterol_Level",
         "rawType": "int32",
         "type": "integer"
        },
        {
         "name": "Smoker",
         "rawType": "int32",
         "type": "integer"
        },
        {
         "name": "Weight_kg",
         "rawType": "int32",
         "type": "integer"
        },
        {
         "name": "Height_cm",
         "rawType": "int32",
         "type": "integer"
        },
        {
         "name": "Visit_Date",
         "rawType": "datetime64[ms]",
         "type": "unknown"
        },
        {
         "name": "Diagnosis",
         "rawType": "category",
         "type": "unknown"
        },
        {
         "name": "Medication",
         "rawType": "category",
         "type": "unknown"
        }
       ],
       "ref": "d6233dd6-7fff-4a21-b780-cdab93348d5a",
       "rows": [
        [
         "0",
         "ID1000",
         "48",
         "Female",
         "120",
         "85",
         "0",
         "211",
         "0",
         "70",
         "160",
         "2022-03-22 00:00:00",
         "Covid-19",
         "DrugC"
        ],
        [
         "1",
         "ID1001",
         "51",
         "Other",
         "140",
         "90",
         "0",
         "250",
         "1",
         "80",
         "160",
         "2022-04-03 00:00:00",
         "Diabetes",
         "DrugC"
        ],
        [
         "2",
         "ID1002",
         "92",
         "Other",
         "120",
         "60",
         "0",
         "180",
         "0",
         "60",
         "174",
         "2022-04-04 00:00:00",
         "Diabetes",
         "DrugA"
        ],
        [
         "3",
         "ID1003",
         "14",
         "Female",
         "120",
         "110",
         "1",
         "180",
         "1",
         "70",
         "170",
         "2022-03-12 00:00:00",
         "Flu",
         "DrugC"
        ],
        [
         "4",
         "ID1004",
         "71",
         "Male",
         "120",
         "80",
         "0",
         "200",
         "1",
         "80",
         "174",
         "2022-04-07 00:00:00",
         "Hypertension",
         "DrugC"
        ],
        [
         "5",
         "ID1005",
         "60",
         "Male",
         "120",
         "100",
         "0",
         "200",
         "1",
         "80",
         "180",
         "2022-03-12 00:00:00",
         "Covid-19",
         "DrugA"
        ],
        [
         "6",
         "ID1006",
         "20",
         "Male",
         "130",
         "80",
         "1",
         "211",
         "1",
         "60",
         "150",
         "2022-01-24 00:00:00",
         "Covid-19",
         "DrugB"
        ],
        [
         "7",
         "ID1007",
         "48",
         "Male",
         "140",
         "60",
         "0",
         "220",
         "0",
         "90",
         "170",
         "2022-01-11 00:00:00",
         "Covid-19",
         "DrugC"
        ],
        [
         "8",
         "ID1008",
         "82",
         "Female",
         "130",
         "80",
         "0",
         "200",
         "0",
         "90",
         "190",
         "2022-03-14 00:00:00",
         "Covid-19",
         "DrugC"
        ],
        [
         "9",
         "ID1009",
         "86",
         "Other",
         "110",
         "110",
         "1",
         "220",
         "1",
         "70",
         "200",
         "2022-01-12 00:00:00",
         "Flu",
         "DrugA"
        ],
        [
         "10",
         "ID1010",
         "74",
         "Male",
         "110",
         "110",
         "0",
         "200",
         "0",
         "80",
         "180",
         "2022-02-04 00:00:00",
         "Covid-19",
         "DrugC"
        ],
        [
         "11",
         "ID1011",
         "74",
         "Male",
         "110",
         "60",
         "0",
         "200",
         "1",
         "60",
         "170",
         "2022-03-04 00:00:00",
         "Covid-19",
         "No_Meds"
        ],
        [
         "12",
         "ID1012",
         "87",
         "Female",
         "90",
         "90",
         "0",
         "250",
         "1",
         "70",
         "200",
         "2022-03-09 00:00:00",
         "Covid-19",
         "DrugC"
        ],
        [
         "13",
         "ID1013",
         "99",
         "Male",
         "120",
         "80",
         "1",
         "200",
         "1",
         "90",
         "200",
         "2022-04-10 00:00:00",
         "Covid-19",
         "DrugC"
        ],
        [
         "14",
         "ID1014",
         "23",
         "Male",
         "90",
         "90",
         "1",
         "200",
         "0",
         "70",
         "150",
         "2022-04-02 00:00:00",
         "Diabetes",
         "DrugC"
        ],
        [
         "15",
         "ID1015",
         "2",
         "Male",
         "120",
         "90",
         "1",
         "220",
         "0",
         "60",
         "160",
         "2022-02-26 00:00:00",
         "Covid-19",
         "DrugC"
        ],
        [
         "16",
         "ID1016",
         "21",
         "Male",
         "110",
         "85",
         "0",
         "250",
         "0",
         "60",
         "190",
         "2022-01-13 00:00:00",
         "Hypertension",
         "No_Meds"
        ],
        [
         "17",
         "ID1017",
         "52",
         "Other",
         "140",
         "70",
         "0",
         "200",
         "0",
         "80",
         "174",
         "2022-01-23 00:00:00",
         "Healthy",
         "DrugA"
        ],
        [
         "19",
         "ID1018",
         "1",
         "Male",
         "130",
         "60",
         "0",
         "200",
         "0",
         "70",
         "150",
         "2022-03-24 00:00:00",
         "Covid-19",
         "DrugC"
        ],
        [
         "21",
         "ID1019",
         "87",
         "Female",
         "120",
         "100",
         "0",
         "200",
         "1",
         "70",
         "180",
         "2025-06-19 12:24:18.219000",
         "Covid-19",
         "DrugC"
        ],
        [
         "22",
         "ID1020",
         "29",
         "Male",
         "140",
         "110",
         "1",
         "250",
         "0",
         "80",
         "200",
         "2022-02-08 00:00:00",
         "Hypertension",
         "DrugC"
        ],
        [
         "23",
         "ID1021",
         "37",
         "Female",
         "140",
         "110",
         "1",
         "211",
         "1",
         "50",
         "180",
         "2022-03-29 00:00:00",
         "Covid-19",
         "DrugC"
        ],
        [
         "24",
         "ID1022",
         "1",
         "Female",
         "120",
         "60",
         "0",
         "250",
         "0",
         "70",
         "200",
         "2022-03-21 00:00:00",
         "Covid-19",
         "No_Meds"
        ],
        [
         "25",
         "ID1023",
         "63",
         "Female",
         "90",
         "85",
         "0",
         "220",
         "1",
         "90",
         "160",
         "2022-04-07 00:00:00",
         "Covid-19",
         "DrugB"
        ],
        [
         "26",
         "ID1024",
         "59",
         "Male",
         "90",
         "85",
         "1",
         "211",
         "1",
         "90",
         "160",
         "2022-01-12 00:00:00",
         "Covid-19",
         "No_Meds"
        ],
        [
         "27",
         "ID1025",
         "20",
         "Other",
         "140",
         "85",
         "0",
         "200",
         "0",
         "90",
         "190",
         "2022-02-03 00:00:00",
         "Flu",
         "DrugA"
        ],
        [
         "28",
         "ID1026",
         "32",
         "Female",
         "90",
         "85",
         "1",
         "180",
         "0",
         "70",
         "174",
         "2022-03-12 00:00:00",
         "Diabetes",
         "DrugA"
        ],
        [
         "29",
         "ID1027",
         "75",
         "Male",
         "110",
         "85",
         "1",
         "250",
         "0",
         "60",
         "190",
         "2022-03-16 00:00:00",
         "Healthy",
         "DrugA"
        ],
        [
         "31",
         "ID1028",
         "57",
         "Female",
         "120",
         "100",
         "0",
         "220",
         "1",
         "80",
         "160",
         "2022-01-31 00:00:00",
         "Flu",
         "DrugA"
        ],
        [
         "32",
         "ID1029",
         "21",
         "Female",
         "130",
         "110",
         "1",
         "200",
         "0",
         "90",
         "160",
         "2022-04-03 00:00:00",
         "Flu",
         "DrugA"
        ],
        [
         "33",
         "ID1030",
         "88",
         "Male",
         "120",
         "60",
         "0",
         "211",
         "0",
         "50",
         "180",
         "2022-03-03 00:00:00",
         "Hypertension",
         "DrugC"
        ],
        [
         "34",
         "ID1031",
         "48",
         "Male",
         "120",
         "85",
         "0",
         "200",
         "1",
         "90",
         "160",
         "2022-01-13 00:00:00",
         "Covid-19",
         "DrugC"
        ],
        [
         "35",
         "ID1032",
         "90",
         "Male",
         "130",
         "110",
         "1",
         "250",
         "1",
         "70",
         "170",
         "2022-01-31 00:00:00",
         "Covid-19",
         "No_Meds"
        ],
        [
         "36",
         "ID1033",
         "58",
         "Male",
         "130",
         "90",
         "0",
         "200",
         "0",
         "60",
         "200",
         "2022-01-02 00:00:00",
         "Covid-19",
         "DrugC"
        ],
        [
         "37",
         "ID1034",
         "41",
         "Male",
         "120",
         "80",
         "0",
         "250",
         "1",
         "70",
         "150",
         "2022-01-15 00:00:00",
         "Hypertension",
         "No_Meds"
        ],
        [
         "38",
         "ID1035",
         "91",
         "Male",
         "140",
         "80",
         "0",
         "180",
         "0",
         "60",
         "160",
         "2022-02-26 00:00:00",
         "Covid-19",
         "DrugB"
        ],
        [
         "39",
         "ID1036",
         "59",
         "Male",
         "130",
         "85",
         "1",
         "250",
         "0",
         "70",
         "190",
         "2022-03-16 00:00:00",
         "Hypertension",
         "DrugC"
        ],
        [
         "40",
         "ID1037",
         "79",
         "Male",
         "120",
         "110",
         "1",
         "211",
         "1",
         "70",
         "174",
         "2022-02-03 00:00:00",
         "Covid-19",
         "DrugC"
        ],
        [
         "41",
         "ID1038",
         "14",
         "Male",
         "130",
         "70",
         "0",
         "211",
         "0",
         "80",
         "200",
         "2022-03-09 00:00:00",
         "Flu",
         "DrugB"
        ],
        [
         "42",
         "ID1039",
         "61",
         "Male",
         "140",
         "100",
         "0",
         "250",
         "0",
         "70",
         "200",
         "2022-03-16 00:00:00",
         "Diabetes",
         "DrugC"
        ],
        [
         "43",
         "ID1040",
         "61",
         "Female",
         "140",
         "85",
         "1",
         "211",
         "1",
         "70",
         "174",
         "2022-01-29 00:00:00",
         "Covid-19",
         "DrugC"
        ],
        [
         "45",
         "ID1041",
         "46",
         "Other",
         "110",
         "100",
         "0",
         "200",
         "1",
         "70",
         "174",
         "2022-03-07 00:00:00",
         "Covid-19",
         "DrugB"
        ],
        [
         "46",
         "ID1042",
         "61",
         "Other",
         "130",
         "100",
         "1",
         "200",
         "1",
         "80",
         "200",
         "2022-01-16 00:00:00",
         "Healthy",
         "No_Meds"
        ],
        [
         "47",
         "ID1043",
         "50",
         "Other",
         "140",
         "85",
         "0",
         "250",
         "0",
         "90",
         "170",
         "2022-02-08 00:00:00",
         "Healthy",
         "DrugC"
        ],
        [
         "48",
         "ID1044",
         "54",
         "Male",
         "110",
         "90",
         "0",
         "200",
         "0",
         "70",
         "190",
         "2022-03-18 00:00:00",
         "Flu",
         "No_Meds"
        ],
        [
         "49",
         "ID1045",
         "63",
         "Male",
         "110",
         "100",
         "0",
         "200",
         "1",
         "50",
         "170",
         "2022-02-06 00:00:00",
         "Hypertension",
         "DrugB"
        ],
        [
         "50",
         "ID1046",
         "2",
         "Female",
         "120",
         "80",
         "1",
         "200",
         "1",
         "80",
         "160",
         "2022-03-22 00:00:00",
         "Hypertension",
         "DrugC"
        ],
        [
         "51",
         "ID1047",
         "48",
         "Other",
         "130",
         "90",
         "1",
         "200",
         "0",
         "70",
         "150",
         "2022-01-21 00:00:00",
         "Covid-19",
         "No_Meds"
        ],
        [
         "52",
         "ID1048",
         "50",
         "Other",
         "120",
         "60",
         "0",
         "220",
         "1",
         "80",
         "174",
         "2022-02-13 00:00:00",
         "Flu",
         "DrugC"
        ],
        [
         "53",
         "ID1049",
         "6",
         "Male",
         "130",
         "100",
         "1",
         "250",
         "1",
         "60",
         "190",
         "2022-01-19 00:00:00",
         "Covid-19",
         "DrugB"
        ]
       ],
       "shape": {
        "columns": 13,
        "rows": 1200
       }
      },
      "text/html": [
       "<div>\n",
       "<style scoped>\n",
       "    .dataframe tbody tr th:only-of-type {\n",
       "        vertical-align: middle;\n",
       "    }\n",
       "\n",
       "    .dataframe tbody tr th {\n",
       "        vertical-align: top;\n",
       "    }\n",
       "\n",
       "    .dataframe thead th {\n",
       "        text-align: right;\n",
       "    }\n",
       "</style>\n",
       "<table border=\"1\" class=\"dataframe\">\n",
       "  <thead>\n",
       "    <tr style=\"text-align: right;\">\n",
       "      <th></th>\n",
       "      <th>Patient_ID</th>\n",
       "      <th>Age</th>\n",
       "      <th>Gender</th>\n",
       "      <th>Blood_Pressure</th>\n",
       "      <th>Heart_Rate</th>\n",
       "      <th>Diabetes</th>\n",
       "      <th>Cholesterol_Level</th>\n",
       "      <th>Smoker</th>\n",
       "      <th>Weight_kg</th>\n",
       "      <th>Height_cm</th>\n",
       "      <th>Visit_Date</th>\n",
       "      <th>Diagnosis</th>\n",
       "      <th>Medication</th>\n",
       "    </tr>\n",
       "  </thead>\n",
       "  <tbody>\n",
       "    <tr>\n",
       "      <th>0</th>\n",
       "      <td>ID1000</td>\n",
       "      <td>48</td>\n",
       "      <td>Female</td>\n",
       "      <td>120</td>\n",
       "      <td>85</td>\n",
       "      <td>0</td>\n",
       "      <td>211</td>\n",
       "      <td>0</td>\n",
       "      <td>70</td>\n",
       "      <td>160</td>\n",
       "      <td>2022-03-22</td>\n",
       "      <td>Covid-19</td>\n",
       "      <td>DrugC</td>\n",
       "    </tr>\n",
       "    <tr>\n",
       "      <th>1</th>\n",
       "      <td>ID1001</td>\n",
       "      <td>51</td>\n",
       "      <td>Other</td>\n",
       "      <td>140</td>\n",
       "      <td>90</td>\n",
       "      <td>0</td>\n",
       "      <td>250</td>\n",
       "      <td>1</td>\n",
       "      <td>80</td>\n",
       "      <td>160</td>\n",
       "      <td>2022-04-03</td>\n",
       "      <td>Diabetes</td>\n",
       "      <td>DrugC</td>\n",
       "    </tr>\n",
       "    <tr>\n",
       "      <th>2</th>\n",
       "      <td>ID1002</td>\n",
       "      <td>92</td>\n",
       "      <td>Other</td>\n",
       "      <td>120</td>\n",
       "      <td>60</td>\n",
       "      <td>0</td>\n",
       "      <td>180</td>\n",
       "      <td>0</td>\n",
       "      <td>60</td>\n",
       "      <td>174</td>\n",
       "      <td>2022-04-04</td>\n",
       "      <td>Diabetes</td>\n",
       "      <td>DrugA</td>\n",
       "    </tr>\n",
       "    <tr>\n",
       "      <th>3</th>\n",
       "      <td>ID1003</td>\n",
       "      <td>14</td>\n",
       "      <td>Female</td>\n",
       "      <td>120</td>\n",
       "      <td>110</td>\n",
       "      <td>1</td>\n",
       "      <td>180</td>\n",
       "      <td>1</td>\n",
       "      <td>70</td>\n",
       "      <td>170</td>\n",
       "      <td>2022-03-12</td>\n",
       "      <td>Flu</td>\n",
       "      <td>DrugC</td>\n",
       "    </tr>\n",
       "    <tr>\n",
       "      <th>4</th>\n",
       "      <td>ID1004</td>\n",
       "      <td>71</td>\n",
       "      <td>Male</td>\n",
       "      <td>120</td>\n",
       "      <td>80</td>\n",
       "      <td>0</td>\n",
       "      <td>200</td>\n",
       "      <td>1</td>\n",
       "      <td>80</td>\n",
       "      <td>174</td>\n",
       "      <td>2022-04-07</td>\n",
       "      <td>Hypertension</td>\n",
       "      <td>DrugC</td>\n",
       "    </tr>\n",
       "    <tr>\n",
       "      <th>...</th>\n",
       "      <td>...</td>\n",
       "      <td>...</td>\n",
       "      <td>...</td>\n",
       "      <td>...</td>\n",
       "      <td>...</td>\n",
       "      <td>...</td>\n",
       "      <td>...</td>\n",
       "      <td>...</td>\n",
       "      <td>...</td>\n",
       "      <td>...</td>\n",
       "      <td>...</td>\n",
       "      <td>...</td>\n",
       "      <td>...</td>\n",
       "    </tr>\n",
       "    <tr>\n",
       "      <th>1294</th>\n",
       "      <td>ID2195</td>\n",
       "      <td>52</td>\n",
       "      <td>Male</td>\n",
       "      <td>110</td>\n",
       "      <td>100</td>\n",
       "      <td>1</td>\n",
       "      <td>200</td>\n",
       "      <td>0</td>\n",
       "      <td>60</td>\n",
       "      <td>190</td>\n",
       "      <td>2022-02-02</td>\n",
       "      <td>Flu</td>\n",
       "      <td>DrugC</td>\n",
       "    </tr>\n",
       "    <tr>\n",
       "      <th>1295</th>\n",
       "      <td>ID2196</td>\n",
       "      <td>50</td>\n",
       "      <td>Female</td>\n",
       "      <td>120</td>\n",
       "      <td>85</td>\n",
       "      <td>1</td>\n",
       "      <td>211</td>\n",
       "      <td>0</td>\n",
       "      <td>50</td>\n",
       "      <td>180</td>\n",
       "      <td>2022-04-03</td>\n",
       "      <td>Covid-19</td>\n",
       "      <td>DrugC</td>\n",
       "    </tr>\n",
       "    <tr>\n",
       "      <th>1296</th>\n",
       "      <td>ID2197</td>\n",
       "      <td>38</td>\n",
       "      <td>Other</td>\n",
       "      <td>90</td>\n",
       "      <td>70</td>\n",
       "      <td>1</td>\n",
       "      <td>250</td>\n",
       "      <td>0</td>\n",
       "      <td>90</td>\n",
       "      <td>200</td>\n",
       "      <td>2022-01-10</td>\n",
       "      <td>Diabetes</td>\n",
       "      <td>DrugA</td>\n",
       "    </tr>\n",
       "    <tr>\n",
       "      <th>1297</th>\n",
       "      <td>ID2198</td>\n",
       "      <td>50</td>\n",
       "      <td>Male</td>\n",
       "      <td>120</td>\n",
       "      <td>90</td>\n",
       "      <td>1</td>\n",
       "      <td>200</td>\n",
       "      <td>0</td>\n",
       "      <td>70</td>\n",
       "      <td>150</td>\n",
       "      <td>2022-03-14</td>\n",
       "      <td>Covid-19</td>\n",
       "      <td>DrugC</td>\n",
       "    </tr>\n",
       "    <tr>\n",
       "      <th>1298</th>\n",
       "      <td>ID2199</td>\n",
       "      <td>69</td>\n",
       "      <td>Female</td>\n",
       "      <td>120</td>\n",
       "      <td>85</td>\n",
       "      <td>0</td>\n",
       "      <td>200</td>\n",
       "      <td>0</td>\n",
       "      <td>50</td>\n",
       "      <td>200</td>\n",
       "      <td>2022-02-28</td>\n",
       "      <td>Covid-19</td>\n",
       "      <td>DrugA</td>\n",
       "    </tr>\n",
       "  </tbody>\n",
       "</table>\n",
       "<p>1200 rows × 13 columns</p>\n",
       "</div>"
      ],
      "text/plain": [
       "     Patient_ID  Age  Gender  Blood_Pressure  Heart_Rate  Diabetes  \\\n",
       "0        ID1000   48  Female             120          85         0   \n",
       "1        ID1001   51   Other             140          90         0   \n",
       "2        ID1002   92   Other             120          60         0   \n",
       "3        ID1003   14  Female             120         110         1   \n",
       "4        ID1004   71    Male             120          80         0   \n",
       "...         ...  ...     ...             ...         ...       ...   \n",
       "1294     ID2195   52    Male             110         100         1   \n",
       "1295     ID2196   50  Female             120          85         1   \n",
       "1296     ID2197   38   Other              90          70         1   \n",
       "1297     ID2198   50    Male             120          90         1   \n",
       "1298     ID2199   69  Female             120          85         0   \n",
       "\n",
       "      Cholesterol_Level  Smoker  Weight_kg  Height_cm Visit_Date  \\\n",
       "0                   211       0         70        160 2022-03-22   \n",
       "1                   250       1         80        160 2022-04-03   \n",
       "2                   180       0         60        174 2022-04-04   \n",
       "3                   180       1         70        170 2022-03-12   \n",
       "4                   200       1         80        174 2022-04-07   \n",
       "...                 ...     ...        ...        ...        ...   \n",
       "1294                200       0         60        190 2022-02-02   \n",
       "1295                211       0         50        180 2022-04-03   \n",
       "1296                250       0         90        200 2022-01-10   \n",
       "1297                200       0         70        150 2022-03-14   \n",
       "1298                200       0         50        200 2022-02-28   \n",
       "\n",
       "         Diagnosis Medication  \n",
       "0         Covid-19      DrugC  \n",
       "1         Diabetes      DrugC  \n",
       "2         Diabetes      DrugA  \n",
       "3              Flu      DrugC  \n",
       "4     Hypertension      DrugC  \n",
       "...            ...        ...  \n",
       "1294           Flu      DrugC  \n",
       "1295      Covid-19      DrugC  \n",
       "1296      Diabetes      DrugA  \n",
       "1297      Covid-19      DrugC  \n",
       "1298      Covid-19      DrugA  \n",
       "\n",
       "[1200 rows x 13 columns]"
      ]
     },
     "execution_count": 152,
     "metadata": {},
     "output_type": "execute_result"
    }
   ],
   "source": [
    "new_healthdata"
   ]
  },
  {
   "cell_type": "code",
   "execution_count": 153,
   "id": "59d9a4d7",
   "metadata": {},
   "outputs": [],
   "source": [
    "new_healthdata.to_csv('newhealthdata.csv')"
   ]
  },
  {
   "cell_type": "code",
   "execution_count": 154,
   "id": "87544968",
   "metadata": {},
   "outputs": [
    {
     "data": {
      "text/plain": [
       "'c:\\\\Users\\\\abhin\\\\practice'"
      ]
     },
     "execution_count": 154,
     "metadata": {},
     "output_type": "execute_result"
    }
   ],
   "source": [
    "import os\n",
    "os.getcwd()"
   ]
  },
  {
   "cell_type": "code",
   "execution_count": 155,
   "id": "c6ed85da",
   "metadata": {},
   "outputs": [],
   "source": [
    "import matplotlib.pyplot as plt\n",
    "import seaborn as sns"
   ]
  },
  {
   "cell_type": "code",
   "execution_count": 156,
   "id": "b3f4a0e0",
   "metadata": {},
   "outputs": [
    {
     "name": "stderr",
     "output_type": "stream",
     "text": [
      "C:\\Users\\abhin\\AppData\\Local\\Temp\\ipykernel_18672\\3255828239.py:1: UserWarning: \n",
      "\n",
      "`distplot` is a deprecated function and will be removed in seaborn v0.14.0.\n",
      "\n",
      "Please adapt your code to use either `displot` (a figure-level function with\n",
      "similar flexibility) or `histplot` (an axes-level function for histograms).\n",
      "\n",
      "For a guide to updating your code to use the new functions, please see\n",
      "https://gist.github.com/mwaskom/de44147ed2974457ad6372750bbe5751\n",
      "\n",
      "  sns.distplot(df['Age'])\n"
     ]
    },
    {
     "data": {
      "text/plain": [
       "<Axes: xlabel='Age', ylabel='Density'>"
      ]
     },
     "execution_count": 156,
     "metadata": {},
     "output_type": "execute_result"
    },
    {
     "data": {
      "image/png": "[encoded data removed]",
      "text/plain": [
       "<Figure size 640x480 with 1 Axes>"
      ]
     },
     "metadata": {},
     "output_type": "display_data"
    }
   ],
   "source": [
    "sns.distplot(df['Age'])"
   ]
  },
  {
   "cell_type": "code",
   "execution_count": 158,
   "id": "b2c9b95b",
   "metadata": {},
   "outputs": [
    {
     "data": {
      "text/plain": [
       "<Axes: xlabel='Age', ylabel='Blood_Pressure'>"
      ]
     },
     "execution_count": 158,
     "metadata": {},
     "output_type": "execute_result"
    },
    {
     "data": {
      "image/png": "[encoded data removed]",
      "text/plain": [
       "<Figure size 640x480 with 1 Axes>"
      ]
     },
     "metadata": {},
     "output_type": "display_data"
    }
   ],
   "source": [
    "sns.scatterplot(data=df,x='Age',y='Blood_Pressure',hue='Gender')"
   ]
  },
  {
   "cell_type": "code",
   "execution_count": 162,
   "id": "11dd43da",
   "metadata": {},
   "outputs": [
    {
     "data": {
      "text/plain": [
       "<Figure size 2000x1500 with 0 Axes>"
      ]
     },
     "execution_count": 162,
     "metadata": {},
     "output_type": "execute_result"
    },
    {
     "data": {
      "image/png": "[encoded data removed]",
      "text/plain": [
       "<Figure size 640x480 with 1 Axes>"
      ]
     },
     "metadata": {},
     "output_type": "display_data"
    },
    {
     "data": {
      "text/plain": [
       "<Figure size 2000x1500 with 0 Axes>"
      ]
     },
     "metadata": {},
     "output_type": "display_data"
    }
   ],
   "source": [
    "sns.boxplot(data=df,x='Age',y='Diabetes',hue='Gender')\n",
    "plt.figure(figsize=(20,15))"
   ]
  },
  {
   "cell_type": "code",
   "execution_count": 164,
   "id": "fac34337",
   "metadata": {},
   "outputs": [
    {
     "data": {
      "text/plain": [
       "<Axes: xlabel='Age', ylabel='Diabetes'>"
      ]
     },
     "execution_count": 164,
     "metadata": {},
     "output_type": "execute_result"
    },
    {
     "data": {
      "image/png": "[encoded data removed]",
      "text/plain": [
       "<Figure size 640x480 with 1 Axes>"
      ]
     },
     "metadata": {},
     "output_type": "display_data"
    }
   ],
   "source": [
    "sns.kdeplot(data=df,x='Age',y='Diabetes',color='r')"
   ]
  },
  {
   "cell_type": "code",
   "execution_count": 166,
   "id": "e7224f4b",
   "metadata": {},
   "outputs": [
    {
     "data": {
      "text/plain": [
       "<seaborn.axisgrid.FacetGrid at 0x219966c0830>"
      ]
     },
     "execution_count": 166,
     "metadata": {},
     "output_type": "execute_result"
    },
    {
     "data": {
      "image/png": "[encoded data removed]",
      "text/plain": [
       "<Figure size 511.111x500 with 1 Axes>"
      ]
     },
     "metadata": {},
     "output_type": "display_data"
    }
   ],
   "source": [
    "sns.catplot(data=df,x='Age',y='Diabetes')"
   ]
  },
  {
   "cell_type": "code",
   "execution_count": 167,
   "id": "f4ef54c0",
   "metadata": {},
   "outputs": [
    {
     "name": "stderr",
     "output_type": "stream",
     "text": [
      "C:\\Users\\abhin\\AppData\\Local\\Temp\\ipykernel_18672\\1374661238.py:1: UserWarning: \n",
      "\n",
      "`distplot` is a deprecated function and will be removed in seaborn v0.14.0.\n",
      "\n",
      "Please adapt your code to use either `displot` (a figure-level function with\n",
      "similar flexibility) or `histplot` (an axes-level function for histograms).\n",
      "\n",
      "For a guide to updating your code to use the new functions, please see\n",
      "https://gist.github.com/mwaskom/de44147ed2974457ad6372750bbe5751\n",
      "\n",
      "  sns.distplot(df['Smoker'])\n"
     ]
    },
    {
     "data": {
      "text/plain": [
       "<Axes: xlabel='Smoker', ylabel='Density'>"
      ]
     },
     "execution_count": 167,
     "metadata": {},
     "output_type": "execute_result"
    },
    {
     "data": {
      "image/png": "[encoded data removed]",
      "text/plain": [
       "<Figure size 640x480 with 1 Axes>"
      ]
     },
     "metadata": {},
     "output_type": "display_data"
    }
   ],
   "source": [
    "sns.distplot(df['Smoker'])"
   ]
  },
  {
   "cell_type": "code",
   "execution_count": null,
   "id": "a5feef57",
   "metadata": {},
   "outputs": [],
   "source": [
    "sns."
   ]
  }
 ],
 "metadata": {
  "kernelspec": {
   "display_name": "base",
   "language": "python",
   "name": "python3"
  },
  "language_info": {
   "codemirror_mode": {
    "name": "ipython",
    "version": 3
   },
   "file_extension": ".py",
   "mimetype": "text/x-python",
   "name": "python",
   "nbconvert_exporter": "python",
   "pygments_lexer": "ipython3",
   "version": "3.12.7"
  }
 },
 "nbformat": 4,
 "nbformat_minor": 5
}
