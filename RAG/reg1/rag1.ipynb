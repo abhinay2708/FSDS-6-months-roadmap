{
 "cells": [
  {
   "cell_type": "code",
   "execution_count": 19,
   "id": "5617a714",
   "metadata": {},
   "outputs": [],
   "source": [
    "import os\n",
    "from langchain.document_loaders import UnstructuredFileLoader\n",
    "from langchain.text_splitter import CharacterTextSplitter\n",
    "from langchain_community.embeddings import HuggingFaceEmbeddings\n",
    "from langchain_chroma import Chroma\n",
    "from langchain.chains import RetrievalQA\n",
    "from langchain_groq import ChatGroq"
   ]
  },
  {
   "cell_type": "code",
   "execution_count": null,
   "id": "22fb67e9",
   "metadata": {},
   "outputs": [],
   "source": [
    "os.environ['GROQ_API_KEY'] = \"gsk......PTO\""
   ]
  },
  {
   "cell_type": "code",
   "execution_count": 21,
   "id": "38c23b08",
   "metadata": {},
   "outputs": [],
   "source": [
    "import requests\n",
    "\n",
    "# Assuming the PDF file is locally available in the /content/ directory\n",
    "# We will use a file path instead of a URL.\n",
    "file_path = \"python_function.pdf\"\n",
    "\n",
    "# Read the PDF content directly from the file system\n",
    "with open(file_path, \"rb\") as f:\n",
    "    pdf_content = f.read()\n",
    "\n",
    "# You can now work with the `pdf_content` variable\n",
    "# as needed for further processing.\n",
    "# ...\n",
    "\n",
    "# If the file was intended to be accessed from a web server running locally,\n",
    "# you'd need to provide the full URL including the scheme (e.g., http://localhost:8000/path/to/file.pdf).\n",
    "# Replace 'http://localhost:8000' with the actual URL of your web server.\n",
    "# url = \"http://localhost:8000/content/The Rise of Generative AI in Creative Industries.pdf\"\n",
    "# response = requests.get(url)\n",
    "# with open(\"/content/The Rise of Generative AI in Creative Industries.pdf\", \"wb\") as f:\n",
    "#     f.write(response.content)"
   ]
  },
  {
   "cell_type": "code",
   "execution_count": 22,
   "id": "311015ac",
   "metadata": {},
   "outputs": [],
   "source": [
    "loader = UnstructuredFileLoader('python_function.pdf')"
   ]
  },
  {
   "cell_type": "code",
   "execution_count": 23,
   "id": "3ed23bab",
   "metadata": {},
   "outputs": [
    {
     "name": "stderr",
     "output_type": "stream",
     "text": [
      "Ignoring wrong pointing object 42 0 (offset 0)\n",
      "Ignoring wrong pointing object 226 0 (offset 0)\n"
     ]
    }
   ],
   "source": [
    "from langchain_community.document_loaders import PyPDFLoader\n",
    "\n",
    "loader = PyPDFLoader(\"python_function.pdf\")\n",
    "documents = loader.load()"
   ]
  },
  {
   "cell_type": "code",
   "execution_count": 24,
   "id": "6b0fac2b",
   "metadata": {},
   "outputs": [],
   "source": [
    "text_splitter = CharacterTextSplitter(chunk_size=1000, chunk_overlap=100)\n",
    "texts = text_splitter.split_documents(documents)"
   ]
  },
  {
   "cell_type": "code",
   "execution_count": 25,
   "id": "2cbff067",
   "metadata": {},
   "outputs": [
    {
     "data": {
      "text/plain": [
       "list"
      ]
     },
     "execution_count": 25,
     "metadata": {},
     "output_type": "execute_result"
    }
   ],
   "source": [
    "type(texts)"
   ]
  },
  {
   "cell_type": "code",
   "execution_count": 26,
   "id": "ffcefff2",
   "metadata": {},
   "outputs": [
    {
     "data": {
      "text/plain": [
       "25"
      ]
     },
     "execution_count": 26,
     "metadata": {},
     "output_type": "execute_result"
    }
   ],
   "source": [
    "len(texts)"
   ]
  },
  {
   "cell_type": "code",
   "execution_count": 27,
   "id": "8c9c3f56",
   "metadata": {},
   "outputs": [
    {
     "data": {
      "text/plain": [
       "Document(metadata={'source': 'python_function.pdf', 'page': 2}, page_content='Python and Types  \\n•\\u202f Dynamic typing: Python determines the data \\ntypes of variable bindings in a program \\nautomatically \\n•\\u202f Strong typing: But Python’s not casual about \\ntypes, it enforces the types of objects     \\n•\\u202f For example, you can’t just append an integer \\nto a string, but must first convert it to a string     \\n x = “the answer is ”  # x bound to a string \\n y = 23      # y bound to an integer. \\n print x + y   # Python will complain!')"
      ]
     },
     "execution_count": 27,
     "metadata": {},
     "output_type": "execute_result"
    }
   ],
   "source": [
    "texts[2]"
   ]
  },
  {
   "cell_type": "code",
   "execution_count": 28,
   "id": "5ae0e6d7",
   "metadata": {},
   "outputs": [],
   "source": [
    "embeddings= HuggingFaceEmbeddings()"
   ]
  },
  {
   "cell_type": "code",
   "execution_count": 29,
   "id": "4e146d47",
   "metadata": {},
   "outputs": [],
   "source": [
    "persist_dir = \"doc_db\""
   ]
  },
  {
   "cell_type": "code",
   "execution_count": 30,
   "id": "4e13f0ff",
   "metadata": {},
   "outputs": [
    {
     "name": "stderr",
     "output_type": "stream",
     "text": [
      "Failed to send telemetry event ClientStartEvent: capture() takes 1 positional argument but 3 were given\n",
      "Failed to send telemetry event ClientCreateCollectionEvent: capture() takes 1 positional argument but 3 were given\n"
     ]
    }
   ],
   "source": [
    "vector_db = Chroma.from_documents(documents=texts,\n",
    "                                 embedding=embeddings,\n",
    "                                 persist_directory=persist_dir)"
   ]
  },
  {
   "cell_type": "code",
   "execution_count": 31,
   "id": "1faa942f",
   "metadata": {},
   "outputs": [],
   "source": [
    "retriever = vector_db.as_retriever()"
   ]
  },
  {
   "cell_type": "code",
   "execution_count": 32,
   "id": "9e8c24ea",
   "metadata": {},
   "outputs": [],
   "source": [
    "# LLM from groq\n",
    "llm = ChatGroq(\n",
    "    model = \"llama-3.1-8b-instant\",\n",
    "    temperature = 0)"
   ]
  },
  {
   "cell_type": "code",
   "execution_count": 33,
   "id": "f751cf8f",
   "metadata": {},
   "outputs": [],
   "source": [
    "qa_chain = RetrievalQA.from_chain_type(llm=llm,\n",
    "                                 chain_type=\"stuff\",\n",
    "                                 retriever=retriever,\n",
    "                                 return_source_documents=True)"
   ]
  },
  {
   "cell_type": "code",
   "execution_count": 34,
   "id": "13169303",
   "metadata": {},
   "outputs": [
    {
     "data": {
      "text/plain": [
       "'It seems like you just said \"hello\". Is there something specific you\\'d like to know or discuss?'"
      ]
     },
     "execution_count": 34,
     "metadata": {},
     "output_type": "execute_result"
    }
   ],
   "source": [
    "query = \"hello\"\n",
    "result = qa_chain.invoke({\"query\": query})\n",
    "result[\"result\"]"
   ]
  },
  {
   "cell_type": "code",
   "execution_count": null,
   "id": "a7fa9acc",
   "metadata": {},
   "outputs": [],
   "source": []
  },
  {
   "cell_type": "code",
   "execution_count": null,
   "id": "29e56b7d",
   "metadata": {},
   "outputs": [],
   "source": []
  }
 ],
 "metadata": {
  "kernelspec": {
   "display_name": "rag_env",
   "language": "python",
   "name": "python3"
  },
  "language_info": {
   "codemirror_mode": {
    "name": "ipython",
    "version": 3
   },
   "file_extension": ".py",
   "mimetype": "text/x-python",
   "name": "python",
   "nbconvert_exporter": "python",
   "pygments_lexer": "ipython3",
   "version": "3.10.0"
  }
 },
 "nbformat": 4,
 "nbformat_minor": 5
}
