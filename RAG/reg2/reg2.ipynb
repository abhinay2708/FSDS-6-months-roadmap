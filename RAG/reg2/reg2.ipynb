{
 "cells": [
  {
   "cell_type": "code",
   "execution_count": 23,
   "id": "cf02e8a3",
   "metadata": {},
   "outputs": [],
   "source": [
    "import os\n",
    "\n",
    "from langchain.document_loaders import UnstructuredFileLoader\n",
    "from langchain_text_splitters import CharacterTextSplitter\n",
    "from langchain_community.embeddings import HuggingFaceEmbeddings\n",
    "from langchain_chroma import Chroma\n",
    "from langchain_groq import ChatGroq\n",
    "from langchain.chains import RetrievalQA"
   ]
  },
  {
   "cell_type": "code",
   "execution_count": null,
   "id": "b8bea3e2",
   "metadata": {},
   "outputs": [],
   "source": [
    "os.environ[\"GROQ_API_KEY\"] = \"gsk.....PTO\""
   ]
  },
  {
   "cell_type": "code",
   "execution_count": 25,
   "id": "1b745c88",
   "metadata": {},
   "outputs": [],
   "source": [
    "# Fetch the PDF from the URL\n",
    "import requests\n",
    "url = \"https://dspmuranchi.ac.in/pdf/Blog/Python%20Built-In%20Functions.pdf\"\n",
    "response = requests.get(url)"
   ]
  },
  {
   "cell_type": "code",
   "execution_count": 26,
   "id": "02faf0b4",
   "metadata": {},
   "outputs": [],
   "source": [
    "# Save the PDF to a local file\n",
    "with open(\"python_inbuildfunction.pdf\", \"wb\") as f:\n",
    "    f.write(response.content)"
   ]
  },
  {
   "cell_type": "code",
   "execution_count": 27,
   "id": "4644db65",
   "metadata": {},
   "outputs": [],
   "source": [
    "# laoding the document\n",
    "loader = UnstructuredFileLoader(\"python_inbuildfunction.pdf\")"
   ]
  },
  {
   "cell_type": "code",
   "execution_count": 28,
   "id": "4dc33447",
   "metadata": {},
   "outputs": [
    {
     "data": {
      "text/plain": [
       "[Document(metadata={'source': 'python_inbuildfunction.pdf'}, page_content='Python Built-In Functions\\n\\nGaurav Kr. suman\\n\\nMIT5\\n\\n1. abs()\\n\\nThe abs() is one of the most popular Python built -in functions, which returns the absolute value of a number. A negative value’s absolute is that value is positive.\\n\\n>>> abs(-7)\\n\\n7\\n\\n>>> abs(7)\\n\\n7\\n\\n>>> abs(0)\\n\\n2. all()\\n\\nThe all() function takes a container as an argument. This Built in Functions returns True if all values in a python iterable have a Boolean value of True. An empty value has a Boolean value of False.\\n\\n>>> all({\\'*\\',\\'\\',\\'\\'})\\n\\nFalse\\n\\n>>> all([\\' \\',\\' \\',\\' \\'])\\n\\nTrue\\n\\n3. any()\\n\\nLike all(), it takes one argument and returns True if, even one value in the iterable has a Boolean value of True.\\n\\n>>> any((1,0,0))\\n\\nTrue\\n\\n>>> any((0,0,0))\\n\\nFalse\\n\\n4. ascii()\\n\\nIt is important Python built-in functions, returns a printable representation of a python object (like a string or a Python list). Let’s take a Romanian character.\\n\\n1 | P a g e\\n\\n>>> ascii(\\'ș\\')\\n\\n“‘\\\\\\\\u0219′”\\n\\nSince this was a non-ASCII character in python, the interpreter added a backslash (\\\\) and escaped it using another backslash.\\n\\n>>> ascii(\\'ușor\\')\\n\\n“‘u\\\\\\\\u0219or\\'”\\n\\nLet’s apply it to a list.\\n\\n>>> ascii([\\'s\\',\\'ș\\'])\\n\\n“[‘s’, ‘\\\\\\\\u0219’]”\\n\\n5. bin()\\n\\nbin() converts an integer to a binary string. We have seen this and other functions in our article on Python Numbers.\\n\\n>>> bin(7)\\n\\n‘0b111’\\n\\nWe can’t apply it on floats, though.\\n\\n>>> bin(7.0)\\n\\nTraceback (most recent call last):\\n\\nFile “<pyshell#20>”, line 1, in <module>\\n\\nbin(7.0)\\n\\nTypeError: ‘float’ object cannot be interpreted as an integer\\n\\n6. bool()\\n\\nbool() converts a value to Boolean.\\n\\n>>> bool(0.5)\\n\\nTrue\\n\\n>>> bool(\\'\\')\\n\\nFalse\\n\\n>>> bool(True)\\n\\nTrue\\n\\n7. bytearray()\\n\\n2 | P a g e\\n\\nbytearray() returns a python array of a given byte size.\\n\\n>>> a=bytearray(4)\\n\\n>>> a\\n\\nbytearray(b’\\\\x00\\\\x00\\\\x00\\\\x00′)\\n\\n>>> a.append(1)\\n\\n>>> a\\n\\nbytearray(b’\\\\x00\\\\x00\\\\x00\\\\x00\\\\x01′)\\n\\n>>> a[0]=1\\n\\n>>> a\\n\\nbytearray(b’\\\\x01\\\\x00\\\\x00\\\\x00\\\\x01′)\\n\\n>>> a[0]\\n\\n1\\n\\nLet’s do this on a list.\\n\\n>>> bytearray([1,2,3,4])\\n\\nbytearray(b’\\\\x01\\\\x02\\\\x03\\\\x04′)\\n\\n8. bytes()\\n\\nbytes() returns an immutable bytes object.\\n\\n>>> bytes(5)\\n\\nb’\\\\x00\\\\x00\\\\x00\\\\x00\\\\x00′\\n\\n>>> bytes([1,2,3,4,5])\\n\\nb’\\\\x01\\\\x02\\\\x03\\\\x04\\\\x05′\\n\\n>>> bytes(\\'hello\\',\\'utf-8\\')\\n\\nb’hello’\\n\\nHere, utf-8 is the encoding.\\n\\nBoth bytes() and bytearray() deal with raw data, but bytearray() is mutable, while bytes() is immutable.\\n\\n>>> a=bytes([1,2,3,4,5])\\n\\n>>> a\\n\\nb’\\\\x01\\\\x02\\\\x03\\\\x04\\\\x05′\\n\\n>>> a[4]=\\n\\n3 | P a g e\\n\\n3\\n\\nTraceback (most recent call last):\\n\\nFile “<pyshell#46>”, line 1, in <module>\\n\\na[4]=3\\n\\nTypeError: ‘bytes’ object does not support item assignment\\n\\nLet’s try this on bytearray().\\n\\n>>> a=bytearray([1,2,3,4,5])\\n\\n>>> a\\n\\nbytearray(b’\\\\x01\\\\x02\\\\x03\\\\x04\\\\x05′)\\n\\n>>> a[4]=3\\n\\n>>> a\\n\\nbytearray(b’\\\\x01\\\\x02\\\\x03\\\\x04\\\\x03′)\\n\\n9. callable()\\n\\ncallable() tells us if an object can be called.\\n\\n>>> callable([1,2,3])\\n\\nFalse\\n\\n>>> callable(callable)\\n\\nTrue\\n\\n>>> callable(False)\\n\\nFalse\\n\\n>>> callable(list)\\n\\nTrue\\n\\nA function is callable, a list is not. Even the callable() python Built In function is callable.\\n\\n10. chr()\\n\\nchr() Built In function returns the character in python for an ASCII value.\\n\\n>>> chr(65)\\n\\n‘A’\\n\\n>>> chr(97)\\n\\n4 | P a g e\\n\\n‘a’\\n\\n>>> chr(9)\\n\\n‘\\\\t’\\n\\n>>> chr(48)\\n\\n‘0’\\n\\n11. classmethod()\\n\\nclassmethod() returns a class method for a given method.\\n\\n>>> class fruit:\\n\\ndef sayhi(self):\\n\\nprint(\"Hi, I\\'m a fruit\")\\n\\n>>> fruit.sayhi=classmethod(fruit.sayhi)\\n\\n>>> fruit.sayhi()\\n\\nHi, I’m a fruit\\n\\nWhen we pass the method sayhi() as an argument to classmethod(), it converts it into a python class method one that belongs to the class. Then, we call it like we would call any static method in python without an object.\\n\\n12. compile()\\n\\ncompile() returns a Python code object. We use Python in built function to convert a string code into object code.\\n\\n>>> exec(compile(\\'a=5\\\\nb=7\\\\nprint(a+b)\\',\\'\\',\\'exec\\'))\\n\\n12\\n\\nHere, ‘exec’ is the mode. The parameter before that is the filename for the file form which the code is read. Finally, we execute it using exec().\\n\\n13. complex()\\n\\ncomplex() function creates a complex number. We have seen this is our article on Python Numbers.\\n\\n>>> complex(3)\\n\\n(3+0j)\\n\\n5 | P a g e\\n\\n>>> complex(3.5)\\n\\n(3.5+0j)\\n\\n>>> complex(3+5j)\\n\\n(3+5j)\\n\\n14. delattr()\\n\\ndelattr() takes two arguments- a class, and an attribute in it. It deletes the attribute.\\n\\n>>> class fruit:\\n\\nsize=7\\n\\n>>> orange=fruit()\\n\\n>>> orange.size\\n\\n7\\n\\n>>> delattr(fruit,\\'size\\')\\n\\n>>> orange.size\\n\\nTraceback (most recent call last):\\n\\nFile “<pyshell#95>”, line 1, in <module>\\n\\norange.size\\n\\nAttributeError: ‘fruit’ object has no attribute ‘size’\\n\\n15. dict()\\n\\ndict(), as we have seen it, creates a python dictionary.\\n\\n>>> dict()\\n\\n{}\\n\\n>>> dict([(1,2),(3,4)])\\n\\n{1: 2, 3: 4}\\n\\n16. divmod()\\n\\ndivmod() in Python built-in functions, takes two parameters, and returns a tuple of their quotient and remainder. In other words, it returns the floor division and the modulus of the two numbers.\\n\\n>>> divmod(3,7)\\n\\n6 | P a g e\\n\\n(0, 3)\\n\\n>>> divmod(7,3)\\n\\n(2, 1) If you encounter any doubt in Python Built-in Function, Please Comment.\\n\\n17. enumerate()\\n\\nThis Python Built In function returns an enumerate object. In other words, it adds a counter to the iterable.\\n\\n>>> for i in enumerate([\\'a\\',\\'b\\',\\'c\\']):\\n\\nprint(i)\\n\\n(0, ‘a’) (1, ‘b’) (2, ‘c’)\\n\\n18. eval()\\n\\nThis Function takes a string as an argument, which is parsed as an expression.\\n\\n>>> x=7\\n\\n>>> eval(\\'x+7\\')\\n\\n14\\n\\n>>> eval(\\'x+(x%2)\\')\\n\\n8\\n\\n19. exec()\\n\\nexec() runs Python code dynamically.\\n\\n>>> exec(\\'a=2;b=3;print(a+b)\\')\\n\\n5\\n\\n>>> exec(input(\"Enter your program\"))\\n\\nEnter your programprint(2+3)\\n\\n5\\n\\n20. filter()\\n\\n7 | P a g e\\n\\nLike we’ve seen in python Lambda Expressios, filter() filters out the items for which the condition is True.\\n\\n>>> list(filter(lambda x:x%2==0,[1,2,0,False]))\\n\\n[2, 0, False]\\n\\n21. float()\\n\\nThis Python Built In function converts an int or a compatible value into a float.\\n\\n>>> float(2)\\n\\n2.0\\n\\n>>> float(\\'3\\')\\n\\n3.0\\n\\n>>> float(\\'3s\\')\\n\\nTraceback (most recent call last):\\n\\nFile “<pyshell#136>”, line 1, in <module>\\n\\nfloat(‘3s’)\\n\\nValueError: could not convert string to float: ‘3s’\\n\\n>>> float(False)\\n\\n0.0\\n\\n>>> float(4.7)\\n\\n4.7\\n\\n22. format()\\n\\nWe have seen this Python built-in function, one in our lesson on Python Strings.\\n\\n>>> a,b=2,3\\n\\n>>> print(\"a={0} and b={1}\".format(a,b))\\n\\na=2 and b=3\\n\\n>>> print(\"a={a} and b={b}\".format(a=3,b=4))\\n\\na=3 and b=4\\n\\n23. frozenset()\\n\\nfrozenset() returns an immutable frozenset object.\\n\\n8 | P a g e\\n\\n>>> frozenset((3,2,4))\\n\\nfrozenset({2, 3, 4})\\n\\nRead Python Sets and Booleans for more on frozenset.\\n\\n24. getattr()\\n\\ngetattr() returns the value of an object’s attribute.\\n\\n>>> getattr(orange,\\'size\\')\\n\\n7\\n\\n25. globals()\\n\\nThis Python built-in functions, returns a dictionary of the current global symbol table.\\n\\n>>> globals()\\n\\n{‘__name__’: ‘__main__’, ‘__doc__’: None, ‘__package__’: None, ‘__loader__’: <class ‘_frozen_importlib.BuiltinImporter’>, ‘__spec__’: None, ‘__annotations__’: {}, ‘__builtins__’: <module ‘builtins’ (built-in)>, ‘fruit’: <class ‘__main__.fruit’>, ‘orange’: <__main__.fruit object at 0x05F937D0>, ‘a’: 2, ‘numbers’: [1, 2, 3], ‘i’: (2, 3), ‘x’: 7, ‘b’: 3}\\n\\n26. hasattr()\\n\\nLike delattr() and getattr(), hasattr() Python built-in functions, returns True if the object has that attribute.\\n\\n>>> hasattr(orange,\\'size\\')\\n\\nTrue\\n\\n>>> hasattr(orange,\\'shape\\')\\n\\nTrue\\n\\n>>> hasattr(orange,\\'color\\')\\n\\nFalse\\n\\n27. hash()\\n\\nhash() function returns the hash value of an object. And in Python, everything is an object.\\n\\n>>> hash(orange)\\n\\n6263677\\n\\n9 | P a g e\\n\\n>>> hash(orange)\\n\\n6263677\\n\\n>>> hash(True)\\n\\n1\\n\\n>>> hash(0)\\n\\n0\\n\\n>>> hash(3.7)\\n\\n644245917\\n\\n>>> hash(hash)\\n\\n25553952\\n\\n28. hex()\\n\\nHex() Python built-in functions, converts an integer to hexadecimal.\\n\\n>>> hex(16)\\n\\n‘0x10’\\n\\n>>> hex(False)\\n\\n‘0x0’\\n\\n29. id() Function\\n\\nid() returns an object’s identity.\\n\\n>>> id(orange)\\n\\n100218832\\n\\n>>> id({1,2,3})==id({1,3,2})\\n\\nTrue\\n\\n30. input()\\n\\nInput() Python built-in functions, reads and returns a line of string.\\n\\n>>> input(\"Enter a number\")\\n\\nEnter a number7 ‘7’\\n\\n10 | P a g e\\n\\nNote that this returns the input as a string. If we want to take 7 as an integer, we need to apply the int() function to it.\\n\\n>>> int(input(\"Enter a number\"))\\n\\nEnter a number7\\n\\n7\\n\\n31. int()\\n\\nint() converts a value to an integer.\\n\\n>>> int(\\'7\\')\\n\\n7\\n\\n32. isinstance()\\n\\nWe have seen this one in previous lessons. isinstance() takes a variable and a class as arguments. Then, it returns True if the variable belongs to the class. Otherwise, it returns False.\\n\\n>>> isinstance(0,str)\\n\\nFalse\\n\\n>>> isinstance(orange,fruit)\\n\\nTrue\\n\\n33. ord()\\n\\nThe function ord() returns an integer that represents the Unicode point for a given Unicode character.\\n\\n>>> ord(\\'A\\')\\n\\n65\\n\\n>>> ord(\\'9\\')\\n\\n57 This is complementary to chr().\\n\\n>>> chr(65)\\n\\n‘A’\\n\\n34. pow()\\n\\npow() takes two arguments- say, x and y. It then returns the value of x to the power of y.\\n\\n11 | P a g e\\n\\n>>> pow(3,4)\\n\\n81\\n\\n>>> pow(7,0)\\n\\n1\\n\\n>>> pow(7,-1)\\n\\n0.14285714285714285\\n\\n>>> pow(7,-2)\\n\\n0.02040816326530612\\n\\n35. print()\\n\\nWe don’t think we need to explain this anymore. We’ve been seeing this function since the beginning of this article.\\n\\n>>> print(\"Okay, next function, please!\")\\n\\nOkay, next function, please!\\n\\n36. range()\\n\\nWe’ve taken a whole tutorial on this. Read up range() in Python.\\n\\n>>> for i in range(7,2,-2):\\n\\nprint(i)\\n\\n7 5 3\\n\\n37. repr()\\n\\nrepr() returns a representable string of an object.\\n\\n>>> repr(\"Hello\")\\n\\n“‘Hello\\'”\\n\\n>>> repr(7)\\n\\n‘7’\\n\\n>>> repr(False)\\n\\n‘False’\\n\\n38. reversed()\\n\\n12 | P a g e\\n\\nThis functions reverses the contents of an iterable and returns an iterator object.\\n\\n>>> a=reversed([3,2,1])\\n\\n>>> a\\n\\n<list_reverseiterator object at 0x02E1A230>\\n\\n>>> for i in a:\\n\\nprint(i)\\n\\n1 2 3\\n\\n>>> type(a)\\n\\n<class ‘list_reverseiterator’>\\n\\n39. round()\\n\\nround() rounds off a float to the given number of digits (given by the second argument).\\n\\n>>> round(3.777,2)\\n\\n3.78\\n\\n>>> round(3.7,3)\\n\\n3.7\\n\\n>>> round(3.7,-1)\\n\\n0.0\\n\\n>>> round(377.77,-1)\\n\\n380.0 The rounding factor can be negative.\\n\\n40. set()\\n\\nOf course, set() returns a set of the items passed to it.\\n\\n>>> set([2,2,3,1])\\n\\n{1, 2, 3} Remember, a set cannot have duplicate values, and isn’t indexed, but is ordered. Read on Sets and Booleans for the same.\\n\\n41. setattr()\\n\\n13 | P a g e\\n\\nLike getattr(), setattr() sets an attribute’s value for an object.\\n\\n>>> orange.size\\n\\n7\\n\\n>>> orange.size=8\\n\\n>>> orange.size\\n\\n8\\n\\n14 | P a g e')]"
      ]
     },
     "execution_count": 28,
     "metadata": {},
     "output_type": "execute_result"
    }
   ],
   "source": [
    "documents = loader.load()\n",
    "documents"
   ]
  },
  {
   "cell_type": "code",
   "execution_count": 29,
   "id": "9510a910",
   "metadata": {},
   "outputs": [],
   "source": [
    "text_splitter = CharacterTextSplitter(\n",
    "    chunk_size=2000,\n",
    "    chunk_overlap=400\n",
    ")"
   ]
  },
  {
   "cell_type": "code",
   "execution_count": 30,
   "id": "42dff7f2",
   "metadata": {},
   "outputs": [],
   "source": [
    "texts = text_splitter.split_documents(documents)"
   ]
  },
  {
   "cell_type": "code",
   "execution_count": 31,
   "id": "dbe3ba2c",
   "metadata": {},
   "outputs": [
    {
     "data": {
      "text/plain": [
       "list"
      ]
     },
     "execution_count": 31,
     "metadata": {},
     "output_type": "execute_result"
    }
   ],
   "source": [
    "type(texts)"
   ]
  },
  {
   "cell_type": "code",
   "execution_count": 32,
   "id": "40234418",
   "metadata": {},
   "outputs": [
    {
     "data": {
      "text/plain": [
       "7"
      ]
     },
     "execution_count": 32,
     "metadata": {},
     "output_type": "execute_result"
    }
   ],
   "source": [
    "len(texts)"
   ]
  },
  {
   "cell_type": "code",
   "execution_count": 33,
   "id": "a1dc2771",
   "metadata": {},
   "outputs": [
    {
     "data": {
      "text/plain": [
       "Document(metadata={'source': 'python_inbuildfunction.pdf'}, page_content='frozenset() returns an immutable frozenset object.\\n\\n8 | P a g e\\n\\n>>> frozenset((3,2,4))\\n\\nfrozenset({2, 3, 4})\\n\\nRead Python Sets and Booleans for more on frozenset.\\n\\n24. getattr()\\n\\ngetattr() returns the value of an object’s attribute.\\n\\n>>> getattr(orange,\\'size\\')\\n\\n7\\n\\n25. globals()\\n\\nThis Python built-in functions, returns a dictionary of the current global symbol table.\\n\\n>>> globals()\\n\\n{‘__name__’: ‘__main__’, ‘__doc__’: None, ‘__package__’: None, ‘__loader__’: <class ‘_frozen_importlib.BuiltinImporter’>, ‘__spec__’: None, ‘__annotations__’: {}, ‘__builtins__’: <module ‘builtins’ (built-in)>, ‘fruit’: <class ‘__main__.fruit’>, ‘orange’: <__main__.fruit object at 0x05F937D0>, ‘a’: 2, ‘numbers’: [1, 2, 3], ‘i’: (2, 3), ‘x’: 7, ‘b’: 3}\\n\\n26. hasattr()\\n\\nLike delattr() and getattr(), hasattr() Python built-in functions, returns True if the object has that attribute.\\n\\n>>> hasattr(orange,\\'size\\')\\n\\nTrue\\n\\n>>> hasattr(orange,\\'shape\\')\\n\\nTrue\\n\\n>>> hasattr(orange,\\'color\\')\\n\\nFalse\\n\\n27. hash()\\n\\nhash() function returns the hash value of an object. And in Python, everything is an object.\\n\\n>>> hash(orange)\\n\\n6263677\\n\\n9 | P a g e\\n\\n>>> hash(orange)\\n\\n6263677\\n\\n>>> hash(True)\\n\\n1\\n\\n>>> hash(0)\\n\\n0\\n\\n>>> hash(3.7)\\n\\n644245917\\n\\n>>> hash(hash)\\n\\n25553952\\n\\n28. hex()\\n\\nHex() Python built-in functions, converts an integer to hexadecimal.\\n\\n>>> hex(16)\\n\\n‘0x10’\\n\\n>>> hex(False)\\n\\n‘0x0’\\n\\n29. id() Function\\n\\nid() returns an object’s identity.\\n\\n>>> id(orange)\\n\\n100218832\\n\\n>>> id({1,2,3})==id({1,3,2})\\n\\nTrue\\n\\n30. input()\\n\\nInput() Python built-in functions, reads and returns a line of string.\\n\\n>>> input(\"Enter a number\")\\n\\nEnter a number7 ‘7’\\n\\n10 | P a g e\\n\\nNote that this returns the input as a string. If we want to take 7 as an integer, we need to apply the int() function to it.\\n\\n>>> int(input(\"Enter a number\"))\\n\\nEnter a number7\\n\\n7\\n\\n31. int()\\n\\nint() converts a value to an integer.\\n\\n>>> int(\\'7\\')\\n\\n7\\n\\n32. isinstance()')"
      ]
     },
     "execution_count": 33,
     "metadata": {},
     "output_type": "execute_result"
    }
   ],
   "source": [
    "texts[4]"
   ]
  },
  {
   "cell_type": "code",
   "execution_count": 34,
   "id": "a33c44a6",
   "metadata": {},
   "outputs": [],
   "source": [
    "embeddings = HuggingFaceEmbeddings()"
   ]
  },
  {
   "cell_type": "code",
   "execution_count": 35,
   "id": "b8c9faa5",
   "metadata": {},
   "outputs": [],
   "source": [
    "persist_directory = \"vector_db\""
   ]
  },
  {
   "cell_type": "code",
   "execution_count": 36,
   "id": "0afe130e",
   "metadata": {},
   "outputs": [
    {
     "name": "stderr",
     "output_type": "stream",
     "text": [
      "Failed to send telemetry event ClientStartEvent: capture() takes 1 positional argument but 3 were given\n",
      "Failed to send telemetry event ClientCreateCollectionEvent: capture() takes 1 positional argument but 3 were given\n"
     ]
    }
   ],
   "source": [
    "vectordb = Chroma.from_documents(\n",
    "    documents=texts,\n",
    "    embedding=embeddings,\n",
    "    persist_directory=persist_directory\n",
    ")"
   ]
  },
  {
   "cell_type": "code",
   "execution_count": 37,
   "id": "5ab2e07a",
   "metadata": {},
   "outputs": [],
   "source": [
    "# retriever\n",
    "retriever = vectordb.as_retriever()"
   ]
  },
  {
   "cell_type": "code",
   "execution_count": 38,
   "id": "83c9b6fd",
   "metadata": {},
   "outputs": [],
   "source": [
    "# llm from groq\n",
    "llm = ChatGroq(\n",
    "    model=\"llama-3.1-8b-instant\",\n",
    "    temperature=0\n",
    ")"
   ]
  },
  {
   "cell_type": "code",
   "execution_count": 39,
   "id": "2f622dce",
   "metadata": {},
   "outputs": [],
   "source": [
    "qa_chain = RetrievalQA.from_chain_type(\n",
    "    llm=llm,\n",
    "    chain_type=\"stuff\",\n",
    "    retriever=retriever,\n",
    "    return_source_documents=True\n",
    ")"
   ]
  },
  {
   "cell_type": "code",
   "execution_count": 40,
   "id": "52c7fee3",
   "metadata": {},
   "outputs": [],
   "source": [
    "# invoke the qa chain and get a response for user query\n",
    "query = \"what are the function from this pdf \"\n",
    "response = qa_chain.invoke({\"query\": query})"
   ]
  },
  {
   "cell_type": "code",
   "execution_count": 41,
   "id": "35ad8151",
   "metadata": {},
   "outputs": [
    {
     "name": "stdout",
     "output_type": "stream",
     "text": [
      "{'query': 'what are the function from this pdf ', 'result': 'Based on the provided text, the following are the Python built-in functions mentioned:\\n\\n1. `divmod()`\\n2. `enumerate()`\\n3. `eval()`\\n4. `exec()`\\n5. `filter()`\\n6. `float()`\\n7. `format()`\\n8. `frozenset()`\\n9. `getattr()`\\n10. `globals()`\\n\\nThese functions are used for various purposes such as:\\n\\n- Mathematical operations (`divmod()`)\\n- Enumerating iterables (`enumerate()`)\\n- Evaluating expressions (`eval()`)\\n- Executing code dynamically (`exec()`)\\n- Filtering iterables (`filter()`)\\n- Converting data types (`float()`)\\n- Formatting strings (`format()`)\\n- Creating immutable sets (`frozenset()`)\\n- Accessing object attributes (`getattr()`)\\n- Accessing global variables (`globals()`)', 'source_documents': [Document(metadata={'source': 'python_inbuildfunction.pdf'}, page_content='>>> divmod(3,7)\\n\\n6 | P a g e\\n\\n(0, 3)\\n\\n>>> divmod(7,3)\\n\\n(2, 1) If you encounter any doubt in Python Built-in Function, Please Comment.\\n\\n17. enumerate()\\n\\nThis Python Built In function returns an enumerate object. In other words, it adds a counter to the iterable.\\n\\n>>> for i in enumerate([\\'a\\',\\'b\\',\\'c\\']):\\n\\nprint(i)\\n\\n(0, ‘a’) (1, ‘b’) (2, ‘c’)\\n\\n18. eval()\\n\\nThis Function takes a string as an argument, which is parsed as an expression.\\n\\n>>> x=7\\n\\n>>> eval(\\'x+7\\')\\n\\n14\\n\\n>>> eval(\\'x+(x%2)\\')\\n\\n8\\n\\n19. exec()\\n\\nexec() runs Python code dynamically.\\n\\n>>> exec(\\'a=2;b=3;print(a+b)\\')\\n\\n5\\n\\n>>> exec(input(\"Enter your program\"))\\n\\nEnter your programprint(2+3)\\n\\n5\\n\\n20. filter()\\n\\n7 | P a g e\\n\\nLike we’ve seen in python Lambda Expressios, filter() filters out the items for which the condition is True.\\n\\n>>> list(filter(lambda x:x%2==0,[1,2,0,False]))\\n\\n[2, 0, False]\\n\\n21. float()\\n\\nThis Python Built In function converts an int or a compatible value into a float.\\n\\n>>> float(2)\\n\\n2.0\\n\\n>>> float(\\'3\\')\\n\\n3.0\\n\\n>>> float(\\'3s\\')\\n\\nTraceback (most recent call last):\\n\\nFile “<pyshell#136>”, line 1, in <module>\\n\\nfloat(‘3s’)\\n\\nValueError: could not convert string to float: ‘3s’\\n\\n>>> float(False)\\n\\n0.0\\n\\n>>> float(4.7)\\n\\n4.7\\n\\n22. format()\\n\\nWe have seen this Python built-in function, one in our lesson on Python Strings.\\n\\n>>> a,b=2,3\\n\\n>>> print(\"a={0} and b={1}\".format(a,b))\\n\\na=2 and b=3\\n\\n>>> print(\"a={a} and b={b}\".format(a=3,b=4))\\n\\na=3 and b=4\\n\\n23. frozenset()\\n\\nfrozenset() returns an immutable frozenset object.\\n\\n8 | P a g e\\n\\n>>> frozenset((3,2,4))\\n\\nfrozenset({2, 3, 4})\\n\\nRead Python Sets and Booleans for more on frozenset.\\n\\n24. getattr()\\n\\ngetattr() returns the value of an object’s attribute.\\n\\n>>> getattr(orange,\\'size\\')\\n\\n7\\n\\n25. globals()\\n\\nThis Python built-in functions, returns a dictionary of the current global symbol table.\\n\\n>>> globals()'), Document(metadata={'source': 'python_inbuildfunction.pdf'}, page_content='>>> divmod(3,7)\\n\\n6 | P a g e\\n\\n(0, 3)\\n\\n>>> divmod(7,3)\\n\\n(2, 1) If you encounter any doubt in Python Built-in Function, Please Comment.\\n\\n17. enumerate()\\n\\nThis Python Built In function returns an enumerate object. In other words, it adds a counter to the iterable.\\n\\n>>> for i in enumerate([\\'a\\',\\'b\\',\\'c\\']):\\n\\nprint(i)\\n\\n(0, ‘a’) (1, ‘b’) (2, ‘c’)\\n\\n18. eval()\\n\\nThis Function takes a string as an argument, which is parsed as an expression.\\n\\n>>> x=7\\n\\n>>> eval(\\'x+7\\')\\n\\n14\\n\\n>>> eval(\\'x+(x%2)\\')\\n\\n8\\n\\n19. exec()\\n\\nexec() runs Python code dynamically.\\n\\n>>> exec(\\'a=2;b=3;print(a+b)\\')\\n\\n5\\n\\n>>> exec(input(\"Enter your program\"))\\n\\nEnter your programprint(2+3)\\n\\n5\\n\\n20. filter()\\n\\n7 | P a g e\\n\\nLike we’ve seen in python Lambda Expressios, filter() filters out the items for which the condition is True.\\n\\n>>> list(filter(lambda x:x%2==0,[1,2,0,False]))\\n\\n[2, 0, False]\\n\\n21. float()\\n\\nThis Python Built In function converts an int or a compatible value into a float.\\n\\n>>> float(2)\\n\\n2.0\\n\\n>>> float(\\'3\\')\\n\\n3.0\\n\\n>>> float(\\'3s\\')\\n\\nTraceback (most recent call last):\\n\\nFile “<pyshell#136>”, line 1, in <module>\\n\\nfloat(‘3s’)\\n\\nValueError: could not convert string to float: ‘3s’\\n\\n>>> float(False)\\n\\n0.0\\n\\n>>> float(4.7)\\n\\n4.7\\n\\n22. format()\\n\\nWe have seen this Python built-in function, one in our lesson on Python Strings.\\n\\n>>> a,b=2,3\\n\\n>>> print(\"a={0} and b={1}\".format(a,b))\\n\\na=2 and b=3\\n\\n>>> print(\"a={a} and b={b}\".format(a=3,b=4))\\n\\na=3 and b=4\\n\\n23. frozenset()\\n\\nfrozenset() returns an immutable frozenset object.\\n\\n8 | P a g e\\n\\n>>> frozenset((3,2,4))\\n\\nfrozenset({2, 3, 4})\\n\\nRead Python Sets and Booleans for more on frozenset.\\n\\n24. getattr()\\n\\ngetattr() returns the value of an object’s attribute.\\n\\n>>> getattr(orange,\\'size\\')\\n\\n7\\n\\n25. globals()\\n\\nThis Python built-in functions, returns a dictionary of the current global symbol table.\\n\\n>>> globals()'), Document(metadata={'source': 'python_inbuildfunction.pdf'}, page_content='>>> divmod(3,7)\\n\\n6 | P a g e\\n\\n(0, 3)\\n\\n>>> divmod(7,3)\\n\\n(2, 1) If you encounter any doubt in Python Built-in Function, Please Comment.\\n\\n17. enumerate()\\n\\nThis Python Built In function returns an enumerate object. In other words, it adds a counter to the iterable.\\n\\n>>> for i in enumerate([\\'a\\',\\'b\\',\\'c\\']):\\n\\nprint(i)\\n\\n(0, ‘a’) (1, ‘b’) (2, ‘c’)\\n\\n18. eval()\\n\\nThis Function takes a string as an argument, which is parsed as an expression.\\n\\n>>> x=7\\n\\n>>> eval(\\'x+7\\')\\n\\n14\\n\\n>>> eval(\\'x+(x%2)\\')\\n\\n8\\n\\n19. exec()\\n\\nexec() runs Python code dynamically.\\n\\n>>> exec(\\'a=2;b=3;print(a+b)\\')\\n\\n5\\n\\n>>> exec(input(\"Enter your program\"))\\n\\nEnter your programprint(2+3)\\n\\n5\\n\\n20. filter()\\n\\n7 | P a g e\\n\\nLike we’ve seen in python Lambda Expressios, filter() filters out the items for which the condition is True.\\n\\n>>> list(filter(lambda x:x%2==0,[1,2,0,False]))\\n\\n[2, 0, False]\\n\\n21. float()\\n\\nThis Python Built In function converts an int or a compatible value into a float.\\n\\n>>> float(2)\\n\\n2.0\\n\\n>>> float(\\'3\\')\\n\\n3.0\\n\\n>>> float(\\'3s\\')\\n\\nTraceback (most recent call last):\\n\\nFile “<pyshell#136>”, line 1, in <module>\\n\\nfloat(‘3s’)\\n\\nValueError: could not convert string to float: ‘3s’\\n\\n>>> float(False)\\n\\n0.0\\n\\n>>> float(4.7)\\n\\n4.7\\n\\n22. format()\\n\\nWe have seen this Python built-in function, one in our lesson on Python Strings.\\n\\n>>> a,b=2,3\\n\\n>>> print(\"a={0} and b={1}\".format(a,b))\\n\\na=2 and b=3\\n\\n>>> print(\"a={a} and b={b}\".format(a=3,b=4))\\n\\na=3 and b=4\\n\\n23. frozenset()\\n\\nfrozenset() returns an immutable frozenset object.\\n\\n8 | P a g e\\n\\n>>> frozenset((3,2,4))\\n\\nfrozenset({2, 3, 4})\\n\\nRead Python Sets and Booleans for more on frozenset.\\n\\n24. getattr()\\n\\ngetattr() returns the value of an object’s attribute.\\n\\n>>> getattr(orange,\\'size\\')\\n\\n7\\n\\n25. globals()\\n\\nThis Python built-in functions, returns a dictionary of the current global symbol table.\\n\\n>>> globals()'), Document(metadata={'source': 'python_inbuildfunction.pdf'}, page_content='>>> divmod(3,7)\\n\\n6 | P a g e\\n\\n(0, 3)\\n\\n>>> divmod(7,3)\\n\\n(2, 1) If you encounter any doubt in Python Built-in Function, Please Comment.\\n\\n17. enumerate()\\n\\nThis Python Built In function returns an enumerate object. In other words, it adds a counter to the iterable.\\n\\n>>> for i in enumerate([\\'a\\',\\'b\\',\\'c\\']):\\n\\nprint(i)\\n\\n(0, ‘a’) (1, ‘b’) (2, ‘c’)\\n\\n18. eval()\\n\\nThis Function takes a string as an argument, which is parsed as an expression.\\n\\n>>> x=7\\n\\n>>> eval(\\'x+7\\')\\n\\n14\\n\\n>>> eval(\\'x+(x%2)\\')\\n\\n8\\n\\n19. exec()\\n\\nexec() runs Python code dynamically.\\n\\n>>> exec(\\'a=2;b=3;print(a+b)\\')\\n\\n5\\n\\n>>> exec(input(\"Enter your program\"))\\n\\nEnter your programprint(2+3)\\n\\n5\\n\\n20. filter()\\n\\n7 | P a g e\\n\\nLike we’ve seen in python Lambda Expressios, filter() filters out the items for which the condition is True.\\n\\n>>> list(filter(lambda x:x%2==0,[1,2,0,False]))\\n\\n[2, 0, False]\\n\\n21. float()\\n\\nThis Python Built In function converts an int or a compatible value into a float.\\n\\n>>> float(2)\\n\\n2.0\\n\\n>>> float(\\'3\\')\\n\\n3.0\\n\\n>>> float(\\'3s\\')\\n\\nTraceback (most recent call last):\\n\\nFile “<pyshell#136>”, line 1, in <module>\\n\\nfloat(‘3s’)\\n\\nValueError: could not convert string to float: ‘3s’\\n\\n>>> float(False)\\n\\n0.0\\n\\n>>> float(4.7)\\n\\n4.7\\n\\n22. format()\\n\\nWe have seen this Python built-in function, one in our lesson on Python Strings.\\n\\n>>> a,b=2,3\\n\\n>>> print(\"a={0} and b={1}\".format(a,b))\\n\\na=2 and b=3\\n\\n>>> print(\"a={a} and b={b}\".format(a=3,b=4))\\n\\na=3 and b=4\\n\\n23. frozenset()\\n\\nfrozenset() returns an immutable frozenset object.\\n\\n8 | P a g e\\n\\n>>> frozenset((3,2,4))\\n\\nfrozenset({2, 3, 4})\\n\\nRead Python Sets and Booleans for more on frozenset.\\n\\n24. getattr()\\n\\ngetattr() returns the value of an object’s attribute.\\n\\n>>> getattr(orange,\\'size\\')\\n\\n7\\n\\n25. globals()\\n\\nThis Python built-in functions, returns a dictionary of the current global symbol table.\\n\\n>>> globals()')]}\n"
     ]
    }
   ],
   "source": [
    "print(response)"
   ]
  },
  {
   "cell_type": "code",
   "execution_count": 42,
   "id": "4951739e",
   "metadata": {},
   "outputs": [
    {
     "name": "stdout",
     "output_type": "stream",
     "text": [
      "Based on the provided text, the following are the Python built-in functions mentioned:\n",
      "\n",
      "1. `divmod()`\n",
      "2. `enumerate()`\n",
      "3. `eval()`\n",
      "4. `exec()`\n",
      "5. `filter()`\n",
      "6. `float()`\n",
      "7. `format()`\n",
      "8. `frozenset()`\n",
      "9. `getattr()`\n",
      "10. `globals()`\n",
      "\n",
      "These functions are used for various purposes such as:\n",
      "\n",
      "- Mathematical operations (`divmod()`)\n",
      "- Enumerating iterables (`enumerate()`)\n",
      "- Evaluating expressions (`eval()`)\n",
      "- Executing code dynamically (`exec()`)\n",
      "- Filtering iterables (`filter()`)\n",
      "- Converting data types (`float()`)\n",
      "- Formatting strings (`format()`)\n",
      "- Creating immutable sets (`frozenset()`)\n",
      "- Accessing object attributes (`getattr()`)\n",
      "- Accessing global variables (`globals()`)\n"
     ]
    }
   ],
   "source": [
    "print(response[\"result\"])"
   ]
  },
  {
   "cell_type": "code",
   "execution_count": 43,
   "id": "02697f90",
   "metadata": {},
   "outputs": [
    {
     "name": "stdout",
     "output_type": "stream",
     "text": [
      "python_inbuildfunction.pdf\n"
     ]
    }
   ],
   "source": [
    "print(response[\"source_documents\"][0].metadata[\"source\"])"
   ]
  },
  {
   "cell_type": "code",
   "execution_count": 44,
   "id": "159a5b8b",
   "metadata": {},
   "outputs": [
    {
     "name": "stdout",
     "output_type": "stream",
     "text": [
      "Here's a summary of the Python built-in functions mentioned in the provided context:\n",
      "\n",
      "1. **divmod()**: Returns the quotient and remainder of the division of two numbers.\n",
      "\n",
      "   Example: `divmod(3, 7)` returns `(0, 3)` and `divmod(7, 3)` returns `(2, 1)`\n",
      "\n",
      "2. **enumerate()**: Adds a counter to an iterable and returns it.\n",
      "\n",
      "   Example: `for i in enumerate(['a', 'b', 'c']): print(i)` returns `(0, 'a') (1, 'b') (2, 'c')`\n",
      "\n",
      "3. **eval()**: Parses a string as a Python expression and executes it.\n",
      "\n",
      "   Example: `eval('x+7')` where `x = 7` returns `14`\n",
      "\n",
      "4. **exec()**: Runs Python code dynamically.\n",
      "\n",
      "   Example: `exec('a=2;b=3;print(a+b)')` returns `5`\n",
      "\n",
      "5. **filter()**: Filters out items from an iterable for which a condition is true.\n",
      "\n",
      "   Example: `list(filter(lambda x: x%2==0, [1, 2, 0, False]))` returns `[2, 0, False]`\n",
      "\n",
      "6. **float()**: Converts an integer or a compatible value into a floating-point number.\n",
      "\n",
      "   Example: `float(2)` returns `2.0` and `float('3')` returns `3.0`\n",
      "\n",
      "7. **format()**: Formats a string with values inserted into it.\n",
      "\n",
      "   Example: `\"a={0} and b={1}\".format(2, 3)` returns `\"a=2 and b=3\"`\n",
      "\n",
      "8. **frozenset()**: Returns an immutable frozenset object.\n",
      "\n",
      "   Example: `frozenset((3, 2, 4))` returns `frozenset({2, 3, 4})`\n",
      "\n",
      "9. **getattr()**: Returns the value of an object's attribute.\n",
      "\n",
      "   Example: `getattr(orange, 'size')` returns `7` (assuming `orange` is an object with a `size` attribute)\n",
      "\n",
      "10. **globals()**: Returns a dictionary of the current global symbol table.\n",
      "\n",
      "    Example: `globals()` returns the current global symbol table (not shown in the example)\n",
      "\n",
      "These are the Python built-in functions mentioned in the provided context.\n",
      "******************************\n",
      "Source Document: python_inbuildfunction.pdf\n"
     ]
    }
   ],
   "source": [
    "# invoke the qa chain and get a response for user query\n",
    "query = \"Give me summary of all function from this pdf?\"\n",
    "response = qa_chain.invoke({\"query\": query})\n",
    "print(response[\"result\"])\n",
    "print(\"*\"*30)\n",
    "print(\"Source Document:\", response[\"source_documents\"][0].metadata[\"source\"])"
   ]
  },
  {
   "cell_type": "code",
   "execution_count": null,
   "id": "10998f17",
   "metadata": {},
   "outputs": [],
   "source": []
  }
 ],
 "metadata": {
  "kernelspec": {
   "display_name": "rag_env",
   "language": "python",
   "name": "python3"
  },
  "language_info": {
   "codemirror_mode": {
    "name": "ipython",
    "version": 3
   },
   "file_extension": ".py",
   "mimetype": "text/x-python",
   "name": "python",
   "nbconvert_exporter": "python",
   "pygments_lexer": "ipython3",
   "version": "3.10.0"
  }
 },
 "nbformat": 4,
 "nbformat_minor": 5
}
