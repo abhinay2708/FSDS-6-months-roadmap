{
 "cells": [
  {
   "cell_type": "code",
   "execution_count": null,
   "id": "1c248fac",
   "metadata": {},
   "outputs": [],
   "source": [
    "import getpass\n",
    "import os\n",
    "\n",
    "if \"GROQ_API_KEY\" not in os.environ:\n",
    "    os.environ[\"GROQ_API_KEY\"] = getpass.getpass(\"gsk.......PTO\")"
   ]
  },
  {
   "cell_type": "code",
   "execution_count": 2,
   "id": "eaedd12b",
   "metadata": {},
   "outputs": [],
   "source": [
    "# Document Loader\n",
    "from langchain.document_loaders import TextLoader\n",
    "loader = TextLoader('corona.txt')\n",
    "documents = loader.load()"
   ]
  },
  {
   "cell_type": "code",
   "execution_count": 3,
   "id": "0cc46b10",
   "metadata": {},
   "outputs": [
    {
     "data": {
      "text/plain": [
       "[Document(metadata={'source': 'corona.txt'}, page_content='Coronavirus, also known as COVID-19, is a highly contagious virus that emerged in late 2019. It primarily spreads through respiratory droplets when an infected person coughs, sneezes, or talks. Common symptoms include fever, cough, fatigue, and difficulty breathing, though some people may be asymptomatic.\\n\\nPreventive measures are essential to reduce transmission, such as wearing masks, maintaining social distancing, practicing hand hygiene, and getting vaccinated. COVID-19 can lead to severe illness in older adults and people with underlying health conditions.\\n\\nGovernments worldwide have implemented strategies like lockdowns, travel restrictions, and mass vaccination campaigns to control the spread of the virus. Ongoing research continues to improve treatments and vaccines to combat the pandemic effectively.\\n')]"
      ]
     },
     "execution_count": 3,
     "metadata": {},
     "output_type": "execute_result"
    }
   ],
   "source": [
    "documents"
   ]
  },
  {
   "cell_type": "code",
   "execution_count": 4,
   "id": "4a4384fa",
   "metadata": {},
   "outputs": [],
   "source": [
    "import textwrap\n",
    "\n",
    "def wrap_text_preserve_newlines(text, width=110):\n",
    "    # Split the input text into lines based on newline characters\n",
    "    lines = text.split('\\n')\n",
    "\n",
    "    # Wrap each line individually\n",
    "    wrapped_lines = [textwrap.fill(line, width=width) for line in lines]\n",
    "\n",
    "    # Join the wrapped lines back together using newline characters\n",
    "    wrapped_text = '\\n'.join(wrapped_lines)\n",
    "\n",
    "    return wrapped_text"
   ]
  },
  {
   "cell_type": "code",
   "execution_count": 5,
   "id": "11da7a16",
   "metadata": {},
   "outputs": [
    {
     "name": "stdout",
     "output_type": "stream",
     "text": [
      "page_content='Coronavirus, also known as COVID-19, is a highly contagious virus that emerged in late 2019. It\n",
      "primarily spreads through respiratory droplets when an infected person coughs, sneezes, or talks. Common\n",
      "symptoms include fever, cough, fatigue, and difficulty breathing, though some people may be asymptomatic.\n",
      "\n",
      "Preventive measures are essential to reduce transmission, such as wearing masks, maintaining social\n",
      "distancing, practicing hand hygiene, and getting vaccinated. COVID-19 can lead to severe illness in older\n",
      "adults and people with underlying health conditions.\n",
      "\n",
      "Governments worldwide have implemented strategies like lockdowns, travel restrictions, and mass vaccination\n",
      "campaigns to control the spread of the virus. Ongoing research continues to improve treatments and vaccines to\n",
      "combat the pandemic effectively.\n",
      "' metadata={'source': 'corona.txt'}\n"
     ]
    }
   ],
   "source": [
    "print(wrap_text_preserve_newlines(str(documents[0])))"
   ]
  },
  {
   "cell_type": "code",
   "execution_count": 6,
   "id": "a4f04085",
   "metadata": {},
   "outputs": [],
   "source": [
    "# Text Splitter\n",
    "from langchain.text_splitter import CharacterTextSplitter\n",
    "text_splitter = CharacterTextSplitter(chunk_size=1000, chunk_overlap=0)\n",
    "docs = text_splitter.split_documents(documents)"
   ]
  },
  {
   "cell_type": "code",
   "execution_count": 7,
   "id": "9a5cc769",
   "metadata": {},
   "outputs": [
    {
     "data": {
      "text/plain": [
       "1"
      ]
     },
     "execution_count": 7,
     "metadata": {},
     "output_type": "execute_result"
    }
   ],
   "source": [
    "len(docs)"
   ]
  },
  {
   "cell_type": "code",
   "execution_count": 8,
   "id": "170b9031",
   "metadata": {},
   "outputs": [
    {
     "name": "stderr",
     "output_type": "stream",
     "text": [
      "c:\\Users\\abhin\\FSDS\\RAG\\rag_env\\lib\\site-packages\\langchain_core\\_api\\deprecation.py:139: LangChainDeprecationWarning: The class `HuggingFaceEmbeddings` was deprecated in LangChain 0.2.2 and will be removed in 0.3.0. An updated version of the class exists in the langchain-huggingface package and should be used instead. To use it run `pip install -U langchain-huggingface` and import as `from langchain_huggingface import HuggingFaceEmbeddings`.\n",
      "  warn_deprecated(\n",
      "c:\\Users\\abhin\\FSDS\\RAG\\rag_env\\lib\\site-packages\\sentence_transformers\\cross_encoder\\CrossEncoder.py:11: TqdmWarning: IProgress not found. Please update jupyter and ipywidgets. See https://ipywidgets.readthedocs.io/en/stable/user_install.html\n",
      "  from tqdm.autonotebook import tqdm, trange\n"
     ]
    }
   ],
   "source": [
    "from langchain.embeddings import HuggingFaceEmbeddings\n",
    "\n",
    "embeddings = HuggingFaceEmbeddings()"
   ]
  },
  {
   "cell_type": "code",
   "execution_count": 9,
   "id": "9df7d1b1",
   "metadata": {},
   "outputs": [],
   "source": [
    "from langchain.vectorstores import FAISS\n",
    "\n",
    "db = FAISS.from_documents(docs, embeddings)"
   ]
  },
  {
   "cell_type": "code",
   "execution_count": 10,
   "id": "1ad13b84",
   "metadata": {},
   "outputs": [],
   "source": [
    "query = \"explain about indian premier league\"\n",
    "docs = db.similarity_search(query)"
   ]
  },
  {
   "cell_type": "code",
   "execution_count": 11,
   "id": "6b01af38",
   "metadata": {},
   "outputs": [
    {
     "name": "stdout",
     "output_type": "stream",
     "text": [
      "Coronavirus, also known as COVID-19, is a highly contagious virus that emerged in late 2019. It primarily\n",
      "spreads through respiratory droplets when an infected person coughs, sneezes, or talks. Common symptoms\n",
      "include fever, cough, fatigue, and difficulty breathing, though some people may be asymptomatic.\n",
      "\n",
      "Preventive measures are essential to reduce transmission, such as wearing masks, maintaining social\n",
      "distancing, practicing hand hygiene, and getting vaccinated. COVID-19 can lead to severe illness in older\n",
      "adults and people with underlying health conditions.\n",
      "\n",
      "Governments worldwide have implemented strategies like lockdowns, travel restrictions, and mass vaccination\n",
      "campaigns to control the spread of the virus. Ongoing research continues to improve treatments and vaccines to\n",
      "combat the pandemic effectively.\n"
     ]
    }
   ],
   "source": [
    "print(wrap_text_preserve_newlines(str(docs[0].page_content)))"
   ]
  },
  {
   "cell_type": "code",
   "execution_count": 12,
   "id": "ba985db8",
   "metadata": {},
   "outputs": [],
   "source": [
    "from langchain_groq import ChatGroq\n",
    "\n",
    "GROQ_LLM = ChatGroq(\n",
    "    groq_api_key=\"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\",  # pass your actual key\n",
    "    model=\"gemma2-9b-it\"\n",
    ")"
   ]
  },
  {
   "cell_type": "code",
   "execution_count": 13,
   "id": "74fa632c",
   "metadata": {},
   "outputs": [],
   "source": [
    "from langchain.chains.question_answering import load_qa_chain\n",
    "\n",
    "chain = load_qa_chain(GROQ_LLM, chain_type=\"stuff\")"
   ]
  },
  {
   "cell_type": "code",
   "execution_count": 14,
   "id": "8381e6ad",
   "metadata": {},
   "outputs": [
    {
     "name": "stderr",
     "output_type": "stream",
     "text": [
      "c:\\Users\\abhin\\FSDS\\RAG\\rag_env\\lib\\site-packages\\langchain_core\\_api\\deprecation.py:139: LangChainDeprecationWarning: The method `Chain.run` was deprecated in langchain 0.1.0 and will be removed in 0.3.0. Use invoke instead.\n",
      "  warn_deprecated(\n"
     ]
    },
    {
     "data": {
      "text/plain": [
       "'Coronavirus, also known as COVID-19, is a highly contagious virus that emerged in late 2019. It spreads through respiratory droplets when an infected person coughs, sneezes, or talks.  \\n\\nCommon symptoms include fever, cough, fatigue, and difficulty breathing, but some people may not show any symptoms. \\n\\nPreventing its spread involves wearing masks, social distancing, good hand hygiene, and getting vaccinated. \\n\\nCOVID-19 can cause severe illness in older adults and people with health problems. \\n\\nGovernments worldwide have used strategies like lockdowns, travel restrictions, and mass vaccination to try and control the virus.  Research is ongoing to develop better treatments and vaccines. \\n'"
      ]
     },
     "execution_count": 14,
     "metadata": {},
     "output_type": "execute_result"
    }
   ],
   "source": [
    "query = \"tell me about corona virus\"\n",
    "docs = db.similarity_search(query)\n",
    "chain.run(input_documents=docs, question=query)"
   ]
  },
  {
   "cell_type": "code",
   "execution_count": 15,
   "id": "d0291bfa",
   "metadata": {},
   "outputs": [
    {
     "data": {
      "text/plain": [
       "'I don\\'t have information about a specific vaccine called \"covaccine.\" \\n\\nIt\\'s possible this is a regional or lesser-known vaccine name. To get accurate information, I recommend checking with reliable health sources like the World Health Organization (WHO) or your local health department. \\n'"
      ]
     },
     "execution_count": 15,
     "metadata": {},
     "output_type": "execute_result"
    }
   ],
   "source": [
    "query = \"Tell me about covaccine\"\n",
    "docs = db.similarity_search(query)\n",
    "chain.run(input_documents=docs, question=query)"
   ]
  },
  {
   "cell_type": "code",
   "execution_count": null,
   "id": "09c59f0a",
   "metadata": {},
   "outputs": [],
   "source": []
  }
 ],
 "metadata": {
  "kernelspec": {
   "display_name": "rag_env",
   "language": "python",
   "name": "python3"
  },
  "language_info": {
   "codemirror_mode": {
    "name": "ipython",
    "version": 3
   },
   "file_extension": ".py",
   "mimetype": "text/x-python",
   "name": "python",
   "nbconvert_exporter": "python",
   "pygments_lexer": "ipython3",
   "version": "3.10.0"
  }
 },
 "nbformat": 4,
 "nbformat_minor": 5
}
