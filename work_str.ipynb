{
 "cells": [
  {
   "cell_type": "code",
   "execution_count": 4,
   "id": "c658b6a2",
   "metadata": {},
   "outputs": [
    {
     "name": "stdout",
     "output_type": "stream",
     "text": [
      "abhinaymahatoichag\n"
     ]
    }
   ],
   "source": [
    "a=\"abhinay\"\n",
    "b=\"mahato\"\n",
    "c=\"ichag\"\n",
    "print(a+b+c)"
   ]
  },
  {
   "cell_type": "code",
   "execution_count": 1,
   "id": "9479a9bb",
   "metadata": {},
   "outputs": [],
   "source": [
    "language=\"PYTHON\""
   ]
  },
  {
   "cell_type": "code",
   "execution_count": 2,
   "id": "0773434a",
   "metadata": {},
   "outputs": [],
   "source": [
    "a,b,c,d,e,f=language"
   ]
  },
  {
   "cell_type": "code",
   "execution_count": 3,
   "id": "74e74061",
   "metadata": {},
   "outputs": [
    {
     "name": "stdout",
     "output_type": "stream",
     "text": [
      "P\n"
     ]
    }
   ],
   "source": [
    "print(a)"
   ]
  },
  {
   "cell_type": "code",
   "execution_count": 4,
   "id": "d4969b9a",
   "metadata": {},
   "outputs": [
    {
     "name": "stdout",
     "output_type": "stream",
     "text": [
      "P\n",
      "Y\n",
      "T\n",
      "H\n",
      "O\n",
      "N\n"
     ]
    }
   ],
   "source": [
    "print(a)\n",
    "print(b)\n",
    "print(c)\n",
    "print(d)\n",
    "print(e)\n",
    "print(f)"
   ]
  },
  {
   "cell_type": "code",
   "execution_count": 5,
   "id": "814f1f2c",
   "metadata": {},
   "outputs": [
    {
     "data": {
      "text/plain": [
       "'P'"
      ]
     },
     "execution_count": 5,
     "metadata": {},
     "output_type": "execute_result"
    }
   ],
   "source": [
    "language[0]"
   ]
  },
  {
   "cell_type": "code",
   "execution_count": 6,
   "id": "fdc6dd69",
   "metadata": {},
   "outputs": [
    {
     "data": {
      "text/plain": [
       "'PYT'"
      ]
     },
     "execution_count": 6,
     "metadata": {},
     "output_type": "execute_result"
    }
   ],
   "source": [
    "language[0:3]"
   ]
  },
  {
   "cell_type": "code",
   "execution_count": 14,
   "id": "816cf260",
   "metadata": {},
   "outputs": [],
   "source": [
    "a=\"Hi everyone, \\nWhat's going on?\""
   ]
  },
  {
   "cell_type": "code",
   "execution_count": 22,
   "id": "377b46c2",
   "metadata": {},
   "outputs": [
    {
     "name": "stdout",
     "output_type": "stream",
     "text": [
      "Hi everyone, \n",
      "What's going on?\n"
     ]
    }
   ],
   "source": [
    "print(a)"
   ]
  },
  {
   "cell_type": "code",
   "execution_count": 24,
   "id": "68f81e84",
   "metadata": {},
   "outputs": [],
   "source": [
    "h=\"Hi, \\nI am Abhinay Mahato,\\nWhat is your name?\""
   ]
  },
  {
   "cell_type": "code",
   "execution_count": 25,
   "id": "a8189a73",
   "metadata": {},
   "outputs": [
    {
     "name": "stdout",
     "output_type": "stream",
     "text": [
      "Hi, \n",
      "I am Abhinay Mahato,\n",
      "What is your name?\n"
     ]
    }
   ],
   "source": [
    "print(h)"
   ]
  },
  {
   "cell_type": "code",
   "execution_count": 18,
   "id": "ff4663e0",
   "metadata": {},
   "outputs": [
    {
     "name": "stdout",
     "output_type": "stream",
     "text": [
      "Hello\n",
      "World\n"
     ]
    }
   ],
   "source": [
    "print(\"Hello\\nWorld\")\n"
   ]
  },
  {
   "cell_type": "code",
   "execution_count": 29,
   "id": "d8ec7339",
   "metadata": {},
   "outputs": [
    {
     "name": "stdout",
     "output_type": "stream",
     "text": [
      "It is \tour\t 1st class in this \\python program bootcamp\n"
     ]
    }
   ],
   "source": [
    "b=\"It is \\tour\\t 1st class in this \\\\python program bootcamp\"\n",
    "print(b)"
   ]
  },
  {
   "cell_type": "code",
   "execution_count": 33,
   "id": "7f2e7c64",
   "metadata": {},
   "outputs": [
    {
     "data": {
      "text/plain": [
       "'It is \\tour\\t 1st class in this \\\\python program bootcamp'"
      ]
     },
     "execution_count": 33,
     "metadata": {},
     "output_type": "execute_result"
    }
   ],
   "source": [
    "b.capitalize()"
   ]
  },
  {
   "cell_type": "code",
   "execution_count": 34,
   "id": "3ed23a42",
   "metadata": {},
   "outputs": [
    {
     "name": "stdout",
     "output_type": "stream",
     "text": [
      "It is \tour\t 1st class in this \\python program bootcamp\n"
     ]
    }
   ],
   "source": [
    "print(b)"
   ]
  },
  {
   "cell_type": "code",
   "execution_count": 35,
   "id": "de2f919a",
   "metadata": {},
   "outputs": [
    {
     "name": "stdout",
     "output_type": "stream",
     "text": [
      "It is \tour\t 1st class in this \\python program bootcamp\n"
     ]
    }
   ],
   "source": [
    "print(b.capitalize())"
   ]
  },
  {
   "cell_type": "code",
   "execution_count": 36,
   "id": "ae15f392",
   "metadata": {},
   "outputs": [],
   "source": [
    "a=\"hi abhinay. wait for me bro\""
   ]
  },
  {
   "cell_type": "code",
   "execution_count": 37,
   "id": "8c8f5b86",
   "metadata": {},
   "outputs": [
    {
     "data": {
      "text/plain": [
       "'hi abhinay. wait for me bro'"
      ]
     },
     "execution_count": 37,
     "metadata": {},
     "output_type": "execute_result"
    }
   ],
   "source": [
    "a"
   ]
  },
  {
   "cell_type": "code",
   "execution_count": 38,
   "id": "80b26cb0",
   "metadata": {},
   "outputs": [
    {
     "name": "stdout",
     "output_type": "stream",
     "text": [
      "Hi abhinay. wait for me bro\n"
     ]
    }
   ],
   "source": [
    "print(a.capitalize())"
   ]
  },
  {
   "cell_type": "code",
   "execution_count": 39,
   "id": "7f1a172d",
   "metadata": {},
   "outputs": [
    {
     "name": "stdout",
     "output_type": "stream",
     "text": [
      "3\n"
     ]
    }
   ],
   "source": [
    "print(a.count('a'))"
   ]
  },
  {
   "cell_type": "code",
   "execution_count": 41,
   "id": "ebeb5e9e",
   "metadata": {},
   "outputs": [
    {
     "name": "stdout",
     "output_type": "stream",
     "text": [
      "2\n"
     ]
    }
   ],
   "source": [
    "print(a.count('a',0,10))"
   ]
  },
  {
   "cell_type": "code",
   "execution_count": 42,
   "id": "7192f99e",
   "metadata": {},
   "outputs": [
    {
     "name": "stdout",
     "output_type": "stream",
     "text": [
      "True\n"
     ]
    }
   ],
   "source": [
    "print(a.endswith('o'))"
   ]
  },
  {
   "cell_type": "code",
   "execution_count": 44,
   "id": "0b856b5a",
   "metadata": {},
   "outputs": [
    {
     "name": "stdout",
     "output_type": "stream",
     "text": [
      "False\n"
     ]
    }
   ],
   "source": [
    "print(a.endswith('hi'))"
   ]
  },
  {
   "cell_type": "code",
   "execution_count": 45,
   "id": "2249fdf8",
   "metadata": {},
   "outputs": [
    {
     "data": {
      "text/plain": [
       "'hi abhinay. wait for me bro'"
      ]
     },
     "execution_count": 45,
     "metadata": {},
     "output_type": "execute_result"
    }
   ],
   "source": [
    "a"
   ]
  },
  {
   "cell_type": "code",
   "execution_count": 47,
   "id": "954f8516",
   "metadata": {},
   "outputs": [
    {
     "name": "stdout",
     "output_type": "stream",
     "text": [
      "hi abhinay. wait for me bro\n"
     ]
    }
   ],
   "source": [
    "print(a.expandtabs(10))"
   ]
  },
  {
   "cell_type": "code",
   "execution_count": 48,
   "id": "feccce46",
   "metadata": {},
   "outputs": [
    {
     "data": {
      "text/plain": [
       "'It is \\tour\\t 1st class in this \\\\python program bootcamp'"
      ]
     },
     "execution_count": 48,
     "metadata": {},
     "output_type": "execute_result"
    }
   ],
   "source": [
    "b"
   ]
  },
  {
   "cell_type": "code",
   "execution_count": 49,
   "id": "1bba1dbf",
   "metadata": {},
   "outputs": [],
   "source": [
    "c=\"We \\tlive \\tin \\tHyderabad.\""
   ]
  },
  {
   "cell_type": "code",
   "execution_count": 50,
   "id": "f19f6b47",
   "metadata": {},
   "outputs": [
    {
     "name": "stdout",
     "output_type": "stream",
     "text": [
      "We \tlive \tin \tHyderabad.\n"
     ]
    }
   ],
   "source": [
    "print(c)"
   ]
  },
  {
   "cell_type": "code",
   "execution_count": 51,
   "id": "b2b41f01",
   "metadata": {},
   "outputs": [
    {
     "name": "stdout",
     "output_type": "stream",
     "text": [
      "We      live    in      Hyderabad.\n"
     ]
    }
   ],
   "source": [
    "print(c.expandtabs())"
   ]
  },
  {
   "cell_type": "code",
   "execution_count": 53,
   "id": "5cbcd1d9",
   "metadata": {},
   "outputs": [
    {
     "name": "stdout",
     "output_type": "stream",
     "text": [
      "We             live           in             Hyderabad.\n"
     ]
    }
   ],
   "source": [
    "print(c.expandtabs(15))"
   ]
  },
  {
   "cell_type": "code",
   "execution_count": 54,
   "id": "9f497b3c",
   "metadata": {},
   "outputs": [
    {
     "data": {
      "text/plain": [
       "'hi abhinay. wait for me bro'"
      ]
     },
     "execution_count": 54,
     "metadata": {},
     "output_type": "execute_result"
    }
   ],
   "source": [
    "a"
   ]
  },
  {
   "cell_type": "code",
   "execution_count": 55,
   "id": "1df76aeb",
   "metadata": {},
   "outputs": [
    {
     "name": "stdout",
     "output_type": "stream",
     "text": [
      "3\n"
     ]
    }
   ],
   "source": [
    "print(a.find('a'))"
   ]
  },
  {
   "cell_type": "code",
   "execution_count": 56,
   "id": "994cd964",
   "metadata": {},
   "outputs": [
    {
     "name": "stdout",
     "output_type": "stream",
     "text": [
      "My name is Abhinay Mahato, I am From West Bengal, and my age is 24\n"
     ]
    }
   ],
   "source": [
    "a=\"Abhinay Mahato\"\n",
    "b=\"West Bengal\"\n",
    "c=\"24\"\n",
    "s=\"My name is {}, I am From {}, and my age is {}\".format(a,b,c)\n",
    "print(s)"
   ]
  },
  {
   "cell_type": "code",
   "execution_count": 57,
   "id": "d423be95",
   "metadata": {},
   "outputs": [
    {
     "name": "stdout",
     "output_type": "stream",
     "text": [
      "True\n"
     ]
    }
   ],
   "source": [
    "x=\"abhi\"\n",
    "print(x.isalnum())"
   ]
  },
  {
   "cell_type": "code",
   "execution_count": 58,
   "id": "d4b2155a",
   "metadata": {},
   "outputs": [
    {
     "name": "stdout",
     "output_type": "stream",
     "text": [
      "False\n"
     ]
    }
   ],
   "source": [
    "x=\"abhi nay\"\n",
    "print(x.isalnum())"
   ]
  },
  {
   "cell_type": "code",
   "execution_count": 59,
   "id": "e5789eb9",
   "metadata": {},
   "outputs": [
    {
     "name": "stdout",
     "output_type": "stream",
     "text": [
      "True\n"
     ]
    }
   ],
   "source": [
    "print(\"123\".isdecimal())"
   ]
  },
  {
   "cell_type": "code",
   "execution_count": 60,
   "id": "5f0c2002",
   "metadata": {},
   "outputs": [
    {
     "name": "stdout",
     "output_type": "stream",
     "text": [
      "False\n"
     ]
    }
   ],
   "source": [
    "print(\"2.3\".isdecimal())"
   ]
  },
  {
   "cell_type": "code",
   "execution_count": 61,
   "id": "929ead50",
   "metadata": {},
   "outputs": [
    {
     "name": "stdout",
     "output_type": "stream",
     "text": [
      "['False', 'None', 'True', 'and', 'as', 'assert', 'async', 'await', 'break', 'class', 'continue', 'def', 'del', 'elif', 'else', 'except', 'finally', 'for', 'from', 'global', 'if', 'import', 'in', 'is', 'lambda', 'nonlocal', 'not', 'or', 'pass', 'raise', 'return', 'try', 'while', 'with', 'yield']\n"
     ]
    }
   ],
   "source": [
    "import keyword\n",
    "print(keyword.kwlist)"
   ]
  },
  {
   "cell_type": "code",
   "execution_count": null,
   "id": "59cd4d4d",
   "metadata": {},
   "outputs": [],
   "source": [
    "a=\"abhinay mahato ichag jhalda\""
   ]
  },
  {
   "cell_type": "code",
   "execution_count": 63,
   "id": "c58ba7d3",
   "metadata": {},
   "outputs": [
    {
     "name": "stdout",
     "output_type": "stream",
     "text": [
      "Abhinay mahato ichag jhalda\n"
     ]
    }
   ],
   "source": [
    "print(a.capitalize())"
   ]
  },
  {
   "cell_type": "code",
   "execution_count": 64,
   "id": "28446e3b",
   "metadata": {},
   "outputs": [
    {
     "name": "stdout",
     "output_type": "stream",
     "text": [
      "Abhinay Mahato Ichag Jhalda\n"
     ]
    }
   ],
   "source": [
    "print(a.title())"
   ]
  },
  {
   "cell_type": "code",
   "execution_count": 65,
   "id": "cdf1d905",
   "metadata": {},
   "outputs": [
    {
     "data": {
      "text/plain": [
       "'abhinay mahato ichag jhalda'"
      ]
     },
     "execution_count": 65,
     "metadata": {},
     "output_type": "execute_result"
    }
   ],
   "source": [
    "a"
   ]
  },
  {
   "cell_type": "code",
   "execution_count": 66,
   "id": "86da3373",
   "metadata": {},
   "outputs": [
    {
     "name": "stdout",
     "output_type": "stream",
     "text": [
      "ABHINAY MAHATO ICHAG JHALDA\n"
     ]
    }
   ],
   "source": [
    "print(a.upper())"
   ]
  },
  {
   "cell_type": "code",
   "execution_count": 67,
   "id": "8c8c64e7",
   "metadata": {},
   "outputs": [
    {
     "name": "stdout",
     "output_type": "stream",
     "text": [
      "abhinay mahato ichag jhalda\n"
     ]
    }
   ],
   "source": [
    "print(a.lower())"
   ]
  },
  {
   "cell_type": "code",
   "execution_count": 68,
   "id": "fbacce20",
   "metadata": {},
   "outputs": [
    {
     "name": "stdout",
     "output_type": "stream",
     "text": [
      "Abhinay Mahato Ichag Jhalda\n"
     ]
    }
   ],
   "source": [
    "print(a.title())"
   ]
  },
  {
   "cell_type": "code",
   "execution_count": 69,
   "id": "46a3f46c",
   "metadata": {},
   "outputs": [],
   "source": [
    "b=\"abhinay123\""
   ]
  },
  {
   "cell_type": "code",
   "execution_count": 70,
   "id": "b36cd39f",
   "metadata": {},
   "outputs": [
    {
     "name": "stdout",
     "output_type": "stream",
     "text": [
      "False\n"
     ]
    }
   ],
   "source": [
    "print(b.isalpha())"
   ]
  },
  {
   "cell_type": "code",
   "execution_count": 71,
   "id": "3f4e98c1",
   "metadata": {},
   "outputs": [
    {
     "name": "stdout",
     "output_type": "stream",
     "text": [
      "False\n"
     ]
    }
   ],
   "source": [
    "print(b.isnumeric())"
   ]
  },
  {
   "cell_type": "code",
   "execution_count": 72,
   "id": "f9a62b99",
   "metadata": {},
   "outputs": [
    {
     "name": "stdout",
     "output_type": "stream",
     "text": [
      "True\n"
     ]
    }
   ],
   "source": [
    "print(b.isalnum())"
   ]
  },
  {
   "cell_type": "code",
   "execution_count": 73,
   "id": "45349173",
   "metadata": {},
   "outputs": [
    {
     "name": "stdout",
     "output_type": "stream",
     "text": [
      "ABHINAY123\n"
     ]
    }
   ],
   "source": [
    "print(b.upper())"
   ]
  },
  {
   "cell_type": "code",
   "execution_count": 74,
   "id": "db0b7da6",
   "metadata": {},
   "outputs": [
    {
     "name": "stdout",
     "output_type": "stream",
     "text": [
      "Abhinay123\n"
     ]
    }
   ],
   "source": [
    "print(b.title())"
   ]
  },
  {
   "cell_type": "code",
   "execution_count": 75,
   "id": "3888a7ae",
   "metadata": {},
   "outputs": [],
   "source": [
    "a=[\"abhinay\",\"mahato\",\"Ichag\"]\n",
    "b=\"--\".join(a)"
   ]
  },
  {
   "cell_type": "code",
   "execution_count": 76,
   "id": "b944b570",
   "metadata": {},
   "outputs": [
    {
     "name": "stdout",
     "output_type": "stream",
     "text": [
      "abhinay--mahato--Ichag\n"
     ]
    }
   ],
   "source": [
    "print(b)"
   ]
  },
  {
   "cell_type": "code",
   "execution_count": 77,
   "id": "078aa562",
   "metadata": {},
   "outputs": [
    {
     "name": "stdout",
     "output_type": "stream",
     "text": [
      "aBHINAY mAHATO iCHAG\n"
     ]
    }
   ],
   "source": [
    "a=\"Abhinay Mahato Ichag\"\n",
    "print(a.swapcase())"
   ]
  },
  {
   "cell_type": "code",
   "execution_count": 78,
   "id": "28712b4b",
   "metadata": {},
   "outputs": [
    {
     "name": "stdout",
     "output_type": "stream",
     "text": [
      "['Abhinay', 'Mahato', 'Ichag']\n"
     ]
    }
   ],
   "source": [
    "print(a.split())"
   ]
  },
  {
   "cell_type": "code",
   "execution_count": 79,
   "id": "dcdfe056",
   "metadata": {},
   "outputs": [
    {
     "name": "stdout",
     "output_type": "stream",
     "text": [
      "['Abhinay Mahato Ichag']\n"
     ]
    }
   ],
   "source": [
    "print(a.splitlines())"
   ]
  },
  {
   "cell_type": "code",
   "execution_count": 80,
   "id": "c9995afa",
   "metadata": {},
   "outputs": [],
   "source": [
    "b=\"    abhinay    mahato\""
   ]
  },
  {
   "cell_type": "code",
   "execution_count": 81,
   "id": "293cb2c5",
   "metadata": {},
   "outputs": [
    {
     "data": {
      "text/plain": [
       "'    abhinay    mahato'"
      ]
     },
     "execution_count": 81,
     "metadata": {},
     "output_type": "execute_result"
    }
   ],
   "source": [
    "b"
   ]
  },
  {
   "cell_type": "code",
   "execution_count": 83,
   "id": "f25bb6cb",
   "metadata": {},
   "outputs": [
    {
     "name": "stdout",
     "output_type": "stream",
     "text": [
      "abhinay    mahato\n"
     ]
    }
   ],
   "source": [
    "print(b.strip())"
   ]
  },
  {
   "cell_type": "code",
   "execution_count": 84,
   "id": "18bada03",
   "metadata": {},
   "outputs": [
    {
     "data": {
      "text/plain": [
       "'Abhinay Mahato Ichag'"
      ]
     },
     "execution_count": 84,
     "metadata": {},
     "output_type": "execute_result"
    }
   ],
   "source": [
    "a"
   ]
  },
  {
   "cell_type": "code",
   "execution_count": 88,
   "id": "12edd4da",
   "metadata": {},
   "outputs": [
    {
     "name": "stdout",
     "output_type": "stream",
     "text": [
      "True\n"
     ]
    }
   ],
   "source": [
    "print(a.startswith(\"Abhinay\"))"
   ]
  },
  {
   "cell_type": "code",
   "execution_count": null,
   "id": "bcbb160d",
   "metadata": {},
   "outputs": [],
   "source": []
  }
 ],
 "metadata": {
  "kernelspec": {
   "display_name": "base",
   "language": "python",
   "name": "python3"
  },
  "language_info": {
   "codemirror_mode": {
    "name": "ipython",
    "version": 3
   },
   "file_extension": ".py",
   "mimetype": "text/x-python",
   "name": "python",
   "nbconvert_exporter": "python",
   "pygments_lexer": "ipython3",
   "version": "3.12.7"
  }
 },
 "nbformat": 4,
 "nbformat_minor": 5
}
