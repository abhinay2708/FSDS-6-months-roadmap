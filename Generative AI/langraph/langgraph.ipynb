{
 "cells": [
  {
   "cell_type": "code",
   "execution_count": null,
   "id": "665308ac",
   "metadata": {},
   "outputs": [],
   "source": [
    "# pip install langgraph langsmith\n",
    "# pip install langchain langchain_groq langchain_community"
   ]
  },
  {
   "cell_type": "code",
   "execution_count": null,
   "id": "18e5cc01",
   "metadata": {},
   "outputs": [],
   "source": [
    "groq_api_key='gsk.......PTO'\n",
    "langsmith='lsv......26d'"
   ]
  },
  {
   "cell_type": "code",
   "execution_count": 2,
   "id": "8c0f2648",
   "metadata": {},
   "outputs": [
    {
     "name": "stderr",
     "output_type": "stream",
     "text": [
      "None of PyTorch, TensorFlow >= 2.0, or Flax have been found. Models won't be available and only tokenizers, configuration and file/data utilities can be used.\n"
     ]
    }
   ],
   "source": [
    "from langchain_groq import ChatGroq"
   ]
  },
  {
   "cell_type": "code",
   "execution_count": 3,
   "id": "a3dc5a51",
   "metadata": {},
   "outputs": [],
   "source": [
    "llm= ChatGroq(groq_api_key=groq_api_key, model_name=\"Gemma2-9b-It\")"
   ]
  },
  {
   "cell_type": "code",
   "execution_count": 4,
   "id": "f7056fde",
   "metadata": {},
   "outputs": [
    {
     "data": {
      "text/plain": [
       "ChatGroq(client=<groq.resources.chat.completions.Completions object at 0x000001876BF15C70>, async_client=<groq.resources.chat.completions.AsyncCompletions object at 0x000001874FC51DC0>, model_name='Gemma2-9b-It', model_kwargs={}, groq_api_key=SecretStr('**********'))"
      ]
     },
     "execution_count": 4,
     "metadata": {},
     "output_type": "execute_result"
    }
   ],
   "source": [
    "llm"
   ]
  },
  {
   "cell_type": "code",
   "execution_count": 5,
   "id": "648bff5d",
   "metadata": {},
   "outputs": [],
   "source": [
    "from typing import Annotated\n",
    "from typing_extensions import TypedDict\n",
    "from langgraph.graph import StateGraph, START, END\n",
    "from langgraph.graph.message import add_messages"
   ]
  },
  {
   "cell_type": "code",
   "execution_count": 6,
   "id": "eab780af",
   "metadata": {},
   "outputs": [],
   "source": [
    "class State(TypedDict):\n",
    "    messages: Annotated[list, add_messages]\n",
    "    \n",
    "graph_builder= StateGraph(State)"
   ]
  },
  {
   "cell_type": "code",
   "execution_count": 7,
   "id": "539a1c9d",
   "metadata": {},
   "outputs": [
    {
     "data": {
      "text/plain": [
       "<langgraph.graph.state.StateGraph at 0x1876c128a10>"
      ]
     },
     "execution_count": 7,
     "metadata": {},
     "output_type": "execute_result"
    }
   ],
   "source": [
    "graph_builder"
   ]
  },
  {
   "cell_type": "code",
   "execution_count": 8,
   "id": "a7d420e3",
   "metadata": {},
   "outputs": [],
   "source": [
    "def chatbot(state: State):\n",
    "    return {\"messages\": llm.invoke(state[\"messages\"])}"
   ]
  },
  {
   "cell_type": "code",
   "execution_count": 9,
   "id": "30195d89",
   "metadata": {},
   "outputs": [
    {
     "data": {
      "text/plain": [
       "<langgraph.graph.state.StateGraph at 0x1876c128a10>"
      ]
     },
     "execution_count": 9,
     "metadata": {},
     "output_type": "execute_result"
    }
   ],
   "source": [
    "graph_builder.add_node(\"chatbot\", chatbot)"
   ]
  },
  {
   "cell_type": "code",
   "execution_count": 10,
   "id": "1638c457",
   "metadata": {},
   "outputs": [
    {
     "data": {
      "text/plain": [
       "<langgraph.graph.state.StateGraph at 0x1876c128a10>"
      ]
     },
     "execution_count": 10,
     "metadata": {},
     "output_type": "execute_result"
    }
   ],
   "source": [
    "graph_builder"
   ]
  },
  {
   "cell_type": "code",
   "execution_count": 11,
   "id": "e279492c",
   "metadata": {},
   "outputs": [
    {
     "data": {
      "text/plain": [
       "<langgraph.graph.state.StateGraph at 0x1876c128a10>"
      ]
     },
     "execution_count": 11,
     "metadata": {},
     "output_type": "execute_result"
    }
   ],
   "source": [
    "graph_builder.add_edge(START, \"chatbot\")\n",
    "graph_builder.add_edge(\"chatbot\", END)"
   ]
  },
  {
   "cell_type": "code",
   "execution_count": 12,
   "id": "633385f4",
   "metadata": {},
   "outputs": [],
   "source": [
    "graph=graph_builder.compile()"
   ]
  },
  {
   "cell_type": "code",
   "execution_count": 13,
   "id": "55c7cfd4",
   "metadata": {},
   "outputs": [
    {
     "data": {
      "image/png": "[encoded data removed]",
      "text/plain": [
       "<IPython.core.display.Image object>"
      ]
     },
     "metadata": {},
     "output_type": "display_data"
    }
   ],
   "source": [
    "from IPython.display import Image, display\n",
    "try:\n",
    "    display(Image(graph.get_graph().draw_mermaid_png()))\n",
    "except Exception:\n",
    "    pass"
   ]
  },
  {
   "cell_type": "code",
   "execution_count": 14,
   "id": "7faa30a6",
   "metadata": {},
   "outputs": [
    {
     "name": "stdout",
     "output_type": "stream",
     "text": [
      "dict_values([{'messages': AIMessage(content='Hello! 👋 \\n\\nWhat can I do for you today? 😊\\n', additional_kwargs={}, response_metadata={'token_usage': {'completion_tokens': 17, 'prompt_tokens': 11, 'total_tokens': 28, 'completion_time': 0.030909091, 'prompt_time': 0.001177511, 'queue_time': 0.322808848, 'total_time': 0.032086602}, 'model_name': 'Gemma2-9b-It', 'system_fingerprint': 'fp_10c08bf97d', 'finish_reason': 'stop', 'logprobs': None}, id='run--00ad0e24-c38c-4d8d-abf6-0ebba6290cd9-0', usage_metadata={'input_tokens': 11, 'output_tokens': 17, 'total_tokens': 28})}])\n",
      "content='Hello! 👋 \\n\\nWhat can I do for you today? 😊\\n' additional_kwargs={} response_metadata={'token_usage': {'completion_tokens': 17, 'prompt_tokens': 11, 'total_tokens': 28, 'completion_time': 0.030909091, 'prompt_time': 0.001177511, 'queue_time': 0.322808848, 'total_time': 0.032086602}, 'model_name': 'Gemma2-9b-It', 'system_fingerprint': 'fp_10c08bf97d', 'finish_reason': 'stop', 'logprobs': None} id='run--00ad0e24-c38c-4d8d-abf6-0ebba6290cd9-0' usage_metadata={'input_tokens': 11, 'output_tokens': 17, 'total_tokens': 28}\n",
      "Assistant: Hello! 👋 \n",
      "\n",
      "What can I do for you today? 😊\n",
      "\n",
      "Good Bye\n"
     ]
    }
   ],
   "source": [
    "while True:\n",
    "    user_input=input(\"User: \")\n",
    "    if user_input.lower() in [\"quit\", \"q\"]:\n",
    "        print(\"Good Bye\")\n",
    "        break\n",
    "    for event in graph.stream({'messages':(\"user\", user_input)}):\n",
    "        print(event.values())\n",
    "        for value in event.values():\n",
    "            print(value['messages'])\n",
    "            print(\"Assistant:\", value[\"messages\"].content)"
   ]
  },
  {
   "cell_type": "code",
   "execution_count": null,
   "id": "7807bfc0",
   "metadata": {},
   "outputs": [],
   "source": []
  }
 ],
 "metadata": {
  "kernelspec": {
   "display_name": "base",
   "language": "python",
   "name": "python3"
  },
  "language_info": {
   "codemirror_mode": {
    "name": "ipython",
    "version": 3
   },
   "file_extension": ".py",
   "mimetype": "text/x-python",
   "name": "python",
   "nbconvert_exporter": "python",
   "pygments_lexer": "ipython3",
   "version": "3.12.7"
  }
 },
 "nbformat": 4,
 "nbformat_minor": 5
}
