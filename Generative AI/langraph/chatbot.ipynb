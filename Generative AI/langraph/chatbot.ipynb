{
 "cells": [
  {
   "cell_type": "markdown",
   "id": "bae69af7",
   "metadata": {},
   "source": [
    "# **Single-Agent & Multi-Agent Stateful Chatbot using LangGraph and ChatGroq**\n",
    "\n",
    "-->In this project, I built a stateful chatbot workflow using LangGraph and ChatGroq (Gemma2-9b-It). The workflow is designed to handle messages sequentially through multiple processing nodes, maintaining a structured state throughout the conversation.\n",
    "\n",
    "**Key Components:**\n",
    "\n",
    "**1. State Definition**\n",
    "\n",
    "A State object is defined using TypedDict, containing:\n",
    "* messages: a list of messages exchanged in the conversation, annotated with add_messages to track incoming messages.\n",
    "* sentiment: a string to store the sentiment of the latest message.\n",
    "\n",
    "**2. Workflow Nodes**\n",
    "\n",
    "The workflow consists of four nodes, each performing a specific task:\n",
    "* Preprocessing Node (preprocess): Cleans and trims the latest user message to remove extra whitespace.\n",
    "* Sentiment Analysis Node (analyze_sentiment): Determines whether the user’s message is “positive” or “neutral” based on simple keyword detection.\n",
    "* Chatbot Node (chatbot): Uses the LLM (ChatGroq) to generate responses based on the conversation history.\n",
    "* Logging Node (logger): Logs the message content and detected sentiment for debugging and monitoring purposes.\n",
    "\n",
    "**3. StateGraph Construction**\n",
    "\n",
    "* Nodes are added to a StateGraph object in a defined sequence.\n",
    "* Edges are created to define the workflow:\n",
    "* START → preprocess → analyze_sentiment → chatbot → logger → END.\n",
    "* The graph is then compiled into a runnable object, allowing messages to flow through the nodes automatically.\n",
    "\n",
    "**4. Visualization**\n",
    "\n",
    "* We attempted to visualize the workflow using draw_mermaid_png() to generate a Mermaid-based PNG graph.\n",
    "* Visualization may fail in Jupyter due to environment constraints (e.g., pyppeteer/Chromium issues), but the workflow itself remains functional.\n",
    "\n",
    "**5. Message Processing**\n",
    "\n",
    "* Messages are sent to the compiled graph using invoke().\n",
    "* The graph processes each message sequentially through the nodes.\n",
    "* The final state captures:\n",
    "* The LLM’s response (messages[-1].content).\n",
    "* Detected sentiment (sentiment).\n",
    "\n",
    "**Results**\n",
    "\n",
    "* Example runs demonstrate how different input messages are processed, producing both chatbot responses and sentiment analysis results.\n",
    "* Multiple messages can be handled iteratively while maintaining state, enabling a stateful conversational experience.\n",
    "\n",
    "**Key Advantages:**\n",
    "\n",
    "* Modular design allows adding more nodes (e.g., topic detection, translation) easily.\n",
    "* Maintains conversation context, unlike stateless models.\n",
    "* Supports multi-agent workflows in future expansions.\n",
    "\n",
    "**Technologies Used:**\n",
    "\n",
    "* LangGraph: For building and managing stateful node-based workflows.\n",
    "* LangChain & ChatGroq: For LLM-based chatbot responses.\n",
    "* Python (TypedDict & Annotated types): For clear state typing and structure."
   ]
  },
  {
   "cell_type": "code",
   "execution_count": null,
   "id": "d01c7a29",
   "metadata": {},
   "outputs": [],
   "source": [
    "# pip install langgraph langsmith\n",
    "# pip install langchain langchain_groq langchain_community"
   ]
  },
  {
   "cell_type": "markdown",
   "id": "fc99f708",
   "metadata": {},
   "source": [
    "# Import libraries"
   ]
  },
  {
   "cell_type": "code",
   "execution_count": null,
   "id": "67e45c99",
   "metadata": {},
   "outputs": [],
   "source": [
    "from langchain_groq import ChatGroq\n",
    "from typing import Annotated\n",
    "from typing_extensions import TypedDict\n",
    "from langgraph.graph import StateGraph, START, END\n",
    "from langgraph.graph.message import add_messages\n",
    "from IPython.display import Image, display"
   ]
  },
  {
   "cell_type": "markdown",
   "id": "588fbcd4",
   "metadata": {},
   "source": [
    "**Initialize the Groq LLM client**\n",
    "\n",
    "**`groq_api_key` is our API key for authentication with Groq services**\n",
    "\n",
    "**`llm` is an instance of ChatGroq using the model \"Gemma2-9b-It\"**\n",
    "\n",
    "**`langsmith` seems to be your LangSmith API key for logging, tracking, or evaluation purposes**"
   ]
  },
  {
   "cell_type": "code",
   "execution_count": null,
   "id": "0535b778",
   "metadata": {},
   "outputs": [],
   "source": [
    "groq_api_key='gsk.......PTO'\n",
    "llm = ChatGroq(groq_api_key=groq_api_key, model_name=\"Gemma2-9b-It\")\n",
    "langsmith='lsv2..........26d'"
   ]
  },
  {
   "cell_type": "markdown",
   "id": "0c8ce38d",
   "metadata": {},
   "source": [
    "**This `llm` object allows you to send messages to the \"Gemma2-9b-It\" model and receive responses from it.**"
   ]
  },
  {
   "cell_type": "code",
   "execution_count": 3,
   "id": "21f8bef4",
   "metadata": {},
   "outputs": [
    {
     "data": {
      "text/plain": [
       "ChatGroq(client=<groq.resources.chat.completions.Completions object at 0x0000011730C5FA10>, async_client=<groq.resources.chat.completions.AsyncCompletions object at 0x0000011730E44680>, model_name='Gemma2-9b-It', model_kwargs={}, groq_api_key=SecretStr('**********'))"
      ]
     },
     "execution_count": 3,
     "metadata": {},
     "output_type": "execute_result"
    }
   ],
   "source": [
    "llm= ChatGroq(groq_api_key=groq_api_key, model_name=\"Gemma2-9b-It\")\n",
    "llm"
   ]
  },
  {
   "cell_type": "markdown",
   "id": "788e7883",
   "metadata": {},
   "source": [
    "**Define the structure of the state used in the graph**\n",
    "\n",
    "**`State` is a TypedDict with a single key 'messages'**\n",
    "\n",
    "- 'messages' is a list that will store chat messages\n",
    "- `add_messages` is a helper that manages appending new messages\n",
    "\n",
    "**Create a StateGraph instance using this State**\n",
    "**`graph_builder` will be used to add nodes and edges for the workflow**\n"
   ]
  },
  {
   "cell_type": "code",
   "execution_count": 4,
   "id": "fc6c540e",
   "metadata": {},
   "outputs": [
    {
     "data": {
      "text/plain": [
       "<langgraph.graph.state.StateGraph at 0x11730b5f8f0>"
      ]
     },
     "execution_count": 4,
     "metadata": {},
     "output_type": "execute_result"
    }
   ],
   "source": [
    "class State(TypedDict):\n",
    "    messages: Annotated[list, add_messages]\n",
    "    \n",
    "graph_builder= StateGraph(State)\n",
    "graph_builder"
   ]
  },
  {
   "cell_type": "markdown",
   "id": "a6c3fbea",
   "metadata": {},
   "source": [
    "* Define the chatbot node for the StateGraph\n",
    "* This function takes the current `state` as input\n",
    "* It calls the LLM (`llm`) with the state's messages\n",
    "* Returns a new state dictionary containing only the updated 'messages'"
   ]
  },
  {
   "cell_type": "code",
   "execution_count": 5,
   "id": "f37a8a3b",
   "metadata": {},
   "outputs": [],
   "source": [
    "def chatbot(state: State):\n",
    "    return {\"messages\": llm.invoke(state[\"messages\"])}"
   ]
  },
  {
   "cell_type": "code",
   "execution_count": null,
   "id": "8f8360b6",
   "metadata": {},
   "outputs": [
    {
     "data": {
      "text/plain": [
       "<langgraph.graph.state.StateGraph at 0x11730b5f8f0>"
      ]
     },
     "execution_count": 6,
     "metadata": {},
     "output_type": "execute_result"
    }
   ],
   "source": [
    "graph_builder.add_node(\"chatbot\", chatbot)  # This node will execute the `chatbot` function whenever the graph reaches it"
   ]
  },
  {
   "cell_type": "markdown",
   "id": "023318de",
   "metadata": {},
   "source": [
    "* Define the flow of the graph by connecting nodes with edges\n",
    "* Connect the START node to the \"chatbot\" node\n",
    "* This means the graph execution will begin at the chatbot node\n",
    "* Connect the \"chatbot\" node to the END node\n",
    "* This marks the chatbot as the final step before the graph finishes"
   ]
  },
  {
   "cell_type": "code",
   "execution_count": 7,
   "id": "2bb7836f",
   "metadata": {},
   "outputs": [
    {
     "data": {
      "text/plain": [
       "<langgraph.graph.state.StateGraph at 0x11730b5f8f0>"
      ]
     },
     "execution_count": 7,
     "metadata": {},
     "output_type": "execute_result"
    }
   ],
   "source": [
    "graph_builder.add_edge(START, \"chatbot\")\n",
    "graph_builder.add_edge(\"chatbot\", END)"
   ]
  },
  {
   "cell_type": "code",
   "execution_count": null,
   "id": "80f0a408",
   "metadata": {},
   "outputs": [],
   "source": [
    "# Compile the StateGraph into an executable graph object\n",
    "graph=graph_builder.compile()  # `graph` now contains the full workflow and can be invoked with input states"
   ]
  },
  {
   "cell_type": "code",
   "execution_count": null,
   "id": "df2dd2ae",
   "metadata": {},
   "outputs": [
    {
     "data": {
      "image/png": "[encoded data removed]",
      "text/plain": [
       "<IPython.core.display.Image object>"
      ]
     },
     "metadata": {},
     "output_type": "display_data"
    }
   ],
   "source": [
    "# generates a visual representation of the workflow\n",
    "try:\n",
    "    display(Image(graph.get_graph().draw_mermaid_png()))\n",
    "except Exception:\n",
    "    pass"
   ]
  },
  {
   "cell_type": "code",
   "execution_count": null,
   "id": "69f7784e",
   "metadata": {},
   "outputs": [
    {
     "name": "stdout",
     "output_type": "stream",
     "text": [
      "dict_values([{'messages': AIMessage(content=\"## Data Scientist Scope in 2025: Expanding Horizons\\n\\nThe data science landscape is constantly evolving, and by 2025, data scientists will be in even higher demand than today. \\n\\nHere's a glimpse into the potential scope of data science in 2025:\\n\\n**1. Growing Demand & Specialization:**\\n\\n* **Increased demand:** The volume of data generated will continue to explode, driving a surge in demand for skilled data scientists across industries. \\n* **Niche specialization:** We'll see more data scientists specializing in specific domains like healthcare, finance, cybersecurity, or AI ethics. \\n* **Focus on practical skills:**  Emphasis will shift towards applying data science to real-world problems, requiring data scientists to be both technically proficient and business-savvy.\\n\\n**2.  Emerging Technologies & Trends:**\\n\\n* **AI & Machine Learning:**  Data scientists will play a crucial role in developing and deploying advanced AI models across various applications like autonomous vehicles, personalized medicine, and fraud detection.\\n* **Cloud Computing:**  Cloud platforms will continue to dominate, requiring data scientists to be comfortable working with cloud-based tools and technologies.\\n* **Edge Computing:**  Data processing at the edge will gain traction, demanding data scientists with expertise in distributed systems and real-time analytics.\\n* **Data Visualization & Storytelling:**  Effective communication of insights will be crucial, leading to increased demand for data scientists with strong visualization and storytelling skills.\\n\\n**3. Ethical & Societal Impact:**\\n\\n* **Data privacy & security:**  Data scientists will need to navigate complex ethical considerations related to data privacy, security, and bias in algorithms.\\n* **Explainable AI:**  The need for transparency and interpretability in AI models will drive research and development in explainable AI.\\n* **Responsible AI development:**  Data scientists will play a vital role in ensuring that AI technologies are developed and deployed responsibly, benefiting society as a whole.\\n\\n**4. Evolving Skillset:**\\n\\n* **Programming & Data Wrangling:**  Proficiency in Python, R, or other data science languages will remain essential.\\n* **Machine Learning & Deep Learning:**  Strong understanding of various machine learning algorithms and deep learning techniques will be highly valued.\\n* **Statistics & Data Analysis:**  Foundational knowledge in statistics and data analysis will be crucial for interpreting results and drawing meaningful insights.\\n* **Domain Expertise:**  Knowledge of specific industries or domains will be increasingly important for applying data science to real-world problems.\\n\\n**Overall, the scope of data science in 2025 will be broader and more impactful than ever before.  Data scientists will be at the forefront of innovation, driving advancements in AI, shaping ethical guidelines, and solving complex challenges across diverse industries.**\\n\\n\\nIt's an exciting time to be a data scientist, and the future holds immense possibilities!\\n\", additional_kwargs={}, response_metadata={'token_usage': {'completion_tokens': 594, 'prompt_tokens': 18, 'total_tokens': 612, 'completion_time': 1.08, 'prompt_time': 0.001253059, 'queue_time': 0.25043869, 'total_time': 1.081253059}, 'model_name': 'Gemma2-9b-It', 'system_fingerprint': 'fp_10c08bf97d', 'finish_reason': 'stop', 'logprobs': None}, id='run--7f6e5199-5144-4584-86ed-d1d4c0460734-0', usage_metadata={'input_tokens': 18, 'output_tokens': 594, 'total_tokens': 612})}])\n",
      "content=\"## Data Scientist Scope in 2025: Expanding Horizons\\n\\nThe data science landscape is constantly evolving, and by 2025, data scientists will be in even higher demand than today. \\n\\nHere's a glimpse into the potential scope of data science in 2025:\\n\\n**1. Growing Demand & Specialization:**\\n\\n* **Increased demand:** The volume of data generated will continue to explode, driving a surge in demand for skilled data scientists across industries. \\n* **Niche specialization:** We'll see more data scientists specializing in specific domains like healthcare, finance, cybersecurity, or AI ethics. \\n* **Focus on practical skills:**  Emphasis will shift towards applying data science to real-world problems, requiring data scientists to be both technically proficient and business-savvy.\\n\\n**2.  Emerging Technologies & Trends:**\\n\\n* **AI & Machine Learning:**  Data scientists will play a crucial role in developing and deploying advanced AI models across various applications like autonomous vehicles, personalized medicine, and fraud detection.\\n* **Cloud Computing:**  Cloud platforms will continue to dominate, requiring data scientists to be comfortable working with cloud-based tools and technologies.\\n* **Edge Computing:**  Data processing at the edge will gain traction, demanding data scientists with expertise in distributed systems and real-time analytics.\\n* **Data Visualization & Storytelling:**  Effective communication of insights will be crucial, leading to increased demand for data scientists with strong visualization and storytelling skills.\\n\\n**3. Ethical & Societal Impact:**\\n\\n* **Data privacy & security:**  Data scientists will need to navigate complex ethical considerations related to data privacy, security, and bias in algorithms.\\n* **Explainable AI:**  The need for transparency and interpretability in AI models will drive research and development in explainable AI.\\n* **Responsible AI development:**  Data scientists will play a vital role in ensuring that AI technologies are developed and deployed responsibly, benefiting society as a whole.\\n\\n**4. Evolving Skillset:**\\n\\n* **Programming & Data Wrangling:**  Proficiency in Python, R, or other data science languages will remain essential.\\n* **Machine Learning & Deep Learning:**  Strong understanding of various machine learning algorithms and deep learning techniques will be highly valued.\\n* **Statistics & Data Analysis:**  Foundational knowledge in statistics and data analysis will be crucial for interpreting results and drawing meaningful insights.\\n* **Domain Expertise:**  Knowledge of specific industries or domains will be increasingly important for applying data science to real-world problems.\\n\\n**Overall, the scope of data science in 2025 will be broader and more impactful than ever before.  Data scientists will be at the forefront of innovation, driving advancements in AI, shaping ethical guidelines, and solving complex challenges across diverse industries.**\\n\\n\\nIt's an exciting time to be a data scientist, and the future holds immense possibilities!\\n\" additional_kwargs={} response_metadata={'token_usage': {'completion_tokens': 594, 'prompt_tokens': 18, 'total_tokens': 612, 'completion_time': 1.08, 'prompt_time': 0.001253059, 'queue_time': 0.25043869, 'total_time': 1.081253059}, 'model_name': 'Gemma2-9b-It', 'system_fingerprint': 'fp_10c08bf97d', 'finish_reason': 'stop', 'logprobs': None} id='run--7f6e5199-5144-4584-86ed-d1d4c0460734-0' usage_metadata={'input_tokens': 18, 'output_tokens': 594, 'total_tokens': 612}\n",
      "Assistant: ## Data Scientist Scope in 2025: Expanding Horizons\n",
      "\n",
      "The data science landscape is constantly evolving, and by 2025, data scientists will be in even higher demand than today. \n",
      "\n",
      "Here's a glimpse into the potential scope of data science in 2025:\n",
      "\n",
      "**1. Growing Demand & Specialization:**\n",
      "\n",
      "* **Increased demand:** The volume of data generated will continue to explode, driving a surge in demand for skilled data scientists across industries. \n",
      "* **Niche specialization:** We'll see more data scientists specializing in specific domains like healthcare, finance, cybersecurity, or AI ethics. \n",
      "* **Focus on practical skills:**  Emphasis will shift towards applying data science to real-world problems, requiring data scientists to be both technically proficient and business-savvy.\n",
      "\n",
      "**2.  Emerging Technologies & Trends:**\n",
      "\n",
      "* **AI & Machine Learning:**  Data scientists will play a crucial role in developing and deploying advanced AI models across various applications like autonomous vehicles, personalized medicine, and fraud detection.\n",
      "* **Cloud Computing:**  Cloud platforms will continue to dominate, requiring data scientists to be comfortable working with cloud-based tools and technologies.\n",
      "* **Edge Computing:**  Data processing at the edge will gain traction, demanding data scientists with expertise in distributed systems and real-time analytics.\n",
      "* **Data Visualization & Storytelling:**  Effective communication of insights will be crucial, leading to increased demand for data scientists with strong visualization and storytelling skills.\n",
      "\n",
      "**3. Ethical & Societal Impact:**\n",
      "\n",
      "* **Data privacy & security:**  Data scientists will need to navigate complex ethical considerations related to data privacy, security, and bias in algorithms.\n",
      "* **Explainable AI:**  The need for transparency and interpretability in AI models will drive research and development in explainable AI.\n",
      "* **Responsible AI development:**  Data scientists will play a vital role in ensuring that AI technologies are developed and deployed responsibly, benefiting society as a whole.\n",
      "\n",
      "**4. Evolving Skillset:**\n",
      "\n",
      "* **Programming & Data Wrangling:**  Proficiency in Python, R, or other data science languages will remain essential.\n",
      "* **Machine Learning & Deep Learning:**  Strong understanding of various machine learning algorithms and deep learning techniques will be highly valued.\n",
      "* **Statistics & Data Analysis:**  Foundational knowledge in statistics and data analysis will be crucial for interpreting results and drawing meaningful insights.\n",
      "* **Domain Expertise:**  Knowledge of specific industries or domains will be increasingly important for applying data science to real-world problems.\n",
      "\n",
      "**Overall, the scope of data science in 2025 will be broader and more impactful than ever before.  Data scientists will be at the forefront of innovation, driving advancements in AI, shaping ethical guidelines, and solving complex challenges across diverse industries.**\n",
      "\n",
      "\n",
      "It's an exciting time to be a data scientist, and the future holds immense possibilities!\n",
      "\n",
      "Good Bye\n"
     ]
    }
   ],
   "source": [
    "# Start an interactive loop with the user\n",
    "while True:\n",
    "    # Take input from the user\n",
    "    user_input = input(\"User: \")\n",
    "\n",
    "    # Exit the loop if user types 'quit' or 'q'\n",
    "    if user_input.lower() in [\"quit\", \"q\"]:\n",
    "        print(\"Good Bye\")\n",
    "        break\n",
    "\n",
    "    # Stream events from the graph by sending the user's message as state\n",
    "    for event in graph.stream({'messages': (\"user\", user_input)}):\n",
    "        # Print all key-value pairs in the event for debugging\n",
    "        print(event.values())\n",
    "        \n",
    "        # Iterate over event values to access the state\n",
    "        for value in event.values():\n",
    "            # Print the full message history\n",
    "            print(value['messages'])\n",
    "            \n",
    "            # Print the latest assistant response\n",
    "            print(\"Assistant:\", value[\"messages\"].content)"
   ]
  },
  {
   "cell_type": "code",
   "execution_count": null,
   "id": "7d445609",
   "metadata": {},
   "outputs": [],
   "source": [
    "class State(TypedDict):\n",
    "    messages: Annotated[list, add_messages]\n",
    "    sentiment: str\n",
    "\n",
    "# Define the structure of the state for the multi-node workflow\n",
    "# `State` includes:\n",
    "#   - messages: a list of chat messages, managed with add_messages\n",
    "#   - sentiment: a string representing the detected sentiment\n",
    "\n",
    "# 1. Preprocessing Node\n",
    "# Cleans the last message in the state by stripping whitespace\n",
    "# Updates the state's messages list\n",
    "def preprocess(state: State) -> State:\n",
    "    cleaned = state[\"messages\"][-1].content.strip()\n",
    "    state[\"messages\"][-1].content = cleaned\n",
    "    return state\n",
    "\n",
    "# 2. Sentiment Analysis Node\n",
    "# Analyzes the last message's content\n",
    "# Sets 'sentiment' to \"positive\" if the message contains \"good\", otherwise \"neutral\"\n",
    "def analyze_sentiment(state: State) -> State:\n",
    "    msg = state[\"messages\"][-1].content\n",
    "    state[\"sentiment\"] = \"positive\" if \"good\" in msg else \"neutral\"\n",
    "    return state\n",
    "\n",
    "# 3. Chatbot Node\n",
    "# Sends the current messages to the LLM and returns a new state with updated messages\n",
    "# Note: This currently overwrites other state keys like 'sentiment'\n",
    "def chatbot(state: State) -> State:\n",
    "    return {\"messages\": llm.invoke(state['messages'])}\n",
    "\n",
    "# 4. Logging Node\n",
    "# Prints the latest message and its sentiment for debugging/logging purposes\n",
    "# Returns the state unchanged\n",
    "def logger(state: State) -> State:\n",
    "    print(f\"LOG: {state['messages'][-1].content}, Sentiment: {state.get('sentiment')}\")\n",
    "    return state\n"
   ]
  },
  {
   "cell_type": "markdown",
   "id": "8c361cbf",
   "metadata": {},
   "source": [
    "**Build the multi-node StateGraph workflow**"
   ]
  },
  {
   "cell_type": "code",
   "execution_count": null,
   "id": "a2788b9c",
   "metadata": {},
   "outputs": [
    {
     "data": {
      "text/plain": [
       "<langgraph.graph.state.StateGraph at 0x117311543b0>"
      ]
     },
     "execution_count": 12,
     "metadata": {},
     "output_type": "execute_result"
    }
   ],
   "source": [
    "builder = StateGraph(State)\n",
    "builder.add_node(\"preprocess\", preprocess)                # \"preprocess\": cleans incoming messages\n",
    "builder.add_node(\"analyze_sentiment\", analyze_sentiment)  # \"analyze_sentiment\": analyzes message sentiment\n",
    "builder.add_node(\"chatbot\", chatbot)                      # \"chatbot\": generates a response using the LLM\n",
    "builder.add_node(\"logger\", logger)                        # \"logger\": prints messages and sentiment for debugging"
   ]
  },
  {
   "cell_type": "markdown",
   "id": "9ff3b17e",
   "metadata": {},
   "source": [
    "**Define the flow of the StateGraph**\n",
    "\n",
    "**Connect nodes using edges to determine the order of execution:**"
   ]
  },
  {
   "cell_type": "code",
   "execution_count": null,
   "id": "a0557b00",
   "metadata": {},
   "outputs": [
    {
     "data": {
      "text/plain": [
       "<langgraph.graph.state.StateGraph at 0x117311543b0>"
      ]
     },
     "execution_count": 13,
     "metadata": {},
     "output_type": "execute_result"
    }
   ],
   "source": [
    "builder.add_edge(START, \"preprocess\")                # START → preprocess: workflow starts with preprocessing\n",
    "builder.add_edge(\"preprocess\", \"analyze_sentiment\")  # preprocess → analyze_sentiment: after preprocessing, analyze sentiment\n",
    "builder.add_edge(\"analyze_sentiment\", \"chatbot\")     # analyze_sentiment → chatbot: send the analyzed message to the chatbot\n",
    "builder.add_edge(\"chatbot\", \"logger\")                # chatbot → logger: log the chatbot response and sentiment\n",
    "builder.add_edge(\"logger\", END)                      # logger → END: workflow ends after logging"
   ]
  },
  {
   "cell_type": "code",
   "execution_count": null,
   "id": "a2abe060",
   "metadata": {},
   "outputs": [],
   "source": [
    "# Compile the StateGraph\n",
    "graph1 = builder.compile()"
   ]
  },
  {
   "cell_type": "code",
   "execution_count": null,
   "id": "75008f46",
   "metadata": {},
   "outputs": [],
   "source": [
    "# Draw the graph\n",
    "try:\n",
    "    display(Image(graph1.get_graph().draw_mermaid_png()))\n",
    "except Exception :\n",
    "    pass"
   ]
  },
  {
   "cell_type": "markdown",
   "id": "a59b530a",
   "metadata": {},
   "source": [
    "**Invoke the compiled StateGraph with user messages**\n",
    "\n",
    "* Send a message to the graph using `invoke()`, which runs the workflow from START to END\n",
    "* The graph processes the message through all nodes: preprocess → analyze_sentiment → chatbot → logger\n",
    "* Capture the final state returned by the graph"
   ]
  },
  {
   "cell_type": "code",
   "execution_count": 18,
   "id": "76a24777",
   "metadata": {},
   "outputs": [
    {
     "name": "stdout",
     "output_type": "stream",
     "text": [
      "LOG: Hello Abhinay,\n",
      "\n",
      "It's nice to meet you! What can I do for you today? 😊\n",
      ", Sentiment: neutral\n",
      "Final State: {'messages': [HumanMessage(content='hi i am Abhinay.', additional_kwargs={}, response_metadata={}, id='e36cd52e-dd8c-49ec-823d-cfaddf8d0ab4'), AIMessage(content=\"Hello Abhinay,\\n\\nIt's nice to meet you! What can I do for you today? 😊\\n\", additional_kwargs={}, response_metadata={'token_usage': {'completion_tokens': 26, 'prompt_tokens': 16, 'total_tokens': 42, 'completion_time': 0.047272727, 'prompt_time': 0.001266269, 'queue_time': 0.2536697, 'total_time': 0.048538996}, 'model_name': 'Gemma2-9b-It', 'system_fingerprint': 'fp_10c08bf97d', 'finish_reason': 'stop', 'logprobs': None}, id='run--3f355d91-be8c-418c-80ec-3c30bdcd1074-0', usage_metadata={'input_tokens': 16, 'output_tokens': 26, 'total_tokens': 42})], 'sentiment': 'neutral'}\n",
      "Chatbot's response: Hello Abhinay,\n",
      "\n",
      "It's nice to meet you! What can I do for you today? 😊\n",
      "\n",
      "Detected Sentiment: neutral\n",
      "LOG: I understand. Please let me know if you have any questions or need me to do anything else. I'm here to help! 😊\n",
      ", Sentiment: neutral\n",
      "Final State 2: {'messages': [HumanMessage(content='This is a neutral message.', additional_kwargs={}, response_metadata={}, id='4b998399-d2ec-4c60-bf21-16521029371e'), AIMessage(content=\"I understand. Please let me know if you have any questions or need me to do anything else. I'm here to help! 😊\\n\", additional_kwargs={}, response_metadata={'token_usage': {'completion_tokens': 31, 'prompt_tokens': 15, 'total_tokens': 46, 'completion_time': 0.056363636, 'prompt_time': 0.001444359, 'queue_time': 0.28877358, 'total_time': 0.057807995}, 'model_name': 'Gemma2-9b-It', 'system_fingerprint': 'fp_10c08bf97d', 'finish_reason': 'stop', 'logprobs': None}, id='run--88d0b52b-3490-4bbc-b3d4-5f24d761754a-0', usage_metadata={'input_tokens': 15, 'output_tokens': 31, 'total_tokens': 46})], 'sentiment': 'neutral'}\n",
      "Chatbot's response 2: I understand. Please let me know if you have any questions or need me to do anything else. I'm here to help! 😊\n",
      "\n",
      "Detected Sentiment 2: neutral\n"
     ]
    }
   ],
   "source": [
    "# Invoke the graph\n",
    "input_message = \"hi i am Abhinay.\"\n",
    "final_state = graph1.invoke({\"messages\": (\"user\", input_message)})\n",
    "\n",
    "# Print the final state\n",
    "print(\"Final State:\", final_state)\n",
    "print(\"Chatbot's response:\", final_state['messages'][-1].content)\n",
    "print(\"Detected Sentiment:\", final_state['sentiment'])\n",
    "\n",
    "input_message_2 = \"This is a neutral message.\"\n",
    "final_state_2 = graph1.invoke({\"messages\": (\"user\", input_message_2)})\n",
    "print(\"Final State 2:\", final_state_2)\n",
    "print(\"Chatbot's response 2:\", final_state_2['messages'][-1].content)\n",
    "print(\"Detected Sentiment 2:\", final_state_2['sentiment'])"
   ]
  },
  {
   "cell_type": "code",
   "execution_count": null,
   "id": "610c778d",
   "metadata": {},
   "outputs": [],
   "source": []
  }
 ],
 "metadata": {
  "kernelspec": {
   "display_name": "base",
   "language": "python",
   "name": "python3"
  },
  "language_info": {
   "codemirror_mode": {
    "name": "ipython",
    "version": 3
   },
   "file_extension": ".py",
   "mimetype": "text/x-python",
   "name": "python",
   "nbconvert_exporter": "python",
   "pygments_lexer": "ipython3",
   "version": "3.12.7"
  }
 },
 "nbformat": 4,
 "nbformat_minor": 5
}
