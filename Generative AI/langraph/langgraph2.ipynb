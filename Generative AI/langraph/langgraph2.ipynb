{
 "cells": [
  {
   "cell_type": "code",
   "execution_count": 1,
   "id": "0223240f",
   "metadata": {},
   "outputs": [
    {
     "name": "stderr",
     "output_type": "stream",
     "text": [
      "None of PyTorch, TensorFlow >= 2.0, or Flax have been found. Models won't be available and only tokenizers, configuration and file/data utilities can be used.\n"
     ]
    }
   ],
   "source": [
    "from langchain_groq import ChatGroq\n",
    "from typing import Annotated\n",
    "from typing_extensions import TypedDict\n",
    "from langgraph.graph import StateGraph, START, END\n",
    "from langgraph.graph.message import add_messages\n",
    "from IPython.display import Image, display"
   ]
  },
  {
   "cell_type": "code",
   "execution_count": null,
   "id": "fbc44623",
   "metadata": {},
   "outputs": [],
   "source": [
    "groq_api_key = 'gsk.....PTO'\n",
    "llm = ChatGroq(groq_api_key=groq_api_key, model_name=\"Gemma2-9b-It\")\n",
    "langsmith='lsv......26d'"
   ]
  },
  {
   "cell_type": "code",
   "execution_count": 3,
   "id": "7f37f22e",
   "metadata": {},
   "outputs": [],
   "source": [
    "class State(TypedDict):\n",
    "    messages: Annotated[list, add_messages]\n",
    "    sentiment: str\n",
    "\n",
    "# 1. Preprocessing Node\n",
    "def preprocess(state: State) -> State:\n",
    "    cleaned = state[\"messages\"][-1].content.strip()\n",
    "    state[\"messages\"][-1].content = cleaned\n",
    "    return state\n",
    "\n",
    "# 2. Sentiment Analysis Node\n",
    "def analyze_sentiment(state: State) -> State:\n",
    "    msg = state[\"messages\"][-1].content\n",
    "    state[\"sentiment\"] = \"positive\" if \"good\" in msg else \"neutral\"\n",
    "    return state\n",
    "\n",
    "# 3. Chatbot Node\n",
    "def chatbot(state: State) -> State:\n",
    "    return {\"messages\": llm.invoke(state['messages'])}\n",
    "\n",
    "# 4. Logging Node\n",
    "def logger(state: State) -> State:\n",
    "    print(f\"LOG: {state['messages'][-1].content}, Sentiment: {state.get('sentiment')}\")\n",
    "    return state"
   ]
  },
  {
   "cell_type": "code",
   "execution_count": 4,
   "id": "11013bac",
   "metadata": {},
   "outputs": [
    {
     "data": {
      "text/plain": [
       "<langgraph.graph.state.StateGraph at 0x2b87fcdbaa0>"
      ]
     },
     "execution_count": 4,
     "metadata": {},
     "output_type": "execute_result"
    }
   ],
   "source": [
    "# Build the graph\n",
    "builder = StateGraph(State)\n",
    "builder.add_node(\"preprocess\", preprocess)\n",
    "builder.add_node(\"analyze_sentiment\", analyze_sentiment)  # renamed\n",
    "builder.add_node(\"chatbot\", chatbot)\n",
    "builder.add_node(\"logger\", logger)"
   ]
  },
  {
   "cell_type": "code",
   "execution_count": 5,
   "id": "4ec8e6c4",
   "metadata": {},
   "outputs": [
    {
     "data": {
      "text/plain": [
       "<langgraph.graph.state.StateGraph at 0x2b87fcdbaa0>"
      ]
     },
     "execution_count": 5,
     "metadata": {},
     "output_type": "execute_result"
    }
   ],
   "source": [
    "# Define flow\n",
    "builder.add_edge(START, \"preprocess\")\n",
    "builder.add_edge(\"preprocess\", \"analyze_sentiment\")  # renamed\n",
    "builder.add_edge(\"analyze_sentiment\", \"chatbot\")     # renamed\n",
    "builder.add_edge(\"chatbot\", \"logger\")\n",
    "builder.add_edge(\"logger\", END)"
   ]
  },
  {
   "cell_type": "code",
   "execution_count": 6,
   "id": "a92fe45d",
   "metadata": {},
   "outputs": [],
   "source": [
    "graph = builder.compile()"
   ]
  },
  {
   "cell_type": "code",
   "execution_count": 9,
   "id": "2685d756",
   "metadata": {},
   "outputs": [],
   "source": [
    "# Draw the graph\n",
    "try:\n",
    "    display(Image(graph.get_graph().draw_mermaid_png()))\n",
    "except Exception :\n",
    "    pass"
   ]
  },
  {
   "cell_type": "code",
   "execution_count": 8,
   "id": "6a2b95d8",
   "metadata": {},
   "outputs": [
    {
     "name": "stdout",
     "output_type": "stream",
     "text": [
      "LOG: Hello Abhinay! It's nice to meet you. What can I do for you today?\n",
      ", Sentiment: neutral\n",
      "Final State: {'messages': [HumanMessage(content='hi i am Abhinay.', additional_kwargs={}, response_metadata={}, id='a82f118e-be44-4b89-a9a6-395ea0479089'), AIMessage(content=\"Hello Abhinay! It's nice to meet you. What can I do for you today?\\n\", additional_kwargs={}, response_metadata={'token_usage': {'completion_tokens': 24, 'prompt_tokens': 16, 'total_tokens': 40, 'completion_time': 0.043636364, 'prompt_time': 0.001253877, 'queue_time': 0.250822503, 'total_time': 0.044890241}, 'model_name': 'Gemma2-9b-It', 'system_fingerprint': 'fp_10c08bf97d', 'finish_reason': 'stop', 'logprobs': None}, id='run--6db33f25-5dfe-4016-8d6a-f4d75daf2d09-0', usage_metadata={'input_tokens': 16, 'output_tokens': 24, 'total_tokens': 40})], 'sentiment': 'neutral'}\n",
      "Chatbot's response: Hello Abhinay! It's nice to meet you. What can I do for you today?\n",
      "\n",
      "Detected Sentiment: neutral\n",
      "LOG: I understand. \n",
      "\n",
      "Is there anything else I can help you with?\n",
      ", Sentiment: neutral\n",
      "Final State 2: {'messages': [HumanMessage(content='This is a neutral message.', additional_kwargs={}, response_metadata={}, id='97ab4f16-19df-4354-ad23-7e2e14e1f5a4'), AIMessage(content='I understand. \\n\\nIs there anything else I can help you with?\\n', additional_kwargs={}, response_metadata={'token_usage': {'completion_tokens': 18, 'prompt_tokens': 15, 'total_tokens': 33, 'completion_time': 0.032727273, 'prompt_time': 0.001254567, 'queue_time': 0.251093342, 'total_time': 0.03398184}, 'model_name': 'Gemma2-9b-It', 'system_fingerprint': 'fp_10c08bf97d', 'finish_reason': 'stop', 'logprobs': None}, id='run--0a60b19b-91ca-4ec1-b97c-8248550ad3b8-0', usage_metadata={'input_tokens': 15, 'output_tokens': 18, 'total_tokens': 33})], 'sentiment': 'neutral'}\n",
      "Chatbot's response 2: I understand. \n",
      "\n",
      "Is there anything else I can help you with?\n",
      "\n",
      "Detected Sentiment 2: neutral\n"
     ]
    }
   ],
   "source": [
    "# Invoke the graph\n",
    "input_message = \"hi i am Abhinay.\"\n",
    "final_state = graph.invoke({\"messages\": (\"user\", input_message)})\n",
    "\n",
    "# Print the final state\n",
    "print(\"Final State:\", final_state)\n",
    "print(\"Chatbot's response:\", final_state['messages'][-1].content)\n",
    "print(\"Detected Sentiment:\", final_state['sentiment'])\n",
    "\n",
    "input_message_2 = \"This is a neutral message.\"\n",
    "final_state_2 = graph.invoke({\"messages\": (\"user\", input_message_2)})\n",
    "print(\"Final State 2:\", final_state_2)\n",
    "print(\"Chatbot's response 2:\", final_state_2['messages'][-1].content)\n",
    "print(\"Detected Sentiment 2:\", final_state_2['sentiment'])"
   ]
  },
  {
   "cell_type": "code",
   "execution_count": null,
   "id": "f53f5dc7",
   "metadata": {},
   "outputs": [],
   "source": []
  }
 ],
 "metadata": {
  "kernelspec": {
   "display_name": "base",
   "language": "python",
   "name": "python3"
  },
  "language_info": {
   "codemirror_mode": {
    "name": "ipython",
    "version": 3
   },
   "file_extension": ".py",
   "mimetype": "text/x-python",
   "name": "python",
   "nbconvert_exporter": "python",
   "pygments_lexer": "ipython3",
   "version": "3.12.7"
  }
 },
 "nbformat": 4,
 "nbformat_minor": 5
}
