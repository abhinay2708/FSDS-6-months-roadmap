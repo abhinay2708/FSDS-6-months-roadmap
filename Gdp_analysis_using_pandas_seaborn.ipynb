{
 "cells": [
  {
   "cell_type": "code",
   "execution_count": 2,
   "id": "a7cd8f75",
   "metadata": {},
   "outputs": [],
   "source": [
    "import numpy as np\n",
    "import matplotlib.pyplot as plt\n",
    "import pandas as pd"
   ]
  },
  {
   "cell_type": "code",
   "execution_count": 3,
   "id": "0385e88a",
   "metadata": {},
   "outputs": [
    {
     "data": {
      "application/vnd.microsoft.datawrangler.viewer.v0+json": {
       "columns": [
        {
         "name": "index",
         "rawType": "int64",
         "type": "integer"
        },
        {
         "name": "CountryName",
         "rawType": "object",
         "type": "string"
        },
        {
         "name": "CountryCode",
         "rawType": "object",
         "type": "string"
        },
        {
         "name": "BirthRate",
         "rawType": "float64",
         "type": "float"
        },
        {
         "name": "InternetUsers",
         "rawType": "float64",
         "type": "float"
        },
        {
         "name": "IncomeGroup",
         "rawType": "object",
         "type": "string"
        }
       ],
       "ref": "a45cd938-fc89-497a-9117-9b98f72e5228",
       "rows": [
        [
         "0",
         "Aruba",
         "ABW",
         "10.244",
         "78.9",
         "High income"
        ],
        [
         "1",
         "Afghanistan",
         "AFG",
         "35.253",
         "5.9",
         "Low income"
        ],
        [
         "2",
         "Angola",
         "AGO",
         "45.985",
         "19.1",
         "Upper middle income"
        ],
        [
         "3",
         "Albania",
         "ALB",
         "12.877",
         "57.2",
         "Upper middle income"
        ],
        [
         "4",
         "United Arab Emirates",
         "ARE",
         "11.044",
         "88.0",
         "High income"
        ],
        [
         "5",
         "Argentina",
         "ARG",
         "17.716",
         "59.9",
         "High income"
        ],
        [
         "6",
         "Armenia",
         "ARM",
         "13.308",
         "41.9",
         "Lower middle income"
        ],
        [
         "7",
         "Antigua and Barbuda",
         "ATG",
         "16.447",
         "63.4",
         "High income"
        ],
        [
         "8",
         "Australia",
         "AUS",
         "13.2",
         "83.0",
         "High income"
        ],
        [
         "9",
         "Austria",
         "AUT",
         "9.4",
         "80.6188",
         "High income"
        ],
        [
         "10",
         "Azerbaijan",
         "AZE",
         "18.3",
         "58.7",
         "Upper middle income"
        ],
        [
         "11",
         "Burundi",
         "BDI",
         "44.151",
         "1.3",
         "Low income"
        ],
        [
         "12",
         "Belgium",
         "BEL",
         "11.2",
         "82.1702",
         "High income"
        ],
        [
         "13",
         "Benin",
         "BEN",
         "36.44",
         "4.9",
         "Low income"
        ],
        [
         "14",
         "Burkina Faso",
         "BFA",
         "40.551",
         "9.1",
         "Low income"
        ],
        [
         "15",
         "Bangladesh",
         "BGD",
         "20.142",
         "6.63",
         "Lower middle income"
        ],
        [
         "16",
         "Bulgaria",
         "BGR",
         "9.2",
         "53.0615",
         "Upper middle income"
        ],
        [
         "17",
         "Bahrain",
         "BHR",
         "15.04",
         "90.0000397",
         "High income"
        ],
        [
         "18",
         "Bahamas, The",
         "BHS",
         "15.339",
         "72.0",
         "High income"
        ],
        [
         "19",
         "Bosnia and Herzegovina",
         "BIH",
         "9.062",
         "57.79",
         "Upper middle income"
        ],
        [
         "20",
         "Belarus",
         "BLR",
         "12.5",
         "54.17",
         "Upper middle income"
        ],
        [
         "21",
         "Belize",
         "BLZ",
         "23.092",
         "33.6",
         "Upper middle income"
        ],
        [
         "22",
         "Bermuda",
         "BMU",
         "10.4",
         "95.3",
         "High income"
        ],
        [
         "23",
         "Bolivia",
         "BOL",
         "24.236",
         "36.94",
         "Lower middle income"
        ],
        [
         "24",
         "Brazil",
         "BRA",
         "14.931",
         "51.04",
         "Upper middle income"
        ],
        [
         "25",
         "Barbados",
         "BRB",
         "12.188",
         "73.0",
         "High income"
        ],
        [
         "26",
         "Brunei Darussalam",
         "BRN",
         "16.405",
         "64.5",
         "High income"
        ],
        [
         "27",
         "Bhutan",
         "BTN",
         "18.134",
         "29.9",
         "Lower middle income"
        ],
        [
         "28",
         "Botswana",
         "BWA",
         "25.267",
         "15.0",
         "Upper middle income"
        ],
        [
         "29",
         "Central African Republic",
         "CAF",
         "34.076",
         "3.5",
         "Low income"
        ],
        [
         "30",
         "Canada",
         "CAN",
         "10.9",
         "85.8",
         "High income"
        ],
        [
         "31",
         "Switzerland",
         "CHE",
         "10.2",
         "86.34",
         "High income"
        ],
        [
         "32",
         "Chile",
         "CHL",
         "13.385",
         "66.5",
         "High income"
        ],
        [
         "33",
         "China",
         "CHN",
         "12.1",
         "45.8",
         "Upper middle income"
        ],
        [
         "34",
         "Cote d'Ivoire",
         "CIV",
         "37.32",
         "8.4",
         "Lower middle income"
        ],
        [
         "35",
         "Cameroon",
         "CMR",
         "37.236",
         "6.4",
         "Lower middle income"
        ],
        [
         "36",
         "Congo, Rep.",
         "COG",
         "37.011",
         "6.6",
         "Lower middle income"
        ],
        [
         "37",
         "Colombia",
         "COL",
         "16.076",
         "51.7",
         "Upper middle income"
        ],
        [
         "38",
         "Comoros",
         "COM",
         "34.326",
         "6.5",
         "Low income"
        ],
        [
         "39",
         "Cabo Verde",
         "CPV",
         "21.625",
         "37.5",
         "Lower middle income"
        ],
        [
         "40",
         "Costa Rica",
         "CRI",
         "15.022",
         "45.96",
         "Upper middle income"
        ],
        [
         "41",
         "Cuba",
         "CUB",
         "10.4",
         "27.93",
         "Upper middle income"
        ],
        [
         "42",
         "Cayman Islands",
         "CYM",
         "12.5",
         "74.1",
         "High income"
        ],
        [
         "43",
         "Cyprus",
         "CYP",
         "11.436",
         "65.4548",
         "High income"
        ],
        [
         "44",
         "Czech Republic",
         "CZE",
         "10.2",
         "74.1104",
         "High income"
        ],
        [
         "45",
         "Germany",
         "DEU",
         "8.5",
         "84.17",
         "High income"
        ],
        [
         "46",
         "Djibouti",
         "DJI",
         "25.486",
         "9.5",
         "Lower middle income"
        ],
        [
         "47",
         "Denmark",
         "DNK",
         "10.0",
         "94.6297",
         "High income"
        ],
        [
         "48",
         "Dominican Republic",
         "DOM",
         "21.198",
         "45.9",
         "Upper middle income"
        ],
        [
         "49",
         "Algeria",
         "DZA",
         "24.738",
         "16.5",
         "Upper middle income"
        ]
       ],
       "shape": {
        "columns": 5,
        "rows": 195
       }
      },
      "text/html": [
       "<div>\n",
       "<style scoped>\n",
       "    .dataframe tbody tr th:only-of-type {\n",
       "        vertical-align: middle;\n",
       "    }\n",
       "\n",
       "    .dataframe tbody tr th {\n",
       "        vertical-align: top;\n",
       "    }\n",
       "\n",
       "    .dataframe thead th {\n",
       "        text-align: right;\n",
       "    }\n",
       "</style>\n",
       "<table border=\"1\" class=\"dataframe\">\n",
       "  <thead>\n",
       "    <tr style=\"text-align: right;\">\n",
       "      <th></th>\n",
       "      <th>CountryName</th>\n",
       "      <th>CountryCode</th>\n",
       "      <th>BirthRate</th>\n",
       "      <th>InternetUsers</th>\n",
       "      <th>IncomeGroup</th>\n",
       "    </tr>\n",
       "  </thead>\n",
       "  <tbody>\n",
       "    <tr>\n",
       "      <th>0</th>\n",
       "      <td>Aruba</td>\n",
       "      <td>ABW</td>\n",
       "      <td>10.244</td>\n",
       "      <td>78.9</td>\n",
       "      <td>High income</td>\n",
       "    </tr>\n",
       "    <tr>\n",
       "      <th>1</th>\n",
       "      <td>Afghanistan</td>\n",
       "      <td>AFG</td>\n",
       "      <td>35.253</td>\n",
       "      <td>5.9</td>\n",
       "      <td>Low income</td>\n",
       "    </tr>\n",
       "    <tr>\n",
       "      <th>2</th>\n",
       "      <td>Angola</td>\n",
       "      <td>AGO</td>\n",
       "      <td>45.985</td>\n",
       "      <td>19.1</td>\n",
       "      <td>Upper middle income</td>\n",
       "    </tr>\n",
       "    <tr>\n",
       "      <th>3</th>\n",
       "      <td>Albania</td>\n",
       "      <td>ALB</td>\n",
       "      <td>12.877</td>\n",
       "      <td>57.2</td>\n",
       "      <td>Upper middle income</td>\n",
       "    </tr>\n",
       "    <tr>\n",
       "      <th>4</th>\n",
       "      <td>United Arab Emirates</td>\n",
       "      <td>ARE</td>\n",
       "      <td>11.044</td>\n",
       "      <td>88.0</td>\n",
       "      <td>High income</td>\n",
       "    </tr>\n",
       "    <tr>\n",
       "      <th>...</th>\n",
       "      <td>...</td>\n",
       "      <td>...</td>\n",
       "      <td>...</td>\n",
       "      <td>...</td>\n",
       "      <td>...</td>\n",
       "    </tr>\n",
       "    <tr>\n",
       "      <th>190</th>\n",
       "      <td>Yemen, Rep.</td>\n",
       "      <td>YEM</td>\n",
       "      <td>32.947</td>\n",
       "      <td>20.0</td>\n",
       "      <td>Lower middle income</td>\n",
       "    </tr>\n",
       "    <tr>\n",
       "      <th>191</th>\n",
       "      <td>South Africa</td>\n",
       "      <td>ZAF</td>\n",
       "      <td>20.850</td>\n",
       "      <td>46.5</td>\n",
       "      <td>Upper middle income</td>\n",
       "    </tr>\n",
       "    <tr>\n",
       "      <th>192</th>\n",
       "      <td>Congo, Dem. Rep.</td>\n",
       "      <td>COD</td>\n",
       "      <td>42.394</td>\n",
       "      <td>2.2</td>\n",
       "      <td>Low income</td>\n",
       "    </tr>\n",
       "    <tr>\n",
       "      <th>193</th>\n",
       "      <td>Zambia</td>\n",
       "      <td>ZMB</td>\n",
       "      <td>40.471</td>\n",
       "      <td>15.4</td>\n",
       "      <td>Lower middle income</td>\n",
       "    </tr>\n",
       "    <tr>\n",
       "      <th>194</th>\n",
       "      <td>Zimbabwe</td>\n",
       "      <td>ZWE</td>\n",
       "      <td>35.715</td>\n",
       "      <td>18.5</td>\n",
       "      <td>Low income</td>\n",
       "    </tr>\n",
       "  </tbody>\n",
       "</table>\n",
       "<p>195 rows × 5 columns</p>\n",
       "</div>"
      ],
      "text/plain": [
       "              CountryName CountryCode  BirthRate  InternetUsers  \\\n",
       "0                   Aruba         ABW     10.244           78.9   \n",
       "1             Afghanistan         AFG     35.253            5.9   \n",
       "2                  Angola         AGO     45.985           19.1   \n",
       "3                 Albania         ALB     12.877           57.2   \n",
       "4    United Arab Emirates         ARE     11.044           88.0   \n",
       "..                    ...         ...        ...            ...   \n",
       "190           Yemen, Rep.         YEM     32.947           20.0   \n",
       "191          South Africa         ZAF     20.850           46.5   \n",
       "192      Congo, Dem. Rep.         COD     42.394            2.2   \n",
       "193                Zambia         ZMB     40.471           15.4   \n",
       "194              Zimbabwe         ZWE     35.715           18.5   \n",
       "\n",
       "             IncomeGroup  \n",
       "0            High income  \n",
       "1             Low income  \n",
       "2    Upper middle income  \n",
       "3    Upper middle income  \n",
       "4            High income  \n",
       "..                   ...  \n",
       "190  Lower middle income  \n",
       "191  Upper middle income  \n",
       "192           Low income  \n",
       "193  Lower middle income  \n",
       "194           Low income  \n",
       "\n",
       "[195 rows x 5 columns]"
      ]
     },
     "execution_count": 3,
     "metadata": {},
     "output_type": "execute_result"
    }
   ],
   "source": [
    "df=pd.read_csv(r'C:\\Users\\abhin\\Downloads\\data.csv')\n",
    "df"
   ]
  },
  {
   "cell_type": "code",
   "execution_count": 4,
   "id": "afbdfb11",
   "metadata": {},
   "outputs": [
    {
     "data": {
      "text/plain": [
       "pandas.core.frame.DataFrame"
      ]
     },
     "execution_count": 4,
     "metadata": {},
     "output_type": "execute_result"
    }
   ],
   "source": [
    "type(df)"
   ]
  },
  {
   "cell_type": "code",
   "execution_count": 5,
   "id": "b4731e7d",
   "metadata": {},
   "outputs": [
    {
     "data": {
      "text/plain": [
       "195"
      ]
     },
     "execution_count": 5,
     "metadata": {},
     "output_type": "execute_result"
    }
   ],
   "source": [
    "len(df)"
   ]
  },
  {
   "cell_type": "code",
   "execution_count": 6,
   "id": "fd7890f4",
   "metadata": {},
   "outputs": [
    {
     "data": {
      "text/plain": [
       "(195, 5)"
      ]
     },
     "execution_count": 6,
     "metadata": {},
     "output_type": "execute_result"
    }
   ],
   "source": [
    "df.shape"
   ]
  },
  {
   "cell_type": "code",
   "execution_count": 7,
   "id": "ff013120",
   "metadata": {},
   "outputs": [
    {
     "data": {
      "text/plain": [
       "Index(['CountryName', 'CountryCode', 'BirthRate', 'InternetUsers',\n",
       "       'IncomeGroup'],\n",
       "      dtype='object')"
      ]
     },
     "execution_count": 7,
     "metadata": {},
     "output_type": "execute_result"
    }
   ],
   "source": [
    "df.columns"
   ]
  },
  {
   "cell_type": "code",
   "execution_count": 8,
   "id": "dddfef51",
   "metadata": {},
   "outputs": [
    {
     "data": {
      "text/plain": [
       "1367719017888"
      ]
     },
     "execution_count": 8,
     "metadata": {},
     "output_type": "execute_result"
    }
   ],
   "source": [
    "id(df)"
   ]
  },
  {
   "cell_type": "code",
   "execution_count": 9,
   "id": "587cf6f2",
   "metadata": {},
   "outputs": [
    {
     "data": {
      "text/plain": [
       "pandas.core.frame.DataFrame"
      ]
     },
     "execution_count": 9,
     "metadata": {},
     "output_type": "execute_result"
    }
   ],
   "source": [
    "type(df)"
   ]
  },
  {
   "cell_type": "code",
   "execution_count": 10,
   "id": "014c69f1",
   "metadata": {},
   "outputs": [
    {
     "data": {
      "text/plain": [
       "5"
      ]
     },
     "execution_count": 10,
     "metadata": {},
     "output_type": "execute_result"
    }
   ],
   "source": [
    "len(df.columns)"
   ]
  },
  {
   "cell_type": "code",
   "execution_count": 11,
   "id": "6d44f213",
   "metadata": {},
   "outputs": [
    {
     "data": {
      "application/vnd.microsoft.datawrangler.viewer.v0+json": {
       "columns": [
        {
         "name": "index",
         "rawType": "int64",
         "type": "integer"
        },
        {
         "name": "CountryName",
         "rawType": "object",
         "type": "string"
        },
        {
         "name": "CountryCode",
         "rawType": "object",
         "type": "string"
        },
        {
         "name": "BirthRate",
         "rawType": "float64",
         "type": "float"
        },
        {
         "name": "InternetUsers",
         "rawType": "float64",
         "type": "float"
        },
        {
         "name": "IncomeGroup",
         "rawType": "object",
         "type": "string"
        }
       ],
       "ref": "d9692603-3066-40e4-a6c4-743f3b8f9d01",
       "rows": [
        [
         "0",
         "Aruba",
         "ABW",
         "10.244",
         "78.9",
         "High income"
        ],
        [
         "1",
         "Afghanistan",
         "AFG",
         "35.253",
         "5.9",
         "Low income"
        ],
        [
         "2",
         "Angola",
         "AGO",
         "45.985",
         "19.1",
         "Upper middle income"
        ],
        [
         "3",
         "Albania",
         "ALB",
         "12.877",
         "57.2",
         "Upper middle income"
        ],
        [
         "4",
         "United Arab Emirates",
         "ARE",
         "11.044",
         "88.0",
         "High income"
        ]
       ],
       "shape": {
        "columns": 5,
        "rows": 5
       }
      },
      "text/html": [
       "<div>\n",
       "<style scoped>\n",
       "    .dataframe tbody tr th:only-of-type {\n",
       "        vertical-align: middle;\n",
       "    }\n",
       "\n",
       "    .dataframe tbody tr th {\n",
       "        vertical-align: top;\n",
       "    }\n",
       "\n",
       "    .dataframe thead th {\n",
       "        text-align: right;\n",
       "    }\n",
       "</style>\n",
       "<table border=\"1\" class=\"dataframe\">\n",
       "  <thead>\n",
       "    <tr style=\"text-align: right;\">\n",
       "      <th></th>\n",
       "      <th>CountryName</th>\n",
       "      <th>CountryCode</th>\n",
       "      <th>BirthRate</th>\n",
       "      <th>InternetUsers</th>\n",
       "      <th>IncomeGroup</th>\n",
       "    </tr>\n",
       "  </thead>\n",
       "  <tbody>\n",
       "    <tr>\n",
       "      <th>0</th>\n",
       "      <td>Aruba</td>\n",
       "      <td>ABW</td>\n",
       "      <td>10.244</td>\n",
       "      <td>78.9</td>\n",
       "      <td>High income</td>\n",
       "    </tr>\n",
       "    <tr>\n",
       "      <th>1</th>\n",
       "      <td>Afghanistan</td>\n",
       "      <td>AFG</td>\n",
       "      <td>35.253</td>\n",
       "      <td>5.9</td>\n",
       "      <td>Low income</td>\n",
       "    </tr>\n",
       "    <tr>\n",
       "      <th>2</th>\n",
       "      <td>Angola</td>\n",
       "      <td>AGO</td>\n",
       "      <td>45.985</td>\n",
       "      <td>19.1</td>\n",
       "      <td>Upper middle income</td>\n",
       "    </tr>\n",
       "    <tr>\n",
       "      <th>3</th>\n",
       "      <td>Albania</td>\n",
       "      <td>ALB</td>\n",
       "      <td>12.877</td>\n",
       "      <td>57.2</td>\n",
       "      <td>Upper middle income</td>\n",
       "    </tr>\n",
       "    <tr>\n",
       "      <th>4</th>\n",
       "      <td>United Arab Emirates</td>\n",
       "      <td>ARE</td>\n",
       "      <td>11.044</td>\n",
       "      <td>88.0</td>\n",
       "      <td>High income</td>\n",
       "    </tr>\n",
       "  </tbody>\n",
       "</table>\n",
       "</div>"
      ],
      "text/plain": [
       "            CountryName CountryCode  BirthRate  InternetUsers  \\\n",
       "0                 Aruba         ABW     10.244           78.9   \n",
       "1           Afghanistan         AFG     35.253            5.9   \n",
       "2                Angola         AGO     45.985           19.1   \n",
       "3               Albania         ALB     12.877           57.2   \n",
       "4  United Arab Emirates         ARE     11.044           88.0   \n",
       "\n",
       "           IncomeGroup  \n",
       "0          High income  \n",
       "1           Low income  \n",
       "2  Upper middle income  \n",
       "3  Upper middle income  \n",
       "4          High income  "
      ]
     },
     "execution_count": 11,
     "metadata": {},
     "output_type": "execute_result"
    }
   ],
   "source": [
    "df.head()"
   ]
  },
  {
   "cell_type": "code",
   "execution_count": 12,
   "id": "9d29c9dc",
   "metadata": {},
   "outputs": [
    {
     "data": {
      "application/vnd.microsoft.datawrangler.viewer.v0+json": {
       "columns": [
        {
         "name": "index",
         "rawType": "int64",
         "type": "integer"
        },
        {
         "name": "CountryName",
         "rawType": "object",
         "type": "string"
        },
        {
         "name": "CountryCode",
         "rawType": "object",
         "type": "string"
        },
        {
         "name": "BirthRate",
         "rawType": "float64",
         "type": "float"
        },
        {
         "name": "InternetUsers",
         "rawType": "float64",
         "type": "float"
        },
        {
         "name": "IncomeGroup",
         "rawType": "object",
         "type": "string"
        }
       ],
       "ref": "0389d841-b5d9-46e0-a149-2b084d5a25ee",
       "rows": [
        [
         "0",
         "Aruba",
         "ABW",
         "10.244",
         "78.9",
         "High income"
        ],
        [
         "1",
         "Afghanistan",
         "AFG",
         "35.253",
         "5.9",
         "Low income"
        ],
        [
         "2",
         "Angola",
         "AGO",
         "45.985",
         "19.1",
         "Upper middle income"
        ],
        [
         "3",
         "Albania",
         "ALB",
         "12.877",
         "57.2",
         "Upper middle income"
        ],
        [
         "4",
         "United Arab Emirates",
         "ARE",
         "11.044",
         "88.0",
         "High income"
        ],
        [
         "5",
         "Argentina",
         "ARG",
         "17.716",
         "59.9",
         "High income"
        ]
       ],
       "shape": {
        "columns": 5,
        "rows": 6
       }
      },
      "text/html": [
       "<div>\n",
       "<style scoped>\n",
       "    .dataframe tbody tr th:only-of-type {\n",
       "        vertical-align: middle;\n",
       "    }\n",
       "\n",
       "    .dataframe tbody tr th {\n",
       "        vertical-align: top;\n",
       "    }\n",
       "\n",
       "    .dataframe thead th {\n",
       "        text-align: right;\n",
       "    }\n",
       "</style>\n",
       "<table border=\"1\" class=\"dataframe\">\n",
       "  <thead>\n",
       "    <tr style=\"text-align: right;\">\n",
       "      <th></th>\n",
       "      <th>CountryName</th>\n",
       "      <th>CountryCode</th>\n",
       "      <th>BirthRate</th>\n",
       "      <th>InternetUsers</th>\n",
       "      <th>IncomeGroup</th>\n",
       "    </tr>\n",
       "  </thead>\n",
       "  <tbody>\n",
       "    <tr>\n",
       "      <th>0</th>\n",
       "      <td>Aruba</td>\n",
       "      <td>ABW</td>\n",
       "      <td>10.244</td>\n",
       "      <td>78.9</td>\n",
       "      <td>High income</td>\n",
       "    </tr>\n",
       "    <tr>\n",
       "      <th>1</th>\n",
       "      <td>Afghanistan</td>\n",
       "      <td>AFG</td>\n",
       "      <td>35.253</td>\n",
       "      <td>5.9</td>\n",
       "      <td>Low income</td>\n",
       "    </tr>\n",
       "    <tr>\n",
       "      <th>2</th>\n",
       "      <td>Angola</td>\n",
       "      <td>AGO</td>\n",
       "      <td>45.985</td>\n",
       "      <td>19.1</td>\n",
       "      <td>Upper middle income</td>\n",
       "    </tr>\n",
       "    <tr>\n",
       "      <th>3</th>\n",
       "      <td>Albania</td>\n",
       "      <td>ALB</td>\n",
       "      <td>12.877</td>\n",
       "      <td>57.2</td>\n",
       "      <td>Upper middle income</td>\n",
       "    </tr>\n",
       "    <tr>\n",
       "      <th>4</th>\n",
       "      <td>United Arab Emirates</td>\n",
       "      <td>ARE</td>\n",
       "      <td>11.044</td>\n",
       "      <td>88.0</td>\n",
       "      <td>High income</td>\n",
       "    </tr>\n",
       "    <tr>\n",
       "      <th>5</th>\n",
       "      <td>Argentina</td>\n",
       "      <td>ARG</td>\n",
       "      <td>17.716</td>\n",
       "      <td>59.9</td>\n",
       "      <td>High income</td>\n",
       "    </tr>\n",
       "  </tbody>\n",
       "</table>\n",
       "</div>"
      ],
      "text/plain": [
       "            CountryName CountryCode  BirthRate  InternetUsers  \\\n",
       "0                 Aruba         ABW     10.244           78.9   \n",
       "1           Afghanistan         AFG     35.253            5.9   \n",
       "2                Angola         AGO     45.985           19.1   \n",
       "3               Albania         ALB     12.877           57.2   \n",
       "4  United Arab Emirates         ARE     11.044           88.0   \n",
       "5             Argentina         ARG     17.716           59.9   \n",
       "\n",
       "           IncomeGroup  \n",
       "0          High income  \n",
       "1           Low income  \n",
       "2  Upper middle income  \n",
       "3  Upper middle income  \n",
       "4          High income  \n",
       "5          High income  "
      ]
     },
     "execution_count": 12,
     "metadata": {},
     "output_type": "execute_result"
    }
   ],
   "source": [
    "df.head(6)"
   ]
  },
  {
   "cell_type": "code",
   "execution_count": 13,
   "id": "0aab6550",
   "metadata": {},
   "outputs": [
    {
     "data": {
      "application/vnd.microsoft.datawrangler.viewer.v0+json": {
       "columns": [
        {
         "name": "index",
         "rawType": "int64",
         "type": "integer"
        },
        {
         "name": "CountryName",
         "rawType": "object",
         "type": "string"
        },
        {
         "name": "CountryCode",
         "rawType": "object",
         "type": "string"
        },
        {
         "name": "BirthRate",
         "rawType": "float64",
         "type": "float"
        },
        {
         "name": "InternetUsers",
         "rawType": "float64",
         "type": "float"
        },
        {
         "name": "IncomeGroup",
         "rawType": "object",
         "type": "string"
        }
       ],
       "ref": "b5bbc73d-ed96-46ec-ae38-2b5b12177151",
       "rows": [
        [
         "190",
         "Yemen, Rep.",
         "YEM",
         "32.947",
         "20.0",
         "Lower middle income"
        ],
        [
         "191",
         "South Africa",
         "ZAF",
         "20.85",
         "46.5",
         "Upper middle income"
        ],
        [
         "192",
         "Congo, Dem. Rep.",
         "COD",
         "42.394",
         "2.2",
         "Low income"
        ],
        [
         "193",
         "Zambia",
         "ZMB",
         "40.471",
         "15.4",
         "Lower middle income"
        ],
        [
         "194",
         "Zimbabwe",
         "ZWE",
         "35.715",
         "18.5",
         "Low income"
        ]
       ],
       "shape": {
        "columns": 5,
        "rows": 5
       }
      },
      "text/html": [
       "<div>\n",
       "<style scoped>\n",
       "    .dataframe tbody tr th:only-of-type {\n",
       "        vertical-align: middle;\n",
       "    }\n",
       "\n",
       "    .dataframe tbody tr th {\n",
       "        vertical-align: top;\n",
       "    }\n",
       "\n",
       "    .dataframe thead th {\n",
       "        text-align: right;\n",
       "    }\n",
       "</style>\n",
       "<table border=\"1\" class=\"dataframe\">\n",
       "  <thead>\n",
       "    <tr style=\"text-align: right;\">\n",
       "      <th></th>\n",
       "      <th>CountryName</th>\n",
       "      <th>CountryCode</th>\n",
       "      <th>BirthRate</th>\n",
       "      <th>InternetUsers</th>\n",
       "      <th>IncomeGroup</th>\n",
       "    </tr>\n",
       "  </thead>\n",
       "  <tbody>\n",
       "    <tr>\n",
       "      <th>190</th>\n",
       "      <td>Yemen, Rep.</td>\n",
       "      <td>YEM</td>\n",
       "      <td>32.947</td>\n",
       "      <td>20.0</td>\n",
       "      <td>Lower middle income</td>\n",
       "    </tr>\n",
       "    <tr>\n",
       "      <th>191</th>\n",
       "      <td>South Africa</td>\n",
       "      <td>ZAF</td>\n",
       "      <td>20.850</td>\n",
       "      <td>46.5</td>\n",
       "      <td>Upper middle income</td>\n",
       "    </tr>\n",
       "    <tr>\n",
       "      <th>192</th>\n",
       "      <td>Congo, Dem. Rep.</td>\n",
       "      <td>COD</td>\n",
       "      <td>42.394</td>\n",
       "      <td>2.2</td>\n",
       "      <td>Low income</td>\n",
       "    </tr>\n",
       "    <tr>\n",
       "      <th>193</th>\n",
       "      <td>Zambia</td>\n",
       "      <td>ZMB</td>\n",
       "      <td>40.471</td>\n",
       "      <td>15.4</td>\n",
       "      <td>Lower middle income</td>\n",
       "    </tr>\n",
       "    <tr>\n",
       "      <th>194</th>\n",
       "      <td>Zimbabwe</td>\n",
       "      <td>ZWE</td>\n",
       "      <td>35.715</td>\n",
       "      <td>18.5</td>\n",
       "      <td>Low income</td>\n",
       "    </tr>\n",
       "  </tbody>\n",
       "</table>\n",
       "</div>"
      ],
      "text/plain": [
       "          CountryName CountryCode  BirthRate  InternetUsers  \\\n",
       "190       Yemen, Rep.         YEM     32.947           20.0   \n",
       "191      South Africa         ZAF     20.850           46.5   \n",
       "192  Congo, Dem. Rep.         COD     42.394            2.2   \n",
       "193            Zambia         ZMB     40.471           15.4   \n",
       "194          Zimbabwe         ZWE     35.715           18.5   \n",
       "\n",
       "             IncomeGroup  \n",
       "190  Lower middle income  \n",
       "191  Upper middle income  \n",
       "192           Low income  \n",
       "193  Lower middle income  \n",
       "194           Low income  "
      ]
     },
     "execution_count": 13,
     "metadata": {},
     "output_type": "execute_result"
    }
   ],
   "source": [
    "df.tail()"
   ]
  },
  {
   "cell_type": "code",
   "execution_count": 14,
   "id": "16d8257d",
   "metadata": {},
   "outputs": [
    {
     "data": {
      "application/vnd.microsoft.datawrangler.viewer.v0+json": {
       "columns": [
        {
         "name": "index",
         "rawType": "int64",
         "type": "integer"
        },
        {
         "name": "CountryName",
         "rawType": "object",
         "type": "string"
        },
        {
         "name": "CountryCode",
         "rawType": "object",
         "type": "string"
        },
        {
         "name": "BirthRate",
         "rawType": "float64",
         "type": "float"
        },
        {
         "name": "InternetUsers",
         "rawType": "float64",
         "type": "float"
        },
        {
         "name": "IncomeGroup",
         "rawType": "object",
         "type": "string"
        }
       ],
       "ref": "09ca1b35-e4e9-49f5-afbf-e7a0c7938f31",
       "rows": [
        [
         "187",
         "Vanuatu",
         "VUT",
         "26.739",
         "11.3",
         "Lower middle income"
        ],
        [
         "188",
         "West Bank and Gaza",
         "PSE",
         "30.394",
         "46.6",
         "Lower middle income"
        ],
        [
         "189",
         "Samoa",
         "WSM",
         "26.172",
         "15.3",
         "Lower middle income"
        ],
        [
         "190",
         "Yemen, Rep.",
         "YEM",
         "32.947",
         "20.0",
         "Lower middle income"
        ],
        [
         "191",
         "South Africa",
         "ZAF",
         "20.85",
         "46.5",
         "Upper middle income"
        ],
        [
         "192",
         "Congo, Dem. Rep.",
         "COD",
         "42.394",
         "2.2",
         "Low income"
        ],
        [
         "193",
         "Zambia",
         "ZMB",
         "40.471",
         "15.4",
         "Lower middle income"
        ],
        [
         "194",
         "Zimbabwe",
         "ZWE",
         "35.715",
         "18.5",
         "Low income"
        ]
       ],
       "shape": {
        "columns": 5,
        "rows": 8
       }
      },
      "text/html": [
       "<div>\n",
       "<style scoped>\n",
       "    .dataframe tbody tr th:only-of-type {\n",
       "        vertical-align: middle;\n",
       "    }\n",
       "\n",
       "    .dataframe tbody tr th {\n",
       "        vertical-align: top;\n",
       "    }\n",
       "\n",
       "    .dataframe thead th {\n",
       "        text-align: right;\n",
       "    }\n",
       "</style>\n",
       "<table border=\"1\" class=\"dataframe\">\n",
       "  <thead>\n",
       "    <tr style=\"text-align: right;\">\n",
       "      <th></th>\n",
       "      <th>CountryName</th>\n",
       "      <th>CountryCode</th>\n",
       "      <th>BirthRate</th>\n",
       "      <th>InternetUsers</th>\n",
       "      <th>IncomeGroup</th>\n",
       "    </tr>\n",
       "  </thead>\n",
       "  <tbody>\n",
       "    <tr>\n",
       "      <th>187</th>\n",
       "      <td>Vanuatu</td>\n",
       "      <td>VUT</td>\n",
       "      <td>26.739</td>\n",
       "      <td>11.3</td>\n",
       "      <td>Lower middle income</td>\n",
       "    </tr>\n",
       "    <tr>\n",
       "      <th>188</th>\n",
       "      <td>West Bank and Gaza</td>\n",
       "      <td>PSE</td>\n",
       "      <td>30.394</td>\n",
       "      <td>46.6</td>\n",
       "      <td>Lower middle income</td>\n",
       "    </tr>\n",
       "    <tr>\n",
       "      <th>189</th>\n",
       "      <td>Samoa</td>\n",
       "      <td>WSM</td>\n",
       "      <td>26.172</td>\n",
       "      <td>15.3</td>\n",
       "      <td>Lower middle income</td>\n",
       "    </tr>\n",
       "    <tr>\n",
       "      <th>190</th>\n",
       "      <td>Yemen, Rep.</td>\n",
       "      <td>YEM</td>\n",
       "      <td>32.947</td>\n",
       "      <td>20.0</td>\n",
       "      <td>Lower middle income</td>\n",
       "    </tr>\n",
       "    <tr>\n",
       "      <th>191</th>\n",
       "      <td>South Africa</td>\n",
       "      <td>ZAF</td>\n",
       "      <td>20.850</td>\n",
       "      <td>46.5</td>\n",
       "      <td>Upper middle income</td>\n",
       "    </tr>\n",
       "    <tr>\n",
       "      <th>192</th>\n",
       "      <td>Congo, Dem. Rep.</td>\n",
       "      <td>COD</td>\n",
       "      <td>42.394</td>\n",
       "      <td>2.2</td>\n",
       "      <td>Low income</td>\n",
       "    </tr>\n",
       "    <tr>\n",
       "      <th>193</th>\n",
       "      <td>Zambia</td>\n",
       "      <td>ZMB</td>\n",
       "      <td>40.471</td>\n",
       "      <td>15.4</td>\n",
       "      <td>Lower middle income</td>\n",
       "    </tr>\n",
       "    <tr>\n",
       "      <th>194</th>\n",
       "      <td>Zimbabwe</td>\n",
       "      <td>ZWE</td>\n",
       "      <td>35.715</td>\n",
       "      <td>18.5</td>\n",
       "      <td>Low income</td>\n",
       "    </tr>\n",
       "  </tbody>\n",
       "</table>\n",
       "</div>"
      ],
      "text/plain": [
       "            CountryName CountryCode  BirthRate  InternetUsers  \\\n",
       "187             Vanuatu         VUT     26.739           11.3   \n",
       "188  West Bank and Gaza         PSE     30.394           46.6   \n",
       "189               Samoa         WSM     26.172           15.3   \n",
       "190         Yemen, Rep.         YEM     32.947           20.0   \n",
       "191        South Africa         ZAF     20.850           46.5   \n",
       "192    Congo, Dem. Rep.         COD     42.394            2.2   \n",
       "193              Zambia         ZMB     40.471           15.4   \n",
       "194            Zimbabwe         ZWE     35.715           18.5   \n",
       "\n",
       "             IncomeGroup  \n",
       "187  Lower middle income  \n",
       "188  Lower middle income  \n",
       "189  Lower middle income  \n",
       "190  Lower middle income  \n",
       "191  Upper middle income  \n",
       "192           Low income  \n",
       "193  Lower middle income  \n",
       "194           Low income  "
      ]
     },
     "execution_count": 14,
     "metadata": {},
     "output_type": "execute_result"
    }
   ],
   "source": [
    "df.tail(8)"
   ]
  },
  {
   "cell_type": "code",
   "execution_count": 15,
   "id": "7cea0c7a",
   "metadata": {},
   "outputs": [
    {
     "data": {
      "text/plain": [
       "<bound method DataFrame.info of               CountryName CountryCode  BirthRate  InternetUsers  \\\n",
       "0                   Aruba         ABW     10.244           78.9   \n",
       "1             Afghanistan         AFG     35.253            5.9   \n",
       "2                  Angola         AGO     45.985           19.1   \n",
       "3                 Albania         ALB     12.877           57.2   \n",
       "4    United Arab Emirates         ARE     11.044           88.0   \n",
       "..                    ...         ...        ...            ...   \n",
       "190           Yemen, Rep.         YEM     32.947           20.0   \n",
       "191          South Africa         ZAF     20.850           46.5   \n",
       "192      Congo, Dem. Rep.         COD     42.394            2.2   \n",
       "193                Zambia         ZMB     40.471           15.4   \n",
       "194              Zimbabwe         ZWE     35.715           18.5   \n",
       "\n",
       "             IncomeGroup  \n",
       "0            High income  \n",
       "1             Low income  \n",
       "2    Upper middle income  \n",
       "3    Upper middle income  \n",
       "4            High income  \n",
       "..                   ...  \n",
       "190  Lower middle income  \n",
       "191  Upper middle income  \n",
       "192           Low income  \n",
       "193  Lower middle income  \n",
       "194           Low income  \n",
       "\n",
       "[195 rows x 5 columns]>"
      ]
     },
     "execution_count": 15,
     "metadata": {},
     "output_type": "execute_result"
    }
   ],
   "source": [
    "df.info"
   ]
  },
  {
   "cell_type": "code",
   "execution_count": 16,
   "id": "6b9c64ba",
   "metadata": {},
   "outputs": [
    {
     "data": {
      "application/vnd.microsoft.datawrangler.viewer.v0+json": {
       "columns": [
        {
         "name": "index",
         "rawType": "object",
         "type": "string"
        },
        {
         "name": "0",
         "rawType": "object",
         "type": "unknown"
        }
       ],
       "ref": "e3b2f8dc-5394-4093-b2eb-00e1d0d8b513",
       "rows": [
        [
         "CountryName",
         "object"
        ],
        [
         "CountryCode",
         "object"
        ],
        [
         "BirthRate",
         "float64"
        ],
        [
         "InternetUsers",
         "float64"
        ],
        [
         "IncomeGroup",
         "object"
        ]
       ],
       "shape": {
        "columns": 1,
        "rows": 5
       }
      },
      "text/plain": [
       "CountryName       object\n",
       "CountryCode       object\n",
       "BirthRate        float64\n",
       "InternetUsers    float64\n",
       "IncomeGroup       object\n",
       "dtype: object"
      ]
     },
     "execution_count": 16,
     "metadata": {},
     "output_type": "execute_result"
    }
   ],
   "source": [
    "df.dtypes"
   ]
  },
  {
   "cell_type": "code",
   "execution_count": 17,
   "id": "bec04035",
   "metadata": {},
   "outputs": [
    {
     "data": {
      "application/vnd.microsoft.datawrangler.viewer.v0+json": {
       "columns": [
        {
         "name": "index",
         "rawType": "int64",
         "type": "integer"
        },
        {
         "name": "CountryName",
         "rawType": "bool",
         "type": "boolean"
        },
        {
         "name": "CountryCode",
         "rawType": "bool",
         "type": "boolean"
        },
        {
         "name": "BirthRate",
         "rawType": "bool",
         "type": "boolean"
        },
        {
         "name": "InternetUsers",
         "rawType": "bool",
         "type": "boolean"
        },
        {
         "name": "IncomeGroup",
         "rawType": "bool",
         "type": "boolean"
        }
       ],
       "ref": "af16a0b7-7809-4644-a923-c5cfdb555cb3",
       "rows": [
        [
         "0",
         "False",
         "False",
         "False",
         "False",
         "False"
        ],
        [
         "1",
         "False",
         "False",
         "False",
         "False",
         "False"
        ],
        [
         "2",
         "False",
         "False",
         "False",
         "False",
         "False"
        ],
        [
         "3",
         "False",
         "False",
         "False",
         "False",
         "False"
        ],
        [
         "4",
         "False",
         "False",
         "False",
         "False",
         "False"
        ],
        [
         "5",
         "False",
         "False",
         "False",
         "False",
         "False"
        ],
        [
         "6",
         "False",
         "False",
         "False",
         "False",
         "False"
        ],
        [
         "7",
         "False",
         "False",
         "False",
         "False",
         "False"
        ],
        [
         "8",
         "False",
         "False",
         "False",
         "False",
         "False"
        ],
        [
         "9",
         "False",
         "False",
         "False",
         "False",
         "False"
        ],
        [
         "10",
         "False",
         "False",
         "False",
         "False",
         "False"
        ],
        [
         "11",
         "False",
         "False",
         "False",
         "False",
         "False"
        ],
        [
         "12",
         "False",
         "False",
         "False",
         "False",
         "False"
        ],
        [
         "13",
         "False",
         "False",
         "False",
         "False",
         "False"
        ],
        [
         "14",
         "False",
         "False",
         "False",
         "False",
         "False"
        ],
        [
         "15",
         "False",
         "False",
         "False",
         "False",
         "False"
        ],
        [
         "16",
         "False",
         "False",
         "False",
         "False",
         "False"
        ],
        [
         "17",
         "False",
         "False",
         "False",
         "False",
         "False"
        ],
        [
         "18",
         "False",
         "False",
         "False",
         "False",
         "False"
        ],
        [
         "19",
         "False",
         "False",
         "False",
         "False",
         "False"
        ],
        [
         "20",
         "False",
         "False",
         "False",
         "False",
         "False"
        ],
        [
         "21",
         "False",
         "False",
         "False",
         "False",
         "False"
        ],
        [
         "22",
         "False",
         "False",
         "False",
         "False",
         "False"
        ],
        [
         "23",
         "False",
         "False",
         "False",
         "False",
         "False"
        ],
        [
         "24",
         "False",
         "False",
         "False",
         "False",
         "False"
        ],
        [
         "25",
         "False",
         "False",
         "False",
         "False",
         "False"
        ],
        [
         "26",
         "False",
         "False",
         "False",
         "False",
         "False"
        ],
        [
         "27",
         "False",
         "False",
         "False",
         "False",
         "False"
        ],
        [
         "28",
         "False",
         "False",
         "False",
         "False",
         "False"
        ],
        [
         "29",
         "False",
         "False",
         "False",
         "False",
         "False"
        ],
        [
         "30",
         "False",
         "False",
         "False",
         "False",
         "False"
        ],
        [
         "31",
         "False",
         "False",
         "False",
         "False",
         "False"
        ],
        [
         "32",
         "False",
         "False",
         "False",
         "False",
         "False"
        ],
        [
         "33",
         "False",
         "False",
         "False",
         "False",
         "False"
        ],
        [
         "34",
         "False",
         "False",
         "False",
         "False",
         "False"
        ],
        [
         "35",
         "False",
         "False",
         "False",
         "False",
         "False"
        ],
        [
         "36",
         "False",
         "False",
         "False",
         "False",
         "False"
        ],
        [
         "37",
         "False",
         "False",
         "False",
         "False",
         "False"
        ],
        [
         "38",
         "False",
         "False",
         "False",
         "False",
         "False"
        ],
        [
         "39",
         "False",
         "False",
         "False",
         "False",
         "False"
        ],
        [
         "40",
         "False",
         "False",
         "False",
         "False",
         "False"
        ],
        [
         "41",
         "False",
         "False",
         "False",
         "False",
         "False"
        ],
        [
         "42",
         "False",
         "False",
         "False",
         "False",
         "False"
        ],
        [
         "43",
         "False",
         "False",
         "False",
         "False",
         "False"
        ],
        [
         "44",
         "False",
         "False",
         "False",
         "False",
         "False"
        ],
        [
         "45",
         "False",
         "False",
         "False",
         "False",
         "False"
        ],
        [
         "46",
         "False",
         "False",
         "False",
         "False",
         "False"
        ],
        [
         "47",
         "False",
         "False",
         "False",
         "False",
         "False"
        ],
        [
         "48",
         "False",
         "False",
         "False",
         "False",
         "False"
        ],
        [
         "49",
         "False",
         "False",
         "False",
         "False",
         "False"
        ]
       ],
       "shape": {
        "columns": 5,
        "rows": 195
       }
      },
      "text/html": [
       "<div>\n",
       "<style scoped>\n",
       "    .dataframe tbody tr th:only-of-type {\n",
       "        vertical-align: middle;\n",
       "    }\n",
       "\n",
       "    .dataframe tbody tr th {\n",
       "        vertical-align: top;\n",
       "    }\n",
       "\n",
       "    .dataframe thead th {\n",
       "        text-align: right;\n",
       "    }\n",
       "</style>\n",
       "<table border=\"1\" class=\"dataframe\">\n",
       "  <thead>\n",
       "    <tr style=\"text-align: right;\">\n",
       "      <th></th>\n",
       "      <th>CountryName</th>\n",
       "      <th>CountryCode</th>\n",
       "      <th>BirthRate</th>\n",
       "      <th>InternetUsers</th>\n",
       "      <th>IncomeGroup</th>\n",
       "    </tr>\n",
       "  </thead>\n",
       "  <tbody>\n",
       "    <tr>\n",
       "      <th>0</th>\n",
       "      <td>False</td>\n",
       "      <td>False</td>\n",
       "      <td>False</td>\n",
       "      <td>False</td>\n",
       "      <td>False</td>\n",
       "    </tr>\n",
       "    <tr>\n",
       "      <th>1</th>\n",
       "      <td>False</td>\n",
       "      <td>False</td>\n",
       "      <td>False</td>\n",
       "      <td>False</td>\n",
       "      <td>False</td>\n",
       "    </tr>\n",
       "    <tr>\n",
       "      <th>2</th>\n",
       "      <td>False</td>\n",
       "      <td>False</td>\n",
       "      <td>False</td>\n",
       "      <td>False</td>\n",
       "      <td>False</td>\n",
       "    </tr>\n",
       "    <tr>\n",
       "      <th>3</th>\n",
       "      <td>False</td>\n",
       "      <td>False</td>\n",
       "      <td>False</td>\n",
       "      <td>False</td>\n",
       "      <td>False</td>\n",
       "    </tr>\n",
       "    <tr>\n",
       "      <th>4</th>\n",
       "      <td>False</td>\n",
       "      <td>False</td>\n",
       "      <td>False</td>\n",
       "      <td>False</td>\n",
       "      <td>False</td>\n",
       "    </tr>\n",
       "    <tr>\n",
       "      <th>...</th>\n",
       "      <td>...</td>\n",
       "      <td>...</td>\n",
       "      <td>...</td>\n",
       "      <td>...</td>\n",
       "      <td>...</td>\n",
       "    </tr>\n",
       "    <tr>\n",
       "      <th>190</th>\n",
       "      <td>False</td>\n",
       "      <td>False</td>\n",
       "      <td>False</td>\n",
       "      <td>False</td>\n",
       "      <td>False</td>\n",
       "    </tr>\n",
       "    <tr>\n",
       "      <th>191</th>\n",
       "      <td>False</td>\n",
       "      <td>False</td>\n",
       "      <td>False</td>\n",
       "      <td>False</td>\n",
       "      <td>False</td>\n",
       "    </tr>\n",
       "    <tr>\n",
       "      <th>192</th>\n",
       "      <td>False</td>\n",
       "      <td>False</td>\n",
       "      <td>False</td>\n",
       "      <td>False</td>\n",
       "      <td>False</td>\n",
       "    </tr>\n",
       "    <tr>\n",
       "      <th>193</th>\n",
       "      <td>False</td>\n",
       "      <td>False</td>\n",
       "      <td>False</td>\n",
       "      <td>False</td>\n",
       "      <td>False</td>\n",
       "    </tr>\n",
       "    <tr>\n",
       "      <th>194</th>\n",
       "      <td>False</td>\n",
       "      <td>False</td>\n",
       "      <td>False</td>\n",
       "      <td>False</td>\n",
       "      <td>False</td>\n",
       "    </tr>\n",
       "  </tbody>\n",
       "</table>\n",
       "<p>195 rows × 5 columns</p>\n",
       "</div>"
      ],
      "text/plain": [
       "     CountryName  CountryCode  BirthRate  InternetUsers  IncomeGroup\n",
       "0          False        False      False          False        False\n",
       "1          False        False      False          False        False\n",
       "2          False        False      False          False        False\n",
       "3          False        False      False          False        False\n",
       "4          False        False      False          False        False\n",
       "..           ...          ...        ...            ...          ...\n",
       "190        False        False      False          False        False\n",
       "191        False        False      False          False        False\n",
       "192        False        False      False          False        False\n",
       "193        False        False      False          False        False\n",
       "194        False        False      False          False        False\n",
       "\n",
       "[195 rows x 5 columns]"
      ]
     },
     "execution_count": 17,
     "metadata": {},
     "output_type": "execute_result"
    }
   ],
   "source": [
    "df.isnull()"
   ]
  },
  {
   "cell_type": "code",
   "execution_count": 18,
   "id": "832fe2fc",
   "metadata": {},
   "outputs": [
    {
     "data": {
      "application/vnd.microsoft.datawrangler.viewer.v0+json": {
       "columns": [
        {
         "name": "index",
         "rawType": "object",
         "type": "string"
        },
        {
         "name": "0",
         "rawType": "int64",
         "type": "integer"
        }
       ],
       "ref": "17d5b84f-1d6c-4ab9-87f5-d2035415ad81",
       "rows": [
        [
         "CountryName",
         "0"
        ],
        [
         "CountryCode",
         "0"
        ],
        [
         "BirthRate",
         "0"
        ],
        [
         "InternetUsers",
         "0"
        ],
        [
         "IncomeGroup",
         "0"
        ]
       ],
       "shape": {
        "columns": 1,
        "rows": 5
       }
      },
      "text/plain": [
       "CountryName      0\n",
       "CountryCode      0\n",
       "BirthRate        0\n",
       "InternetUsers    0\n",
       "IncomeGroup      0\n",
       "dtype: int64"
      ]
     },
     "execution_count": 18,
     "metadata": {},
     "output_type": "execute_result"
    }
   ],
   "source": [
    "df.isnull().sum()"
   ]
  },
  {
   "cell_type": "code",
   "execution_count": 19,
   "id": "0677b60f",
   "metadata": {},
   "outputs": [
    {
     "data": {
      "application/vnd.microsoft.datawrangler.viewer.v0+json": {
       "columns": [
        {
         "name": "index",
         "rawType": "int64",
         "type": "integer"
        },
        {
         "name": "CountryName",
         "rawType": "bool",
         "type": "boolean"
        },
        {
         "name": "CountryCode",
         "rawType": "bool",
         "type": "boolean"
        },
        {
         "name": "BirthRate",
         "rawType": "bool",
         "type": "boolean"
        },
        {
         "name": "InternetUsers",
         "rawType": "bool",
         "type": "boolean"
        },
        {
         "name": "IncomeGroup",
         "rawType": "bool",
         "type": "boolean"
        }
       ],
       "ref": "a2e1676d-6530-45e2-91b7-e0ae1ef2f29e",
       "rows": [
        [
         "0",
         "False",
         "False",
         "False",
         "False",
         "False"
        ],
        [
         "1",
         "False",
         "False",
         "False",
         "False",
         "False"
        ],
        [
         "2",
         "False",
         "False",
         "False",
         "False",
         "False"
        ],
        [
         "3",
         "False",
         "False",
         "False",
         "False",
         "False"
        ],
        [
         "4",
         "False",
         "False",
         "False",
         "False",
         "False"
        ],
        [
         "5",
         "False",
         "False",
         "False",
         "False",
         "False"
        ],
        [
         "6",
         "False",
         "False",
         "False",
         "False",
         "False"
        ],
        [
         "7",
         "False",
         "False",
         "False",
         "False",
         "False"
        ],
        [
         "8",
         "False",
         "False",
         "False",
         "False",
         "False"
        ],
        [
         "9",
         "False",
         "False",
         "False",
         "False",
         "False"
        ],
        [
         "10",
         "False",
         "False",
         "False",
         "False",
         "False"
        ],
        [
         "11",
         "False",
         "False",
         "False",
         "False",
         "False"
        ],
        [
         "12",
         "False",
         "False",
         "False",
         "False",
         "False"
        ],
        [
         "13",
         "False",
         "False",
         "False",
         "False",
         "False"
        ],
        [
         "14",
         "False",
         "False",
         "False",
         "False",
         "False"
        ],
        [
         "15",
         "False",
         "False",
         "False",
         "False",
         "False"
        ],
        [
         "16",
         "False",
         "False",
         "False",
         "False",
         "False"
        ],
        [
         "17",
         "False",
         "False",
         "False",
         "False",
         "False"
        ],
        [
         "18",
         "False",
         "False",
         "False",
         "False",
         "False"
        ],
        [
         "19",
         "False",
         "False",
         "False",
         "False",
         "False"
        ],
        [
         "20",
         "False",
         "False",
         "False",
         "False",
         "False"
        ],
        [
         "21",
         "False",
         "False",
         "False",
         "False",
         "False"
        ],
        [
         "22",
         "False",
         "False",
         "False",
         "False",
         "False"
        ],
        [
         "23",
         "False",
         "False",
         "False",
         "False",
         "False"
        ],
        [
         "24",
         "False",
         "False",
         "False",
         "False",
         "False"
        ],
        [
         "25",
         "False",
         "False",
         "False",
         "False",
         "False"
        ],
        [
         "26",
         "False",
         "False",
         "False",
         "False",
         "False"
        ],
        [
         "27",
         "False",
         "False",
         "False",
         "False",
         "False"
        ],
        [
         "28",
         "False",
         "False",
         "False",
         "False",
         "False"
        ],
        [
         "29",
         "False",
         "False",
         "False",
         "False",
         "False"
        ],
        [
         "30",
         "False",
         "False",
         "False",
         "False",
         "False"
        ],
        [
         "31",
         "False",
         "False",
         "False",
         "False",
         "False"
        ],
        [
         "32",
         "False",
         "False",
         "False",
         "False",
         "False"
        ],
        [
         "33",
         "False",
         "False",
         "False",
         "False",
         "False"
        ],
        [
         "34",
         "False",
         "False",
         "False",
         "False",
         "False"
        ],
        [
         "35",
         "False",
         "False",
         "False",
         "False",
         "False"
        ],
        [
         "36",
         "False",
         "False",
         "False",
         "False",
         "False"
        ],
        [
         "37",
         "False",
         "False",
         "False",
         "False",
         "False"
        ],
        [
         "38",
         "False",
         "False",
         "False",
         "False",
         "False"
        ],
        [
         "39",
         "False",
         "False",
         "False",
         "False",
         "False"
        ],
        [
         "40",
         "False",
         "False",
         "False",
         "False",
         "False"
        ],
        [
         "41",
         "False",
         "False",
         "False",
         "False",
         "False"
        ],
        [
         "42",
         "False",
         "False",
         "False",
         "False",
         "False"
        ],
        [
         "43",
         "False",
         "False",
         "False",
         "False",
         "False"
        ],
        [
         "44",
         "False",
         "False",
         "False",
         "False",
         "False"
        ],
        [
         "45",
         "False",
         "False",
         "False",
         "False",
         "False"
        ],
        [
         "46",
         "False",
         "False",
         "False",
         "False",
         "False"
        ],
        [
         "47",
         "False",
         "False",
         "False",
         "False",
         "False"
        ],
        [
         "48",
         "False",
         "False",
         "False",
         "False",
         "False"
        ],
        [
         "49",
         "False",
         "False",
         "False",
         "False",
         "False"
        ]
       ],
       "shape": {
        "columns": 5,
        "rows": 195
       }
      },
      "text/html": [
       "<div>\n",
       "<style scoped>\n",
       "    .dataframe tbody tr th:only-of-type {\n",
       "        vertical-align: middle;\n",
       "    }\n",
       "\n",
       "    .dataframe tbody tr th {\n",
       "        vertical-align: top;\n",
       "    }\n",
       "\n",
       "    .dataframe thead th {\n",
       "        text-align: right;\n",
       "    }\n",
       "</style>\n",
       "<table border=\"1\" class=\"dataframe\">\n",
       "  <thead>\n",
       "    <tr style=\"text-align: right;\">\n",
       "      <th></th>\n",
       "      <th>CountryName</th>\n",
       "      <th>CountryCode</th>\n",
       "      <th>BirthRate</th>\n",
       "      <th>InternetUsers</th>\n",
       "      <th>IncomeGroup</th>\n",
       "    </tr>\n",
       "  </thead>\n",
       "  <tbody>\n",
       "    <tr>\n",
       "      <th>0</th>\n",
       "      <td>False</td>\n",
       "      <td>False</td>\n",
       "      <td>False</td>\n",
       "      <td>False</td>\n",
       "      <td>False</td>\n",
       "    </tr>\n",
       "    <tr>\n",
       "      <th>1</th>\n",
       "      <td>False</td>\n",
       "      <td>False</td>\n",
       "      <td>False</td>\n",
       "      <td>False</td>\n",
       "      <td>False</td>\n",
       "    </tr>\n",
       "    <tr>\n",
       "      <th>2</th>\n",
       "      <td>False</td>\n",
       "      <td>False</td>\n",
       "      <td>False</td>\n",
       "      <td>False</td>\n",
       "      <td>False</td>\n",
       "    </tr>\n",
       "    <tr>\n",
       "      <th>3</th>\n",
       "      <td>False</td>\n",
       "      <td>False</td>\n",
       "      <td>False</td>\n",
       "      <td>False</td>\n",
       "      <td>False</td>\n",
       "    </tr>\n",
       "    <tr>\n",
       "      <th>4</th>\n",
       "      <td>False</td>\n",
       "      <td>False</td>\n",
       "      <td>False</td>\n",
       "      <td>False</td>\n",
       "      <td>False</td>\n",
       "    </tr>\n",
       "    <tr>\n",
       "      <th>...</th>\n",
       "      <td>...</td>\n",
       "      <td>...</td>\n",
       "      <td>...</td>\n",
       "      <td>...</td>\n",
       "      <td>...</td>\n",
       "    </tr>\n",
       "    <tr>\n",
       "      <th>190</th>\n",
       "      <td>False</td>\n",
       "      <td>False</td>\n",
       "      <td>False</td>\n",
       "      <td>False</td>\n",
       "      <td>False</td>\n",
       "    </tr>\n",
       "    <tr>\n",
       "      <th>191</th>\n",
       "      <td>False</td>\n",
       "      <td>False</td>\n",
       "      <td>False</td>\n",
       "      <td>False</td>\n",
       "      <td>False</td>\n",
       "    </tr>\n",
       "    <tr>\n",
       "      <th>192</th>\n",
       "      <td>False</td>\n",
       "      <td>False</td>\n",
       "      <td>False</td>\n",
       "      <td>False</td>\n",
       "      <td>False</td>\n",
       "    </tr>\n",
       "    <tr>\n",
       "      <th>193</th>\n",
       "      <td>False</td>\n",
       "      <td>False</td>\n",
       "      <td>False</td>\n",
       "      <td>False</td>\n",
       "      <td>False</td>\n",
       "    </tr>\n",
       "    <tr>\n",
       "      <th>194</th>\n",
       "      <td>False</td>\n",
       "      <td>False</td>\n",
       "      <td>False</td>\n",
       "      <td>False</td>\n",
       "      <td>False</td>\n",
       "    </tr>\n",
       "  </tbody>\n",
       "</table>\n",
       "<p>195 rows × 5 columns</p>\n",
       "</div>"
      ],
      "text/plain": [
       "     CountryName  CountryCode  BirthRate  InternetUsers  IncomeGroup\n",
       "0          False        False      False          False        False\n",
       "1          False        False      False          False        False\n",
       "2          False        False      False          False        False\n",
       "3          False        False      False          False        False\n",
       "4          False        False      False          False        False\n",
       "..           ...          ...        ...            ...          ...\n",
       "190        False        False      False          False        False\n",
       "191        False        False      False          False        False\n",
       "192        False        False      False          False        False\n",
       "193        False        False      False          False        False\n",
       "194        False        False      False          False        False\n",
       "\n",
       "[195 rows x 5 columns]"
      ]
     },
     "execution_count": 19,
     "metadata": {},
     "output_type": "execute_result"
    }
   ],
   "source": [
    "df.isna()"
   ]
  },
  {
   "cell_type": "code",
   "execution_count": 20,
   "id": "a41a63f5",
   "metadata": {},
   "outputs": [
    {
     "data": {
      "application/vnd.microsoft.datawrangler.viewer.v0+json": {
       "columns": [
        {
         "name": "index",
         "rawType": "object",
         "type": "string"
        },
        {
         "name": "BirthRate",
         "rawType": "float64",
         "type": "float"
        },
        {
         "name": "InternetUsers",
         "rawType": "float64",
         "type": "float"
        }
       ],
       "ref": "b3942278-4c0f-44ff-bf88-6a376423e637",
       "rows": [
        [
         "count",
         "195.0",
         "195.0"
        ],
        [
         "mean",
         "21.469928205128202",
         "42.07647089194872"
        ],
        [
         "std",
         "10.605466693579935",
         "29.030788424830398"
        ],
        [
         "min",
         "7.9",
         "0.9"
        ],
        [
         "25%",
         "12.1205",
         "14.52"
        ],
        [
         "50%",
         "19.68",
         "41.0"
        ],
        [
         "75%",
         "29.759500000000003",
         "66.225"
        ],
        [
         "max",
         "49.661",
         "96.5468"
        ]
       ],
       "shape": {
        "columns": 2,
        "rows": 8
       }
      },
      "text/html": [
       "<div>\n",
       "<style scoped>\n",
       "    .dataframe tbody tr th:only-of-type {\n",
       "        vertical-align: middle;\n",
       "    }\n",
       "\n",
       "    .dataframe tbody tr th {\n",
       "        vertical-align: top;\n",
       "    }\n",
       "\n",
       "    .dataframe thead th {\n",
       "        text-align: right;\n",
       "    }\n",
       "</style>\n",
       "<table border=\"1\" class=\"dataframe\">\n",
       "  <thead>\n",
       "    <tr style=\"text-align: right;\">\n",
       "      <th></th>\n",
       "      <th>BirthRate</th>\n",
       "      <th>InternetUsers</th>\n",
       "    </tr>\n",
       "  </thead>\n",
       "  <tbody>\n",
       "    <tr>\n",
       "      <th>count</th>\n",
       "      <td>195.000000</td>\n",
       "      <td>195.000000</td>\n",
       "    </tr>\n",
       "    <tr>\n",
       "      <th>mean</th>\n",
       "      <td>21.469928</td>\n",
       "      <td>42.076471</td>\n",
       "    </tr>\n",
       "    <tr>\n",
       "      <th>std</th>\n",
       "      <td>10.605467</td>\n",
       "      <td>29.030788</td>\n",
       "    </tr>\n",
       "    <tr>\n",
       "      <th>min</th>\n",
       "      <td>7.900000</td>\n",
       "      <td>0.900000</td>\n",
       "    </tr>\n",
       "    <tr>\n",
       "      <th>25%</th>\n",
       "      <td>12.120500</td>\n",
       "      <td>14.520000</td>\n",
       "    </tr>\n",
       "    <tr>\n",
       "      <th>50%</th>\n",
       "      <td>19.680000</td>\n",
       "      <td>41.000000</td>\n",
       "    </tr>\n",
       "    <tr>\n",
       "      <th>75%</th>\n",
       "      <td>29.759500</td>\n",
       "      <td>66.225000</td>\n",
       "    </tr>\n",
       "    <tr>\n",
       "      <th>max</th>\n",
       "      <td>49.661000</td>\n",
       "      <td>96.546800</td>\n",
       "    </tr>\n",
       "  </tbody>\n",
       "</table>\n",
       "</div>"
      ],
      "text/plain": [
       "        BirthRate  InternetUsers\n",
       "count  195.000000     195.000000\n",
       "mean    21.469928      42.076471\n",
       "std     10.605467      29.030788\n",
       "min      7.900000       0.900000\n",
       "25%     12.120500      14.520000\n",
       "50%     19.680000      41.000000\n",
       "75%     29.759500      66.225000\n",
       "max     49.661000      96.546800"
      ]
     },
     "execution_count": 20,
     "metadata": {},
     "output_type": "execute_result"
    }
   ],
   "source": [
    "df.describe()"
   ]
  },
  {
   "cell_type": "code",
   "execution_count": 21,
   "id": "3cd60b3b",
   "metadata": {},
   "outputs": [
    {
     "data": {
      "application/vnd.microsoft.datawrangler.viewer.v0+json": {
       "columns": [
        {
         "name": "index",
         "rawType": "object",
         "type": "string"
        },
        {
         "name": "count",
         "rawType": "float64",
         "type": "float"
        },
        {
         "name": "mean",
         "rawType": "float64",
         "type": "float"
        },
        {
         "name": "std",
         "rawType": "float64",
         "type": "float"
        },
        {
         "name": "min",
         "rawType": "float64",
         "type": "float"
        },
        {
         "name": "25%",
         "rawType": "float64",
         "type": "float"
        },
        {
         "name": "50%",
         "rawType": "float64",
         "type": "float"
        },
        {
         "name": "75%",
         "rawType": "float64",
         "type": "float"
        },
        {
         "name": "max",
         "rawType": "float64",
         "type": "float"
        }
       ],
       "ref": "b7544005-d484-4369-bae0-f43e729b20cd",
       "rows": [
        [
         "BirthRate",
         "195.0",
         "21.469928205128202",
         "10.605466693579935",
         "7.9",
         "12.1205",
         "19.68",
         "29.759500000000003",
         "49.661"
        ],
        [
         "InternetUsers",
         "195.0",
         "42.07647089194872",
         "29.030788424830398",
         "0.9",
         "14.52",
         "41.0",
         "66.225",
         "96.5468"
        ]
       ],
       "shape": {
        "columns": 8,
        "rows": 2
       }
      },
      "text/html": [
       "<div>\n",
       "<style scoped>\n",
       "    .dataframe tbody tr th:only-of-type {\n",
       "        vertical-align: middle;\n",
       "    }\n",
       "\n",
       "    .dataframe tbody tr th {\n",
       "        vertical-align: top;\n",
       "    }\n",
       "\n",
       "    .dataframe thead th {\n",
       "        text-align: right;\n",
       "    }\n",
       "</style>\n",
       "<table border=\"1\" class=\"dataframe\">\n",
       "  <thead>\n",
       "    <tr style=\"text-align: right;\">\n",
       "      <th></th>\n",
       "      <th>count</th>\n",
       "      <th>mean</th>\n",
       "      <th>std</th>\n",
       "      <th>min</th>\n",
       "      <th>25%</th>\n",
       "      <th>50%</th>\n",
       "      <th>75%</th>\n",
       "      <th>max</th>\n",
       "    </tr>\n",
       "  </thead>\n",
       "  <tbody>\n",
       "    <tr>\n",
       "      <th>BirthRate</th>\n",
       "      <td>195.0</td>\n",
       "      <td>21.469928</td>\n",
       "      <td>10.605467</td>\n",
       "      <td>7.9</td>\n",
       "      <td>12.1205</td>\n",
       "      <td>19.68</td>\n",
       "      <td>29.7595</td>\n",
       "      <td>49.6610</td>\n",
       "    </tr>\n",
       "    <tr>\n",
       "      <th>InternetUsers</th>\n",
       "      <td>195.0</td>\n",
       "      <td>42.076471</td>\n",
       "      <td>29.030788</td>\n",
       "      <td>0.9</td>\n",
       "      <td>14.5200</td>\n",
       "      <td>41.00</td>\n",
       "      <td>66.2250</td>\n",
       "      <td>96.5468</td>\n",
       "    </tr>\n",
       "  </tbody>\n",
       "</table>\n",
       "</div>"
      ],
      "text/plain": [
       "               count       mean        std  min      25%    50%      75%  \\\n",
       "BirthRate      195.0  21.469928  10.605467  7.9  12.1205  19.68  29.7595   \n",
       "InternetUsers  195.0  42.076471  29.030788  0.9  14.5200  41.00  66.2250   \n",
       "\n",
       "                   max  \n",
       "BirthRate      49.6610  \n",
       "InternetUsers  96.5468  "
      ]
     },
     "execution_count": 21,
     "metadata": {},
     "output_type": "execute_result"
    }
   ],
   "source": [
    "df.describe().T"
   ]
  },
  {
   "cell_type": "code",
   "execution_count": 22,
   "id": "61f18881",
   "metadata": {},
   "outputs": [
    {
     "data": {
      "application/vnd.microsoft.datawrangler.viewer.v0+json": {
       "columns": [
        {
         "name": "index",
         "rawType": "object",
         "type": "string"
        },
        {
         "name": "0",
         "rawType": "object",
         "type": "unknown"
        },
        {
         "name": "1",
         "rawType": "object",
         "type": "unknown"
        },
        {
         "name": "2",
         "rawType": "object",
         "type": "unknown"
        },
        {
         "name": "3",
         "rawType": "object",
         "type": "unknown"
        },
        {
         "name": "4",
         "rawType": "object",
         "type": "unknown"
        },
        {
         "name": "5",
         "rawType": "object",
         "type": "unknown"
        },
        {
         "name": "6",
         "rawType": "object",
         "type": "unknown"
        },
        {
         "name": "7",
         "rawType": "object",
         "type": "unknown"
        },
        {
         "name": "8",
         "rawType": "object",
         "type": "unknown"
        },
        {
         "name": "9",
         "rawType": "object",
         "type": "unknown"
        },
        {
         "name": "10",
         "rawType": "object",
         "type": "unknown"
        },
        {
         "name": "11",
         "rawType": "object",
         "type": "unknown"
        },
        {
         "name": "12",
         "rawType": "object",
         "type": "unknown"
        },
        {
         "name": "13",
         "rawType": "object",
         "type": "unknown"
        },
        {
         "name": "14",
         "rawType": "object",
         "type": "unknown"
        },
        {
         "name": "15",
         "rawType": "object",
         "type": "unknown"
        },
        {
         "name": "16",
         "rawType": "object",
         "type": "unknown"
        },
        {
         "name": "17",
         "rawType": "object",
         "type": "unknown"
        },
        {
         "name": "18",
         "rawType": "object",
         "type": "unknown"
        },
        {
         "name": "19",
         "rawType": "object",
         "type": "unknown"
        },
        {
         "name": "20",
         "rawType": "object",
         "type": "unknown"
        },
        {
         "name": "21",
         "rawType": "object",
         "type": "unknown"
        },
        {
         "name": "22",
         "rawType": "object",
         "type": "unknown"
        },
        {
         "name": "23",
         "rawType": "object",
         "type": "unknown"
        },
        {
         "name": "24",
         "rawType": "object",
         "type": "unknown"
        },
        {
         "name": "25",
         "rawType": "object",
         "type": "unknown"
        },
        {
         "name": "26",
         "rawType": "object",
         "type": "unknown"
        },
        {
         "name": "27",
         "rawType": "object",
         "type": "unknown"
        },
        {
         "name": "28",
         "rawType": "object",
         "type": "unknown"
        },
        {
         "name": "29",
         "rawType": "object",
         "type": "unknown"
        },
        {
         "name": "30",
         "rawType": "object",
         "type": "unknown"
        },
        {
         "name": "31",
         "rawType": "object",
         "type": "unknown"
        },
        {
         "name": "32",
         "rawType": "object",
         "type": "unknown"
        },
        {
         "name": "33",
         "rawType": "object",
         "type": "unknown"
        },
        {
         "name": "34",
         "rawType": "object",
         "type": "unknown"
        },
        {
         "name": "35",
         "rawType": "object",
         "type": "unknown"
        },
        {
         "name": "36",
         "rawType": "object",
         "type": "unknown"
        },
        {
         "name": "37",
         "rawType": "object",
         "type": "unknown"
        },
        {
         "name": "38",
         "rawType": "object",
         "type": "unknown"
        },
        {
         "name": "39",
         "rawType": "object",
         "type": "unknown"
        },
        {
         "name": "40",
         "rawType": "object",
         "type": "unknown"
        },
        {
         "name": "41",
         "rawType": "object",
         "type": "unknown"
        },
        {
         "name": "42",
         "rawType": "object",
         "type": "unknown"
        },
        {
         "name": "43",
         "rawType": "object",
         "type": "unknown"
        },
        {
         "name": "44",
         "rawType": "object",
         "type": "unknown"
        },
        {
         "name": "45",
         "rawType": "object",
         "type": "unknown"
        },
        {
         "name": "46",
         "rawType": "object",
         "type": "unknown"
        },
        {
         "name": "47",
         "rawType": "object",
         "type": "unknown"
        },
        {
         "name": "48",
         "rawType": "object",
         "type": "unknown"
        },
        {
         "name": "49",
         "rawType": "object",
         "type": "unknown"
        },
        {
         "name": "50",
         "rawType": "object",
         "type": "unknown"
        },
        {
         "name": "51",
         "rawType": "object",
         "type": "unknown"
        },
        {
         "name": "52",
         "rawType": "object",
         "type": "unknown"
        },
        {
         "name": "53",
         "rawType": "object",
         "type": "unknown"
        },
        {
         "name": "54",
         "rawType": "object",
         "type": "unknown"
        },
        {
         "name": "55",
         "rawType": "object",
         "type": "unknown"
        },
        {
         "name": "56",
         "rawType": "object",
         "type": "unknown"
        },
        {
         "name": "57",
         "rawType": "object",
         "type": "unknown"
        },
        {
         "name": "58",
         "rawType": "object",
         "type": "unknown"
        },
        {
         "name": "59",
         "rawType": "object",
         "type": "unknown"
        },
        {
         "name": "60",
         "rawType": "object",
         "type": "unknown"
        },
        {
         "name": "61",
         "rawType": "object",
         "type": "unknown"
        },
        {
         "name": "62",
         "rawType": "object",
         "type": "unknown"
        },
        {
         "name": "63",
         "rawType": "object",
         "type": "unknown"
        },
        {
         "name": "64",
         "rawType": "object",
         "type": "unknown"
        },
        {
         "name": "65",
         "rawType": "object",
         "type": "unknown"
        },
        {
         "name": "66",
         "rawType": "object",
         "type": "unknown"
        },
        {
         "name": "67",
         "rawType": "object",
         "type": "unknown"
        },
        {
         "name": "68",
         "rawType": "object",
         "type": "unknown"
        },
        {
         "name": "69",
         "rawType": "object",
         "type": "unknown"
        },
        {
         "name": "70",
         "rawType": "object",
         "type": "unknown"
        },
        {
         "name": "71",
         "rawType": "object",
         "type": "unknown"
        },
        {
         "name": "72",
         "rawType": "object",
         "type": "unknown"
        },
        {
         "name": "73",
         "rawType": "object",
         "type": "unknown"
        },
        {
         "name": "74",
         "rawType": "object",
         "type": "unknown"
        },
        {
         "name": "75",
         "rawType": "object",
         "type": "unknown"
        },
        {
         "name": "76",
         "rawType": "object",
         "type": "unknown"
        },
        {
         "name": "77",
         "rawType": "object",
         "type": "unknown"
        },
        {
         "name": "78",
         "rawType": "object",
         "type": "unknown"
        },
        {
         "name": "79",
         "rawType": "object",
         "type": "unknown"
        },
        {
         "name": "80",
         "rawType": "object",
         "type": "unknown"
        },
        {
         "name": "81",
         "rawType": "object",
         "type": "unknown"
        },
        {
         "name": "82",
         "rawType": "object",
         "type": "unknown"
        },
        {
         "name": "83",
         "rawType": "object",
         "type": "unknown"
        },
        {
         "name": "84",
         "rawType": "object",
         "type": "unknown"
        },
        {
         "name": "85",
         "rawType": "object",
         "type": "unknown"
        },
        {
         "name": "86",
         "rawType": "object",
         "type": "unknown"
        },
        {
         "name": "87",
         "rawType": "object",
         "type": "unknown"
        },
        {
         "name": "88",
         "rawType": "object",
         "type": "unknown"
        },
        {
         "name": "89",
         "rawType": "object",
         "type": "unknown"
        },
        {
         "name": "90",
         "rawType": "object",
         "type": "unknown"
        },
        {
         "name": "91",
         "rawType": "object",
         "type": "unknown"
        },
        {
         "name": "92",
         "rawType": "object",
         "type": "unknown"
        },
        {
         "name": "93",
         "rawType": "object",
         "type": "unknown"
        },
        {
         "name": "94",
         "rawType": "object",
         "type": "unknown"
        },
        {
         "name": "95",
         "rawType": "object",
         "type": "unknown"
        },
        {
         "name": "96",
         "rawType": "object",
         "type": "unknown"
        },
        {
         "name": "97",
         "rawType": "object",
         "type": "unknown"
        },
        {
         "name": "98",
         "rawType": "object",
         "type": "unknown"
        },
        {
         "name": "99",
         "rawType": "object",
         "type": "unknown"
        },
        {
         "name": "100",
         "rawType": "object",
         "type": "unknown"
        },
        {
         "name": "101",
         "rawType": "object",
         "type": "unknown"
        },
        {
         "name": "102",
         "rawType": "object",
         "type": "unknown"
        },
        {
         "name": "103",
         "rawType": "object",
         "type": "unknown"
        },
        {
         "name": "104",
         "rawType": "object",
         "type": "unknown"
        },
        {
         "name": "105",
         "rawType": "object",
         "type": "unknown"
        },
        {
         "name": "106",
         "rawType": "object",
         "type": "unknown"
        },
        {
         "name": "107",
         "rawType": "object",
         "type": "unknown"
        },
        {
         "name": "108",
         "rawType": "object",
         "type": "unknown"
        },
        {
         "name": "109",
         "rawType": "object",
         "type": "unknown"
        },
        {
         "name": "110",
         "rawType": "object",
         "type": "unknown"
        },
        {
         "name": "111",
         "rawType": "object",
         "type": "unknown"
        },
        {
         "name": "112",
         "rawType": "object",
         "type": "unknown"
        },
        {
         "name": "113",
         "rawType": "object",
         "type": "unknown"
        },
        {
         "name": "114",
         "rawType": "object",
         "type": "unknown"
        },
        {
         "name": "115",
         "rawType": "object",
         "type": "unknown"
        },
        {
         "name": "116",
         "rawType": "object",
         "type": "unknown"
        },
        {
         "name": "117",
         "rawType": "object",
         "type": "unknown"
        },
        {
         "name": "118",
         "rawType": "object",
         "type": "unknown"
        },
        {
         "name": "119",
         "rawType": "object",
         "type": "unknown"
        },
        {
         "name": "120",
         "rawType": "object",
         "type": "unknown"
        },
        {
         "name": "121",
         "rawType": "object",
         "type": "unknown"
        },
        {
         "name": "122",
         "rawType": "object",
         "type": "unknown"
        },
        {
         "name": "123",
         "rawType": "object",
         "type": "unknown"
        },
        {
         "name": "124",
         "rawType": "object",
         "type": "unknown"
        },
        {
         "name": "125",
         "rawType": "object",
         "type": "unknown"
        },
        {
         "name": "126",
         "rawType": "object",
         "type": "unknown"
        },
        {
         "name": "127",
         "rawType": "object",
         "type": "unknown"
        },
        {
         "name": "128",
         "rawType": "object",
         "type": "unknown"
        },
        {
         "name": "129",
         "rawType": "object",
         "type": "unknown"
        },
        {
         "name": "130",
         "rawType": "object",
         "type": "unknown"
        },
        {
         "name": "131",
         "rawType": "object",
         "type": "unknown"
        },
        {
         "name": "132",
         "rawType": "object",
         "type": "unknown"
        },
        {
         "name": "133",
         "rawType": "object",
         "type": "unknown"
        },
        {
         "name": "134",
         "rawType": "object",
         "type": "unknown"
        },
        {
         "name": "135",
         "rawType": "object",
         "type": "unknown"
        },
        {
         "name": "136",
         "rawType": "object",
         "type": "unknown"
        },
        {
         "name": "137",
         "rawType": "object",
         "type": "unknown"
        },
        {
         "name": "138",
         "rawType": "object",
         "type": "unknown"
        },
        {
         "name": "139",
         "rawType": "object",
         "type": "unknown"
        },
        {
         "name": "140",
         "rawType": "object",
         "type": "unknown"
        },
        {
         "name": "141",
         "rawType": "object",
         "type": "unknown"
        },
        {
         "name": "142",
         "rawType": "object",
         "type": "unknown"
        },
        {
         "name": "143",
         "rawType": "object",
         "type": "unknown"
        },
        {
         "name": "144",
         "rawType": "object",
         "type": "unknown"
        },
        {
         "name": "145",
         "rawType": "object",
         "type": "unknown"
        },
        {
         "name": "146",
         "rawType": "object",
         "type": "unknown"
        },
        {
         "name": "147",
         "rawType": "object",
         "type": "unknown"
        },
        {
         "name": "148",
         "rawType": "object",
         "type": "unknown"
        },
        {
         "name": "149",
         "rawType": "object",
         "type": "unknown"
        },
        {
         "name": "150",
         "rawType": "object",
         "type": "unknown"
        },
        {
         "name": "151",
         "rawType": "object",
         "type": "unknown"
        },
        {
         "name": "152",
         "rawType": "object",
         "type": "unknown"
        },
        {
         "name": "153",
         "rawType": "object",
         "type": "unknown"
        },
        {
         "name": "154",
         "rawType": "object",
         "type": "unknown"
        },
        {
         "name": "155",
         "rawType": "object",
         "type": "unknown"
        },
        {
         "name": "156",
         "rawType": "object",
         "type": "unknown"
        },
        {
         "name": "157",
         "rawType": "object",
         "type": "unknown"
        },
        {
         "name": "158",
         "rawType": "object",
         "type": "unknown"
        },
        {
         "name": "159",
         "rawType": "object",
         "type": "unknown"
        },
        {
         "name": "160",
         "rawType": "object",
         "type": "unknown"
        },
        {
         "name": "161",
         "rawType": "object",
         "type": "unknown"
        },
        {
         "name": "162",
         "rawType": "object",
         "type": "unknown"
        },
        {
         "name": "163",
         "rawType": "object",
         "type": "unknown"
        },
        {
         "name": "164",
         "rawType": "object",
         "type": "unknown"
        },
        {
         "name": "165",
         "rawType": "object",
         "type": "unknown"
        },
        {
         "name": "166",
         "rawType": "object",
         "type": "unknown"
        },
        {
         "name": "167",
         "rawType": "object",
         "type": "unknown"
        },
        {
         "name": "168",
         "rawType": "object",
         "type": "unknown"
        },
        {
         "name": "169",
         "rawType": "object",
         "type": "unknown"
        },
        {
         "name": "170",
         "rawType": "object",
         "type": "unknown"
        },
        {
         "name": "171",
         "rawType": "object",
         "type": "unknown"
        },
        {
         "name": "172",
         "rawType": "object",
         "type": "unknown"
        },
        {
         "name": "173",
         "rawType": "object",
         "type": "unknown"
        },
        {
         "name": "174",
         "rawType": "object",
         "type": "unknown"
        },
        {
         "name": "175",
         "rawType": "object",
         "type": "unknown"
        },
        {
         "name": "176",
         "rawType": "object",
         "type": "unknown"
        },
        {
         "name": "177",
         "rawType": "object",
         "type": "unknown"
        },
        {
         "name": "178",
         "rawType": "object",
         "type": "unknown"
        },
        {
         "name": "179",
         "rawType": "object",
         "type": "unknown"
        },
        {
         "name": "180",
         "rawType": "object",
         "type": "unknown"
        },
        {
         "name": "181",
         "rawType": "object",
         "type": "unknown"
        },
        {
         "name": "182",
         "rawType": "object",
         "type": "unknown"
        },
        {
         "name": "183",
         "rawType": "object",
         "type": "unknown"
        },
        {
         "name": "184",
         "rawType": "object",
         "type": "unknown"
        },
        {
         "name": "185",
         "rawType": "object",
         "type": "unknown"
        },
        {
         "name": "186",
         "rawType": "object",
         "type": "unknown"
        },
        {
         "name": "187",
         "rawType": "object",
         "type": "unknown"
        },
        {
         "name": "188",
         "rawType": "object",
         "type": "unknown"
        },
        {
         "name": "189",
         "rawType": "object",
         "type": "unknown"
        },
        {
         "name": "190",
         "rawType": "object",
         "type": "unknown"
        },
        {
         "name": "191",
         "rawType": "object",
         "type": "unknown"
        },
        {
         "name": "192",
         "rawType": "object",
         "type": "unknown"
        },
        {
         "name": "193",
         "rawType": "object",
         "type": "unknown"
        },
        {
         "name": "194",
         "rawType": "object",
         "type": "unknown"
        }
       ],
       "ref": "e9cc9150-9cfd-46a2-aceb-0060751a39ff",
       "rows": [
        [
         "CountryName",
         "Aruba",
         "Afghanistan",
         "Angola",
         "Albania",
         "United Arab Emirates",
         "Argentina",
         "Armenia",
         "Antigua and Barbuda",
         "Australia",
         "Austria",
         "Azerbaijan",
         "Burundi",
         "Belgium",
         "Benin",
         "Burkina Faso",
         "Bangladesh",
         "Bulgaria",
         "Bahrain",
         "Bahamas, The",
         "Bosnia and Herzegovina",
         "Belarus",
         "Belize",
         "Bermuda",
         "Bolivia",
         "Brazil",
         "Barbados",
         "Brunei Darussalam",
         "Bhutan",
         "Botswana",
         "Central African Republic",
         "Canada",
         "Switzerland",
         "Chile",
         "China",
         "Cote d'Ivoire",
         "Cameroon",
         "Congo, Rep.",
         "Colombia",
         "Comoros",
         "Cabo Verde",
         "Costa Rica",
         "Cuba",
         "Cayman Islands",
         "Cyprus",
         "Czech Republic",
         "Germany",
         "Djibouti",
         "Denmark",
         "Dominican Republic",
         "Algeria",
         "Ecuador",
         "Egypt, Arab Rep.",
         "Eritrea",
         "Spain",
         "Estonia",
         "Ethiopia",
         "Finland",
         "Fiji",
         "France",
         "Micronesia, Fed. Sts.",
         "Gabon",
         "United Kingdom",
         "Georgia",
         "Ghana",
         "Guinea",
         "Gambia, The",
         "Guinea-Bissau",
         "Equatorial Guinea",
         "Greece",
         "Grenada",
         "Greenland",
         "Guatemala",
         "Guam",
         "Guyana",
         "Hong Kong SAR, China",
         "Honduras",
         "Croatia",
         "Haiti",
         "Hungary",
         "Indonesia",
         "India",
         "Ireland",
         "Iran, Islamic Rep.",
         "Iraq",
         "Iceland",
         "Israel",
         "Italy",
         "Jamaica",
         "Jordan",
         "Japan",
         "Kazakhstan",
         "Kenya",
         "Kyrgyz Republic",
         "Cambodia",
         "Kiribati",
         "Korea, Rep.",
         "Kuwait",
         "Lao PDR",
         "Lebanon",
         "Liberia",
         "Libya",
         "St. Lucia",
         "Liechtenstein",
         "Sri Lanka",
         "Lesotho",
         "Lithuania",
         "Luxembourg",
         "Latvia",
         "Macao SAR, China",
         "Morocco",
         "Moldova",
         "Madagascar",
         "Maldives",
         "Mexico",
         "Macedonia, FYR",
         "Mali",
         "Malta",
         "Myanmar",
         "Montenegro",
         "Mongolia",
         "Mozambique",
         "Mauritania",
         "Mauritius",
         "Malawi",
         "Malaysia",
         "Namibia",
         "New Caledonia",
         "Niger",
         "Nigeria",
         "Nicaragua",
         "Netherlands",
         "Norway",
         "Nepal",
         "New Zealand",
         "Oman",
         "Pakistan",
         "Panama",
         "Peru",
         "Philippines",
         "Papua New Guinea",
         "Poland",
         "Puerto Rico",
         "Portugal",
         "Paraguay",
         "French Polynesia",
         "Qatar",
         "Romania",
         "Russian Federation",
         "Rwanda",
         "Saudi Arabia",
         "Sudan",
         "Senegal",
         "Singapore",
         "Solomon Islands",
         "Sierra Leone",
         "El Salvador",
         "Somalia",
         "Serbia",
         "South Sudan",
         "Sao Tome and Principe",
         "Suriname",
         "Slovak Republic",
         "Slovenia",
         "Sweden",
         "Swaziland",
         "Seychelles",
         "Syrian Arab Republic",
         "Chad",
         "Togo",
         "Thailand",
         "Tajikistan",
         "Turkmenistan",
         "Timor-Leste",
         "Tonga",
         "Trinidad and Tobago",
         "Tunisia",
         "Turkey",
         "Tanzania",
         "Uganda",
         "Ukraine",
         "Uruguay",
         "United States",
         "Uzbekistan",
         "St. Vincent and the Grenadines",
         "Venezuela, RB",
         "Virgin Islands (U.S.)",
         "Vietnam",
         "Vanuatu",
         "West Bank and Gaza",
         "Samoa",
         "Yemen, Rep.",
         "South Africa",
         "Congo, Dem. Rep.",
         "Zambia",
         "Zimbabwe"
        ],
        [
         "CountryCode",
         "ABW",
         "AFG",
         "AGO",
         "ALB",
         "ARE",
         "ARG",
         "ARM",
         "ATG",
         "AUS",
         "AUT",
         "AZE",
         "BDI",
         "BEL",
         "BEN",
         "BFA",
         "BGD",
         "BGR",
         "BHR",
         "BHS",
         "BIH",
         "BLR",
         "BLZ",
         "BMU",
         "BOL",
         "BRA",
         "BRB",
         "BRN",
         "BTN",
         "BWA",
         "CAF",
         "CAN",
         "CHE",
         "CHL",
         "CHN",
         "CIV",
         "CMR",
         "COG",
         "COL",
         "COM",
         "CPV",
         "CRI",
         "CUB",
         "CYM",
         "CYP",
         "CZE",
         "DEU",
         "DJI",
         "DNK",
         "DOM",
         "DZA",
         "ECU",
         "EGY",
         "ERI",
         "ESP",
         "EST",
         "ETH",
         "FIN",
         "FJI",
         "FRA",
         "FSM",
         "GAB",
         "GBR",
         "GEO",
         "GHA",
         "GIN",
         "GMB",
         "GNB",
         "GNQ",
         "GRC",
         "GRD",
         "GRL",
         "GTM",
         "GUM",
         "GUY",
         "HKG",
         "HND",
         "HRV",
         "HTI",
         "HUN",
         "IDN",
         "IND",
         "IRL",
         "IRN",
         "IRQ",
         "ISL",
         "ISR",
         "ITA",
         "JAM",
         "JOR",
         "JPN",
         "KAZ",
         "KEN",
         "KGZ",
         "KHM",
         "KIR",
         "KOR",
         "KWT",
         "LAO",
         "LBN",
         "LBR",
         "LBY",
         "LCA",
         "LIE",
         "LKA",
         "LSO",
         "LTU",
         "LUX",
         "LVA",
         "MAC",
         "MAR",
         "MDA",
         "MDG",
         "MDV",
         "MEX",
         "MKD",
         "MLI",
         "MLT",
         "MMR",
         "MNE",
         "MNG",
         "MOZ",
         "MRT",
         "MUS",
         "MWI",
         "MYS",
         "NAM",
         "NCL",
         "NER",
         "NGA",
         "NIC",
         "NLD",
         "NOR",
         "NPL",
         "NZL",
         "OMN",
         "PAK",
         "PAN",
         "PER",
         "PHL",
         "PNG",
         "POL",
         "PRI",
         "PRT",
         "PRY",
         "PYF",
         "QAT",
         "ROU",
         "RUS",
         "RWA",
         "SAU",
         "SDN",
         "SEN",
         "SGP",
         "SLB",
         "SLE",
         "SLV",
         "SOM",
         "SRB",
         "SSD",
         "STP",
         "SUR",
         "SVK",
         "SVN",
         "SWE",
         "SWZ",
         "SYC",
         "SYR",
         "TCD",
         "TGO",
         "THA",
         "TJK",
         "TKM",
         "TLS",
         "TON",
         "TTO",
         "TUN",
         "TUR",
         "TZA",
         "UGA",
         "UKR",
         "URY",
         "USA",
         "UZB",
         "VCT",
         "VEN",
         "VIR",
         "VNM",
         "VUT",
         "PSE",
         "WSM",
         "YEM",
         "ZAF",
         "COD",
         "ZMB",
         "ZWE"
        ],
        [
         "BirthRate",
         "10.244",
         "35.253",
         "45.985",
         "12.877",
         "11.044",
         "17.716",
         "13.308",
         "16.447",
         "13.2",
         "9.4",
         "18.3",
         "44.151",
         "11.2",
         "36.44",
         "40.551",
         "20.142",
         "9.2",
         "15.04",
         "15.339",
         "9.062",
         "12.5",
         "23.092",
         "10.4",
         "24.236",
         "14.931",
         "12.188",
         "16.405",
         "18.134",
         "25.267",
         "34.076",
         "10.9",
         "10.2",
         "13.385",
         "12.1",
         "37.32",
         "37.236",
         "37.011",
         "16.076",
         "34.326",
         "21.625",
         "15.022",
         "10.4",
         "12.5",
         "11.436",
         "10.2",
         "8.5",
         "25.486",
         "10.0",
         "21.198",
         "24.738",
         "21.07",
         "28.032",
         "34.8",
         "9.1",
         "10.3",
         "32.925",
         "10.7",
         "20.463",
         "12.3",
         "23.511",
         "30.555",
         "12.2",
         "13.332",
         "33.131",
         "37.337",
         "42.525",
         "37.503",
         "35.362",
         "8.5",
         "19.334",
         "14.5",
         "27.465",
         "17.389",
         "18.885",
         "7.9",
         "21.593",
         "9.4",
         "25.345",
         "9.2",
         "20.297",
         "20.291",
         "15.0",
         "17.9",
         "31.093",
         "13.4",
         "21.3",
         "8.5",
         "13.54",
         "27.046",
         "8.2",
         "22.73",
         "35.194",
         "27.2",
         "24.462",
         "29.044",
         "8.6",
         "20.575",
         "27.051",
         "13.426",
         "35.521",
         "21.425",
         "15.43",
         "9.2",
         "17.863",
         "28.738",
         "10.1",
         "11.3",
         "10.2",
         "11.256",
         "21.023",
         "12.141",
         "34.686",
         "21.447",
         "19.104",
         "11.222",
         "44.138",
         "9.5",
         "18.119",
         "11.616",
         "24.275",
         "39.705",
         "33.801",
         "10.9",
         "39.459",
         "16.805",
         "29.937",
         "17.0",
         "49.661",
         "40.045",
         "20.788",
         "10.2",
         "11.6",
         "20.923",
         "13.12",
         "20.419",
         "29.582",
         "19.68",
         "20.198",
         "23.79",
         "28.899",
         "9.6",
         "10.8",
         "7.9",
         "21.588",
         "16.393",
         "11.94",
         "8.8",
         "13.2",
         "32.689",
         "20.576",
         "33.477",
         "38.533",
         "9.3",
         "30.578",
         "36.729",
         "17.476",
         "43.891",
         "9.2",
         "37.126",
         "34.537",
         "18.455",
         "10.1",
         "10.2",
         "11.8",
         "30.093",
         "18.6",
         "24.043",
         "45.745",
         "36.08",
         "11.041",
         "30.792",
         "21.322",
         "35.755",
         "25.409",
         "14.59",
         "19.8",
         "16.836",
         "39.518",
         "43.474",
         "11.1",
         "14.374",
         "12.5",
         "22.5",
         "16.306",
         "19.842",
         "10.7",
         "15.537",
         "26.739",
         "30.394",
         "26.172",
         "32.947",
         "20.85",
         "42.394",
         "40.471",
         "35.715"
        ],
        [
         "InternetUsers",
         "78.9",
         "5.9",
         "19.1",
         "57.2",
         "88.0",
         "59.9",
         "41.9",
         "63.4",
         "83.0",
         "80.6188",
         "58.7",
         "1.3",
         "82.1702",
         "4.9",
         "9.1",
         "6.63",
         "53.0615",
         "90.0000397",
         "72.0",
         "57.79",
         "54.17",
         "33.6",
         "95.3",
         "36.94",
         "51.04",
         "73.0",
         "64.5",
         "29.9",
         "15.0",
         "3.5",
         "85.8",
         "86.34",
         "66.5",
         "45.8",
         "8.4",
         "6.4",
         "6.6",
         "51.7",
         "6.5",
         "37.5",
         "45.96",
         "27.93",
         "74.1",
         "65.4548",
         "74.1104",
         "84.17",
         "9.5",
         "94.6297",
         "45.9",
         "16.5",
         "40.35368423",
         "29.4",
         "0.9",
         "71.635",
         "79.4",
         "1.9",
         "91.5144",
         "37.1",
         "81.9198",
         "27.8",
         "9.2",
         "89.8441",
         "43.3",
         "12.3",
         "1.6",
         "14.0",
         "3.1",
         "16.4",
         "59.8663",
         "35.0",
         "65.8",
         "19.7",
         "65.4",
         "35.0",
         "74.2",
         "17.8",
         "66.7476",
         "10.6",
         "72.6439",
         "14.94",
         "15.1",
         "78.2477",
         "29.95",
         "9.2",
         "96.5468",
         "70.8",
         "58.4593",
         "37.1",
         "41.0",
         "89.71",
         "54.0",
         "39.0",
         "23.0",
         "6.8",
         "11.5",
         "84.77",
         "75.46",
         "12.5",
         "70.5",
         "3.2",
         "16.5",
         "46.2",
         "93.8",
         "21.9",
         "5.0",
         "68.4529",
         "93.7765",
         "75.2344",
         "65.8",
         "56.0",
         "45.0",
         "3.0",
         "44.1",
         "43.46",
         "65.24",
         "3.5",
         "68.9138",
         "1.6",
         "60.31",
         "20.0",
         "5.4",
         "6.2",
         "39.0",
         "5.05",
         "66.97",
         "13.9",
         "66.0",
         "1.7",
         "38.0",
         "15.5",
         "93.9564",
         "95.0534",
         "13.3",
         "82.78",
         "66.45",
         "10.9",
         "44.03",
         "39.2",
         "37.0",
         "6.5",
         "62.8492",
         "73.9",
         "62.0956",
         "36.9",
         "56.8",
         "85.3",
         "49.7645",
         "67.97",
         "9.0",
         "60.5",
         "22.7",
         "13.1",
         "81.0",
         "8.0",
         "1.7",
         "23.1093",
         "1.5",
         "51.5",
         "14.1",
         "23.0",
         "37.4",
         "77.8826",
         "72.6756",
         "94.7836",
         "24.7",
         "50.4",
         "26.2",
         "2.3",
         "4.5",
         "28.94",
         "16.0",
         "9.6",
         "1.1",
         "35.0",
         "63.8",
         "43.8",
         "46.25",
         "4.4",
         "16.2",
         "41.0",
         "57.69",
         "84.2",
         "38.2",
         "52.0",
         "54.9",
         "45.3",
         "43.9",
         "11.3",
         "46.6",
         "15.3",
         "20.0",
         "46.5",
         "2.2",
         "15.4",
         "18.5"
        ],
        [
         "IncomeGroup",
         "High income",
         "Low income",
         "Upper middle income",
         "Upper middle income",
         "High income",
         "High income",
         "Lower middle income",
         "High income",
         "High income",
         "High income",
         "Upper middle income",
         "Low income",
         "High income",
         "Low income",
         "Low income",
         "Lower middle income",
         "Upper middle income",
         "High income",
         "High income",
         "Upper middle income",
         "Upper middle income",
         "Upper middle income",
         "High income",
         "Lower middle income",
         "Upper middle income",
         "High income",
         "High income",
         "Lower middle income",
         "Upper middle income",
         "Low income",
         "High income",
         "High income",
         "High income",
         "Upper middle income",
         "Lower middle income",
         "Lower middle income",
         "Lower middle income",
         "Upper middle income",
         "Low income",
         "Lower middle income",
         "Upper middle income",
         "Upper middle income",
         "High income",
         "High income",
         "High income",
         "High income",
         "Lower middle income",
         "High income",
         "Upper middle income",
         "Upper middle income",
         "Upper middle income",
         "Lower middle income",
         "Low income",
         "High income",
         "High income",
         "Low income",
         "High income",
         "Upper middle income",
         "High income",
         "Lower middle income",
         "Upper middle income",
         "High income",
         "Lower middle income",
         "Lower middle income",
         "Low income",
         "Low income",
         "Low income",
         "High income",
         "High income",
         "Upper middle income",
         "High income",
         "Lower middle income",
         "High income",
         "Lower middle income",
         "High income",
         "Lower middle income",
         "High income",
         "Low income",
         "High income",
         "Lower middle income",
         "Lower middle income",
         "High income",
         "Upper middle income",
         "Upper middle income",
         "High income",
         "High income",
         "High income",
         "Upper middle income",
         "Upper middle income",
         "High income",
         "Upper middle income",
         "Lower middle income",
         "Lower middle income",
         "Low income",
         "Lower middle income",
         "High income",
         "High income",
         "Lower middle income",
         "Upper middle income",
         "Low income",
         "Upper middle income",
         "Upper middle income",
         "High income",
         "Lower middle income",
         "Lower middle income",
         "High income",
         "High income",
         "High income",
         "High income",
         "Lower middle income",
         "Lower middle income",
         "Low income",
         "Upper middle income",
         "Upper middle income",
         "Upper middle income",
         "Low income",
         "High income",
         "Lower middle income",
         "Upper middle income",
         "Upper middle income",
         "Low income",
         "Lower middle income",
         "Upper middle income",
         "Low income",
         "Upper middle income",
         "Upper middle income",
         "High income",
         "Low income",
         "Lower middle income",
         "Lower middle income",
         "High income",
         "High income",
         "Low income",
         "High income",
         "High income",
         "Lower middle income",
         "Upper middle income",
         "Upper middle income",
         "Lower middle income",
         "Lower middle income",
         "High income",
         "High income",
         "High income",
         "Upper middle income",
         "High income",
         "High income",
         "Upper middle income",
         "High income",
         "Low income",
         "High income",
         "Lower middle income",
         "Lower middle income",
         "High income",
         "Lower middle income",
         "Low income",
         "Lower middle income",
         "Low income",
         "Upper middle income",
         "Low income",
         "Lower middle income",
         "Upper middle income",
         "High income",
         "High income",
         "High income",
         "Lower middle income",
         "High income",
         "Lower middle income",
         "Low income",
         "Low income",
         "Upper middle income",
         "Lower middle income",
         "Upper middle income",
         "Lower middle income",
         "Upper middle income",
         "High income",
         "Upper middle income",
         "Upper middle income",
         "Low income",
         "Low income",
         "Lower middle income",
         "High income",
         "High income",
         "Lower middle income",
         "Upper middle income",
         "High income",
         "High income",
         "Lower middle income",
         "Lower middle income",
         "Lower middle income",
         "Lower middle income",
         "Lower middle income",
         "Upper middle income",
         "Low income",
         "Lower middle income",
         "Low income"
        ]
       ],
       "shape": {
        "columns": 195,
        "rows": 5
       }
      },
      "text/html": [
       "<div>\n",
       "<style scoped>\n",
       "    .dataframe tbody tr th:only-of-type {\n",
       "        vertical-align: middle;\n",
       "    }\n",
       "\n",
       "    .dataframe tbody tr th {\n",
       "        vertical-align: top;\n",
       "    }\n",
       "\n",
       "    .dataframe thead th {\n",
       "        text-align: right;\n",
       "    }\n",
       "</style>\n",
       "<table border=\"1\" class=\"dataframe\">\n",
       "  <thead>\n",
       "    <tr style=\"text-align: right;\">\n",
       "      <th></th>\n",
       "      <th>0</th>\n",
       "      <th>1</th>\n",
       "      <th>2</th>\n",
       "      <th>3</th>\n",
       "      <th>4</th>\n",
       "      <th>5</th>\n",
       "      <th>6</th>\n",
       "      <th>7</th>\n",
       "      <th>8</th>\n",
       "      <th>9</th>\n",
       "      <th>...</th>\n",
       "      <th>185</th>\n",
       "      <th>186</th>\n",
       "      <th>187</th>\n",
       "      <th>188</th>\n",
       "      <th>189</th>\n",
       "      <th>190</th>\n",
       "      <th>191</th>\n",
       "      <th>192</th>\n",
       "      <th>193</th>\n",
       "      <th>194</th>\n",
       "    </tr>\n",
       "  </thead>\n",
       "  <tbody>\n",
       "    <tr>\n",
       "      <th>CountryName</th>\n",
       "      <td>Aruba</td>\n",
       "      <td>Afghanistan</td>\n",
       "      <td>Angola</td>\n",
       "      <td>Albania</td>\n",
       "      <td>United Arab Emirates</td>\n",
       "      <td>Argentina</td>\n",
       "      <td>Armenia</td>\n",
       "      <td>Antigua and Barbuda</td>\n",
       "      <td>Australia</td>\n",
       "      <td>Austria</td>\n",
       "      <td>...</td>\n",
       "      <td>Virgin Islands (U.S.)</td>\n",
       "      <td>Vietnam</td>\n",
       "      <td>Vanuatu</td>\n",
       "      <td>West Bank and Gaza</td>\n",
       "      <td>Samoa</td>\n",
       "      <td>Yemen, Rep.</td>\n",
       "      <td>South Africa</td>\n",
       "      <td>Congo, Dem. Rep.</td>\n",
       "      <td>Zambia</td>\n",
       "      <td>Zimbabwe</td>\n",
       "    </tr>\n",
       "    <tr>\n",
       "      <th>CountryCode</th>\n",
       "      <td>ABW</td>\n",
       "      <td>AFG</td>\n",
       "      <td>AGO</td>\n",
       "      <td>ALB</td>\n",
       "      <td>ARE</td>\n",
       "      <td>ARG</td>\n",
       "      <td>ARM</td>\n",
       "      <td>ATG</td>\n",
       "      <td>AUS</td>\n",
       "      <td>AUT</td>\n",
       "      <td>...</td>\n",
       "      <td>VIR</td>\n",
       "      <td>VNM</td>\n",
       "      <td>VUT</td>\n",
       "      <td>PSE</td>\n",
       "      <td>WSM</td>\n",
       "      <td>YEM</td>\n",
       "      <td>ZAF</td>\n",
       "      <td>COD</td>\n",
       "      <td>ZMB</td>\n",
       "      <td>ZWE</td>\n",
       "    </tr>\n",
       "    <tr>\n",
       "      <th>BirthRate</th>\n",
       "      <td>10.244</td>\n",
       "      <td>35.253</td>\n",
       "      <td>45.985</td>\n",
       "      <td>12.877</td>\n",
       "      <td>11.044</td>\n",
       "      <td>17.716</td>\n",
       "      <td>13.308</td>\n",
       "      <td>16.447</td>\n",
       "      <td>13.2</td>\n",
       "      <td>9.4</td>\n",
       "      <td>...</td>\n",
       "      <td>10.7</td>\n",
       "      <td>15.537</td>\n",
       "      <td>26.739</td>\n",
       "      <td>30.394</td>\n",
       "      <td>26.172</td>\n",
       "      <td>32.947</td>\n",
       "      <td>20.85</td>\n",
       "      <td>42.394</td>\n",
       "      <td>40.471</td>\n",
       "      <td>35.715</td>\n",
       "    </tr>\n",
       "    <tr>\n",
       "      <th>InternetUsers</th>\n",
       "      <td>78.9</td>\n",
       "      <td>5.9</td>\n",
       "      <td>19.1</td>\n",
       "      <td>57.2</td>\n",
       "      <td>88.0</td>\n",
       "      <td>59.9</td>\n",
       "      <td>41.9</td>\n",
       "      <td>63.4</td>\n",
       "      <td>83.0</td>\n",
       "      <td>80.6188</td>\n",
       "      <td>...</td>\n",
       "      <td>45.3</td>\n",
       "      <td>43.9</td>\n",
       "      <td>11.3</td>\n",
       "      <td>46.6</td>\n",
       "      <td>15.3</td>\n",
       "      <td>20.0</td>\n",
       "      <td>46.5</td>\n",
       "      <td>2.2</td>\n",
       "      <td>15.4</td>\n",
       "      <td>18.5</td>\n",
       "    </tr>\n",
       "    <tr>\n",
       "      <th>IncomeGroup</th>\n",
       "      <td>High income</td>\n",
       "      <td>Low income</td>\n",
       "      <td>Upper middle income</td>\n",
       "      <td>Upper middle income</td>\n",
       "      <td>High income</td>\n",
       "      <td>High income</td>\n",
       "      <td>Lower middle income</td>\n",
       "      <td>High income</td>\n",
       "      <td>High income</td>\n",
       "      <td>High income</td>\n",
       "      <td>...</td>\n",
       "      <td>High income</td>\n",
       "      <td>Lower middle income</td>\n",
       "      <td>Lower middle income</td>\n",
       "      <td>Lower middle income</td>\n",
       "      <td>Lower middle income</td>\n",
       "      <td>Lower middle income</td>\n",
       "      <td>Upper middle income</td>\n",
       "      <td>Low income</td>\n",
       "      <td>Lower middle income</td>\n",
       "      <td>Low income</td>\n",
       "    </tr>\n",
       "  </tbody>\n",
       "</table>\n",
       "<p>5 rows × 195 columns</p>\n",
       "</div>"
      ],
      "text/plain": [
       "                       0            1                    2    \\\n",
       "CountryName          Aruba  Afghanistan               Angola   \n",
       "CountryCode            ABW          AFG                  AGO   \n",
       "BirthRate           10.244       35.253               45.985   \n",
       "InternetUsers         78.9          5.9                 19.1   \n",
       "IncomeGroup    High income   Low income  Upper middle income   \n",
       "\n",
       "                               3                     4            5    \\\n",
       "CountryName                Albania  United Arab Emirates    Argentina   \n",
       "CountryCode                    ALB                   ARE          ARG   \n",
       "BirthRate                   12.877                11.044       17.716   \n",
       "InternetUsers                 57.2                  88.0         59.9   \n",
       "IncomeGroup    Upper middle income           High income  High income   \n",
       "\n",
       "                               6                    7            8    \\\n",
       "CountryName                Armenia  Antigua and Barbuda    Australia   \n",
       "CountryCode                    ARM                  ATG          AUS   \n",
       "BirthRate                   13.308               16.447         13.2   \n",
       "InternetUsers                 41.9                 63.4         83.0   \n",
       "IncomeGroup    Lower middle income          High income  High income   \n",
       "\n",
       "                       9    ...                    185                  186  \\\n",
       "CountryName        Austria  ...  Virgin Islands (U.S.)              Vietnam   \n",
       "CountryCode            AUT  ...                    VIR                  VNM   \n",
       "BirthRate              9.4  ...                   10.7               15.537   \n",
       "InternetUsers      80.6188  ...                   45.3                 43.9   \n",
       "IncomeGroup    High income  ...            High income  Lower middle income   \n",
       "\n",
       "                               187                  188                  189  \\\n",
       "CountryName                Vanuatu   West Bank and Gaza                Samoa   \n",
       "CountryCode                    VUT                  PSE                  WSM   \n",
       "BirthRate                   26.739               30.394               26.172   \n",
       "InternetUsers                 11.3                 46.6                 15.3   \n",
       "IncomeGroup    Lower middle income  Lower middle income  Lower middle income   \n",
       "\n",
       "                               190                  191               192  \\\n",
       "CountryName            Yemen, Rep.         South Africa  Congo, Dem. Rep.   \n",
       "CountryCode                    YEM                  ZAF               COD   \n",
       "BirthRate                   32.947                20.85            42.394   \n",
       "InternetUsers                 20.0                 46.5               2.2   \n",
       "IncomeGroup    Lower middle income  Upper middle income        Low income   \n",
       "\n",
       "                               193         194  \n",
       "CountryName                 Zambia    Zimbabwe  \n",
       "CountryCode                    ZMB         ZWE  \n",
       "BirthRate                   40.471      35.715  \n",
       "InternetUsers                 15.4        18.5  \n",
       "IncomeGroup    Lower middle income  Low income  \n",
       "\n",
       "[5 rows x 195 columns]"
      ]
     },
     "execution_count": 22,
     "metadata": {},
     "output_type": "execute_result"
    }
   ],
   "source": [
    "df.T"
   ]
  },
  {
   "cell_type": "code",
   "execution_count": 23,
   "id": "e9460901",
   "metadata": {},
   "outputs": [
    {
     "data": {
      "application/vnd.microsoft.datawrangler.viewer.v0+json": {
       "columns": [
        {
         "name": "index",
         "rawType": "int64",
         "type": "integer"
        },
        {
         "name": "CountryName",
         "rawType": "object",
         "type": "string"
        },
        {
         "name": "CountryCode",
         "rawType": "object",
         "type": "string"
        },
        {
         "name": "BirthRate",
         "rawType": "float64",
         "type": "float"
        },
        {
         "name": "InternetUsers",
         "rawType": "float64",
         "type": "float"
        },
        {
         "name": "IncomeGroup",
         "rawType": "object",
         "type": "string"
        }
       ],
       "ref": "39a74daf-582a-4bbe-a487-eb4c459708c7",
       "rows": [
        [
         "0",
         "Aruba",
         "ABW",
         "10.244",
         "78.9",
         "High income"
        ],
        [
         "1",
         "Afghanistan",
         "AFG",
         "35.253",
         "5.9",
         "Low income"
        ],
        [
         "2",
         "Angola",
         "AGO",
         "45.985",
         "19.1",
         "Upper middle income"
        ],
        [
         "3",
         "Albania",
         "ALB",
         "12.877",
         "57.2",
         "Upper middle income"
        ],
        [
         "4",
         "United Arab Emirates",
         "ARE",
         "11.044",
         "88.0",
         "High income"
        ],
        [
         "5",
         "Argentina",
         "ARG",
         "17.716",
         "59.9",
         "High income"
        ],
        [
         "6",
         "Armenia",
         "ARM",
         "13.308",
         "41.9",
         "Lower middle income"
        ],
        [
         "7",
         "Antigua and Barbuda",
         "ATG",
         "16.447",
         "63.4",
         "High income"
        ],
        [
         "8",
         "Australia",
         "AUS",
         "13.2",
         "83.0",
         "High income"
        ],
        [
         "9",
         "Austria",
         "AUT",
         "9.4",
         "80.6188",
         "High income"
        ],
        [
         "10",
         "Azerbaijan",
         "AZE",
         "18.3",
         "58.7",
         "Upper middle income"
        ],
        [
         "11",
         "Burundi",
         "BDI",
         "44.151",
         "1.3",
         "Low income"
        ],
        [
         "12",
         "Belgium",
         "BEL",
         "11.2",
         "82.1702",
         "High income"
        ],
        [
         "13",
         "Benin",
         "BEN",
         "36.44",
         "4.9",
         "Low income"
        ],
        [
         "14",
         "Burkina Faso",
         "BFA",
         "40.551",
         "9.1",
         "Low income"
        ],
        [
         "15",
         "Bangladesh",
         "BGD",
         "20.142",
         "6.63",
         "Lower middle income"
        ],
        [
         "16",
         "Bulgaria",
         "BGR",
         "9.2",
         "53.0615",
         "Upper middle income"
        ],
        [
         "17",
         "Bahrain",
         "BHR",
         "15.04",
         "90.0000397",
         "High income"
        ],
        [
         "18",
         "Bahamas, The",
         "BHS",
         "15.339",
         "72.0",
         "High income"
        ],
        [
         "19",
         "Bosnia and Herzegovina",
         "BIH",
         "9.062",
         "57.79",
         "Upper middle income"
        ],
        [
         "20",
         "Belarus",
         "BLR",
         "12.5",
         "54.17",
         "Upper middle income"
        ],
        [
         "21",
         "Belize",
         "BLZ",
         "23.092",
         "33.6",
         "Upper middle income"
        ],
        [
         "22",
         "Bermuda",
         "BMU",
         "10.4",
         "95.3",
         "High income"
        ],
        [
         "23",
         "Bolivia",
         "BOL",
         "24.236",
         "36.94",
         "Lower middle income"
        ],
        [
         "24",
         "Brazil",
         "BRA",
         "14.931",
         "51.04",
         "Upper middle income"
        ],
        [
         "25",
         "Barbados",
         "BRB",
         "12.188",
         "73.0",
         "High income"
        ],
        [
         "26",
         "Brunei Darussalam",
         "BRN",
         "16.405",
         "64.5",
         "High income"
        ],
        [
         "27",
         "Bhutan",
         "BTN",
         "18.134",
         "29.9",
         "Lower middle income"
        ],
        [
         "28",
         "Botswana",
         "BWA",
         "25.267",
         "15.0",
         "Upper middle income"
        ],
        [
         "29",
         "Central African Republic",
         "CAF",
         "34.076",
         "3.5",
         "Low income"
        ],
        [
         "30",
         "Canada",
         "CAN",
         "10.9",
         "85.8",
         "High income"
        ],
        [
         "31",
         "Switzerland",
         "CHE",
         "10.2",
         "86.34",
         "High income"
        ],
        [
         "32",
         "Chile",
         "CHL",
         "13.385",
         "66.5",
         "High income"
        ],
        [
         "33",
         "China",
         "CHN",
         "12.1",
         "45.8",
         "Upper middle income"
        ],
        [
         "34",
         "Cote d'Ivoire",
         "CIV",
         "37.32",
         "8.4",
         "Lower middle income"
        ],
        [
         "35",
         "Cameroon",
         "CMR",
         "37.236",
         "6.4",
         "Lower middle income"
        ],
        [
         "36",
         "Congo, Rep.",
         "COG",
         "37.011",
         "6.6",
         "Lower middle income"
        ],
        [
         "37",
         "Colombia",
         "COL",
         "16.076",
         "51.7",
         "Upper middle income"
        ],
        [
         "38",
         "Comoros",
         "COM",
         "34.326",
         "6.5",
         "Low income"
        ],
        [
         "39",
         "Cabo Verde",
         "CPV",
         "21.625",
         "37.5",
         "Lower middle income"
        ],
        [
         "40",
         "Costa Rica",
         "CRI",
         "15.022",
         "45.96",
         "Upper middle income"
        ],
        [
         "41",
         "Cuba",
         "CUB",
         "10.4",
         "27.93",
         "Upper middle income"
        ],
        [
         "42",
         "Cayman Islands",
         "CYM",
         "12.5",
         "74.1",
         "High income"
        ],
        [
         "43",
         "Cyprus",
         "CYP",
         "11.436",
         "65.4548",
         "High income"
        ],
        [
         "44",
         "Czech Republic",
         "CZE",
         "10.2",
         "74.1104",
         "High income"
        ],
        [
         "45",
         "Germany",
         "DEU",
         "8.5",
         "84.17",
         "High income"
        ],
        [
         "46",
         "Djibouti",
         "DJI",
         "25.486",
         "9.5",
         "Lower middle income"
        ],
        [
         "47",
         "Denmark",
         "DNK",
         "10.0",
         "94.6297",
         "High income"
        ],
        [
         "48",
         "Dominican Republic",
         "DOM",
         "21.198",
         "45.9",
         "Upper middle income"
        ],
        [
         "49",
         "Algeria",
         "DZA",
         "24.738",
         "16.5",
         "Upper middle income"
        ]
       ],
       "shape": {
        "columns": 5,
        "rows": 195
       }
      },
      "text/html": [
       "<div>\n",
       "<style scoped>\n",
       "    .dataframe tbody tr th:only-of-type {\n",
       "        vertical-align: middle;\n",
       "    }\n",
       "\n",
       "    .dataframe tbody tr th {\n",
       "        vertical-align: top;\n",
       "    }\n",
       "\n",
       "    .dataframe thead th {\n",
       "        text-align: right;\n",
       "    }\n",
       "</style>\n",
       "<table border=\"1\" class=\"dataframe\">\n",
       "  <thead>\n",
       "    <tr style=\"text-align: right;\">\n",
       "      <th></th>\n",
       "      <th>CountryName</th>\n",
       "      <th>CountryCode</th>\n",
       "      <th>BirthRate</th>\n",
       "      <th>InternetUsers</th>\n",
       "      <th>IncomeGroup</th>\n",
       "    </tr>\n",
       "  </thead>\n",
       "  <tbody>\n",
       "    <tr>\n",
       "      <th>0</th>\n",
       "      <td>Aruba</td>\n",
       "      <td>ABW</td>\n",
       "      <td>10.244</td>\n",
       "      <td>78.9</td>\n",
       "      <td>High income</td>\n",
       "    </tr>\n",
       "    <tr>\n",
       "      <th>1</th>\n",
       "      <td>Afghanistan</td>\n",
       "      <td>AFG</td>\n",
       "      <td>35.253</td>\n",
       "      <td>5.9</td>\n",
       "      <td>Low income</td>\n",
       "    </tr>\n",
       "    <tr>\n",
       "      <th>2</th>\n",
       "      <td>Angola</td>\n",
       "      <td>AGO</td>\n",
       "      <td>45.985</td>\n",
       "      <td>19.1</td>\n",
       "      <td>Upper middle income</td>\n",
       "    </tr>\n",
       "    <tr>\n",
       "      <th>3</th>\n",
       "      <td>Albania</td>\n",
       "      <td>ALB</td>\n",
       "      <td>12.877</td>\n",
       "      <td>57.2</td>\n",
       "      <td>Upper middle income</td>\n",
       "    </tr>\n",
       "    <tr>\n",
       "      <th>4</th>\n",
       "      <td>United Arab Emirates</td>\n",
       "      <td>ARE</td>\n",
       "      <td>11.044</td>\n",
       "      <td>88.0</td>\n",
       "      <td>High income</td>\n",
       "    </tr>\n",
       "    <tr>\n",
       "      <th>...</th>\n",
       "      <td>...</td>\n",
       "      <td>...</td>\n",
       "      <td>...</td>\n",
       "      <td>...</td>\n",
       "      <td>...</td>\n",
       "    </tr>\n",
       "    <tr>\n",
       "      <th>190</th>\n",
       "      <td>Yemen, Rep.</td>\n",
       "      <td>YEM</td>\n",
       "      <td>32.947</td>\n",
       "      <td>20.0</td>\n",
       "      <td>Lower middle income</td>\n",
       "    </tr>\n",
       "    <tr>\n",
       "      <th>191</th>\n",
       "      <td>South Africa</td>\n",
       "      <td>ZAF</td>\n",
       "      <td>20.850</td>\n",
       "      <td>46.5</td>\n",
       "      <td>Upper middle income</td>\n",
       "    </tr>\n",
       "    <tr>\n",
       "      <th>192</th>\n",
       "      <td>Congo, Dem. Rep.</td>\n",
       "      <td>COD</td>\n",
       "      <td>42.394</td>\n",
       "      <td>2.2</td>\n",
       "      <td>Low income</td>\n",
       "    </tr>\n",
       "    <tr>\n",
       "      <th>193</th>\n",
       "      <td>Zambia</td>\n",
       "      <td>ZMB</td>\n",
       "      <td>40.471</td>\n",
       "      <td>15.4</td>\n",
       "      <td>Lower middle income</td>\n",
       "    </tr>\n",
       "    <tr>\n",
       "      <th>194</th>\n",
       "      <td>Zimbabwe</td>\n",
       "      <td>ZWE</td>\n",
       "      <td>35.715</td>\n",
       "      <td>18.5</td>\n",
       "      <td>Low income</td>\n",
       "    </tr>\n",
       "  </tbody>\n",
       "</table>\n",
       "<p>195 rows × 5 columns</p>\n",
       "</div>"
      ],
      "text/plain": [
       "              CountryName CountryCode  BirthRate  InternetUsers  \\\n",
       "0                   Aruba         ABW     10.244           78.9   \n",
       "1             Afghanistan         AFG     35.253            5.9   \n",
       "2                  Angola         AGO     45.985           19.1   \n",
       "3                 Albania         ALB     12.877           57.2   \n",
       "4    United Arab Emirates         ARE     11.044           88.0   \n",
       "..                    ...         ...        ...            ...   \n",
       "190           Yemen, Rep.         YEM     32.947           20.0   \n",
       "191          South Africa         ZAF     20.850           46.5   \n",
       "192      Congo, Dem. Rep.         COD     42.394            2.2   \n",
       "193                Zambia         ZMB     40.471           15.4   \n",
       "194              Zimbabwe         ZWE     35.715           18.5   \n",
       "\n",
       "             IncomeGroup  \n",
       "0            High income  \n",
       "1             Low income  \n",
       "2    Upper middle income  \n",
       "3    Upper middle income  \n",
       "4            High income  \n",
       "..                   ...  \n",
       "190  Lower middle income  \n",
       "191  Upper middle income  \n",
       "192           Low income  \n",
       "193  Lower middle income  \n",
       "194           Low income  \n",
       "\n",
       "[195 rows x 5 columns]"
      ]
     },
     "execution_count": 23,
     "metadata": {},
     "output_type": "execute_result"
    }
   ],
   "source": [
    "df[:]"
   ]
  },
  {
   "cell_type": "code",
   "execution_count": 24,
   "id": "0fad41ba",
   "metadata": {},
   "outputs": [
    {
     "data": {
      "application/vnd.microsoft.datawrangler.viewer.v0+json": {
       "columns": [
        {
         "name": "index",
         "rawType": "int64",
         "type": "integer"
        },
        {
         "name": "CountryName",
         "rawType": "object",
         "type": "string"
        },
        {
         "name": "CountryCode",
         "rawType": "object",
         "type": "string"
        },
        {
         "name": "BirthRate",
         "rawType": "float64",
         "type": "float"
        },
        {
         "name": "InternetUsers",
         "rawType": "float64",
         "type": "float"
        },
        {
         "name": "IncomeGroup",
         "rawType": "object",
         "type": "string"
        }
       ],
       "ref": "ed42166a-55a3-4fa3-a64d-5940e83f9ecb",
       "rows": [
        [
         "0",
         "Aruba",
         "ABW",
         "10.244",
         "78.9",
         "High income"
        ],
        [
         "1",
         "Afghanistan",
         "AFG",
         "35.253",
         "5.9",
         "Low income"
        ],
        [
         "2",
         "Angola",
         "AGO",
         "45.985",
         "19.1",
         "Upper middle income"
        ],
        [
         "3",
         "Albania",
         "ALB",
         "12.877",
         "57.2",
         "Upper middle income"
        ],
        [
         "4",
         "United Arab Emirates",
         "ARE",
         "11.044",
         "88.0",
         "High income"
        ]
       ],
       "shape": {
        "columns": 5,
        "rows": 5
       }
      },
      "text/html": [
       "<div>\n",
       "<style scoped>\n",
       "    .dataframe tbody tr th:only-of-type {\n",
       "        vertical-align: middle;\n",
       "    }\n",
       "\n",
       "    .dataframe tbody tr th {\n",
       "        vertical-align: top;\n",
       "    }\n",
       "\n",
       "    .dataframe thead th {\n",
       "        text-align: right;\n",
       "    }\n",
       "</style>\n",
       "<table border=\"1\" class=\"dataframe\">\n",
       "  <thead>\n",
       "    <tr style=\"text-align: right;\">\n",
       "      <th></th>\n",
       "      <th>CountryName</th>\n",
       "      <th>CountryCode</th>\n",
       "      <th>BirthRate</th>\n",
       "      <th>InternetUsers</th>\n",
       "      <th>IncomeGroup</th>\n",
       "    </tr>\n",
       "  </thead>\n",
       "  <tbody>\n",
       "    <tr>\n",
       "      <th>0</th>\n",
       "      <td>Aruba</td>\n",
       "      <td>ABW</td>\n",
       "      <td>10.244</td>\n",
       "      <td>78.9</td>\n",
       "      <td>High income</td>\n",
       "    </tr>\n",
       "    <tr>\n",
       "      <th>1</th>\n",
       "      <td>Afghanistan</td>\n",
       "      <td>AFG</td>\n",
       "      <td>35.253</td>\n",
       "      <td>5.9</td>\n",
       "      <td>Low income</td>\n",
       "    </tr>\n",
       "    <tr>\n",
       "      <th>2</th>\n",
       "      <td>Angola</td>\n",
       "      <td>AGO</td>\n",
       "      <td>45.985</td>\n",
       "      <td>19.1</td>\n",
       "      <td>Upper middle income</td>\n",
       "    </tr>\n",
       "    <tr>\n",
       "      <th>3</th>\n",
       "      <td>Albania</td>\n",
       "      <td>ALB</td>\n",
       "      <td>12.877</td>\n",
       "      <td>57.2</td>\n",
       "      <td>Upper middle income</td>\n",
       "    </tr>\n",
       "    <tr>\n",
       "      <th>4</th>\n",
       "      <td>United Arab Emirates</td>\n",
       "      <td>ARE</td>\n",
       "      <td>11.044</td>\n",
       "      <td>88.0</td>\n",
       "      <td>High income</td>\n",
       "    </tr>\n",
       "  </tbody>\n",
       "</table>\n",
       "</div>"
      ],
      "text/plain": [
       "            CountryName CountryCode  BirthRate  InternetUsers  \\\n",
       "0                 Aruba         ABW     10.244           78.9   \n",
       "1           Afghanistan         AFG     35.253            5.9   \n",
       "2                Angola         AGO     45.985           19.1   \n",
       "3               Albania         ALB     12.877           57.2   \n",
       "4  United Arab Emirates         ARE     11.044           88.0   \n",
       "\n",
       "           IncomeGroup  \n",
       "0          High income  \n",
       "1           Low income  \n",
       "2  Upper middle income  \n",
       "3  Upper middle income  \n",
       "4          High income  "
      ]
     },
     "execution_count": 24,
     "metadata": {},
     "output_type": "execute_result"
    }
   ],
   "source": [
    "df[0:5]"
   ]
  },
  {
   "cell_type": "code",
   "execution_count": 25,
   "id": "f2d978f2",
   "metadata": {},
   "outputs": [
    {
     "data": {
      "application/vnd.microsoft.datawrangler.viewer.v0+json": {
       "columns": [
        {
         "name": "index",
         "rawType": "int64",
         "type": "integer"
        },
        {
         "name": "CountryName",
         "rawType": "object",
         "type": "string"
        },
        {
         "name": "CountryCode",
         "rawType": "object",
         "type": "string"
        },
        {
         "name": "BirthRate",
         "rawType": "float64",
         "type": "float"
        },
        {
         "name": "InternetUsers",
         "rawType": "float64",
         "type": "float"
        },
        {
         "name": "IncomeGroup",
         "rawType": "object",
         "type": "string"
        }
       ],
       "ref": "6bf01a59-5abb-4105-8f4b-de9b99d8c74c",
       "rows": [
        [
         "0",
         "Aruba",
         "ABW",
         "10.244",
         "78.9",
         "High income"
        ],
        [
         "50",
         "Ecuador",
         "ECU",
         "21.07",
         "40.35368423",
         "Upper middle income"
        ],
        [
         "100",
         "Libya",
         "LBY",
         "21.425",
         "16.5",
         "Upper middle income"
        ],
        [
         "150",
         "Sudan",
         "SDN",
         "33.477",
         "22.7",
         "Lower middle income"
        ]
       ],
       "shape": {
        "columns": 5,
        "rows": 4
       }
      },
      "text/html": [
       "<div>\n",
       "<style scoped>\n",
       "    .dataframe tbody tr th:only-of-type {\n",
       "        vertical-align: middle;\n",
       "    }\n",
       "\n",
       "    .dataframe tbody tr th {\n",
       "        vertical-align: top;\n",
       "    }\n",
       "\n",
       "    .dataframe thead th {\n",
       "        text-align: right;\n",
       "    }\n",
       "</style>\n",
       "<table border=\"1\" class=\"dataframe\">\n",
       "  <thead>\n",
       "    <tr style=\"text-align: right;\">\n",
       "      <th></th>\n",
       "      <th>CountryName</th>\n",
       "      <th>CountryCode</th>\n",
       "      <th>BirthRate</th>\n",
       "      <th>InternetUsers</th>\n",
       "      <th>IncomeGroup</th>\n",
       "    </tr>\n",
       "  </thead>\n",
       "  <tbody>\n",
       "    <tr>\n",
       "      <th>0</th>\n",
       "      <td>Aruba</td>\n",
       "      <td>ABW</td>\n",
       "      <td>10.244</td>\n",
       "      <td>78.900000</td>\n",
       "      <td>High income</td>\n",
       "    </tr>\n",
       "    <tr>\n",
       "      <th>50</th>\n",
       "      <td>Ecuador</td>\n",
       "      <td>ECU</td>\n",
       "      <td>21.070</td>\n",
       "      <td>40.353684</td>\n",
       "      <td>Upper middle income</td>\n",
       "    </tr>\n",
       "    <tr>\n",
       "      <th>100</th>\n",
       "      <td>Libya</td>\n",
       "      <td>LBY</td>\n",
       "      <td>21.425</td>\n",
       "      <td>16.500000</td>\n",
       "      <td>Upper middle income</td>\n",
       "    </tr>\n",
       "    <tr>\n",
       "      <th>150</th>\n",
       "      <td>Sudan</td>\n",
       "      <td>SDN</td>\n",
       "      <td>33.477</td>\n",
       "      <td>22.700000</td>\n",
       "      <td>Lower middle income</td>\n",
       "    </tr>\n",
       "  </tbody>\n",
       "</table>\n",
       "</div>"
      ],
      "text/plain": [
       "    CountryName CountryCode  BirthRate  InternetUsers          IncomeGroup\n",
       "0         Aruba         ABW     10.244      78.900000          High income\n",
       "50      Ecuador         ECU     21.070      40.353684  Upper middle income\n",
       "100       Libya         LBY     21.425      16.500000  Upper middle income\n",
       "150       Sudan         SDN     33.477      22.700000  Lower middle income"
      ]
     },
     "execution_count": 25,
     "metadata": {},
     "output_type": "execute_result"
    }
   ],
   "source": [
    "df[0:200:50]"
   ]
  },
  {
   "cell_type": "code",
   "execution_count": 26,
   "id": "96974be8",
   "metadata": {},
   "outputs": [
    {
     "data": {
      "application/vnd.microsoft.datawrangler.viewer.v0+json": {
       "columns": [
        {
         "name": "index",
         "rawType": "int64",
         "type": "integer"
        },
        {
         "name": "CountryName",
         "rawType": "object",
         "type": "string"
        },
        {
         "name": "CountryCode",
         "rawType": "object",
         "type": "string"
        },
        {
         "name": "BirthRate",
         "rawType": "float64",
         "type": "float"
        },
        {
         "name": "InternetUsers",
         "rawType": "float64",
         "type": "float"
        },
        {
         "name": "IncomeGroup",
         "rawType": "object",
         "type": "string"
        }
       ],
       "ref": "5e399eaa-b656-45d2-81ed-bfa3a6cbff22",
       "rows": [
        [
         "0",
         "Aruba",
         "ABW",
         "10.244",
         "78.9",
         "High income"
        ],
        [
         "25",
         "Barbados",
         "BRB",
         "12.188",
         "73.0",
         "High income"
        ],
        [
         "50",
         "Ecuador",
         "ECU",
         "21.07",
         "40.35368423",
         "Upper middle income"
        ],
        [
         "75",
         "Honduras",
         "HND",
         "21.593",
         "17.8",
         "Lower middle income"
        ],
        [
         "100",
         "Libya",
         "LBY",
         "21.425",
         "16.5",
         "Upper middle income"
        ],
        [
         "125",
         "Namibia",
         "NAM",
         "29.937",
         "13.9",
         "Upper middle income"
        ],
        [
         "150",
         "Sudan",
         "SDN",
         "33.477",
         "22.7",
         "Lower middle income"
        ],
        [
         "175",
         "Tunisia",
         "TUN",
         "19.8",
         "43.8",
         "Upper middle income"
        ]
       ],
       "shape": {
        "columns": 5,
        "rows": 8
       }
      },
      "text/html": [
       "<div>\n",
       "<style scoped>\n",
       "    .dataframe tbody tr th:only-of-type {\n",
       "        vertical-align: middle;\n",
       "    }\n",
       "\n",
       "    .dataframe tbody tr th {\n",
       "        vertical-align: top;\n",
       "    }\n",
       "\n",
       "    .dataframe thead th {\n",
       "        text-align: right;\n",
       "    }\n",
       "</style>\n",
       "<table border=\"1\" class=\"dataframe\">\n",
       "  <thead>\n",
       "    <tr style=\"text-align: right;\">\n",
       "      <th></th>\n",
       "      <th>CountryName</th>\n",
       "      <th>CountryCode</th>\n",
       "      <th>BirthRate</th>\n",
       "      <th>InternetUsers</th>\n",
       "      <th>IncomeGroup</th>\n",
       "    </tr>\n",
       "  </thead>\n",
       "  <tbody>\n",
       "    <tr>\n",
       "      <th>0</th>\n",
       "      <td>Aruba</td>\n",
       "      <td>ABW</td>\n",
       "      <td>10.244</td>\n",
       "      <td>78.900000</td>\n",
       "      <td>High income</td>\n",
       "    </tr>\n",
       "    <tr>\n",
       "      <th>25</th>\n",
       "      <td>Barbados</td>\n",
       "      <td>BRB</td>\n",
       "      <td>12.188</td>\n",
       "      <td>73.000000</td>\n",
       "      <td>High income</td>\n",
       "    </tr>\n",
       "    <tr>\n",
       "      <th>50</th>\n",
       "      <td>Ecuador</td>\n",
       "      <td>ECU</td>\n",
       "      <td>21.070</td>\n",
       "      <td>40.353684</td>\n",
       "      <td>Upper middle income</td>\n",
       "    </tr>\n",
       "    <tr>\n",
       "      <th>75</th>\n",
       "      <td>Honduras</td>\n",
       "      <td>HND</td>\n",
       "      <td>21.593</td>\n",
       "      <td>17.800000</td>\n",
       "      <td>Lower middle income</td>\n",
       "    </tr>\n",
       "    <tr>\n",
       "      <th>100</th>\n",
       "      <td>Libya</td>\n",
       "      <td>LBY</td>\n",
       "      <td>21.425</td>\n",
       "      <td>16.500000</td>\n",
       "      <td>Upper middle income</td>\n",
       "    </tr>\n",
       "    <tr>\n",
       "      <th>125</th>\n",
       "      <td>Namibia</td>\n",
       "      <td>NAM</td>\n",
       "      <td>29.937</td>\n",
       "      <td>13.900000</td>\n",
       "      <td>Upper middle income</td>\n",
       "    </tr>\n",
       "    <tr>\n",
       "      <th>150</th>\n",
       "      <td>Sudan</td>\n",
       "      <td>SDN</td>\n",
       "      <td>33.477</td>\n",
       "      <td>22.700000</td>\n",
       "      <td>Lower middle income</td>\n",
       "    </tr>\n",
       "    <tr>\n",
       "      <th>175</th>\n",
       "      <td>Tunisia</td>\n",
       "      <td>TUN</td>\n",
       "      <td>19.800</td>\n",
       "      <td>43.800000</td>\n",
       "      <td>Upper middle income</td>\n",
       "    </tr>\n",
       "  </tbody>\n",
       "</table>\n",
       "</div>"
      ],
      "text/plain": [
       "    CountryName CountryCode  BirthRate  InternetUsers          IncomeGroup\n",
       "0         Aruba         ABW     10.244      78.900000          High income\n",
       "25     Barbados         BRB     12.188      73.000000          High income\n",
       "50      Ecuador         ECU     21.070      40.353684  Upper middle income\n",
       "75     Honduras         HND     21.593      17.800000  Lower middle income\n",
       "100       Libya         LBY     21.425      16.500000  Upper middle income\n",
       "125     Namibia         NAM     29.937      13.900000  Upper middle income\n",
       "150       Sudan         SDN     33.477      22.700000  Lower middle income\n",
       "175     Tunisia         TUN     19.800      43.800000  Upper middle income"
      ]
     },
     "execution_count": 26,
     "metadata": {},
     "output_type": "execute_result"
    }
   ],
   "source": [
    "df[0:200:25]"
   ]
  },
  {
   "cell_type": "code",
   "execution_count": 27,
   "id": "c8e78820",
   "metadata": {},
   "outputs": [
    {
     "data": {
      "application/vnd.microsoft.datawrangler.viewer.v0+json": {
       "columns": [
        {
         "name": "index",
         "rawType": "int64",
         "type": "integer"
        },
        {
         "name": "CountryName",
         "rawType": "object",
         "type": "string"
        },
        {
         "name": "CountryCode",
         "rawType": "object",
         "type": "string"
        },
        {
         "name": "BirthRate",
         "rawType": "float64",
         "type": "float"
        },
        {
         "name": "InternetUsers",
         "rawType": "float64",
         "type": "float"
        },
        {
         "name": "IncomeGroup",
         "rawType": "object",
         "type": "string"
        }
       ],
       "ref": "d6f8d95a-0a36-46e9-9b03-8974f0eb9d3c",
       "rows": [
        [
         "0",
         "Aruba",
         "ABW",
         "10.244",
         "78.9",
         "High income"
        ],
        [
         "1",
         "Afghanistan",
         "AFG",
         "35.253",
         "5.9",
         "Low income"
        ],
        [
         "2",
         "Angola",
         "AGO",
         "45.985",
         "19.1",
         "Upper middle income"
        ],
        [
         "3",
         "Albania",
         "ALB",
         "12.877",
         "57.2",
         "Upper middle income"
        ],
        [
         "4",
         "United Arab Emirates",
         "ARE",
         "11.044",
         "88.0",
         "High income"
        ],
        [
         "5",
         "Argentina",
         "ARG",
         "17.716",
         "59.9",
         "High income"
        ],
        [
         "6",
         "Armenia",
         "ARM",
         "13.308",
         "41.9",
         "Lower middle income"
        ],
        [
         "7",
         "Antigua and Barbuda",
         "ATG",
         "16.447",
         "63.4",
         "High income"
        ],
        [
         "8",
         "Australia",
         "AUS",
         "13.2",
         "83.0",
         "High income"
        ],
        [
         "9",
         "Austria",
         "AUT",
         "9.4",
         "80.6188",
         "High income"
        ],
        [
         "10",
         "Azerbaijan",
         "AZE",
         "18.3",
         "58.7",
         "Upper middle income"
        ],
        [
         "11",
         "Burundi",
         "BDI",
         "44.151",
         "1.3",
         "Low income"
        ],
        [
         "12",
         "Belgium",
         "BEL",
         "11.2",
         "82.1702",
         "High income"
        ],
        [
         "13",
         "Benin",
         "BEN",
         "36.44",
         "4.9",
         "Low income"
        ],
        [
         "14",
         "Burkina Faso",
         "BFA",
         "40.551",
         "9.1",
         "Low income"
        ],
        [
         "15",
         "Bangladesh",
         "BGD",
         "20.142",
         "6.63",
         "Lower middle income"
        ],
        [
         "16",
         "Bulgaria",
         "BGR",
         "9.2",
         "53.0615",
         "Upper middle income"
        ],
        [
         "17",
         "Bahrain",
         "BHR",
         "15.04",
         "90.0000397",
         "High income"
        ],
        [
         "18",
         "Bahamas, The",
         "BHS",
         "15.339",
         "72.0",
         "High income"
        ],
        [
         "19",
         "Bosnia and Herzegovina",
         "BIH",
         "9.062",
         "57.79",
         "Upper middle income"
        ],
        [
         "20",
         "Belarus",
         "BLR",
         "12.5",
         "54.17",
         "Upper middle income"
        ],
        [
         "21",
         "Belize",
         "BLZ",
         "23.092",
         "33.6",
         "Upper middle income"
        ],
        [
         "22",
         "Bermuda",
         "BMU",
         "10.4",
         "95.3",
         "High income"
        ],
        [
         "23",
         "Bolivia",
         "BOL",
         "24.236",
         "36.94",
         "Lower middle income"
        ],
        [
         "24",
         "Brazil",
         "BRA",
         "14.931",
         "51.04",
         "Upper middle income"
        ],
        [
         "25",
         "Barbados",
         "BRB",
         "12.188",
         "73.0",
         "High income"
        ],
        [
         "26",
         "Brunei Darussalam",
         "BRN",
         "16.405",
         "64.5",
         "High income"
        ],
        [
         "27",
         "Bhutan",
         "BTN",
         "18.134",
         "29.9",
         "Lower middle income"
        ],
        [
         "28",
         "Botswana",
         "BWA",
         "25.267",
         "15.0",
         "Upper middle income"
        ],
        [
         "29",
         "Central African Republic",
         "CAF",
         "34.076",
         "3.5",
         "Low income"
        ],
        [
         "30",
         "Canada",
         "CAN",
         "10.9",
         "85.8",
         "High income"
        ],
        [
         "31",
         "Switzerland",
         "CHE",
         "10.2",
         "86.34",
         "High income"
        ],
        [
         "32",
         "Chile",
         "CHL",
         "13.385",
         "66.5",
         "High income"
        ],
        [
         "33",
         "China",
         "CHN",
         "12.1",
         "45.8",
         "Upper middle income"
        ],
        [
         "34",
         "Cote d'Ivoire",
         "CIV",
         "37.32",
         "8.4",
         "Lower middle income"
        ],
        [
         "35",
         "Cameroon",
         "CMR",
         "37.236",
         "6.4",
         "Lower middle income"
        ],
        [
         "36",
         "Congo, Rep.",
         "COG",
         "37.011",
         "6.6",
         "Lower middle income"
        ],
        [
         "37",
         "Colombia",
         "COL",
         "16.076",
         "51.7",
         "Upper middle income"
        ],
        [
         "38",
         "Comoros",
         "COM",
         "34.326",
         "6.5",
         "Low income"
        ],
        [
         "39",
         "Cabo Verde",
         "CPV",
         "21.625",
         "37.5",
         "Lower middle income"
        ],
        [
         "40",
         "Costa Rica",
         "CRI",
         "15.022",
         "45.96",
         "Upper middle income"
        ],
        [
         "41",
         "Cuba",
         "CUB",
         "10.4",
         "27.93",
         "Upper middle income"
        ],
        [
         "42",
         "Cayman Islands",
         "CYM",
         "12.5",
         "74.1",
         "High income"
        ],
        [
         "43",
         "Cyprus",
         "CYP",
         "11.436",
         "65.4548",
         "High income"
        ],
        [
         "44",
         "Czech Republic",
         "CZE",
         "10.2",
         "74.1104",
         "High income"
        ],
        [
         "45",
         "Germany",
         "DEU",
         "8.5",
         "84.17",
         "High income"
        ],
        [
         "46",
         "Djibouti",
         "DJI",
         "25.486",
         "9.5",
         "Lower middle income"
        ],
        [
         "47",
         "Denmark",
         "DNK",
         "10.0",
         "94.6297",
         "High income"
        ],
        [
         "48",
         "Dominican Republic",
         "DOM",
         "21.198",
         "45.9",
         "Upper middle income"
        ],
        [
         "49",
         "Algeria",
         "DZA",
         "24.738",
         "16.5",
         "Upper middle income"
        ]
       ],
       "shape": {
        "columns": 5,
        "rows": 195
       }
      },
      "text/html": [
       "<div>\n",
       "<style scoped>\n",
       "    .dataframe tbody tr th:only-of-type {\n",
       "        vertical-align: middle;\n",
       "    }\n",
       "\n",
       "    .dataframe tbody tr th {\n",
       "        vertical-align: top;\n",
       "    }\n",
       "\n",
       "    .dataframe thead th {\n",
       "        text-align: right;\n",
       "    }\n",
       "</style>\n",
       "<table border=\"1\" class=\"dataframe\">\n",
       "  <thead>\n",
       "    <tr style=\"text-align: right;\">\n",
       "      <th></th>\n",
       "      <th>CountryName</th>\n",
       "      <th>CountryCode</th>\n",
       "      <th>BirthRate</th>\n",
       "      <th>InternetUsers</th>\n",
       "      <th>IncomeGroup</th>\n",
       "    </tr>\n",
       "  </thead>\n",
       "  <tbody>\n",
       "    <tr>\n",
       "      <th>0</th>\n",
       "      <td>Aruba</td>\n",
       "      <td>ABW</td>\n",
       "      <td>10.244</td>\n",
       "      <td>78.9</td>\n",
       "      <td>High income</td>\n",
       "    </tr>\n",
       "    <tr>\n",
       "      <th>1</th>\n",
       "      <td>Afghanistan</td>\n",
       "      <td>AFG</td>\n",
       "      <td>35.253</td>\n",
       "      <td>5.9</td>\n",
       "      <td>Low income</td>\n",
       "    </tr>\n",
       "    <tr>\n",
       "      <th>2</th>\n",
       "      <td>Angola</td>\n",
       "      <td>AGO</td>\n",
       "      <td>45.985</td>\n",
       "      <td>19.1</td>\n",
       "      <td>Upper middle income</td>\n",
       "    </tr>\n",
       "    <tr>\n",
       "      <th>3</th>\n",
       "      <td>Albania</td>\n",
       "      <td>ALB</td>\n",
       "      <td>12.877</td>\n",
       "      <td>57.2</td>\n",
       "      <td>Upper middle income</td>\n",
       "    </tr>\n",
       "    <tr>\n",
       "      <th>4</th>\n",
       "      <td>United Arab Emirates</td>\n",
       "      <td>ARE</td>\n",
       "      <td>11.044</td>\n",
       "      <td>88.0</td>\n",
       "      <td>High income</td>\n",
       "    </tr>\n",
       "    <tr>\n",
       "      <th>...</th>\n",
       "      <td>...</td>\n",
       "      <td>...</td>\n",
       "      <td>...</td>\n",
       "      <td>...</td>\n",
       "      <td>...</td>\n",
       "    </tr>\n",
       "    <tr>\n",
       "      <th>190</th>\n",
       "      <td>Yemen, Rep.</td>\n",
       "      <td>YEM</td>\n",
       "      <td>32.947</td>\n",
       "      <td>20.0</td>\n",
       "      <td>Lower middle income</td>\n",
       "    </tr>\n",
       "    <tr>\n",
       "      <th>191</th>\n",
       "      <td>South Africa</td>\n",
       "      <td>ZAF</td>\n",
       "      <td>20.850</td>\n",
       "      <td>46.5</td>\n",
       "      <td>Upper middle income</td>\n",
       "    </tr>\n",
       "    <tr>\n",
       "      <th>192</th>\n",
       "      <td>Congo, Dem. Rep.</td>\n",
       "      <td>COD</td>\n",
       "      <td>42.394</td>\n",
       "      <td>2.2</td>\n",
       "      <td>Low income</td>\n",
       "    </tr>\n",
       "    <tr>\n",
       "      <th>193</th>\n",
       "      <td>Zambia</td>\n",
       "      <td>ZMB</td>\n",
       "      <td>40.471</td>\n",
       "      <td>15.4</td>\n",
       "      <td>Lower middle income</td>\n",
       "    </tr>\n",
       "    <tr>\n",
       "      <th>194</th>\n",
       "      <td>Zimbabwe</td>\n",
       "      <td>ZWE</td>\n",
       "      <td>35.715</td>\n",
       "      <td>18.5</td>\n",
       "      <td>Low income</td>\n",
       "    </tr>\n",
       "  </tbody>\n",
       "</table>\n",
       "<p>195 rows × 5 columns</p>\n",
       "</div>"
      ],
      "text/plain": [
       "              CountryName CountryCode  BirthRate  InternetUsers  \\\n",
       "0                   Aruba         ABW     10.244           78.9   \n",
       "1             Afghanistan         AFG     35.253            5.9   \n",
       "2                  Angola         AGO     45.985           19.1   \n",
       "3                 Albania         ALB     12.877           57.2   \n",
       "4    United Arab Emirates         ARE     11.044           88.0   \n",
       "..                    ...         ...        ...            ...   \n",
       "190           Yemen, Rep.         YEM     32.947           20.0   \n",
       "191          South Africa         ZAF     20.850           46.5   \n",
       "192      Congo, Dem. Rep.         COD     42.394            2.2   \n",
       "193                Zambia         ZMB     40.471           15.4   \n",
       "194              Zimbabwe         ZWE     35.715           18.5   \n",
       "\n",
       "             IncomeGroup  \n",
       "0            High income  \n",
       "1             Low income  \n",
       "2    Upper middle income  \n",
       "3    Upper middle income  \n",
       "4            High income  \n",
       "..                   ...  \n",
       "190  Lower middle income  \n",
       "191  Upper middle income  \n",
       "192           Low income  \n",
       "193  Lower middle income  \n",
       "194           Low income  \n",
       "\n",
       "[195 rows x 5 columns]"
      ]
     },
     "execution_count": 27,
     "metadata": {},
     "output_type": "execute_result"
    }
   ],
   "source": [
    "df[::]"
   ]
  },
  {
   "cell_type": "code",
   "execution_count": 28,
   "id": "8d9fea70",
   "metadata": {},
   "outputs": [
    {
     "data": {
      "application/vnd.microsoft.datawrangler.viewer.v0+json": {
       "columns": [
        {
         "name": "index",
         "rawType": "int64",
         "type": "integer"
        },
        {
         "name": "CountryName",
         "rawType": "object",
         "type": "string"
        },
        {
         "name": "CountryCode",
         "rawType": "object",
         "type": "string"
        },
        {
         "name": "BirthRate",
         "rawType": "float64",
         "type": "float"
        },
        {
         "name": "InternetUsers",
         "rawType": "float64",
         "type": "float"
        },
        {
         "name": "IncomeGroup",
         "rawType": "object",
         "type": "string"
        }
       ],
       "ref": "92936b70-7839-4453-ac07-2b61d58c894e",
       "rows": [
        [
         "194",
         "Zimbabwe",
         "ZWE",
         "35.715",
         "18.5",
         "Low income"
        ],
        [
         "193",
         "Zambia",
         "ZMB",
         "40.471",
         "15.4",
         "Lower middle income"
        ],
        [
         "192",
         "Congo, Dem. Rep.",
         "COD",
         "42.394",
         "2.2",
         "Low income"
        ],
        [
         "191",
         "South Africa",
         "ZAF",
         "20.85",
         "46.5",
         "Upper middle income"
        ],
        [
         "190",
         "Yemen, Rep.",
         "YEM",
         "32.947",
         "20.0",
         "Lower middle income"
        ],
        [
         "189",
         "Samoa",
         "WSM",
         "26.172",
         "15.3",
         "Lower middle income"
        ],
        [
         "188",
         "West Bank and Gaza",
         "PSE",
         "30.394",
         "46.6",
         "Lower middle income"
        ],
        [
         "187",
         "Vanuatu",
         "VUT",
         "26.739",
         "11.3",
         "Lower middle income"
        ],
        [
         "186",
         "Vietnam",
         "VNM",
         "15.537",
         "43.9",
         "Lower middle income"
        ],
        [
         "185",
         "Virgin Islands (U.S.)",
         "VIR",
         "10.7",
         "45.3",
         "High income"
        ],
        [
         "184",
         "Venezuela, RB",
         "VEN",
         "19.842",
         "54.9",
         "High income"
        ],
        [
         "183",
         "St. Vincent and the Grenadines",
         "VCT",
         "16.306",
         "52.0",
         "Upper middle income"
        ],
        [
         "182",
         "Uzbekistan",
         "UZB",
         "22.5",
         "38.2",
         "Lower middle income"
        ],
        [
         "181",
         "United States",
         "USA",
         "12.5",
         "84.2",
         "High income"
        ],
        [
         "180",
         "Uruguay",
         "URY",
         "14.374",
         "57.69",
         "High income"
        ],
        [
         "179",
         "Ukraine",
         "UKR",
         "11.1",
         "41.0",
         "Lower middle income"
        ],
        [
         "178",
         "Uganda",
         "UGA",
         "43.474",
         "16.2",
         "Low income"
        ],
        [
         "177",
         "Tanzania",
         "TZA",
         "39.518",
         "4.4",
         "Low income"
        ],
        [
         "176",
         "Turkey",
         "TUR",
         "16.836",
         "46.25",
         "Upper middle income"
        ],
        [
         "175",
         "Tunisia",
         "TUN",
         "19.8",
         "43.8",
         "Upper middle income"
        ],
        [
         "174",
         "Trinidad and Tobago",
         "TTO",
         "14.59",
         "63.8",
         "High income"
        ],
        [
         "173",
         "Tonga",
         "TON",
         "25.409",
         "35.0",
         "Upper middle income"
        ],
        [
         "172",
         "Timor-Leste",
         "TLS",
         "35.755",
         "1.1",
         "Lower middle income"
        ],
        [
         "171",
         "Turkmenistan",
         "TKM",
         "21.322",
         "9.6",
         "Upper middle income"
        ],
        [
         "170",
         "Tajikistan",
         "TJK",
         "30.792",
         "16.0",
         "Lower middle income"
        ],
        [
         "169",
         "Thailand",
         "THA",
         "11.041",
         "28.94",
         "Upper middle income"
        ],
        [
         "168",
         "Togo",
         "TGO",
         "36.08",
         "4.5",
         "Low income"
        ],
        [
         "167",
         "Chad",
         "TCD",
         "45.745",
         "2.3",
         "Low income"
        ],
        [
         "166",
         "Syrian Arab Republic",
         "SYR",
         "24.043",
         "26.2",
         "Lower middle income"
        ],
        [
         "165",
         "Seychelles",
         "SYC",
         "18.6",
         "50.4",
         "High income"
        ],
        [
         "164",
         "Swaziland",
         "SWZ",
         "30.093",
         "24.7",
         "Lower middle income"
        ],
        [
         "163",
         "Sweden",
         "SWE",
         "11.8",
         "94.7836",
         "High income"
        ],
        [
         "162",
         "Slovenia",
         "SVN",
         "10.2",
         "72.6756",
         "High income"
        ],
        [
         "161",
         "Slovak Republic",
         "SVK",
         "10.1",
         "77.8826",
         "High income"
        ],
        [
         "160",
         "Suriname",
         "SUR",
         "18.455",
         "37.4",
         "Upper middle income"
        ],
        [
         "159",
         "Sao Tome and Principe",
         "STP",
         "34.537",
         "23.0",
         "Lower middle income"
        ],
        [
         "158",
         "South Sudan",
         "SSD",
         "37.126",
         "14.1",
         "Low income"
        ],
        [
         "157",
         "Serbia",
         "SRB",
         "9.2",
         "51.5",
         "Upper middle income"
        ],
        [
         "156",
         "Somalia",
         "SOM",
         "43.891",
         "1.5",
         "Low income"
        ],
        [
         "155",
         "El Salvador",
         "SLV",
         "17.476",
         "23.1093",
         "Lower middle income"
        ],
        [
         "154",
         "Sierra Leone",
         "SLE",
         "36.729",
         "1.7",
         "Low income"
        ],
        [
         "153",
         "Solomon Islands",
         "SLB",
         "30.578",
         "8.0",
         "Lower middle income"
        ],
        [
         "152",
         "Singapore",
         "SGP",
         "9.3",
         "81.0",
         "High income"
        ],
        [
         "151",
         "Senegal",
         "SEN",
         "38.533",
         "13.1",
         "Lower middle income"
        ],
        [
         "150",
         "Sudan",
         "SDN",
         "33.477",
         "22.7",
         "Lower middle income"
        ],
        [
         "149",
         "Saudi Arabia",
         "SAU",
         "20.576",
         "60.5",
         "High income"
        ],
        [
         "148",
         "Rwanda",
         "RWA",
         "32.689",
         "9.0",
         "Low income"
        ],
        [
         "147",
         "Russian Federation",
         "RUS",
         "13.2",
         "67.97",
         "High income"
        ],
        [
         "146",
         "Romania",
         "ROU",
         "8.8",
         "49.7645",
         "Upper middle income"
        ],
        [
         "145",
         "Qatar",
         "QAT",
         "11.94",
         "85.3",
         "High income"
        ]
       ],
       "shape": {
        "columns": 5,
        "rows": 195
       }
      },
      "text/html": [
       "<div>\n",
       "<style scoped>\n",
       "    .dataframe tbody tr th:only-of-type {\n",
       "        vertical-align: middle;\n",
       "    }\n",
       "\n",
       "    .dataframe tbody tr th {\n",
       "        vertical-align: top;\n",
       "    }\n",
       "\n",
       "    .dataframe thead th {\n",
       "        text-align: right;\n",
       "    }\n",
       "</style>\n",
       "<table border=\"1\" class=\"dataframe\">\n",
       "  <thead>\n",
       "    <tr style=\"text-align: right;\">\n",
       "      <th></th>\n",
       "      <th>CountryName</th>\n",
       "      <th>CountryCode</th>\n",
       "      <th>BirthRate</th>\n",
       "      <th>InternetUsers</th>\n",
       "      <th>IncomeGroup</th>\n",
       "    </tr>\n",
       "  </thead>\n",
       "  <tbody>\n",
       "    <tr>\n",
       "      <th>194</th>\n",
       "      <td>Zimbabwe</td>\n",
       "      <td>ZWE</td>\n",
       "      <td>35.715</td>\n",
       "      <td>18.5</td>\n",
       "      <td>Low income</td>\n",
       "    </tr>\n",
       "    <tr>\n",
       "      <th>193</th>\n",
       "      <td>Zambia</td>\n",
       "      <td>ZMB</td>\n",
       "      <td>40.471</td>\n",
       "      <td>15.4</td>\n",
       "      <td>Lower middle income</td>\n",
       "    </tr>\n",
       "    <tr>\n",
       "      <th>192</th>\n",
       "      <td>Congo, Dem. Rep.</td>\n",
       "      <td>COD</td>\n",
       "      <td>42.394</td>\n",
       "      <td>2.2</td>\n",
       "      <td>Low income</td>\n",
       "    </tr>\n",
       "    <tr>\n",
       "      <th>191</th>\n",
       "      <td>South Africa</td>\n",
       "      <td>ZAF</td>\n",
       "      <td>20.850</td>\n",
       "      <td>46.5</td>\n",
       "      <td>Upper middle income</td>\n",
       "    </tr>\n",
       "    <tr>\n",
       "      <th>190</th>\n",
       "      <td>Yemen, Rep.</td>\n",
       "      <td>YEM</td>\n",
       "      <td>32.947</td>\n",
       "      <td>20.0</td>\n",
       "      <td>Lower middle income</td>\n",
       "    </tr>\n",
       "    <tr>\n",
       "      <th>...</th>\n",
       "      <td>...</td>\n",
       "      <td>...</td>\n",
       "      <td>...</td>\n",
       "      <td>...</td>\n",
       "      <td>...</td>\n",
       "    </tr>\n",
       "    <tr>\n",
       "      <th>4</th>\n",
       "      <td>United Arab Emirates</td>\n",
       "      <td>ARE</td>\n",
       "      <td>11.044</td>\n",
       "      <td>88.0</td>\n",
       "      <td>High income</td>\n",
       "    </tr>\n",
       "    <tr>\n",
       "      <th>3</th>\n",
       "      <td>Albania</td>\n",
       "      <td>ALB</td>\n",
       "      <td>12.877</td>\n",
       "      <td>57.2</td>\n",
       "      <td>Upper middle income</td>\n",
       "    </tr>\n",
       "    <tr>\n",
       "      <th>2</th>\n",
       "      <td>Angola</td>\n",
       "      <td>AGO</td>\n",
       "      <td>45.985</td>\n",
       "      <td>19.1</td>\n",
       "      <td>Upper middle income</td>\n",
       "    </tr>\n",
       "    <tr>\n",
       "      <th>1</th>\n",
       "      <td>Afghanistan</td>\n",
       "      <td>AFG</td>\n",
       "      <td>35.253</td>\n",
       "      <td>5.9</td>\n",
       "      <td>Low income</td>\n",
       "    </tr>\n",
       "    <tr>\n",
       "      <th>0</th>\n",
       "      <td>Aruba</td>\n",
       "      <td>ABW</td>\n",
       "      <td>10.244</td>\n",
       "      <td>78.9</td>\n",
       "      <td>High income</td>\n",
       "    </tr>\n",
       "  </tbody>\n",
       "</table>\n",
       "<p>195 rows × 5 columns</p>\n",
       "</div>"
      ],
      "text/plain": [
       "              CountryName CountryCode  BirthRate  InternetUsers  \\\n",
       "194              Zimbabwe         ZWE     35.715           18.5   \n",
       "193                Zambia         ZMB     40.471           15.4   \n",
       "192      Congo, Dem. Rep.         COD     42.394            2.2   \n",
       "191          South Africa         ZAF     20.850           46.5   \n",
       "190           Yemen, Rep.         YEM     32.947           20.0   \n",
       "..                    ...         ...        ...            ...   \n",
       "4    United Arab Emirates         ARE     11.044           88.0   \n",
       "3                 Albania         ALB     12.877           57.2   \n",
       "2                  Angola         AGO     45.985           19.1   \n",
       "1             Afghanistan         AFG     35.253            5.9   \n",
       "0                   Aruba         ABW     10.244           78.9   \n",
       "\n",
       "             IncomeGroup  \n",
       "194           Low income  \n",
       "193  Lower middle income  \n",
       "192           Low income  \n",
       "191  Upper middle income  \n",
       "190  Lower middle income  \n",
       "..                   ...  \n",
       "4            High income  \n",
       "3    Upper middle income  \n",
       "2    Upper middle income  \n",
       "1             Low income  \n",
       "0            High income  \n",
       "\n",
       "[195 rows x 5 columns]"
      ]
     },
     "execution_count": 28,
     "metadata": {},
     "output_type": "execute_result"
    }
   ],
   "source": [
    "df[::-1]"
   ]
  },
  {
   "cell_type": "code",
   "execution_count": 29,
   "id": "d1793f3d",
   "metadata": {},
   "outputs": [
    {
     "data": {
      "application/vnd.microsoft.datawrangler.viewer.v0+json": {
       "columns": [
        {
         "name": "index",
         "rawType": "int64",
         "type": "integer"
        },
        {
         "name": "CountryName",
         "rawType": "object",
         "type": "string"
        },
        {
         "name": "CountryCode",
         "rawType": "object",
         "type": "string"
        },
        {
         "name": "BirthRate",
         "rawType": "float64",
         "type": "float"
        },
        {
         "name": "InternetUsers",
         "rawType": "float64",
         "type": "float"
        },
        {
         "name": "IncomeGroup",
         "rawType": "object",
         "type": "string"
        }
       ],
       "ref": "8ca62199-fe73-4778-8f73-007f9b56ec57",
       "rows": [
        [
         "194",
         "Zimbabwe",
         "ZWE",
         "35.715",
         "18.5",
         "Low income"
        ],
        [
         "192",
         "Congo, Dem. Rep.",
         "COD",
         "42.394",
         "2.2",
         "Low income"
        ],
        [
         "190",
         "Yemen, Rep.",
         "YEM",
         "32.947",
         "20.0",
         "Lower middle income"
        ],
        [
         "188",
         "West Bank and Gaza",
         "PSE",
         "30.394",
         "46.6",
         "Lower middle income"
        ],
        [
         "186",
         "Vietnam",
         "VNM",
         "15.537",
         "43.9",
         "Lower middle income"
        ],
        [
         "184",
         "Venezuela, RB",
         "VEN",
         "19.842",
         "54.9",
         "High income"
        ],
        [
         "182",
         "Uzbekistan",
         "UZB",
         "22.5",
         "38.2",
         "Lower middle income"
        ],
        [
         "180",
         "Uruguay",
         "URY",
         "14.374",
         "57.69",
         "High income"
        ],
        [
         "178",
         "Uganda",
         "UGA",
         "43.474",
         "16.2",
         "Low income"
        ],
        [
         "176",
         "Turkey",
         "TUR",
         "16.836",
         "46.25",
         "Upper middle income"
        ],
        [
         "174",
         "Trinidad and Tobago",
         "TTO",
         "14.59",
         "63.8",
         "High income"
        ],
        [
         "172",
         "Timor-Leste",
         "TLS",
         "35.755",
         "1.1",
         "Lower middle income"
        ],
        [
         "170",
         "Tajikistan",
         "TJK",
         "30.792",
         "16.0",
         "Lower middle income"
        ],
        [
         "168",
         "Togo",
         "TGO",
         "36.08",
         "4.5",
         "Low income"
        ],
        [
         "166",
         "Syrian Arab Republic",
         "SYR",
         "24.043",
         "26.2",
         "Lower middle income"
        ],
        [
         "164",
         "Swaziland",
         "SWZ",
         "30.093",
         "24.7",
         "Lower middle income"
        ],
        [
         "162",
         "Slovenia",
         "SVN",
         "10.2",
         "72.6756",
         "High income"
        ],
        [
         "160",
         "Suriname",
         "SUR",
         "18.455",
         "37.4",
         "Upper middle income"
        ],
        [
         "158",
         "South Sudan",
         "SSD",
         "37.126",
         "14.1",
         "Low income"
        ],
        [
         "156",
         "Somalia",
         "SOM",
         "43.891",
         "1.5",
         "Low income"
        ],
        [
         "154",
         "Sierra Leone",
         "SLE",
         "36.729",
         "1.7",
         "Low income"
        ],
        [
         "152",
         "Singapore",
         "SGP",
         "9.3",
         "81.0",
         "High income"
        ],
        [
         "150",
         "Sudan",
         "SDN",
         "33.477",
         "22.7",
         "Lower middle income"
        ],
        [
         "148",
         "Rwanda",
         "RWA",
         "32.689",
         "9.0",
         "Low income"
        ],
        [
         "146",
         "Romania",
         "ROU",
         "8.8",
         "49.7645",
         "Upper middle income"
        ],
        [
         "144",
         "French Polynesia",
         "PYF",
         "16.393",
         "56.8",
         "High income"
        ],
        [
         "142",
         "Portugal",
         "PRT",
         "7.9",
         "62.0956",
         "High income"
        ],
        [
         "140",
         "Poland",
         "POL",
         "9.6",
         "62.8492",
         "High income"
        ],
        [
         "138",
         "Philippines",
         "PHL",
         "23.79",
         "37.0",
         "Lower middle income"
        ],
        [
         "136",
         "Panama",
         "PAN",
         "19.68",
         "44.03",
         "Upper middle income"
        ],
        [
         "134",
         "Oman",
         "OMN",
         "20.419",
         "66.45",
         "High income"
        ],
        [
         "132",
         "Nepal",
         "NPL",
         "20.923",
         "13.3",
         "Low income"
        ],
        [
         "130",
         "Netherlands",
         "NLD",
         "10.2",
         "93.9564",
         "High income"
        ],
        [
         "128",
         "Nigeria",
         "NGA",
         "40.045",
         "38.0",
         "Lower middle income"
        ],
        [
         "126",
         "New Caledonia",
         "NCL",
         "17.0",
         "66.0",
         "High income"
        ],
        [
         "124",
         "Malaysia",
         "MYS",
         "16.805",
         "66.97",
         "Upper middle income"
        ],
        [
         "122",
         "Mauritius",
         "MUS",
         "10.9",
         "39.0",
         "Upper middle income"
        ],
        [
         "120",
         "Mozambique",
         "MOZ",
         "39.705",
         "5.4",
         "Low income"
        ],
        [
         "118",
         "Montenegro",
         "MNE",
         "11.616",
         "60.31",
         "Upper middle income"
        ],
        [
         "116",
         "Malta",
         "MLT",
         "9.5",
         "68.9138",
         "High income"
        ],
        [
         "114",
         "Macedonia, FYR",
         "MKD",
         "11.222",
         "65.24",
         "Upper middle income"
        ],
        [
         "112",
         "Maldives",
         "MDV",
         "21.447",
         "44.1",
         "Upper middle income"
        ],
        [
         "110",
         "Moldova",
         "MDA",
         "12.141",
         "45.0",
         "Lower middle income"
        ],
        [
         "108",
         "Macao SAR, China",
         "MAC",
         "11.256",
         "65.8",
         "High income"
        ],
        [
         "106",
         "Luxembourg",
         "LUX",
         "11.3",
         "93.7765",
         "High income"
        ],
        [
         "104",
         "Lesotho",
         "LSO",
         "28.738",
         "5.0",
         "Lower middle income"
        ],
        [
         "102",
         "Liechtenstein",
         "LIE",
         "9.2",
         "93.8",
         "High income"
        ],
        [
         "100",
         "Libya",
         "LBY",
         "21.425",
         "16.5",
         "Upper middle income"
        ],
        [
         "98",
         "Lebanon",
         "LBN",
         "13.426",
         "70.5",
         "Upper middle income"
        ],
        [
         "96",
         "Kuwait",
         "KWT",
         "20.575",
         "75.46",
         "High income"
        ]
       ],
       "shape": {
        "columns": 5,
        "rows": 98
       }
      },
      "text/html": [
       "<div>\n",
       "<style scoped>\n",
       "    .dataframe tbody tr th:only-of-type {\n",
       "        vertical-align: middle;\n",
       "    }\n",
       "\n",
       "    .dataframe tbody tr th {\n",
       "        vertical-align: top;\n",
       "    }\n",
       "\n",
       "    .dataframe thead th {\n",
       "        text-align: right;\n",
       "    }\n",
       "</style>\n",
       "<table border=\"1\" class=\"dataframe\">\n",
       "  <thead>\n",
       "    <tr style=\"text-align: right;\">\n",
       "      <th></th>\n",
       "      <th>CountryName</th>\n",
       "      <th>CountryCode</th>\n",
       "      <th>BirthRate</th>\n",
       "      <th>InternetUsers</th>\n",
       "      <th>IncomeGroup</th>\n",
       "    </tr>\n",
       "  </thead>\n",
       "  <tbody>\n",
       "    <tr>\n",
       "      <th>194</th>\n",
       "      <td>Zimbabwe</td>\n",
       "      <td>ZWE</td>\n",
       "      <td>35.715</td>\n",
       "      <td>18.5</td>\n",
       "      <td>Low income</td>\n",
       "    </tr>\n",
       "    <tr>\n",
       "      <th>192</th>\n",
       "      <td>Congo, Dem. Rep.</td>\n",
       "      <td>COD</td>\n",
       "      <td>42.394</td>\n",
       "      <td>2.2</td>\n",
       "      <td>Low income</td>\n",
       "    </tr>\n",
       "    <tr>\n",
       "      <th>190</th>\n",
       "      <td>Yemen, Rep.</td>\n",
       "      <td>YEM</td>\n",
       "      <td>32.947</td>\n",
       "      <td>20.0</td>\n",
       "      <td>Lower middle income</td>\n",
       "    </tr>\n",
       "    <tr>\n",
       "      <th>188</th>\n",
       "      <td>West Bank and Gaza</td>\n",
       "      <td>PSE</td>\n",
       "      <td>30.394</td>\n",
       "      <td>46.6</td>\n",
       "      <td>Lower middle income</td>\n",
       "    </tr>\n",
       "    <tr>\n",
       "      <th>186</th>\n",
       "      <td>Vietnam</td>\n",
       "      <td>VNM</td>\n",
       "      <td>15.537</td>\n",
       "      <td>43.9</td>\n",
       "      <td>Lower middle income</td>\n",
       "    </tr>\n",
       "    <tr>\n",
       "      <th>...</th>\n",
       "      <td>...</td>\n",
       "      <td>...</td>\n",
       "      <td>...</td>\n",
       "      <td>...</td>\n",
       "      <td>...</td>\n",
       "    </tr>\n",
       "    <tr>\n",
       "      <th>8</th>\n",
       "      <td>Australia</td>\n",
       "      <td>AUS</td>\n",
       "      <td>13.200</td>\n",
       "      <td>83.0</td>\n",
       "      <td>High income</td>\n",
       "    </tr>\n",
       "    <tr>\n",
       "      <th>6</th>\n",
       "      <td>Armenia</td>\n",
       "      <td>ARM</td>\n",
       "      <td>13.308</td>\n",
       "      <td>41.9</td>\n",
       "      <td>Lower middle income</td>\n",
       "    </tr>\n",
       "    <tr>\n",
       "      <th>4</th>\n",
       "      <td>United Arab Emirates</td>\n",
       "      <td>ARE</td>\n",
       "      <td>11.044</td>\n",
       "      <td>88.0</td>\n",
       "      <td>High income</td>\n",
       "    </tr>\n",
       "    <tr>\n",
       "      <th>2</th>\n",
       "      <td>Angola</td>\n",
       "      <td>AGO</td>\n",
       "      <td>45.985</td>\n",
       "      <td>19.1</td>\n",
       "      <td>Upper middle income</td>\n",
       "    </tr>\n",
       "    <tr>\n",
       "      <th>0</th>\n",
       "      <td>Aruba</td>\n",
       "      <td>ABW</td>\n",
       "      <td>10.244</td>\n",
       "      <td>78.9</td>\n",
       "      <td>High income</td>\n",
       "    </tr>\n",
       "  </tbody>\n",
       "</table>\n",
       "<p>98 rows × 5 columns</p>\n",
       "</div>"
      ],
      "text/plain": [
       "              CountryName CountryCode  BirthRate  InternetUsers  \\\n",
       "194              Zimbabwe         ZWE     35.715           18.5   \n",
       "192      Congo, Dem. Rep.         COD     42.394            2.2   \n",
       "190           Yemen, Rep.         YEM     32.947           20.0   \n",
       "188    West Bank and Gaza         PSE     30.394           46.6   \n",
       "186               Vietnam         VNM     15.537           43.9   \n",
       "..                    ...         ...        ...            ...   \n",
       "8               Australia         AUS     13.200           83.0   \n",
       "6                 Armenia         ARM     13.308           41.9   \n",
       "4    United Arab Emirates         ARE     11.044           88.0   \n",
       "2                  Angola         AGO     45.985           19.1   \n",
       "0                   Aruba         ABW     10.244           78.9   \n",
       "\n",
       "             IncomeGroup  \n",
       "194           Low income  \n",
       "192           Low income  \n",
       "190  Lower middle income  \n",
       "188  Lower middle income  \n",
       "186  Lower middle income  \n",
       "..                   ...  \n",
       "8            High income  \n",
       "6    Lower middle income  \n",
       "4            High income  \n",
       "2    Upper middle income  \n",
       "0            High income  \n",
       "\n",
       "[98 rows x 5 columns]"
      ]
     },
     "execution_count": 29,
     "metadata": {},
     "output_type": "execute_result"
    }
   ],
   "source": [
    "df[::-2]"
   ]
  },
  {
   "cell_type": "code",
   "execution_count": 30,
   "id": "d044d8c7",
   "metadata": {},
   "outputs": [
    {
     "data": {
      "application/vnd.microsoft.datawrangler.viewer.v0+json": {
       "columns": [
        {
         "name": "index",
         "rawType": "int64",
         "type": "integer"
        },
        {
         "name": "BirthRate",
         "rawType": "float64",
         "type": "float"
        }
       ],
       "ref": "81fdd645-e1c8-4674-bd6d-ce60b4882911",
       "rows": [
        [
         "0",
         "10.244"
        ],
        [
         "1",
         "35.253"
        ],
        [
         "2",
         "45.985"
        ],
        [
         "3",
         "12.877"
        ],
        [
         "4",
         "11.044"
        ],
        [
         "5",
         "17.716"
        ],
        [
         "6",
         "13.308"
        ],
        [
         "7",
         "16.447"
        ],
        [
         "8",
         "13.2"
        ],
        [
         "9",
         "9.4"
        ],
        [
         "10",
         "18.3"
        ],
        [
         "11",
         "44.151"
        ],
        [
         "12",
         "11.2"
        ],
        [
         "13",
         "36.44"
        ],
        [
         "14",
         "40.551"
        ],
        [
         "15",
         "20.142"
        ],
        [
         "16",
         "9.2"
        ],
        [
         "17",
         "15.04"
        ],
        [
         "18",
         "15.339"
        ],
        [
         "19",
         "9.062"
        ],
        [
         "20",
         "12.5"
        ],
        [
         "21",
         "23.092"
        ],
        [
         "22",
         "10.4"
        ],
        [
         "23",
         "24.236"
        ],
        [
         "24",
         "14.931"
        ],
        [
         "25",
         "12.188"
        ],
        [
         "26",
         "16.405"
        ],
        [
         "27",
         "18.134"
        ],
        [
         "28",
         "25.267"
        ],
        [
         "29",
         "34.076"
        ],
        [
         "30",
         "10.9"
        ],
        [
         "31",
         "10.2"
        ],
        [
         "32",
         "13.385"
        ],
        [
         "33",
         "12.1"
        ],
        [
         "34",
         "37.32"
        ],
        [
         "35",
         "37.236"
        ],
        [
         "36",
         "37.011"
        ],
        [
         "37",
         "16.076"
        ],
        [
         "38",
         "34.326"
        ],
        [
         "39",
         "21.625"
        ],
        [
         "40",
         "15.022"
        ],
        [
         "41",
         "10.4"
        ],
        [
         "42",
         "12.5"
        ],
        [
         "43",
         "11.436"
        ],
        [
         "44",
         "10.2"
        ],
        [
         "45",
         "8.5"
        ],
        [
         "46",
         "25.486"
        ],
        [
         "47",
         "10.0"
        ],
        [
         "48",
         "21.198"
        ],
        [
         "49",
         "24.738"
        ]
       ],
       "shape": {
        "columns": 1,
        "rows": 195
       }
      },
      "text/plain": [
       "0      10.244\n",
       "1      35.253\n",
       "2      45.985\n",
       "3      12.877\n",
       "4      11.044\n",
       "        ...  \n",
       "190    32.947\n",
       "191    20.850\n",
       "192    42.394\n",
       "193    40.471\n",
       "194    35.715\n",
       "Name: BirthRate, Length: 195, dtype: float64"
      ]
     },
     "execution_count": 30,
     "metadata": {},
     "output_type": "execute_result"
    }
   ],
   "source": [
    "df['BirthRate']"
   ]
  },
  {
   "cell_type": "code",
   "execution_count": 31,
   "id": "ffac0497",
   "metadata": {},
   "outputs": [
    {
     "data": {
      "application/vnd.microsoft.datawrangler.viewer.v0+json": {
       "columns": [
        {
         "name": "index",
         "rawType": "int64",
         "type": "integer"
        },
        {
         "name": "CountryName",
         "rawType": "object",
         "type": "string"
        },
        {
         "name": "CountryCode",
         "rawType": "object",
         "type": "string"
        }
       ],
       "ref": "e6a4e6b7-bb99-475d-b766-8b05b0b64728",
       "rows": [
        [
         "0",
         "Aruba",
         "ABW"
        ],
        [
         "1",
         "Afghanistan",
         "AFG"
        ],
        [
         "2",
         "Angola",
         "AGO"
        ],
        [
         "3",
         "Albania",
         "ALB"
        ],
        [
         "4",
         "United Arab Emirates",
         "ARE"
        ],
        [
         "5",
         "Argentina",
         "ARG"
        ],
        [
         "6",
         "Armenia",
         "ARM"
        ],
        [
         "7",
         "Antigua and Barbuda",
         "ATG"
        ],
        [
         "8",
         "Australia",
         "AUS"
        ],
        [
         "9",
         "Austria",
         "AUT"
        ],
        [
         "10",
         "Azerbaijan",
         "AZE"
        ],
        [
         "11",
         "Burundi",
         "BDI"
        ],
        [
         "12",
         "Belgium",
         "BEL"
        ],
        [
         "13",
         "Benin",
         "BEN"
        ],
        [
         "14",
         "Burkina Faso",
         "BFA"
        ],
        [
         "15",
         "Bangladesh",
         "BGD"
        ],
        [
         "16",
         "Bulgaria",
         "BGR"
        ],
        [
         "17",
         "Bahrain",
         "BHR"
        ],
        [
         "18",
         "Bahamas, The",
         "BHS"
        ],
        [
         "19",
         "Bosnia and Herzegovina",
         "BIH"
        ],
        [
         "20",
         "Belarus",
         "BLR"
        ],
        [
         "21",
         "Belize",
         "BLZ"
        ],
        [
         "22",
         "Bermuda",
         "BMU"
        ],
        [
         "23",
         "Bolivia",
         "BOL"
        ],
        [
         "24",
         "Brazil",
         "BRA"
        ],
        [
         "25",
         "Barbados",
         "BRB"
        ],
        [
         "26",
         "Brunei Darussalam",
         "BRN"
        ],
        [
         "27",
         "Bhutan",
         "BTN"
        ],
        [
         "28",
         "Botswana",
         "BWA"
        ],
        [
         "29",
         "Central African Republic",
         "CAF"
        ],
        [
         "30",
         "Canada",
         "CAN"
        ],
        [
         "31",
         "Switzerland",
         "CHE"
        ],
        [
         "32",
         "Chile",
         "CHL"
        ],
        [
         "33",
         "China",
         "CHN"
        ],
        [
         "34",
         "Cote d'Ivoire",
         "CIV"
        ],
        [
         "35",
         "Cameroon",
         "CMR"
        ],
        [
         "36",
         "Congo, Rep.",
         "COG"
        ],
        [
         "37",
         "Colombia",
         "COL"
        ],
        [
         "38",
         "Comoros",
         "COM"
        ],
        [
         "39",
         "Cabo Verde",
         "CPV"
        ],
        [
         "40",
         "Costa Rica",
         "CRI"
        ],
        [
         "41",
         "Cuba",
         "CUB"
        ],
        [
         "42",
         "Cayman Islands",
         "CYM"
        ],
        [
         "43",
         "Cyprus",
         "CYP"
        ],
        [
         "44",
         "Czech Republic",
         "CZE"
        ],
        [
         "45",
         "Germany",
         "DEU"
        ],
        [
         "46",
         "Djibouti",
         "DJI"
        ],
        [
         "47",
         "Denmark",
         "DNK"
        ],
        [
         "48",
         "Dominican Republic",
         "DOM"
        ],
        [
         "49",
         "Algeria",
         "DZA"
        ]
       ],
       "shape": {
        "columns": 2,
        "rows": 195
       }
      },
      "text/html": [
       "<div>\n",
       "<style scoped>\n",
       "    .dataframe tbody tr th:only-of-type {\n",
       "        vertical-align: middle;\n",
       "    }\n",
       "\n",
       "    .dataframe tbody tr th {\n",
       "        vertical-align: top;\n",
       "    }\n",
       "\n",
       "    .dataframe thead th {\n",
       "        text-align: right;\n",
       "    }\n",
       "</style>\n",
       "<table border=\"1\" class=\"dataframe\">\n",
       "  <thead>\n",
       "    <tr style=\"text-align: right;\">\n",
       "      <th></th>\n",
       "      <th>CountryName</th>\n",
       "      <th>CountryCode</th>\n",
       "    </tr>\n",
       "  </thead>\n",
       "  <tbody>\n",
       "    <tr>\n",
       "      <th>0</th>\n",
       "      <td>Aruba</td>\n",
       "      <td>ABW</td>\n",
       "    </tr>\n",
       "    <tr>\n",
       "      <th>1</th>\n",
       "      <td>Afghanistan</td>\n",
       "      <td>AFG</td>\n",
       "    </tr>\n",
       "    <tr>\n",
       "      <th>2</th>\n",
       "      <td>Angola</td>\n",
       "      <td>AGO</td>\n",
       "    </tr>\n",
       "    <tr>\n",
       "      <th>3</th>\n",
       "      <td>Albania</td>\n",
       "      <td>ALB</td>\n",
       "    </tr>\n",
       "    <tr>\n",
       "      <th>4</th>\n",
       "      <td>United Arab Emirates</td>\n",
       "      <td>ARE</td>\n",
       "    </tr>\n",
       "    <tr>\n",
       "      <th>...</th>\n",
       "      <td>...</td>\n",
       "      <td>...</td>\n",
       "    </tr>\n",
       "    <tr>\n",
       "      <th>190</th>\n",
       "      <td>Yemen, Rep.</td>\n",
       "      <td>YEM</td>\n",
       "    </tr>\n",
       "    <tr>\n",
       "      <th>191</th>\n",
       "      <td>South Africa</td>\n",
       "      <td>ZAF</td>\n",
       "    </tr>\n",
       "    <tr>\n",
       "      <th>192</th>\n",
       "      <td>Congo, Dem. Rep.</td>\n",
       "      <td>COD</td>\n",
       "    </tr>\n",
       "    <tr>\n",
       "      <th>193</th>\n",
       "      <td>Zambia</td>\n",
       "      <td>ZMB</td>\n",
       "    </tr>\n",
       "    <tr>\n",
       "      <th>194</th>\n",
       "      <td>Zimbabwe</td>\n",
       "      <td>ZWE</td>\n",
       "    </tr>\n",
       "  </tbody>\n",
       "</table>\n",
       "<p>195 rows × 2 columns</p>\n",
       "</div>"
      ],
      "text/plain": [
       "              CountryName CountryCode\n",
       "0                   Aruba         ABW\n",
       "1             Afghanistan         AFG\n",
       "2                  Angola         AGO\n",
       "3                 Albania         ALB\n",
       "4    United Arab Emirates         ARE\n",
       "..                    ...         ...\n",
       "190           Yemen, Rep.         YEM\n",
       "191          South Africa         ZAF\n",
       "192      Congo, Dem. Rep.         COD\n",
       "193                Zambia         ZMB\n",
       "194              Zimbabwe         ZWE\n",
       "\n",
       "[195 rows x 2 columns]"
      ]
     },
     "execution_count": 31,
     "metadata": {},
     "output_type": "execute_result"
    }
   ],
   "source": [
    "df[['CountryName','CountryCode']]"
   ]
  },
  {
   "cell_type": "code",
   "execution_count": 32,
   "id": "ef79f17e",
   "metadata": {},
   "outputs": [
    {
     "data": {
      "application/vnd.microsoft.datawrangler.viewer.v0+json": {
       "columns": [
        {
         "name": "index",
         "rawType": "int64",
         "type": "integer"
        },
        {
         "name": "CountryName",
         "rawType": "object",
         "type": "string"
        },
        {
         "name": "BirthRate",
         "rawType": "float64",
         "type": "float"
        },
        {
         "name": "InternetUsers",
         "rawType": "float64",
         "type": "float"
        }
       ],
       "ref": "bdbefb4a-e1f8-40c9-b7f4-fd93bbce7c20",
       "rows": [
        [
         "0",
         "Aruba",
         "10.244",
         "78.9"
        ],
        [
         "1",
         "Afghanistan",
         "35.253",
         "5.9"
        ],
        [
         "2",
         "Angola",
         "45.985",
         "19.1"
        ],
        [
         "3",
         "Albania",
         "12.877",
         "57.2"
        ],
        [
         "4",
         "United Arab Emirates",
         "11.044",
         "88.0"
        ],
        [
         "5",
         "Argentina",
         "17.716",
         "59.9"
        ],
        [
         "6",
         "Armenia",
         "13.308",
         "41.9"
        ],
        [
         "7",
         "Antigua and Barbuda",
         "16.447",
         "63.4"
        ],
        [
         "8",
         "Australia",
         "13.2",
         "83.0"
        ],
        [
         "9",
         "Austria",
         "9.4",
         "80.6188"
        ],
        [
         "10",
         "Azerbaijan",
         "18.3",
         "58.7"
        ],
        [
         "11",
         "Burundi",
         "44.151",
         "1.3"
        ],
        [
         "12",
         "Belgium",
         "11.2",
         "82.1702"
        ],
        [
         "13",
         "Benin",
         "36.44",
         "4.9"
        ],
        [
         "14",
         "Burkina Faso",
         "40.551",
         "9.1"
        ],
        [
         "15",
         "Bangladesh",
         "20.142",
         "6.63"
        ],
        [
         "16",
         "Bulgaria",
         "9.2",
         "53.0615"
        ],
        [
         "17",
         "Bahrain",
         "15.04",
         "90.0000397"
        ],
        [
         "18",
         "Bahamas, The",
         "15.339",
         "72.0"
        ],
        [
         "19",
         "Bosnia and Herzegovina",
         "9.062",
         "57.79"
        ],
        [
         "20",
         "Belarus",
         "12.5",
         "54.17"
        ],
        [
         "21",
         "Belize",
         "23.092",
         "33.6"
        ],
        [
         "22",
         "Bermuda",
         "10.4",
         "95.3"
        ],
        [
         "23",
         "Bolivia",
         "24.236",
         "36.94"
        ],
        [
         "24",
         "Brazil",
         "14.931",
         "51.04"
        ],
        [
         "25",
         "Barbados",
         "12.188",
         "73.0"
        ],
        [
         "26",
         "Brunei Darussalam",
         "16.405",
         "64.5"
        ],
        [
         "27",
         "Bhutan",
         "18.134",
         "29.9"
        ],
        [
         "28",
         "Botswana",
         "25.267",
         "15.0"
        ],
        [
         "29",
         "Central African Republic",
         "34.076",
         "3.5"
        ],
        [
         "30",
         "Canada",
         "10.9",
         "85.8"
        ],
        [
         "31",
         "Switzerland",
         "10.2",
         "86.34"
        ],
        [
         "32",
         "Chile",
         "13.385",
         "66.5"
        ],
        [
         "33",
         "China",
         "12.1",
         "45.8"
        ],
        [
         "34",
         "Cote d'Ivoire",
         "37.32",
         "8.4"
        ],
        [
         "35",
         "Cameroon",
         "37.236",
         "6.4"
        ],
        [
         "36",
         "Congo, Rep.",
         "37.011",
         "6.6"
        ],
        [
         "37",
         "Colombia",
         "16.076",
         "51.7"
        ],
        [
         "38",
         "Comoros",
         "34.326",
         "6.5"
        ],
        [
         "39",
         "Cabo Verde",
         "21.625",
         "37.5"
        ],
        [
         "40",
         "Costa Rica",
         "15.022",
         "45.96"
        ],
        [
         "41",
         "Cuba",
         "10.4",
         "27.93"
        ],
        [
         "42",
         "Cayman Islands",
         "12.5",
         "74.1"
        ],
        [
         "43",
         "Cyprus",
         "11.436",
         "65.4548"
        ],
        [
         "44",
         "Czech Republic",
         "10.2",
         "74.1104"
        ],
        [
         "45",
         "Germany",
         "8.5",
         "84.17"
        ],
        [
         "46",
         "Djibouti",
         "25.486",
         "9.5"
        ],
        [
         "47",
         "Denmark",
         "10.0",
         "94.6297"
        ],
        [
         "48",
         "Dominican Republic",
         "21.198",
         "45.9"
        ],
        [
         "49",
         "Algeria",
         "24.738",
         "16.5"
        ]
       ],
       "shape": {
        "columns": 3,
        "rows": 195
       }
      },
      "text/html": [
       "<div>\n",
       "<style scoped>\n",
       "    .dataframe tbody tr th:only-of-type {\n",
       "        vertical-align: middle;\n",
       "    }\n",
       "\n",
       "    .dataframe tbody tr th {\n",
       "        vertical-align: top;\n",
       "    }\n",
       "\n",
       "    .dataframe thead th {\n",
       "        text-align: right;\n",
       "    }\n",
       "</style>\n",
       "<table border=\"1\" class=\"dataframe\">\n",
       "  <thead>\n",
       "    <tr style=\"text-align: right;\">\n",
       "      <th></th>\n",
       "      <th>CountryName</th>\n",
       "      <th>BirthRate</th>\n",
       "      <th>InternetUsers</th>\n",
       "    </tr>\n",
       "  </thead>\n",
       "  <tbody>\n",
       "    <tr>\n",
       "      <th>0</th>\n",
       "      <td>Aruba</td>\n",
       "      <td>10.244</td>\n",
       "      <td>78.9</td>\n",
       "    </tr>\n",
       "    <tr>\n",
       "      <th>1</th>\n",
       "      <td>Afghanistan</td>\n",
       "      <td>35.253</td>\n",
       "      <td>5.9</td>\n",
       "    </tr>\n",
       "    <tr>\n",
       "      <th>2</th>\n",
       "      <td>Angola</td>\n",
       "      <td>45.985</td>\n",
       "      <td>19.1</td>\n",
       "    </tr>\n",
       "    <tr>\n",
       "      <th>3</th>\n",
       "      <td>Albania</td>\n",
       "      <td>12.877</td>\n",
       "      <td>57.2</td>\n",
       "    </tr>\n",
       "    <tr>\n",
       "      <th>4</th>\n",
       "      <td>United Arab Emirates</td>\n",
       "      <td>11.044</td>\n",
       "      <td>88.0</td>\n",
       "    </tr>\n",
       "    <tr>\n",
       "      <th>...</th>\n",
       "      <td>...</td>\n",
       "      <td>...</td>\n",
       "      <td>...</td>\n",
       "    </tr>\n",
       "    <tr>\n",
       "      <th>190</th>\n",
       "      <td>Yemen, Rep.</td>\n",
       "      <td>32.947</td>\n",
       "      <td>20.0</td>\n",
       "    </tr>\n",
       "    <tr>\n",
       "      <th>191</th>\n",
       "      <td>South Africa</td>\n",
       "      <td>20.850</td>\n",
       "      <td>46.5</td>\n",
       "    </tr>\n",
       "    <tr>\n",
       "      <th>192</th>\n",
       "      <td>Congo, Dem. Rep.</td>\n",
       "      <td>42.394</td>\n",
       "      <td>2.2</td>\n",
       "    </tr>\n",
       "    <tr>\n",
       "      <th>193</th>\n",
       "      <td>Zambia</td>\n",
       "      <td>40.471</td>\n",
       "      <td>15.4</td>\n",
       "    </tr>\n",
       "    <tr>\n",
       "      <th>194</th>\n",
       "      <td>Zimbabwe</td>\n",
       "      <td>35.715</td>\n",
       "      <td>18.5</td>\n",
       "    </tr>\n",
       "  </tbody>\n",
       "</table>\n",
       "<p>195 rows × 3 columns</p>\n",
       "</div>"
      ],
      "text/plain": [
       "              CountryName  BirthRate  InternetUsers\n",
       "0                   Aruba     10.244           78.9\n",
       "1             Afghanistan     35.253            5.9\n",
       "2                  Angola     45.985           19.1\n",
       "3                 Albania     12.877           57.2\n",
       "4    United Arab Emirates     11.044           88.0\n",
       "..                    ...        ...            ...\n",
       "190           Yemen, Rep.     32.947           20.0\n",
       "191          South Africa     20.850           46.5\n",
       "192      Congo, Dem. Rep.     42.394            2.2\n",
       "193                Zambia     40.471           15.4\n",
       "194              Zimbabwe     35.715           18.5\n",
       "\n",
       "[195 rows x 3 columns]"
      ]
     },
     "execution_count": 32,
     "metadata": {},
     "output_type": "execute_result"
    }
   ],
   "source": [
    "df[['CountryName','BirthRate','InternetUsers']]"
   ]
  },
  {
   "cell_type": "code",
   "execution_count": 33,
   "id": "95cad8c5",
   "metadata": {},
   "outputs": [],
   "source": [
    "df1=df[['CountryName','BirthRate','InternetUsers']]"
   ]
  },
  {
   "cell_type": "code",
   "execution_count": 34,
   "id": "638db941",
   "metadata": {},
   "outputs": [
    {
     "data": {
      "application/vnd.microsoft.datawrangler.viewer.v0+json": {
       "columns": [
        {
         "name": "index",
         "rawType": "int64",
         "type": "integer"
        },
        {
         "name": "CountryName",
         "rawType": "object",
         "type": "string"
        },
        {
         "name": "BirthRate",
         "rawType": "float64",
         "type": "float"
        },
        {
         "name": "InternetUsers",
         "rawType": "float64",
         "type": "float"
        }
       ],
       "ref": "63c83306-132f-40a9-b3dd-65c9bf8dbb94",
       "rows": [
        [
         "0",
         "Aruba",
         "10.244",
         "78.9"
        ],
        [
         "1",
         "Afghanistan",
         "35.253",
         "5.9"
        ],
        [
         "2",
         "Angola",
         "45.985",
         "19.1"
        ],
        [
         "3",
         "Albania",
         "12.877",
         "57.2"
        ],
        [
         "4",
         "United Arab Emirates",
         "11.044",
         "88.0"
        ],
        [
         "5",
         "Argentina",
         "17.716",
         "59.9"
        ],
        [
         "6",
         "Armenia",
         "13.308",
         "41.9"
        ],
        [
         "7",
         "Antigua and Barbuda",
         "16.447",
         "63.4"
        ],
        [
         "8",
         "Australia",
         "13.2",
         "83.0"
        ],
        [
         "9",
         "Austria",
         "9.4",
         "80.6188"
        ],
        [
         "10",
         "Azerbaijan",
         "18.3",
         "58.7"
        ],
        [
         "11",
         "Burundi",
         "44.151",
         "1.3"
        ],
        [
         "12",
         "Belgium",
         "11.2",
         "82.1702"
        ],
        [
         "13",
         "Benin",
         "36.44",
         "4.9"
        ],
        [
         "14",
         "Burkina Faso",
         "40.551",
         "9.1"
        ],
        [
         "15",
         "Bangladesh",
         "20.142",
         "6.63"
        ],
        [
         "16",
         "Bulgaria",
         "9.2",
         "53.0615"
        ],
        [
         "17",
         "Bahrain",
         "15.04",
         "90.0000397"
        ],
        [
         "18",
         "Bahamas, The",
         "15.339",
         "72.0"
        ],
        [
         "19",
         "Bosnia and Herzegovina",
         "9.062",
         "57.79"
        ],
        [
         "20",
         "Belarus",
         "12.5",
         "54.17"
        ],
        [
         "21",
         "Belize",
         "23.092",
         "33.6"
        ],
        [
         "22",
         "Bermuda",
         "10.4",
         "95.3"
        ],
        [
         "23",
         "Bolivia",
         "24.236",
         "36.94"
        ],
        [
         "24",
         "Brazil",
         "14.931",
         "51.04"
        ],
        [
         "25",
         "Barbados",
         "12.188",
         "73.0"
        ],
        [
         "26",
         "Brunei Darussalam",
         "16.405",
         "64.5"
        ],
        [
         "27",
         "Bhutan",
         "18.134",
         "29.9"
        ],
        [
         "28",
         "Botswana",
         "25.267",
         "15.0"
        ],
        [
         "29",
         "Central African Republic",
         "34.076",
         "3.5"
        ],
        [
         "30",
         "Canada",
         "10.9",
         "85.8"
        ],
        [
         "31",
         "Switzerland",
         "10.2",
         "86.34"
        ],
        [
         "32",
         "Chile",
         "13.385",
         "66.5"
        ],
        [
         "33",
         "China",
         "12.1",
         "45.8"
        ],
        [
         "34",
         "Cote d'Ivoire",
         "37.32",
         "8.4"
        ],
        [
         "35",
         "Cameroon",
         "37.236",
         "6.4"
        ],
        [
         "36",
         "Congo, Rep.",
         "37.011",
         "6.6"
        ],
        [
         "37",
         "Colombia",
         "16.076",
         "51.7"
        ],
        [
         "38",
         "Comoros",
         "34.326",
         "6.5"
        ],
        [
         "39",
         "Cabo Verde",
         "21.625",
         "37.5"
        ],
        [
         "40",
         "Costa Rica",
         "15.022",
         "45.96"
        ],
        [
         "41",
         "Cuba",
         "10.4",
         "27.93"
        ],
        [
         "42",
         "Cayman Islands",
         "12.5",
         "74.1"
        ],
        [
         "43",
         "Cyprus",
         "11.436",
         "65.4548"
        ],
        [
         "44",
         "Czech Republic",
         "10.2",
         "74.1104"
        ],
        [
         "45",
         "Germany",
         "8.5",
         "84.17"
        ],
        [
         "46",
         "Djibouti",
         "25.486",
         "9.5"
        ],
        [
         "47",
         "Denmark",
         "10.0",
         "94.6297"
        ],
        [
         "48",
         "Dominican Republic",
         "21.198",
         "45.9"
        ],
        [
         "49",
         "Algeria",
         "24.738",
         "16.5"
        ]
       ],
       "shape": {
        "columns": 3,
        "rows": 195
       }
      },
      "text/html": [
       "<div>\n",
       "<style scoped>\n",
       "    .dataframe tbody tr th:only-of-type {\n",
       "        vertical-align: middle;\n",
       "    }\n",
       "\n",
       "    .dataframe tbody tr th {\n",
       "        vertical-align: top;\n",
       "    }\n",
       "\n",
       "    .dataframe thead th {\n",
       "        text-align: right;\n",
       "    }\n",
       "</style>\n",
       "<table border=\"1\" class=\"dataframe\">\n",
       "  <thead>\n",
       "    <tr style=\"text-align: right;\">\n",
       "      <th></th>\n",
       "      <th>CountryName</th>\n",
       "      <th>BirthRate</th>\n",
       "      <th>InternetUsers</th>\n",
       "    </tr>\n",
       "  </thead>\n",
       "  <tbody>\n",
       "    <tr>\n",
       "      <th>0</th>\n",
       "      <td>Aruba</td>\n",
       "      <td>10.244</td>\n",
       "      <td>78.9</td>\n",
       "    </tr>\n",
       "    <tr>\n",
       "      <th>1</th>\n",
       "      <td>Afghanistan</td>\n",
       "      <td>35.253</td>\n",
       "      <td>5.9</td>\n",
       "    </tr>\n",
       "    <tr>\n",
       "      <th>2</th>\n",
       "      <td>Angola</td>\n",
       "      <td>45.985</td>\n",
       "      <td>19.1</td>\n",
       "    </tr>\n",
       "    <tr>\n",
       "      <th>3</th>\n",
       "      <td>Albania</td>\n",
       "      <td>12.877</td>\n",
       "      <td>57.2</td>\n",
       "    </tr>\n",
       "    <tr>\n",
       "      <th>4</th>\n",
       "      <td>United Arab Emirates</td>\n",
       "      <td>11.044</td>\n",
       "      <td>88.0</td>\n",
       "    </tr>\n",
       "    <tr>\n",
       "      <th>...</th>\n",
       "      <td>...</td>\n",
       "      <td>...</td>\n",
       "      <td>...</td>\n",
       "    </tr>\n",
       "    <tr>\n",
       "      <th>190</th>\n",
       "      <td>Yemen, Rep.</td>\n",
       "      <td>32.947</td>\n",
       "      <td>20.0</td>\n",
       "    </tr>\n",
       "    <tr>\n",
       "      <th>191</th>\n",
       "      <td>South Africa</td>\n",
       "      <td>20.850</td>\n",
       "      <td>46.5</td>\n",
       "    </tr>\n",
       "    <tr>\n",
       "      <th>192</th>\n",
       "      <td>Congo, Dem. Rep.</td>\n",
       "      <td>42.394</td>\n",
       "      <td>2.2</td>\n",
       "    </tr>\n",
       "    <tr>\n",
       "      <th>193</th>\n",
       "      <td>Zambia</td>\n",
       "      <td>40.471</td>\n",
       "      <td>15.4</td>\n",
       "    </tr>\n",
       "    <tr>\n",
       "      <th>194</th>\n",
       "      <td>Zimbabwe</td>\n",
       "      <td>35.715</td>\n",
       "      <td>18.5</td>\n",
       "    </tr>\n",
       "  </tbody>\n",
       "</table>\n",
       "<p>195 rows × 3 columns</p>\n",
       "</div>"
      ],
      "text/plain": [
       "              CountryName  BirthRate  InternetUsers\n",
       "0                   Aruba     10.244           78.9\n",
       "1             Afghanistan     35.253            5.9\n",
       "2                  Angola     45.985           19.1\n",
       "3                 Albania     12.877           57.2\n",
       "4    United Arab Emirates     11.044           88.0\n",
       "..                    ...        ...            ...\n",
       "190           Yemen, Rep.     32.947           20.0\n",
       "191          South Africa     20.850           46.5\n",
       "192      Congo, Dem. Rep.     42.394            2.2\n",
       "193                Zambia     40.471           15.4\n",
       "194              Zimbabwe     35.715           18.5\n",
       "\n",
       "[195 rows x 3 columns]"
      ]
     },
     "execution_count": 34,
     "metadata": {},
     "output_type": "execute_result"
    }
   ],
   "source": [
    "df1"
   ]
  },
  {
   "cell_type": "code",
   "execution_count": 35,
   "id": "9f382897",
   "metadata": {},
   "outputs": [
    {
     "data": {
      "application/vnd.microsoft.datawrangler.viewer.v0+json": {
       "columns": [
        {
         "name": "index",
         "rawType": "int64",
         "type": "integer"
        },
        {
         "name": "CountryName",
         "rawType": "object",
         "type": "string"
        },
        {
         "name": "BirthRate",
         "rawType": "float64",
         "type": "float"
        },
        {
         "name": "InternetUsers",
         "rawType": "float64",
         "type": "float"
        }
       ],
       "ref": "ba8c1ede-d5a3-489e-aeff-67950d87d379",
       "rows": [
        [
         "0",
         "Aruba",
         "10.244",
         "78.9"
        ],
        [
         "1",
         "Afghanistan",
         "35.253",
         "5.9"
        ],
        [
         "2",
         "Angola",
         "45.985",
         "19.1"
        ],
        [
         "3",
         "Albania",
         "12.877",
         "57.2"
        ],
        [
         "4",
         "United Arab Emirates",
         "11.044",
         "88.0"
        ]
       ],
       "shape": {
        "columns": 3,
        "rows": 5
       }
      },
      "text/html": [
       "<div>\n",
       "<style scoped>\n",
       "    .dataframe tbody tr th:only-of-type {\n",
       "        vertical-align: middle;\n",
       "    }\n",
       "\n",
       "    .dataframe tbody tr th {\n",
       "        vertical-align: top;\n",
       "    }\n",
       "\n",
       "    .dataframe thead th {\n",
       "        text-align: right;\n",
       "    }\n",
       "</style>\n",
       "<table border=\"1\" class=\"dataframe\">\n",
       "  <thead>\n",
       "    <tr style=\"text-align: right;\">\n",
       "      <th></th>\n",
       "      <th>CountryName</th>\n",
       "      <th>BirthRate</th>\n",
       "      <th>InternetUsers</th>\n",
       "    </tr>\n",
       "  </thead>\n",
       "  <tbody>\n",
       "    <tr>\n",
       "      <th>0</th>\n",
       "      <td>Aruba</td>\n",
       "      <td>10.244</td>\n",
       "      <td>78.9</td>\n",
       "    </tr>\n",
       "    <tr>\n",
       "      <th>1</th>\n",
       "      <td>Afghanistan</td>\n",
       "      <td>35.253</td>\n",
       "      <td>5.9</td>\n",
       "    </tr>\n",
       "    <tr>\n",
       "      <th>2</th>\n",
       "      <td>Angola</td>\n",
       "      <td>45.985</td>\n",
       "      <td>19.1</td>\n",
       "    </tr>\n",
       "    <tr>\n",
       "      <th>3</th>\n",
       "      <td>Albania</td>\n",
       "      <td>12.877</td>\n",
       "      <td>57.2</td>\n",
       "    </tr>\n",
       "    <tr>\n",
       "      <th>4</th>\n",
       "      <td>United Arab Emirates</td>\n",
       "      <td>11.044</td>\n",
       "      <td>88.0</td>\n",
       "    </tr>\n",
       "  </tbody>\n",
       "</table>\n",
       "</div>"
      ],
      "text/plain": [
       "            CountryName  BirthRate  InternetUsers\n",
       "0                 Aruba     10.244           78.9\n",
       "1           Afghanistan     35.253            5.9\n",
       "2                Angola     45.985           19.1\n",
       "3               Albania     12.877           57.2\n",
       "4  United Arab Emirates     11.044           88.0"
      ]
     },
     "execution_count": 35,
     "metadata": {},
     "output_type": "execute_result"
    }
   ],
   "source": [
    "df1.head()"
   ]
  },
  {
   "cell_type": "code",
   "execution_count": 36,
   "id": "e2a882dc",
   "metadata": {},
   "outputs": [
    {
     "data": {
      "application/vnd.microsoft.datawrangler.viewer.v0+json": {
       "columns": [
        {
         "name": "index",
         "rawType": "object",
         "type": "string"
        },
        {
         "name": "0",
         "rawType": "object",
         "type": "unknown"
        },
        {
         "name": "1",
         "rawType": "object",
         "type": "unknown"
        },
        {
         "name": "2",
         "rawType": "object",
         "type": "unknown"
        },
        {
         "name": "3",
         "rawType": "object",
         "type": "unknown"
        },
        {
         "name": "4",
         "rawType": "object",
         "type": "unknown"
        }
       ],
       "ref": "15cd3517-61e3-48c0-ba3d-a1c81b93cf35",
       "rows": [
        [
         "CountryName",
         "Aruba",
         "Afghanistan",
         "Angola",
         "Albania",
         "United Arab Emirates"
        ],
        [
         "BirthRate",
         "10.244",
         "35.253",
         "45.985",
         "12.877",
         "11.044"
        ],
        [
         "InternetUsers",
         "78.9",
         "5.9",
         "19.1",
         "57.2",
         "88.0"
        ]
       ],
       "shape": {
        "columns": 5,
        "rows": 3
       }
      },
      "text/html": [
       "<div>\n",
       "<style scoped>\n",
       "    .dataframe tbody tr th:only-of-type {\n",
       "        vertical-align: middle;\n",
       "    }\n",
       "\n",
       "    .dataframe tbody tr th {\n",
       "        vertical-align: top;\n",
       "    }\n",
       "\n",
       "    .dataframe thead th {\n",
       "        text-align: right;\n",
       "    }\n",
       "</style>\n",
       "<table border=\"1\" class=\"dataframe\">\n",
       "  <thead>\n",
       "    <tr style=\"text-align: right;\">\n",
       "      <th></th>\n",
       "      <th>0</th>\n",
       "      <th>1</th>\n",
       "      <th>2</th>\n",
       "      <th>3</th>\n",
       "      <th>4</th>\n",
       "    </tr>\n",
       "  </thead>\n",
       "  <tbody>\n",
       "    <tr>\n",
       "      <th>CountryName</th>\n",
       "      <td>Aruba</td>\n",
       "      <td>Afghanistan</td>\n",
       "      <td>Angola</td>\n",
       "      <td>Albania</td>\n",
       "      <td>United Arab Emirates</td>\n",
       "    </tr>\n",
       "    <tr>\n",
       "      <th>BirthRate</th>\n",
       "      <td>10.244</td>\n",
       "      <td>35.253</td>\n",
       "      <td>45.985</td>\n",
       "      <td>12.877</td>\n",
       "      <td>11.044</td>\n",
       "    </tr>\n",
       "    <tr>\n",
       "      <th>InternetUsers</th>\n",
       "      <td>78.9</td>\n",
       "      <td>5.9</td>\n",
       "      <td>19.1</td>\n",
       "      <td>57.2</td>\n",
       "      <td>88.0</td>\n",
       "    </tr>\n",
       "  </tbody>\n",
       "</table>\n",
       "</div>"
      ],
      "text/plain": [
       "                    0            1       2        3                     4\n",
       "CountryName     Aruba  Afghanistan  Angola  Albania  United Arab Emirates\n",
       "BirthRate      10.244       35.253  45.985   12.877                11.044\n",
       "InternetUsers    78.9          5.9    19.1     57.2                  88.0"
      ]
     },
     "execution_count": 36,
     "metadata": {},
     "output_type": "execute_result"
    }
   ],
   "source": [
    "df1.head().T"
   ]
  },
  {
   "cell_type": "code",
   "execution_count": 38,
   "id": "12f03d40",
   "metadata": {},
   "outputs": [
    {
     "data": {
      "application/vnd.microsoft.datawrangler.viewer.v0+json": {
       "columns": [
        {
         "name": "index",
         "rawType": "object",
         "type": "string"
        },
        {
         "name": "BirthRate",
         "rawType": "float64",
         "type": "float"
        },
        {
         "name": "InternetUsers",
         "rawType": "float64",
         "type": "float"
        }
       ],
       "ref": "81922900-eb2e-40bc-a8bb-3f7848fb9d4a",
       "rows": [
        [
         "count",
         "195.0",
         "195.0"
        ],
        [
         "mean",
         "21.469928205128202",
         "42.07647089194872"
        ],
        [
         "std",
         "10.605466693579935",
         "29.030788424830398"
        ],
        [
         "min",
         "7.9",
         "0.9"
        ],
        [
         "25%",
         "12.1205",
         "14.52"
        ],
        [
         "50%",
         "19.68",
         "41.0"
        ],
        [
         "75%",
         "29.759500000000003",
         "66.225"
        ],
        [
         "max",
         "49.661",
         "96.5468"
        ]
       ],
       "shape": {
        "columns": 2,
        "rows": 8
       }
      },
      "text/html": [
       "<div>\n",
       "<style scoped>\n",
       "    .dataframe tbody tr th:only-of-type {\n",
       "        vertical-align: middle;\n",
       "    }\n",
       "\n",
       "    .dataframe tbody tr th {\n",
       "        vertical-align: top;\n",
       "    }\n",
       "\n",
       "    .dataframe thead th {\n",
       "        text-align: right;\n",
       "    }\n",
       "</style>\n",
       "<table border=\"1\" class=\"dataframe\">\n",
       "  <thead>\n",
       "    <tr style=\"text-align: right;\">\n",
       "      <th></th>\n",
       "      <th>BirthRate</th>\n",
       "      <th>InternetUsers</th>\n",
       "    </tr>\n",
       "  </thead>\n",
       "  <tbody>\n",
       "    <tr>\n",
       "      <th>count</th>\n",
       "      <td>195.000000</td>\n",
       "      <td>195.000000</td>\n",
       "    </tr>\n",
       "    <tr>\n",
       "      <th>mean</th>\n",
       "      <td>21.469928</td>\n",
       "      <td>42.076471</td>\n",
       "    </tr>\n",
       "    <tr>\n",
       "      <th>std</th>\n",
       "      <td>10.605467</td>\n",
       "      <td>29.030788</td>\n",
       "    </tr>\n",
       "    <tr>\n",
       "      <th>min</th>\n",
       "      <td>7.900000</td>\n",
       "      <td>0.900000</td>\n",
       "    </tr>\n",
       "    <tr>\n",
       "      <th>25%</th>\n",
       "      <td>12.120500</td>\n",
       "      <td>14.520000</td>\n",
       "    </tr>\n",
       "    <tr>\n",
       "      <th>50%</th>\n",
       "      <td>19.680000</td>\n",
       "      <td>41.000000</td>\n",
       "    </tr>\n",
       "    <tr>\n",
       "      <th>75%</th>\n",
       "      <td>29.759500</td>\n",
       "      <td>66.225000</td>\n",
       "    </tr>\n",
       "    <tr>\n",
       "      <th>max</th>\n",
       "      <td>49.661000</td>\n",
       "      <td>96.546800</td>\n",
       "    </tr>\n",
       "  </tbody>\n",
       "</table>\n",
       "</div>"
      ],
      "text/plain": [
       "        BirthRate  InternetUsers\n",
       "count  195.000000     195.000000\n",
       "mean    21.469928      42.076471\n",
       "std     10.605467      29.030788\n",
       "min      7.900000       0.900000\n",
       "25%     12.120500      14.520000\n",
       "50%     19.680000      41.000000\n",
       "75%     29.759500      66.225000\n",
       "max     49.661000      96.546800"
      ]
     },
     "execution_count": 38,
     "metadata": {},
     "output_type": "execute_result"
    }
   ],
   "source": [
    "df1.describe()"
   ]
  },
  {
   "cell_type": "code",
   "execution_count": 39,
   "id": "40a87049",
   "metadata": {},
   "outputs": [
    {
     "data": {
      "application/vnd.microsoft.datawrangler.viewer.v0+json": {
       "columns": [
        {
         "name": "index",
         "rawType": "int64",
         "type": "integer"
        },
        {
         "name": "CountryName",
         "rawType": "object",
         "type": "string"
        },
        {
         "name": "CountryCode",
         "rawType": "object",
         "type": "string"
        },
        {
         "name": "BirthRate",
         "rawType": "float64",
         "type": "float"
        },
        {
         "name": "InternetUsers",
         "rawType": "float64",
         "type": "float"
        },
        {
         "name": "IncomeGroup",
         "rawType": "object",
         "type": "string"
        }
       ],
       "ref": "b260aef2-58ce-4748-b7bf-53e2395ab9ff",
       "rows": [
        [
         "0",
         "Aruba",
         "ABW",
         "10.244",
         "78.9",
         "High income"
        ],
        [
         "1",
         "Afghanistan",
         "AFG",
         "35.253",
         "5.9",
         "Low income"
        ],
        [
         "2",
         "Angola",
         "AGO",
         "45.985",
         "19.1",
         "Upper middle income"
        ],
        [
         "3",
         "Albania",
         "ALB",
         "12.877",
         "57.2",
         "Upper middle income"
        ],
        [
         "4",
         "United Arab Emirates",
         "ARE",
         "11.044",
         "88.0",
         "High income"
        ],
        [
         "5",
         "Argentina",
         "ARG",
         "17.716",
         "59.9",
         "High income"
        ],
        [
         "6",
         "Armenia",
         "ARM",
         "13.308",
         "41.9",
         "Lower middle income"
        ],
        [
         "7",
         "Antigua and Barbuda",
         "ATG",
         "16.447",
         "63.4",
         "High income"
        ],
        [
         "8",
         "Australia",
         "AUS",
         "13.2",
         "83.0",
         "High income"
        ],
        [
         "9",
         "Austria",
         "AUT",
         "9.4",
         "80.6188",
         "High income"
        ],
        [
         "10",
         "Azerbaijan",
         "AZE",
         "18.3",
         "58.7",
         "Upper middle income"
        ],
        [
         "11",
         "Burundi",
         "BDI",
         "44.151",
         "1.3",
         "Low income"
        ],
        [
         "12",
         "Belgium",
         "BEL",
         "11.2",
         "82.1702",
         "High income"
        ],
        [
         "13",
         "Benin",
         "BEN",
         "36.44",
         "4.9",
         "Low income"
        ],
        [
         "14",
         "Burkina Faso",
         "BFA",
         "40.551",
         "9.1",
         "Low income"
        ],
        [
         "15",
         "Bangladesh",
         "BGD",
         "20.142",
         "6.63",
         "Lower middle income"
        ],
        [
         "16",
         "Bulgaria",
         "BGR",
         "9.2",
         "53.0615",
         "Upper middle income"
        ],
        [
         "17",
         "Bahrain",
         "BHR",
         "15.04",
         "90.0000397",
         "High income"
        ],
        [
         "18",
         "Bahamas, The",
         "BHS",
         "15.339",
         "72.0",
         "High income"
        ],
        [
         "19",
         "Bosnia and Herzegovina",
         "BIH",
         "9.062",
         "57.79",
         "Upper middle income"
        ],
        [
         "20",
         "Belarus",
         "BLR",
         "12.5",
         "54.17",
         "Upper middle income"
        ],
        [
         "21",
         "Belize",
         "BLZ",
         "23.092",
         "33.6",
         "Upper middle income"
        ],
        [
         "22",
         "Bermuda",
         "BMU",
         "10.4",
         "95.3",
         "High income"
        ],
        [
         "23",
         "Bolivia",
         "BOL",
         "24.236",
         "36.94",
         "Lower middle income"
        ],
        [
         "24",
         "Brazil",
         "BRA",
         "14.931",
         "51.04",
         "Upper middle income"
        ],
        [
         "25",
         "Barbados",
         "BRB",
         "12.188",
         "73.0",
         "High income"
        ],
        [
         "26",
         "Brunei Darussalam",
         "BRN",
         "16.405",
         "64.5",
         "High income"
        ],
        [
         "27",
         "Bhutan",
         "BTN",
         "18.134",
         "29.9",
         "Lower middle income"
        ],
        [
         "28",
         "Botswana",
         "BWA",
         "25.267",
         "15.0",
         "Upper middle income"
        ],
        [
         "29",
         "Central African Republic",
         "CAF",
         "34.076",
         "3.5",
         "Low income"
        ],
        [
         "30",
         "Canada",
         "CAN",
         "10.9",
         "85.8",
         "High income"
        ],
        [
         "31",
         "Switzerland",
         "CHE",
         "10.2",
         "86.34",
         "High income"
        ],
        [
         "32",
         "Chile",
         "CHL",
         "13.385",
         "66.5",
         "High income"
        ],
        [
         "33",
         "China",
         "CHN",
         "12.1",
         "45.8",
         "Upper middle income"
        ],
        [
         "34",
         "Cote d'Ivoire",
         "CIV",
         "37.32",
         "8.4",
         "Lower middle income"
        ],
        [
         "35",
         "Cameroon",
         "CMR",
         "37.236",
         "6.4",
         "Lower middle income"
        ],
        [
         "36",
         "Congo, Rep.",
         "COG",
         "37.011",
         "6.6",
         "Lower middle income"
        ],
        [
         "37",
         "Colombia",
         "COL",
         "16.076",
         "51.7",
         "Upper middle income"
        ],
        [
         "38",
         "Comoros",
         "COM",
         "34.326",
         "6.5",
         "Low income"
        ],
        [
         "39",
         "Cabo Verde",
         "CPV",
         "21.625",
         "37.5",
         "Lower middle income"
        ],
        [
         "40",
         "Costa Rica",
         "CRI",
         "15.022",
         "45.96",
         "Upper middle income"
        ],
        [
         "41",
         "Cuba",
         "CUB",
         "10.4",
         "27.93",
         "Upper middle income"
        ],
        [
         "42",
         "Cayman Islands",
         "CYM",
         "12.5",
         "74.1",
         "High income"
        ],
        [
         "43",
         "Cyprus",
         "CYP",
         "11.436",
         "65.4548",
         "High income"
        ],
        [
         "44",
         "Czech Republic",
         "CZE",
         "10.2",
         "74.1104",
         "High income"
        ],
        [
         "45",
         "Germany",
         "DEU",
         "8.5",
         "84.17",
         "High income"
        ],
        [
         "46",
         "Djibouti",
         "DJI",
         "25.486",
         "9.5",
         "Lower middle income"
        ],
        [
         "47",
         "Denmark",
         "DNK",
         "10.0",
         "94.6297",
         "High income"
        ],
        [
         "48",
         "Dominican Republic",
         "DOM",
         "21.198",
         "45.9",
         "Upper middle income"
        ],
        [
         "49",
         "Algeria",
         "DZA",
         "24.738",
         "16.5",
         "Upper middle income"
        ]
       ],
       "shape": {
        "columns": 5,
        "rows": 195
       }
      },
      "text/html": [
       "<div>\n",
       "<style scoped>\n",
       "    .dataframe tbody tr th:only-of-type {\n",
       "        vertical-align: middle;\n",
       "    }\n",
       "\n",
       "    .dataframe tbody tr th {\n",
       "        vertical-align: top;\n",
       "    }\n",
       "\n",
       "    .dataframe thead th {\n",
       "        text-align: right;\n",
       "    }\n",
       "</style>\n",
       "<table border=\"1\" class=\"dataframe\">\n",
       "  <thead>\n",
       "    <tr style=\"text-align: right;\">\n",
       "      <th></th>\n",
       "      <th>CountryName</th>\n",
       "      <th>CountryCode</th>\n",
       "      <th>BirthRate</th>\n",
       "      <th>InternetUsers</th>\n",
       "      <th>IncomeGroup</th>\n",
       "    </tr>\n",
       "  </thead>\n",
       "  <tbody>\n",
       "    <tr>\n",
       "      <th>0</th>\n",
       "      <td>Aruba</td>\n",
       "      <td>ABW</td>\n",
       "      <td>10.244</td>\n",
       "      <td>78.9</td>\n",
       "      <td>High income</td>\n",
       "    </tr>\n",
       "    <tr>\n",
       "      <th>1</th>\n",
       "      <td>Afghanistan</td>\n",
       "      <td>AFG</td>\n",
       "      <td>35.253</td>\n",
       "      <td>5.9</td>\n",
       "      <td>Low income</td>\n",
       "    </tr>\n",
       "    <tr>\n",
       "      <th>2</th>\n",
       "      <td>Angola</td>\n",
       "      <td>AGO</td>\n",
       "      <td>45.985</td>\n",
       "      <td>19.1</td>\n",
       "      <td>Upper middle income</td>\n",
       "    </tr>\n",
       "    <tr>\n",
       "      <th>3</th>\n",
       "      <td>Albania</td>\n",
       "      <td>ALB</td>\n",
       "      <td>12.877</td>\n",
       "      <td>57.2</td>\n",
       "      <td>Upper middle income</td>\n",
       "    </tr>\n",
       "    <tr>\n",
       "      <th>4</th>\n",
       "      <td>United Arab Emirates</td>\n",
       "      <td>ARE</td>\n",
       "      <td>11.044</td>\n",
       "      <td>88.0</td>\n",
       "      <td>High income</td>\n",
       "    </tr>\n",
       "    <tr>\n",
       "      <th>...</th>\n",
       "      <td>...</td>\n",
       "      <td>...</td>\n",
       "      <td>...</td>\n",
       "      <td>...</td>\n",
       "      <td>...</td>\n",
       "    </tr>\n",
       "    <tr>\n",
       "      <th>190</th>\n",
       "      <td>Yemen, Rep.</td>\n",
       "      <td>YEM</td>\n",
       "      <td>32.947</td>\n",
       "      <td>20.0</td>\n",
       "      <td>Lower middle income</td>\n",
       "    </tr>\n",
       "    <tr>\n",
       "      <th>191</th>\n",
       "      <td>South Africa</td>\n",
       "      <td>ZAF</td>\n",
       "      <td>20.850</td>\n",
       "      <td>46.5</td>\n",
       "      <td>Upper middle income</td>\n",
       "    </tr>\n",
       "    <tr>\n",
       "      <th>192</th>\n",
       "      <td>Congo, Dem. Rep.</td>\n",
       "      <td>COD</td>\n",
       "      <td>42.394</td>\n",
       "      <td>2.2</td>\n",
       "      <td>Low income</td>\n",
       "    </tr>\n",
       "    <tr>\n",
       "      <th>193</th>\n",
       "      <td>Zambia</td>\n",
       "      <td>ZMB</td>\n",
       "      <td>40.471</td>\n",
       "      <td>15.4</td>\n",
       "      <td>Lower middle income</td>\n",
       "    </tr>\n",
       "    <tr>\n",
       "      <th>194</th>\n",
       "      <td>Zimbabwe</td>\n",
       "      <td>ZWE</td>\n",
       "      <td>35.715</td>\n",
       "      <td>18.5</td>\n",
       "      <td>Low income</td>\n",
       "    </tr>\n",
       "  </tbody>\n",
       "</table>\n",
       "<p>195 rows × 5 columns</p>\n",
       "</div>"
      ],
      "text/plain": [
       "              CountryName CountryCode  BirthRate  InternetUsers  \\\n",
       "0                   Aruba         ABW     10.244           78.9   \n",
       "1             Afghanistan         AFG     35.253            5.9   \n",
       "2                  Angola         AGO     45.985           19.1   \n",
       "3                 Albania         ALB     12.877           57.2   \n",
       "4    United Arab Emirates         ARE     11.044           88.0   \n",
       "..                    ...         ...        ...            ...   \n",
       "190           Yemen, Rep.         YEM     32.947           20.0   \n",
       "191          South Africa         ZAF     20.850           46.5   \n",
       "192      Congo, Dem. Rep.         COD     42.394            2.2   \n",
       "193                Zambia         ZMB     40.471           15.4   \n",
       "194              Zimbabwe         ZWE     35.715           18.5   \n",
       "\n",
       "             IncomeGroup  \n",
       "0            High income  \n",
       "1             Low income  \n",
       "2    Upper middle income  \n",
       "3    Upper middle income  \n",
       "4            High income  \n",
       "..                   ...  \n",
       "190  Lower middle income  \n",
       "191  Upper middle income  \n",
       "192           Low income  \n",
       "193  Lower middle income  \n",
       "194           Low income  \n",
       "\n",
       "[195 rows x 5 columns]"
      ]
     },
     "execution_count": 39,
     "metadata": {},
     "output_type": "execute_result"
    }
   ],
   "source": [
    "df"
   ]
  },
  {
   "cell_type": "code",
   "execution_count": 40,
   "id": "b817fffa",
   "metadata": {},
   "outputs": [
    {
     "data": {
      "text/plain": [
       "Index(['CountryName', 'CountryCode', 'BirthRate', 'InternetUsers',\n",
       "       'IncomeGroup'],\n",
       "      dtype='object')"
      ]
     },
     "execution_count": 40,
     "metadata": {},
     "output_type": "execute_result"
    }
   ],
   "source": [
    "df.columns"
   ]
  },
  {
   "cell_type": "code",
   "execution_count": 42,
   "id": "a5a68b6e",
   "metadata": {},
   "outputs": [],
   "source": [
    "df.columns=['a','b','c','d','e']"
   ]
  },
  {
   "cell_type": "code",
   "execution_count": 43,
   "id": "276fbc10",
   "metadata": {},
   "outputs": [
    {
     "data": {
      "text/plain": [
       "Index(['a', 'b', 'c', 'd', 'e'], dtype='object')"
      ]
     },
     "execution_count": 43,
     "metadata": {},
     "output_type": "execute_result"
    }
   ],
   "source": [
    "df.columns"
   ]
  },
  {
   "cell_type": "code",
   "execution_count": 44,
   "id": "653512a5",
   "metadata": {},
   "outputs": [
    {
     "data": {
      "application/vnd.microsoft.datawrangler.viewer.v0+json": {
       "columns": [
        {
         "name": "index",
         "rawType": "int64",
         "type": "integer"
        },
        {
         "name": "a",
         "rawType": "object",
         "type": "string"
        },
        {
         "name": "b",
         "rawType": "object",
         "type": "string"
        },
        {
         "name": "c",
         "rawType": "float64",
         "type": "float"
        },
        {
         "name": "d",
         "rawType": "float64",
         "type": "float"
        },
        {
         "name": "e",
         "rawType": "object",
         "type": "string"
        }
       ],
       "ref": "1ff512f3-2a94-42d7-ba2b-37d8b07c7cc4",
       "rows": [
        [
         "0",
         "Aruba",
         "ABW",
         "10.244",
         "78.9",
         "High income"
        ],
        [
         "1",
         "Afghanistan",
         "AFG",
         "35.253",
         "5.9",
         "Low income"
        ],
        [
         "2",
         "Angola",
         "AGO",
         "45.985",
         "19.1",
         "Upper middle income"
        ],
        [
         "3",
         "Albania",
         "ALB",
         "12.877",
         "57.2",
         "Upper middle income"
        ],
        [
         "4",
         "United Arab Emirates",
         "ARE",
         "11.044",
         "88.0",
         "High income"
        ],
        [
         "5",
         "Argentina",
         "ARG",
         "17.716",
         "59.9",
         "High income"
        ],
        [
         "6",
         "Armenia",
         "ARM",
         "13.308",
         "41.9",
         "Lower middle income"
        ],
        [
         "7",
         "Antigua and Barbuda",
         "ATG",
         "16.447",
         "63.4",
         "High income"
        ],
        [
         "8",
         "Australia",
         "AUS",
         "13.2",
         "83.0",
         "High income"
        ],
        [
         "9",
         "Austria",
         "AUT",
         "9.4",
         "80.6188",
         "High income"
        ],
        [
         "10",
         "Azerbaijan",
         "AZE",
         "18.3",
         "58.7",
         "Upper middle income"
        ],
        [
         "11",
         "Burundi",
         "BDI",
         "44.151",
         "1.3",
         "Low income"
        ],
        [
         "12",
         "Belgium",
         "BEL",
         "11.2",
         "82.1702",
         "High income"
        ],
        [
         "13",
         "Benin",
         "BEN",
         "36.44",
         "4.9",
         "Low income"
        ],
        [
         "14",
         "Burkina Faso",
         "BFA",
         "40.551",
         "9.1",
         "Low income"
        ],
        [
         "15",
         "Bangladesh",
         "BGD",
         "20.142",
         "6.63",
         "Lower middle income"
        ],
        [
         "16",
         "Bulgaria",
         "BGR",
         "9.2",
         "53.0615",
         "Upper middle income"
        ],
        [
         "17",
         "Bahrain",
         "BHR",
         "15.04",
         "90.0000397",
         "High income"
        ],
        [
         "18",
         "Bahamas, The",
         "BHS",
         "15.339",
         "72.0",
         "High income"
        ],
        [
         "19",
         "Bosnia and Herzegovina",
         "BIH",
         "9.062",
         "57.79",
         "Upper middle income"
        ],
        [
         "20",
         "Belarus",
         "BLR",
         "12.5",
         "54.17",
         "Upper middle income"
        ],
        [
         "21",
         "Belize",
         "BLZ",
         "23.092",
         "33.6",
         "Upper middle income"
        ],
        [
         "22",
         "Bermuda",
         "BMU",
         "10.4",
         "95.3",
         "High income"
        ],
        [
         "23",
         "Bolivia",
         "BOL",
         "24.236",
         "36.94",
         "Lower middle income"
        ],
        [
         "24",
         "Brazil",
         "BRA",
         "14.931",
         "51.04",
         "Upper middle income"
        ],
        [
         "25",
         "Barbados",
         "BRB",
         "12.188",
         "73.0",
         "High income"
        ],
        [
         "26",
         "Brunei Darussalam",
         "BRN",
         "16.405",
         "64.5",
         "High income"
        ],
        [
         "27",
         "Bhutan",
         "BTN",
         "18.134",
         "29.9",
         "Lower middle income"
        ],
        [
         "28",
         "Botswana",
         "BWA",
         "25.267",
         "15.0",
         "Upper middle income"
        ],
        [
         "29",
         "Central African Republic",
         "CAF",
         "34.076",
         "3.5",
         "Low income"
        ],
        [
         "30",
         "Canada",
         "CAN",
         "10.9",
         "85.8",
         "High income"
        ],
        [
         "31",
         "Switzerland",
         "CHE",
         "10.2",
         "86.34",
         "High income"
        ],
        [
         "32",
         "Chile",
         "CHL",
         "13.385",
         "66.5",
         "High income"
        ],
        [
         "33",
         "China",
         "CHN",
         "12.1",
         "45.8",
         "Upper middle income"
        ],
        [
         "34",
         "Cote d'Ivoire",
         "CIV",
         "37.32",
         "8.4",
         "Lower middle income"
        ],
        [
         "35",
         "Cameroon",
         "CMR",
         "37.236",
         "6.4",
         "Lower middle income"
        ],
        [
         "36",
         "Congo, Rep.",
         "COG",
         "37.011",
         "6.6",
         "Lower middle income"
        ],
        [
         "37",
         "Colombia",
         "COL",
         "16.076",
         "51.7",
         "Upper middle income"
        ],
        [
         "38",
         "Comoros",
         "COM",
         "34.326",
         "6.5",
         "Low income"
        ],
        [
         "39",
         "Cabo Verde",
         "CPV",
         "21.625",
         "37.5",
         "Lower middle income"
        ],
        [
         "40",
         "Costa Rica",
         "CRI",
         "15.022",
         "45.96",
         "Upper middle income"
        ],
        [
         "41",
         "Cuba",
         "CUB",
         "10.4",
         "27.93",
         "Upper middle income"
        ],
        [
         "42",
         "Cayman Islands",
         "CYM",
         "12.5",
         "74.1",
         "High income"
        ],
        [
         "43",
         "Cyprus",
         "CYP",
         "11.436",
         "65.4548",
         "High income"
        ],
        [
         "44",
         "Czech Republic",
         "CZE",
         "10.2",
         "74.1104",
         "High income"
        ],
        [
         "45",
         "Germany",
         "DEU",
         "8.5",
         "84.17",
         "High income"
        ],
        [
         "46",
         "Djibouti",
         "DJI",
         "25.486",
         "9.5",
         "Lower middle income"
        ],
        [
         "47",
         "Denmark",
         "DNK",
         "10.0",
         "94.6297",
         "High income"
        ],
        [
         "48",
         "Dominican Republic",
         "DOM",
         "21.198",
         "45.9",
         "Upper middle income"
        ],
        [
         "49",
         "Algeria",
         "DZA",
         "24.738",
         "16.5",
         "Upper middle income"
        ]
       ],
       "shape": {
        "columns": 5,
        "rows": 195
       }
      },
      "text/html": [
       "<div>\n",
       "<style scoped>\n",
       "    .dataframe tbody tr th:only-of-type {\n",
       "        vertical-align: middle;\n",
       "    }\n",
       "\n",
       "    .dataframe tbody tr th {\n",
       "        vertical-align: top;\n",
       "    }\n",
       "\n",
       "    .dataframe thead th {\n",
       "        text-align: right;\n",
       "    }\n",
       "</style>\n",
       "<table border=\"1\" class=\"dataframe\">\n",
       "  <thead>\n",
       "    <tr style=\"text-align: right;\">\n",
       "      <th></th>\n",
       "      <th>a</th>\n",
       "      <th>b</th>\n",
       "      <th>c</th>\n",
       "      <th>d</th>\n",
       "      <th>e</th>\n",
       "    </tr>\n",
       "  </thead>\n",
       "  <tbody>\n",
       "    <tr>\n",
       "      <th>0</th>\n",
       "      <td>Aruba</td>\n",
       "      <td>ABW</td>\n",
       "      <td>10.244</td>\n",
       "      <td>78.9</td>\n",
       "      <td>High income</td>\n",
       "    </tr>\n",
       "    <tr>\n",
       "      <th>1</th>\n",
       "      <td>Afghanistan</td>\n",
       "      <td>AFG</td>\n",
       "      <td>35.253</td>\n",
       "      <td>5.9</td>\n",
       "      <td>Low income</td>\n",
       "    </tr>\n",
       "    <tr>\n",
       "      <th>2</th>\n",
       "      <td>Angola</td>\n",
       "      <td>AGO</td>\n",
       "      <td>45.985</td>\n",
       "      <td>19.1</td>\n",
       "      <td>Upper middle income</td>\n",
       "    </tr>\n",
       "    <tr>\n",
       "      <th>3</th>\n",
       "      <td>Albania</td>\n",
       "      <td>ALB</td>\n",
       "      <td>12.877</td>\n",
       "      <td>57.2</td>\n",
       "      <td>Upper middle income</td>\n",
       "    </tr>\n",
       "    <tr>\n",
       "      <th>4</th>\n",
       "      <td>United Arab Emirates</td>\n",
       "      <td>ARE</td>\n",
       "      <td>11.044</td>\n",
       "      <td>88.0</td>\n",
       "      <td>High income</td>\n",
       "    </tr>\n",
       "    <tr>\n",
       "      <th>...</th>\n",
       "      <td>...</td>\n",
       "      <td>...</td>\n",
       "      <td>...</td>\n",
       "      <td>...</td>\n",
       "      <td>...</td>\n",
       "    </tr>\n",
       "    <tr>\n",
       "      <th>190</th>\n",
       "      <td>Yemen, Rep.</td>\n",
       "      <td>YEM</td>\n",
       "      <td>32.947</td>\n",
       "      <td>20.0</td>\n",
       "      <td>Lower middle income</td>\n",
       "    </tr>\n",
       "    <tr>\n",
       "      <th>191</th>\n",
       "      <td>South Africa</td>\n",
       "      <td>ZAF</td>\n",
       "      <td>20.850</td>\n",
       "      <td>46.5</td>\n",
       "      <td>Upper middle income</td>\n",
       "    </tr>\n",
       "    <tr>\n",
       "      <th>192</th>\n",
       "      <td>Congo, Dem. Rep.</td>\n",
       "      <td>COD</td>\n",
       "      <td>42.394</td>\n",
       "      <td>2.2</td>\n",
       "      <td>Low income</td>\n",
       "    </tr>\n",
       "    <tr>\n",
       "      <th>193</th>\n",
       "      <td>Zambia</td>\n",
       "      <td>ZMB</td>\n",
       "      <td>40.471</td>\n",
       "      <td>15.4</td>\n",
       "      <td>Lower middle income</td>\n",
       "    </tr>\n",
       "    <tr>\n",
       "      <th>194</th>\n",
       "      <td>Zimbabwe</td>\n",
       "      <td>ZWE</td>\n",
       "      <td>35.715</td>\n",
       "      <td>18.5</td>\n",
       "      <td>Low income</td>\n",
       "    </tr>\n",
       "  </tbody>\n",
       "</table>\n",
       "<p>195 rows × 5 columns</p>\n",
       "</div>"
      ],
      "text/plain": [
       "                        a    b       c     d                    e\n",
       "0                   Aruba  ABW  10.244  78.9          High income\n",
       "1             Afghanistan  AFG  35.253   5.9           Low income\n",
       "2                  Angola  AGO  45.985  19.1  Upper middle income\n",
       "3                 Albania  ALB  12.877  57.2  Upper middle income\n",
       "4    United Arab Emirates  ARE  11.044  88.0          High income\n",
       "..                    ...  ...     ...   ...                  ...\n",
       "190           Yemen, Rep.  YEM  32.947  20.0  Lower middle income\n",
       "191          South Africa  ZAF  20.850  46.5  Upper middle income\n",
       "192      Congo, Dem. Rep.  COD  42.394   2.2           Low income\n",
       "193                Zambia  ZMB  40.471  15.4  Lower middle income\n",
       "194              Zimbabwe  ZWE  35.715  18.5           Low income\n",
       "\n",
       "[195 rows x 5 columns]"
      ]
     },
     "execution_count": 44,
     "metadata": {},
     "output_type": "execute_result"
    }
   ],
   "source": [
    "df"
   ]
  },
  {
   "cell_type": "code",
   "execution_count": 45,
   "id": "ccee7108",
   "metadata": {},
   "outputs": [
    {
     "data": {
      "application/vnd.microsoft.datawrangler.viewer.v0+json": {
       "columns": [
        {
         "name": "index",
         "rawType": "int64",
         "type": "integer"
        },
        {
         "name": "a",
         "rawType": "object",
         "type": "string"
        },
        {
         "name": "b",
         "rawType": "object",
         "type": "string"
        },
        {
         "name": "c",
         "rawType": "float64",
         "type": "float"
        },
        {
         "name": "d",
         "rawType": "float64",
         "type": "float"
        },
        {
         "name": "e",
         "rawType": "object",
         "type": "string"
        }
       ],
       "ref": "e378264e-5a9a-4311-9203-8dd3b444e92b",
       "rows": [
        [
         "0",
         "Aruba",
         "ABW",
         "10.244",
         "78.9",
         "High income"
        ],
        [
         "1",
         "Afghanistan",
         "AFG",
         "35.253",
         "5.9",
         "Low income"
        ],
        [
         "2",
         "Angola",
         "AGO",
         "45.985",
         "19.1",
         "Upper middle income"
        ],
        [
         "3",
         "Albania",
         "ALB",
         "12.877",
         "57.2",
         "Upper middle income"
        ],
        [
         "4",
         "United Arab Emirates",
         "ARE",
         "11.044",
         "88.0",
         "High income"
        ]
       ],
       "shape": {
        "columns": 5,
        "rows": 5
       }
      },
      "text/html": [
       "<div>\n",
       "<style scoped>\n",
       "    .dataframe tbody tr th:only-of-type {\n",
       "        vertical-align: middle;\n",
       "    }\n",
       "\n",
       "    .dataframe tbody tr th {\n",
       "        vertical-align: top;\n",
       "    }\n",
       "\n",
       "    .dataframe thead th {\n",
       "        text-align: right;\n",
       "    }\n",
       "</style>\n",
       "<table border=\"1\" class=\"dataframe\">\n",
       "  <thead>\n",
       "    <tr style=\"text-align: right;\">\n",
       "      <th></th>\n",
       "      <th>a</th>\n",
       "      <th>b</th>\n",
       "      <th>c</th>\n",
       "      <th>d</th>\n",
       "      <th>e</th>\n",
       "    </tr>\n",
       "  </thead>\n",
       "  <tbody>\n",
       "    <tr>\n",
       "      <th>0</th>\n",
       "      <td>Aruba</td>\n",
       "      <td>ABW</td>\n",
       "      <td>10.244</td>\n",
       "      <td>78.9</td>\n",
       "      <td>High income</td>\n",
       "    </tr>\n",
       "    <tr>\n",
       "      <th>1</th>\n",
       "      <td>Afghanistan</td>\n",
       "      <td>AFG</td>\n",
       "      <td>35.253</td>\n",
       "      <td>5.9</td>\n",
       "      <td>Low income</td>\n",
       "    </tr>\n",
       "    <tr>\n",
       "      <th>2</th>\n",
       "      <td>Angola</td>\n",
       "      <td>AGO</td>\n",
       "      <td>45.985</td>\n",
       "      <td>19.1</td>\n",
       "      <td>Upper middle income</td>\n",
       "    </tr>\n",
       "    <tr>\n",
       "      <th>3</th>\n",
       "      <td>Albania</td>\n",
       "      <td>ALB</td>\n",
       "      <td>12.877</td>\n",
       "      <td>57.2</td>\n",
       "      <td>Upper middle income</td>\n",
       "    </tr>\n",
       "    <tr>\n",
       "      <th>4</th>\n",
       "      <td>United Arab Emirates</td>\n",
       "      <td>ARE</td>\n",
       "      <td>11.044</td>\n",
       "      <td>88.0</td>\n",
       "      <td>High income</td>\n",
       "    </tr>\n",
       "  </tbody>\n",
       "</table>\n",
       "</div>"
      ],
      "text/plain": [
       "                      a    b       c     d                    e\n",
       "0                 Aruba  ABW  10.244  78.9          High income\n",
       "1           Afghanistan  AFG  35.253   5.9           Low income\n",
       "2                Angola  AGO  45.985  19.1  Upper middle income\n",
       "3               Albania  ALB  12.877  57.2  Upper middle income\n",
       "4  United Arab Emirates  ARE  11.044  88.0          High income"
      ]
     },
     "execution_count": 45,
     "metadata": {},
     "output_type": "execute_result"
    }
   ],
   "source": [
    "df.head()"
   ]
  },
  {
   "cell_type": "code",
   "execution_count": 46,
   "id": "a9da70ac",
   "metadata": {},
   "outputs": [
    {
     "data": {
      "text/plain": [
       "5"
      ]
     },
     "execution_count": 46,
     "metadata": {},
     "output_type": "execute_result"
    }
   ],
   "source": [
    "len(df.columns)"
   ]
  },
  {
   "cell_type": "code",
   "execution_count": 47,
   "id": "e7af8d37",
   "metadata": {},
   "outputs": [],
   "source": [
    "df.columns=['CountryName', 'CountryCode', 'BirthRate', 'InternetUsers','IncomeGroup']"
   ]
  },
  {
   "cell_type": "code",
   "execution_count": 48,
   "id": "c5c5c316",
   "metadata": {},
   "outputs": [
    {
     "data": {
      "application/vnd.microsoft.datawrangler.viewer.v0+json": {
       "columns": [
        {
         "name": "index",
         "rawType": "int64",
         "type": "integer"
        },
        {
         "name": "CountryName",
         "rawType": "object",
         "type": "string"
        },
        {
         "name": "CountryCode",
         "rawType": "object",
         "type": "string"
        },
        {
         "name": "BirthRate",
         "rawType": "float64",
         "type": "float"
        },
        {
         "name": "InternetUsers",
         "rawType": "float64",
         "type": "float"
        },
        {
         "name": "IncomeGroup",
         "rawType": "object",
         "type": "string"
        }
       ],
       "ref": "a767a54e-f80a-4c6e-a873-724ebd3afd85",
       "rows": [
        [
         "0",
         "Aruba",
         "ABW",
         "10.244",
         "78.9",
         "High income"
        ],
        [
         "1",
         "Afghanistan",
         "AFG",
         "35.253",
         "5.9",
         "Low income"
        ],
        [
         "2",
         "Angola",
         "AGO",
         "45.985",
         "19.1",
         "Upper middle income"
        ],
        [
         "3",
         "Albania",
         "ALB",
         "12.877",
         "57.2",
         "Upper middle income"
        ],
        [
         "4",
         "United Arab Emirates",
         "ARE",
         "11.044",
         "88.0",
         "High income"
        ],
        [
         "5",
         "Argentina",
         "ARG",
         "17.716",
         "59.9",
         "High income"
        ],
        [
         "6",
         "Armenia",
         "ARM",
         "13.308",
         "41.9",
         "Lower middle income"
        ],
        [
         "7",
         "Antigua and Barbuda",
         "ATG",
         "16.447",
         "63.4",
         "High income"
        ],
        [
         "8",
         "Australia",
         "AUS",
         "13.2",
         "83.0",
         "High income"
        ],
        [
         "9",
         "Austria",
         "AUT",
         "9.4",
         "80.6188",
         "High income"
        ],
        [
         "10",
         "Azerbaijan",
         "AZE",
         "18.3",
         "58.7",
         "Upper middle income"
        ],
        [
         "11",
         "Burundi",
         "BDI",
         "44.151",
         "1.3",
         "Low income"
        ],
        [
         "12",
         "Belgium",
         "BEL",
         "11.2",
         "82.1702",
         "High income"
        ],
        [
         "13",
         "Benin",
         "BEN",
         "36.44",
         "4.9",
         "Low income"
        ],
        [
         "14",
         "Burkina Faso",
         "BFA",
         "40.551",
         "9.1",
         "Low income"
        ],
        [
         "15",
         "Bangladesh",
         "BGD",
         "20.142",
         "6.63",
         "Lower middle income"
        ],
        [
         "16",
         "Bulgaria",
         "BGR",
         "9.2",
         "53.0615",
         "Upper middle income"
        ],
        [
         "17",
         "Bahrain",
         "BHR",
         "15.04",
         "90.0000397",
         "High income"
        ],
        [
         "18",
         "Bahamas, The",
         "BHS",
         "15.339",
         "72.0",
         "High income"
        ],
        [
         "19",
         "Bosnia and Herzegovina",
         "BIH",
         "9.062",
         "57.79",
         "Upper middle income"
        ],
        [
         "20",
         "Belarus",
         "BLR",
         "12.5",
         "54.17",
         "Upper middle income"
        ],
        [
         "21",
         "Belize",
         "BLZ",
         "23.092",
         "33.6",
         "Upper middle income"
        ],
        [
         "22",
         "Bermuda",
         "BMU",
         "10.4",
         "95.3",
         "High income"
        ],
        [
         "23",
         "Bolivia",
         "BOL",
         "24.236",
         "36.94",
         "Lower middle income"
        ],
        [
         "24",
         "Brazil",
         "BRA",
         "14.931",
         "51.04",
         "Upper middle income"
        ],
        [
         "25",
         "Barbados",
         "BRB",
         "12.188",
         "73.0",
         "High income"
        ],
        [
         "26",
         "Brunei Darussalam",
         "BRN",
         "16.405",
         "64.5",
         "High income"
        ],
        [
         "27",
         "Bhutan",
         "BTN",
         "18.134",
         "29.9",
         "Lower middle income"
        ],
        [
         "28",
         "Botswana",
         "BWA",
         "25.267",
         "15.0",
         "Upper middle income"
        ],
        [
         "29",
         "Central African Republic",
         "CAF",
         "34.076",
         "3.5",
         "Low income"
        ],
        [
         "30",
         "Canada",
         "CAN",
         "10.9",
         "85.8",
         "High income"
        ],
        [
         "31",
         "Switzerland",
         "CHE",
         "10.2",
         "86.34",
         "High income"
        ],
        [
         "32",
         "Chile",
         "CHL",
         "13.385",
         "66.5",
         "High income"
        ],
        [
         "33",
         "China",
         "CHN",
         "12.1",
         "45.8",
         "Upper middle income"
        ],
        [
         "34",
         "Cote d'Ivoire",
         "CIV",
         "37.32",
         "8.4",
         "Lower middle income"
        ],
        [
         "35",
         "Cameroon",
         "CMR",
         "37.236",
         "6.4",
         "Lower middle income"
        ],
        [
         "36",
         "Congo, Rep.",
         "COG",
         "37.011",
         "6.6",
         "Lower middle income"
        ],
        [
         "37",
         "Colombia",
         "COL",
         "16.076",
         "51.7",
         "Upper middle income"
        ],
        [
         "38",
         "Comoros",
         "COM",
         "34.326",
         "6.5",
         "Low income"
        ],
        [
         "39",
         "Cabo Verde",
         "CPV",
         "21.625",
         "37.5",
         "Lower middle income"
        ],
        [
         "40",
         "Costa Rica",
         "CRI",
         "15.022",
         "45.96",
         "Upper middle income"
        ],
        [
         "41",
         "Cuba",
         "CUB",
         "10.4",
         "27.93",
         "Upper middle income"
        ],
        [
         "42",
         "Cayman Islands",
         "CYM",
         "12.5",
         "74.1",
         "High income"
        ],
        [
         "43",
         "Cyprus",
         "CYP",
         "11.436",
         "65.4548",
         "High income"
        ],
        [
         "44",
         "Czech Republic",
         "CZE",
         "10.2",
         "74.1104",
         "High income"
        ],
        [
         "45",
         "Germany",
         "DEU",
         "8.5",
         "84.17",
         "High income"
        ],
        [
         "46",
         "Djibouti",
         "DJI",
         "25.486",
         "9.5",
         "Lower middle income"
        ],
        [
         "47",
         "Denmark",
         "DNK",
         "10.0",
         "94.6297",
         "High income"
        ],
        [
         "48",
         "Dominican Republic",
         "DOM",
         "21.198",
         "45.9",
         "Upper middle income"
        ],
        [
         "49",
         "Algeria",
         "DZA",
         "24.738",
         "16.5",
         "Upper middle income"
        ]
       ],
       "shape": {
        "columns": 5,
        "rows": 195
       }
      },
      "text/html": [
       "<div>\n",
       "<style scoped>\n",
       "    .dataframe tbody tr th:only-of-type {\n",
       "        vertical-align: middle;\n",
       "    }\n",
       "\n",
       "    .dataframe tbody tr th {\n",
       "        vertical-align: top;\n",
       "    }\n",
       "\n",
       "    .dataframe thead th {\n",
       "        text-align: right;\n",
       "    }\n",
       "</style>\n",
       "<table border=\"1\" class=\"dataframe\">\n",
       "  <thead>\n",
       "    <tr style=\"text-align: right;\">\n",
       "      <th></th>\n",
       "      <th>CountryName</th>\n",
       "      <th>CountryCode</th>\n",
       "      <th>BirthRate</th>\n",
       "      <th>InternetUsers</th>\n",
       "      <th>IncomeGroup</th>\n",
       "    </tr>\n",
       "  </thead>\n",
       "  <tbody>\n",
       "    <tr>\n",
       "      <th>0</th>\n",
       "      <td>Aruba</td>\n",
       "      <td>ABW</td>\n",
       "      <td>10.244</td>\n",
       "      <td>78.9</td>\n",
       "      <td>High income</td>\n",
       "    </tr>\n",
       "    <tr>\n",
       "      <th>1</th>\n",
       "      <td>Afghanistan</td>\n",
       "      <td>AFG</td>\n",
       "      <td>35.253</td>\n",
       "      <td>5.9</td>\n",
       "      <td>Low income</td>\n",
       "    </tr>\n",
       "    <tr>\n",
       "      <th>2</th>\n",
       "      <td>Angola</td>\n",
       "      <td>AGO</td>\n",
       "      <td>45.985</td>\n",
       "      <td>19.1</td>\n",
       "      <td>Upper middle income</td>\n",
       "    </tr>\n",
       "    <tr>\n",
       "      <th>3</th>\n",
       "      <td>Albania</td>\n",
       "      <td>ALB</td>\n",
       "      <td>12.877</td>\n",
       "      <td>57.2</td>\n",
       "      <td>Upper middle income</td>\n",
       "    </tr>\n",
       "    <tr>\n",
       "      <th>4</th>\n",
       "      <td>United Arab Emirates</td>\n",
       "      <td>ARE</td>\n",
       "      <td>11.044</td>\n",
       "      <td>88.0</td>\n",
       "      <td>High income</td>\n",
       "    </tr>\n",
       "    <tr>\n",
       "      <th>...</th>\n",
       "      <td>...</td>\n",
       "      <td>...</td>\n",
       "      <td>...</td>\n",
       "      <td>...</td>\n",
       "      <td>...</td>\n",
       "    </tr>\n",
       "    <tr>\n",
       "      <th>190</th>\n",
       "      <td>Yemen, Rep.</td>\n",
       "      <td>YEM</td>\n",
       "      <td>32.947</td>\n",
       "      <td>20.0</td>\n",
       "      <td>Lower middle income</td>\n",
       "    </tr>\n",
       "    <tr>\n",
       "      <th>191</th>\n",
       "      <td>South Africa</td>\n",
       "      <td>ZAF</td>\n",
       "      <td>20.850</td>\n",
       "      <td>46.5</td>\n",
       "      <td>Upper middle income</td>\n",
       "    </tr>\n",
       "    <tr>\n",
       "      <th>192</th>\n",
       "      <td>Congo, Dem. Rep.</td>\n",
       "      <td>COD</td>\n",
       "      <td>42.394</td>\n",
       "      <td>2.2</td>\n",
       "      <td>Low income</td>\n",
       "    </tr>\n",
       "    <tr>\n",
       "      <th>193</th>\n",
       "      <td>Zambia</td>\n",
       "      <td>ZMB</td>\n",
       "      <td>40.471</td>\n",
       "      <td>15.4</td>\n",
       "      <td>Lower middle income</td>\n",
       "    </tr>\n",
       "    <tr>\n",
       "      <th>194</th>\n",
       "      <td>Zimbabwe</td>\n",
       "      <td>ZWE</td>\n",
       "      <td>35.715</td>\n",
       "      <td>18.5</td>\n",
       "      <td>Low income</td>\n",
       "    </tr>\n",
       "  </tbody>\n",
       "</table>\n",
       "<p>195 rows × 5 columns</p>\n",
       "</div>"
      ],
      "text/plain": [
       "              CountryName CountryCode  BirthRate  InternetUsers  \\\n",
       "0                   Aruba         ABW     10.244           78.9   \n",
       "1             Afghanistan         AFG     35.253            5.9   \n",
       "2                  Angola         AGO     45.985           19.1   \n",
       "3                 Albania         ALB     12.877           57.2   \n",
       "4    United Arab Emirates         ARE     11.044           88.0   \n",
       "..                    ...         ...        ...            ...   \n",
       "190           Yemen, Rep.         YEM     32.947           20.0   \n",
       "191          South Africa         ZAF     20.850           46.5   \n",
       "192      Congo, Dem. Rep.         COD     42.394            2.2   \n",
       "193                Zambia         ZMB     40.471           15.4   \n",
       "194              Zimbabwe         ZWE     35.715           18.5   \n",
       "\n",
       "             IncomeGroup  \n",
       "0            High income  \n",
       "1             Low income  \n",
       "2    Upper middle income  \n",
       "3    Upper middle income  \n",
       "4            High income  \n",
       "..                   ...  \n",
       "190  Lower middle income  \n",
       "191  Upper middle income  \n",
       "192           Low income  \n",
       "193  Lower middle income  \n",
       "194           Low income  \n",
       "\n",
       "[195 rows x 5 columns]"
      ]
     },
     "execution_count": 48,
     "metadata": {},
     "output_type": "execute_result"
    }
   ],
   "source": [
    "df"
   ]
  },
  {
   "cell_type": "code",
   "execution_count": 49,
   "id": "84f1f4a0",
   "metadata": {},
   "outputs": [
    {
     "data": {
      "text/plain": [
       "Index(['CountryName', 'CountryCode', 'BirthRate', 'InternetUsers',\n",
       "       'IncomeGroup'],\n",
       "      dtype='object')"
      ]
     },
     "execution_count": 49,
     "metadata": {},
     "output_type": "execute_result"
    }
   ],
   "source": [
    "df.columns"
   ]
  },
  {
   "cell_type": "code",
   "execution_count": 50,
   "id": "654affda",
   "metadata": {},
   "outputs": [
    {
     "data": {
      "application/vnd.microsoft.datawrangler.viewer.v0+json": {
       "columns": [
        {
         "name": "index",
         "rawType": "int64",
         "type": "integer"
        },
        {
         "name": "BirthRate",
         "rawType": "float64",
         "type": "float"
        }
       ],
       "ref": "1121c73e-5a31-43a2-b1d5-d6b96dc23b19",
       "rows": [
        [
         "0",
         "10.244"
        ],
        [
         "1",
         "35.253"
        ],
        [
         "2",
         "45.985"
        ],
        [
         "3",
         "12.877"
        ],
        [
         "4",
         "11.044"
        ],
        [
         "5",
         "17.716"
        ],
        [
         "6",
         "13.308"
        ],
        [
         "7",
         "16.447"
        ],
        [
         "8",
         "13.2"
        ],
        [
         "9",
         "9.4"
        ],
        [
         "10",
         "18.3"
        ],
        [
         "11",
         "44.151"
        ],
        [
         "12",
         "11.2"
        ],
        [
         "13",
         "36.44"
        ],
        [
         "14",
         "40.551"
        ],
        [
         "15",
         "20.142"
        ],
        [
         "16",
         "9.2"
        ],
        [
         "17",
         "15.04"
        ],
        [
         "18",
         "15.339"
        ],
        [
         "19",
         "9.062"
        ],
        [
         "20",
         "12.5"
        ],
        [
         "21",
         "23.092"
        ],
        [
         "22",
         "10.4"
        ],
        [
         "23",
         "24.236"
        ],
        [
         "24",
         "14.931"
        ],
        [
         "25",
         "12.188"
        ],
        [
         "26",
         "16.405"
        ],
        [
         "27",
         "18.134"
        ],
        [
         "28",
         "25.267"
        ],
        [
         "29",
         "34.076"
        ],
        [
         "30",
         "10.9"
        ],
        [
         "31",
         "10.2"
        ],
        [
         "32",
         "13.385"
        ],
        [
         "33",
         "12.1"
        ],
        [
         "34",
         "37.32"
        ],
        [
         "35",
         "37.236"
        ],
        [
         "36",
         "37.011"
        ],
        [
         "37",
         "16.076"
        ],
        [
         "38",
         "34.326"
        ],
        [
         "39",
         "21.625"
        ],
        [
         "40",
         "15.022"
        ],
        [
         "41",
         "10.4"
        ],
        [
         "42",
         "12.5"
        ],
        [
         "43",
         "11.436"
        ],
        [
         "44",
         "10.2"
        ],
        [
         "45",
         "8.5"
        ],
        [
         "46",
         "25.486"
        ],
        [
         "47",
         "10.0"
        ],
        [
         "48",
         "21.198"
        ],
        [
         "49",
         "24.738"
        ]
       ],
       "shape": {
        "columns": 1,
        "rows": 195
       }
      },
      "text/plain": [
       "0      10.244\n",
       "1      35.253\n",
       "2      45.985\n",
       "3      12.877\n",
       "4      11.044\n",
       "        ...  \n",
       "190    32.947\n",
       "191    20.850\n",
       "192    42.394\n",
       "193    40.471\n",
       "194    35.715\n",
       "Name: BirthRate, Length: 195, dtype: float64"
      ]
     },
     "execution_count": 50,
     "metadata": {},
     "output_type": "execute_result"
    }
   ],
   "source": [
    "df['BirthRate']"
   ]
  },
  {
   "cell_type": "code",
   "execution_count": 51,
   "id": "d85d2d82",
   "metadata": {},
   "outputs": [
    {
     "data": {
      "application/vnd.microsoft.datawrangler.viewer.v0+json": {
       "columns": [
        {
         "name": "index",
         "rawType": "int64",
         "type": "integer"
        },
        {
         "name": "InternetUsers",
         "rawType": "float64",
         "type": "float"
        }
       ],
       "ref": "4e936f97-22fa-4063-ab09-bd8cc44b0055",
       "rows": [
        [
         "0",
         "78.9"
        ],
        [
         "1",
         "5.9"
        ],
        [
         "2",
         "19.1"
        ],
        [
         "3",
         "57.2"
        ],
        [
         "4",
         "88.0"
        ],
        [
         "5",
         "59.9"
        ],
        [
         "6",
         "41.9"
        ],
        [
         "7",
         "63.4"
        ],
        [
         "8",
         "83.0"
        ],
        [
         "9",
         "80.6188"
        ],
        [
         "10",
         "58.7"
        ],
        [
         "11",
         "1.3"
        ],
        [
         "12",
         "82.1702"
        ],
        [
         "13",
         "4.9"
        ],
        [
         "14",
         "9.1"
        ],
        [
         "15",
         "6.63"
        ],
        [
         "16",
         "53.0615"
        ],
        [
         "17",
         "90.0000397"
        ],
        [
         "18",
         "72.0"
        ],
        [
         "19",
         "57.79"
        ],
        [
         "20",
         "54.17"
        ],
        [
         "21",
         "33.6"
        ],
        [
         "22",
         "95.3"
        ],
        [
         "23",
         "36.94"
        ],
        [
         "24",
         "51.04"
        ],
        [
         "25",
         "73.0"
        ],
        [
         "26",
         "64.5"
        ],
        [
         "27",
         "29.9"
        ],
        [
         "28",
         "15.0"
        ],
        [
         "29",
         "3.5"
        ],
        [
         "30",
         "85.8"
        ],
        [
         "31",
         "86.34"
        ],
        [
         "32",
         "66.5"
        ],
        [
         "33",
         "45.8"
        ],
        [
         "34",
         "8.4"
        ],
        [
         "35",
         "6.4"
        ],
        [
         "36",
         "6.6"
        ],
        [
         "37",
         "51.7"
        ],
        [
         "38",
         "6.5"
        ],
        [
         "39",
         "37.5"
        ],
        [
         "40",
         "45.96"
        ],
        [
         "41",
         "27.93"
        ],
        [
         "42",
         "74.1"
        ],
        [
         "43",
         "65.4548"
        ],
        [
         "44",
         "74.1104"
        ],
        [
         "45",
         "84.17"
        ],
        [
         "46",
         "9.5"
        ],
        [
         "47",
         "94.6297"
        ],
        [
         "48",
         "45.9"
        ],
        [
         "49",
         "16.5"
        ]
       ],
       "shape": {
        "columns": 1,
        "rows": 195
       }
      },
      "text/plain": [
       "0      78.9\n",
       "1       5.9\n",
       "2      19.1\n",
       "3      57.2\n",
       "4      88.0\n",
       "       ... \n",
       "190    20.0\n",
       "191    46.5\n",
       "192     2.2\n",
       "193    15.4\n",
       "194    18.5\n",
       "Name: InternetUsers, Length: 195, dtype: float64"
      ]
     },
     "execution_count": 51,
     "metadata": {},
     "output_type": "execute_result"
    }
   ],
   "source": [
    "df['InternetUsers']"
   ]
  },
  {
   "cell_type": "code",
   "execution_count": 52,
   "id": "6a943813",
   "metadata": {},
   "outputs": [
    {
     "data": {
      "application/vnd.microsoft.datawrangler.viewer.v0+json": {
       "columns": [
        {
         "name": "index",
         "rawType": "int64",
         "type": "integer"
        },
        {
         "name": "0",
         "rawType": "float64",
         "type": "float"
        }
       ],
       "ref": "5004d2c4-f038-4119-8bca-eb2e227f894d",
       "rows": [
        [
         "0",
         "808.2516"
        ],
        [
         "1",
         "207.9927"
        ],
        [
         "2",
         "878.3135000000001"
        ],
        [
         "3",
         "736.5644000000001"
        ],
        [
         "4",
         "971.8720000000001"
        ],
        [
         "5",
         "1061.1884"
        ],
        [
         "6",
         "557.6052"
        ],
        [
         "7",
         "1042.7397999999998"
        ],
        [
         "8",
         "1095.6"
        ],
        [
         "9",
         "757.8167199999999"
        ],
        [
         "10",
         "1074.21"
        ],
        [
         "11",
         "57.396300000000004"
        ],
        [
         "12",
         "920.3062399999999"
        ],
        [
         "13",
         "178.556"
        ],
        [
         "14",
         "369.0141"
        ],
        [
         "15",
         "133.54146"
        ],
        [
         "16",
         "488.1658"
        ],
        [
         "17",
         "1353.6005970879999"
        ],
        [
         "18",
         "1104.4080000000001"
        ],
        [
         "19",
         "523.6929799999999"
        ],
        [
         "20",
         "677.125"
        ],
        [
         "21",
         "775.8912"
        ],
        [
         "22",
         "991.12"
        ],
        [
         "23",
         "895.27784"
        ],
        [
         "24",
         "762.0782399999999"
        ],
        [
         "25",
         "889.724"
        ],
        [
         "26",
         "1058.1225000000002"
        ],
        [
         "27",
         "542.2066"
        ],
        [
         "28",
         "379.005"
        ],
        [
         "29",
         "119.266"
        ],
        [
         "30",
         "935.22"
        ],
        [
         "31",
         "880.668"
        ],
        [
         "32",
         "890.1025"
        ],
        [
         "33",
         "554.18"
        ],
        [
         "34",
         "313.488"
        ],
        [
         "35",
         "238.3104"
        ],
        [
         "36",
         "244.2726"
        ],
        [
         "37",
         "831.1292000000001"
        ],
        [
         "38",
         "223.119"
        ],
        [
         "39",
         "810.9375"
        ],
        [
         "40",
         "690.41112"
        ],
        [
         "41",
         "290.472"
        ],
        [
         "42",
         "926.2499999999999"
        ],
        [
         "43",
         "748.5410928000001"
        ],
        [
         "44",
         "755.92608"
        ],
        [
         "45",
         "715.445"
        ],
        [
         "46",
         "242.11700000000002"
        ],
        [
         "47",
         "946.297"
        ],
        [
         "48",
         "972.9882"
        ],
        [
         "49",
         "408.177"
        ]
       ],
       "shape": {
        "columns": 1,
        "rows": 195
       }
      },
      "text/plain": [
       "0      808.2516\n",
       "1      207.9927\n",
       "2      878.3135\n",
       "3      736.5644\n",
       "4      971.8720\n",
       "         ...   \n",
       "190    658.9400\n",
       "191    969.5250\n",
       "192     93.2668\n",
       "193    623.2534\n",
       "194    660.7275\n",
       "Length: 195, dtype: float64"
      ]
     },
     "execution_count": 52,
     "metadata": {},
     "output_type": "execute_result"
    }
   ],
   "source": [
    "df.BirthRate * df.InternetUsers"
   ]
  },
  {
   "cell_type": "code",
   "execution_count": 53,
   "id": "a25ea3bf",
   "metadata": {},
   "outputs": [],
   "source": [
    "df['new']=df.BirthRate * df.InternetUsers"
   ]
  },
  {
   "cell_type": "code",
   "execution_count": 54,
   "id": "1e9afb6f",
   "metadata": {},
   "outputs": [
    {
     "data": {
      "application/vnd.microsoft.datawrangler.viewer.v0+json": {
       "columns": [
        {
         "name": "index",
         "rawType": "int64",
         "type": "integer"
        },
        {
         "name": "CountryName",
         "rawType": "object",
         "type": "string"
        },
        {
         "name": "CountryCode",
         "rawType": "object",
         "type": "string"
        },
        {
         "name": "BirthRate",
         "rawType": "float64",
         "type": "float"
        },
        {
         "name": "InternetUsers",
         "rawType": "float64",
         "type": "float"
        },
        {
         "name": "IncomeGroup",
         "rawType": "object",
         "type": "string"
        },
        {
         "name": "new",
         "rawType": "float64",
         "type": "float"
        }
       ],
       "ref": "5360ec85-9a20-4150-8e7b-98ac3214d197",
       "rows": [
        [
         "0",
         "Aruba",
         "ABW",
         "10.244",
         "78.9",
         "High income",
         "808.2516"
        ],
        [
         "1",
         "Afghanistan",
         "AFG",
         "35.253",
         "5.9",
         "Low income",
         "207.9927"
        ],
        [
         "2",
         "Angola",
         "AGO",
         "45.985",
         "19.1",
         "Upper middle income",
         "878.3135000000001"
        ],
        [
         "3",
         "Albania",
         "ALB",
         "12.877",
         "57.2",
         "Upper middle income",
         "736.5644000000001"
        ],
        [
         "4",
         "United Arab Emirates",
         "ARE",
         "11.044",
         "88.0",
         "High income",
         "971.8720000000001"
        ],
        [
         "5",
         "Argentina",
         "ARG",
         "17.716",
         "59.9",
         "High income",
         "1061.1884"
        ],
        [
         "6",
         "Armenia",
         "ARM",
         "13.308",
         "41.9",
         "Lower middle income",
         "557.6052"
        ],
        [
         "7",
         "Antigua and Barbuda",
         "ATG",
         "16.447",
         "63.4",
         "High income",
         "1042.7397999999998"
        ],
        [
         "8",
         "Australia",
         "AUS",
         "13.2",
         "83.0",
         "High income",
         "1095.6"
        ],
        [
         "9",
         "Austria",
         "AUT",
         "9.4",
         "80.6188",
         "High income",
         "757.8167199999999"
        ],
        [
         "10",
         "Azerbaijan",
         "AZE",
         "18.3",
         "58.7",
         "Upper middle income",
         "1074.21"
        ],
        [
         "11",
         "Burundi",
         "BDI",
         "44.151",
         "1.3",
         "Low income",
         "57.396300000000004"
        ],
        [
         "12",
         "Belgium",
         "BEL",
         "11.2",
         "82.1702",
         "High income",
         "920.3062399999999"
        ],
        [
         "13",
         "Benin",
         "BEN",
         "36.44",
         "4.9",
         "Low income",
         "178.556"
        ],
        [
         "14",
         "Burkina Faso",
         "BFA",
         "40.551",
         "9.1",
         "Low income",
         "369.0141"
        ],
        [
         "15",
         "Bangladesh",
         "BGD",
         "20.142",
         "6.63",
         "Lower middle income",
         "133.54146"
        ],
        [
         "16",
         "Bulgaria",
         "BGR",
         "9.2",
         "53.0615",
         "Upper middle income",
         "488.1658"
        ],
        [
         "17",
         "Bahrain",
         "BHR",
         "15.04",
         "90.0000397",
         "High income",
         "1353.6005970879999"
        ],
        [
         "18",
         "Bahamas, The",
         "BHS",
         "15.339",
         "72.0",
         "High income",
         "1104.4080000000001"
        ],
        [
         "19",
         "Bosnia and Herzegovina",
         "BIH",
         "9.062",
         "57.79",
         "Upper middle income",
         "523.6929799999999"
        ],
        [
         "20",
         "Belarus",
         "BLR",
         "12.5",
         "54.17",
         "Upper middle income",
         "677.125"
        ],
        [
         "21",
         "Belize",
         "BLZ",
         "23.092",
         "33.6",
         "Upper middle income",
         "775.8912"
        ],
        [
         "22",
         "Bermuda",
         "BMU",
         "10.4",
         "95.3",
         "High income",
         "991.12"
        ],
        [
         "23",
         "Bolivia",
         "BOL",
         "24.236",
         "36.94",
         "Lower middle income",
         "895.27784"
        ],
        [
         "24",
         "Brazil",
         "BRA",
         "14.931",
         "51.04",
         "Upper middle income",
         "762.0782399999999"
        ],
        [
         "25",
         "Barbados",
         "BRB",
         "12.188",
         "73.0",
         "High income",
         "889.724"
        ],
        [
         "26",
         "Brunei Darussalam",
         "BRN",
         "16.405",
         "64.5",
         "High income",
         "1058.1225000000002"
        ],
        [
         "27",
         "Bhutan",
         "BTN",
         "18.134",
         "29.9",
         "Lower middle income",
         "542.2066"
        ],
        [
         "28",
         "Botswana",
         "BWA",
         "25.267",
         "15.0",
         "Upper middle income",
         "379.005"
        ],
        [
         "29",
         "Central African Republic",
         "CAF",
         "34.076",
         "3.5",
         "Low income",
         "119.266"
        ],
        [
         "30",
         "Canada",
         "CAN",
         "10.9",
         "85.8",
         "High income",
         "935.22"
        ],
        [
         "31",
         "Switzerland",
         "CHE",
         "10.2",
         "86.34",
         "High income",
         "880.668"
        ],
        [
         "32",
         "Chile",
         "CHL",
         "13.385",
         "66.5",
         "High income",
         "890.1025"
        ],
        [
         "33",
         "China",
         "CHN",
         "12.1",
         "45.8",
         "Upper middle income",
         "554.18"
        ],
        [
         "34",
         "Cote d'Ivoire",
         "CIV",
         "37.32",
         "8.4",
         "Lower middle income",
         "313.488"
        ],
        [
         "35",
         "Cameroon",
         "CMR",
         "37.236",
         "6.4",
         "Lower middle income",
         "238.3104"
        ],
        [
         "36",
         "Congo, Rep.",
         "COG",
         "37.011",
         "6.6",
         "Lower middle income",
         "244.2726"
        ],
        [
         "37",
         "Colombia",
         "COL",
         "16.076",
         "51.7",
         "Upper middle income",
         "831.1292000000001"
        ],
        [
         "38",
         "Comoros",
         "COM",
         "34.326",
         "6.5",
         "Low income",
         "223.119"
        ],
        [
         "39",
         "Cabo Verde",
         "CPV",
         "21.625",
         "37.5",
         "Lower middle income",
         "810.9375"
        ],
        [
         "40",
         "Costa Rica",
         "CRI",
         "15.022",
         "45.96",
         "Upper middle income",
         "690.41112"
        ],
        [
         "41",
         "Cuba",
         "CUB",
         "10.4",
         "27.93",
         "Upper middle income",
         "290.472"
        ],
        [
         "42",
         "Cayman Islands",
         "CYM",
         "12.5",
         "74.1",
         "High income",
         "926.2499999999999"
        ],
        [
         "43",
         "Cyprus",
         "CYP",
         "11.436",
         "65.4548",
         "High income",
         "748.5410928000001"
        ],
        [
         "44",
         "Czech Republic",
         "CZE",
         "10.2",
         "74.1104",
         "High income",
         "755.92608"
        ],
        [
         "45",
         "Germany",
         "DEU",
         "8.5",
         "84.17",
         "High income",
         "715.445"
        ],
        [
         "46",
         "Djibouti",
         "DJI",
         "25.486",
         "9.5",
         "Lower middle income",
         "242.11700000000002"
        ],
        [
         "47",
         "Denmark",
         "DNK",
         "10.0",
         "94.6297",
         "High income",
         "946.297"
        ],
        [
         "48",
         "Dominican Republic",
         "DOM",
         "21.198",
         "45.9",
         "Upper middle income",
         "972.9882"
        ],
        [
         "49",
         "Algeria",
         "DZA",
         "24.738",
         "16.5",
         "Upper middle income",
         "408.177"
        ]
       ],
       "shape": {
        "columns": 6,
        "rows": 195
       }
      },
      "text/html": [
       "<div>\n",
       "<style scoped>\n",
       "    .dataframe tbody tr th:only-of-type {\n",
       "        vertical-align: middle;\n",
       "    }\n",
       "\n",
       "    .dataframe tbody tr th {\n",
       "        vertical-align: top;\n",
       "    }\n",
       "\n",
       "    .dataframe thead th {\n",
       "        text-align: right;\n",
       "    }\n",
       "</style>\n",
       "<table border=\"1\" class=\"dataframe\">\n",
       "  <thead>\n",
       "    <tr style=\"text-align: right;\">\n",
       "      <th></th>\n",
       "      <th>CountryName</th>\n",
       "      <th>CountryCode</th>\n",
       "      <th>BirthRate</th>\n",
       "      <th>InternetUsers</th>\n",
       "      <th>IncomeGroup</th>\n",
       "      <th>new</th>\n",
       "    </tr>\n",
       "  </thead>\n",
       "  <tbody>\n",
       "    <tr>\n",
       "      <th>0</th>\n",
       "      <td>Aruba</td>\n",
       "      <td>ABW</td>\n",
       "      <td>10.244</td>\n",
       "      <td>78.9</td>\n",
       "      <td>High income</td>\n",
       "      <td>808.2516</td>\n",
       "    </tr>\n",
       "    <tr>\n",
       "      <th>1</th>\n",
       "      <td>Afghanistan</td>\n",
       "      <td>AFG</td>\n",
       "      <td>35.253</td>\n",
       "      <td>5.9</td>\n",
       "      <td>Low income</td>\n",
       "      <td>207.9927</td>\n",
       "    </tr>\n",
       "    <tr>\n",
       "      <th>2</th>\n",
       "      <td>Angola</td>\n",
       "      <td>AGO</td>\n",
       "      <td>45.985</td>\n",
       "      <td>19.1</td>\n",
       "      <td>Upper middle income</td>\n",
       "      <td>878.3135</td>\n",
       "    </tr>\n",
       "    <tr>\n",
       "      <th>3</th>\n",
       "      <td>Albania</td>\n",
       "      <td>ALB</td>\n",
       "      <td>12.877</td>\n",
       "      <td>57.2</td>\n",
       "      <td>Upper middle income</td>\n",
       "      <td>736.5644</td>\n",
       "    </tr>\n",
       "    <tr>\n",
       "      <th>4</th>\n",
       "      <td>United Arab Emirates</td>\n",
       "      <td>ARE</td>\n",
       "      <td>11.044</td>\n",
       "      <td>88.0</td>\n",
       "      <td>High income</td>\n",
       "      <td>971.8720</td>\n",
       "    </tr>\n",
       "    <tr>\n",
       "      <th>...</th>\n",
       "      <td>...</td>\n",
       "      <td>...</td>\n",
       "      <td>...</td>\n",
       "      <td>...</td>\n",
       "      <td>...</td>\n",
       "      <td>...</td>\n",
       "    </tr>\n",
       "    <tr>\n",
       "      <th>190</th>\n",
       "      <td>Yemen, Rep.</td>\n",
       "      <td>YEM</td>\n",
       "      <td>32.947</td>\n",
       "      <td>20.0</td>\n",
       "      <td>Lower middle income</td>\n",
       "      <td>658.9400</td>\n",
       "    </tr>\n",
       "    <tr>\n",
       "      <th>191</th>\n",
       "      <td>South Africa</td>\n",
       "      <td>ZAF</td>\n",
       "      <td>20.850</td>\n",
       "      <td>46.5</td>\n",
       "      <td>Upper middle income</td>\n",
       "      <td>969.5250</td>\n",
       "    </tr>\n",
       "    <tr>\n",
       "      <th>192</th>\n",
       "      <td>Congo, Dem. Rep.</td>\n",
       "      <td>COD</td>\n",
       "      <td>42.394</td>\n",
       "      <td>2.2</td>\n",
       "      <td>Low income</td>\n",
       "      <td>93.2668</td>\n",
       "    </tr>\n",
       "    <tr>\n",
       "      <th>193</th>\n",
       "      <td>Zambia</td>\n",
       "      <td>ZMB</td>\n",
       "      <td>40.471</td>\n",
       "      <td>15.4</td>\n",
       "      <td>Lower middle income</td>\n",
       "      <td>623.2534</td>\n",
       "    </tr>\n",
       "    <tr>\n",
       "      <th>194</th>\n",
       "      <td>Zimbabwe</td>\n",
       "      <td>ZWE</td>\n",
       "      <td>35.715</td>\n",
       "      <td>18.5</td>\n",
       "      <td>Low income</td>\n",
       "      <td>660.7275</td>\n",
       "    </tr>\n",
       "  </tbody>\n",
       "</table>\n",
       "<p>195 rows × 6 columns</p>\n",
       "</div>"
      ],
      "text/plain": [
       "              CountryName CountryCode  BirthRate  InternetUsers  \\\n",
       "0                   Aruba         ABW     10.244           78.9   \n",
       "1             Afghanistan         AFG     35.253            5.9   \n",
       "2                  Angola         AGO     45.985           19.1   \n",
       "3                 Albania         ALB     12.877           57.2   \n",
       "4    United Arab Emirates         ARE     11.044           88.0   \n",
       "..                    ...         ...        ...            ...   \n",
       "190           Yemen, Rep.         YEM     32.947           20.0   \n",
       "191          South Africa         ZAF     20.850           46.5   \n",
       "192      Congo, Dem. Rep.         COD     42.394            2.2   \n",
       "193                Zambia         ZMB     40.471           15.4   \n",
       "194              Zimbabwe         ZWE     35.715           18.5   \n",
       "\n",
       "             IncomeGroup       new  \n",
       "0            High income  808.2516  \n",
       "1             Low income  207.9927  \n",
       "2    Upper middle income  878.3135  \n",
       "3    Upper middle income  736.5644  \n",
       "4            High income  971.8720  \n",
       "..                   ...       ...  \n",
       "190  Lower middle income  658.9400  \n",
       "191  Upper middle income  969.5250  \n",
       "192           Low income   93.2668  \n",
       "193  Lower middle income  623.2534  \n",
       "194           Low income  660.7275  \n",
       "\n",
       "[195 rows x 6 columns]"
      ]
     },
     "execution_count": 54,
     "metadata": {},
     "output_type": "execute_result"
    }
   ],
   "source": [
    "df"
   ]
  },
  {
   "cell_type": "code",
   "execution_count": 55,
   "id": "8555de7f",
   "metadata": {},
   "outputs": [
    {
     "data": {
      "text/plain": [
       "Index(['CountryName', 'CountryCode', 'BirthRate', 'InternetUsers',\n",
       "       'IncomeGroup', 'new'],\n",
       "      dtype='object')"
      ]
     },
     "execution_count": 55,
     "metadata": {},
     "output_type": "execute_result"
    }
   ],
   "source": [
    "df.columns"
   ]
  },
  {
   "cell_type": "code",
   "execution_count": 56,
   "id": "55ccf91a",
   "metadata": {},
   "outputs": [
    {
     "data": {
      "text/plain": [
       "6"
      ]
     },
     "execution_count": 56,
     "metadata": {},
     "output_type": "execute_result"
    }
   ],
   "source": [
    "len(df.columns)"
   ]
  },
  {
   "cell_type": "code",
   "execution_count": 57,
   "id": "80f2ff1c",
   "metadata": {},
   "outputs": [
    {
     "data": {
      "application/vnd.microsoft.datawrangler.viewer.v0+json": {
       "columns": [
        {
         "name": "index",
         "rawType": "int64",
         "type": "integer"
        },
        {
         "name": "CountryName",
         "rawType": "object",
         "type": "string"
        },
        {
         "name": "CountryCode",
         "rawType": "object",
         "type": "string"
        },
        {
         "name": "BirthRate",
         "rawType": "float64",
         "type": "float"
        },
        {
         "name": "InternetUsers",
         "rawType": "float64",
         "type": "float"
        },
        {
         "name": "IncomeGroup",
         "rawType": "object",
         "type": "string"
        },
        {
         "name": "new",
         "rawType": "float64",
         "type": "float"
        }
       ],
       "ref": "2a80e040-c28a-4d9e-863b-bfedc1a64152",
       "rows": [
        [
         "0",
         "Aruba",
         "ABW",
         "10.244",
         "78.9",
         "High income",
         "808.2516"
        ],
        [
         "1",
         "Afghanistan",
         "AFG",
         "35.253",
         "5.9",
         "Low income",
         "207.9927"
        ],
        [
         "2",
         "Angola",
         "AGO",
         "45.985",
         "19.1",
         "Upper middle income",
         "878.3135000000001"
        ],
        [
         "3",
         "Albania",
         "ALB",
         "12.877",
         "57.2",
         "Upper middle income",
         "736.5644000000001"
        ],
        [
         "4",
         "United Arab Emirates",
         "ARE",
         "11.044",
         "88.0",
         "High income",
         "971.8720000000001"
        ]
       ],
       "shape": {
        "columns": 6,
        "rows": 5
       }
      },
      "text/html": [
       "<div>\n",
       "<style scoped>\n",
       "    .dataframe tbody tr th:only-of-type {\n",
       "        vertical-align: middle;\n",
       "    }\n",
       "\n",
       "    .dataframe tbody tr th {\n",
       "        vertical-align: top;\n",
       "    }\n",
       "\n",
       "    .dataframe thead th {\n",
       "        text-align: right;\n",
       "    }\n",
       "</style>\n",
       "<table border=\"1\" class=\"dataframe\">\n",
       "  <thead>\n",
       "    <tr style=\"text-align: right;\">\n",
       "      <th></th>\n",
       "      <th>CountryName</th>\n",
       "      <th>CountryCode</th>\n",
       "      <th>BirthRate</th>\n",
       "      <th>InternetUsers</th>\n",
       "      <th>IncomeGroup</th>\n",
       "      <th>new</th>\n",
       "    </tr>\n",
       "  </thead>\n",
       "  <tbody>\n",
       "    <tr>\n",
       "      <th>0</th>\n",
       "      <td>Aruba</td>\n",
       "      <td>ABW</td>\n",
       "      <td>10.244</td>\n",
       "      <td>78.9</td>\n",
       "      <td>High income</td>\n",
       "      <td>808.2516</td>\n",
       "    </tr>\n",
       "    <tr>\n",
       "      <th>1</th>\n",
       "      <td>Afghanistan</td>\n",
       "      <td>AFG</td>\n",
       "      <td>35.253</td>\n",
       "      <td>5.9</td>\n",
       "      <td>Low income</td>\n",
       "      <td>207.9927</td>\n",
       "    </tr>\n",
       "    <tr>\n",
       "      <th>2</th>\n",
       "      <td>Angola</td>\n",
       "      <td>AGO</td>\n",
       "      <td>45.985</td>\n",
       "      <td>19.1</td>\n",
       "      <td>Upper middle income</td>\n",
       "      <td>878.3135</td>\n",
       "    </tr>\n",
       "    <tr>\n",
       "      <th>3</th>\n",
       "      <td>Albania</td>\n",
       "      <td>ALB</td>\n",
       "      <td>12.877</td>\n",
       "      <td>57.2</td>\n",
       "      <td>Upper middle income</td>\n",
       "      <td>736.5644</td>\n",
       "    </tr>\n",
       "    <tr>\n",
       "      <th>4</th>\n",
       "      <td>United Arab Emirates</td>\n",
       "      <td>ARE</td>\n",
       "      <td>11.044</td>\n",
       "      <td>88.0</td>\n",
       "      <td>High income</td>\n",
       "      <td>971.8720</td>\n",
       "    </tr>\n",
       "  </tbody>\n",
       "</table>\n",
       "</div>"
      ],
      "text/plain": [
       "            CountryName CountryCode  BirthRate  InternetUsers  \\\n",
       "0                 Aruba         ABW     10.244           78.9   \n",
       "1           Afghanistan         AFG     35.253            5.9   \n",
       "2                Angola         AGO     45.985           19.1   \n",
       "3               Albania         ALB     12.877           57.2   \n",
       "4  United Arab Emirates         ARE     11.044           88.0   \n",
       "\n",
       "           IncomeGroup       new  \n",
       "0          High income  808.2516  \n",
       "1           Low income  207.9927  \n",
       "2  Upper middle income  878.3135  \n",
       "3  Upper middle income  736.5644  \n",
       "4          High income  971.8720  "
      ]
     },
     "execution_count": 57,
     "metadata": {},
     "output_type": "execute_result"
    }
   ],
   "source": [
    "df.head()"
   ]
  },
  {
   "cell_type": "code",
   "execution_count": 58,
   "id": "a7e7147b",
   "metadata": {},
   "outputs": [],
   "source": [
    "df=df.drop('new',axis=1)"
   ]
  },
  {
   "cell_type": "code",
   "execution_count": 59,
   "id": "d1e268f9",
   "metadata": {},
   "outputs": [
    {
     "data": {
      "application/vnd.microsoft.datawrangler.viewer.v0+json": {
       "columns": [
        {
         "name": "index",
         "rawType": "int64",
         "type": "integer"
        },
        {
         "name": "CountryName",
         "rawType": "object",
         "type": "string"
        },
        {
         "name": "CountryCode",
         "rawType": "object",
         "type": "string"
        },
        {
         "name": "BirthRate",
         "rawType": "float64",
         "type": "float"
        },
        {
         "name": "InternetUsers",
         "rawType": "float64",
         "type": "float"
        },
        {
         "name": "IncomeGroup",
         "rawType": "object",
         "type": "string"
        }
       ],
       "ref": "f2a6b950-1717-47ce-8c21-331dd7f5298c",
       "rows": [
        [
         "0",
         "Aruba",
         "ABW",
         "10.244",
         "78.9",
         "High income"
        ],
        [
         "1",
         "Afghanistan",
         "AFG",
         "35.253",
         "5.9",
         "Low income"
        ],
        [
         "2",
         "Angola",
         "AGO",
         "45.985",
         "19.1",
         "Upper middle income"
        ],
        [
         "3",
         "Albania",
         "ALB",
         "12.877",
         "57.2",
         "Upper middle income"
        ],
        [
         "4",
         "United Arab Emirates",
         "ARE",
         "11.044",
         "88.0",
         "High income"
        ],
        [
         "5",
         "Argentina",
         "ARG",
         "17.716",
         "59.9",
         "High income"
        ],
        [
         "6",
         "Armenia",
         "ARM",
         "13.308",
         "41.9",
         "Lower middle income"
        ],
        [
         "7",
         "Antigua and Barbuda",
         "ATG",
         "16.447",
         "63.4",
         "High income"
        ],
        [
         "8",
         "Australia",
         "AUS",
         "13.2",
         "83.0",
         "High income"
        ],
        [
         "9",
         "Austria",
         "AUT",
         "9.4",
         "80.6188",
         "High income"
        ],
        [
         "10",
         "Azerbaijan",
         "AZE",
         "18.3",
         "58.7",
         "Upper middle income"
        ],
        [
         "11",
         "Burundi",
         "BDI",
         "44.151",
         "1.3",
         "Low income"
        ],
        [
         "12",
         "Belgium",
         "BEL",
         "11.2",
         "82.1702",
         "High income"
        ],
        [
         "13",
         "Benin",
         "BEN",
         "36.44",
         "4.9",
         "Low income"
        ],
        [
         "14",
         "Burkina Faso",
         "BFA",
         "40.551",
         "9.1",
         "Low income"
        ],
        [
         "15",
         "Bangladesh",
         "BGD",
         "20.142",
         "6.63",
         "Lower middle income"
        ],
        [
         "16",
         "Bulgaria",
         "BGR",
         "9.2",
         "53.0615",
         "Upper middle income"
        ],
        [
         "17",
         "Bahrain",
         "BHR",
         "15.04",
         "90.0000397",
         "High income"
        ],
        [
         "18",
         "Bahamas, The",
         "BHS",
         "15.339",
         "72.0",
         "High income"
        ],
        [
         "19",
         "Bosnia and Herzegovina",
         "BIH",
         "9.062",
         "57.79",
         "Upper middle income"
        ],
        [
         "20",
         "Belarus",
         "BLR",
         "12.5",
         "54.17",
         "Upper middle income"
        ],
        [
         "21",
         "Belize",
         "BLZ",
         "23.092",
         "33.6",
         "Upper middle income"
        ],
        [
         "22",
         "Bermuda",
         "BMU",
         "10.4",
         "95.3",
         "High income"
        ],
        [
         "23",
         "Bolivia",
         "BOL",
         "24.236",
         "36.94",
         "Lower middle income"
        ],
        [
         "24",
         "Brazil",
         "BRA",
         "14.931",
         "51.04",
         "Upper middle income"
        ],
        [
         "25",
         "Barbados",
         "BRB",
         "12.188",
         "73.0",
         "High income"
        ],
        [
         "26",
         "Brunei Darussalam",
         "BRN",
         "16.405",
         "64.5",
         "High income"
        ],
        [
         "27",
         "Bhutan",
         "BTN",
         "18.134",
         "29.9",
         "Lower middle income"
        ],
        [
         "28",
         "Botswana",
         "BWA",
         "25.267",
         "15.0",
         "Upper middle income"
        ],
        [
         "29",
         "Central African Republic",
         "CAF",
         "34.076",
         "3.5",
         "Low income"
        ],
        [
         "30",
         "Canada",
         "CAN",
         "10.9",
         "85.8",
         "High income"
        ],
        [
         "31",
         "Switzerland",
         "CHE",
         "10.2",
         "86.34",
         "High income"
        ],
        [
         "32",
         "Chile",
         "CHL",
         "13.385",
         "66.5",
         "High income"
        ],
        [
         "33",
         "China",
         "CHN",
         "12.1",
         "45.8",
         "Upper middle income"
        ],
        [
         "34",
         "Cote d'Ivoire",
         "CIV",
         "37.32",
         "8.4",
         "Lower middle income"
        ],
        [
         "35",
         "Cameroon",
         "CMR",
         "37.236",
         "6.4",
         "Lower middle income"
        ],
        [
         "36",
         "Congo, Rep.",
         "COG",
         "37.011",
         "6.6",
         "Lower middle income"
        ],
        [
         "37",
         "Colombia",
         "COL",
         "16.076",
         "51.7",
         "Upper middle income"
        ],
        [
         "38",
         "Comoros",
         "COM",
         "34.326",
         "6.5",
         "Low income"
        ],
        [
         "39",
         "Cabo Verde",
         "CPV",
         "21.625",
         "37.5",
         "Lower middle income"
        ],
        [
         "40",
         "Costa Rica",
         "CRI",
         "15.022",
         "45.96",
         "Upper middle income"
        ],
        [
         "41",
         "Cuba",
         "CUB",
         "10.4",
         "27.93",
         "Upper middle income"
        ],
        [
         "42",
         "Cayman Islands",
         "CYM",
         "12.5",
         "74.1",
         "High income"
        ],
        [
         "43",
         "Cyprus",
         "CYP",
         "11.436",
         "65.4548",
         "High income"
        ],
        [
         "44",
         "Czech Republic",
         "CZE",
         "10.2",
         "74.1104",
         "High income"
        ],
        [
         "45",
         "Germany",
         "DEU",
         "8.5",
         "84.17",
         "High income"
        ],
        [
         "46",
         "Djibouti",
         "DJI",
         "25.486",
         "9.5",
         "Lower middle income"
        ],
        [
         "47",
         "Denmark",
         "DNK",
         "10.0",
         "94.6297",
         "High income"
        ],
        [
         "48",
         "Dominican Republic",
         "DOM",
         "21.198",
         "45.9",
         "Upper middle income"
        ],
        [
         "49",
         "Algeria",
         "DZA",
         "24.738",
         "16.5",
         "Upper middle income"
        ]
       ],
       "shape": {
        "columns": 5,
        "rows": 195
       }
      },
      "text/html": [
       "<div>\n",
       "<style scoped>\n",
       "    .dataframe tbody tr th:only-of-type {\n",
       "        vertical-align: middle;\n",
       "    }\n",
       "\n",
       "    .dataframe tbody tr th {\n",
       "        vertical-align: top;\n",
       "    }\n",
       "\n",
       "    .dataframe thead th {\n",
       "        text-align: right;\n",
       "    }\n",
       "</style>\n",
       "<table border=\"1\" class=\"dataframe\">\n",
       "  <thead>\n",
       "    <tr style=\"text-align: right;\">\n",
       "      <th></th>\n",
       "      <th>CountryName</th>\n",
       "      <th>CountryCode</th>\n",
       "      <th>BirthRate</th>\n",
       "      <th>InternetUsers</th>\n",
       "      <th>IncomeGroup</th>\n",
       "    </tr>\n",
       "  </thead>\n",
       "  <tbody>\n",
       "    <tr>\n",
       "      <th>0</th>\n",
       "      <td>Aruba</td>\n",
       "      <td>ABW</td>\n",
       "      <td>10.244</td>\n",
       "      <td>78.9</td>\n",
       "      <td>High income</td>\n",
       "    </tr>\n",
       "    <tr>\n",
       "      <th>1</th>\n",
       "      <td>Afghanistan</td>\n",
       "      <td>AFG</td>\n",
       "      <td>35.253</td>\n",
       "      <td>5.9</td>\n",
       "      <td>Low income</td>\n",
       "    </tr>\n",
       "    <tr>\n",
       "      <th>2</th>\n",
       "      <td>Angola</td>\n",
       "      <td>AGO</td>\n",
       "      <td>45.985</td>\n",
       "      <td>19.1</td>\n",
       "      <td>Upper middle income</td>\n",
       "    </tr>\n",
       "    <tr>\n",
       "      <th>3</th>\n",
       "      <td>Albania</td>\n",
       "      <td>ALB</td>\n",
       "      <td>12.877</td>\n",
       "      <td>57.2</td>\n",
       "      <td>Upper middle income</td>\n",
       "    </tr>\n",
       "    <tr>\n",
       "      <th>4</th>\n",
       "      <td>United Arab Emirates</td>\n",
       "      <td>ARE</td>\n",
       "      <td>11.044</td>\n",
       "      <td>88.0</td>\n",
       "      <td>High income</td>\n",
       "    </tr>\n",
       "    <tr>\n",
       "      <th>...</th>\n",
       "      <td>...</td>\n",
       "      <td>...</td>\n",
       "      <td>...</td>\n",
       "      <td>...</td>\n",
       "      <td>...</td>\n",
       "    </tr>\n",
       "    <tr>\n",
       "      <th>190</th>\n",
       "      <td>Yemen, Rep.</td>\n",
       "      <td>YEM</td>\n",
       "      <td>32.947</td>\n",
       "      <td>20.0</td>\n",
       "      <td>Lower middle income</td>\n",
       "    </tr>\n",
       "    <tr>\n",
       "      <th>191</th>\n",
       "      <td>South Africa</td>\n",
       "      <td>ZAF</td>\n",
       "      <td>20.850</td>\n",
       "      <td>46.5</td>\n",
       "      <td>Upper middle income</td>\n",
       "    </tr>\n",
       "    <tr>\n",
       "      <th>192</th>\n",
       "      <td>Congo, Dem. Rep.</td>\n",
       "      <td>COD</td>\n",
       "      <td>42.394</td>\n",
       "      <td>2.2</td>\n",
       "      <td>Low income</td>\n",
       "    </tr>\n",
       "    <tr>\n",
       "      <th>193</th>\n",
       "      <td>Zambia</td>\n",
       "      <td>ZMB</td>\n",
       "      <td>40.471</td>\n",
       "      <td>15.4</td>\n",
       "      <td>Lower middle income</td>\n",
       "    </tr>\n",
       "    <tr>\n",
       "      <th>194</th>\n",
       "      <td>Zimbabwe</td>\n",
       "      <td>ZWE</td>\n",
       "      <td>35.715</td>\n",
       "      <td>18.5</td>\n",
       "      <td>Low income</td>\n",
       "    </tr>\n",
       "  </tbody>\n",
       "</table>\n",
       "<p>195 rows × 5 columns</p>\n",
       "</div>"
      ],
      "text/plain": [
       "              CountryName CountryCode  BirthRate  InternetUsers  \\\n",
       "0                   Aruba         ABW     10.244           78.9   \n",
       "1             Afghanistan         AFG     35.253            5.9   \n",
       "2                  Angola         AGO     45.985           19.1   \n",
       "3                 Albania         ALB     12.877           57.2   \n",
       "4    United Arab Emirates         ARE     11.044           88.0   \n",
       "..                    ...         ...        ...            ...   \n",
       "190           Yemen, Rep.         YEM     32.947           20.0   \n",
       "191          South Africa         ZAF     20.850           46.5   \n",
       "192      Congo, Dem. Rep.         COD     42.394            2.2   \n",
       "193                Zambia         ZMB     40.471           15.4   \n",
       "194              Zimbabwe         ZWE     35.715           18.5   \n",
       "\n",
       "             IncomeGroup  \n",
       "0            High income  \n",
       "1             Low income  \n",
       "2    Upper middle income  \n",
       "3    Upper middle income  \n",
       "4            High income  \n",
       "..                   ...  \n",
       "190  Lower middle income  \n",
       "191  Upper middle income  \n",
       "192           Low income  \n",
       "193  Lower middle income  \n",
       "194           Low income  \n",
       "\n",
       "[195 rows x 5 columns]"
      ]
     },
     "execution_count": 59,
     "metadata": {},
     "output_type": "execute_result"
    }
   ],
   "source": [
    "df"
   ]
  },
  {
   "cell_type": "code",
   "execution_count": 60,
   "id": "15aa5057",
   "metadata": {},
   "outputs": [
    {
     "data": {
      "text/plain": [
       "Index(['CountryName', 'CountryCode', 'BirthRate', 'InternetUsers',\n",
       "       'IncomeGroup'],\n",
       "      dtype='object')"
      ]
     },
     "execution_count": 60,
     "metadata": {},
     "output_type": "execute_result"
    }
   ],
   "source": [
    "df.columns"
   ]
  },
  {
   "cell_type": "code",
   "execution_count": 61,
   "id": "dbcfbfb7",
   "metadata": {},
   "outputs": [
    {
     "data": {
      "application/vnd.microsoft.datawrangler.viewer.v0+json": {
       "columns": [
        {
         "name": "index",
         "rawType": "int64",
         "type": "integer"
        },
        {
         "name": "BirthRate",
         "rawType": "bool",
         "type": "boolean"
        }
       ],
       "ref": "9682e44f-86a2-413c-ac8b-3b6766124509",
       "rows": [
        [
         "0",
         "True"
        ],
        [
         "1",
         "True"
        ],
        [
         "2",
         "True"
        ],
        [
         "3",
         "True"
        ],
        [
         "4",
         "True"
        ],
        [
         "5",
         "True"
        ],
        [
         "6",
         "True"
        ],
        [
         "7",
         "True"
        ],
        [
         "8",
         "True"
        ],
        [
         "9",
         "True"
        ],
        [
         "10",
         "True"
        ],
        [
         "11",
         "True"
        ],
        [
         "12",
         "True"
        ],
        [
         "13",
         "True"
        ],
        [
         "14",
         "True"
        ],
        [
         "15",
         "True"
        ],
        [
         "16",
         "True"
        ],
        [
         "17",
         "True"
        ],
        [
         "18",
         "True"
        ],
        [
         "19",
         "True"
        ],
        [
         "20",
         "True"
        ],
        [
         "21",
         "True"
        ],
        [
         "22",
         "True"
        ],
        [
         "23",
         "True"
        ],
        [
         "24",
         "True"
        ],
        [
         "25",
         "True"
        ],
        [
         "26",
         "True"
        ],
        [
         "27",
         "True"
        ],
        [
         "28",
         "True"
        ],
        [
         "29",
         "True"
        ],
        [
         "30",
         "True"
        ],
        [
         "31",
         "True"
        ],
        [
         "32",
         "True"
        ],
        [
         "33",
         "True"
        ],
        [
         "34",
         "True"
        ],
        [
         "35",
         "True"
        ],
        [
         "36",
         "True"
        ],
        [
         "37",
         "True"
        ],
        [
         "38",
         "True"
        ],
        [
         "39",
         "True"
        ],
        [
         "40",
         "True"
        ],
        [
         "41",
         "True"
        ],
        [
         "42",
         "True"
        ],
        [
         "43",
         "True"
        ],
        [
         "44",
         "True"
        ],
        [
         "45",
         "True"
        ],
        [
         "46",
         "True"
        ],
        [
         "47",
         "True"
        ],
        [
         "48",
         "True"
        ],
        [
         "49",
         "True"
        ]
       ],
       "shape": {
        "columns": 1,
        "rows": 195
       }
      },
      "text/plain": [
       "0      True\n",
       "1      True\n",
       "2      True\n",
       "3      True\n",
       "4      True\n",
       "       ... \n",
       "190    True\n",
       "191    True\n",
       "192    True\n",
       "193    True\n",
       "194    True\n",
       "Name: BirthRate, Length: 195, dtype: bool"
      ]
     },
     "execution_count": 61,
     "metadata": {},
     "output_type": "execute_result"
    }
   ],
   "source": [
    "df.BirthRate>2"
   ]
  },
  {
   "cell_type": "code",
   "execution_count": 62,
   "id": "1345ea89",
   "metadata": {},
   "outputs": [
    {
     "data": {
      "application/vnd.microsoft.datawrangler.viewer.v0+json": {
       "columns": [
        {
         "name": "index",
         "rawType": "int64",
         "type": "integer"
        },
        {
         "name": "BirthRate",
         "rawType": "bool",
         "type": "boolean"
        }
       ],
       "ref": "833d2f2b-9ca3-4451-8dfa-fd7347e60a9a",
       "rows": [
        [
         "0",
         "False"
        ],
        [
         "1",
         "False"
        ],
        [
         "2",
         "False"
        ],
        [
         "3",
         "False"
        ],
        [
         "4",
         "False"
        ],
        [
         "5",
         "False"
        ],
        [
         "6",
         "False"
        ],
        [
         "7",
         "False"
        ],
        [
         "8",
         "False"
        ],
        [
         "9",
         "False"
        ],
        [
         "10",
         "False"
        ],
        [
         "11",
         "False"
        ],
        [
         "12",
         "False"
        ],
        [
         "13",
         "False"
        ],
        [
         "14",
         "False"
        ],
        [
         "15",
         "False"
        ],
        [
         "16",
         "False"
        ],
        [
         "17",
         "False"
        ],
        [
         "18",
         "False"
        ],
        [
         "19",
         "False"
        ],
        [
         "20",
         "False"
        ],
        [
         "21",
         "False"
        ],
        [
         "22",
         "False"
        ],
        [
         "23",
         "False"
        ],
        [
         "24",
         "False"
        ],
        [
         "25",
         "False"
        ],
        [
         "26",
         "False"
        ],
        [
         "27",
         "False"
        ],
        [
         "28",
         "False"
        ],
        [
         "29",
         "False"
        ],
        [
         "30",
         "False"
        ],
        [
         "31",
         "False"
        ],
        [
         "32",
         "False"
        ],
        [
         "33",
         "False"
        ],
        [
         "34",
         "False"
        ],
        [
         "35",
         "False"
        ],
        [
         "36",
         "False"
        ],
        [
         "37",
         "False"
        ],
        [
         "38",
         "False"
        ],
        [
         "39",
         "False"
        ],
        [
         "40",
         "False"
        ],
        [
         "41",
         "False"
        ],
        [
         "42",
         "False"
        ],
        [
         "43",
         "False"
        ],
        [
         "44",
         "False"
        ],
        [
         "45",
         "False"
        ],
        [
         "46",
         "False"
        ],
        [
         "47",
         "False"
        ],
        [
         "48",
         "False"
        ],
        [
         "49",
         "False"
        ]
       ],
       "shape": {
        "columns": 1,
        "rows": 195
       }
      },
      "text/plain": [
       "0      False\n",
       "1      False\n",
       "2      False\n",
       "3      False\n",
       "4      False\n",
       "       ...  \n",
       "190    False\n",
       "191    False\n",
       "192    False\n",
       "193    False\n",
       "194    False\n",
       "Name: BirthRate, Length: 195, dtype: bool"
      ]
     },
     "execution_count": 62,
     "metadata": {},
     "output_type": "execute_result"
    }
   ],
   "source": [
    "df.BirthRate<2"
   ]
  },
  {
   "cell_type": "code",
   "execution_count": 63,
   "id": "e8e3e0f2",
   "metadata": {},
   "outputs": [
    {
     "data": {
      "application/vnd.microsoft.datawrangler.viewer.v0+json": {
       "columns": [
        {
         "name": "index",
         "rawType": "int64",
         "type": "integer"
        },
        {
         "name": "0",
         "rawType": "bool",
         "type": "boolean"
        }
       ],
       "ref": "34f7a60a-7c77-42e4-983f-56e8e5cdb493",
       "rows": [
        [
         "0",
         "True"
        ],
        [
         "1",
         "True"
        ],
        [
         "2",
         "True"
        ],
        [
         "3",
         "True"
        ],
        [
         "4",
         "True"
        ],
        [
         "5",
         "True"
        ],
        [
         "6",
         "True"
        ],
        [
         "7",
         "True"
        ],
        [
         "8",
         "True"
        ],
        [
         "9",
         "True"
        ],
        [
         "10",
         "True"
        ],
        [
         "11",
         "True"
        ],
        [
         "12",
         "True"
        ],
        [
         "13",
         "True"
        ],
        [
         "14",
         "True"
        ],
        [
         "15",
         "True"
        ],
        [
         "16",
         "True"
        ],
        [
         "17",
         "True"
        ],
        [
         "18",
         "True"
        ],
        [
         "19",
         "True"
        ],
        [
         "20",
         "True"
        ],
        [
         "21",
         "True"
        ],
        [
         "22",
         "True"
        ],
        [
         "23",
         "True"
        ],
        [
         "24",
         "True"
        ],
        [
         "25",
         "True"
        ],
        [
         "26",
         "True"
        ],
        [
         "27",
         "True"
        ],
        [
         "28",
         "True"
        ],
        [
         "29",
         "True"
        ],
        [
         "30",
         "True"
        ],
        [
         "31",
         "True"
        ],
        [
         "32",
         "True"
        ],
        [
         "33",
         "True"
        ],
        [
         "34",
         "True"
        ],
        [
         "35",
         "True"
        ],
        [
         "36",
         "True"
        ],
        [
         "37",
         "True"
        ],
        [
         "38",
         "True"
        ],
        [
         "39",
         "True"
        ],
        [
         "40",
         "True"
        ],
        [
         "41",
         "True"
        ],
        [
         "42",
         "True"
        ],
        [
         "43",
         "True"
        ],
        [
         "44",
         "True"
        ],
        [
         "45",
         "True"
        ],
        [
         "46",
         "True"
        ],
        [
         "47",
         "True"
        ],
        [
         "48",
         "True"
        ],
        [
         "49",
         "True"
        ]
       ],
       "shape": {
        "columns": 1,
        "rows": 195
       }
      },
      "text/plain": [
       "0      True\n",
       "1      True\n",
       "2      True\n",
       "3      True\n",
       "4      True\n",
       "       ... \n",
       "190    True\n",
       "191    True\n",
       "192    True\n",
       "193    True\n",
       "194    True\n",
       "Length: 195, dtype: bool"
      ]
     },
     "execution_count": 63,
     "metadata": {},
     "output_type": "execute_result"
    }
   ],
   "source": [
    "df.BirthRate*df.InternetUsers>2"
   ]
  },
  {
   "cell_type": "code",
   "execution_count": 64,
   "id": "87f1b426",
   "metadata": {},
   "outputs": [],
   "source": [
    "Filter=df.BirthRate*df.InternetUsers<2"
   ]
  },
  {
   "cell_type": "code",
   "execution_count": 65,
   "id": "d196defb",
   "metadata": {},
   "outputs": [
    {
     "data": {
      "application/vnd.microsoft.datawrangler.viewer.v0+json": {
       "columns": [
        {
         "name": "index",
         "rawType": "int64",
         "type": "integer"
        },
        {
         "name": "0",
         "rawType": "bool",
         "type": "boolean"
        }
       ],
       "ref": "168eb34d-d62a-46bd-ac8c-173aa4aac93f",
       "rows": [
        [
         "0",
         "False"
        ],
        [
         "1",
         "False"
        ],
        [
         "2",
         "False"
        ],
        [
         "3",
         "False"
        ],
        [
         "4",
         "False"
        ],
        [
         "5",
         "False"
        ],
        [
         "6",
         "False"
        ],
        [
         "7",
         "False"
        ],
        [
         "8",
         "False"
        ],
        [
         "9",
         "False"
        ],
        [
         "10",
         "False"
        ],
        [
         "11",
         "False"
        ],
        [
         "12",
         "False"
        ],
        [
         "13",
         "False"
        ],
        [
         "14",
         "False"
        ],
        [
         "15",
         "False"
        ],
        [
         "16",
         "False"
        ],
        [
         "17",
         "False"
        ],
        [
         "18",
         "False"
        ],
        [
         "19",
         "False"
        ],
        [
         "20",
         "False"
        ],
        [
         "21",
         "False"
        ],
        [
         "22",
         "False"
        ],
        [
         "23",
         "False"
        ],
        [
         "24",
         "False"
        ],
        [
         "25",
         "False"
        ],
        [
         "26",
         "False"
        ],
        [
         "27",
         "False"
        ],
        [
         "28",
         "False"
        ],
        [
         "29",
         "False"
        ],
        [
         "30",
         "False"
        ],
        [
         "31",
         "False"
        ],
        [
         "32",
         "False"
        ],
        [
         "33",
         "False"
        ],
        [
         "34",
         "False"
        ],
        [
         "35",
         "False"
        ],
        [
         "36",
         "False"
        ],
        [
         "37",
         "False"
        ],
        [
         "38",
         "False"
        ],
        [
         "39",
         "False"
        ],
        [
         "40",
         "False"
        ],
        [
         "41",
         "False"
        ],
        [
         "42",
         "False"
        ],
        [
         "43",
         "False"
        ],
        [
         "44",
         "False"
        ],
        [
         "45",
         "False"
        ],
        [
         "46",
         "False"
        ],
        [
         "47",
         "False"
        ],
        [
         "48",
         "False"
        ],
        [
         "49",
         "False"
        ]
       ],
       "shape": {
        "columns": 1,
        "rows": 195
       }
      },
      "text/plain": [
       "0      False\n",
       "1      False\n",
       "2      False\n",
       "3      False\n",
       "4      False\n",
       "       ...  \n",
       "190    False\n",
       "191    False\n",
       "192    False\n",
       "193    False\n",
       "194    False\n",
       "Length: 195, dtype: bool"
      ]
     },
     "execution_count": 65,
     "metadata": {},
     "output_type": "execute_result"
    }
   ],
   "source": [
    "Filter"
   ]
  },
  {
   "cell_type": "code",
   "execution_count": 66,
   "id": "01aef301",
   "metadata": {},
   "outputs": [
    {
     "data": {
      "application/vnd.microsoft.datawrangler.viewer.v0+json": {
       "columns": [
        {
         "name": "index",
         "rawType": "int64",
         "type": "integer"
        },
        {
         "name": "CountryName",
         "rawType": "object",
         "type": "string"
        },
        {
         "name": "CountryCode",
         "rawType": "object",
         "type": "string"
        },
        {
         "name": "BirthRate",
         "rawType": "float64",
         "type": "float"
        },
        {
         "name": "InternetUsers",
         "rawType": "float64",
         "type": "float"
        },
        {
         "name": "IncomeGroup",
         "rawType": "object",
         "type": "string"
        }
       ],
       "ref": "f1058406-17a4-49e6-b069-7f70976edf27",
       "rows": [],
       "shape": {
        "columns": 5,
        "rows": 0
       }
      },
      "text/html": [
       "<div>\n",
       "<style scoped>\n",
       "    .dataframe tbody tr th:only-of-type {\n",
       "        vertical-align: middle;\n",
       "    }\n",
       "\n",
       "    .dataframe tbody tr th {\n",
       "        vertical-align: top;\n",
       "    }\n",
       "\n",
       "    .dataframe thead th {\n",
       "        text-align: right;\n",
       "    }\n",
       "</style>\n",
       "<table border=\"1\" class=\"dataframe\">\n",
       "  <thead>\n",
       "    <tr style=\"text-align: right;\">\n",
       "      <th></th>\n",
       "      <th>CountryName</th>\n",
       "      <th>CountryCode</th>\n",
       "      <th>BirthRate</th>\n",
       "      <th>InternetUsers</th>\n",
       "      <th>IncomeGroup</th>\n",
       "    </tr>\n",
       "  </thead>\n",
       "  <tbody>\n",
       "  </tbody>\n",
       "</table>\n",
       "</div>"
      ],
      "text/plain": [
       "Empty DataFrame\n",
       "Columns: [CountryName, CountryCode, BirthRate, InternetUsers, IncomeGroup]\n",
       "Index: []"
      ]
     },
     "execution_count": 66,
     "metadata": {},
     "output_type": "execute_result"
    }
   ],
   "source": [
    "df[Filter]"
   ]
  },
  {
   "cell_type": "code",
   "execution_count": 67,
   "id": "14282df9",
   "metadata": {},
   "outputs": [
    {
     "data": {
      "application/vnd.microsoft.datawrangler.viewer.v0+json": {
       "columns": [
        {
         "name": "index",
         "rawType": "int64",
         "type": "integer"
        },
        {
         "name": "0",
         "rawType": "bool",
         "type": "boolean"
        }
       ],
       "ref": "bb13d309-33fe-4056-b144-c0275fa48b64",
       "rows": [
        [
         "0",
         "True"
        ],
        [
         "1",
         "True"
        ],
        [
         "2",
         "True"
        ],
        [
         "3",
         "True"
        ],
        [
         "4",
         "True"
        ],
        [
         "5",
         "True"
        ],
        [
         "6",
         "True"
        ],
        [
         "7",
         "True"
        ],
        [
         "8",
         "True"
        ],
        [
         "9",
         "True"
        ],
        [
         "10",
         "True"
        ],
        [
         "11",
         "True"
        ],
        [
         "12",
         "True"
        ],
        [
         "13",
         "True"
        ],
        [
         "14",
         "True"
        ],
        [
         "15",
         "True"
        ],
        [
         "16",
         "True"
        ],
        [
         "17",
         "True"
        ],
        [
         "18",
         "True"
        ],
        [
         "19",
         "True"
        ],
        [
         "20",
         "True"
        ],
        [
         "21",
         "True"
        ],
        [
         "22",
         "True"
        ],
        [
         "23",
         "True"
        ],
        [
         "24",
         "True"
        ],
        [
         "25",
         "True"
        ],
        [
         "26",
         "True"
        ],
        [
         "27",
         "True"
        ],
        [
         "28",
         "True"
        ],
        [
         "29",
         "True"
        ],
        [
         "30",
         "True"
        ],
        [
         "31",
         "True"
        ],
        [
         "32",
         "True"
        ],
        [
         "33",
         "True"
        ],
        [
         "34",
         "True"
        ],
        [
         "35",
         "True"
        ],
        [
         "36",
         "True"
        ],
        [
         "37",
         "True"
        ],
        [
         "38",
         "True"
        ],
        [
         "39",
         "True"
        ],
        [
         "40",
         "True"
        ],
        [
         "41",
         "True"
        ],
        [
         "42",
         "True"
        ],
        [
         "43",
         "True"
        ],
        [
         "44",
         "True"
        ],
        [
         "45",
         "True"
        ],
        [
         "46",
         "True"
        ],
        [
         "47",
         "True"
        ],
        [
         "48",
         "True"
        ],
        [
         "49",
         "True"
        ]
       ],
       "shape": {
        "columns": 1,
        "rows": 195
       }
      },
      "text/plain": [
       "0      True\n",
       "1      True\n",
       "2      True\n",
       "3      True\n",
       "4      True\n",
       "       ... \n",
       "190    True\n",
       "191    True\n",
       "192    True\n",
       "193    True\n",
       "194    True\n",
       "Length: 195, dtype: bool"
      ]
     },
     "execution_count": 67,
     "metadata": {},
     "output_type": "execute_result"
    }
   ],
   "source": [
    "df.BirthRate*df.InternetUsers>40"
   ]
  },
  {
   "cell_type": "code",
   "execution_count": 68,
   "id": "2566caa9",
   "metadata": {},
   "outputs": [],
   "source": [
    "Filter2=df.BirthRate*df.InternetUsers>40"
   ]
  },
  {
   "cell_type": "code",
   "execution_count": 69,
   "id": "6d3e0d30",
   "metadata": {},
   "outputs": [
    {
     "data": {
      "application/vnd.microsoft.datawrangler.viewer.v0+json": {
       "columns": [
        {
         "name": "index",
         "rawType": "int64",
         "type": "integer"
        },
        {
         "name": "0",
         "rawType": "bool",
         "type": "boolean"
        }
       ],
       "ref": "35bcb16d-9f36-4ebf-96ad-66711837d074",
       "rows": [
        [
         "0",
         "True"
        ],
        [
         "1",
         "True"
        ],
        [
         "2",
         "True"
        ],
        [
         "3",
         "True"
        ],
        [
         "4",
         "True"
        ],
        [
         "5",
         "True"
        ],
        [
         "6",
         "True"
        ],
        [
         "7",
         "True"
        ],
        [
         "8",
         "True"
        ],
        [
         "9",
         "True"
        ],
        [
         "10",
         "True"
        ],
        [
         "11",
         "True"
        ],
        [
         "12",
         "True"
        ],
        [
         "13",
         "True"
        ],
        [
         "14",
         "True"
        ],
        [
         "15",
         "True"
        ],
        [
         "16",
         "True"
        ],
        [
         "17",
         "True"
        ],
        [
         "18",
         "True"
        ],
        [
         "19",
         "True"
        ],
        [
         "20",
         "True"
        ],
        [
         "21",
         "True"
        ],
        [
         "22",
         "True"
        ],
        [
         "23",
         "True"
        ],
        [
         "24",
         "True"
        ],
        [
         "25",
         "True"
        ],
        [
         "26",
         "True"
        ],
        [
         "27",
         "True"
        ],
        [
         "28",
         "True"
        ],
        [
         "29",
         "True"
        ],
        [
         "30",
         "True"
        ],
        [
         "31",
         "True"
        ],
        [
         "32",
         "True"
        ],
        [
         "33",
         "True"
        ],
        [
         "34",
         "True"
        ],
        [
         "35",
         "True"
        ],
        [
         "36",
         "True"
        ],
        [
         "37",
         "True"
        ],
        [
         "38",
         "True"
        ],
        [
         "39",
         "True"
        ],
        [
         "40",
         "True"
        ],
        [
         "41",
         "True"
        ],
        [
         "42",
         "True"
        ],
        [
         "43",
         "True"
        ],
        [
         "44",
         "True"
        ],
        [
         "45",
         "True"
        ],
        [
         "46",
         "True"
        ],
        [
         "47",
         "True"
        ],
        [
         "48",
         "True"
        ],
        [
         "49",
         "True"
        ]
       ],
       "shape": {
        "columns": 1,
        "rows": 195
       }
      },
      "text/plain": [
       "0      True\n",
       "1      True\n",
       "2      True\n",
       "3      True\n",
       "4      True\n",
       "       ... \n",
       "190    True\n",
       "191    True\n",
       "192    True\n",
       "193    True\n",
       "194    True\n",
       "Length: 195, dtype: bool"
      ]
     },
     "execution_count": 69,
     "metadata": {},
     "output_type": "execute_result"
    }
   ],
   "source": [
    "Filter2"
   ]
  },
  {
   "cell_type": "code",
   "execution_count": 70,
   "id": "bf690e5a",
   "metadata": {},
   "outputs": [
    {
     "data": {
      "application/vnd.microsoft.datawrangler.viewer.v0+json": {
       "columns": [
        {
         "name": "index",
         "rawType": "int64",
         "type": "integer"
        },
        {
         "name": "CountryName",
         "rawType": "object",
         "type": "string"
        },
        {
         "name": "CountryCode",
         "rawType": "object",
         "type": "string"
        },
        {
         "name": "BirthRate",
         "rawType": "float64",
         "type": "float"
        },
        {
         "name": "InternetUsers",
         "rawType": "float64",
         "type": "float"
        },
        {
         "name": "IncomeGroup",
         "rawType": "object",
         "type": "string"
        }
       ],
       "ref": "d31bb8cf-063b-4471-aae2-63ba7c0eb7fb",
       "rows": [
        [
         "0",
         "Aruba",
         "ABW",
         "10.244",
         "78.9",
         "High income"
        ],
        [
         "1",
         "Afghanistan",
         "AFG",
         "35.253",
         "5.9",
         "Low income"
        ],
        [
         "2",
         "Angola",
         "AGO",
         "45.985",
         "19.1",
         "Upper middle income"
        ],
        [
         "3",
         "Albania",
         "ALB",
         "12.877",
         "57.2",
         "Upper middle income"
        ],
        [
         "4",
         "United Arab Emirates",
         "ARE",
         "11.044",
         "88.0",
         "High income"
        ],
        [
         "5",
         "Argentina",
         "ARG",
         "17.716",
         "59.9",
         "High income"
        ],
        [
         "6",
         "Armenia",
         "ARM",
         "13.308",
         "41.9",
         "Lower middle income"
        ],
        [
         "7",
         "Antigua and Barbuda",
         "ATG",
         "16.447",
         "63.4",
         "High income"
        ],
        [
         "8",
         "Australia",
         "AUS",
         "13.2",
         "83.0",
         "High income"
        ],
        [
         "9",
         "Austria",
         "AUT",
         "9.4",
         "80.6188",
         "High income"
        ],
        [
         "10",
         "Azerbaijan",
         "AZE",
         "18.3",
         "58.7",
         "Upper middle income"
        ],
        [
         "11",
         "Burundi",
         "BDI",
         "44.151",
         "1.3",
         "Low income"
        ],
        [
         "12",
         "Belgium",
         "BEL",
         "11.2",
         "82.1702",
         "High income"
        ],
        [
         "13",
         "Benin",
         "BEN",
         "36.44",
         "4.9",
         "Low income"
        ],
        [
         "14",
         "Burkina Faso",
         "BFA",
         "40.551",
         "9.1",
         "Low income"
        ],
        [
         "15",
         "Bangladesh",
         "BGD",
         "20.142",
         "6.63",
         "Lower middle income"
        ],
        [
         "16",
         "Bulgaria",
         "BGR",
         "9.2",
         "53.0615",
         "Upper middle income"
        ],
        [
         "17",
         "Bahrain",
         "BHR",
         "15.04",
         "90.0000397",
         "High income"
        ],
        [
         "18",
         "Bahamas, The",
         "BHS",
         "15.339",
         "72.0",
         "High income"
        ],
        [
         "19",
         "Bosnia and Herzegovina",
         "BIH",
         "9.062",
         "57.79",
         "Upper middle income"
        ],
        [
         "20",
         "Belarus",
         "BLR",
         "12.5",
         "54.17",
         "Upper middle income"
        ],
        [
         "21",
         "Belize",
         "BLZ",
         "23.092",
         "33.6",
         "Upper middle income"
        ],
        [
         "22",
         "Bermuda",
         "BMU",
         "10.4",
         "95.3",
         "High income"
        ],
        [
         "23",
         "Bolivia",
         "BOL",
         "24.236",
         "36.94",
         "Lower middle income"
        ],
        [
         "24",
         "Brazil",
         "BRA",
         "14.931",
         "51.04",
         "Upper middle income"
        ],
        [
         "25",
         "Barbados",
         "BRB",
         "12.188",
         "73.0",
         "High income"
        ],
        [
         "26",
         "Brunei Darussalam",
         "BRN",
         "16.405",
         "64.5",
         "High income"
        ],
        [
         "27",
         "Bhutan",
         "BTN",
         "18.134",
         "29.9",
         "Lower middle income"
        ],
        [
         "28",
         "Botswana",
         "BWA",
         "25.267",
         "15.0",
         "Upper middle income"
        ],
        [
         "29",
         "Central African Republic",
         "CAF",
         "34.076",
         "3.5",
         "Low income"
        ],
        [
         "30",
         "Canada",
         "CAN",
         "10.9",
         "85.8",
         "High income"
        ],
        [
         "31",
         "Switzerland",
         "CHE",
         "10.2",
         "86.34",
         "High income"
        ],
        [
         "32",
         "Chile",
         "CHL",
         "13.385",
         "66.5",
         "High income"
        ],
        [
         "33",
         "China",
         "CHN",
         "12.1",
         "45.8",
         "Upper middle income"
        ],
        [
         "34",
         "Cote d'Ivoire",
         "CIV",
         "37.32",
         "8.4",
         "Lower middle income"
        ],
        [
         "35",
         "Cameroon",
         "CMR",
         "37.236",
         "6.4",
         "Lower middle income"
        ],
        [
         "36",
         "Congo, Rep.",
         "COG",
         "37.011",
         "6.6",
         "Lower middle income"
        ],
        [
         "37",
         "Colombia",
         "COL",
         "16.076",
         "51.7",
         "Upper middle income"
        ],
        [
         "38",
         "Comoros",
         "COM",
         "34.326",
         "6.5",
         "Low income"
        ],
        [
         "39",
         "Cabo Verde",
         "CPV",
         "21.625",
         "37.5",
         "Lower middle income"
        ],
        [
         "40",
         "Costa Rica",
         "CRI",
         "15.022",
         "45.96",
         "Upper middle income"
        ],
        [
         "41",
         "Cuba",
         "CUB",
         "10.4",
         "27.93",
         "Upper middle income"
        ],
        [
         "42",
         "Cayman Islands",
         "CYM",
         "12.5",
         "74.1",
         "High income"
        ],
        [
         "43",
         "Cyprus",
         "CYP",
         "11.436",
         "65.4548",
         "High income"
        ],
        [
         "44",
         "Czech Republic",
         "CZE",
         "10.2",
         "74.1104",
         "High income"
        ],
        [
         "45",
         "Germany",
         "DEU",
         "8.5",
         "84.17",
         "High income"
        ],
        [
         "46",
         "Djibouti",
         "DJI",
         "25.486",
         "9.5",
         "Lower middle income"
        ],
        [
         "47",
         "Denmark",
         "DNK",
         "10.0",
         "94.6297",
         "High income"
        ],
        [
         "48",
         "Dominican Republic",
         "DOM",
         "21.198",
         "45.9",
         "Upper middle income"
        ],
        [
         "49",
         "Algeria",
         "DZA",
         "24.738",
         "16.5",
         "Upper middle income"
        ]
       ],
       "shape": {
        "columns": 5,
        "rows": 192
       }
      },
      "text/html": [
       "<div>\n",
       "<style scoped>\n",
       "    .dataframe tbody tr th:only-of-type {\n",
       "        vertical-align: middle;\n",
       "    }\n",
       "\n",
       "    .dataframe tbody tr th {\n",
       "        vertical-align: top;\n",
       "    }\n",
       "\n",
       "    .dataframe thead th {\n",
       "        text-align: right;\n",
       "    }\n",
       "</style>\n",
       "<table border=\"1\" class=\"dataframe\">\n",
       "  <thead>\n",
       "    <tr style=\"text-align: right;\">\n",
       "      <th></th>\n",
       "      <th>CountryName</th>\n",
       "      <th>CountryCode</th>\n",
       "      <th>BirthRate</th>\n",
       "      <th>InternetUsers</th>\n",
       "      <th>IncomeGroup</th>\n",
       "    </tr>\n",
       "  </thead>\n",
       "  <tbody>\n",
       "    <tr>\n",
       "      <th>0</th>\n",
       "      <td>Aruba</td>\n",
       "      <td>ABW</td>\n",
       "      <td>10.244</td>\n",
       "      <td>78.9</td>\n",
       "      <td>High income</td>\n",
       "    </tr>\n",
       "    <tr>\n",
       "      <th>1</th>\n",
       "      <td>Afghanistan</td>\n",
       "      <td>AFG</td>\n",
       "      <td>35.253</td>\n",
       "      <td>5.9</td>\n",
       "      <td>Low income</td>\n",
       "    </tr>\n",
       "    <tr>\n",
       "      <th>2</th>\n",
       "      <td>Angola</td>\n",
       "      <td>AGO</td>\n",
       "      <td>45.985</td>\n",
       "      <td>19.1</td>\n",
       "      <td>Upper middle income</td>\n",
       "    </tr>\n",
       "    <tr>\n",
       "      <th>3</th>\n",
       "      <td>Albania</td>\n",
       "      <td>ALB</td>\n",
       "      <td>12.877</td>\n",
       "      <td>57.2</td>\n",
       "      <td>Upper middle income</td>\n",
       "    </tr>\n",
       "    <tr>\n",
       "      <th>4</th>\n",
       "      <td>United Arab Emirates</td>\n",
       "      <td>ARE</td>\n",
       "      <td>11.044</td>\n",
       "      <td>88.0</td>\n",
       "      <td>High income</td>\n",
       "    </tr>\n",
       "    <tr>\n",
       "      <th>...</th>\n",
       "      <td>...</td>\n",
       "      <td>...</td>\n",
       "      <td>...</td>\n",
       "      <td>...</td>\n",
       "      <td>...</td>\n",
       "    </tr>\n",
       "    <tr>\n",
       "      <th>190</th>\n",
       "      <td>Yemen, Rep.</td>\n",
       "      <td>YEM</td>\n",
       "      <td>32.947</td>\n",
       "      <td>20.0</td>\n",
       "      <td>Lower middle income</td>\n",
       "    </tr>\n",
       "    <tr>\n",
       "      <th>191</th>\n",
       "      <td>South Africa</td>\n",
       "      <td>ZAF</td>\n",
       "      <td>20.850</td>\n",
       "      <td>46.5</td>\n",
       "      <td>Upper middle income</td>\n",
       "    </tr>\n",
       "    <tr>\n",
       "      <th>192</th>\n",
       "      <td>Congo, Dem. Rep.</td>\n",
       "      <td>COD</td>\n",
       "      <td>42.394</td>\n",
       "      <td>2.2</td>\n",
       "      <td>Low income</td>\n",
       "    </tr>\n",
       "    <tr>\n",
       "      <th>193</th>\n",
       "      <td>Zambia</td>\n",
       "      <td>ZMB</td>\n",
       "      <td>40.471</td>\n",
       "      <td>15.4</td>\n",
       "      <td>Lower middle income</td>\n",
       "    </tr>\n",
       "    <tr>\n",
       "      <th>194</th>\n",
       "      <td>Zimbabwe</td>\n",
       "      <td>ZWE</td>\n",
       "      <td>35.715</td>\n",
       "      <td>18.5</td>\n",
       "      <td>Low income</td>\n",
       "    </tr>\n",
       "  </tbody>\n",
       "</table>\n",
       "<p>192 rows × 5 columns</p>\n",
       "</div>"
      ],
      "text/plain": [
       "              CountryName CountryCode  BirthRate  InternetUsers  \\\n",
       "0                   Aruba         ABW     10.244           78.9   \n",
       "1             Afghanistan         AFG     35.253            5.9   \n",
       "2                  Angola         AGO     45.985           19.1   \n",
       "3                 Albania         ALB     12.877           57.2   \n",
       "4    United Arab Emirates         ARE     11.044           88.0   \n",
       "..                    ...         ...        ...            ...   \n",
       "190           Yemen, Rep.         YEM     32.947           20.0   \n",
       "191          South Africa         ZAF     20.850           46.5   \n",
       "192      Congo, Dem. Rep.         COD     42.394            2.2   \n",
       "193                Zambia         ZMB     40.471           15.4   \n",
       "194              Zimbabwe         ZWE     35.715           18.5   \n",
       "\n",
       "             IncomeGroup  \n",
       "0            High income  \n",
       "1             Low income  \n",
       "2    Upper middle income  \n",
       "3    Upper middle income  \n",
       "4            High income  \n",
       "..                   ...  \n",
       "190  Lower middle income  \n",
       "191  Upper middle income  \n",
       "192           Low income  \n",
       "193  Lower middle income  \n",
       "194           Low income  \n",
       "\n",
       "[192 rows x 5 columns]"
      ]
     },
     "execution_count": 70,
     "metadata": {},
     "output_type": "execute_result"
    }
   ],
   "source": [
    "df[Filter2]"
   ]
  },
  {
   "cell_type": "code",
   "execution_count": 71,
   "id": "dcfeb723",
   "metadata": {},
   "outputs": [
    {
     "data": {
      "application/vnd.microsoft.datawrangler.viewer.v0+json": {
       "columns": [
        {
         "name": "index",
         "rawType": "int64",
         "type": "integer"
        },
        {
         "name": "0",
         "rawType": "bool",
         "type": "boolean"
        }
       ],
       "ref": "6184607c-53d8-44f5-8758-8f17ec7984b4",
       "rows": [
        [
         "0",
         "False"
        ],
        [
         "1",
         "False"
        ],
        [
         "2",
         "False"
        ],
        [
         "3",
         "False"
        ],
        [
         "4",
         "False"
        ],
        [
         "5",
         "False"
        ],
        [
         "6",
         "False"
        ],
        [
         "7",
         "False"
        ],
        [
         "8",
         "False"
        ],
        [
         "9",
         "False"
        ],
        [
         "10",
         "False"
        ],
        [
         "11",
         "False"
        ],
        [
         "12",
         "False"
        ],
        [
         "13",
         "False"
        ],
        [
         "14",
         "False"
        ],
        [
         "15",
         "False"
        ],
        [
         "16",
         "False"
        ],
        [
         "17",
         "False"
        ],
        [
         "18",
         "False"
        ],
        [
         "19",
         "False"
        ],
        [
         "20",
         "False"
        ],
        [
         "21",
         "False"
        ],
        [
         "22",
         "False"
        ],
        [
         "23",
         "False"
        ],
        [
         "24",
         "False"
        ],
        [
         "25",
         "False"
        ],
        [
         "26",
         "False"
        ],
        [
         "27",
         "False"
        ],
        [
         "28",
         "False"
        ],
        [
         "29",
         "False"
        ],
        [
         "30",
         "False"
        ],
        [
         "31",
         "False"
        ],
        [
         "32",
         "False"
        ],
        [
         "33",
         "False"
        ],
        [
         "34",
         "False"
        ],
        [
         "35",
         "False"
        ],
        [
         "36",
         "False"
        ],
        [
         "37",
         "False"
        ],
        [
         "38",
         "False"
        ],
        [
         "39",
         "False"
        ],
        [
         "40",
         "False"
        ],
        [
         "41",
         "False"
        ],
        [
         "42",
         "False"
        ],
        [
         "43",
         "False"
        ],
        [
         "44",
         "False"
        ],
        [
         "45",
         "False"
        ],
        [
         "46",
         "False"
        ],
        [
         "47",
         "False"
        ],
        [
         "48",
         "False"
        ],
        [
         "49",
         "False"
        ]
       ],
       "shape": {
        "columns": 1,
        "rows": 195
       }
      },
      "text/plain": [
       "0      False\n",
       "1      False\n",
       "2      False\n",
       "3      False\n",
       "4      False\n",
       "       ...  \n",
       "190    False\n",
       "191    False\n",
       "192    False\n",
       "193    False\n",
       "194    False\n",
       "Length: 195, dtype: bool"
      ]
     },
     "execution_count": 71,
     "metadata": {},
     "output_type": "execute_result"
    }
   ],
   "source": [
    "Filter & Filter2"
   ]
  },
  {
   "cell_type": "code",
   "execution_count": 72,
   "id": "1312c3ef",
   "metadata": {},
   "outputs": [
    {
     "data": {
      "application/vnd.microsoft.datawrangler.viewer.v0+json": {
       "columns": [
        {
         "name": "index",
         "rawType": "int64",
         "type": "integer"
        },
        {
         "name": "CountryName",
         "rawType": "object",
         "type": "string"
        },
        {
         "name": "CountryCode",
         "rawType": "object",
         "type": "string"
        },
        {
         "name": "BirthRate",
         "rawType": "float64",
         "type": "float"
        },
        {
         "name": "InternetUsers",
         "rawType": "float64",
         "type": "float"
        },
        {
         "name": "IncomeGroup",
         "rawType": "object",
         "type": "string"
        }
       ],
       "ref": "e317ca89-3cf1-4ae4-9dac-5654d67a7108",
       "rows": [],
       "shape": {
        "columns": 5,
        "rows": 0
       }
      },
      "text/html": [
       "<div>\n",
       "<style scoped>\n",
       "    .dataframe tbody tr th:only-of-type {\n",
       "        vertical-align: middle;\n",
       "    }\n",
       "\n",
       "    .dataframe tbody tr th {\n",
       "        vertical-align: top;\n",
       "    }\n",
       "\n",
       "    .dataframe thead th {\n",
       "        text-align: right;\n",
       "    }\n",
       "</style>\n",
       "<table border=\"1\" class=\"dataframe\">\n",
       "  <thead>\n",
       "    <tr style=\"text-align: right;\">\n",
       "      <th></th>\n",
       "      <th>CountryName</th>\n",
       "      <th>CountryCode</th>\n",
       "      <th>BirthRate</th>\n",
       "      <th>InternetUsers</th>\n",
       "      <th>IncomeGroup</th>\n",
       "    </tr>\n",
       "  </thead>\n",
       "  <tbody>\n",
       "  </tbody>\n",
       "</table>\n",
       "</div>"
      ],
      "text/plain": [
       "Empty DataFrame\n",
       "Columns: [CountryName, CountryCode, BirthRate, InternetUsers, IncomeGroup]\n",
       "Index: []"
      ]
     },
     "execution_count": 72,
     "metadata": {},
     "output_type": "execute_result"
    }
   ],
   "source": [
    "df[Filter & Filter2]"
   ]
  },
  {
   "cell_type": "code",
   "execution_count": 73,
   "id": "9f877ca2",
   "metadata": {},
   "outputs": [
    {
     "data": {
      "application/vnd.microsoft.datawrangler.viewer.v0+json": {
       "columns": [
        {
         "name": "index",
         "rawType": "int64",
         "type": "integer"
        },
        {
         "name": "CountryName",
         "rawType": "object",
         "type": "string"
        },
        {
         "name": "CountryCode",
         "rawType": "object",
         "type": "string"
        },
        {
         "name": "BirthRate",
         "rawType": "float64",
         "type": "float"
        },
        {
         "name": "InternetUsers",
         "rawType": "float64",
         "type": "float"
        },
        {
         "name": "IncomeGroup",
         "rawType": "object",
         "type": "string"
        }
       ],
       "ref": "6a3cbd7d-ff76-4816-bf8d-a9d1a591ccc8",
       "rows": [
        [
         "0",
         "Aruba",
         "ABW",
         "10.244",
         "78.9",
         "High income"
        ],
        [
         "4",
         "United Arab Emirates",
         "ARE",
         "11.044",
         "88.0",
         "High income"
        ],
        [
         "5",
         "Argentina",
         "ARG",
         "17.716",
         "59.9",
         "High income"
        ],
        [
         "7",
         "Antigua and Barbuda",
         "ATG",
         "16.447",
         "63.4",
         "High income"
        ],
        [
         "8",
         "Australia",
         "AUS",
         "13.2",
         "83.0",
         "High income"
        ],
        [
         "9",
         "Austria",
         "AUT",
         "9.4",
         "80.6188",
         "High income"
        ],
        [
         "12",
         "Belgium",
         "BEL",
         "11.2",
         "82.1702",
         "High income"
        ],
        [
         "17",
         "Bahrain",
         "BHR",
         "15.04",
         "90.0000397",
         "High income"
        ],
        [
         "18",
         "Bahamas, The",
         "BHS",
         "15.339",
         "72.0",
         "High income"
        ],
        [
         "22",
         "Bermuda",
         "BMU",
         "10.4",
         "95.3",
         "High income"
        ],
        [
         "25",
         "Barbados",
         "BRB",
         "12.188",
         "73.0",
         "High income"
        ],
        [
         "26",
         "Brunei Darussalam",
         "BRN",
         "16.405",
         "64.5",
         "High income"
        ],
        [
         "30",
         "Canada",
         "CAN",
         "10.9",
         "85.8",
         "High income"
        ],
        [
         "31",
         "Switzerland",
         "CHE",
         "10.2",
         "86.34",
         "High income"
        ],
        [
         "32",
         "Chile",
         "CHL",
         "13.385",
         "66.5",
         "High income"
        ],
        [
         "42",
         "Cayman Islands",
         "CYM",
         "12.5",
         "74.1",
         "High income"
        ],
        [
         "43",
         "Cyprus",
         "CYP",
         "11.436",
         "65.4548",
         "High income"
        ],
        [
         "44",
         "Czech Republic",
         "CZE",
         "10.2",
         "74.1104",
         "High income"
        ],
        [
         "45",
         "Germany",
         "DEU",
         "8.5",
         "84.17",
         "High income"
        ],
        [
         "47",
         "Denmark",
         "DNK",
         "10.0",
         "94.6297",
         "High income"
        ],
        [
         "53",
         "Spain",
         "ESP",
         "9.1",
         "71.635",
         "High income"
        ],
        [
         "54",
         "Estonia",
         "EST",
         "10.3",
         "79.4",
         "High income"
        ],
        [
         "56",
         "Finland",
         "FIN",
         "10.7",
         "91.5144",
         "High income"
        ],
        [
         "58",
         "France",
         "FRA",
         "12.3",
         "81.9198",
         "High income"
        ],
        [
         "61",
         "United Kingdom",
         "GBR",
         "12.2",
         "89.8441",
         "High income"
        ],
        [
         "67",
         "Equatorial Guinea",
         "GNQ",
         "35.362",
         "16.4",
         "High income"
        ],
        [
         "68",
         "Greece",
         "GRC",
         "8.5",
         "59.8663",
         "High income"
        ],
        [
         "70",
         "Greenland",
         "GRL",
         "14.5",
         "65.8",
         "High income"
        ],
        [
         "72",
         "Guam",
         "GUM",
         "17.389",
         "65.4",
         "High income"
        ],
        [
         "74",
         "Hong Kong SAR, China",
         "HKG",
         "7.9",
         "74.2",
         "High income"
        ],
        [
         "76",
         "Croatia",
         "HRV",
         "9.4",
         "66.7476",
         "High income"
        ],
        [
         "78",
         "Hungary",
         "HUN",
         "9.2",
         "72.6439",
         "High income"
        ],
        [
         "81",
         "Ireland",
         "IRL",
         "15.0",
         "78.2477",
         "High income"
        ],
        [
         "84",
         "Iceland",
         "ISL",
         "13.4",
         "96.5468",
         "High income"
        ],
        [
         "85",
         "Israel",
         "ISR",
         "21.3",
         "70.8",
         "High income"
        ],
        [
         "86",
         "Italy",
         "ITA",
         "8.5",
         "58.4593",
         "High income"
        ],
        [
         "89",
         "Japan",
         "JPN",
         "8.2",
         "89.71",
         "High income"
        ],
        [
         "95",
         "Korea, Rep.",
         "KOR",
         "8.6",
         "84.77",
         "High income"
        ],
        [
         "96",
         "Kuwait",
         "KWT",
         "20.575",
         "75.46",
         "High income"
        ],
        [
         "102",
         "Liechtenstein",
         "LIE",
         "9.2",
         "93.8",
         "High income"
        ],
        [
         "105",
         "Lithuania",
         "LTU",
         "10.1",
         "68.4529",
         "High income"
        ],
        [
         "106",
         "Luxembourg",
         "LUX",
         "11.3",
         "93.7765",
         "High income"
        ],
        [
         "107",
         "Latvia",
         "LVA",
         "10.2",
         "75.2344",
         "High income"
        ],
        [
         "108",
         "Macao SAR, China",
         "MAC",
         "11.256",
         "65.8",
         "High income"
        ],
        [
         "116",
         "Malta",
         "MLT",
         "9.5",
         "68.9138",
         "High income"
        ],
        [
         "126",
         "New Caledonia",
         "NCL",
         "17.0",
         "66.0",
         "High income"
        ],
        [
         "130",
         "Netherlands",
         "NLD",
         "10.2",
         "93.9564",
         "High income"
        ],
        [
         "131",
         "Norway",
         "NOR",
         "11.6",
         "95.0534",
         "High income"
        ],
        [
         "133",
         "New Zealand",
         "NZL",
         "13.12",
         "82.78",
         "High income"
        ],
        [
         "134",
         "Oman",
         "OMN",
         "20.419",
         "66.45",
         "High income"
        ]
       ],
       "shape": {
        "columns": 5,
        "rows": 67
       }
      },
      "text/html": [
       "<div>\n",
       "<style scoped>\n",
       "    .dataframe tbody tr th:only-of-type {\n",
       "        vertical-align: middle;\n",
       "    }\n",
       "\n",
       "    .dataframe tbody tr th {\n",
       "        vertical-align: top;\n",
       "    }\n",
       "\n",
       "    .dataframe thead th {\n",
       "        text-align: right;\n",
       "    }\n",
       "</style>\n",
       "<table border=\"1\" class=\"dataframe\">\n",
       "  <thead>\n",
       "    <tr style=\"text-align: right;\">\n",
       "      <th></th>\n",
       "      <th>CountryName</th>\n",
       "      <th>CountryCode</th>\n",
       "      <th>BirthRate</th>\n",
       "      <th>InternetUsers</th>\n",
       "      <th>IncomeGroup</th>\n",
       "    </tr>\n",
       "  </thead>\n",
       "  <tbody>\n",
       "    <tr>\n",
       "      <th>0</th>\n",
       "      <td>Aruba</td>\n",
       "      <td>ABW</td>\n",
       "      <td>10.244</td>\n",
       "      <td>78.90</td>\n",
       "      <td>High income</td>\n",
       "    </tr>\n",
       "    <tr>\n",
       "      <th>4</th>\n",
       "      <td>United Arab Emirates</td>\n",
       "      <td>ARE</td>\n",
       "      <td>11.044</td>\n",
       "      <td>88.00</td>\n",
       "      <td>High income</td>\n",
       "    </tr>\n",
       "    <tr>\n",
       "      <th>5</th>\n",
       "      <td>Argentina</td>\n",
       "      <td>ARG</td>\n",
       "      <td>17.716</td>\n",
       "      <td>59.90</td>\n",
       "      <td>High income</td>\n",
       "    </tr>\n",
       "    <tr>\n",
       "      <th>7</th>\n",
       "      <td>Antigua and Barbuda</td>\n",
       "      <td>ATG</td>\n",
       "      <td>16.447</td>\n",
       "      <td>63.40</td>\n",
       "      <td>High income</td>\n",
       "    </tr>\n",
       "    <tr>\n",
       "      <th>8</th>\n",
       "      <td>Australia</td>\n",
       "      <td>AUS</td>\n",
       "      <td>13.200</td>\n",
       "      <td>83.00</td>\n",
       "      <td>High income</td>\n",
       "    </tr>\n",
       "    <tr>\n",
       "      <th>...</th>\n",
       "      <td>...</td>\n",
       "      <td>...</td>\n",
       "      <td>...</td>\n",
       "      <td>...</td>\n",
       "      <td>...</td>\n",
       "    </tr>\n",
       "    <tr>\n",
       "      <th>174</th>\n",
       "      <td>Trinidad and Tobago</td>\n",
       "      <td>TTO</td>\n",
       "      <td>14.590</td>\n",
       "      <td>63.80</td>\n",
       "      <td>High income</td>\n",
       "    </tr>\n",
       "    <tr>\n",
       "      <th>180</th>\n",
       "      <td>Uruguay</td>\n",
       "      <td>URY</td>\n",
       "      <td>14.374</td>\n",
       "      <td>57.69</td>\n",
       "      <td>High income</td>\n",
       "    </tr>\n",
       "    <tr>\n",
       "      <th>181</th>\n",
       "      <td>United States</td>\n",
       "      <td>USA</td>\n",
       "      <td>12.500</td>\n",
       "      <td>84.20</td>\n",
       "      <td>High income</td>\n",
       "    </tr>\n",
       "    <tr>\n",
       "      <th>184</th>\n",
       "      <td>Venezuela, RB</td>\n",
       "      <td>VEN</td>\n",
       "      <td>19.842</td>\n",
       "      <td>54.90</td>\n",
       "      <td>High income</td>\n",
       "    </tr>\n",
       "    <tr>\n",
       "      <th>185</th>\n",
       "      <td>Virgin Islands (U.S.)</td>\n",
       "      <td>VIR</td>\n",
       "      <td>10.700</td>\n",
       "      <td>45.30</td>\n",
       "      <td>High income</td>\n",
       "    </tr>\n",
       "  </tbody>\n",
       "</table>\n",
       "<p>67 rows × 5 columns</p>\n",
       "</div>"
      ],
      "text/plain": [
       "               CountryName CountryCode  BirthRate  InternetUsers  IncomeGroup\n",
       "0                    Aruba         ABW     10.244          78.90  High income\n",
       "4     United Arab Emirates         ARE     11.044          88.00  High income\n",
       "5                Argentina         ARG     17.716          59.90  High income\n",
       "7      Antigua and Barbuda         ATG     16.447          63.40  High income\n",
       "8                Australia         AUS     13.200          83.00  High income\n",
       "..                     ...         ...        ...            ...          ...\n",
       "174    Trinidad and Tobago         TTO     14.590          63.80  High income\n",
       "180                Uruguay         URY     14.374          57.69  High income\n",
       "181          United States         USA     12.500          84.20  High income\n",
       "184          Venezuela, RB         VEN     19.842          54.90  High income\n",
       "185  Virgin Islands (U.S.)         VIR     10.700          45.30  High income\n",
       "\n",
       "[67 rows x 5 columns]"
      ]
     },
     "execution_count": 73,
     "metadata": {},
     "output_type": "execute_result"
    }
   ],
   "source": [
    "df[df.IncomeGroup=='High income']"
   ]
  },
  {
   "cell_type": "code",
   "execution_count": 74,
   "id": "76eec3ac",
   "metadata": {},
   "outputs": [
    {
     "data": {
      "application/vnd.microsoft.datawrangler.viewer.v0+json": {
       "columns": [
        {
         "name": "index",
         "rawType": "int64",
         "type": "integer"
        },
        {
         "name": "CountryName",
         "rawType": "object",
         "type": "string"
        },
        {
         "name": "CountryCode",
         "rawType": "object",
         "type": "string"
        },
        {
         "name": "BirthRate",
         "rawType": "float64",
         "type": "float"
        },
        {
         "name": "InternetUsers",
         "rawType": "float64",
         "type": "float"
        },
        {
         "name": "IncomeGroup",
         "rawType": "object",
         "type": "string"
        }
       ],
       "ref": "435e0e84-e751-4da5-9b34-c94bd8b7aafc",
       "rows": [
        [
         "1",
         "Afghanistan",
         "AFG",
         "35.253",
         "5.9",
         "Low income"
        ],
        [
         "11",
         "Burundi",
         "BDI",
         "44.151",
         "1.3",
         "Low income"
        ],
        [
         "13",
         "Benin",
         "BEN",
         "36.44",
         "4.9",
         "Low income"
        ],
        [
         "14",
         "Burkina Faso",
         "BFA",
         "40.551",
         "9.1",
         "Low income"
        ],
        [
         "29",
         "Central African Republic",
         "CAF",
         "34.076",
         "3.5",
         "Low income"
        ],
        [
         "38",
         "Comoros",
         "COM",
         "34.326",
         "6.5",
         "Low income"
        ],
        [
         "52",
         "Eritrea",
         "ERI",
         "34.8",
         "0.9",
         "Low income"
        ],
        [
         "55",
         "Ethiopia",
         "ETH",
         "32.925",
         "1.9",
         "Low income"
        ],
        [
         "64",
         "Guinea",
         "GIN",
         "37.337",
         "1.6",
         "Low income"
        ],
        [
         "65",
         "Gambia, The",
         "GMB",
         "42.525",
         "14.0",
         "Low income"
        ],
        [
         "66",
         "Guinea-Bissau",
         "GNB",
         "37.503",
         "3.1",
         "Low income"
        ],
        [
         "77",
         "Haiti",
         "HTI",
         "25.345",
         "10.6",
         "Low income"
        ],
        [
         "93",
         "Cambodia",
         "KHM",
         "24.462",
         "6.8",
         "Low income"
        ],
        [
         "99",
         "Liberia",
         "LBR",
         "35.521",
         "3.2",
         "Low income"
        ],
        [
         "111",
         "Madagascar",
         "MDG",
         "34.686",
         "3.0",
         "Low income"
        ],
        [
         "115",
         "Mali",
         "MLI",
         "44.138",
         "3.5",
         "Low income"
        ],
        [
         "120",
         "Mozambique",
         "MOZ",
         "39.705",
         "5.4",
         "Low income"
        ],
        [
         "123",
         "Malawi",
         "MWI",
         "39.459",
         "5.05",
         "Low income"
        ],
        [
         "127",
         "Niger",
         "NER",
         "49.661",
         "1.7",
         "Low income"
        ],
        [
         "132",
         "Nepal",
         "NPL",
         "20.923",
         "13.3",
         "Low income"
        ],
        [
         "148",
         "Rwanda",
         "RWA",
         "32.689",
         "9.0",
         "Low income"
        ],
        [
         "154",
         "Sierra Leone",
         "SLE",
         "36.729",
         "1.7",
         "Low income"
        ],
        [
         "156",
         "Somalia",
         "SOM",
         "43.891",
         "1.5",
         "Low income"
        ],
        [
         "158",
         "South Sudan",
         "SSD",
         "37.126",
         "14.1",
         "Low income"
        ],
        [
         "167",
         "Chad",
         "TCD",
         "45.745",
         "2.3",
         "Low income"
        ],
        [
         "168",
         "Togo",
         "TGO",
         "36.08",
         "4.5",
         "Low income"
        ],
        [
         "177",
         "Tanzania",
         "TZA",
         "39.518",
         "4.4",
         "Low income"
        ],
        [
         "178",
         "Uganda",
         "UGA",
         "43.474",
         "16.2",
         "Low income"
        ],
        [
         "192",
         "Congo, Dem. Rep.",
         "COD",
         "42.394",
         "2.2",
         "Low income"
        ],
        [
         "194",
         "Zimbabwe",
         "ZWE",
         "35.715",
         "18.5",
         "Low income"
        ]
       ],
       "shape": {
        "columns": 5,
        "rows": 30
       }
      },
      "text/html": [
       "<div>\n",
       "<style scoped>\n",
       "    .dataframe tbody tr th:only-of-type {\n",
       "        vertical-align: middle;\n",
       "    }\n",
       "\n",
       "    .dataframe tbody tr th {\n",
       "        vertical-align: top;\n",
       "    }\n",
       "\n",
       "    .dataframe thead th {\n",
       "        text-align: right;\n",
       "    }\n",
       "</style>\n",
       "<table border=\"1\" class=\"dataframe\">\n",
       "  <thead>\n",
       "    <tr style=\"text-align: right;\">\n",
       "      <th></th>\n",
       "      <th>CountryName</th>\n",
       "      <th>CountryCode</th>\n",
       "      <th>BirthRate</th>\n",
       "      <th>InternetUsers</th>\n",
       "      <th>IncomeGroup</th>\n",
       "    </tr>\n",
       "  </thead>\n",
       "  <tbody>\n",
       "    <tr>\n",
       "      <th>1</th>\n",
       "      <td>Afghanistan</td>\n",
       "      <td>AFG</td>\n",
       "      <td>35.253</td>\n",
       "      <td>5.90</td>\n",
       "      <td>Low income</td>\n",
       "    </tr>\n",
       "    <tr>\n",
       "      <th>11</th>\n",
       "      <td>Burundi</td>\n",
       "      <td>BDI</td>\n",
       "      <td>44.151</td>\n",
       "      <td>1.30</td>\n",
       "      <td>Low income</td>\n",
       "    </tr>\n",
       "    <tr>\n",
       "      <th>13</th>\n",
       "      <td>Benin</td>\n",
       "      <td>BEN</td>\n",
       "      <td>36.440</td>\n",
       "      <td>4.90</td>\n",
       "      <td>Low income</td>\n",
       "    </tr>\n",
       "    <tr>\n",
       "      <th>14</th>\n",
       "      <td>Burkina Faso</td>\n",
       "      <td>BFA</td>\n",
       "      <td>40.551</td>\n",
       "      <td>9.10</td>\n",
       "      <td>Low income</td>\n",
       "    </tr>\n",
       "    <tr>\n",
       "      <th>29</th>\n",
       "      <td>Central African Republic</td>\n",
       "      <td>CAF</td>\n",
       "      <td>34.076</td>\n",
       "      <td>3.50</td>\n",
       "      <td>Low income</td>\n",
       "    </tr>\n",
       "    <tr>\n",
       "      <th>38</th>\n",
       "      <td>Comoros</td>\n",
       "      <td>COM</td>\n",
       "      <td>34.326</td>\n",
       "      <td>6.50</td>\n",
       "      <td>Low income</td>\n",
       "    </tr>\n",
       "    <tr>\n",
       "      <th>52</th>\n",
       "      <td>Eritrea</td>\n",
       "      <td>ERI</td>\n",
       "      <td>34.800</td>\n",
       "      <td>0.90</td>\n",
       "      <td>Low income</td>\n",
       "    </tr>\n",
       "    <tr>\n",
       "      <th>55</th>\n",
       "      <td>Ethiopia</td>\n",
       "      <td>ETH</td>\n",
       "      <td>32.925</td>\n",
       "      <td>1.90</td>\n",
       "      <td>Low income</td>\n",
       "    </tr>\n",
       "    <tr>\n",
       "      <th>64</th>\n",
       "      <td>Guinea</td>\n",
       "      <td>GIN</td>\n",
       "      <td>37.337</td>\n",
       "      <td>1.60</td>\n",
       "      <td>Low income</td>\n",
       "    </tr>\n",
       "    <tr>\n",
       "      <th>65</th>\n",
       "      <td>Gambia, The</td>\n",
       "      <td>GMB</td>\n",
       "      <td>42.525</td>\n",
       "      <td>14.00</td>\n",
       "      <td>Low income</td>\n",
       "    </tr>\n",
       "    <tr>\n",
       "      <th>66</th>\n",
       "      <td>Guinea-Bissau</td>\n",
       "      <td>GNB</td>\n",
       "      <td>37.503</td>\n",
       "      <td>3.10</td>\n",
       "      <td>Low income</td>\n",
       "    </tr>\n",
       "    <tr>\n",
       "      <th>77</th>\n",
       "      <td>Haiti</td>\n",
       "      <td>HTI</td>\n",
       "      <td>25.345</td>\n",
       "      <td>10.60</td>\n",
       "      <td>Low income</td>\n",
       "    </tr>\n",
       "    <tr>\n",
       "      <th>93</th>\n",
       "      <td>Cambodia</td>\n",
       "      <td>KHM</td>\n",
       "      <td>24.462</td>\n",
       "      <td>6.80</td>\n",
       "      <td>Low income</td>\n",
       "    </tr>\n",
       "    <tr>\n",
       "      <th>99</th>\n",
       "      <td>Liberia</td>\n",
       "      <td>LBR</td>\n",
       "      <td>35.521</td>\n",
       "      <td>3.20</td>\n",
       "      <td>Low income</td>\n",
       "    </tr>\n",
       "    <tr>\n",
       "      <th>111</th>\n",
       "      <td>Madagascar</td>\n",
       "      <td>MDG</td>\n",
       "      <td>34.686</td>\n",
       "      <td>3.00</td>\n",
       "      <td>Low income</td>\n",
       "    </tr>\n",
       "    <tr>\n",
       "      <th>115</th>\n",
       "      <td>Mali</td>\n",
       "      <td>MLI</td>\n",
       "      <td>44.138</td>\n",
       "      <td>3.50</td>\n",
       "      <td>Low income</td>\n",
       "    </tr>\n",
       "    <tr>\n",
       "      <th>120</th>\n",
       "      <td>Mozambique</td>\n",
       "      <td>MOZ</td>\n",
       "      <td>39.705</td>\n",
       "      <td>5.40</td>\n",
       "      <td>Low income</td>\n",
       "    </tr>\n",
       "    <tr>\n",
       "      <th>123</th>\n",
       "      <td>Malawi</td>\n",
       "      <td>MWI</td>\n",
       "      <td>39.459</td>\n",
       "      <td>5.05</td>\n",
       "      <td>Low income</td>\n",
       "    </tr>\n",
       "    <tr>\n",
       "      <th>127</th>\n",
       "      <td>Niger</td>\n",
       "      <td>NER</td>\n",
       "      <td>49.661</td>\n",
       "      <td>1.70</td>\n",
       "      <td>Low income</td>\n",
       "    </tr>\n",
       "    <tr>\n",
       "      <th>132</th>\n",
       "      <td>Nepal</td>\n",
       "      <td>NPL</td>\n",
       "      <td>20.923</td>\n",
       "      <td>13.30</td>\n",
       "      <td>Low income</td>\n",
       "    </tr>\n",
       "    <tr>\n",
       "      <th>148</th>\n",
       "      <td>Rwanda</td>\n",
       "      <td>RWA</td>\n",
       "      <td>32.689</td>\n",
       "      <td>9.00</td>\n",
       "      <td>Low income</td>\n",
       "    </tr>\n",
       "    <tr>\n",
       "      <th>154</th>\n",
       "      <td>Sierra Leone</td>\n",
       "      <td>SLE</td>\n",
       "      <td>36.729</td>\n",
       "      <td>1.70</td>\n",
       "      <td>Low income</td>\n",
       "    </tr>\n",
       "    <tr>\n",
       "      <th>156</th>\n",
       "      <td>Somalia</td>\n",
       "      <td>SOM</td>\n",
       "      <td>43.891</td>\n",
       "      <td>1.50</td>\n",
       "      <td>Low income</td>\n",
       "    </tr>\n",
       "    <tr>\n",
       "      <th>158</th>\n",
       "      <td>South Sudan</td>\n",
       "      <td>SSD</td>\n",
       "      <td>37.126</td>\n",
       "      <td>14.10</td>\n",
       "      <td>Low income</td>\n",
       "    </tr>\n",
       "    <tr>\n",
       "      <th>167</th>\n",
       "      <td>Chad</td>\n",
       "      <td>TCD</td>\n",
       "      <td>45.745</td>\n",
       "      <td>2.30</td>\n",
       "      <td>Low income</td>\n",
       "    </tr>\n",
       "    <tr>\n",
       "      <th>168</th>\n",
       "      <td>Togo</td>\n",
       "      <td>TGO</td>\n",
       "      <td>36.080</td>\n",
       "      <td>4.50</td>\n",
       "      <td>Low income</td>\n",
       "    </tr>\n",
       "    <tr>\n",
       "      <th>177</th>\n",
       "      <td>Tanzania</td>\n",
       "      <td>TZA</td>\n",
       "      <td>39.518</td>\n",
       "      <td>4.40</td>\n",
       "      <td>Low income</td>\n",
       "    </tr>\n",
       "    <tr>\n",
       "      <th>178</th>\n",
       "      <td>Uganda</td>\n",
       "      <td>UGA</td>\n",
       "      <td>43.474</td>\n",
       "      <td>16.20</td>\n",
       "      <td>Low income</td>\n",
       "    </tr>\n",
       "    <tr>\n",
       "      <th>192</th>\n",
       "      <td>Congo, Dem. Rep.</td>\n",
       "      <td>COD</td>\n",
       "      <td>42.394</td>\n",
       "      <td>2.20</td>\n",
       "      <td>Low income</td>\n",
       "    </tr>\n",
       "    <tr>\n",
       "      <th>194</th>\n",
       "      <td>Zimbabwe</td>\n",
       "      <td>ZWE</td>\n",
       "      <td>35.715</td>\n",
       "      <td>18.50</td>\n",
       "      <td>Low income</td>\n",
       "    </tr>\n",
       "  </tbody>\n",
       "</table>\n",
       "</div>"
      ],
      "text/plain": [
       "                  CountryName CountryCode  BirthRate  InternetUsers  \\\n",
       "1                 Afghanistan         AFG     35.253           5.90   \n",
       "11                    Burundi         BDI     44.151           1.30   \n",
       "13                      Benin         BEN     36.440           4.90   \n",
       "14               Burkina Faso         BFA     40.551           9.10   \n",
       "29   Central African Republic         CAF     34.076           3.50   \n",
       "38                    Comoros         COM     34.326           6.50   \n",
       "52                    Eritrea         ERI     34.800           0.90   \n",
       "55                   Ethiopia         ETH     32.925           1.90   \n",
       "64                     Guinea         GIN     37.337           1.60   \n",
       "65                Gambia, The         GMB     42.525          14.00   \n",
       "66              Guinea-Bissau         GNB     37.503           3.10   \n",
       "77                      Haiti         HTI     25.345          10.60   \n",
       "93                   Cambodia         KHM     24.462           6.80   \n",
       "99                    Liberia         LBR     35.521           3.20   \n",
       "111                Madagascar         MDG     34.686           3.00   \n",
       "115                      Mali         MLI     44.138           3.50   \n",
       "120                Mozambique         MOZ     39.705           5.40   \n",
       "123                    Malawi         MWI     39.459           5.05   \n",
       "127                     Niger         NER     49.661           1.70   \n",
       "132                     Nepal         NPL     20.923          13.30   \n",
       "148                    Rwanda         RWA     32.689           9.00   \n",
       "154              Sierra Leone         SLE     36.729           1.70   \n",
       "156                   Somalia         SOM     43.891           1.50   \n",
       "158               South Sudan         SSD     37.126          14.10   \n",
       "167                      Chad         TCD     45.745           2.30   \n",
       "168                      Togo         TGO     36.080           4.50   \n",
       "177                  Tanzania         TZA     39.518           4.40   \n",
       "178                    Uganda         UGA     43.474          16.20   \n",
       "192          Congo, Dem. Rep.         COD     42.394           2.20   \n",
       "194                  Zimbabwe         ZWE     35.715          18.50   \n",
       "\n",
       "    IncomeGroup  \n",
       "1    Low income  \n",
       "11   Low income  \n",
       "13   Low income  \n",
       "14   Low income  \n",
       "29   Low income  \n",
       "38   Low income  \n",
       "52   Low income  \n",
       "55   Low income  \n",
       "64   Low income  \n",
       "65   Low income  \n",
       "66   Low income  \n",
       "77   Low income  \n",
       "93   Low income  \n",
       "99   Low income  \n",
       "111  Low income  \n",
       "115  Low income  \n",
       "120  Low income  \n",
       "123  Low income  \n",
       "127  Low income  \n",
       "132  Low income  \n",
       "148  Low income  \n",
       "154  Low income  \n",
       "156  Low income  \n",
       "158  Low income  \n",
       "167  Low income  \n",
       "168  Low income  \n",
       "177  Low income  \n",
       "178  Low income  \n",
       "192  Low income  \n",
       "194  Low income  "
      ]
     },
     "execution_count": 74,
     "metadata": {},
     "output_type": "execute_result"
    }
   ],
   "source": [
    "df[df.IncomeGroup=='Low income']"
   ]
  },
  {
   "cell_type": "code",
   "execution_count": 75,
   "id": "6009bc43",
   "metadata": {},
   "outputs": [
    {
     "data": {
      "text/plain": [
       "array(['High income', 'Low income', 'Upper middle income',\n",
       "       'Lower middle income'], dtype=object)"
      ]
     },
     "execution_count": 75,
     "metadata": {},
     "output_type": "execute_result"
    }
   ],
   "source": [
    "df.IncomeGroup.unique()"
   ]
  },
  {
   "cell_type": "code",
   "execution_count": 76,
   "id": "db745e73",
   "metadata": {},
   "outputs": [
    {
     "data": {
      "text/plain": [
       "4"
      ]
     },
     "execution_count": 76,
     "metadata": {},
     "output_type": "execute_result"
    }
   ],
   "source": [
    "df.IncomeGroup.nunique()"
   ]
  },
  {
   "cell_type": "code",
   "execution_count": 77,
   "id": "187c4460",
   "metadata": {},
   "outputs": [],
   "source": [
    "import seaborn as sns\n",
    "import warnings\n",
    "warnings.filterwarnings('ignore')\n",
    "plt.rcParams['figure.figsize']=6,2"
   ]
  },
  {
   "cell_type": "code",
   "execution_count": 78,
   "id": "9e76af44",
   "metadata": {},
   "outputs": [
    {
     "data": {
      "application/vnd.microsoft.datawrangler.viewer.v0+json": {
       "columns": [
        {
         "name": "index",
         "rawType": "int64",
         "type": "integer"
        },
        {
         "name": "InternetUsers",
         "rawType": "float64",
         "type": "float"
        }
       ],
       "ref": "f3d0b737-b5da-4e81-a4bd-10b6d195b106",
       "rows": [
        [
         "0",
         "78.9"
        ],
        [
         "1",
         "5.9"
        ],
        [
         "2",
         "19.1"
        ],
        [
         "3",
         "57.2"
        ],
        [
         "4",
         "88.0"
        ],
        [
         "5",
         "59.9"
        ],
        [
         "6",
         "41.9"
        ],
        [
         "7",
         "63.4"
        ],
        [
         "8",
         "83.0"
        ],
        [
         "9",
         "80.6188"
        ],
        [
         "10",
         "58.7"
        ],
        [
         "11",
         "1.3"
        ],
        [
         "12",
         "82.1702"
        ],
        [
         "13",
         "4.9"
        ],
        [
         "14",
         "9.1"
        ],
        [
         "15",
         "6.63"
        ],
        [
         "16",
         "53.0615"
        ],
        [
         "17",
         "90.0000397"
        ],
        [
         "18",
         "72.0"
        ],
        [
         "19",
         "57.79"
        ],
        [
         "20",
         "54.17"
        ],
        [
         "21",
         "33.6"
        ],
        [
         "22",
         "95.3"
        ],
        [
         "23",
         "36.94"
        ],
        [
         "24",
         "51.04"
        ],
        [
         "25",
         "73.0"
        ],
        [
         "26",
         "64.5"
        ],
        [
         "27",
         "29.9"
        ],
        [
         "28",
         "15.0"
        ],
        [
         "29",
         "3.5"
        ],
        [
         "30",
         "85.8"
        ],
        [
         "31",
         "86.34"
        ],
        [
         "32",
         "66.5"
        ],
        [
         "33",
         "45.8"
        ],
        [
         "34",
         "8.4"
        ],
        [
         "35",
         "6.4"
        ],
        [
         "36",
         "6.6"
        ],
        [
         "37",
         "51.7"
        ],
        [
         "38",
         "6.5"
        ],
        [
         "39",
         "37.5"
        ],
        [
         "40",
         "45.96"
        ],
        [
         "41",
         "27.93"
        ],
        [
         "42",
         "74.1"
        ],
        [
         "43",
         "65.4548"
        ],
        [
         "44",
         "74.1104"
        ],
        [
         "45",
         "84.17"
        ],
        [
         "46",
         "9.5"
        ],
        [
         "47",
         "94.6297"
        ],
        [
         "48",
         "45.9"
        ],
        [
         "49",
         "16.5"
        ]
       ],
       "shape": {
        "columns": 1,
        "rows": 195
       }
      },
      "text/plain": [
       "0      78.9\n",
       "1       5.9\n",
       "2      19.1\n",
       "3      57.2\n",
       "4      88.0\n",
       "       ... \n",
       "190    20.0\n",
       "191    46.5\n",
       "192     2.2\n",
       "193    15.4\n",
       "194    18.5\n",
       "Name: InternetUsers, Length: 195, dtype: float64"
      ]
     },
     "execution_count": 78,
     "metadata": {},
     "output_type": "execute_result"
    }
   ],
   "source": [
    "df['InternetUsers']"
   ]
  },
  {
   "cell_type": "code",
   "execution_count": 79,
   "id": "78e113eb",
   "metadata": {},
   "outputs": [
    {
     "data": {
      "text/plain": [
       "<Axes: xlabel='InternetUsers', ylabel='Density'>"
      ]
     },
     "execution_count": 79,
     "metadata": {},
     "output_type": "execute_result"
    },
    {
     "data": {
      "image/png": "[encoded data removed]",
      "text/plain": [
       "<Figure size 600x200 with 1 Axes>"
      ]
     },
     "metadata": {},
     "output_type": "display_data"
    }
   ],
   "source": [
    "sns.distplot(df['InternetUsers'])"
   ]
  },
  {
   "cell_type": "code",
   "execution_count": 80,
   "id": "03f3d9b3",
   "metadata": {},
   "outputs": [
    {
     "data": {
      "text/plain": [
       "<Axes: xlabel='BirthRate', ylabel='Density'>"
      ]
     },
     "execution_count": 80,
     "metadata": {},
     "output_type": "execute_result"
    },
    {
     "data": {
      "image/png": "[encoded data removed]",
      "text/plain": [
       "<Figure size 600x200 with 1 Axes>"
      ]
     },
     "metadata": {},
     "output_type": "display_data"
    }
   ],
   "source": [
    "sns.distplot(df['BirthRate'])"
   ]
  },
  {
   "cell_type": "code",
   "execution_count": 81,
   "id": "511bb674",
   "metadata": {},
   "outputs": [
    {
     "data": {
      "text/plain": [
       "<seaborn.axisgrid.FacetGrid at 0x13e726b25a0>"
      ]
     },
     "execution_count": 81,
     "metadata": {},
     "output_type": "execute_result"
    },
    {
     "data": {
      "image/png": "[encoded data removed]",
      "text/plain": [
       "<Figure size 500x500 with 1 Axes>"
      ]
     },
     "metadata": {},
     "output_type": "display_data"
    }
   ],
   "source": [
    "sns.displot(df['InternetUsers'])"
   ]
  },
  {
   "cell_type": "code",
   "execution_count": 82,
   "id": "304f25d9",
   "metadata": {},
   "outputs": [
    {
     "data": {
      "text/plain": [
       "<seaborn.axisgrid.FacetGrid at 0x13e75d96de0>"
      ]
     },
     "execution_count": 82,
     "metadata": {},
     "output_type": "execute_result"
    },
    {
     "data": {
      "image/png": "[encoded data removed]",
      "text/plain": [
       "<Figure size 500x500 with 1 Axes>"
      ]
     },
     "metadata": {},
     "output_type": "display_data"
    }
   ],
   "source": [
    "sns.displot(df['BirthRate'])"
   ]
  },
  {
   "cell_type": "code",
   "execution_count": 86,
   "id": "1248e3de",
   "metadata": {},
   "outputs": [
    {
     "data": {
      "text/plain": [
       "<seaborn.axisgrid.FacetGrid at 0x13e75d1f680>"
      ]
     },
     "execution_count": 86,
     "metadata": {},
     "output_type": "execute_result"
    },
    {
     "data": {
      "image/png": "[encoded data removed]",
      "text/plain": [
       "<Figure size 500x500 with 1 Axes>"
      ]
     },
     "metadata": {},
     "output_type": "display_data"
    }
   ],
   "source": [
    "sns.displot(df['InternetUsers'],bins=15)"
   ]
  },
  {
   "cell_type": "code",
   "execution_count": 87,
   "id": "90adab09",
   "metadata": {},
   "outputs": [
    {
     "data": {
      "text/plain": [
       "<Axes: xlabel='BirthRate', ylabel='Density'>"
      ]
     },
     "execution_count": 87,
     "metadata": {},
     "output_type": "execute_result"
    },
    {
     "data": {
      "image/png": "[encoded data removed]",
      "text/plain": [
       "<Figure size 600x200 with 1 Axes>"
      ]
     },
     "metadata": {},
     "output_type": "display_data"
    }
   ],
   "source": [
    "sns.distplot(df['BirthRate'],bins=15)"
   ]
  },
  {
   "cell_type": "code",
   "execution_count": null,
   "id": "f81bf139",
   "metadata": {},
   "outputs": [],
   "source": []
  }
 ],
 "metadata": {
  "kernelspec": {
   "display_name": "base",
   "language": "python",
   "name": "python3"
  },
  "language_info": {
   "codemirror_mode": {
    "name": "ipython",
    "version": 3
   },
   "file_extension": ".py",
   "mimetype": "text/x-python",
   "name": "python",
   "nbconvert_exporter": "python",
   "pygments_lexer": "ipython3",
   "version": "3.12.7"
  }
 },
 "nbformat": 4,
 "nbformat_minor": 5
}
