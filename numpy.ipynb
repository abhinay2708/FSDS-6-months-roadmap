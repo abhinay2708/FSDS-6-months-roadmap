{
 "cells": [
  {
   "cell_type": "code",
   "execution_count": 3,
   "id": "f37cfa09",
   "metadata": {},
   "outputs": [],
   "source": [
    "import numpy as np"
   ]
  },
  {
   "cell_type": "code",
   "execution_count": 4,
   "id": "0ec5eb5e",
   "metadata": {},
   "outputs": [
    {
     "data": {
      "text/plain": [
       "array([0.39277428, 0.86078319, 0.62543163])"
      ]
     },
     "execution_count": 4,
     "metadata": {},
     "output_type": "execute_result"
    }
   ],
   "source": [
    "np.random.rand(3)"
   ]
  },
  {
   "cell_type": "code",
   "execution_count": 5,
   "id": "623cc307",
   "metadata": {},
   "outputs": [
    {
     "data": {
      "text/plain": [
       "array([0, 1])"
      ]
     },
     "execution_count": 5,
     "metadata": {},
     "output_type": "execute_result"
    }
   ],
   "source": [
    "np.arange(2)"
   ]
  },
  {
   "cell_type": "code",
   "execution_count": 6,
   "id": "d5dc21bb",
   "metadata": {},
   "outputs": [
    {
     "data": {
      "text/plain": [
       "array([2])"
      ]
     },
     "execution_count": 6,
     "metadata": {},
     "output_type": "execute_result"
    }
   ],
   "source": [
    "np.arange(2,3)"
   ]
  },
  {
   "cell_type": "code",
   "execution_count": 7,
   "id": "d7c12e97",
   "metadata": {},
   "outputs": [
    {
     "data": {
      "text/plain": [
       "array([2, 3, 4, 5, 6, 7])"
      ]
     },
     "execution_count": 7,
     "metadata": {},
     "output_type": "execute_result"
    }
   ],
   "source": [
    "np.arange(2,8)"
   ]
  },
  {
   "cell_type": "code",
   "execution_count": 8,
   "id": "4152c74e",
   "metadata": {},
   "outputs": [
    {
     "data": {
      "text/plain": [
       "array([2, 4, 6, 8])"
      ]
     },
     "execution_count": 8,
     "metadata": {},
     "output_type": "execute_result"
    }
   ],
   "source": [
    "np.arange(2,9,2)"
   ]
  },
  {
   "cell_type": "code",
   "execution_count": 9,
   "id": "ae130eb7",
   "metadata": {},
   "outputs": [
    {
     "data": {
      "text/plain": [
       "array([0.96852468, 0.21240364, 0.29470381, 0.22954726, 0.75750687,\n",
       "       0.22278638, 0.73802197])"
      ]
     },
     "execution_count": 9,
     "metadata": {},
     "output_type": "execute_result"
    }
   ],
   "source": [
    "np.random.rand(7)"
   ]
  },
  {
   "cell_type": "code",
   "execution_count": 10,
   "id": "83012afd",
   "metadata": {},
   "outputs": [
    {
     "data": {
      "text/plain": [
       "array([7, 7, 7, 7, 8])"
      ]
     },
     "execution_count": 10,
     "metadata": {},
     "output_type": "execute_result"
    }
   ],
   "source": [
    "np.random.randint(7,10,5)"
   ]
  },
  {
   "cell_type": "code",
   "execution_count": 11,
   "id": "3ff7aaa6",
   "metadata": {},
   "outputs": [
    {
     "data": {
      "text/plain": [
       "array([34, 38, 32, 33, 37])"
      ]
     },
     "execution_count": 11,
     "metadata": {},
     "output_type": "execute_result"
    }
   ],
   "source": [
    "np.random.randint(30,40,5)"
   ]
  },
  {
   "cell_type": "code",
   "execution_count": 12,
   "id": "c81cfad0",
   "metadata": {},
   "outputs": [
    {
     "data": {
      "text/plain": [
       "array([0., 0., 0.])"
      ]
     },
     "execution_count": 12,
     "metadata": {},
     "output_type": "execute_result"
    }
   ],
   "source": [
    "np.zeros(3)"
   ]
  },
  {
   "cell_type": "code",
   "execution_count": 13,
   "id": "6c305652",
   "metadata": {},
   "outputs": [
    {
     "data": {
      "text/plain": [
       "array([0, 0, 0, 0])"
      ]
     },
     "execution_count": 13,
     "metadata": {},
     "output_type": "execute_result"
    }
   ],
   "source": [
    "np.zeros(4,dtype=int)\n"
   ]
  },
  {
   "cell_type": "code",
   "execution_count": 14,
   "id": "a55795df",
   "metadata": {},
   "outputs": [
    {
     "data": {
      "text/plain": [
       "array([[0, 0, 0, 0, 0],\n",
       "       [0, 0, 0, 0, 0],\n",
       "       [0, 0, 0, 0, 0],\n",
       "       [0, 0, 0, 0, 0]])"
      ]
     },
     "execution_count": 14,
     "metadata": {},
     "output_type": "execute_result"
    }
   ],
   "source": [
    "np.zeros((4,5),dtype=int)"
   ]
  },
  {
   "cell_type": "code",
   "execution_count": 15,
   "id": "edc8332e",
   "metadata": {},
   "outputs": [
    {
     "data": {
      "text/plain": [
       "array([[[0, 0, 0, 0],\n",
       "        [0, 0, 0, 0],\n",
       "        [0, 0, 0, 0]],\n",
       "\n",
       "       [[0, 0, 0, 0],\n",
       "        [0, 0, 0, 0],\n",
       "        [0, 0, 0, 0]],\n",
       "\n",
       "       [[0, 0, 0, 0],\n",
       "        [0, 0, 0, 0],\n",
       "        [0, 0, 0, 0]]])"
      ]
     },
     "execution_count": 15,
     "metadata": {},
     "output_type": "execute_result"
    }
   ],
   "source": [
    "np.zeros((3,3,4),dtype=int)"
   ]
  },
  {
   "cell_type": "code",
   "execution_count": 16,
   "id": "3ed5f3f8",
   "metadata": {},
   "outputs": [
    {
     "data": {
      "text/plain": [
       "array([1., 1., 1., 1., 1., 1., 1.])"
      ]
     },
     "execution_count": 16,
     "metadata": {},
     "output_type": "execute_result"
    }
   ],
   "source": [
    "np.ones(7)"
   ]
  },
  {
   "cell_type": "code",
   "execution_count": 17,
   "id": "5e49a6b1",
   "metadata": {},
   "outputs": [
    {
     "data": {
      "text/plain": [
       "array([1, 1, 1, 1, 1, 1, 1])"
      ]
     },
     "execution_count": 17,
     "metadata": {},
     "output_type": "execute_result"
    }
   ],
   "source": [
    "np.ones(7,dtype=int)"
   ]
  },
  {
   "cell_type": "code",
   "execution_count": 18,
   "id": "bc1238fa",
   "metadata": {},
   "outputs": [
    {
     "data": {
      "text/plain": [
       "array([[1, 1, 1],\n",
       "       [1, 1, 1]])"
      ]
     },
     "execution_count": 18,
     "metadata": {},
     "output_type": "execute_result"
    }
   ],
   "source": [
    "np.ones((2,3),dtype=int)"
   ]
  },
  {
   "cell_type": "code",
   "execution_count": 19,
   "id": "a0be111b",
   "metadata": {},
   "outputs": [
    {
     "data": {
      "text/plain": [
       "array([[[1, 1, 1, 1],\n",
       "        [1, 1, 1, 1],\n",
       "        [1, 1, 1, 1]],\n",
       "\n",
       "       [[1, 1, 1, 1],\n",
       "        [1, 1, 1, 1],\n",
       "        [1, 1, 1, 1]]])"
      ]
     },
     "execution_count": 19,
     "metadata": {},
     "output_type": "execute_result"
    }
   ],
   "source": [
    "np.ones((2,3,4),dtype=int)"
   ]
  },
  {
   "cell_type": "code",
   "execution_count": 20,
   "id": "d01eba5f",
   "metadata": {},
   "outputs": [],
   "source": [
    "from numpy import *"
   ]
  },
  {
   "cell_type": "code",
   "execution_count": 22,
   "id": "fe0bf939",
   "metadata": {},
   "outputs": [],
   "source": [
    "a=np.random.randint(2)"
   ]
  },
  {
   "cell_type": "code",
   "execution_count": 23,
   "id": "4799ccd9",
   "metadata": {},
   "outputs": [
    {
     "data": {
      "text/plain": [
       "1"
      ]
     },
     "execution_count": 23,
     "metadata": {},
     "output_type": "execute_result"
    }
   ],
   "source": [
    "a"
   ]
  },
  {
   "cell_type": "code",
   "execution_count": 24,
   "id": "6ad185c2",
   "metadata": {},
   "outputs": [],
   "source": [
    "arr=np.random.randint(0,100,(10,10))"
   ]
  },
  {
   "cell_type": "code",
   "execution_count": 25,
   "id": "920bc825",
   "metadata": {},
   "outputs": [
    {
     "data": {
      "text/plain": [
       "array([[53, 56, 93, 76, 44, 57, 57, 74, 89, 89],\n",
       "       [45, 84, 85,  6, 33, 83, 64, 30, 99, 12],\n",
       "       [38, 13, 77, 89,  6, 75, 81, 98, 43, 46],\n",
       "       [79, 19, 64, 80, 39, 95,  4, 73, 94, 59],\n",
       "       [23, 19, 81, 25, 13, 28, 36, 81, 50, 87],\n",
       "       [73, 56, 80, 43, 29, 54, 43, 80, 60, 64],\n",
       "       [85,  0, 87, 10, 21, 93, 37, 46, 65, 82],\n",
       "       [53, 86, 17, 24, 42, 18, 17, 50, 86, 38],\n",
       "       [ 9, 43, 77, 47, 30, 79, 34, 28, 74, 36],\n",
       "       [95, 52,  8, 39, 19, 64, 54, 90, 68, 79]])"
      ]
     },
     "execution_count": 25,
     "metadata": {},
     "output_type": "execute_result"
    }
   ],
   "source": [
    "arr"
   ]
  },
  {
   "cell_type": "code",
   "execution_count": 26,
   "id": "46338895",
   "metadata": {},
   "outputs": [
    {
     "data": {
      "text/plain": [
       "array([[38, 13, 77, 89,  6, 75, 81, 98, 43, 46]])"
      ]
     },
     "execution_count": 26,
     "metadata": {},
     "output_type": "execute_result"
    }
   ],
   "source": [
    "arr[2:3]"
   ]
  },
  {
   "cell_type": "code",
   "execution_count": 27,
   "id": "85096dd3",
   "metadata": {},
   "outputs": [
    {
     "data": {
      "text/plain": [
       "array([[53, 56, 93, 76, 44, 57, 57, 74, 89, 89],\n",
       "       [45, 84, 85,  6, 33, 83, 64, 30, 99, 12],\n",
       "       [38, 13, 77, 89,  6, 75, 81, 98, 43, 46],\n",
       "       [79, 19, 64, 80, 39, 95,  4, 73, 94, 59]])"
      ]
     },
     "execution_count": 27,
     "metadata": {},
     "output_type": "execute_result"
    }
   ],
   "source": [
    "arr[:4]"
   ]
  },
  {
   "cell_type": "code",
   "execution_count": 28,
   "id": "d6e6b08c",
   "metadata": {},
   "outputs": [
    {
     "data": {
      "text/plain": [
       "85"
      ]
     },
     "execution_count": 28,
     "metadata": {},
     "output_type": "execute_result"
    }
   ],
   "source": [
    "arr[1,2]"
   ]
  },
  {
   "cell_type": "code",
   "execution_count": 29,
   "id": "3d235b82",
   "metadata": {},
   "outputs": [
    {
     "data": {
      "text/plain": [
       "50"
      ]
     },
     "execution_count": 29,
     "metadata": {},
     "output_type": "execute_result"
    }
   ],
   "source": [
    "arr[7,7]"
   ]
  },
  {
   "cell_type": "code",
   "execution_count": 30,
   "id": "11cf0cef",
   "metadata": {},
   "outputs": [
    {
     "data": {
      "text/plain": [
       "array([[53, 56, 93, 76, 44, 57, 57, 74, 89, 89],\n",
       "       [45, 84, 85,  6, 33, 83, 64, 30, 99, 12],\n",
       "       [38, 13, 77, 89,  6, 75, 81, 98, 43, 46],\n",
       "       [79, 19, 64, 80, 39, 95,  4, 73, 94, 59],\n",
       "       [23, 19, 81, 25, 13, 28, 36, 81, 50, 87],\n",
       "       [73, 56, 80, 43, 29, 54, 43, 80, 60, 64],\n",
       "       [85,  0, 87, 10, 21, 93, 37, 46, 65, 82],\n",
       "       [53, 86, 17, 24, 42, 18, 17, 50, 86, 38],\n",
       "       [ 9, 43, 77, 47, 30, 79, 34, 28, 74, 36],\n",
       "       [95, 52,  8, 39, 19, 64, 54, 90, 68, 79]])"
      ]
     },
     "execution_count": 30,
     "metadata": {},
     "output_type": "execute_result"
    }
   ],
   "source": [
    "arr"
   ]
  },
  {
   "cell_type": "code",
   "execution_count": 31,
   "id": "eecd8fee",
   "metadata": {},
   "outputs": [
    {
     "data": {
      "text/plain": [
       "array([[45, 84, 85,  6, 33, 83, 64, 30, 99, 12]])"
      ]
     },
     "execution_count": 31,
     "metadata": {},
     "output_type": "execute_result"
    }
   ],
   "source": [
    "arr[1:2:3]"
   ]
  },
  {
   "cell_type": "code",
   "execution_count": 32,
   "id": "f8891ed2",
   "metadata": {},
   "outputs": [
    {
     "data": {
      "text/plain": [
       "array([[45, 84, 85,  6, 33, 83, 64, 30, 99, 12],\n",
       "       [79, 19, 64, 80, 39, 95,  4, 73, 94, 59]])"
      ]
     },
     "execution_count": 32,
     "metadata": {},
     "output_type": "execute_result"
    }
   ],
   "source": [
    "arr[1:4:2]"
   ]
  },
  {
   "cell_type": "code",
   "execution_count": 34,
   "id": "a607f335",
   "metadata": {},
   "outputs": [
    {
     "data": {
      "text/plain": [
       "array([[45, 84, 85,  6, 33, 83, 64, 30, 99, 12]])"
      ]
     },
     "execution_count": 34,
     "metadata": {},
     "output_type": "execute_result"
    }
   ],
   "source": [
    "arr[1:5:7]"
   ]
  },
  {
   "cell_type": "code",
   "execution_count": null,
   "id": "8c159cb8",
   "metadata": {},
   "outputs": [
    {
     "data": {
      "text/plain": [
       "50"
      ]
     },
     "execution_count": 35,
     "metadata": {},
     "output_type": "execute_result"
    }
   ],
   "source": [
    "arr[7,7]# when we use comma n-1 rule is not followed"
   ]
  },
  {
   "cell_type": "code",
   "execution_count": 36,
   "id": "1788487f",
   "metadata": {},
   "outputs": [
    {
     "data": {
      "text/plain": [
       "array([[53, 56, 93, 76, 44, 57, 57, 74, 89, 89],\n",
       "       [45, 84, 85,  6, 33, 83, 64, 30, 99, 12],\n",
       "       [38, 13, 77, 89,  6, 75, 81, 98, 43, 46],\n",
       "       [79, 19, 64, 80, 39, 95,  4, 73, 94, 59],\n",
       "       [23, 19, 81, 25, 13, 28, 36, 81, 50, 87],\n",
       "       [73, 56, 80, 43, 29, 54, 43, 80, 60, 64],\n",
       "       [85,  0, 87, 10, 21, 93, 37, 46, 65, 82],\n",
       "       [53, 86, 17, 24, 42, 18, 17, 50, 86, 38],\n",
       "       [ 9, 43, 77, 47, 30, 79, 34, 28, 74, 36],\n",
       "       [95, 52,  8, 39, 19, 64, 54, 90, 68, 79]])"
      ]
     },
     "execution_count": 36,
     "metadata": {},
     "output_type": "execute_result"
    }
   ],
   "source": [
    "arr"
   ]
  },
  {
   "cell_type": "code",
   "execution_count": 37,
   "id": "0a34256d",
   "metadata": {},
   "outputs": [
    {
     "data": {
      "text/plain": [
       "43"
      ]
     },
     "execution_count": 37,
     "metadata": {},
     "output_type": "execute_result"
    }
   ],
   "source": [
    "arr[-5,-7]"
   ]
  },
  {
   "cell_type": "code",
   "execution_count": 39,
   "id": "bbb672cf",
   "metadata": {},
   "outputs": [
    {
     "data": {
      "text/plain": [
       "array([[73, 56, 80, 43, 29, 54, 43, 80, 60, 64],\n",
       "       [85,  0, 87, 10, 21, 93, 37, 46, 65, 82],\n",
       "       [53, 86, 17, 24, 42, 18, 17, 50, 86, 38]])"
      ]
     },
     "execution_count": 39,
     "metadata": {},
     "output_type": "execute_result"
    }
   ],
   "source": [
    "arr[-5:-2]"
   ]
  },
  {
   "cell_type": "code",
   "execution_count": 40,
   "id": "4358af56",
   "metadata": {},
   "outputs": [
    {
     "data": {
      "text/plain": [
       "array([[53, 56, 93, 76, 44, 57, 57, 74, 89, 89],\n",
       "       [45, 84, 85,  6, 33, 83, 64, 30, 99, 12],\n",
       "       [38, 13, 77, 89,  6, 75, 81, 98, 43, 46],\n",
       "       [79, 19, 64, 80, 39, 95,  4, 73, 94, 59],\n",
       "       [23, 19, 81, 25, 13, 28, 36, 81, 50, 87],\n",
       "       [73, 56, 80, 43, 29, 54, 43, 80, 60, 64],\n",
       "       [85,  0, 87, 10, 21, 93, 37, 46, 65, 82],\n",
       "       [53, 86, 17, 24, 42, 18, 17, 50, 86, 38],\n",
       "       [ 9, 43, 77, 47, 30, 79, 34, 28, 74, 36],\n",
       "       [95, 52,  8, 39, 19, 64, 54, 90, 68, 79]])"
      ]
     },
     "execution_count": 40,
     "metadata": {},
     "output_type": "execute_result"
    }
   ],
   "source": [
    "arr[:]"
   ]
  },
  {
   "cell_type": "code",
   "execution_count": 41,
   "id": "42e56370",
   "metadata": {},
   "outputs": [
    {
     "data": {
      "text/plain": [
       "array([[95, 52,  8, 39, 19, 64, 54, 90, 68, 79],\n",
       "       [ 9, 43, 77, 47, 30, 79, 34, 28, 74, 36],\n",
       "       [53, 86, 17, 24, 42, 18, 17, 50, 86, 38],\n",
       "       [85,  0, 87, 10, 21, 93, 37, 46, 65, 82],\n",
       "       [73, 56, 80, 43, 29, 54, 43, 80, 60, 64],\n",
       "       [23, 19, 81, 25, 13, 28, 36, 81, 50, 87],\n",
       "       [79, 19, 64, 80, 39, 95,  4, 73, 94, 59],\n",
       "       [38, 13, 77, 89,  6, 75, 81, 98, 43, 46],\n",
       "       [45, 84, 85,  6, 33, 83, 64, 30, 99, 12],\n",
       "       [53, 56, 93, 76, 44, 57, 57, 74, 89, 89]])"
      ]
     },
     "execution_count": 41,
     "metadata": {},
     "output_type": "execute_result"
    }
   ],
   "source": [
    "arr[::-1]"
   ]
  },
  {
   "cell_type": "code",
   "execution_count": 42,
   "id": "9164ddde",
   "metadata": {},
   "outputs": [
    {
     "data": {
      "text/plain": [
       "array([[95, 52,  8, 39, 19, 64, 54, 90, 68, 79],\n",
       "       [53, 86, 17, 24, 42, 18, 17, 50, 86, 38],\n",
       "       [73, 56, 80, 43, 29, 54, 43, 80, 60, 64],\n",
       "       [79, 19, 64, 80, 39, 95,  4, 73, 94, 59],\n",
       "       [45, 84, 85,  6, 33, 83, 64, 30, 99, 12]])"
      ]
     },
     "execution_count": 42,
     "metadata": {},
     "output_type": "execute_result"
    }
   ],
   "source": [
    "arr[::-2]"
   ]
  },
  {
   "cell_type": "code",
   "execution_count": 43,
   "id": "e3ce2881",
   "metadata": {},
   "outputs": [
    {
     "data": {
      "text/plain": [
       "array([[53, 56, 93, 76, 44, 57, 57, 74, 89, 89],\n",
       "       [38, 13, 77, 89,  6, 75, 81, 98, 43, 46],\n",
       "       [23, 19, 81, 25, 13, 28, 36, 81, 50, 87],\n",
       "       [85,  0, 87, 10, 21, 93, 37, 46, 65, 82],\n",
       "       [ 9, 43, 77, 47, 30, 79, 34, 28, 74, 36]])"
      ]
     },
     "execution_count": 43,
     "metadata": {},
     "output_type": "execute_result"
    }
   ],
   "source": [
    "arr[::2]"
   ]
  },
  {
   "cell_type": "code",
   "execution_count": 44,
   "id": "799a69f4",
   "metadata": {},
   "outputs": [
    {
     "data": {
      "text/plain": [
       "array([[53, 56, 93, 76, 44, 57, 57, 74, 89, 89],\n",
       "       [45, 84, 85,  6, 33, 83, 64, 30, 99, 12],\n",
       "       [38, 13, 77, 89,  6, 75, 81, 98, 43, 46],\n",
       "       [79, 19, 64, 80, 39, 95,  4, 73, 94, 59],\n",
       "       [23, 19, 81, 25, 13, 28, 36, 81, 50, 87],\n",
       "       [73, 56, 80, 43, 29, 54, 43, 80, 60, 64],\n",
       "       [85,  0, 87, 10, 21, 93, 37, 46, 65, 82],\n",
       "       [53, 86, 17, 24, 42, 18, 17, 50, 86, 38],\n",
       "       [ 9, 43, 77, 47, 30, 79, 34, 28, 74, 36],\n",
       "       [95, 52,  8, 39, 19, 64, 54, 90, 68, 79]])"
      ]
     },
     "execution_count": 44,
     "metadata": {},
     "output_type": "execute_result"
    }
   ],
   "source": [
    "arr[::]"
   ]
  },
  {
   "cell_type": "code",
   "execution_count": 45,
   "id": "cb24c1d5",
   "metadata": {},
   "outputs": [
    {
     "data": {
      "text/plain": [
       "array([[53, 56, 93, 76, 44, 57, 57, 74, 89, 89],\n",
       "       [45, 84, 85,  6, 33, 83, 64, 30, 99, 12],\n",
       "       [38, 13, 77, 89,  6, 75, 81, 98, 43, 46],\n",
       "       [79, 19, 64, 80, 39, 95,  4, 73, 94, 59],\n",
       "       [23, 19, 81, 25, 13, 28, 36, 81, 50, 87],\n",
       "       [73, 56, 80, 43, 29, 54, 43, 80, 60, 64],\n",
       "       [85,  0, 87, 10, 21, 93, 37, 46, 65, 82],\n",
       "       [53, 86, 17, 24, 42, 18, 17, 50, 86, 38],\n",
       "       [ 9, 43, 77, 47, 30, 79, 34, 28, 74, 36],\n",
       "       [95, 52,  8, 39, 19, 64, 54, 90, 68, 79]])"
      ]
     },
     "execution_count": 45,
     "metadata": {},
     "output_type": "execute_result"
    }
   ],
   "source": [
    "arr[::]"
   ]
  },
  {
   "cell_type": "code",
   "execution_count": 46,
   "id": "ebcf34e0",
   "metadata": {},
   "outputs": [
    {
     "data": {
      "text/plain": [
       "array([[53, 56, 93, 76, 44, 57, 57, 74, 89, 89],\n",
       "       [45, 84, 85,  6, 33, 83, 64, 30, 99, 12],\n",
       "       [38, 13, 77, 89,  6, 75, 81, 98, 43, 46],\n",
       "       [79, 19, 64, 80, 39, 95,  4, 73, 94, 59],\n",
       "       [23, 19, 81, 25, 13, 28, 36, 81, 50, 87],\n",
       "       [73, 56, 80, 43, 29, 54, 43, 80, 60, 64],\n",
       "       [85,  0, 87, 10, 21, 93, 37, 46, 65, 82],\n",
       "       [53, 86, 17, 24, 42, 18, 17, 50, 86, 38],\n",
       "       [ 9, 43, 77, 47, 30, 79, 34, 28, 74, 36],\n",
       "       [95, 52,  8, 39, 19, 64, 54, 90, 68, 79]])"
      ]
     },
     "execution_count": 46,
     "metadata": {},
     "output_type": "execute_result"
    }
   ],
   "source": [
    "arr[:]"
   ]
  },
  {
   "cell_type": "code",
   "execution_count": 47,
   "id": "84c16416",
   "metadata": {},
   "outputs": [
    {
     "data": {
      "text/plain": [
       "array([[53, 56, 93, 76, 44, 57, 57, 74, 89, 89],\n",
       "       [45, 84, 85,  6, 33, 83, 64, 30, 99, 12]])"
      ]
     },
     "execution_count": 47,
     "metadata": {},
     "output_type": "execute_result"
    }
   ],
   "source": [
    "arr[:2]"
   ]
  },
  {
   "cell_type": "code",
   "execution_count": 48,
   "id": "3bec6c6f",
   "metadata": {},
   "outputs": [
    {
     "data": {
      "text/plain": [
       "array([[95, 52,  8, 39, 19, 64, 54, 90, 68, 79],\n",
       "       [53, 86, 17, 24, 42, 18, 17, 50, 86, 38],\n",
       "       [73, 56, 80, 43, 29, 54, 43, 80, 60, 64],\n",
       "       [79, 19, 64, 80, 39, 95,  4, 73, 94, 59],\n",
       "       [45, 84, 85,  6, 33, 83, 64, 30, 99, 12]])"
      ]
     },
     "execution_count": 48,
     "metadata": {},
     "output_type": "execute_result"
    }
   ],
   "source": [
    "arr[::-2]"
   ]
  },
  {
   "cell_type": "code",
   "execution_count": 49,
   "id": "f839c972",
   "metadata": {},
   "outputs": [
    {
     "data": {
      "text/plain": [
       "array([[95, 52,  8, 39, 19, 64, 54, 90, 68, 79],\n",
       "       [ 9, 43, 77, 47, 30, 79, 34, 28, 74, 36],\n",
       "       [53, 86, 17, 24, 42, 18, 17, 50, 86, 38],\n",
       "       [85,  0, 87, 10, 21, 93, 37, 46, 65, 82],\n",
       "       [73, 56, 80, 43, 29, 54, 43, 80, 60, 64],\n",
       "       [23, 19, 81, 25, 13, 28, 36, 81, 50, 87],\n",
       "       [79, 19, 64, 80, 39, 95,  4, 73, 94, 59],\n",
       "       [38, 13, 77, 89,  6, 75, 81, 98, 43, 46],\n",
       "       [45, 84, 85,  6, 33, 83, 64, 30, 99, 12],\n",
       "       [53, 56, 93, 76, 44, 57, 57, 74, 89, 89]])"
      ]
     },
     "execution_count": 49,
     "metadata": {},
     "output_type": "execute_result"
    }
   ],
   "source": [
    "arr[::-1]"
   ]
  },
  {
   "cell_type": "code",
   "execution_count": 50,
   "id": "6bcdc45c",
   "metadata": {},
   "outputs": [
    {
     "data": {
      "text/plain": [
       "99"
      ]
     },
     "execution_count": 50,
     "metadata": {},
     "output_type": "execute_result"
    }
   ],
   "source": [
    "arr.max()"
   ]
  },
  {
   "cell_type": "code",
   "execution_count": 51,
   "id": "1b7601f8",
   "metadata": {},
   "outputs": [
    {
     "data": {
      "text/plain": [
       "0"
      ]
     },
     "execution_count": 51,
     "metadata": {},
     "output_type": "execute_result"
    }
   ],
   "source": [
    "arr.min()"
   ]
  },
  {
   "cell_type": "code",
   "execution_count": 52,
   "id": "f6a2b5b0",
   "metadata": {},
   "outputs": [
    {
     "data": {
      "text/plain": [
       "54.08"
      ]
     },
     "execution_count": 52,
     "metadata": {},
     "output_type": "execute_result"
    }
   ],
   "source": [
    "arr.mean()"
   ]
  },
  {
   "cell_type": "code",
   "execution_count": 53,
   "id": "390b097f",
   "metadata": {},
   "outputs": [
    {
     "ename": "AttributeError",
     "evalue": "'numpy.ndarray' object has no attribute 'median'",
     "output_type": "error",
     "traceback": [
      "\u001b[1;31m---------------------------------------------------------------------------\u001b[0m",
      "\u001b[1;31mAttributeError\u001b[0m                            Traceback (most recent call last)",
      "Cell \u001b[1;32mIn[53], line 1\u001b[0m\n\u001b[1;32m----> 1\u001b[0m arr\u001b[38;5;241m.\u001b[39mmedian()\n",
      "\u001b[1;31mAttributeError\u001b[0m: 'numpy.ndarray' object has no attribute 'median'"
     ]
    }
   ],
   "source": [
    "arr.median()"
   ]
  },
  {
   "cell_type": "code",
   "execution_count": 54,
   "id": "58e51dea",
   "metadata": {},
   "outputs": [
    {
     "data": {
      "text/plain": [
       "array([[53, 56, 93, 76, 44, 57, 57, 74, 89, 89],\n",
       "       [45, 84, 85,  6, 33, 83, 64, 30, 99, 12],\n",
       "       [38, 13, 77, 89,  6, 75, 81, 98, 43, 46],\n",
       "       [79, 19, 64, 80, 39, 95,  4, 73, 94, 59],\n",
       "       [23, 19, 81, 25, 13, 28, 36, 81, 50, 87],\n",
       "       [73, 56, 80, 43, 29, 54, 43, 80, 60, 64],\n",
       "       [85,  0, 87, 10, 21, 93, 37, 46, 65, 82],\n",
       "       [53, 86, 17, 24, 42, 18, 17, 50, 86, 38],\n",
       "       [ 9, 43, 77, 47, 30, 79, 34, 28, 74, 36],\n",
       "       [95, 52,  8, 39, 19, 64, 54, 90, 68, 79]])"
      ]
     },
     "execution_count": 54,
     "metadata": {},
     "output_type": "execute_result"
    }
   ],
   "source": [
    "arr"
   ]
  },
  {
   "cell_type": "code",
   "execution_count": 55,
   "id": "5acebb6f",
   "metadata": {},
   "outputs": [
    {
     "data": {
      "text/plain": [
       "array([[53, 56, 93, 76, 44],\n",
       "       [57, 57, 74, 89, 89],\n",
       "       [45, 84, 85,  6, 33],\n",
       "       [83, 64, 30, 99, 12],\n",
       "       [38, 13, 77, 89,  6],\n",
       "       [75, 81, 98, 43, 46],\n",
       "       [79, 19, 64, 80, 39],\n",
       "       [95,  4, 73, 94, 59],\n",
       "       [23, 19, 81, 25, 13],\n",
       "       [28, 36, 81, 50, 87],\n",
       "       [73, 56, 80, 43, 29],\n",
       "       [54, 43, 80, 60, 64],\n",
       "       [85,  0, 87, 10, 21],\n",
       "       [93, 37, 46, 65, 82],\n",
       "       [53, 86, 17, 24, 42],\n",
       "       [18, 17, 50, 86, 38],\n",
       "       [ 9, 43, 77, 47, 30],\n",
       "       [79, 34, 28, 74, 36],\n",
       "       [95, 52,  8, 39, 19],\n",
       "       [64, 54, 90, 68, 79]])"
      ]
     },
     "execution_count": 55,
     "metadata": {},
     "output_type": "execute_result"
    }
   ],
   "source": [
    "arr.reshape(20,5)"
   ]
  },
  {
   "cell_type": "code",
   "execution_count": 56,
   "id": "692cde7a",
   "metadata": {},
   "outputs": [
    {
     "data": {
      "text/plain": [
       "array([[53, 56],\n",
       "       [93, 76],\n",
       "       [44, 57],\n",
       "       [57, 74],\n",
       "       [89, 89],\n",
       "       [45, 84],\n",
       "       [85,  6],\n",
       "       [33, 83],\n",
       "       [64, 30],\n",
       "       [99, 12],\n",
       "       [38, 13],\n",
       "       [77, 89],\n",
       "       [ 6, 75],\n",
       "       [81, 98],\n",
       "       [43, 46],\n",
       "       [79, 19],\n",
       "       [64, 80],\n",
       "       [39, 95],\n",
       "       [ 4, 73],\n",
       "       [94, 59],\n",
       "       [23, 19],\n",
       "       [81, 25],\n",
       "       [13, 28],\n",
       "       [36, 81],\n",
       "       [50, 87],\n",
       "       [73, 56],\n",
       "       [80, 43],\n",
       "       [29, 54],\n",
       "       [43, 80],\n",
       "       [60, 64],\n",
       "       [85,  0],\n",
       "       [87, 10],\n",
       "       [21, 93],\n",
       "       [37, 46],\n",
       "       [65, 82],\n",
       "       [53, 86],\n",
       "       [17, 24],\n",
       "       [42, 18],\n",
       "       [17, 50],\n",
       "       [86, 38],\n",
       "       [ 9, 43],\n",
       "       [77, 47],\n",
       "       [30, 79],\n",
       "       [34, 28],\n",
       "       [74, 36],\n",
       "       [95, 52],\n",
       "       [ 8, 39],\n",
       "       [19, 64],\n",
       "       [54, 90],\n",
       "       [68, 79]])"
      ]
     },
     "execution_count": 56,
     "metadata": {},
     "output_type": "execute_result"
    }
   ],
   "source": [
    "arr.reshape(50,2)"
   ]
  },
  {
   "cell_type": "code",
   "execution_count": 57,
   "id": "85b267e2",
   "metadata": {},
   "outputs": [
    {
     "data": {
      "text/plain": [
       "array([[53, 56, 93, 76, 44, 57, 57, 74, 89, 89],\n",
       "       [45, 84, 85,  6, 33, 83, 64, 30, 99, 12],\n",
       "       [38, 13, 77, 89,  6, 75, 81, 98, 43, 46],\n",
       "       [79, 19, 64, 80, 39, 95,  4, 73, 94, 59],\n",
       "       [23, 19, 81, 25, 13, 28, 36, 81, 50, 87],\n",
       "       [73, 56, 80, 43, 29, 54, 43, 80, 60, 64],\n",
       "       [85,  0, 87, 10, 21, 93, 37, 46, 65, 82],\n",
       "       [53, 86, 17, 24, 42, 18, 17, 50, 86, 38],\n",
       "       [ 9, 43, 77, 47, 30, 79, 34, 28, 74, 36],\n",
       "       [95, 52,  8, 39, 19, 64, 54, 90, 68, 79]])"
      ]
     },
     "execution_count": 57,
     "metadata": {},
     "output_type": "execute_result"
    }
   ],
   "source": [
    "arr"
   ]
  },
  {
   "cell_type": "code",
   "execution_count": 60,
   "id": "f7821c41",
   "metadata": {},
   "outputs": [
    {
     "data": {
      "text/plain": [
       "array([57, 83, 75, 95, 28, 54, 93, 18, 79, 64])"
      ]
     },
     "execution_count": 60,
     "metadata": {},
     "output_type": "execute_result"
    }
   ],
   "source": [
    "arr[:,5]"
   ]
  },
  {
   "cell_type": "code",
   "execution_count": 58,
   "id": "a04f6c1f",
   "metadata": {},
   "outputs": [],
   "source": [
    "mat=np.arange(0,100).reshape(10,10)"
   ]
  },
  {
   "cell_type": "code",
   "execution_count": 59,
   "id": "caa89fc0",
   "metadata": {},
   "outputs": [
    {
     "data": {
      "text/plain": [
       "array([[ 0,  1,  2,  3,  4,  5,  6,  7,  8,  9],\n",
       "       [10, 11, 12, 13, 14, 15, 16, 17, 18, 19],\n",
       "       [20, 21, 22, 23, 24, 25, 26, 27, 28, 29],\n",
       "       [30, 31, 32, 33, 34, 35, 36, 37, 38, 39],\n",
       "       [40, 41, 42, 43, 44, 45, 46, 47, 48, 49],\n",
       "       [50, 51, 52, 53, 54, 55, 56, 57, 58, 59],\n",
       "       [60, 61, 62, 63, 64, 65, 66, 67, 68, 69],\n",
       "       [70, 71, 72, 73, 74, 75, 76, 77, 78, 79],\n",
       "       [80, 81, 82, 83, 84, 85, 86, 87, 88, 89],\n",
       "       [90, 91, 92, 93, 94, 95, 96, 97, 98, 99]])"
      ]
     },
     "execution_count": 59,
     "metadata": {},
     "output_type": "execute_result"
    }
   ],
   "source": [
    "mat"
   ]
  },
  {
   "cell_type": "code",
   "execution_count": 61,
   "id": "26ebeeb1",
   "metadata": {},
   "outputs": [
    {
     "data": {
      "text/plain": [
       "array([[44, 45, 46, 47, 48],\n",
       "       [54, 55, 56, 57, 58]])"
      ]
     },
     "execution_count": 61,
     "metadata": {},
     "output_type": "execute_result"
    }
   ],
   "source": [
    "mat[4:6,4:9]"
   ]
  },
  {
   "cell_type": "code",
   "execution_count": 62,
   "id": "15a28ac7",
   "metadata": {},
   "outputs": [
    {
     "data": {
      "text/plain": [
       "array([[26],\n",
       "       [36],\n",
       "       [46],\n",
       "       [56],\n",
       "       [66],\n",
       "       [76]])"
      ]
     },
     "execution_count": 62,
     "metadata": {},
     "output_type": "execute_result"
    }
   ],
   "source": [
    "mat[2:8,6:7]"
   ]
  },
  {
   "cell_type": "code",
   "execution_count": 63,
   "id": "8f200638",
   "metadata": {},
   "outputs": [
    {
     "data": {
      "text/plain": [
       "array([[42, 43, 44, 45, 46],\n",
       "       [52, 53, 54, 55, 56]])"
      ]
     },
     "execution_count": 63,
     "metadata": {},
     "output_type": "execute_result"
    }
   ],
   "source": [
    "mat[4:6,2:7]"
   ]
  },
  {
   "cell_type": "code",
   "execution_count": null,
   "id": "34a2ddc8",
   "metadata": {},
   "outputs": [],
   "source": []
  }
 ],
 "metadata": {
  "kernelspec": {
   "display_name": "base",
   "language": "python",
   "name": "python3"
  },
  "language_info": {
   "codemirror_mode": {
    "name": "ipython",
    "version": 3
   },
   "file_extension": ".py",
   "mimetype": "text/x-python",
   "name": "python",
   "nbconvert_exporter": "python",
   "pygments_lexer": "ipython3",
   "version": "3.12.7"
  }
 },
 "nbformat": 4,
 "nbformat_minor": 5
}
